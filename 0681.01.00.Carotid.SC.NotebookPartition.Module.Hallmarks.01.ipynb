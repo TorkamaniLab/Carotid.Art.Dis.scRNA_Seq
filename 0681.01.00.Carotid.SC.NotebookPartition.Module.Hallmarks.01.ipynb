{
 "cells": [
  {
   "cell_type": "code",
   "execution_count": 1,
   "metadata": {},
   "outputs": [],
   "source": [
    "## ---- Partition Cell Set Network Heatmap Module Analysis ---- 0681.01.00\n",
    "## Load Analysis Parameters (Parm1)\n",
    "## Load Network Utilities\n",
    "## Loop Through Each Partition and Perform Analysis as Follows:\n",
    "## Load Partition Cell Set\n",
    "## Plot Module Gene Heatmaps, Heavily Modified version of 681.0x.00"
   ]
  },
  {
   "cell_type": "code",
   "execution_count": 2,
   "metadata": {},
   "outputs": [],
   "source": [
    "## Create a Working Input and Output Data Directory, If Id Does Not Exist\n",
    "parentdir <- '/gpfs/group/torkamani/devans/'\n",
    "datdir <- paste(parentdir, 'CDC2', sep = '')\n",
    "if (!file.exists(datdir)) {\n",
    "    dir.create(datdir)\n",
    "}\n",
    "setwd(datdir)"
   ]
  },
  {
   "cell_type": "code",
   "execution_count": 3,
   "metadata": {},
   "outputs": [],
   "source": [
    "## Read the parameters file\n",
    "ps <- read.table(file = 'parms.txt', stringsAsFactors = FALSE, header = TRUE)"
   ]
  },
  {
   "cell_type": "code",
   "execution_count": 5,
   "metadata": {},
   "outputs": [],
   "source": [
    "## Load Monocle3 and Seurat Libraries\n",
    "library(monocle3)\n",
    "library(Seurat)\n",
    "library(dplyr)\n",
    "library(magrittr)\n",
    "library(ggplot2)\n",
    "library(gridExtra)\n",
    "library(Matrix)\n",
    "library(rhdf5)\n",
    "library(grid)\n",
    "library(igraph)\n",
    "library(corpcor)\n",
    "library(fdrtool)\n",
    "library(readxl)\n",
    "library(mixOmics)"
   ]
  },
  {
   "cell_type": "code",
   "execution_count": 6,
   "metadata": {},
   "outputs": [],
   "source": [
    "## Load modified version of Monocle 3 dot plot (adds as.ordered type)\n",
    "source('~/code/CSC.Run2/0700.00.00.Carotid.SC.Utilities.01.r')"
   ]
  },
  {
   "cell_type": "code",
   "execution_count": 7,
   "metadata": {},
   "outputs": [],
   "source": [
    "## Read the previously preprocessed downsampled cell set data object\n",
    "down_stdycds <- readRDS(file = paste(ps$outdir,\n",
    "            'Aggregated.downsampled.QC.NoDoublets.Repartitioned.rds', sep = ''))"
   ]
  },
  {
   "cell_type": "code",
   "execution_count": 8,
   "metadata": {},
   "outputs": [],
   "source": [
    "## Build a gene short name to gene id (Ensembl) lookup\n",
    "short2geneid <- fData(down_stdycds)@rownames\n",
    "names(short2geneid) <- fData(down_stdycds)@listData$gene_short_name"
   ]
  },
  {
   "cell_type": "code",
   "execution_count": 9,
   "metadata": {},
   "outputs": [],
   "source": [
    "## Build a gene id (Ensembl) to gene short name lookup\n",
    "geneid2short <- fData(down_stdycds)@listData$gene_short_name\n",
    "names(geneid2short) <- fData(down_stdycds)@rownames"
   ]
  },
  {
   "cell_type": "code",
   "execution_count": 10,
   "metadata": {},
   "outputs": [],
   "source": [
    "## Create variables for how cells sets are organized\n",
    "cellgrps <- c('healthy', 'diseased', 'healthy', 'diseased', 'healthy', 'diseased')\n",
    "cellpats <- c('ID Number 1', 'ID Number 1', 'ID Number 2', 'ID Number 2', 'ID Number 3', 'ID Number 3')"
   ]
  },
  {
   "cell_type": "code",
   "execution_count": 11,
   "metadata": {},
   "outputs": [],
   "source": [
    "## Define and Assign Cell Types\n",
    "celltypes6 <- c('1-Macrophages',\n",
    "                '2-Endothelial Cells',\n",
    "                '3-VSMCs',\n",
    "                '4-Natural Killer Cells',\n",
    "                '5-Cytotoxic T Lymphocytes',\n",
    "                '6-B Lymphocytes')"
   ]
  },
  {
   "cell_type": "code",
   "execution_count": 209,
   "metadata": {},
   "outputs": [],
   "source": [
    "## Get the pairs of module genes from EC (1 and 36) and VSCM (13 and 31) networks\n",
    "## Set the q-value Cutoff\n",
    "diff_exp_qval_cut <- 0.05\n",
    "## EC Genes First\n",
    "ec_netmod_file <- paste(datdir, '/', ps$outdir, celltypes6[2],\n",
    "                          '/Dense.20k.Network.Module.Genes.Rev1.txt', sep = '')\n",
    "ec_netmod <- read.table(ec_netmod_file, header = TRUE, sep = '\\t',\n",
    "                          stringsAsFactors = FALSE, quote = '')[, c(1, 3:9)]\n",
    "ec_modgenes1 <- ec_netmod %>% filter(de_qval < diff_exp_qval_cut) %>% \n",
    "                              filter(module_id == 1) %>% \n",
    "                              dplyr::select(gene_short_name, de_norm_eff, de_qval)\n",
    "ec_modgenes2 <- ec_netmod %>% filter(de_qval < diff_exp_qval_cut) %>% \n",
    "                              filter(module_id == 2) %>% \n",
    "                              dplyr::select(gene_short_name, de_norm_eff, de_qval)\n",
    "ec_modgenes6 <- ec_netmod %>% filter(de_qval < diff_exp_qval_cut) %>% \n",
    "                              filter(module_id == 6) %>% \n",
    "                              dplyr::select(gene_short_name, de_norm_eff, de_qval)\n",
    "ec_modgenes35 <- ec_netmod %>% filter(de_qval < diff_exp_qval_cut) %>% \n",
    "                              filter(module_id == 35) %>% \n",
    "                              dplyr::select(gene_short_name, de_norm_eff, de_qval)\n",
    "ec_modgenes36 <- ec_netmod %>% filter(de_qval < diff_exp_qval_cut) %>% \n",
    "                              filter(module_id == 36) %>% \n",
    "                              dplyr::select(gene_short_name, de_norm_eff, de_qval)\n",
    "\n",
    "ec_modgenes1_ids <- short2geneid[ec_modgenes1$gene_short_name]\n",
    "ec_modgenes36_ids <- short2geneid[ec_modgenes36$gene_short_name]\n",
    "\n",
    "ec_modgenes_1_36 <- c(ec_modgenes1$gene_short_name,\n",
    "                      ec_modgenes36$gene_short_name)\n",
    "ec_modgenes_1_36_ids <- short2geneid[ec_modgenes_1_36]\n",
    "\n",
    "ec_modgenes_1_35_36 <- c(ec_modgenes1$gene_short_name,\n",
    "                         ec_modgenes35$gene_short_name,\n",
    "                         ec_modgenes36$gene_short_name)\n",
    "\n",
    "ec_modgenes_1_2_6_35_36 <- c(ec_modgenes1$gene_short_name,\n",
    "                         ec_modgenes2$gene_short_name, \n",
    "                         ec_modgenes6$gene_short_name, \n",
    "                         ec_modgenes35$gene_short_name,\n",
    "                         ec_modgenes36$gene_short_name)\n",
    "\n",
    "ec_modgenes_1_35_36_ids <-  short2geneid[ec_modgenes_1_35_36]\n",
    "ec_modgenes_1_2_6_35_36_ids <-  short2geneid[ec_modgenes_1_2_6_35_36]\n",
    "\n",
    "\n",
    "## VSMC Genes Seconds\n",
    "vsmc_netmod_file <- paste(datdir, '/', ps$outdir, celltypes6[3],\n",
    "                          '/Dense.20k.Network.Module.Genes.Rev1.txt', sep = '')\n",
    "vsmc_netmod <- read.table(vsmc_netmod_file, header = TRUE, sep = '\\t',\n",
    "                          stringsAsFactors = FALSE, quote = '')[, c(1, 3:9)]\n",
    "vsmc_modgenes9 <- vsmc_netmod %>% filter(de_qval < diff_exp_qval_cut) %>% \n",
    "                              filter(module_id == 9) %>% \n",
    "                              dplyr::select(gene_short_name, de_norm_eff, de_qval)\n",
    "vsmc_modgenes11 <- vsmc_netmod %>% filter(de_qval < diff_exp_qval_cut) %>% \n",
    "                              filter(module_id == 11) %>% \n",
    "                              dplyr::select(gene_short_name, de_norm_eff, de_qval)\n",
    "vsmc_modgenes13 <- vsmc_netmod %>% filter(de_qval < diff_exp_qval_cut) %>% \n",
    "                              filter(module_id == 13) %>% \n",
    "                              dplyr::select(gene_short_name, de_norm_eff, de_qval)\n",
    "vsmc_modgenes24 <- vsmc_netmod %>% filter(de_qval < diff_exp_qval_cut) %>% \n",
    "                              filter(module_id == 24) %>% \n",
    "                              dplyr::select(gene_short_name, de_norm_eff, de_qval)\n",
    "vsmc_modgenes28 <- vsmc_netmod %>% filter(de_qval < diff_exp_qval_cut) %>% \n",
    "                              filter(module_id == 28) %>% \n",
    "                              dplyr::select(gene_short_name, de_norm_eff, de_qval)\n",
    "vsmc_modgenes30 <- vsmc_netmod %>% filter(de_qval < diff_exp_qval_cut) %>% \n",
    "                              filter(module_id == 30) %>% \n",
    "                              dplyr::select(gene_short_name, de_norm_eff, de_qval)\n",
    "vsmc_modgenes31 <- vsmc_netmod %>% filter(de_qval < diff_exp_qval_cut) %>% \n",
    "                              filter(module_id == 31) %>% \n",
    "                              dplyr::select(gene_short_name, de_norm_eff, de_qval)\n",
    "vsmc_modgenes_13_31 <- c(vsmc_modgenes13$gene_short_name, vsmc_modgenes31$gene_short_name)\n",
    "vsmc_modgenes13_ids <- short2geneid[vsmc_modgenes13$gene_short_name]\n",
    "vsmc_modgenes31_ids <- short2geneid[vsmc_modgenes31$gene_short_name]\n",
    "vsmc_modgenes_13_31_ids <- short2geneid[vsmc_modgenes_13_31]\n",
    "vsmc_modgenes_11_30 <- c(vsmc_modgenes11$gene_short_name,\n",
    "                         vsmc_modgenes30$gene_short_name)\n",
    "vsmc_modgenes_11_35_ids <- short2geneid[vsmc_modgenes_11_30]\n",
    "\n",
    "vsmc_modgenes_11_13_30_31 <- c(vsmc_modgenes11$gene_short_name,\n",
    "                              vsmc_modgenes13$gene_short_name,\n",
    "                              vsmc_modgenes30$gene_short_name,\n",
    "                              vsmc_modgenes31$gene_short_name)\n",
    "\n",
    "vsmc_modgenes_9_11_13_30_31 <- c(vsmc_modgenes9$gene_short_name,\n",
    "                              vsmc_modgenes11$gene_short_name,\n",
    "                              vsmc_modgenes13$gene_short_name,\n",
    "                              vsmc_modgenes30$gene_short_name,\n",
    "                              vsmc_modgenes31$gene_short_name)\n",
    "\n",
    "vsmc_modgenes_9_11_13_24_28_30_31 <- c(vsmc_modgenes9$gene_short_name,\n",
    "                              vsmc_modgenes11$gene_short_name,\n",
    "                              vsmc_modgenes13$gene_short_name,\n",
    "                              vsmc_modgenes24$gene_short_name,\n",
    "                              vsmc_modgenes28$gene_short_name,\n",
    "                              vsmc_modgenes30$gene_short_name,\n",
    "                              vsmc_modgenes31$gene_short_name)\n",
    "\n",
    "vsmc_modgenes_9_11_13_24_28_30_31_plus2 <- c(vsmc_modgenes_9_11_13_24_28_30_31, 'CCL4', 'IGKC')\n",
    "\n",
    "\n",
    "vsmc_modgenes_11_13_30_31_ids <- short2geneid[vsmc_modgenes_11_13_30_31]\n",
    "vsmc_modgenes_9_11_13_30_31_ids <- short2geneid[vsmc_modgenes_9_11_13_30_31] \n",
    "vsmc_modgenes_9_11_13_24_28_30_31_ids <- short2geneid[vsmc_modgenes_9_11_13_24_28_30_31] \n",
    "vsmc_modgenes_9_11_13_24_28_30_31_plus2_ids <- short2geneid[vsmc_modgenes_9_11_13_24_28_30_31_plus2] \n",
    "\n",
    "## These variables are the same as above\n",
    "vsmc_modgenes_11_30a <- c('TMSB4X', 'FXYD5', 'MYH10', 'RAMP1', 'ANXA2',\n",
    "                  'TSC22D3', 'F2R', 'SFRP4', 'ECM1', 'ABHD14A',\n",
    "                  'JDP2', 'DDIT4', 'VAT1', 'ABLIM1', 'S100A10',\n",
    "                  'ZNF385D', 'FRZB', 'MAP1B', 'ZNF385B', 'GAP43',\n",
    "                  'PDE5A', 'PRSS35', 'CCDC68', 'SH3BGRL3', 'UXT',\n",
    "                  'CDKN2C', 'LMO7', 'ENPP2', 'NDNF', 'MCUB', 'HTR2B',\n",
    "                  'MBNL1-AS1', 'TBC1D12', 'PTN', 'IL17D', 'SFT2D1',\n",
    "                  'IGSF10', 'BHLHE41', 'NUCKS1', 'HACD3', 'IL18',\n",
    "                  'TPPP3', 'EMP3', 'CLIC2', 'ATF5', 'MSC-AS1', 'FBLN2',\n",
    "                  'LTBP4', 'F10', 'FSTL1', 'FBN1', 'TNXB', 'PCOLCE2',\n",
    "                  'PLAT', 'PLPP3', 'SLIT3', 'CD248', 'AKAP12', 'PLBD1',\n",
    "                  'SEMA3C', 'MFAP5', 'C17orf58', 'METRNL', 'UGDH',\n",
    "                  'HSD11B1', 'TGFBR3', 'TSKU', 'FLRT2', 'SEMA3B',\n",
    "                  'PI16', 'RAB32', 'DCLK1', 'CD55', 'LINC01133',\n",
    "                  'FGFR1', 'CSF1', 'SLC16A7', 'NT5E', 'ADAMTSL4',\n",
    "                  'HTRA3', 'FAM177A1', 'C1QTNF3', 'PPP2R2A', 'GPC1',\n",
    "                  'EBF2', 'AMOTL2', 'NTM', 'CMTM3', 'CADM3')\n",
    "vsmc_modgenes_11_30a_ids <- short2geneid[vsmc_modgenes_11_30]\n",
    "\n",
    "ec_modgenes_35a <- c('FEZ1', 'OLFM1', 'ARHGAP18', 'COL4A1', 'MEDAG', 'COL4A2',\n",
    "             'PDGFD', 'IGFBP7', 'RGS3', 'PGF', 'ITGA6', 'MGLL', 'ACKR3',\n",
    "             'ANGPT2', 'PLXNA4', 'EMCN', 'TIMP3', 'GSN', 'FILIP1', 'LAMB1',\n",
    "             'ELK3', 'ARPC2', 'NES', 'MXD4', 'PLVAP', 'ESM1', 'CITED4',\n",
    "             'TMED3', 'EIF4EBP1', 'RFLNB')\n",
    "ec_modgenes_35a_ids <- short2geneid[ec_modgenes_35a]"
   ]
  },
  {
   "cell_type": "code",
   "execution_count": 166,
   "metadata": {},
   "outputs": [
    {
     "data": {
      "text/html": [
       "232"
      ],
      "text/latex": [
       "232"
      ],
      "text/markdown": [
       "232"
      ],
      "text/plain": [
       "[1] 232"
      ]
     },
     "metadata": {},
     "output_type": "display_data"
    }
   ],
   "source": []
  },
  {
   "cell_type": "markdown",
   "metadata": {},
   "source": [
    "## EC EMT + TNF  (Modules 1 and 36)"
   ]
  },
  {
   "cell_type": "code",
   "execution_count": 118,
   "metadata": {},
   "outputs": [
    {
     "data": {
      "text/plain": [
       "\n",
       "blue  red \n",
       " 449  449 "
      ]
     },
     "metadata": {},
     "output_type": "display_data"
    },
    {
     "data": {
      "text/html": [
       "<strong>png:</strong> 2"
      ],
      "text/latex": [
       "\\textbf{png:} 2"
      ],
      "text/markdown": [
       "**png:** 2"
      ],
      "text/plain": [
       "png \n",
       "  2 "
      ]
     },
     "metadata": {},
     "output_type": "display_data"
    },
    {
     "data": {
      "text/html": [
       "<strong>png:</strong> 2"
      ],
      "text/latex": [
       "\\textbf{png:} 2"
      ],
      "text/markdown": [
       "**png:** 2"
      ],
      "text/plain": [
       "png \n",
       "  2 "
      ]
     },
     "metadata": {},
     "output_type": "display_data"
    },
    {
     "data": {
      "text/html": [
       "<strong>png:</strong> 2"
      ],
      "text/latex": [
       "\\textbf{png:} 2"
      ],
      "text/markdown": [
       "**png:** 2"
      ],
      "text/plain": [
       "png \n",
       "  2 "
      ]
     },
     "metadata": {},
     "output_type": "display_data"
    }
   ],
   "source": [
    "## Get the Expression Set for EC Module 1 and 36 DE Genes\n",
    "p <- 2\n",
    "ec_bool <- (colData(down_stdycds)$assigned_cell_type == celltypes6[p])\n",
    "ecmod_cds <- down_stdycds[fData(down_stdycds)@rownames %in% ec_modgenes_1_36_ids, ec_bool]\n",
    "colData(ecmod_cds)$condtype <- paste('ec',\n",
    "    c('hea', 'dis')[(colData(ecmod_cds)$condition == 'diseased') + 1], sep = '-')\n",
    "colData(ecmod_cds)$sidecolor[colData(ecmod_cds)$condtype == 'ec-dis'] <- 'red'\n",
    "colData(ecmod_cds)$sidecolor[colData(ecmod_cds)$condtype == 'ec-hea'] <- 'blue'\n",
    "colData(ecmod_cds)$sidecolor[colData(ecmod_cds)$condtype == 'vsmc-dis'] <- 'orange'\n",
    "colData(ecmod_cds)$sidecolor[colData(ecmod_cds)$condtype == 'vsmc-hea'] <- 'cyan'\n",
    "cttable <- table(colData(ecmod_cds)$sidecolor)\n",
    "smallset <- min(cttable)\n",
    "cells2keep <- NULL\n",
    "set.seed(101)\n",
    "for (cellset_col in names(cttable)) {\n",
    "    cellsetrow <-  which(colData(ecmod_cds)$sidecolor == cellset_col)\n",
    "    cells2keep <- c(cells2keep, sample(cellsetrow, smallset, replace = FALSE))\n",
    "}\n",
    "ecmod_cds <- ecmod_cds[, cells2keep] \n",
    "\n",
    "table(colData(ecmod_cds)$sidecolor)\n",
    "expdat_ecmod <- as.matrix(exprs(ecmod_cds))\n",
    "rownames(expdat_ecmod) <- geneid2short[rownames(expdat_ecmod)] \n",
    "\n",
    "## This is a new round of heatmaps, with new genes and down sampled cell tpyes\n",
    "f1 <- '/Heatmap.EC.EMT_TNF.Genes.comp.bin.comp.bin.down.OnOff2Plus.preclustered.Rev1.pdf'\n",
    "f1 <- paste(datdir, '/', ps$outdir, celltypes6[p], f1, sep = '')\n",
    "title1 <- 'Endothelial Network EMT and TNF \\n(Module 1 and 36) Genes Cells Pre-Clustered'\n",
    "\n",
    "f2 <- '/Heatmap.EC.EMT_TNF.Genes.comp.bin.comp.bin.down.OnOff2Plus.fullyclustered.Rev1.pdf'\n",
    "f2 <- paste(datdir, '/', ps$outdir, celltypes6[p], f2, sep = '')\n",
    "title2 <-  'Endothelial Network EMT and TNF\\n (Module 1 and 36) Genes Cells Fully Clustered'\n",
    "\n",
    "f3 <- '/DotPlot.EC.EMT_TNF.Genes.Rev1.pdf'\n",
    "f3 <- paste(datdir, '/', ps$outdir, celltypes6[p], f3, sep = '')\n",
    "\n",
    "ec_dw <- which(colData(ecmod_cds)$condtype == 'ec-dis')\n",
    "ec_hw <- which(colData(ecmod_cds)$condtype == 'ec-hea')\n",
    "dims <- dim(expdat_ecmod)\n",
    "expdatbo <- (expdat_ecmod > 1) * 1\n",
    "distmeth <- c('binary', 'binary')\n",
    "clustmeth = c('complete', 'complete')\n",
    "my_palettebol <- colorRampPalette(c('#660066', 'yellow'))(n = 2)\n",
    "legendlstbol <- list(legend = c('EC DIS', 'EC HEA'),\n",
    "              col = c('red', 'blue'), title = 'Cell Types', cex = .7)\n",
    "\n",
    "ec_dcim <- cim(expdatbo[, ec_dw], dist.method = distmeth, clust.method = clustmeth,\n",
    "    scale = \"FALSE\", center = \"FALSE\", col.names = FALSE, legend = legendlstbol,\n",
    "    color = my_palettebol, cluster = 'col',\n",
    "    col.sideColors = colData(ecmod_cds)$sidecolor[ec_dw],\n",
    "    symkey = FALSE, save = 'pdf', name.save = 'temp.ready.to.delete')\n",
    "ec_hcim <- cim(expdatbo[, ec_hw], dist.method = distmeth, clust.method = clustmeth,\n",
    "    scale = \"FALSE\", center = \"FALSE\", col.names = FALSE, legend = legendlstbol,\n",
    "    color = my_palettebol, cluster = 'col',\n",
    "    col.sideColors = colData(ecmod_cds)$sidecolor[ec_hw],\n",
    "    symkey = FALSE, save = 'pdf', name.save = 'temp.ready.to.delete')\n",
    "\n",
    "## The is the combined cell types, plotted with only genes fully clustered\n",
    "parthclust <- c(colnames(ec_dcim$mat), colnames(ec_hcim$mat))\n",
    "colornames <-colData(ecmod_cds)$sidecolor\n",
    "names(colornames) <- colnames(expdatbo)\n",
    "cim(expdatbo[, parthclust], dist.method = distmeth, clust.method = clustmeth,\n",
    "    scale = \"FALSE\", center = \"FALSE\", col.names = FALSE, legend = legendlstbol,\n",
    "    color = my_palettebol, cluster = 'row',\n",
    "    col.sideColors = colornames[parthclust],\n",
    "    symkey = FALSE, save = 'pdf', name.save = 'temp.ready.to.delete')\n",
    "\n",
    "## Repeated from above, this time to a file\n",
    "pdf(f1, width = 8, height = 18)\n",
    "cim_row <-cim(expdatbo[, parthclust], dist.method = distmeth, clust.method = clustmeth,\n",
    "    scale = \"FALSE\", center = \"FALSE\", col.names = FALSE, legend = legendlstbol,\n",
    "    color = my_palettebol, cluster = 'row', title = title1,\n",
    "    col.sideColors = colornames[parthclust],\n",
    "    symkey = FALSE)\n",
    "dev.off()\n",
    "\n",
    "## The is again the combined cell types, plotted with both genes and cells fully clustered\n",
    "cim(expdatbo[, parthclust], dist.method = distmeth, clust.method = clustmeth,\n",
    "    scale = \"FALSE\", center = \"FALSE\", col.names = FALSE, legend = legendlstbol,\n",
    "    color = my_palettebol, cluster = 'both',\n",
    "    col.sideColors = colornames[parthclust],\n",
    "    symkey = FALSE, save = 'pdf', name.save = 'temp.ready.to.delete')\n",
    "\n",
    "## Repeated from above, this time to a file\n",
    "pdf(f2, width = 8, height = 18)\n",
    "cim(expdatbo[, parthclust], dist.method = distmeth, clust.method = clustmeth,\n",
    "    scale = \"FALSE\", center = \"FALSE\", col.names = FALSE, legend = legendlstbol,\n",
    "    color = my_palettebol, cluster = 'both', title = title2,\n",
    "    col.sideColors = colornames[parthclust],\n",
    "    symkey = FALSE)\n",
    "dev.off()\n",
    "\n",
    "## Dot Plot Based on Genes Order\n",
    "specialglist <- specialglist <- short2geneid[cim_row$row.names]\n",
    "# str(specialglist)\n",
    "pdf(f3, width = 2.75, height = 18)\n",
    "plot_genes_by_group2(ecmod_cds,\n",
    "                    axis_order = \"group_marker\",\n",
    "                    specialglist,\n",
    "                    group_cells_by = \"condtype\",\n",
    "                    ordering_type = \"as_ordered\", \n",
    "                    max.size = 3,\n",
    "                    norm_method = 'size_only',\n",
    "                    scale_max = 3, scale_min = -3)\n",
    "dev.off()"
   ]
  },
  {
   "cell_type": "code",
   "execution_count": null,
   "metadata": {},
   "outputs": [],
   "source": []
  },
  {
   "cell_type": "code",
   "execution_count": null,
   "metadata": {},
   "outputs": [],
   "source": []
  },
  {
   "cell_type": "code",
   "execution_count": null,
   "metadata": {},
   "outputs": [],
   "source": []
  },
  {
   "cell_type": "code",
   "execution_count": null,
   "metadata": {},
   "outputs": [],
   "source": []
  },
  {
   "cell_type": "markdown",
   "metadata": {},
   "source": [
    "## VSMC EMT + TNF  (Modules 13 and 31)"
   ]
  },
  {
   "cell_type": "code",
   "execution_count": 119,
   "metadata": {},
   "outputs": [
    {
     "data": {
      "text/plain": [
       "\n",
       "  cyan orange \n",
       "  1223   1223 "
      ]
     },
     "metadata": {},
     "output_type": "display_data"
    },
    {
     "data": {
      "text/html": [
       "<strong>png:</strong> 2"
      ],
      "text/latex": [
       "\\textbf{png:} 2"
      ],
      "text/markdown": [
       "**png:** 2"
      ],
      "text/plain": [
       "png \n",
       "  2 "
      ]
     },
     "metadata": {},
     "output_type": "display_data"
    },
    {
     "data": {
      "text/html": [
       "<strong>png:</strong> 2"
      ],
      "text/latex": [
       "\\textbf{png:} 2"
      ],
      "text/markdown": [
       "**png:** 2"
      ],
      "text/plain": [
       "png \n",
       "  2 "
      ]
     },
     "metadata": {},
     "output_type": "display_data"
    },
    {
     "data": {
      "text/html": [
       "<strong>png:</strong> 2"
      ],
      "text/latex": [
       "\\textbf{png:} 2"
      ],
      "text/markdown": [
       "**png:** 2"
      ],
      "text/plain": [
       "png \n",
       "  2 "
      ]
     },
     "metadata": {},
     "output_type": "display_data"
    }
   ],
   "source": [
    "## Get the Expression Set for VSMC Module 13 and 31 DE Genes\n",
    "p <- 3\n",
    "vsmc_bool <- (colData(down_stdycds)$assigned_cell_type == celltypes6[p])\n",
    "vsmcmod_cds <- down_stdycds[fData(down_stdycds)@rownames %in% vsmc_modgenes_13_31_ids, vsmc_bool]\n",
    "colData(vsmcmod_cds)$condtype <- paste('vsmc',\n",
    "    c('hea', 'dis')[(colData(vsmcmod_cds)$condition == 'diseased') + 1], sep = '-')\n",
    "colData(vsmcmod_cds)$sidecolor[colData(vsmcmod_cds)$condtype == 'ec-dis'] <- 'red'\n",
    "colData(vsmcmod_cds)$sidecolor[colData(vsmcmod_cds)$condtype == 'ec-hea'] <- 'blue'\n",
    "colData(vsmcmod_cds)$sidecolor[colData(vsmcmod_cds)$condtype == 'vsmc-dis'] <- 'orange'\n",
    "colData(vsmcmod_cds)$sidecolor[colData(vsmcmod_cds)$condtype == 'vsmc-hea'] <- 'cyan'\n",
    "cttable <- table(colData(vsmcmod_cds)$sidecolor)\n",
    "smallset <- min(cttable)\n",
    "cells2keep <- NULL\n",
    "set.seed(101)\n",
    "for (cellset_col in names(cttable)) {\n",
    "    cellsetrow <-  which(colData(vsmcmod_cds)$sidecolor == cellset_col)\n",
    "    cells2keep <- c(cells2keep, sample(cellsetrow, smallset, replace = FALSE))\n",
    "}\n",
    "vsmcmod_cds <- vsmcmod_cds[, cells2keep] \n",
    "\n",
    "table(colData(vsmcmod_cds)$sidecolor)\n",
    "expdat_vsmcmod <- as.matrix(exprs(vsmcmod_cds))\n",
    "rownames(expdat_vsmcmod) <- geneid2short[rownames(expdat_vsmcmod)] \n",
    "\n",
    "## This Code Plots the EC Cell Type with EMT and TNF Network Module Genes\n",
    "f1 <- '/Heatmap.VSMC.EMT_TNF.Genes.comp.bin.comp.bin.down.OnOff2Plus.preclustered.Rev1.pdf'\n",
    "f1 <- paste(datdir, '/', ps$outdir, celltypes6[p], f1, sep = '')\n",
    "title1 <- 'VSMC Network EMT and TNF (Module 13 and 31)\\nGenes, Cells Pre-Clustered'\n",
    "\n",
    "f2 <- '/Heatmap.VSMC.EMT_TNF.Genes.comp.bin.comp.bin.down.OnOff2Plus.fullyclustered.Rev1.pdf'\n",
    "f2 <- paste(datdir, '/', ps$outdir, celltypes6[p], f2, sep = '')\n",
    "title2 <-  'VSMC Network EMT and TNF (Module 13 and 31)\\nGenes, Cells Fully Clustered'\n",
    "\n",
    "f3 <- '/DotPlot.VSMC.EMT_TNF.Genes.Rev1.pdf'\n",
    "f3 <- paste(datdir, '/', ps$outdir, celltypes6[p], f3, sep = '')\n",
    "\n",
    "vsmc_dw <- which(colData(vsmcmod_cds)$condtype == 'vsmc-dis')\n",
    "vsmc_hw <- which(colData(vsmcmod_cds)$condtype == 'vsmc-hea')\n",
    "dims <- dim(expdat_vsmcmod)\n",
    "expdatbo <- (expdat_vsmcmod > 1) * 1\n",
    "distmeth <- c('binary', 'binary')\n",
    "clustmeth = c('complete', 'complete')\n",
    "my_palettebol <- colorRampPalette(c('#660066', 'yellow'))(n = 2)\n",
    "legendlstbol <- list(legend = c('VSMC DIS', 'VSMC HEA'),\n",
    "              col = c('orange', 'cyan'), title = 'Cell Types', cex = .7)\n",
    "\n",
    "vsmc_dcim <- cim(expdatbo[, vsmc_dw], dist.method = distmeth, clust.method = clustmeth,\n",
    "    scale = \"FALSE\", center = \"FALSE\", col.names = FALSE, legend = legendlstbol,\n",
    "    color = my_palettebol, cluster = 'col', save = 'pdf', name.save = 'temp.ready.to.delete',\n",
    "    col.sideColors = colData(vsmcmod_cds)$sidecolor[vsmc_dw],\n",
    "    symkey = FALSE)\n",
    "vsmc_hcim <- cim(expdatbo[, vsmc_hw], dist.method = distmeth, clust.method = clustmeth,\n",
    "    scale = \"FALSE\", center = \"FALSE\", col.names = FALSE, legend = legendlstbol,\n",
    "    color = my_palettebol, cluster = 'col', save = 'pdf', name.save = 'temp.ready.to.delete',\n",
    "    col.sideColors = colData(vsmcmod_cds)$sidecolor[vsmc_hw],\n",
    "    symkey = FALSE)\n",
    "\n",
    "## The is the combined cell types, plotted with only genes fully clustered\n",
    "parthclust <- c(colnames(vsmc_dcim$mat), colnames(vsmc_hcim$mat))\n",
    "colornames <-colData(vsmcmod_cds)$sidecolor\n",
    "names(colornames) <- colnames(expdatbo)\n",
    "cim(expdatbo[, parthclust], dist.method = distmeth, clust.method = clustmeth,\n",
    "    scale = \"FALSE\", center = \"FALSE\", col.names = FALSE, legend = legendlstbol,\n",
    "    color = my_palettebol, cluster = 'row', save = 'pdf', name.save = 'temp.ready.to.delete',\n",
    "    col.sideColors = colornames[parthclust],\n",
    "    symkey = FALSE)\n",
    "\n",
    "## Repeated from above, this time to a file\n",
    "pdf(f1, width = 8, height = 18)\n",
    "cim_row <-cim(expdatbo[, parthclust], dist.method = distmeth, clust.method = clustmeth,\n",
    "    scale = \"FALSE\", center = \"FALSE\", col.names = FALSE, legend = legendlstbol,\n",
    "    color = my_palettebol, cluster = 'row', title = title1,\n",
    "    col.sideColors = colornames[parthclust],\n",
    "    symkey = FALSE)\n",
    "dev.off()\n",
    "\n",
    "## The is again the combined cell types, plotted with both genes and cells fully clustered\n",
    "cim(expdatbo[, parthclust], dist.method = distmeth, clust.method = clustmeth,\n",
    "    scale = \"FALSE\", center = \"FALSE\", col.names = FALSE, legend = legendlstbol,\n",
    "    color = my_palettebol, cluster = 'both', save = 'pdf', name.save = 'temp.ready.to.delete',\n",
    "    col.sideColors = colornames[parthclust], \n",
    "    symkey = FALSE)\n",
    "\n",
    "## Repeated from above, this time to a file\n",
    "pdf(f2, width = 8, height = 18)\n",
    "cim(expdatbo[, parthclust], dist.method = distmeth, clust.method = clustmeth,\n",
    "    scale = \"FALSE\", center = \"FALSE\", col.names = FALSE, legend = legendlstbol,\n",
    "    color = my_palettebol, cluster = 'both', title = title2,\n",
    "    col.sideColors = colornames[parthclust], \n",
    "    symkey = FALSE)\n",
    "dev.off()\n",
    "\n",
    "specialglist <- specialglist <- short2geneid[cim_row$row.names]\n",
    "# str(specialglist)\n",
    "pdf(f3, width = 2.75, height = 18)\n",
    "plot_genes_by_group2(vsmcmod_cds,\n",
    "                    axis_order = \"group_marker\",\n",
    "                    specialglist,\n",
    "                    group_cells_by = \"condtype\",\n",
    "                    ordering_type = \"as_ordered\", \n",
    "                    max.size = 3,\n",
    "                    norm_method = 'size_only',\n",
    "                    scale_max = 3, scale_min = -3)\n",
    "dev.off()"
   ]
  },
  {
   "cell_type": "code",
   "execution_count": null,
   "metadata": {},
   "outputs": [],
   "source": []
  },
  {
   "cell_type": "code",
   "execution_count": null,
   "metadata": {},
   "outputs": [],
   "source": []
  },
  {
   "cell_type": "code",
   "execution_count": null,
   "metadata": {},
   "outputs": [],
   "source": []
  },
  {
   "cell_type": "code",
   "execution_count": null,
   "metadata": {},
   "outputs": [],
   "source": []
  },
  {
   "cell_type": "code",
   "execution_count": null,
   "metadata": {},
   "outputs": [],
   "source": []
  },
  {
   "cell_type": "code",
   "execution_count": null,
   "metadata": {},
   "outputs": [],
   "source": []
  },
  {
   "cell_type": "markdown",
   "metadata": {},
   "source": [
    "## EC EMT (Module 1) "
   ]
  },
  {
   "cell_type": "code",
   "execution_count": 121,
   "metadata": {},
   "outputs": [
    {
     "data": {
      "text/plain": [
       "\n",
       "blue  red \n",
       " 449  449 "
      ]
     },
     "metadata": {},
     "output_type": "display_data"
    },
    {
     "data": {
      "text/html": [
       "<strong>png:</strong> 2"
      ],
      "text/latex": [
       "\\textbf{png:} 2"
      ],
      "text/markdown": [
       "**png:** 2"
      ],
      "text/plain": [
       "png \n",
       "  2 "
      ]
     },
     "metadata": {},
     "output_type": "display_data"
    },
    {
     "data": {
      "text/html": [
       "<strong>png:</strong> 2"
      ],
      "text/latex": [
       "\\textbf{png:} 2"
      ],
      "text/markdown": [
       "**png:** 2"
      ],
      "text/plain": [
       "png \n",
       "  2 "
      ]
     },
     "metadata": {},
     "output_type": "display_data"
    },
    {
     "data": {
      "text/html": [
       "<strong>png:</strong> 2"
      ],
      "text/latex": [
       "\\textbf{png:} 2"
      ],
      "text/markdown": [
       "**png:** 2"
      ],
      "text/plain": [
       "png \n",
       "  2 "
      ]
     },
     "metadata": {},
     "output_type": "display_data"
    }
   ],
   "source": [
    "## Get the Expression Set for EC Module 1 (EMT)\n",
    "p <- 2\n",
    "ec_bool <- (colData(down_stdycds)$assigned_cell_type == celltypes6[p])\n",
    "ecmod_cds <- down_stdycds[fData(down_stdycds)@rownames %in% ec_modgenes1_ids, ec_bool]\n",
    "colData(ecmod_cds)$condtype <- paste('ec',\n",
    "    c('hea', 'dis')[(colData(ecmod_cds)$condition == 'diseased') + 1], sep = '-')\n",
    "colData(ecmod_cds)$sidecolor[colData(ecmod_cds)$condtype == 'ec-dis'] <- 'red'\n",
    "colData(ecmod_cds)$sidecolor[colData(ecmod_cds)$condtype == 'ec-hea'] <- 'blue'\n",
    "colData(ecmod_cds)$sidecolor[colData(ecmod_cds)$condtype == 'vsmc-dis'] <- 'orange'\n",
    "colData(ecmod_cds)$sidecolor[colData(ecmod_cds)$condtype == 'vsmc-hea'] <- 'cyan'\n",
    "cttable <- table(colData(ecmod_cds)$sidecolor)\n",
    "smallset <- min(cttable)\n",
    "cells2keep <- NULL\n",
    "set.seed(101)\n",
    "for (cellset_col in names(cttable)) {\n",
    "    cellsetrow <-  which(colData(ecmod_cds)$sidecolor == cellset_col)\n",
    "    cells2keep <- c(cells2keep, sample(cellsetrow, smallset, replace = FALSE))\n",
    "}\n",
    "ecmod_cds <- ecmod_cds[, cells2keep] \n",
    "\n",
    "table(colData(ecmod_cds)$sidecolor)\n",
    "expdat_ecmod <- as.matrix(exprs(ecmod_cds))\n",
    "rownames(expdat_ecmod) <- geneid2short[rownames(expdat_ecmod)] \n",
    "\n",
    "## This is a new round of heatmaps, with new genes and down sampled cell tpyes\n",
    "f1 <- '/Heatmap.EC.EMT.Genes.comp.bin.comp.bin.down.OnOff2Plus.preclustered.Rev1.pdf'\n",
    "f1 <- paste(datdir, '/', ps$outdir, celltypes6[p], f1, sep = '')\n",
    "title1 <- 'Endothelial Network EMT\\n(Module 1) Genes, Cells Pre-Clustered'\n",
    "\n",
    "f2 <- '/Heatmap.EC.EMT.Genes.comp.bin.comp.bin.down.OnOff2Plus.fullyclustered.Rev1.pdf'\n",
    "f2 <- paste(datdir, '/', ps$outdir, celltypes6[p], f2, sep = '')\n",
    "title2 <-  'Endothelial Network EMT\\n (Module 1) Genes, Cells Fully Clustered'\n",
    "\n",
    "f3 <- '/DotPlot.EC.EMT.Genes.Rev1.pdf'\n",
    "f3 <- paste(datdir, '/', ps$outdir, celltypes6[p], f3, sep = '')\n",
    "\n",
    "ec_dw <- which(colData(ecmod_cds)$condtype == 'ec-dis')\n",
    "ec_hw <- which(colData(ecmod_cds)$condtype == 'ec-hea')\n",
    "dims <- dim(expdat_ecmod)\n",
    "expdatbo <- (expdat_ecmod > 1) * 1\n",
    "distmeth <- c('binary', 'binary')\n",
    "clustmeth = c('complete', 'complete')\n",
    "my_palettebol <- colorRampPalette(c('#660066', 'yellow'))(n = 2)\n",
    "legendlstbol <- list(legend = c('EC DIS', 'EC HEA'),\n",
    "              col = c('red', 'blue'), title = 'Cell Types', cex = .7)\n",
    "\n",
    "ec_dcim <- cim(expdatbo[, ec_dw], dist.method = distmeth, clust.method = clustmeth,\n",
    "    scale = \"FALSE\", center = \"FALSE\", col.names = FALSE, legend = legendlstbol,\n",
    "    color = my_palettebol, cluster = 'col',\n",
    "    col.sideColors = colData(ecmod_cds)$sidecolor[ec_dw],\n",
    "    symkey = FALSE, save = 'pdf', name.save = 'temp.ready.to.delete')\n",
    "\n",
    "ec_hcim <- cim(expdatbo[, ec_hw], dist.method = distmeth, clust.method = clustmeth,\n",
    "    scale = \"FALSE\", center = \"FALSE\", col.names = FALSE, legend = legendlstbol,\n",
    "    color = my_palettebol, cluster = 'col',\n",
    "    col.sideColors = colData(ecmod_cds)$sidecolor[ec_hw],\n",
    "    symkey = FALSE, save = 'pdf', name.save = 'temp.ready.to.delete')\n",
    "\n",
    "## The is the combined cell types, plotted with only genes fully clustered\n",
    "parthclust <- c(colnames(ec_dcim$mat), colnames(ec_hcim$mat))\n",
    "colornames <-colData(ecmod_cds)$sidecolor\n",
    "names(colornames) <- colnames(expdatbo)\n",
    "cim(expdatbo[, parthclust], dist.method = distmeth, clust.method = clustmeth,\n",
    "    scale = \"FALSE\", center = \"FALSE\", col.names = FALSE, legend = legendlstbol,\n",
    "    color = my_palettebol, cluster = 'row',\n",
    "    col.sideColors = colornames[parthclust],\n",
    "    symkey = FALSE, save = 'pdf', name.save = 'temp.ready.to.delete')\n",
    "\n",
    "## Repeated from above, this time to a file\n",
    "pdf(f1, width = 8, height = 18)\n",
    "cim(expdatbo[, parthclust], dist.method = distmeth, clust.method = clustmeth,\n",
    "    scale = \"FALSE\", center = \"FALSE\", col.names = FALSE, legend = legendlstbol,\n",
    "    color = my_palettebol, cluster = 'row', title = title1,\n",
    "    col.sideColors = colornames[parthclust],\n",
    "    symkey = FALSE)\n",
    "dev.off()\n",
    "\n",
    "## The is again the combined cell types, plotted with both genes and cells fully clustered\n",
    "cim_row <- cim(expdatbo[, parthclust], dist.method = distmeth, clust.method = clustmeth,\n",
    "    scale = \"FALSE\", center = \"FALSE\", col.names = FALSE, legend = legendlstbol,\n",
    "    color = my_palettebol, cluster = 'both',\n",
    "    col.sideColors = colornames[parthclust],\n",
    "    symkey = FALSE, save = 'pdf', name.save = 'temp.ready.to.delete')\n",
    "\n",
    "## Repeated from above, this time to a file\n",
    "pdf(f2, width = 8, height = 18)\n",
    "cim(expdatbo[, parthclust], dist.method = distmeth, clust.method = clustmeth,\n",
    "    scale = \"FALSE\", center = \"FALSE\", col.names = FALSE, legend = legendlstbol,\n",
    "    color = my_palettebol, cluster = 'both', title = title2, \n",
    "    col.sideColors = colornames[parthclust],\n",
    "    symkey = FALSE)\n",
    "dev.off()\n",
    "\n",
    "specialglist <- specialglist <- short2geneid[cim_row$row.names]\n",
    "# str(specialglist)\n",
    "pdf(f3, width = 2.75, height = 18)\n",
    "plot_genes_by_group2(ecmod_cds,\n",
    "                    axis_order = \"group_marker\",\n",
    "                    specialglist,\n",
    "                    group_cells_by = \"condtype\",\n",
    "                    ordering_type = \"as_ordered\", \n",
    "                    max.size = 3,\n",
    "                    norm_method = 'size_only',\n",
    "                    scale_max = 3, scale_min = -3)\n",
    "dev.off()"
   ]
  },
  {
   "cell_type": "code",
   "execution_count": null,
   "metadata": {},
   "outputs": [],
   "source": []
  },
  {
   "cell_type": "code",
   "execution_count": null,
   "metadata": {},
   "outputs": [],
   "source": []
  },
  {
   "cell_type": "code",
   "execution_count": null,
   "metadata": {},
   "outputs": [],
   "source": []
  },
  {
   "cell_type": "code",
   "execution_count": null,
   "metadata": {},
   "outputs": [],
   "source": []
  },
  {
   "cell_type": "code",
   "execution_count": null,
   "metadata": {},
   "outputs": [],
   "source": []
  },
  {
   "cell_type": "markdown",
   "metadata": {},
   "source": [
    "## EC TNF (Module 36) "
   ]
  },
  {
   "cell_type": "code",
   "execution_count": 122,
   "metadata": {},
   "outputs": [
    {
     "data": {
      "text/plain": [
       "\n",
       "blue  red \n",
       " 449  449 "
      ]
     },
     "metadata": {},
     "output_type": "display_data"
    },
    {
     "data": {
      "text/html": [
       "<strong>png:</strong> 2"
      ],
      "text/latex": [
       "\\textbf{png:} 2"
      ],
      "text/markdown": [
       "**png:** 2"
      ],
      "text/plain": [
       "png \n",
       "  2 "
      ]
     },
     "metadata": {},
     "output_type": "display_data"
    },
    {
     "data": {
      "text/html": [
       "<strong>png:</strong> 2"
      ],
      "text/latex": [
       "\\textbf{png:} 2"
      ],
      "text/markdown": [
       "**png:** 2"
      ],
      "text/plain": [
       "png \n",
       "  2 "
      ]
     },
     "metadata": {},
     "output_type": "display_data"
    },
    {
     "data": {
      "text/html": [
       "<strong>png:</strong> 2"
      ],
      "text/latex": [
       "\\textbf{png:} 2"
      ],
      "text/markdown": [
       "**png:** 2"
      ],
      "text/plain": [
       "png \n",
       "  2 "
      ]
     },
     "metadata": {},
     "output_type": "display_data"
    }
   ],
   "source": [
    "## Get the Expression Set for EC Module 36 (TNF)\n",
    "p <- 2\n",
    "ec_bool <- (colData(down_stdycds)$assigned_cell_type == celltypes6[p])\n",
    "ecmod_cds <- down_stdycds[fData(down_stdycds)@rownames %in% ec_modgenes36_ids, ec_bool]\n",
    "colData(ecmod_cds)$condtype <- paste('ec',\n",
    "    c('hea', 'dis')[(colData(ecmod_cds)$condition == 'diseased') + 1], sep = '-')\n",
    "colData(ecmod_cds)$sidecolor[colData(ecmod_cds)$condtype == 'ec-dis'] <- 'red'\n",
    "colData(ecmod_cds)$sidecolor[colData(ecmod_cds)$condtype == 'ec-hea'] <- 'blue'\n",
    "colData(ecmod_cds)$sidecolor[colData(ecmod_cds)$condtype == 'vsmc-dis'] <- 'orange'\n",
    "colData(ecmod_cds)$sidecolor[colData(ecmod_cds)$condtype == 'vsmc-hea'] <- 'cyan'\n",
    "cttable <- table(colData(ecmod_cds)$sidecolor)\n",
    "smallset <- min(cttable)\n",
    "cells2keep <- NULL\n",
    "set.seed(101)\n",
    "for (cellset_col in names(cttable)) {\n",
    "    cellsetrow <-  which(colData(ecmod_cds)$sidecolor == cellset_col)\n",
    "    cells2keep <- c(cells2keep, sample(cellsetrow, smallset, replace = FALSE))\n",
    "}\n",
    "ecmod_cds <- ecmod_cds[, cells2keep] \n",
    "\n",
    "table(colData(ecmod_cds)$sidecolor)\n",
    "expdat_ecmod <- as.matrix(exprs(ecmod_cds))\n",
    "rownames(expdat_ecmod) <- geneid2short[rownames(expdat_ecmod)] \n",
    "\n",
    "## This is a new round of heatmaps, with new genes and down sampled cell tpyes\n",
    "f1 <- '/Heatmap.EC.TNF.Genes.comp.bin.comp.bin.down.OnOff2Plus.preclustered.Rev1.pdf'\n",
    "f1 <- paste(datdir, '/', ps$outdir, celltypes6[p], f1, sep = '')\n",
    "title1 <- 'Endothelial Network TNF\\n(Module 36) Genes, Cells Pre-Clustered'\n",
    "\n",
    "f2 <- '/Heatmap.EC.TNF.Genes.comp.bin.comp.bin.down.OnOff2Plus.fullyclustered.Rev1.pdf'\n",
    "f2 <- paste(datdir, '/', ps$outdir, celltypes6[p], f2, sep = '')\n",
    "title2 <-  'Endothelial Network TNF\\n(Module 36) Genes, Cells Fully Clustered'\n",
    "\n",
    "f3 <- '/DotPlot.EC.TNF.Genes.Rev1.pdf'\n",
    "f3 <- paste(datdir, '/', ps$outdir, celltypes6[p], f3, sep = '')\n",
    "\n",
    "ec_dw <- which(colData(ecmod_cds)$condtype == 'ec-dis')\n",
    "ec_hw <- which(colData(ecmod_cds)$condtype == 'ec-hea')\n",
    "dims <- dim(expdat_ecmod)\n",
    "expdatbo <- (expdat_ecmod > 1) * 1\n",
    "distmeth <- c('binary', 'binary')\n",
    "clustmeth = c('complete', 'complete')\n",
    "my_palettebol <- colorRampPalette(c('#660066', 'yellow'))(n = 2)\n",
    "legendlstbol <- list(legend = c('EC DIS', 'EC HEA'),\n",
    "              col = c('red', 'blue'), title = 'Cell Types', cex = .7)\n",
    "\n",
    "ec_dcim <- cim(expdatbo[, ec_dw], dist.method = distmeth, clust.method = clustmeth,\n",
    "    scale = \"FALSE\", center = \"FALSE\", col.names = FALSE, legend = legendlstbol,\n",
    "    color = my_palettebol, cluster = 'col',\n",
    "    col.sideColors = colData(ecmod_cds)$sidecolor[ec_dw],\n",
    "    symkey = FALSE, save = 'pdf', name.save = 'temp.ready.to.delete')\n",
    "\n",
    "ec_hcim <- cim(expdatbo[, ec_hw], dist.method = distmeth, clust.method = clustmeth,\n",
    "    scale = \"FALSE\", center = \"FALSE\", col.names = FALSE, legend = legendlstbol,\n",
    "    color = my_palettebol, cluster = 'col',\n",
    "    col.sideColors = colData(ecmod_cds)$sidecolor[ec_hw],\n",
    "    symkey = FALSE, save = 'pdf', name.save = 'temp.ready.to.delete')\n",
    "\n",
    "## The is the combined cell types, plotted with only genes fully clustered\n",
    "parthclust <- c(colnames(ec_dcim$mat), colnames(ec_hcim$mat))\n",
    "colornames <-colData(ecmod_cds)$sidecolor\n",
    "names(colornames) <- colnames(expdatbo)\n",
    "cim(expdatbo[, parthclust], dist.method = distmeth, clust.method = clustmeth,\n",
    "    scale = \"FALSE\", center = \"FALSE\", col.names = FALSE, legend = legendlstbol,\n",
    "    color = my_palettebol, cluster = 'row',\n",
    "    col.sideColors = colornames[parthclust],\n",
    "    symkey = FALSE, save = 'pdf', name.save = 'temp.ready.to.delete')\n",
    "\n",
    "## Repeated from above, this time to a file\n",
    "pdf(f1, width = 10, height = 6)\n",
    "cim(expdatbo[, parthclust], dist.method = distmeth, clust.method = clustmeth,\n",
    "    scale = \"FALSE\", center = \"FALSE\", col.names = FALSE, legend = legendlstbol,\n",
    "    color = my_palettebol, cluster = 'row', title = title1,\n",
    "    col.sideColors = colornames[parthclust],\n",
    "    symkey = FALSE)\n",
    "dev.off()\n",
    "\n",
    "## The is again the combined cell types, plotted with both genes and cells fully clustered\n",
    "cim_row <- cim(expdatbo[, parthclust], dist.method = distmeth, clust.method = clustmeth,\n",
    "    scale = \"FALSE\", center = \"FALSE\", col.names = FALSE, legend = legendlstbol,\n",
    "    color = my_palettebol, cluster = 'both',\n",
    "    col.sideColors = colornames[parthclust],\n",
    "    symkey = FALSE, save = 'pdf', name.save = 'temp.ready.to.delete')\n",
    "\n",
    "## Repeated from above, this time to a file\n",
    "pdf(f2, width = 10, height = 6)\n",
    "cim(expdatbo[, parthclust], dist.method = distmeth, clust.method = clustmeth,\n",
    "    scale = \"FALSE\", center = \"FALSE\", col.names = FALSE, legend = legendlstbol,\n",
    "    color = my_palettebol, cluster = 'both', title = title2,\n",
    "    col.sideColors = colornames[parthclust],\n",
    "    symkey = FALSE)\n",
    "dev.off()\n",
    "\n",
    "\n",
    "specialglist <- specialglist <- short2geneid[cim_row$row.names]\n",
    "# str(specialglist)\n",
    "pdf(f3, width = 2.75, height = 4)\n",
    "plot_genes_by_group2(ecmod_cds,\n",
    "                    axis_order = \"group_marker\",\n",
    "                    specialglist,\n",
    "                    group_cells_by = \"condtype\",\n",
    "                    ordering_type = \"as_ordered\", \n",
    "                    max.size = 3,\n",
    "                    norm_method = 'size_only',\n",
    "                    scale_max = 3, scale_min = -3)\n",
    "dev.off()"
   ]
  },
  {
   "cell_type": "code",
   "execution_count": null,
   "metadata": {},
   "outputs": [],
   "source": []
  },
  {
   "cell_type": "code",
   "execution_count": null,
   "metadata": {},
   "outputs": [],
   "source": []
  },
  {
   "cell_type": "code",
   "execution_count": null,
   "metadata": {},
   "outputs": [],
   "source": []
  },
  {
   "cell_type": "markdown",
   "metadata": {},
   "source": [
    "## EC EMT (Module 1) New Filter (No Filter) Applied"
   ]
  },
  {
   "cell_type": "code",
   "execution_count": 123,
   "metadata": {},
   "outputs": [
    {
     "data": {
      "text/plain": [
       "\n",
       "blue  red \n",
       " 449  449 "
      ]
     },
     "metadata": {},
     "output_type": "display_data"
    },
    {
     "data": {
      "text/html": [
       "<strong>png:</strong> 2"
      ],
      "text/latex": [
       "\\textbf{png:} 2"
      ],
      "text/markdown": [
       "**png:** 2"
      ],
      "text/plain": [
       "png \n",
       "  2 "
      ]
     },
     "metadata": {},
     "output_type": "display_data"
    },
    {
     "data": {
      "text/html": [
       "<strong>png:</strong> 2"
      ],
      "text/latex": [
       "\\textbf{png:} 2"
      ],
      "text/markdown": [
       "**png:** 2"
      ],
      "text/plain": [
       "png \n",
       "  2 "
      ]
     },
     "metadata": {},
     "output_type": "display_data"
    },
    {
     "data": {
      "text/html": [
       "<strong>png:</strong> 2"
      ],
      "text/latex": [
       "\\textbf{png:} 2"
      ],
      "text/markdown": [
       "**png:** 2"
      ],
      "text/plain": [
       "png \n",
       "  2 "
      ]
     },
     "metadata": {},
     "output_type": "display_data"
    }
   ],
   "source": [
    "## Get the Expression Set for EC Module 1 (EMT), New Filter\n",
    "p <- 2\n",
    "ec_bool <- (colData(down_stdycds)$assigned_cell_type == celltypes6[p])\n",
    "ecmod_cds <- down_stdycds[fData(down_stdycds)@rownames %in% ec_modgenes1_ids, ec_bool]\n",
    "colData(ecmod_cds)$condtype <- paste('ec',\n",
    "    c('hea', 'dis')[(colData(ecmod_cds)$condition == 'diseased') + 1], sep = '-')\n",
    "colData(ecmod_cds)$sidecolor[colData(ecmod_cds)$condtype == 'ec-dis'] <- 'red'\n",
    "colData(ecmod_cds)$sidecolor[colData(ecmod_cds)$condtype == 'ec-hea'] <- 'blue'\n",
    "colData(ecmod_cds)$sidecolor[colData(ecmod_cds)$condtype == 'vsmc-dis'] <- 'orange'\n",
    "colData(ecmod_cds)$sidecolor[colData(ecmod_cds)$condtype == 'vsmc-hea'] <- 'cyan'\n",
    "cttable <- table(colData(ecmod_cds)$sidecolor)\n",
    "smallset <- min(cttable)\n",
    "cells2keep <- NULL\n",
    "set.seed(101)\n",
    "for (cellset_col in names(cttable)) {\n",
    "    cellsetrow <-  which(colData(ecmod_cds)$sidecolor == cellset_col)\n",
    "    cells2keep <- c(cells2keep, sample(cellsetrow, smallset, replace = FALSE))\n",
    "}\n",
    "ecmod_cds <- ecmod_cds[, cells2keep] \n",
    "\n",
    "table(colData(ecmod_cds)$sidecolor)\n",
    "expdat_ecmod <- as.matrix(exprs(ecmod_cds))\n",
    "rownames(expdat_ecmod) <- geneid2short[rownames(expdat_ecmod)] \n",
    "\n",
    "## This is a new round of heatmaps, with new genes and down sampled cell tpyes\n",
    "f1 <- '/Heatmap.EC.EMT.NoFilt.Genes.comp.bin.comp.bin.down.OnOff2Plus.preclustered.Rev1.pdf'\n",
    "f1 <- paste(datdir, '/', ps$outdir, celltypes6[p], f1, sep = '')\n",
    "title1 <- 'Endothelial Network EMT\\n(Module 1) Genes, No Filter, Cells Pre-Clustered'\n",
    "\n",
    "f2 <- '/Heatmap.EC.EMT.NoFilt.Genes.comp.bin.comp.bin.down.OnOff2Plus.fullyclustered.Rev1.pdf'\n",
    "f2 <- paste(datdir, '/', ps$outdir, celltypes6[p], f2, sep = '')\n",
    "title2 <-  'Endothelial Network EMT\\n (Module 1) Genes, No Filter, Cells Fully Clustered'\n",
    "\n",
    "f3 <- '/DotPlot.EC.EMT.NoFilt.Genes.Rev1.pdf'\n",
    "f3 <- paste(datdir, '/', ps$outdir, celltypes6[p], f3, sep = '')\n",
    "\n",
    "ec_dw <- which(colData(ecmod_cds)$condtype == 'ec-dis')\n",
    "ec_hw <- which(colData(ecmod_cds)$condtype == 'ec-hea')\n",
    "dims <- dim(expdat_ecmod)\n",
    "expdatbo <- (expdat_ecmod > 0) * 1 ## (expdat_ecmod > 1) * 1\n",
    "distmeth <- c('binary', 'binary')\n",
    "clustmeth = c('complete', 'complete')\n",
    "my_palettebol <- colorRampPalette(c('#660066', 'yellow'))(n = 2)\n",
    "legendlstbol <- list(legend = c('EC DIS', 'EC HEA'),\n",
    "              col = c('red', 'blue'), title = 'Cell Types', cex = .7)\n",
    "\n",
    "ec_dcim <- cim(expdatbo[, ec_dw], dist.method = distmeth, clust.method = clustmeth,\n",
    "    scale = \"FALSE\", center = \"FALSE\", col.names = FALSE, legend = legendlstbol,\n",
    "    color = my_palettebol, cluster = 'col',\n",
    "    col.sideColors = colData(ecmod_cds)$sidecolor[ec_dw],\n",
    "    symkey = FALSE, save = 'pdf', name.save = 'temp.ready.to.delete')\n",
    "\n",
    "ec_hcim <- cim(expdatbo[, ec_hw], dist.method = distmeth, clust.method = clustmeth,\n",
    "    scale = \"FALSE\", center = \"FALSE\", col.names = FALSE, legend = legendlstbol,\n",
    "    color = my_palettebol, cluster = 'col',\n",
    "    col.sideColors = colData(ecmod_cds)$sidecolor[ec_hw],\n",
    "    symkey = FALSE, save = 'pdf', name.save = 'temp.ready.to.delete')\n",
    "\n",
    "## The is the combined cell types, plotted with only genes fully clustered\n",
    "parthclust <- c(colnames(ec_dcim$mat), colnames(ec_hcim$mat))\n",
    "colornames <-colData(ecmod_cds)$sidecolor\n",
    "names(colornames) <- colnames(expdatbo)\n",
    "cim(expdatbo[, parthclust], dist.method = distmeth, clust.method = clustmeth,\n",
    "    scale = \"FALSE\", center = \"FALSE\", col.names = FALSE, legend = legendlstbol,\n",
    "    color = my_palettebol, cluster = 'row',\n",
    "    col.sideColors = colornames[parthclust],\n",
    "    symkey = FALSE, save = 'pdf', name.save = 'temp.ready.to.delete')\n",
    "\n",
    "## Repeated from above, this time to a file\n",
    "pdf(f1, width = 8, height = 18)\n",
    "cim(expdatbo[, parthclust], dist.method = distmeth, clust.method = clustmeth,\n",
    "    scale = \"FALSE\", center = \"FALSE\", col.names = FALSE, legend = legendlstbol,\n",
    "    color = my_palettebol, cluster = 'row', title = title1,\n",
    "    col.sideColors = colornames[parthclust],\n",
    "    symkey = FALSE)\n",
    "dev.off()\n",
    "\n",
    "## The is again the combined cell types, plotted with both genes and cells fully clustered\n",
    "cim_row <- cim(expdatbo[, parthclust], dist.method = distmeth, clust.method = clustmeth,\n",
    "    scale = \"FALSE\", center = \"FALSE\", col.names = FALSE, legend = legendlstbol,\n",
    "    color = my_palettebol, cluster = 'both',\n",
    "    col.sideColors = colornames[parthclust],\n",
    "    symkey = FALSE, save = 'pdf', name.save = 'temp.ready.to.delete')\n",
    "\n",
    "## Repeated from above, this time to a file\n",
    "pdf(f2, width = 8, height = 18)\n",
    "cim(expdatbo[, parthclust], dist.method = distmeth, clust.method = clustmeth,\n",
    "    scale = \"FALSE\", center = \"FALSE\", col.names = FALSE, legend = legendlstbol,\n",
    "    color = my_palettebol, cluster = 'both', title = title2, \n",
    "    col.sideColors = colornames[parthclust],\n",
    "    symkey = FALSE)\n",
    "dev.off()\n",
    "\n",
    "specialglist <- specialglist <- short2geneid[cim_row$row.names]\n",
    "# str(specialglist)\n",
    "pdf(f3, width = 2.75, height = 18)\n",
    "plot_genes_by_group2(ecmod_cds,\n",
    "                    axis_order = \"group_marker\",\n",
    "                    specialglist,\n",
    "                    group_cells_by = \"condtype\",\n",
    "                    ordering_type = \"as_ordered\", \n",
    "                    max.size = 3,\n",
    "                    norm_method = 'size_only',\n",
    "                    scale_max = 3, scale_min = -3)\n",
    "dev.off()"
   ]
  },
  {
   "cell_type": "code",
   "execution_count": null,
   "metadata": {},
   "outputs": [],
   "source": []
  },
  {
   "cell_type": "code",
   "execution_count": null,
   "metadata": {},
   "outputs": [],
   "source": []
  },
  {
   "cell_type": "code",
   "execution_count": null,
   "metadata": {},
   "outputs": [],
   "source": []
  },
  {
   "cell_type": "markdown",
   "metadata": {},
   "source": [
    "## EC EMT (Module 36) New Filter (No Filter) Applied"
   ]
  },
  {
   "cell_type": "code",
   "execution_count": 124,
   "metadata": {},
   "outputs": [
    {
     "data": {
      "text/plain": [
       "\n",
       "blue  red \n",
       " 449  449 "
      ]
     },
     "metadata": {},
     "output_type": "display_data"
    },
    {
     "data": {
      "text/html": [
       "<strong>png:</strong> 2"
      ],
      "text/latex": [
       "\\textbf{png:} 2"
      ],
      "text/markdown": [
       "**png:** 2"
      ],
      "text/plain": [
       "png \n",
       "  2 "
      ]
     },
     "metadata": {},
     "output_type": "display_data"
    },
    {
     "data": {
      "text/html": [
       "<strong>png:</strong> 2"
      ],
      "text/latex": [
       "\\textbf{png:} 2"
      ],
      "text/markdown": [
       "**png:** 2"
      ],
      "text/plain": [
       "png \n",
       "  2 "
      ]
     },
     "metadata": {},
     "output_type": "display_data"
    },
    {
     "data": {
      "text/html": [
       "<strong>png:</strong> 2"
      ],
      "text/latex": [
       "\\textbf{png:} 2"
      ],
      "text/markdown": [
       "**png:** 2"
      ],
      "text/plain": [
       "png \n",
       "  2 "
      ]
     },
     "metadata": {},
     "output_type": "display_data"
    }
   ],
   "source": [
    "## Get the Expression Set for EC Module 36 (TNF), New Filter\n",
    "p <- 2\n",
    "ec_bool <- (colData(down_stdycds)$assigned_cell_type == celltypes6[p])\n",
    "ecmod_cds <- down_stdycds[fData(down_stdycds)@rownames %in% ec_modgenes36_ids, ec_bool]\n",
    "colData(ecmod_cds)$condtype <- paste('ec',\n",
    "    c('hea', 'dis')[(colData(ecmod_cds)$condition == 'diseased') + 1], sep = '-')\n",
    "colData(ecmod_cds)$sidecolor[colData(ecmod_cds)$condtype == 'ec-dis'] <- 'red'\n",
    "colData(ecmod_cds)$sidecolor[colData(ecmod_cds)$condtype == 'ec-hea'] <- 'blue'\n",
    "colData(ecmod_cds)$sidecolor[colData(ecmod_cds)$condtype == 'vsmc-dis'] <- 'orange'\n",
    "colData(ecmod_cds)$sidecolor[colData(ecmod_cds)$condtype == 'vsmc-hea'] <- 'cyan'\n",
    "cttable <- table(colData(ecmod_cds)$sidecolor)\n",
    "smallset <- min(cttable)\n",
    "cells2keep <- NULL\n",
    "set.seed(101)\n",
    "for (cellset_col in names(cttable)) {\n",
    "    cellsetrow <-  which(colData(ecmod_cds)$sidecolor == cellset_col)\n",
    "    cells2keep <- c(cells2keep, sample(cellsetrow, smallset, replace = FALSE))\n",
    "}\n",
    "ecmod_cds <- ecmod_cds[, cells2keep] \n",
    "\n",
    "table(colData(ecmod_cds)$sidecolor)\n",
    "expdat_ecmod <- as.matrix(exprs(ecmod_cds))\n",
    "rownames(expdat_ecmod) <- geneid2short[rownames(expdat_ecmod)] \n",
    "\n",
    "## This is a new round of heatmaps, with new genes and down sampled cell tpyes\n",
    "f1 <- '/Heatmap.EC.TNF.NoFilt.Genes.comp.bin.comp.bin.down.OnOff2Plus.preclustered.Rev1.pdf'\n",
    "f1 <- paste(datdir, '/', ps$outdir, celltypes6[p], f1, sep = '')\n",
    "title1 <- 'Endothelial Network TNF\\n(Module 36) Genes, No Filter, Cells Pre-Clustered'\n",
    "\n",
    "f2 <- '/Heatmap.EC.TNF.NoFilt.Genes.comp.bin.comp.bin.down.OnOff2Plus.fullyclustered.Rev1.pdf'\n",
    "f2 <- paste(datdir, '/', ps$outdir, celltypes6[p], f2, sep = '')\n",
    "title2 <-  'Endothelial Network TNF\\n(Module 36) Genes, No Filter, Cells Fully Clustered'\n",
    "\n",
    "f3 <- '/DotPlot.EC.TNF.NoFilt.Genes.Rev1.pdf'\n",
    "f3 <- paste(datdir, '/', ps$outdir, celltypes6[p], f3, sep = '')\n",
    "\n",
    "ec_dw <- which(colData(ecmod_cds)$condtype == 'ec-dis')\n",
    "ec_hw <- which(colData(ecmod_cds)$condtype == 'ec-hea')\n",
    "dims <- dim(expdat_ecmod)\n",
    "expdatbo <- (expdat_ecmod > 0) * 1 ## (expdat_ecmod > 1) * 1\n",
    "distmeth <- c('binary', 'binary')\n",
    "clustmeth = c('complete', 'complete')\n",
    "my_palettebol <- colorRampPalette(c('#660066', 'yellow'))(n = 2)\n",
    "legendlstbol <- list(legend = c('EC DIS', 'EC HEA'),\n",
    "              col = c('red', 'blue'), title = 'Cell Types', cex = .7)\n",
    "\n",
    "ec_dcim <- cim(expdatbo[, ec_dw], dist.method = distmeth, clust.method = clustmeth,\n",
    "    scale = \"FALSE\", center = \"FALSE\", col.names = FALSE, legend = legendlstbol,\n",
    "    color = my_palettebol, cluster = 'col',\n",
    "    col.sideColors = colData(ecmod_cds)$sidecolor[ec_dw],\n",
    "    symkey = FALSE, save = 'pdf', name.save = 'temp.ready.to.delete')\n",
    "\n",
    "ec_hcim <- cim(expdatbo[, ec_hw], dist.method = distmeth, clust.method = clustmeth,\n",
    "    scale = \"FALSE\", center = \"FALSE\", col.names = FALSE, legend = legendlstbol,\n",
    "    color = my_palettebol, cluster = 'col',\n",
    "    col.sideColors = colData(ecmod_cds)$sidecolor[ec_hw],\n",
    "    symkey = FALSE, save = 'pdf', name.save = 'temp.ready.to.delete')\n",
    "\n",
    "## The is the combined cell types, plotted with only genes fully clustered\n",
    "parthclust <- c(colnames(ec_dcim$mat), colnames(ec_hcim$mat))\n",
    "colornames <-colData(ecmod_cds)$sidecolor\n",
    "names(colornames) <- colnames(expdatbo)\n",
    "cim(expdatbo[, parthclust], dist.method = distmeth, clust.method = clustmeth,\n",
    "    scale = \"FALSE\", center = \"FALSE\", col.names = FALSE, legend = legendlstbol,\n",
    "    color = my_palettebol, cluster = 'row',\n",
    "    col.sideColors = colornames[parthclust],\n",
    "    symkey = FALSE, save = 'pdf', name.save = 'temp.ready.to.delete')\n",
    "\n",
    "## Repeated from above, this time to a file\n",
    "pdf(f1, width = 10, height = 6)\n",
    "cim(expdatbo[, parthclust], dist.method = distmeth, clust.method = clustmeth,\n",
    "    scale = \"FALSE\", center = \"FALSE\", col.names = FALSE, legend = legendlstbol,\n",
    "    color = my_palettebol, cluster = 'row', title = title1,\n",
    "    col.sideColors = colornames[parthclust],\n",
    "    symkey = FALSE)\n",
    "dev.off()\n",
    "\n",
    "## The is again the combined cell types, plotted with both genes and cells fully clustered\n",
    "cim_row <- cim(expdatbo[, parthclust], dist.method = distmeth, clust.method = clustmeth,\n",
    "    scale = \"FALSE\", center = \"FALSE\", col.names = FALSE, legend = legendlstbol,\n",
    "    color = my_palettebol, cluster = 'both',\n",
    "    col.sideColors = colornames[parthclust],\n",
    "    symkey = FALSE, save = 'pdf', name.save = 'temp.ready.to.delete')\n",
    "\n",
    "## Repeated from above, this time to a file\n",
    "pdf(f2, width = 10, height = 6)\n",
    "cim(expdatbo[, parthclust], dist.method = distmeth, clust.method = clustmeth,\n",
    "    scale = \"FALSE\", center = \"FALSE\", col.names = FALSE, legend = legendlstbol,\n",
    "    color = my_palettebol, cluster = 'both', title = title2,\n",
    "    col.sideColors = colornames[parthclust],\n",
    "    symkey = FALSE)\n",
    "dev.off()\n",
    "\n",
    "\n",
    "specialglist <- specialglist <- short2geneid[cim_row$row.names]\n",
    "# str(specialglist)\n",
    "pdf(f3, width = 2.75, height = 4)\n",
    "plot_genes_by_group2(ecmod_cds,\n",
    "                    axis_order = \"group_marker\",\n",
    "                    specialglist,\n",
    "                    group_cells_by = \"condtype\",\n",
    "                    ordering_type = \"as_ordered\", \n",
    "                    max.size = 3,\n",
    "                    norm_method = 'size_only',\n",
    "                    scale_max = 3, scale_min = -3)\n",
    "dev.off()"
   ]
  },
  {
   "cell_type": "code",
   "execution_count": null,
   "metadata": {},
   "outputs": [],
   "source": []
  },
  {
   "cell_type": "code",
   "execution_count": null,
   "metadata": {},
   "outputs": [],
   "source": []
  },
  {
   "cell_type": "code",
   "execution_count": null,
   "metadata": {},
   "outputs": [],
   "source": []
  },
  {
   "cell_type": "markdown",
   "metadata": {},
   "source": [
    "## VSMC EMT (Module 13) "
   ]
  },
  {
   "cell_type": "code",
   "execution_count": 125,
   "metadata": {},
   "outputs": [
    {
     "data": {
      "text/plain": [
       "\n",
       "  cyan orange \n",
       "  1223   1223 "
      ]
     },
     "metadata": {},
     "output_type": "display_data"
    },
    {
     "data": {
      "text/html": [
       "<strong>png:</strong> 2"
      ],
      "text/latex": [
       "\\textbf{png:} 2"
      ],
      "text/markdown": [
       "**png:** 2"
      ],
      "text/plain": [
       "png \n",
       "  2 "
      ]
     },
     "metadata": {},
     "output_type": "display_data"
    },
    {
     "data": {
      "text/html": [
       "<strong>png:</strong> 2"
      ],
      "text/latex": [
       "\\textbf{png:} 2"
      ],
      "text/markdown": [
       "**png:** 2"
      ],
      "text/plain": [
       "png \n",
       "  2 "
      ]
     },
     "metadata": {},
     "output_type": "display_data"
    },
    {
     "data": {
      "text/html": [
       "<strong>png:</strong> 2"
      ],
      "text/latex": [
       "\\textbf{png:} 2"
      ],
      "text/markdown": [
       "**png:** 2"
      ],
      "text/plain": [
       "png \n",
       "  2 "
      ]
     },
     "metadata": {},
     "output_type": "display_data"
    }
   ],
   "source": [
    "## Get the Expression Set for VSMC Module 13 DE Genes\n",
    "p <- 3\n",
    "vsmc_bool <- (colData(down_stdycds)$assigned_cell_type == celltypes6[p])\n",
    "vsmcmod_cds <- down_stdycds[fData(down_stdycds)@rownames %in% vsmc_modgenes13_ids, vsmc_bool]\n",
    "colData(vsmcmod_cds)$condtype <- paste('vsmc',\n",
    "    c('hea', 'dis')[(colData(vsmcmod_cds)$condition == 'diseased') + 1], sep = '-')\n",
    "colData(vsmcmod_cds)$sidecolor[colData(vsmcmod_cds)$condtype == 'ec-dis'] <- 'red'\n",
    "colData(vsmcmod_cds)$sidecolor[colData(vsmcmod_cds)$condtype == 'ec-hea'] <- 'blue'\n",
    "colData(vsmcmod_cds)$sidecolor[colData(vsmcmod_cds)$condtype == 'vsmc-dis'] <- 'orange'\n",
    "colData(vsmcmod_cds)$sidecolor[colData(vsmcmod_cds)$condtype == 'vsmc-hea'] <- 'cyan'\n",
    "cttable <- table(colData(vsmcmod_cds)$sidecolor)\n",
    "smallset <- min(cttable)\n",
    "cells2keep <- NULL\n",
    "set.seed(101)\n",
    "for (cellset_col in names(cttable)) {\n",
    "    cellsetrow <-  which(colData(vsmcmod_cds)$sidecolor == cellset_col)\n",
    "    cells2keep <- c(cells2keep, sample(cellsetrow, smallset, replace = FALSE))\n",
    "}\n",
    "vsmcmod_cds <- vsmcmod_cds[, cells2keep] \n",
    "\n",
    "table(colData(vsmcmod_cds)$sidecolor)\n",
    "expdat_vsmcmod <- as.matrix(exprs(vsmcmod_cds))\n",
    "rownames(expdat_vsmcmod) <- geneid2short[rownames(expdat_vsmcmod)] \n",
    "\n",
    "## This Code Plots the EC Cell Type with EMT and TNF Network Module Genes\n",
    "f1 <- '/Heatmap.VSMC.EMT.Genes.comp.bin.comp.bin.down.OnOff2Plus.preclustered.Rev1.pdf'\n",
    "f1 <- paste(datdir, '/', ps$outdir, celltypes6[p], f1, sep = '')\n",
    "title1 <- 'VSMC Network EMT (Module 13)\\nGenes, Cells Pre-Clustered'\n",
    "\n",
    "f2 <- '/Heatmap.VSMC.EMT.Genes.comp.bin.comp.bin.down.OnOff2Plus.fullyclustered.Rev1.pdf'\n",
    "f2 <- paste(datdir, '/', ps$outdir, celltypes6[p], f2, sep = '')\n",
    "title2 <-  'VSMC Network EMT (Module 13)\\nGenes, Cells Fully Clustered'\n",
    "\n",
    "f3 <- '/DotPlot.VSMC.EMT.Genes.Rev1.pdf'\n",
    "f3 <- paste(datdir, '/', ps$outdir, celltypes6[p], f3, sep = '')\n",
    "\n",
    "vsmc_dw <- which(colData(vsmcmod_cds)$condtype == 'vsmc-dis')\n",
    "vsmc_hw <- which(colData(vsmcmod_cds)$condtype == 'vsmc-hea')\n",
    "dims <- dim(expdat_vsmcmod)\n",
    "expdatbo <- (expdat_vsmcmod > 1) * 1\n",
    "distmeth <- c('binary', 'binary')\n",
    "clustmeth = c('complete', 'complete')\n",
    "my_palettebol <- colorRampPalette(c('#660066', 'yellow'))(n = 2)\n",
    "legendlstbol <- list(legend = c('VSMC DIS', 'VSMC HEA'),\n",
    "              col = c('orange', 'cyan'), title = 'Cell Types', cex = .7)\n",
    "\n",
    "vsmc_dcim <- cim(expdatbo[, vsmc_dw], dist.method = distmeth, clust.method = clustmeth,\n",
    "    scale = \"FALSE\", center = \"FALSE\", col.names = FALSE, legend = legendlstbol,\n",
    "    color = my_palettebol, cluster = 'col', save = 'pdf', name.save = 'temp.ready.to.delete',\n",
    "    col.sideColors = colData(vsmcmod_cds)$sidecolor[vsmc_dw],\n",
    "    symkey = FALSE)\n",
    "vsmc_hcim <- cim(expdatbo[, vsmc_hw], dist.method = distmeth, clust.method = clustmeth,\n",
    "    scale = \"FALSE\", center = \"FALSE\", col.names = FALSE, legend = legendlstbol,\n",
    "    color = my_palettebol, cluster = 'col', save = 'pdf', name.save = 'temp.ready.to.delete',\n",
    "    col.sideColors = colData(vsmcmod_cds)$sidecolor[vsmc_hw],\n",
    "    symkey = FALSE)\n",
    "\n",
    "## The is the combined cell types, plotted with only genes fully clustered\n",
    "parthclust <- c(colnames(vsmc_dcim$mat), colnames(vsmc_hcim$mat))\n",
    "colornames <-colData(vsmcmod_cds)$sidecolor\n",
    "names(colornames) <- colnames(expdatbo)\n",
    "cim(expdatbo[, parthclust], dist.method = distmeth, clust.method = clustmeth,\n",
    "    scale = \"FALSE\", center = \"FALSE\", col.names = FALSE, legend = legendlstbol,\n",
    "    color = my_palettebol, cluster = 'row', save = 'pdf', name.save = 'temp.ready.to.delete',\n",
    "    col.sideColors = colornames[parthclust],\n",
    "    symkey = FALSE)\n",
    "\n",
    "## Repeated from above, this time to a file\n",
    "pdf(f1, width = 8, height = 16)\n",
    "cim_row <-cim(expdatbo[, parthclust], dist.method = distmeth, clust.method = clustmeth,\n",
    "    scale = \"FALSE\", center = \"FALSE\", col.names = FALSE, legend = legendlstbol,\n",
    "    color = my_palettebol, cluster = 'row', title = title1,\n",
    "    col.sideColors = colornames[parthclust],\n",
    "    symkey = FALSE)\n",
    "dev.off()\n",
    "\n",
    "## The is again the combined cell types, plotted with both genes and cells fully clustered\n",
    "cim(expdatbo[, parthclust], dist.method = distmeth, clust.method = clustmeth,\n",
    "    scale = \"FALSE\", center = \"FALSE\", col.names = FALSE, legend = legendlstbol,\n",
    "    color = my_palettebol, cluster = 'both', save = 'pdf', name.save = 'temp.ready.to.delete',\n",
    "    col.sideColors = colornames[parthclust], \n",
    "    symkey = FALSE)\n",
    "\n",
    "## Repeated from above, this time to a file\n",
    "pdf(f2, width = 8, height = 16)\n",
    "cim(expdatbo[, parthclust], dist.method = distmeth, clust.method = clustmeth,\n",
    "    scale = \"FALSE\", center = \"FALSE\", col.names = FALSE, legend = legendlstbol,\n",
    "    color = my_palettebol, cluster = 'both', title = title2,\n",
    "    col.sideColors = colornames[parthclust], \n",
    "    symkey = FALSE)\n",
    "dev.off()\n",
    "\n",
    "specialglist <- specialglist <- short2geneid[cim_row$row.names]\n",
    "# str(specialglist)\n",
    "pdf(f3, width = 2.75, height = 16)\n",
    "plot_genes_by_group2(vsmcmod_cds,\n",
    "                    axis_order = \"group_marker\",\n",
    "                    specialglist,\n",
    "                    group_cells_by = \"condtype\",\n",
    "                    ordering_type = \"as_ordered\", \n",
    "                    max.size = 3,\n",
    "                    norm_method = 'size_only',\n",
    "                    scale_max = 3, scale_min = -3)\n",
    "dev.off()"
   ]
  },
  {
   "cell_type": "code",
   "execution_count": null,
   "metadata": {},
   "outputs": [],
   "source": []
  },
  {
   "cell_type": "code",
   "execution_count": null,
   "metadata": {},
   "outputs": [],
   "source": []
  },
  {
   "cell_type": "code",
   "execution_count": null,
   "metadata": {},
   "outputs": [],
   "source": []
  },
  {
   "cell_type": "markdown",
   "metadata": {},
   "source": [
    "## VSMC TNF (Module 31) "
   ]
  },
  {
   "cell_type": "code",
   "execution_count": 126,
   "metadata": {},
   "outputs": [
    {
     "data": {
      "text/plain": [
       "\n",
       "  cyan orange \n",
       "  1223   1223 "
      ]
     },
     "metadata": {},
     "output_type": "display_data"
    },
    {
     "data": {
      "text/html": [
       "<strong>png:</strong> 2"
      ],
      "text/latex": [
       "\\textbf{png:} 2"
      ],
      "text/markdown": [
       "**png:** 2"
      ],
      "text/plain": [
       "png \n",
       "  2 "
      ]
     },
     "metadata": {},
     "output_type": "display_data"
    },
    {
     "data": {
      "text/html": [
       "<strong>png:</strong> 2"
      ],
      "text/latex": [
       "\\textbf{png:} 2"
      ],
      "text/markdown": [
       "**png:** 2"
      ],
      "text/plain": [
       "png \n",
       "  2 "
      ]
     },
     "metadata": {},
     "output_type": "display_data"
    },
    {
     "data": {
      "text/html": [
       "<strong>png:</strong> 2"
      ],
      "text/latex": [
       "\\textbf{png:} 2"
      ],
      "text/markdown": [
       "**png:** 2"
      ],
      "text/plain": [
       "png \n",
       "  2 "
      ]
     },
     "metadata": {},
     "output_type": "display_data"
    }
   ],
   "source": [
    "## Get the Expression Set for VSMC Module 31 DE Genes\n",
    "p <- 3\n",
    "vsmc_bool <- (colData(down_stdycds)$assigned_cell_type == celltypes6[p])\n",
    "vsmcmod_cds <- down_stdycds[fData(down_stdycds)@rownames %in% vsmc_modgenes31_ids, vsmc_bool]\n",
    "colData(vsmcmod_cds)$condtype <- paste('vsmc',\n",
    "    c('hea', 'dis')[(colData(vsmcmod_cds)$condition == 'diseased') + 1], sep = '-')\n",
    "colData(vsmcmod_cds)$sidecolor[colData(vsmcmod_cds)$condtype == 'ec-dis'] <- 'red'\n",
    "colData(vsmcmod_cds)$sidecolor[colData(vsmcmod_cds)$condtype == 'ec-hea'] <- 'blue'\n",
    "colData(vsmcmod_cds)$sidecolor[colData(vsmcmod_cds)$condtype == 'vsmc-dis'] <- 'orange'\n",
    "colData(vsmcmod_cds)$sidecolor[colData(vsmcmod_cds)$condtype == 'vsmc-hea'] <- 'cyan'\n",
    "cttable <- table(colData(vsmcmod_cds)$sidecolor)\n",
    "smallset <- min(cttable)\n",
    "cells2keep <- NULL\n",
    "set.seed(101)\n",
    "for (cellset_col in names(cttable)) {\n",
    "    cellsetrow <-  which(colData(vsmcmod_cds)$sidecolor == cellset_col)\n",
    "    cells2keep <- c(cells2keep, sample(cellsetrow, smallset, replace = FALSE))\n",
    "}\n",
    "vsmcmod_cds <- vsmcmod_cds[, cells2keep] \n",
    "\n",
    "table(colData(vsmcmod_cds)$sidecolor)\n",
    "expdat_vsmcmod <- as.matrix(exprs(vsmcmod_cds))\n",
    "rownames(expdat_vsmcmod) <- geneid2short[rownames(expdat_vsmcmod)] \n",
    "\n",
    "## This Code Plots the EC Cell Type with EMT and TNF Network Module Genes\n",
    "f1 <- '/Heatmap.VSMC.TNF.Genes.comp.bin.comp.bin.down.OnOff2Plus.preclustered.Rev1.pdf'\n",
    "f1 <- paste(datdir, '/', ps$outdir, celltypes6[p], f1, sep = '')\n",
    "title1 <- 'VSMC Network TNF (Module 31)\\nGenes, Cells Pre-Clustered'\n",
    "\n",
    "f2 <- '/Heatmap.VSMC.TNF.Genes.comp.bin.comp.bin.down.OnOff2Plus.fullyclustered.Rev1.pdf'\n",
    "f2 <- paste(datdir, '/', ps$outdir, celltypes6[p], f2, sep = '')\n",
    "title2 <-  'VSMC Network TNF (Module 31)\\nGenes, Cells Fully Clustered'\n",
    "\n",
    "f3 <- '/DotPlot.VSMC.TNF.Genes.Rev1.pdf'\n",
    "f3 <- paste(datdir, '/', ps$outdir, celltypes6[p], f3, sep = '')\n",
    "\n",
    "vsmc_dw <- which(colData(vsmcmod_cds)$condtype == 'vsmc-dis')\n",
    "vsmc_hw <- which(colData(vsmcmod_cds)$condtype == 'vsmc-hea')\n",
    "dims <- dim(expdat_vsmcmod)\n",
    "expdatbo <- (expdat_vsmcmod > 1) * 1\n",
    "distmeth <- c('binary', 'binary')\n",
    "clustmeth = c('complete', 'complete')\n",
    "my_palettebol <- colorRampPalette(c('#660066', 'yellow'))(n = 2)\n",
    "legendlstbol <- list(legend = c('VSMC DIS', 'VSMC HEA'),\n",
    "              col = c('orange', 'cyan'), title = 'Cell Types', cex = .7)\n",
    "\n",
    "vsmc_dcim <- cim(expdatbo[, vsmc_dw], dist.method = distmeth, clust.method = clustmeth,\n",
    "    scale = \"FALSE\", center = \"FALSE\", col.names = FALSE, legend = legendlstbol,\n",
    "    color = my_palettebol, cluster = 'col', save = 'pdf', name.save = 'temp.ready.to.delete',\n",
    "    col.sideColors = colData(vsmcmod_cds)$sidecolor[vsmc_dw],\n",
    "    symkey = FALSE)\n",
    "vsmc_hcim <- cim(expdatbo[, vsmc_hw], dist.method = distmeth, clust.method = clustmeth,\n",
    "    scale = \"FALSE\", center = \"FALSE\", col.names = FALSE, legend = legendlstbol,\n",
    "    color = my_palettebol, cluster = 'col', save = 'pdf', name.save = 'temp.ready.to.delete',\n",
    "    col.sideColors = colData(vsmcmod_cds)$sidecolor[vsmc_hw],\n",
    "    symkey = FALSE)\n",
    "\n",
    "## The is the combined cell types, plotted with only genes fully clustered\n",
    "parthclust <- c(colnames(vsmc_dcim$mat), colnames(vsmc_hcim$mat))\n",
    "colornames <-colData(vsmcmod_cds)$sidecolor\n",
    "names(colornames) <- colnames(expdatbo)\n",
    "cim(expdatbo[, parthclust], dist.method = distmeth, clust.method = clustmeth,\n",
    "    scale = \"FALSE\", center = \"FALSE\", col.names = FALSE, legend = legendlstbol,\n",
    "    color = my_palettebol, cluster = 'row', save = 'pdf', name.save = 'temp.ready.to.delete',\n",
    "    col.sideColors = colornames[parthclust],\n",
    "    symkey = FALSE)\n",
    "\n",
    "## Repeated from above, this time to a file\n",
    "pdf(f1, width = 8, height = 16)\n",
    "cim_row <-cim(expdatbo[, parthclust], dist.method = distmeth, clust.method = clustmeth,\n",
    "    scale = \"FALSE\", center = \"FALSE\", col.names = FALSE, legend = legendlstbol,\n",
    "    color = my_palettebol, cluster = 'row', title = title1,\n",
    "    col.sideColors = colornames[parthclust],\n",
    "    symkey = FALSE)\n",
    "dev.off()\n",
    "\n",
    "## The is again the combined cell types, plotted with both genes and cells fully clustered\n",
    "cim(expdatbo[, parthclust], dist.method = distmeth, clust.method = clustmeth,\n",
    "    scale = \"FALSE\", center = \"FALSE\", col.names = FALSE, legend = legendlstbol,\n",
    "    color = my_palettebol, cluster = 'both', save = 'pdf', name.save = 'temp.ready.to.delete',\n",
    "    col.sideColors = colornames[parthclust], \n",
    "    symkey = FALSE)\n",
    "\n",
    "## Repeated from above, this time to a file\n",
    "pdf(f2, width = 8, height = 16)\n",
    "cim(expdatbo[, parthclust], dist.method = distmeth, clust.method = clustmeth,\n",
    "    scale = \"FALSE\", center = \"FALSE\", col.names = FALSE, legend = legendlstbol,\n",
    "    color = my_palettebol, cluster = 'both', title = title2,\n",
    "    col.sideColors = colornames[parthclust], \n",
    "    symkey = FALSE)\n",
    "dev.off()\n",
    "\n",
    "specialglist <- specialglist <- short2geneid[cim_row$row.names]\n",
    "# str(specialglist)\n",
    "pdf(f3, width = 2.75, height = 16)\n",
    "plot_genes_by_group2(vsmcmod_cds,\n",
    "                    axis_order = \"group_marker\",\n",
    "                    specialglist,\n",
    "                    group_cells_by = \"condtype\",\n",
    "                    ordering_type = \"as_ordered\", \n",
    "                    max.size = 3,\n",
    "                    norm_method = 'size_only',\n",
    "                    scale_max = 3, scale_min = -3)\n",
    "dev.off()"
   ]
  },
  {
   "cell_type": "code",
   "execution_count": null,
   "metadata": {},
   "outputs": [],
   "source": []
  },
  {
   "cell_type": "code",
   "execution_count": null,
   "metadata": {},
   "outputs": [],
   "source": []
  },
  {
   "cell_type": "code",
   "execution_count": null,
   "metadata": {},
   "outputs": [],
   "source": []
  },
  {
   "cell_type": "markdown",
   "metadata": {},
   "source": [
    "## VSMC EMT (Module 13) New Filter (No Filter) Applied"
   ]
  },
  {
   "cell_type": "code",
   "execution_count": 127,
   "metadata": {},
   "outputs": [
    {
     "data": {
      "text/plain": [
       "\n",
       "  cyan orange \n",
       "  1223   1223 "
      ]
     },
     "metadata": {},
     "output_type": "display_data"
    },
    {
     "data": {
      "text/html": [
       "<strong>png:</strong> 2"
      ],
      "text/latex": [
       "\\textbf{png:} 2"
      ],
      "text/markdown": [
       "**png:** 2"
      ],
      "text/plain": [
       "png \n",
       "  2 "
      ]
     },
     "metadata": {},
     "output_type": "display_data"
    },
    {
     "data": {
      "text/html": [
       "<strong>png:</strong> 2"
      ],
      "text/latex": [
       "\\textbf{png:} 2"
      ],
      "text/markdown": [
       "**png:** 2"
      ],
      "text/plain": [
       "png \n",
       "  2 "
      ]
     },
     "metadata": {},
     "output_type": "display_data"
    },
    {
     "data": {
      "text/html": [
       "<strong>png:</strong> 2"
      ],
      "text/latex": [
       "\\textbf{png:} 2"
      ],
      "text/markdown": [
       "**png:** 2"
      ],
      "text/plain": [
       "png \n",
       "  2 "
      ]
     },
     "metadata": {},
     "output_type": "display_data"
    }
   ],
   "source": [
    "## Get the Expression Set for VSMC Module 13 DE Genes, New Filter\n",
    "p <- 3\n",
    "vsmc_bool <- (colData(down_stdycds)$assigned_cell_type == celltypes6[p])\n",
    "vsmcmod_cds <- down_stdycds[fData(down_stdycds)@rownames %in% vsmc_modgenes13_ids, vsmc_bool]\n",
    "colData(vsmcmod_cds)$condtype <- paste('vsmc',\n",
    "    c('hea', 'dis')[(colData(vsmcmod_cds)$condition == 'diseased') + 1], sep = '-')\n",
    "colData(vsmcmod_cds)$sidecolor[colData(vsmcmod_cds)$condtype == 'ec-dis'] <- 'red'\n",
    "colData(vsmcmod_cds)$sidecolor[colData(vsmcmod_cds)$condtype == 'ec-hea'] <- 'blue'\n",
    "colData(vsmcmod_cds)$sidecolor[colData(vsmcmod_cds)$condtype == 'vsmc-dis'] <- 'orange'\n",
    "colData(vsmcmod_cds)$sidecolor[colData(vsmcmod_cds)$condtype == 'vsmc-hea'] <- 'cyan'\n",
    "cttable <- table(colData(vsmcmod_cds)$sidecolor)\n",
    "smallset <- min(cttable)\n",
    "cells2keep <- NULL\n",
    "set.seed(101)\n",
    "for (cellset_col in names(cttable)) {\n",
    "    cellsetrow <-  which(colData(vsmcmod_cds)$sidecolor == cellset_col)\n",
    "    cells2keep <- c(cells2keep, sample(cellsetrow, smallset, replace = FALSE))\n",
    "}\n",
    "vsmcmod_cds <- vsmcmod_cds[, cells2keep] \n",
    "\n",
    "table(colData(vsmcmod_cds)$sidecolor)\n",
    "expdat_vsmcmod <- as.matrix(exprs(vsmcmod_cds))\n",
    "rownames(expdat_vsmcmod) <- geneid2short[rownames(expdat_vsmcmod)] \n",
    "\n",
    "## This Code Plots the EC Cell Type with EMT and TNF Network Module Genes\n",
    "f1 <- '/Heatmap.VSMC.EMT.NoFilt.Genes.comp.bin.comp.bin.down.OnOff2Plus.preclustered.Rev1.pdf'\n",
    "f1 <- paste(datdir, '/', ps$outdir, celltypes6[p], f1, sep = '')\n",
    "title1 <- 'VSMC Network EMT (Module 13)\\nGenes, No Filter, Cells Pre-Clustered'\n",
    "\n",
    "f2 <- '/Heatmap.VSMC.EMT.NoFilt.Genes.comp.bin.comp.bin.down.OnOff2Plus.fullyclustered.Rev1.pdf'\n",
    "f2 <- paste(datdir, '/', ps$outdir, celltypes6[p], f2, sep = '')\n",
    "title2 <-  'VSMC Network EMT (Module 13)\\nGenes, No Filter, Cells Fully Clustered'\n",
    "\n",
    "f3 <- '/DotPlot.VSMC.EMT.NoFilt.Genes.Rev1.pdf'\n",
    "f3 <- paste(datdir, '/', ps$outdir, celltypes6[p], f3, sep = '')\n",
    "\n",
    "vsmc_dw <- which(colData(vsmcmod_cds)$condtype == 'vsmc-dis')\n",
    "vsmc_hw <- which(colData(vsmcmod_cds)$condtype == 'vsmc-hea')\n",
    "dims <- dim(expdat_vsmcmod)\n",
    "expdatbo <- (expdat_vsmcmod > 0) * 1 ## (expdat_vsmcmod > 1) * 1\n",
    "distmeth <- c('binary', 'binary')\n",
    "clustmeth = c('complete', 'complete')\n",
    "my_palettebol <- colorRampPalette(c('#660066', 'yellow'))(n = 2)\n",
    "legendlstbol <- list(legend = c('VSMC DIS', 'VSMC HEA'),\n",
    "              col = c('orange', 'cyan'), title = 'Cell Types', cex = .7)\n",
    "\n",
    "vsmc_dcim <- cim(expdatbo[, vsmc_dw], dist.method = distmeth, clust.method = clustmeth,\n",
    "    scale = \"FALSE\", center = \"FALSE\", col.names = FALSE, legend = legendlstbol,\n",
    "    color = my_palettebol, cluster = 'col', save = 'pdf', name.save = 'temp.ready.to.delete',\n",
    "    col.sideColors = colData(vsmcmod_cds)$sidecolor[vsmc_dw],\n",
    "    symkey = FALSE)\n",
    "vsmc_hcim <- cim(expdatbo[, vsmc_hw], dist.method = distmeth, clust.method = clustmeth,\n",
    "    scale = \"FALSE\", center = \"FALSE\", col.names = FALSE, legend = legendlstbol,\n",
    "    color = my_palettebol, cluster = 'col', save = 'pdf', name.save = 'temp.ready.to.delete',\n",
    "    col.sideColors = colData(vsmcmod_cds)$sidecolor[vsmc_hw],\n",
    "    symkey = FALSE)\n",
    "\n",
    "## The is the combined cell types, plotted with only genes fully clustered\n",
    "parthclust <- c(colnames(vsmc_dcim$mat), colnames(vsmc_hcim$mat))\n",
    "colornames <-colData(vsmcmod_cds)$sidecolor\n",
    "names(colornames) <- colnames(expdatbo)\n",
    "cim(expdatbo[, parthclust], dist.method = distmeth, clust.method = clustmeth,\n",
    "    scale = \"FALSE\", center = \"FALSE\", col.names = FALSE, legend = legendlstbol,\n",
    "    color = my_palettebol, cluster = 'row', save = 'pdf', name.save = 'temp.ready.to.delete',\n",
    "    col.sideColors = colornames[parthclust],\n",
    "    symkey = FALSE)\n",
    "\n",
    "## Repeated from above, this time to a file\n",
    "pdf(f1, width = 8, height = 16)\n",
    "cim_row <-cim(expdatbo[, parthclust], dist.method = distmeth, clust.method = clustmeth,\n",
    "    scale = \"FALSE\", center = \"FALSE\", col.names = FALSE, legend = legendlstbol,\n",
    "    color = my_palettebol, cluster = 'row', title = title1,\n",
    "    col.sideColors = colornames[parthclust],\n",
    "    symkey = FALSE)\n",
    "dev.off()\n",
    "\n",
    "## The is again the combined cell types, plotted with both genes and cells fully clustered\n",
    "cim(expdatbo[, parthclust], dist.method = distmeth, clust.method = clustmeth,\n",
    "    scale = \"FALSE\", center = \"FALSE\", col.names = FALSE, legend = legendlstbol,\n",
    "    color = my_palettebol, cluster = 'both', save = 'pdf', name.save = 'temp.ready.to.delete',\n",
    "    col.sideColors = colornames[parthclust], \n",
    "    symkey = FALSE)\n",
    "\n",
    "## Repeated from above, this time to a file\n",
    "pdf(f2, width = 8, height = 16)\n",
    "cim(expdatbo[, parthclust], dist.method = distmeth, clust.method = clustmeth,\n",
    "    scale = \"FALSE\", center = \"FALSE\", col.names = FALSE, legend = legendlstbol,\n",
    "    color = my_palettebol, cluster = 'both', title = title2,\n",
    "    col.sideColors = colornames[parthclust], \n",
    "    symkey = FALSE)\n",
    "dev.off()\n",
    "\n",
    "specialglist <- specialglist <- short2geneid[cim_row$row.names]\n",
    "# str(specialglist)\n",
    "pdf(f3, width = 2.75, height = 16)\n",
    "plot_genes_by_group2(vsmcmod_cds,\n",
    "                    axis_order = \"group_marker\",\n",
    "                    specialglist,\n",
    "                    group_cells_by = \"condtype\",\n",
    "                    ordering_type = \"as_ordered\", \n",
    "                    max.size = 3,\n",
    "                    norm_method = 'size_only',\n",
    "                    scale_max = 3, scale_min = -3)\n",
    "dev.off()"
   ]
  },
  {
   "cell_type": "code",
   "execution_count": null,
   "metadata": {},
   "outputs": [],
   "source": []
  },
  {
   "cell_type": "code",
   "execution_count": null,
   "metadata": {},
   "outputs": [],
   "source": []
  },
  {
   "cell_type": "code",
   "execution_count": null,
   "metadata": {},
   "outputs": [],
   "source": []
  },
  {
   "cell_type": "markdown",
   "metadata": {},
   "source": [
    "## VSMC TNF (Module 31) New Filter (No Filter) Applied"
   ]
  },
  {
   "cell_type": "code",
   "execution_count": 128,
   "metadata": {},
   "outputs": [
    {
     "data": {
      "text/plain": [
       "\n",
       "  cyan orange \n",
       "  1223   1223 "
      ]
     },
     "metadata": {},
     "output_type": "display_data"
    },
    {
     "data": {
      "text/html": [
       "<strong>png:</strong> 2"
      ],
      "text/latex": [
       "\\textbf{png:} 2"
      ],
      "text/markdown": [
       "**png:** 2"
      ],
      "text/plain": [
       "png \n",
       "  2 "
      ]
     },
     "metadata": {},
     "output_type": "display_data"
    },
    {
     "data": {
      "text/html": [
       "<strong>png:</strong> 2"
      ],
      "text/latex": [
       "\\textbf{png:} 2"
      ],
      "text/markdown": [
       "**png:** 2"
      ],
      "text/plain": [
       "png \n",
       "  2 "
      ]
     },
     "metadata": {},
     "output_type": "display_data"
    },
    {
     "data": {
      "text/html": [
       "<strong>png:</strong> 2"
      ],
      "text/latex": [
       "\\textbf{png:} 2"
      ],
      "text/markdown": [
       "**png:** 2"
      ],
      "text/plain": [
       "png \n",
       "  2 "
      ]
     },
     "metadata": {},
     "output_type": "display_data"
    }
   ],
   "source": [
    "## Get the Expression Set for VSMC Modules 31 DE Genes, New Filter\n",
    "p <- 3\n",
    "vsmc_bool <- (colData(down_stdycds)$assigned_cell_type == celltypes6[p])\n",
    "vsmcmod_cds <- down_stdycds[fData(down_stdycds)@rownames %in% vsmc_modgenes13_ids, vsmc_bool]\n",
    "colData(vsmcmod_cds)$condtype <- paste('vsmc',\n",
    "    c('hea', 'dis')[(colData(vsmcmod_cds)$condition == 'diseased') + 1], sep = '-')\n",
    "colData(vsmcmod_cds)$sidecolor[colData(vsmcmod_cds)$condtype == 'ec-dis'] <- 'red'\n",
    "colData(vsmcmod_cds)$sidecolor[colData(vsmcmod_cds)$condtype == 'ec-hea'] <- 'blue'\n",
    "colData(vsmcmod_cds)$sidecolor[colData(vsmcmod_cds)$condtype == 'vsmc-dis'] <- 'orange'\n",
    "colData(vsmcmod_cds)$sidecolor[colData(vsmcmod_cds)$condtype == 'vsmc-hea'] <- 'cyan'\n",
    "cttable <- table(colData(vsmcmod_cds)$sidecolor)\n",
    "smallset <- min(cttable)\n",
    "cells2keep <- NULL\n",
    "set.seed(101)\n",
    "for (cellset_col in names(cttable)) {\n",
    "    cellsetrow <-  which(colData(vsmcmod_cds)$sidecolor == cellset_col)\n",
    "    cells2keep <- c(cells2keep, sample(cellsetrow, smallset, replace = FALSE))\n",
    "}\n",
    "vsmcmod_cds <- vsmcmod_cds[, cells2keep] \n",
    "\n",
    "table(colData(vsmcmod_cds)$sidecolor)\n",
    "expdat_vsmcmod <- as.matrix(exprs(vsmcmod_cds))\n",
    "rownames(expdat_vsmcmod) <- geneid2short[rownames(expdat_vsmcmod)] \n",
    "\n",
    "## This Code Plots the EC Cell Type with EMT and TNF Network Module Genes\n",
    "f1 <- '/Heatmap.VSMC.TNF.NoFilt.Genes.comp.bin.comp.bin.down.OnOff2Plus.preclustered.Rev1.pdf'\n",
    "f1 <- paste(datdir, '/', ps$outdir, celltypes6[p], f1, sep = '')\n",
    "title1 <- 'VSMC Network TNF (Module 31)\\nGenes, No Filter, Cells Pre-Clustered'\n",
    "\n",
    "f2 <- '/Heatmap.VSMC.TNF.NoFilt.Genes.comp.bin.comp.bin.down.OnOff2Plus.fullyclustered.Rev1.pdf'\n",
    "f2 <- paste(datdir, '/', ps$outdir, celltypes6[p], f2, sep = '')\n",
    "title2 <-  'VSMC Network TNF (Module 31)\\nGenes, No Filter, Cells Fully Clustered'\n",
    "\n",
    "f3 <- '/DotPlot.VSMC.TNF.NoFilt.Genes.Rev1.pdf'\n",
    "f3 <- paste(datdir, '/', ps$outdir, celltypes6[p], f3, sep = '')\n",
    "\n",
    "vsmc_dw <- which(colData(vsmcmod_cds)$condtype == 'vsmc-dis')\n",
    "vsmc_hw <- which(colData(vsmcmod_cds)$condtype == 'vsmc-hea')\n",
    "dims <- dim(expdat_vsmcmod)\n",
    "expdatbo <- (expdat_vsmcmod > 0) * 1 ## (expdat_vsmcmod > 1) * 1\n",
    "distmeth <- c('binary', 'binary')\n",
    "clustmeth = c('complete', 'complete')\n",
    "my_palettebol <- colorRampPalette(c('#660066', 'yellow'))(n = 2)\n",
    "legendlstbol <- list(legend = c('VSMC DIS', 'VSMC HEA'),\n",
    "              col = c('orange', 'cyan'), title = 'Cell Types', cex = .7)\n",
    "\n",
    "vsmc_dcim <- cim(expdatbo[, vsmc_dw], dist.method = distmeth, clust.method = clustmeth,\n",
    "    scale = \"FALSE\", center = \"FALSE\", col.names = FALSE, legend = legendlstbol,\n",
    "    color = my_palettebol, cluster = 'col', save = 'pdf', name.save = 'temp.ready.to.delete',\n",
    "    col.sideColors = colData(vsmcmod_cds)$sidecolor[vsmc_dw],\n",
    "    symkey = FALSE)\n",
    "vsmc_hcim <- cim(expdatbo[, vsmc_hw], dist.method = distmeth, clust.method = clustmeth,\n",
    "    scale = \"FALSE\", center = \"FALSE\", col.names = FALSE, legend = legendlstbol,\n",
    "    color = my_palettebol, cluster = 'col', save = 'pdf', name.save = 'temp.ready.to.delete',\n",
    "    col.sideColors = colData(vsmcmod_cds)$sidecolor[vsmc_hw],\n",
    "    symkey = FALSE)\n",
    "\n",
    "## The is the combined cell types, plotted with only genes fully clustered\n",
    "parthclust <- c(colnames(vsmc_dcim$mat), colnames(vsmc_hcim$mat))\n",
    "colornames <-colData(vsmcmod_cds)$sidecolor\n",
    "names(colornames) <- colnames(expdatbo)\n",
    "cim(expdatbo[, parthclust], dist.method = distmeth, clust.method = clustmeth,\n",
    "    scale = \"FALSE\", center = \"FALSE\", col.names = FALSE, legend = legendlstbol,\n",
    "    color = my_palettebol, cluster = 'row', save = 'pdf', name.save = 'temp.ready.to.delete',\n",
    "    col.sideColors = colornames[parthclust],\n",
    "    symkey = FALSE)\n",
    "\n",
    "## Repeated from above, this time to a file\n",
    "pdf(f1, width = 8, height = 16)\n",
    "cim_row <-cim(expdatbo[, parthclust], dist.method = distmeth, clust.method = clustmeth,\n",
    "    scale = \"FALSE\", center = \"FALSE\", col.names = FALSE, legend = legendlstbol,\n",
    "    color = my_palettebol, cluster = 'row', title = title1,\n",
    "    col.sideColors = colornames[parthclust],\n",
    "    symkey = FALSE)\n",
    "dev.off()\n",
    "\n",
    "## The is again the combined cell types, plotted with both genes and cells fully clustered\n",
    "cim(expdatbo[, parthclust], dist.method = distmeth, clust.method = clustmeth,\n",
    "    scale = \"FALSE\", center = \"FALSE\", col.names = FALSE, legend = legendlstbol,\n",
    "    color = my_palettebol, cluster = 'both', save = 'pdf', name.save = 'temp.ready.to.delete',\n",
    "    col.sideColors = colornames[parthclust], \n",
    "    symkey = FALSE)\n",
    "\n",
    "## Repeated from above, this time to a file\n",
    "pdf(f2, width = 8, height = 16)\n",
    "cim(expdatbo[, parthclust], dist.method = distmeth, clust.method = clustmeth,\n",
    "    scale = \"FALSE\", center = \"FALSE\", col.names = FALSE, legend = legendlstbol,\n",
    "    color = my_palettebol, cluster = 'both', title = title2,\n",
    "    col.sideColors = colornames[parthclust], \n",
    "    symkey = FALSE)\n",
    "dev.off()\n",
    "\n",
    "specialglist <- specialglist <- short2geneid[cim_row$row.names]\n",
    "# str(specialglist)\n",
    "pdf(f3, width = 2.75, height = 16)\n",
    "plot_genes_by_group2(vsmcmod_cds,\n",
    "                    axis_order = \"group_marker\",\n",
    "                    specialglist,\n",
    "                    group_cells_by = \"condtype\",\n",
    "                    ordering_type = \"as_ordered\", \n",
    "                    max.size = 3,\n",
    "                    norm_method = 'size_only',\n",
    "                    scale_max = 3, scale_min = -3)\n",
    "dev.off()"
   ]
  },
  {
   "cell_type": "code",
   "execution_count": null,
   "metadata": {},
   "outputs": [],
   "source": []
  },
  {
   "cell_type": "code",
   "execution_count": null,
   "metadata": {},
   "outputs": [],
   "source": []
  },
  {
   "cell_type": "code",
   "execution_count": null,
   "metadata": {},
   "outputs": [],
   "source": []
  },
  {
   "cell_type": "code",
   "execution_count": null,
   "metadata": {},
   "outputs": [],
   "source": []
  },
  {
   "cell_type": "markdown",
   "metadata": {},
   "source": [
    "## EC Unknown Process (Modules 1, 35, 36)\n",
    "### Superceded by updated code below"
   ]
  },
  {
   "cell_type": "code",
   "execution_count": 171,
   "metadata": {},
   "outputs": [
    {
     "data": {
      "text/plain": [
       "\n",
       "blue  red \n",
       " 449  449 "
      ]
     },
     "metadata": {},
     "output_type": "display_data"
    },
    {
     "data": {
      "text/html": [
       "<strong>png:</strong> 2"
      ],
      "text/latex": [
       "\\textbf{png:} 2"
      ],
      "text/markdown": [
       "**png:** 2"
      ],
      "text/plain": [
       "png \n",
       "  2 "
      ]
     },
     "metadata": {},
     "output_type": "display_data"
    },
    {
     "data": {
      "text/html": [
       "<strong>png:</strong> 2"
      ],
      "text/latex": [
       "\\textbf{png:} 2"
      ],
      "text/markdown": [
       "**png:** 2"
      ],
      "text/plain": [
       "png \n",
       "  2 "
      ]
     },
     "metadata": {},
     "output_type": "display_data"
    },
    {
     "data": {
      "text/html": [
       "<strong>png:</strong> 2"
      ],
      "text/latex": [
       "\\textbf{png:} 2"
      ],
      "text/markdown": [
       "**png:** 2"
      ],
      "text/plain": [
       "png \n",
       "  2 "
      ]
     },
     "metadata": {},
     "output_type": "display_data"
    }
   ],
   "source": [
    "## Get the Expression Set for EC 1, 35, 36 DE Genes\n",
    "p <- 2\n",
    "ec_bool <- (colData(down_stdycds)$assigned_cell_type == celltypes6[p])\n",
    "ecmod_cds <- down_stdycds[fData(down_stdycds)@rownames %in% ec_modgenes_1_35_36_ids, ec_bool]\n",
    "colData(ecmod_cds)$condtype <- paste('ec',\n",
    "    c('hea', 'dis')[(colData(ecmod_cds)$condition == 'diseased') + 1], sep = '-')\n",
    "colData(ecmod_cds)$sidecolor[colData(ecmod_cds)$condtype == 'ec-dis'] <- 'red'\n",
    "colData(ecmod_cds)$sidecolor[colData(ecmod_cds)$condtype == 'ec-hea'] <- 'blue'\n",
    "colData(ecmod_cds)$sidecolor[colData(ecmod_cds)$condtype == 'vsmc-dis'] <- 'orange'\n",
    "colData(ecmod_cds)$sidecolor[colData(ecmod_cds)$condtype == 'vsmc-hea'] <- 'cyan'\n",
    "cttable <- table(colData(ecmod_cds)$sidecolor)\n",
    "smallset <- min(cttable)\n",
    "cells2keep <- NULL\n",
    "set.seed(101)\n",
    "for (cellset_col in names(cttable)) {\n",
    "    cellsetrow <-  which(colData(ecmod_cds)$sidecolor == cellset_col)\n",
    "    cells2keep <- c(cells2keep, sample(cellsetrow, smallset, replace = FALSE))\n",
    "}\n",
    "ecmod_cds <- ecmod_cds[, cells2keep] \n",
    "\n",
    "table(colData(ecmod_cds)$sidecolor)\n",
    "expdat_ecmod <- as.matrix(exprs(ecmod_cds))\n",
    "rownames(expdat_ecmod) <- geneid2short[rownames(expdat_ecmod)] \n",
    "\n",
    "## This is a new round of heatmaps, with new genes and down sampled cell tpyes\n",
    "f1 <- '/Heatmap.EC.Mod1.35.36.Genes.comp.bin.comp.bin.down.OnOff2Plus.preclustered.Rev1.pdf'\n",
    "f1 <- paste(datdir, '/', ps$outdir, celltypes6[p], f1, sep = '')\n",
    "title1 <- 'Endothelial Network \\nModules 1, 35 and 36 Genes, Cells Pre-Clustered'\n",
    "\n",
    "f2 <- '/Heatmap.EC.Mod1.35.3.Genes.comp.bin.comp.bin.down.OnOff2Plus.fullyclustered.Rev1.pdf'\n",
    "f2 <- paste(datdir, '/', ps$outdir, celltypes6[p], f2, sep = '')\n",
    "title2 <-  'Endothelial Network \\nModule  1, 35 and 36 Genes, Cells Fully Clustered'\n",
    "\n",
    "f3 <- '/DotPlot.EC.1.35.36.Genes.Rev1.pdf'\n",
    "f3 <- paste(datdir, '/', ps$outdir, celltypes6[p], f3, sep = '')\n",
    "\n",
    "ec_dw <- which(colData(ecmod_cds)$condtype == 'ec-dis')\n",
    "ec_hw <- which(colData(ecmod_cds)$condtype == 'ec-hea')\n",
    "dims <- dim(expdat_ecmod)\n",
    "expdatbo <- (expdat_ecmod > 1) * 1\n",
    "distmeth <- c('binary', 'binary')\n",
    "clustmeth = c('complete', 'complete')\n",
    "my_palettebol <- colorRampPalette(c('#660066', 'yellow'))(n = 2)\n",
    "legendlstbol <- list(legend = c('EC DIS', 'EC HEA'),\n",
    "              col = c('red', 'blue'), title = 'Cell Types', cex = .7)\n",
    "\n",
    "ec_dcim <- cim(expdatbo[, ec_dw], dist.method = distmeth, clust.method = clustmeth,\n",
    "    scale = \"FALSE\", center = \"FALSE\", col.names = FALSE, legend = legendlstbol,\n",
    "    color = my_palettebol, cluster = 'col',\n",
    "    col.sideColors = colData(ecmod_cds)$sidecolor[ec_dw],\n",
    "    symkey = FALSE, save = 'pdf', name.save = 'temp.ready.to.delete')\n",
    "ec_hcim <- cim(expdatbo[, ec_hw], dist.method = distmeth, clust.method = clustmeth,\n",
    "    scale = \"FALSE\", center = \"FALSE\", col.names = FALSE, legend = legendlstbol,\n",
    "    color = my_palettebol, cluster = 'col',\n",
    "    col.sideColors = colData(ecmod_cds)$sidecolor[ec_hw],\n",
    "    symkey = FALSE, save = 'pdf', name.save = 'temp.ready.to.delete')\n",
    "\n",
    "## The is the combined cell types, plotted with only genes fully clustered\n",
    "parthclust <- c(colnames(ec_dcim$mat), colnames(ec_hcim$mat))\n",
    "colornames <-colData(ecmod_cds)$sidecolor\n",
    "names(colornames) <- colnames(expdatbo)\n",
    "cim(expdatbo[, parthclust], dist.method = distmeth, clust.method = clustmeth,\n",
    "    scale = \"FALSE\", center = \"FALSE\", col.names = FALSE, legend = legendlstbol,\n",
    "    color = my_palettebol, cluster = 'row',\n",
    "    col.sideColors = colornames[parthclust],\n",
    "    symkey = FALSE, save = 'pdf', name.save = 'temp.ready.to.delete')\n",
    "\n",
    "## Repeated from above, this time to a file\n",
    "pdf(f1, width = 8, height = 24)\n",
    "cim_row <-cim(expdatbo[, parthclust], dist.method = distmeth, clust.method = clustmeth,\n",
    "    scale = \"FALSE\", center = \"FALSE\", col.names = FALSE, legend = legendlstbol,\n",
    "    color = my_palettebol, cluster = 'row', title = title1,\n",
    "    col.sideColors = colornames[parthclust],\n",
    "    symkey = FALSE)\n",
    "dev.off()\n",
    "\n",
    "## The is again the combined cell types, plotted with both genes and cells fully clustered\n",
    "cim(expdatbo[, parthclust], dist.method = distmeth, clust.method = clustmeth,\n",
    "    scale = \"FALSE\", center = \"FALSE\", col.names = FALSE, legend = legendlstbol,\n",
    "    color = my_palettebol, cluster = 'both',\n",
    "    col.sideColors = colornames[parthclust],\n",
    "    symkey = FALSE, save = 'pdf', name.save = 'temp.ready.to.delete')\n",
    "\n",
    "## Repeated from above, this time to a file\n",
    "pdf(f2, width = 8, height = 24)\n",
    "cim(expdatbo[, parthclust], dist.method = distmeth, clust.method = clustmeth,\n",
    "    scale = \"FALSE\", center = \"FALSE\", col.names = FALSE, legend = legendlstbol,\n",
    "    color = my_palettebol, cluster = 'both', title = title2,\n",
    "    col.sideColors = colornames[parthclust],\n",
    "    symkey = FALSE)\n",
    "dev.off()\n",
    "\n",
    "## Dot Plot Based on Genes Order\n",
    "specialglist <- specialglist <- short2geneid[cim_row$row.names]\n",
    "# str(specialglist)\n",
    "pdf(f3, width = 2.75, height = 23)\n",
    "plot_genes_by_group2(ecmod_cds,\n",
    "                    axis_order = \"group_marker\",\n",
    "                    specialglist,\n",
    "                    group_cells_by = \"condtype\",\n",
    "                    ordering_type = \"as_ordered\", \n",
    "                    max.size = 3,\n",
    "                    norm_method = 'size_only',\n",
    "                    scale_max = 3, scale_min = -3)\n",
    "dev.off()"
   ]
  },
  {
   "cell_type": "code",
   "execution_count": null,
   "metadata": {},
   "outputs": [],
   "source": []
  },
  {
   "cell_type": "code",
   "execution_count": null,
   "metadata": {},
   "outputs": [],
   "source": []
  },
  {
   "cell_type": "code",
   "execution_count": null,
   "metadata": {},
   "outputs": [],
   "source": []
  },
  {
   "cell_type": "code",
   "execution_count": null,
   "metadata": {},
   "outputs": [],
   "source": []
  },
  {
   "cell_type": "markdown",
   "metadata": {},
   "source": [
    "## EC Unknown Process (Modules 1, 35, 36)\n",
    "### Updated code"
   ]
  },
  {
   "cell_type": "code",
   "execution_count": 152,
   "metadata": {},
   "outputs": [
    {
     "data": {
      "text/plain": [
       "\n",
       "blue  red \n",
       " 449  449 "
      ]
     },
     "metadata": {},
     "output_type": "display_data"
    },
    {
     "data": {
      "text/html": [
       "<strong>png:</strong> 2"
      ],
      "text/latex": [
       "\\textbf{png:} 2"
      ],
      "text/markdown": [
       "**png:** 2"
      ],
      "text/plain": [
       "png \n",
       "  2 "
      ]
     },
     "metadata": {},
     "output_type": "display_data"
    },
    {
     "data": {
      "text/html": [
       "<strong>png:</strong> 2"
      ],
      "text/latex": [
       "\\textbf{png:} 2"
      ],
      "text/markdown": [
       "**png:** 2"
      ],
      "text/plain": [
       "png \n",
       "  2 "
      ]
     },
     "metadata": {},
     "output_type": "display_data"
    },
    {
     "data": {
      "text/html": [
       "<strong>png:</strong> 2"
      ],
      "text/latex": [
       "\\textbf{png:} 2"
      ],
      "text/markdown": [
       "**png:** 2"
      ],
      "text/plain": [
       "png \n",
       "  2 "
      ]
     },
     "metadata": {},
     "output_type": "display_data"
    },
    {
     "data": {
      "text/html": [
       "<strong>png:</strong> 2"
      ],
      "text/latex": [
       "\\textbf{png:} 2"
      ],
      "text/markdown": [
       "**png:** 2"
      ],
      "text/plain": [
       "png \n",
       "  2 "
      ]
     },
     "metadata": {},
     "output_type": "display_data"
    },
    {
     "data": {
      "text/html": [
       "<strong>png:</strong> 2"
      ],
      "text/latex": [
       "\\textbf{png:} 2"
      ],
      "text/markdown": [
       "**png:** 2"
      ],
      "text/plain": [
       "png \n",
       "  2 "
      ]
     },
     "metadata": {},
     "output_type": "display_data"
    }
   ],
   "source": [
    "## Get the Expression Set for EC 1, 35, 36 DE Genes\n",
    "p <- 2\n",
    "ec_bool <- (colData(down_stdycds)$assigned_cell_type == celltypes6[p])\n",
    "ecmod_cds <- down_stdycds[fData(down_stdycds)@rownames %in% ec_modgenes_1_35_36_ids, ec_bool]\n",
    "colData(ecmod_cds)$condtype <- paste('ec',\n",
    "    c('hea', 'dis')[(colData(ecmod_cds)$condition == 'diseased') + 1], sep = '-')\n",
    "colData(ecmod_cds)$sidecolor[colData(ecmod_cds)$condtype == 'ec-dis'] <- 'red'\n",
    "colData(ecmod_cds)$sidecolor[colData(ecmod_cds)$condtype == 'ec-hea'] <- 'blue'\n",
    "# colData(ecmod_cds)$sidecolor[colData(ecmod_cds)$condtype == 'vsmc-dis'] <- 'orange'\n",
    "# colData(ecmod_cds)$sidecolor[colData(ecmod_cds)$condtype == 'vsmc-hea'] <- 'cyan'\n",
    "\n",
    "## Down Sample\n",
    "cttable <- table(colData(ecmod_cds)$sidecolor)\n",
    "smallset <- min(cttable)\n",
    "cells2keep <- NULL\n",
    "set.seed(101)\n",
    "for (cellset_col in names(cttable)) {\n",
    "    cellsetrow <-  which(colData(ecmod_cds)$sidecolor == cellset_col)\n",
    "    cells2keep <- c(cells2keep, sample(cellsetrow, smallset, replace = FALSE))\n",
    "}\n",
    "ecmod_cds <- ecmod_cds[, cells2keep] \n",
    "\n",
    "## Print the down sampled data set sizes\n",
    "table(colData(ecmod_cds)$sidecolor)\n",
    "\n",
    "## Get the expresion matrix\n",
    "expdat_ecmod <- as.matrix(exprs(ecmod_cds))\n",
    "rownames(expdat_ecmod) <- geneid2short[rownames(expdat_ecmod)] \n",
    "\n",
    "## This is a new round of heatmaps, with new genes and down sampled cell tpyes\n",
    "f1 <- '/Heatmap.EC.Mod1.35.36.Genes.comp.bin.comp.bin.down.OnOff2Plus.preclustered.Rev2.pdf'\n",
    "f1 <- paste(datdir, '/', ps$outdir, celltypes6[p], f1, sep = '')\n",
    "title1 <- 'Endothelial Network \\nModules 1, 35 and 36 Genes, Cells Pre-Clustered'\n",
    "\n",
    "f2 <- '/Heatmap.EC.Mod1.35.36.Genes.comp.bin.comp.bin.down.OnOff2Plus.fullyclustered.Rev2.pdf'\n",
    "f2 <- paste(datdir, '/', ps$outdir, celltypes6[p], f2, sep = '')\n",
    "title2 <-  'Endothelial Network \\nModule  1, 35 and 36 Genes, Cells Fully Clustered'\n",
    "\n",
    "f3 <- '/DotPlot.EC.Mod1.35.36.Genes.Rev2.pdf'\n",
    "f3 <- paste(datdir, '/', ps$outdir, celltypes6[p], f3, sep = '')\n",
    "\n",
    "f4 <- '/Heatmap.EC.Mod1.35.36.Genes.comp.bin.comp.bin.down.OnOff2Plus.fullyclustered.cut.Rev4.pdf'\n",
    "f4 <- paste(datdir, '/', ps$outdir, celltypes6[p], f4, sep = '')\n",
    "title4 <-  'VSMC Network Modules  1, 35 and 36\\nGenes, Cells Fully Clustered with Cuts'\n",
    "\n",
    "f5 <- '/DotPlot.EC.Mod1.35.36.Genes.cuts.Rev4.pdf'\n",
    "f5 <- paste(datdir, '/', ps$outdir, celltypes6[p], f5, sep = '')\n",
    "\n",
    "## Prepare for pre-clustering\n",
    "ec_dw <- which(colData(ecmod_cds)$condtype == 'ec-dis')\n",
    "ec_hw <- which(colData(ecmod_cds)$condtype == 'ec-hea')\n",
    "\n",
    "## Transform the data\n",
    "dims <- dim(expdat_ecmod)\n",
    "expdatbo <- (expdat_ecmod > 1) * 1\n",
    "\n",
    "## Set up clustering parameters\n",
    "## Distance method, cluster method, heatmap color scheme, legend\n",
    "distmeth <- c('binary', 'binary')\n",
    "clustmeth = c('complete', 'complete')\n",
    "my_palettebol <- colorRampPalette(c('#660066', 'yellow'))(n = 2)\n",
    "legendlstbol <- list(legend = c('EC DIS', 'EC HEA'),\n",
    "              col = c('red', 'blue'), title = 'Cell Types', cex = .7)\n",
    "\n",
    "## Individually cluster the columns of the two cell sets\n",
    "ec_dcim <- cim(expdatbo[, ec_dw], dist.method = distmeth, clust.method = clustmeth,\n",
    "    scale = \"FALSE\", center = \"FALSE\", col.names = FALSE, legend = legendlstbol,\n",
    "    color = my_palettebol, cluster = 'col',\n",
    "    col.sideColors = colData(ecmod_cds)$sidecolor[ec_dw],\n",
    "    symkey = FALSE, save = 'pdf', name.save = 'temp.ready.to.delete')\n",
    "ec_hcim <- cim(expdatbo[, ec_hw], dist.method = distmeth, clust.method = clustmeth,\n",
    "    scale = \"FALSE\", center = \"FALSE\", col.names = FALSE, legend = legendlstbol,\n",
    "    color = my_palettebol, cluster = 'col',\n",
    "    col.sideColors = colData(ecmod_cds)$sidecolor[ec_hw],\n",
    "    symkey = FALSE, save = 'pdf', name.save = 'temp.ready.to.delete')\n",
    "\n",
    "## This is the combined (concantenated) preclustered cell types\n",
    "## which are plotted with genes fully clustered (check plot)\n",
    "parthclust <- c(colnames(ec_dcim$mat), colnames(ec_hcim$mat))\n",
    "colornames <-colData(ecmod_cds)$sidecolor\n",
    "names(colornames) <- colnames(expdatbo)\n",
    "\n",
    "## This is just a check plot to the screen\n",
    "# cim(expdatbo[, parthclust], dist.method = distmeth, clust.method = clustmeth,\n",
    "#     scale = \"FALSE\", center = \"FALSE\", col.names = FALSE, legend = legendlstbol,\n",
    "#     color = my_palettebol, cluster = 'row',\n",
    "#     col.sideColors = colornames[parthclust],\n",
    "#     symkey = FALSE, save = 'pdf', name.save = 'temp.ready.to.delete')\n",
    "\n",
    "## Repeated from above, this time to a file\n",
    "pdf(f1, width = 8, height = 24)\n",
    "cim(expdatbo[, parthclust], dist.method = distmeth, clust.method = clustmeth,\n",
    "    scale = \"FALSE\", center = \"FALSE\", col.names = FALSE, legend = legendlstbol,\n",
    "    color = my_palettebol, cluster = 'row', title = title1,\n",
    "    col.sideColors = colornames[parthclust],\n",
    "    symkey = FALSE)\n",
    "dev.off()\n",
    "\n",
    "## The is again the combined cell types, plotted with both genes and cells fully clustered\n",
    "cim_save <- cim(expdatbo[, parthclust], dist.method = distmeth, clust.method = clustmeth,\n",
    "    scale = \"FALSE\", center = \"FALSE\", col.names = FALSE, legend = legendlstbol,\n",
    "    color = my_palettebol, cluster = 'both', save = 'pdf', name.save = 'temp.ready.to.delete',\n",
    "    col.sideColors = colornames[parthclust], \n",
    "    symkey = FALSE)\n",
    "\n",
    "## This is a check plot to the screen and it should match the above plot perfectly\n",
    "# cim(expdatbo[, colnames(cim_save$mat)], dist.method = distmeth, clust.method = clustmeth,\n",
    "#     scale = \"FALSE\", center = \"FALSE\", col.names = FALSE, legend = legendlstbol,\n",
    "#     color = my_palettebol, cluster = 'row', # save = 'pdf', name.save = 'temp.ready.to.delete',\n",
    "#     col.sideColors = colornames[colnames(cim_save$mat)], \n",
    "#     symkey = FALSE)\n",
    "\n",
    "## Repeated from above, this time to a file (make sure to cluster again to plot cell dendrogram)\n",
    "pdf(f2, width = 8, height = 24)\n",
    "cim(expdatbo[, parthclust], dist.method = distmeth, clust.method = clustmeth,\n",
    "    scale = \"FALSE\", center = \"FALSE\", col.names = FALSE, legend = legendlstbol,\n",
    "    color = my_palettebol, cluster = 'both', title = title2,\n",
    "    col.sideColors = colornames[parthclust], \n",
    "    symkey = FALSE)\n",
    "dev.off()\n",
    "\n",
    "specialglist <- short2geneid[cim_save$row.names]\n",
    "pdf(f3, width = 2.75, height = 23)\n",
    "plot_genes_by_group2(ecmod_cds,\n",
    "                    axis_order = \"group_marker\",\n",
    "                    specialglist,\n",
    "                    group_cells_by = \"condtype\",\n",
    "                    ordering_type = \"as_ordered\", \n",
    "                    max.size = 3,\n",
    "                    norm_method = 'size_only',\n",
    "                    scale_max = 3, scale_min = -3)\n",
    "dev.off()\n",
    "\n",
    "## Set up for plot with special cut regions\n",
    "cim_o <- colnames(cim_save$mat)\n",
    "cut0 <- 1\n",
    "cut1 <- floor(length(cim_o) * (2.15) / 7.375)\n",
    "cut2 <- floor(length(cim_o) * (3 + 3 / 8) / 7.375)\n",
    "cut3 <- floor(length(cim_o) * (4 + 3 / 4) / 7.375)\n",
    "cut4 <- floor(length(cim_o) * (5 + 1 / 4) / 7.375)\n",
    "cut5 <- floor(length(cim_o) * (6 + 3 / 4) / 7.375)\n",
    "cut6 <- length(cim_o)\n",
    "wcut1 <- which(colnames(expdatbo) %in% cim_o[cut0:cut1])\n",
    "wcut2 <- which(colnames(expdatbo) %in% cim_o[(cut1 + 1):cut2])\n",
    "wcut3 <- which(colnames(expdatbo) %in% cim_o[(cut2 + 1):cut3])\n",
    "wcut4 <- which(colnames(expdatbo) %in% cim_o[(cut3 + 1):cut4])\n",
    "wcut5 <- which(colnames(expdatbo) %in% cim_o[(cut4 + 1):cut5])\n",
    "wcut6 <- which(colnames(expdatbo) %in% cim_o[(cut5 + 1):cut6])\n",
    "wcuts <- c(wcut1, wcut2, wcut3, wcut4, wcut5, wcut6)\n",
    "cell_subg_cols <- vector(mode = 'character', length = length(cim_o))\n",
    "cell_subg_names <- vector(mode = 'character', length = length(cim_o))\n",
    "cell_subg_cols[wcut1] <- '#404040' # '1gray'\n",
    "cell_subg_names[wcut1] <- '1gray'\n",
    "cell_subg_cols[wcut2] <- '#606060' # '2gray'\n",
    "cell_subg_names[wcut2] <- '2gray'\n",
    "cell_subg_cols[wcut3] <- '#808080' # '3gray'\n",
    "cell_subg_names[wcut3] <- '3gray'\n",
    "cell_subg_cols[wcut4] <- '#A0A0A0' # '4gray'\n",
    "cell_subg_names[wcut4] <- '4gray'\n",
    "cell_subg_cols[wcut5] <- '#C0C0C0' # '5gray'\n",
    "cell_subg_names[wcut5] <- '5gray'\n",
    "cell_subg_cols[wcut6] <- '#E0E0E0' # '6gray'\n",
    "cell_subg_names[wcut6] <- '6gray'\n",
    "names(cell_subg_cols) <- cim_o\n",
    "\n",
    "## Plot the same fully clustered plot, this time without reclustering the cells,\n",
    "# but coloring the horizontal color bar according to the cuts\n",
    "pdf(f4, width = 8, height = 24)\n",
    "cim_cells <- cim(expdatbo[, colnames(cim_save$mat)], dist.method = distmeth,\n",
    "    clust.method = clustmeth,\n",
    "    scale = \"FALSE\", center = \"FALSE\", col.names = FALSE, legend = legendlstbol,\n",
    "    color = my_palettebol, cluster = 'row', title = title4,\n",
    "    col.sideColors = cell_subg_cols[wcuts],\n",
    "    symkey = FALSE)\n",
    "dev.off()\n",
    "\n",
    "specialglist <- specialglist <- short2geneid[cim_save$row.names]\n",
    "colData(ecmod_cds)$subgroups[wcuts] <- cell_subg_names[wcuts]\n",
    "pdf(f5, width = 3.25, height = 23)\n",
    "plot_genes_by_group2(ecmod_cds,\n",
    "                    axis_order = \"group_marker\",\n",
    "                    specialglist,\n",
    "                    group_cells_by = \"subgroups\",\n",
    "                    ordering_type = \"as_ordered\", \n",
    "                    max.size = 3,\n",
    "                    norm_method = 'size_only',\n",
    "                    scale_max = 3, scale_min = -3)\n",
    "dev.off()"
   ]
  },
  {
   "cell_type": "code",
   "execution_count": null,
   "metadata": {},
   "outputs": [],
   "source": []
  },
  {
   "cell_type": "code",
   "execution_count": null,
   "metadata": {},
   "outputs": [],
   "source": []
  },
  {
   "cell_type": "code",
   "execution_count": null,
   "metadata": {},
   "outputs": [],
   "source": []
  },
  {
   "cell_type": "markdown",
   "metadata": {},
   "source": [
    "## VSMC Unknown Process (Modules 11, 13,  30, and 31)\n",
    "### Superceded by code below (now includes module 9 ) "
   ]
  },
  {
   "cell_type": "code",
   "execution_count": 69,
   "metadata": {},
   "outputs": [
    {
     "data": {
      "text/plain": [
       "\n",
       "  cyan orange \n",
       "  1223   1223 "
      ]
     },
     "metadata": {},
     "output_type": "display_data"
    },
    {
     "data": {
      "text/html": [
       "<strong>png:</strong> 2"
      ],
      "text/latex": [
       "\\textbf{png:} 2"
      ],
      "text/markdown": [
       "**png:** 2"
      ],
      "text/plain": [
       "png \n",
       "  2 "
      ]
     },
     "metadata": {},
     "output_type": "display_data"
    },
    {
     "data": {
      "text/html": [
       "<strong>png:</strong> 2"
      ],
      "text/latex": [
       "\\textbf{png:} 2"
      ],
      "text/markdown": [
       "**png:** 2"
      ],
      "text/plain": [
       "png \n",
       "  2 "
      ]
     },
     "metadata": {},
     "output_type": "display_data"
    },
    {
     "data": {
      "text/html": [
       "<strong>png:</strong> 2"
      ],
      "text/latex": [
       "\\textbf{png:} 2"
      ],
      "text/markdown": [
       "**png:** 2"
      ],
      "text/plain": [
       "png \n",
       "  2 "
      ]
     },
     "metadata": {},
     "output_type": "display_data"
    }
   ],
   "source": [
    "## Get the Expression Set for VSMC Module 11, 13, 30, and 31 DE Genes\n",
    "p <- 3\n",
    "vsmc_bool <- (colData(down_stdycds)$assigned_cell_type == celltypes6[p])\n",
    "vsmcmod_cds <- down_stdycds[fData(down_stdycds)@rownames %in% vsmc_modgenes_11_13_30_31_ids, vsmc_bool]\n",
    "colData(vsmcmod_cds)$condtype <- paste('vsmc',\n",
    "    c('hea', 'dis')[(colData(vsmcmod_cds)$condition == 'diseased') + 1], sep = '-')\n",
    "colData(vsmcmod_cds)$sidecolor[colData(vsmcmod_cds)$condtype == 'ec-dis'] <- 'red'\n",
    "colData(vsmcmod_cds)$sidecolor[colData(vsmcmod_cds)$condtype == 'ec-hea'] <- 'blue'\n",
    "colData(vsmcmod_cds)$sidecolor[colData(vsmcmod_cds)$condtype == 'vsmc-dis'] <- 'orange'\n",
    "colData(vsmcmod_cds)$sidecolor[colData(vsmcmod_cds)$condtype == 'vsmc-hea'] <- 'cyan'\n",
    "cttable <- table(colData(vsmcmod_cds)$sidecolor)\n",
    "smallset <- min(cttable)\n",
    "cells2keep <- NULL\n",
    "set.seed(101)\n",
    "for (cellset_col in names(cttable)) {\n",
    "    cellsetrow <-  which(colData(vsmcmod_cds)$sidecolor == cellset_col)\n",
    "    cells2keep <- c(cells2keep, sample(cellsetrow, smallset, replace = FALSE))\n",
    "}\n",
    "vsmcmod_cds <- vsmcmod_cds[, cells2keep] \n",
    "\n",
    "table(colData(vsmcmod_cds)$sidecolor)\n",
    "expdat_vsmcmod <- as.matrix(exprs(vsmcmod_cds))\n",
    "rownames(expdat_vsmcmod) <- geneid2short[rownames(expdat_vsmcmod)] \n",
    "\n",
    "## This Code Plots the EC Cell Type with EMT and TNF Network Module Genes\n",
    "f1 <- '/Heatmap.VSMC.Mod11.13.30.31.Genes.comp.bin.comp.bin.down.OnOff2Plus.preclustered.Rev2.pdf'\n",
    "f1 <- paste(datdir, '/', ps$outdir, celltypes6[p], f1, sep = '')\n",
    "title1 <- 'VSMC Network Modules 11, 13, 30, 31\\nGenes, Cells Pre-Clustered'\n",
    "\n",
    "f2 <- '/Heatmap.VSMC.Mod11.13.30.31.Genes.comp.bin.comp.bin.down.OnOff2Plus.fullyclustered.Rev2.pdf'\n",
    "f2 <- paste(datdir, '/', ps$outdir, celltypes6[p], f2, sep = '')\n",
    "title2 <-  'VSMC Network Modules 11, 13, 30, 31\\nGenes, Cells Fully Clustered'\n",
    "\n",
    "f3 <- '/DotPlot.VSMC.Mod11.13.30.31.Genes.Rev2.pdf'\n",
    "f3 <- paste(datdir, '/', ps$outdir, celltypes6[p], f3, sep = '')\n",
    "\n",
    "vsmc_dw <- which(colData(vsmcmod_cds)$condtype == 'vsmc-dis')\n",
    "vsmc_hw <- which(colData(vsmcmod_cds)$condtype == 'vsmc-hea')\n",
    "dims <- dim(expdat_vsmcmod)\n",
    "expdatbo <- (expdat_vsmcmod > 1) * 1\n",
    "distmeth <- c('binary', 'binary')\n",
    "clustmeth = c('complete', 'complete')\n",
    "my_palettebol <- colorRampPalette(c('#660066', 'yellow'))(n = 2)\n",
    "legendlstbol <- list(legend = c('VSMC DIS', 'VSMC HEA'),\n",
    "              col = c('orange', 'cyan'), title = 'Cell Types', cex = .7)\n",
    "\n",
    "vsmc_dcim <- cim(expdatbo[, vsmc_dw], dist.method = distmeth, clust.method = clustmeth,\n",
    "    scale = \"FALSE\", center = \"FALSE\", col.names = FALSE, legend = legendlstbol,\n",
    "    color = my_palettebol, cluster = 'col', save = 'pdf', name.save = 'temp.ready.to.delete',\n",
    "    col.sideColors = colData(vsmcmod_cds)$sidecolor[vsmc_dw],\n",
    "    symkey = FALSE)\n",
    "vsmc_hcim <- cim(expdatbo[, vsmc_hw], dist.method = distmeth, clust.method = clustmeth,\n",
    "    scale = \"FALSE\", center = \"FALSE\", col.names = FALSE, legend = legendlstbol,\n",
    "    color = my_palettebol, cluster = 'col', save = 'pdf', name.save = 'temp.ready.to.delete',\n",
    "    col.sideColors = colData(vsmcmod_cds)$sidecolor[vsmc_hw],\n",
    "    symkey = FALSE)\n",
    "\n",
    "## The is the combined cell types, plotted with only genes fully clustered\n",
    "parthclust <- c(colnames(vsmc_dcim$mat), colnames(vsmc_hcim$mat))\n",
    "colornames <-colData(vsmcmod_cds)$sidecolor\n",
    "names(colornames) <- colnames(expdatbo)\n",
    "cim(expdatbo[, parthclust], dist.method = distmeth, clust.method = clustmeth,\n",
    "    scale = \"FALSE\", center = \"FALSE\", col.names = FALSE, legend = legendlstbol,\n",
    "    color = my_palettebol, cluster = 'row', save = 'pdf', name.save = 'temp.ready.to.delete',\n",
    "    col.sideColors = colornames[parthclust],\n",
    "    symkey = FALSE)\n",
    "\n",
    "## Repeated from above, this time to a file\n",
    "pdf(f1, width = 8, height = 26)\n",
    "cim(expdatbo[, parthclust], dist.method = distmeth, clust.method = clustmeth,\n",
    "    scale = \"FALSE\", center = \"FALSE\", col.names = FALSE, legend = legendlstbol,\n",
    "    color = my_palettebol, cluster = 'row', title = title1,\n",
    "    col.sideColors = colornames[parthclust],\n",
    "    symkey = FALSE)\n",
    "dev.off()\n",
    "\n",
    "## The is again the combined cell types, plotted with both genes and cells fully clustered\n",
    "cim(expdatbo[, parthclust], dist.method = distmeth, clust.method = clustmeth,\n",
    "    scale = \"FALSE\", center = \"FALSE\", col.names = FALSE, legend = legendlstbol,\n",
    "    color = my_palettebol, cluster = 'both', save = 'pdf', name.save = 'temp.ready.to.delete',\n",
    "    col.sideColors = colornames[parthclust], \n",
    "    symkey = FALSE)\n",
    "\n",
    "## Repeated from above, this time to a file\n",
    "pdf(f2, width = 8, height = 26)\n",
    "cim_row <- cim(expdatbo[, parthclust], dist.method = distmeth, clust.method = clustmeth,\n",
    "    scale = \"FALSE\", center = \"FALSE\", col.names = FALSE, legend = legendlstbol,\n",
    "    color = my_palettebol, cluster = 'both', title = title2,\n",
    "    col.sideColors = colornames[parthclust], \n",
    "    symkey = FALSE)\n",
    "dev.off()\n",
    "\n",
    "specialglist <- specialglist <- short2geneid[cim_row$row.names]\n",
    "# str(specialglist)\n",
    "pdf(f3, width = 2.75, height = 25)\n",
    "plot_genes_by_group2(vsmcmod_cds,\n",
    "                    axis_order = \"group_marker\",\n",
    "                    specialglist,\n",
    "                    group_cells_by = \"condtype\",\n",
    "                    ordering_type = \"as_ordered\", \n",
    "                    max.size = 3,\n",
    "                    norm_method = 'size_only',\n",
    "                    scale_max = 3, scale_min = -3)\n",
    "dev.off()\n",
    "\n",
    "cim_o <- colnames(cim_row$mat)\n",
    "cut0 <- 1\n",
    "cut1 <- floor(length(cim_o) * (1 + 1/8) / 5.525)\n",
    "cut2 <- floor(length(cim_o) * (1 + 11/16) / 5.525)\n",
    "cut3 <- floor(length(cim_o) * (2 + 7/16) / 5.525)\n",
    "cut4 <- floor(length(cim_o) * (3 + 3/16) / 5.525)\n",
    "cut5 <- floor(length(cim_o) * (5 + 1/16) / 5.525)\n",
    "cut6 <- length(cim_o)\n",
    "wcut1 <- which(colnames(expdatbo) %in% cim_o[cut0:cut1])\n",
    "wcut2 <- which(colnames(expdatbo) %in% cim_o[(cut1 + 1):cut2])\n",
    "wcut3 <- which(colnames(expdatbo) %in% cim_o[(cut2 + 1):cut3])\n",
    "wcut4 <- which(colnames(expdatbo) %in% cim_o[(cut3 + 1):cut4])\n",
    "wcut5 <- which(colnames(expdatbo) %in% cim_o[(cut4 + 1):cut5])\n",
    "wcut6 <- which(colnames(expdatbo) %in% cim_o[(cut5 + 1):cut6])\n",
    "wcuts <- c(wcut1, wcut2, wcut3, wcut4, wcut5, wcut6)\n",
    "cell_subg_cols <- vector(mode = 'character', length = length(cim_o))\n",
    "cell_subg_names <- vector(mode = 'character', length = length(cim_o))\n",
    "cell_subg_cols[wcut1] <- '#404040' # '1gray'\n",
    "cell_subg_names[wcut1] <- '1gray'\n",
    "cell_subg_cols[wcut2] <- '#606060' # '2gray'\n",
    "cell_subg_names[wcut2] <- '2gray'\n",
    "cell_subg_cols[wcut3] <- '#808080' # '3gray'\n",
    "cell_subg_names[wcut3] <- '3gray'\n",
    "cell_subg_cols[wcut4] <- '#A0A0A0' # '4gray'\n",
    "cell_subg_names[wcut4] <- '4gray'\n",
    "cell_subg_cols[wcut5] <- '#C0C0C0' # '5gray'\n",
    "cell_subg_names[wcut5] <- '5gray'\n",
    "cell_subg_cols[wcut6] <- '#E0E0E0' # '6gray'\n",
    "cell_subg_names[wcut6] <- '6gray'\n",
    "names(cell_subg_cols) <- cim_o\n",
    "\n",
    "f2 <- '/Heatmap.VSMC.Mod11.13.30.31.Genes.comp.bin.comp.bin.down.OnOff2Plus.fullyclustered.cut.Rev4.pdf'\n",
    "f2 <- paste(datdir, '/', ps$outdir, celltypes6[p], f2, sep = '')\n",
    "title2 <-  'VSMC Network Modules 11, 13, 30, 31\\nGenes, Cells Fully Clustered with Cuts'\n",
    "\n",
    "\n",
    "f3 <- '/DotPlot.VSMC.Mod11.13.30.31.Genes.cuts.Rev4.pdf'\n",
    "f3 <- paste(datdir, '/', ps$outdir, celltypes6[p], f3, sep = '')\n",
    "\n",
    "## Repeated from above, this time to a file\n",
    "pdf(f2, width = 8, height = 26)\n",
    "cim_cells <- cim(expdatbo[, wcuts], dist.method = distmeth, clust.method = clustmeth,\n",
    "    scale = \"FALSE\", center = \"FALSE\", col.names = FALSE, legend = legendlstbol,\n",
    "    color = my_palettebol, cluster = 'row', title = title2,\n",
    "    col.sideColors = cell_subg_cols[wcuts],\n",
    "    symkey = FALSE)\n",
    "dev.off()\n",
    "\n",
    "\n",
    "specialglist <- specialglist <- short2geneid[cim_cells$row.names]\n",
    "pdf(f3, width = 3.25, height = 25)\n",
    "colData(vsmcmod_cds)$subgroups[wcuts] <- cell_subg_names[wcuts]\n",
    "plot_genes_by_group2(vsmcmod_cds,\n",
    "                    axis_order = \"group_marker\",\n",
    "                    specialglist,\n",
    "                    group_cells_by = \"subgroups\",\n",
    "                    ordering_type = \"as_ordered\", \n",
    "                    max.size = 3,\n",
    "                    norm_method = 'size_only',\n",
    "                    scale_max = 3, scale_min = -3)\n",
    "dev.off()"
   ]
  },
  {
   "cell_type": "code",
   "execution_count": null,
   "metadata": {},
   "outputs": [],
   "source": []
  },
  {
   "cell_type": "code",
   "execution_count": null,
   "metadata": {},
   "outputs": [],
   "source": []
  },
  {
   "cell_type": "code",
   "execution_count": null,
   "metadata": {},
   "outputs": [],
   "source": []
  },
  {
   "cell_type": "code",
   "execution_count": null,
   "metadata": {},
   "outputs": [],
   "source": []
  },
  {
   "cell_type": "markdown",
   "metadata": {},
   "source": [
    "## VSMC Unknown Process (Modules 9, 11, 13, 30, and 31)\n",
    "### Updated code"
   ]
  },
  {
   "cell_type": "code",
   "execution_count": 146,
   "metadata": {},
   "outputs": [
    {
     "data": {
      "text/plain": [
       "\n",
       "  cyan orange \n",
       "  1223   1223 "
      ]
     },
     "metadata": {},
     "output_type": "display_data"
    },
    {
     "data": {
      "text/html": [
       "<strong>png:</strong> 2"
      ],
      "text/latex": [
       "\\textbf{png:} 2"
      ],
      "text/markdown": [
       "**png:** 2"
      ],
      "text/plain": [
       "png \n",
       "  2 "
      ]
     },
     "metadata": {},
     "output_type": "display_data"
    },
    {
     "data": {
      "text/html": [
       "<strong>png:</strong> 2"
      ],
      "text/latex": [
       "\\textbf{png:} 2"
      ],
      "text/markdown": [
       "**png:** 2"
      ],
      "text/plain": [
       "png \n",
       "  2 "
      ]
     },
     "metadata": {},
     "output_type": "display_data"
    },
    {
     "data": {
      "text/html": [
       "<strong>png:</strong> 2"
      ],
      "text/latex": [
       "\\textbf{png:} 2"
      ],
      "text/markdown": [
       "**png:** 2"
      ],
      "text/plain": [
       "png \n",
       "  2 "
      ]
     },
     "metadata": {},
     "output_type": "display_data"
    },
    {
     "data": {
      "text/html": [
       "<strong>png:</strong> 2"
      ],
      "text/latex": [
       "\\textbf{png:} 2"
      ],
      "text/markdown": [
       "**png:** 2"
      ],
      "text/plain": [
       "png \n",
       "  2 "
      ]
     },
     "metadata": {},
     "output_type": "display_data"
    },
    {
     "data": {
      "text/html": [
       "<strong>png:</strong> 2"
      ],
      "text/latex": [
       "\\textbf{png:} 2"
      ],
      "text/markdown": [
       "**png:** 2"
      ],
      "text/plain": [
       "png \n",
       "  2 "
      ]
     },
     "metadata": {},
     "output_type": "display_data"
    }
   ],
   "source": [
    "## Get the Expression Set for VSMC Module 9, 11, 13, 30, and 31 DE Genes\n",
    "p <- 3\n",
    "vsmc_bool <- (colData(down_stdycds)$assigned_cell_type == celltypes6[p])\n",
    "vsmcmod_cds <- down_stdycds[fData(down_stdycds)@rownames %in% vsmc_modgenes_9_11_13_30_31_ids, vsmc_bool]\n",
    "colData(vsmcmod_cds)$condtype <- paste('vsmc',\n",
    "    c('hea', 'dis')[(colData(vsmcmod_cds)$condition == 'diseased') + 1], sep = '-')\n",
    "## colData(vsmcmod_cds)$sidecolor[colData(vsmcmod_cds)$condtype == 'ec-dis'] <- 'red'\n",
    "## colData(vsmcmod_cds)$sidecolor[colData(vsmcmod_cds)$condtype == 'ec-hea'] <- 'blue'\n",
    "colData(vsmcmod_cds)$sidecolor[colData(vsmcmod_cds)$condtype == 'vsmc-dis'] <- 'orange'\n",
    "colData(vsmcmod_cds)$sidecolor[colData(vsmcmod_cds)$condtype == 'vsmc-hea'] <- 'cyan'\n",
    "\n",
    "## Down Sample\n",
    "cttable <- table(colData(vsmcmod_cds)$sidecolor)\n",
    "smallset <- min(cttable)\n",
    "cells2keep <- NULL\n",
    "set.seed(101)\n",
    "for (cellset_col in names(cttable)) {\n",
    "    cellsetrow <-  which(colData(vsmcmod_cds)$sidecolor == cellset_col)\n",
    "    cells2keep <- c(cells2keep, sample(cellsetrow, smallset, replace = FALSE))\n",
    "}\n",
    "vsmcmod_cds <- vsmcmod_cds[, cells2keep] \n",
    "\n",
    "## Print the down sampled data set sizes\n",
    "table(colData(vsmcmod_cds)$sidecolor)\n",
    "\n",
    "## Get the expresion matrix\n",
    "expdat_vsmcmod <- as.matrix(exprs(vsmcmod_cds))\n",
    "rownames(expdat_vsmcmod) <- geneid2short[rownames(expdat_vsmcmod)] \n",
    "\n",
    "## Set up the output file names and plot titles\n",
    "f1 <- '/Heatmap.VSMC.Mod9.11.13.30.31.Genes.comp.bin.comp.bin.down.OnOff2Plus.preclustered.Rev2.pdf'\n",
    "f1 <- paste(datdir, '/', ps$outdir, celltypes6[p], f1, sep = '')\n",
    "title1 <- 'VSMC Network Modules 9, 11, 13, 30, 31\\nGenes, Cells Pre-Clustered'\n",
    "\n",
    "f2 <- '/Heatmap.VSMC.Mod9.11.13.30.31.Genes.comp.bin.comp.bin.down.OnOff2Plus.fullyclustered.Rev2.pdf'\n",
    "f2 <- paste(datdir, '/', ps$outdir, celltypes6[p], f2, sep = '')\n",
    "title2 <-  'VSMC Network Modules 9, 11, 13, 30, 31\\nGenes, Cells Fully Clustered'\n",
    "\n",
    "f3 <- '/DotPlot.VSMC.Mod9.11.13.30.31.Genes.Rev2.pdf'\n",
    "f3 <- paste(datdir, '/', ps$outdir, celltypes6[p], f3, sep = '')\n",
    "\n",
    "f4 <- '/Heatmap.VSMC.Mod9.11.13.30.31.Genes.comp.bin.comp.bin.down.OnOff2Plus.fullyclustered.cut.Rev4.pdf'\n",
    "f4 <- paste(datdir, '/', ps$outdir, celltypes6[p], f4, sep = '')\n",
    "title4 <-  'VSMC Network Modules 9, 11, 13, 30, 31\\nGenes, Cells Fully Clustered with Cuts'\n",
    "\n",
    "f5 <- '/DotPlot.VSMC.Mod9.11.13.30.31.Genes.cuts.Rev4.pdf'\n",
    "f5 <- paste(datdir, '/', ps$outdir, celltypes6[p], f5, sep = '')\n",
    "\n",
    "## Prepare for pre-clustering\n",
    "vsmc_dw <- which(colData(vsmcmod_cds)$condtype == 'vsmc-dis')\n",
    "vsmc_hw <- which(colData(vsmcmod_cds)$condtype == 'vsmc-hea')\n",
    "\n",
    "## Transform the data\n",
    "dims <- dim(expdat_vsmcmod)\n",
    "expdatbo <- (expdat_vsmcmod > 1) * 1\n",
    "\n",
    "## Set up clustering parameters\n",
    "## Distance method, cluster method, heatmap color scheme, legend\n",
    "distmeth <- c('binary', 'binary')\n",
    "clustmeth = c('complete', 'complete')\n",
    "my_palettebol <- colorRampPalette(c('#660066', 'yellow'))(n = 2)\n",
    "legendlstbol <- list(legend = c('VSMC DIS', 'VSMC HEA'),\n",
    "              col = c('orange', 'cyan'), title = 'Cell Types', cex = .7)\n",
    "\n",
    "## Individually cluster the columns of the two cell sets\n",
    "vsmc_dcim <- cim(expdatbo[, vsmc_dw], dist.method = distmeth, clust.method = clustmeth,\n",
    "    scale = \"FALSE\", center = \"FALSE\", col.names = FALSE, legend = legendlstbol,\n",
    "    color = my_palettebol, cluster = 'col', save = 'pdf', name.save = 'temp.ready.to.delete',\n",
    "    col.sideColors = colData(vsmcmod_cds)$sidecolor[vsmc_dw],\n",
    "    symkey = FALSE)\n",
    "vsmc_hcim <- cim(expdatbo[, vsmc_hw], dist.method = distmeth, clust.method = clustmeth,\n",
    "    scale = \"FALSE\", center = \"FALSE\", col.names = FALSE, legend = legendlstbol,\n",
    "    color = my_palettebol, cluster = 'col', save = 'pdf', name.save = 'temp.ready.to.delete',\n",
    "    col.sideColors = colData(vsmcmod_cds)$sidecolor[vsmc_hw],\n",
    "    symkey = FALSE)\n",
    "\n",
    "## The is the combined (concantenated) preclustered cell types\n",
    "## which will are plotted with genes fully clustered (check plot)\n",
    "parthclust <- c(colnames(vsmc_dcim$mat), colnames(vsmc_hcim$mat))\n",
    "colornames <-colData(vsmcmod_cds)$sidecolor\n",
    "names(colornames) <- colnames(expdatbo)\n",
    "\n",
    "## This is just a check plot to the screen\n",
    "# cim(expdatbo[, parthclust], dist.method = distmeth, clust.method = clustmeth,\n",
    "#     scale = \"FALSE\", center = \"FALSE\", col.names = FALSE, legend = legendlstbol,\n",
    "#     color = my_palettebol, cluster = 'row', # save = 'pdf', name.save = 'temp.ready.to.delete',\n",
    "#     col.sideColors = colornames[parthclust],\n",
    "#     symkey = FALSE)\n",
    "\n",
    "## Repeated from above, this time to a file\n",
    "pdf(f1, width = 8, height = 26)\n",
    "cim(expdatbo[, parthclust], dist.method = distmeth, clust.method = clustmeth,\n",
    "    scale = \"FALSE\", center = \"FALSE\", col.names = FALSE, legend = legendlstbol,\n",
    "    color = my_palettebol, cluster = 'row', title = title1,\n",
    "    col.sideColors = colornames[parthclust],\n",
    "    symkey = FALSE)\n",
    "dev.off()\n",
    "\n",
    "## The is again the combined cell types, plotted with both genes and cells fully clustered\n",
    "cim_save <- cim(expdatbo[, parthclust], dist.method = distmeth, clust.method = clustmeth,\n",
    "    scale = \"FALSE\", center = \"FALSE\", col.names = FALSE, legend = legendlstbol,\n",
    "    color = my_palettebol, cluster = 'both', save = 'pdf', name.save = 'temp.ready.to.delete',\n",
    "    col.sideColors = colornames[parthclust], \n",
    "    symkey = FALSE)\n",
    "\n",
    "## This is a check plot to the screen and it should match the above plot perfectly\n",
    "# cim(expdatbo[, colnames(cim_save$mat)], dist.method = distmeth, clust.method = clustmeth,\n",
    "#     scale = \"FALSE\", center = \"FALSE\", col.names = FALSE, legend = legendlstbol,\n",
    "#     color = my_palettebol, cluster = 'row', # save = 'pdf', name.save = 'temp.ready.to.delete',\n",
    "#     col.sideColors = colornames[colnames(cim_save$mat)], \n",
    "#     symkey = FALSE)\n",
    "\n",
    "## Repeated from above, this time to a file (make sure to cluster again to plot cell dendrogram)\n",
    "pdf(f2, width = 8, height = 26)\n",
    "cim(expdatbo[, parthclust], dist.method = distmeth, clust.method = clustmeth,\n",
    "    scale = \"FALSE\", center = \"FALSE\", col.names = FALSE, legend = legendlstbol,\n",
    "    color = my_palettebol, cluster = 'both', title = title2,\n",
    "    col.sideColors = colornames[parthclust], \n",
    "    symkey = FALSE)\n",
    "dev.off()\n",
    "\n",
    "specialglist <- short2geneid[cim_save$row.names]\n",
    "pdf(f3, width = 2.75, height = 30)\n",
    "plot_genes_by_group2(vsmcmod_cds,\n",
    "                    axis_order = \"group_marker\",\n",
    "                    specialglist,\n",
    "                    group_cells_by = \"condtype\",\n",
    "                    ordering_type = \"as_ordered\", \n",
    "                    max.size = 3,\n",
    "                    norm_method = 'size_only',\n",
    "                    scale_max = 3, scale_min = -3)\n",
    "dev.off()\n",
    "\n",
    "## Set up for plot with special cut regions\n",
    "cim_o <- colnames(cim_save$mat)\n",
    "cut0 <- 1\n",
    "cut1 <- floor(length(cim_o) * (15 / 16) / 7.1)\n",
    "cut2 <- floor(length(cim_o) * (1 + 11 / 16) / 7.1)\n",
    "cut3 <- floor(length(cim_o) * (2 + 1 / 4) / 7.1)\n",
    "cut4 <- floor(length(cim_o) * (3 + 5 / 8) / 7.1)\n",
    "cut5 <- floor(length(cim_o) * (4 + 15 / 16) / 7.1)\n",
    "cut6 <- length(cim_o)\n",
    "wcut1 <- which(colnames(expdatbo) %in% cim_o[cut0:cut1])\n",
    "wcut2 <- which(colnames(expdatbo) %in% cim_o[(cut1 + 1):cut2])\n",
    "wcut3 <- which(colnames(expdatbo) %in% cim_o[(cut2 + 1):cut3])\n",
    "wcut4 <- which(colnames(expdatbo) %in% cim_o[(cut3 + 1):cut4])\n",
    "wcut5 <- which(colnames(expdatbo) %in% cim_o[(cut4 + 1):cut5])\n",
    "wcut6 <- which(colnames(expdatbo) %in% cim_o[(cut5 + 1):cut6])\n",
    "wcuts <- c(wcut1, wcut2, wcut3, wcut4, wcut5, wcut6)\n",
    "cell_subg_cols <- vector(mode = 'character', length = length(cim_o))\n",
    "cell_subg_names <- vector(mode = 'character', length = length(cim_o))\n",
    "cell_subg_cols[wcut1] <- '#404040' # '1gray'\n",
    "cell_subg_names[wcut1] <- '1gray'\n",
    "cell_subg_cols[wcut2] <- '#606060' # '2gray'\n",
    "cell_subg_names[wcut2] <- '2gray'\n",
    "cell_subg_cols[wcut3] <- '#808080' # '3gray'\n",
    "cell_subg_names[wcut3] <- '3gray'\n",
    "cell_subg_cols[wcut4] <- '#A0A0A0' # '4gray'\n",
    "cell_subg_names[wcut4] <- '4gray'\n",
    "cell_subg_cols[wcut5] <- '#C0C0C0' # '5gray'\n",
    "cell_subg_names[wcut5] <- '5gray'\n",
    "cell_subg_cols[wcut6] <- '#E0E0E0' # '6gray'\n",
    "cell_subg_names[wcut6] <- '6gray'\n",
    "names(cell_subg_cols) <- cim_o\n",
    "\n",
    "## Plot the same fully clustered plot, this time without reclustering the cells,\n",
    "# but coloring the horizontal color bar according to the cuts\n",
    "pdf(f4, width = 8, height = 26)\n",
    "cim_cells <- cim(expdatbo[, colnames(cim_save$mat)], dist.method = distmeth,\n",
    "    clust.method = clustmeth,\n",
    "    scale = \"FALSE\", center = \"FALSE\", col.names = FALSE, legend = legendlstbol,\n",
    "    color = my_palettebol, cluster = 'row', title = title4,\n",
    "    col.sideColors = cell_subg_cols[wcuts],\n",
    "    symkey = FALSE)\n",
    "dev.off()\n",
    "\n",
    "specialglist <- specialglist <- short2geneid[cim_save$row.names]\n",
    "colData(vsmcmod_cds)$subgroups[wcuts] <- cell_subg_names[wcuts]\n",
    "pdf(f5, width = 3.25, height = 32)\n",
    "plot_genes_by_group2(vsmcmod_cds,\n",
    "                    axis_order = \"group_marker\",\n",
    "                    specialglist,\n",
    "                    group_cells_by = \"subgroups\",\n",
    "                    ordering_type = \"as_ordered\", \n",
    "                    max.size = 3,\n",
    "                    norm_method = 'size_only',\n",
    "                    scale_max = 3, scale_min = -3)\n",
    "dev.off()"
   ]
  },
  {
   "cell_type": "code",
   "execution_count": 148,
   "metadata": {},
   "outputs": [
    {
     "data": {
      "text/html": [
       "<strong>png:</strong> 2"
      ],
      "text/latex": [
       "\\textbf{png:} 2"
      ],
      "text/markdown": [
       "**png:** 2"
      ],
      "text/plain": [
       "png \n",
       "  2 "
      ]
     },
     "metadata": {},
     "output_type": "display_data"
    }
   ],
   "source": []
  },
  {
   "cell_type": "code",
   "execution_count": null,
   "metadata": {},
   "outputs": [],
   "source": []
  },
  {
   "cell_type": "code",
   "execution_count": null,
   "metadata": {},
   "outputs": [],
   "source": []
  },
  {
   "cell_type": "code",
   "execution_count": null,
   "metadata": {},
   "outputs": [],
   "source": []
  },
  {
   "cell_type": "markdown",
   "metadata": {},
   "source": [
    "## VSMC Unknown Process (Modules 9, 11, 13, 24, 28, 30, and 31)¶\n",
    "### Updated code"
   ]
  },
  {
   "cell_type": "code",
   "execution_count": 226,
   "metadata": {},
   "outputs": [
    {
     "data": {
      "text/plain": [
       "\n",
       "  cyan orange \n",
       "  1223   1223 "
      ]
     },
     "metadata": {},
     "output_type": "display_data"
    },
    {
     "data": {
      "text/html": [
       "<strong>png:</strong> 2"
      ],
      "text/latex": [
       "\\textbf{png:} 2"
      ],
      "text/markdown": [
       "**png:** 2"
      ],
      "text/plain": [
       "png \n",
       "  2 "
      ]
     },
     "metadata": {},
     "output_type": "display_data"
    },
    {
     "data": {
      "text/html": [
       "<strong>png:</strong> 2"
      ],
      "text/latex": [
       "\\textbf{png:} 2"
      ],
      "text/markdown": [
       "**png:** 2"
      ],
      "text/plain": [
       "png \n",
       "  2 "
      ]
     },
     "metadata": {},
     "output_type": "display_data"
    },
    {
     "data": {
      "text/html": [
       "<strong>png:</strong> 2"
      ],
      "text/latex": [
       "\\textbf{png:} 2"
      ],
      "text/markdown": [
       "**png:** 2"
      ],
      "text/plain": [
       "png \n",
       "  2 "
      ]
     },
     "metadata": {},
     "output_type": "display_data"
    },
    {
     "data": {
      "text/html": [
       "<strong>png:</strong> 2"
      ],
      "text/latex": [
       "\\textbf{png:} 2"
      ],
      "text/markdown": [
       "**png:** 2"
      ],
      "text/plain": [
       "png \n",
       "  2 "
      ]
     },
     "metadata": {},
     "output_type": "display_data"
    },
    {
     "data": {
      "text/html": [
       "<strong>png:</strong> 2"
      ],
      "text/latex": [
       "\\textbf{png:} 2"
      ],
      "text/markdown": [
       "**png:** 2"
      ],
      "text/plain": [
       "png \n",
       "  2 "
      ]
     },
     "metadata": {},
     "output_type": "display_data"
    }
   ],
   "source": [
    "## Get the Expression Set for VSMC Module 9, 11, 13, 24, 28, 30, and 31 DE Genes\n",
    "p <- 3\n",
    "vsmc_bool <- (colData(down_stdycds)$assigned_cell_type == celltypes6[p])\n",
    "vsmcmod_cds <- down_stdycds[fData(down_stdycds)@rownames %in% vsmc_modgenes_9_11_13_24_28_30_31_ids, vsmc_bool]\n",
    "colData(vsmcmod_cds)$condtype <- paste('vsmc',\n",
    "    c('hea', 'dis')[(colData(vsmcmod_cds)$condition == 'diseased') + 1], sep = '-')\n",
    "## colData(vsmcmod_cds)$sidecolor[colData(vsmcmod_cds)$condtype == 'ec-dis'] <- 'red'\n",
    "## colData(vsmcmod_cds)$sidecolor[colData(vsmcmod_cds)$condtype == 'ec-hea'] <- 'blue'\n",
    "colData(vsmcmod_cds)$sidecolor[colData(vsmcmod_cds)$condtype == 'vsmc-dis'] <- 'orange'\n",
    "colData(vsmcmod_cds)$sidecolor[colData(vsmcmod_cds)$condtype == 'vsmc-hea'] <- 'cyan'\n",
    "\n",
    "## Down Sample\n",
    "cttable <- table(colData(vsmcmod_cds)$sidecolor)\n",
    "smallset <- min(cttable)\n",
    "cells2keep <- NULL\n",
    "set.seed(101)\n",
    "for (cellset_col in names(cttable)) {\n",
    "    cellsetrow <-  which(colData(vsmcmod_cds)$sidecolor == cellset_col)\n",
    "    cells2keep <- c(cells2keep, sample(cellsetrow, smallset, replace = FALSE))\n",
    "}\n",
    "vsmcmod_cds <- vsmcmod_cds[, cells2keep] \n",
    "\n",
    "## Print the down sampled data set sizes\n",
    "table(colData(vsmcmod_cds)$sidecolor)\n",
    "\n",
    "## Get the expresion matrix\n",
    "expdat_vsmcmod <- as.matrix(exprs(vsmcmod_cds))\n",
    "rownames(expdat_vsmcmod) <- geneid2short[rownames(expdat_vsmcmod)] \n",
    "\n",
    "## Set up the output file names and plot titles\n",
    "f1 <- '/Heatmap.VSMC.Mod9.11.13.24.28.30.31.Genes.comp.bin.comp.bin.down.OnOff2Plus.preclustered.Rev3.pdf'\n",
    "f1 <- paste(datdir, '/', ps$outdir, celltypes6[p], f1, sep = '')\n",
    "title1 <- 'VSMC Network Modules 9, 11, 13, 24, 28, 30, 31\\nGenes, Cells Pre-Clustered'\n",
    "\n",
    "f2 <- '/Heatmap.VSMC.Mod9.11.13.24.28.30.31.Genes.comp.bin.comp.bin.down.OnOff2Plus.fullyclustered.Rev3.pdf'\n",
    "f2 <- paste(datdir, '/', ps$outdir, celltypes6[p], f2, sep = '')\n",
    "title2 <-  'VSMC Network Modules 9, 11, 24, 28, 13, 30, 31\\nGenes, Cells Fully Clustered'\n",
    "\n",
    "f3 <- '/DotPlot.VSMC.Mod9.11.13.24.28.30.31.Genes.Rev3.pdf'\n",
    "f3 <- paste(datdir, '/', ps$outdir, celltypes6[p], f3, sep = '')\n",
    "\n",
    "f4 <- '/Heatmap.VSMC.Mod9.11.13.24.28.30.31.Genes.comp.bin.comp.bin.down.OnOff2Plus.fullyclustered.cut.Rev6.pdf'\n",
    "f4 <- paste(datdir, '/', ps$outdir, celltypes6[p], f4, sep = '')\n",
    "title4 <-  'VSMC Network Modules 9, 11, 24, 28, 13, 30, 31\\nGenes, Cells Fully Clustered with Cuts'\n",
    "\n",
    "f5 <- '/DotPlot.VSMC.Mod9.11.13.24.28.30.31.Genes.cuts.Rev6.pdf'\n",
    "f5 <- paste(datdir, '/', ps$outdir, celltypes6[p], f5, sep = '')\n",
    "\n",
    "## Prepare for pre-clustering\n",
    "vsmc_dw <- which(colData(vsmcmod_cds)$condtype == 'vsmc-dis')\n",
    "vsmc_hw <- which(colData(vsmcmod_cds)$condtype == 'vsmc-hea')\n",
    "\n",
    "## Transform the data\n",
    "dims <- dim(expdat_vsmcmod)\n",
    "expdatbo <- (expdat_vsmcmod > 1) * 1\n",
    "\n",
    "## Set up clustering parameters\n",
    "## Distance method, cluster method, heatmap color scheme, legend\n",
    "distmeth <- c('binary', 'binary')\n",
    "clustmeth = c('complete', 'complete')\n",
    "my_palettebol <- colorRampPalette(c('#660066', 'yellow'))(n = 2)\n",
    "legendlstbol <- list(legend = c('VSMC DIS', 'VSMC HEA'),\n",
    "              col = c('orange', 'cyan'), title = 'Cell Types', cex = .7)\n",
    "\n",
    "## Individually cluster the columns of the two cell sets\n",
    "vsmc_dcim <- cim(expdatbo[, vsmc_dw], dist.method = distmeth, clust.method = clustmeth,\n",
    "    scale = \"FALSE\", center = \"FALSE\", col.names = FALSE, legend = legendlstbol,\n",
    "    color = my_palettebol, cluster = 'col', save = 'pdf', name.save = 'temp.ready.to.delete',\n",
    "    col.sideColors = colData(vsmcmod_cds)$sidecolor[vsmc_dw],\n",
    "    symkey = FALSE)\n",
    "vsmc_hcim <- cim(expdatbo[, vsmc_hw], dist.method = distmeth, clust.method = clustmeth,\n",
    "    scale = \"FALSE\", center = \"FALSE\", col.names = FALSE, legend = legendlstbol,\n",
    "    color = my_palettebol, cluster = 'col', save = 'pdf', name.save = 'temp.ready.to.delete',\n",
    "    col.sideColors = colData(vsmcmod_cds)$sidecolor[vsmc_hw],\n",
    "    symkey = FALSE)\n",
    "\n",
    "## The is the combined (concantenated) preclustered cell types\n",
    "## which will are plotted with genes fully clustered (check plot)\n",
    "parthclust <- c(colnames(vsmc_dcim$mat), colnames(vsmc_hcim$mat))\n",
    "colornames <-colData(vsmcmod_cds)$sidecolor\n",
    "names(colornames) <- colnames(expdatbo)\n",
    "\n",
    "## This is just a check plot to the screen\n",
    "# cim(expdatbo[, parthclust], dist.method = distmeth, clust.method = clustmeth,\n",
    "#     scale = \"FALSE\", center = \"FALSE\", col.names = FALSE, legend = legendlstbol,\n",
    "#     color = my_palettebol, cluster = 'row', # save = 'pdf', name.save = 'temp.ready.to.delete',\n",
    "#     col.sideColors = colornames[parthclust],\n",
    "#     symkey = FALSE)\n",
    "\n",
    "## Repeated from above, this time to a file\n",
    "pdf(f1, width = 8, height = 30)\n",
    "cim(expdatbo[, parthclust], dist.method = distmeth, clust.method = clustmeth,\n",
    "    scale = \"FALSE\", center = \"FALSE\", col.names = FALSE, legend = legendlstbol,\n",
    "    color = my_palettebol, cluster = 'row', title = title1,\n",
    "    col.sideColors = colornames[parthclust],\n",
    "    symkey = FALSE)\n",
    "dev.off()\n",
    "\n",
    "## The is again the combined cell types, plotted with both genes and cells fully clustered\n",
    "cim_save <- cim(expdatbo[, parthclust], dist.method = distmeth, clust.method = clustmeth,\n",
    "    scale = \"FALSE\", center = \"FALSE\", col.names = FALSE, legend = legendlstbol,\n",
    "    color = my_palettebol, cluster = 'both', save = 'pdf', name.save = 'temp.ready.to.delete',\n",
    "    col.sideColors = colornames[parthclust], \n",
    "    symkey = FALSE)\n",
    "\n",
    "## This is a check plot to the screen and it should match the above plot perfectly\n",
    "# cim(expdatbo[, colnames(cim_save$mat)], dist.method = distmeth, clust.method = clustmeth,\n",
    "#     scale = \"FALSE\", center = \"FALSE\", col.names = FALSE, legend = legendlstbol,\n",
    "#     color = my_palettebol, cluster = 'row', # save = 'pdf', name.save = 'temp.ready.to.delete',\n",
    "#     col.sideColors = colornames[colnames(cim_save$mat)], \n",
    "#     symkey = FALSE)\n",
    "\n",
    "## Repeated from above, this time to a file (make sure to cluster again to plot cell dendrogram)\n",
    "pdf(f2, width = 8, height = 30)\n",
    "cim(expdatbo[, parthclust], dist.method = distmeth, clust.method = clustmeth,\n",
    "    scale = \"FALSE\", center = \"FALSE\", col.names = FALSE, legend = legendlstbol,\n",
    "    color = my_palettebol, cluster = 'both', title = title2,\n",
    "    col.sideColors = colornames[parthclust], \n",
    "    symkey = FALSE)\n",
    "dev.off()\n",
    "\n",
    "specialglist <- short2geneid[cim_save$row.names]\n",
    "pdf(f3, width = 2.75, height = 34)\n",
    "plot_genes_by_group2(vsmcmod_cds,\n",
    "                    axis_order = \"group_marker\",\n",
    "                    specialglist,\n",
    "                    group_cells_by = \"condtype\",\n",
    "                    ordering_type = \"as_ordered\", \n",
    "                    max.size = 3,\n",
    "                    norm_method = 'size_only',\n",
    "                    scale_max = 3, scale_min = -3)\n",
    "dev.off()\n",
    "\n",
    "## Set up for plot with special cut regions\n",
    "cim_o <- colnames(cim_save$mat)\n",
    "cut0 <- 1\n",
    "cut1 <- floor(length(cim_o) * (1.100) / 5.626)\n",
    "cut2 <- floor(length(cim_o) * (1.561) / 5.626)\n",
    "cut3 <- floor(length(cim_o) * (2.169) / 5.626)\n",
    "cut4 <- floor(length(cim_o) * (3.178) / 5.626)\n",
    "cut5 <- floor(length(cim_o) * (3.634) / 5.626)\n",
    "cut6 <- floor(length(cim_o) * (4.100) / 5.626)\n",
    "cut7 <- length(cim_o)\n",
    "wcut1 <- which(colnames(expdatbo) %in% cim_o[cut0:cut1])\n",
    "wcut2 <- which(colnames(expdatbo) %in% cim_o[(cut1 + 1):cut2])\n",
    "wcut3 <- which(colnames(expdatbo) %in% cim_o[(cut2 + 1):cut3])\n",
    "wcut4 <- which(colnames(expdatbo) %in% cim_o[(cut3 + 1):cut4])\n",
    "wcut5 <- which(colnames(expdatbo) %in% cim_o[(cut4 + 1):cut5])\n",
    "wcut6 <- which(colnames(expdatbo) %in% cim_o[(cut5 + 1):cut6])\n",
    "wcut7 <- which(colnames(expdatbo) %in% cim_o[(cut6 + 1):cut7])\n",
    "wcuts <- c(wcut1, wcut2, wcut3, wcut4, wcut5, wcut6, wcut7)\n",
    "cell_subg_cols <- vector(mode = 'character', length = length(cim_o))\n",
    "cell_subg_names <- vector(mode = 'character', length = length(cim_o))\n",
    "cell_subg_cols[wcut1] <- '#202020' # '1gray'\n",
    "cell_subg_names[wcut1] <- '1gray'\n",
    "cell_subg_cols[wcut2] <- '#404040' # '2gray'\n",
    "cell_subg_names[wcut2] <- '2gray'\n",
    "cell_subg_cols[wcut3] <- '#606060' # '3gray'\n",
    "cell_subg_names[wcut3] <- '3gray'\n",
    "cell_subg_cols[wcut4] <- '#808080' # '4gray'\n",
    "cell_subg_names[wcut4] <- '4gray'\n",
    "cell_subg_cols[wcut5] <- '#A0A0A0' # '5gray'\n",
    "cell_subg_names[wcut5] <- '5gray'\n",
    "cell_subg_cols[wcut6] <- '#C0C0C0' # '6gray'\n",
    "cell_subg_names[wcut6] <- '6gray'\n",
    "cell_subg_cols[wcut7] <- '#F0F0F0' # '6gray'\n",
    "cell_subg_names[wcut7] <- '7gray'\n",
    "names(cell_subg_cols) <- cim_o\n",
    "\n",
    "## Plot the same fully clustered plot, this time without reclustering the cells,\n",
    "# but coloring the horizontal color bar according to the cuts\n",
    "pdf(f4, width = 8, height = 30)\n",
    "cim_cells <- cim(expdatbo[, colnames(cim_save$mat)], dist.method = distmeth,\n",
    "    clust.method = clustmeth,\n",
    "    scale = \"FALSE\", center = \"FALSE\", col.names = FALSE, legend = legendlstbol,\n",
    "    color = my_palettebol, cluster = 'row', title = title4,\n",
    "    col.sideColors = cell_subg_cols[wcuts],\n",
    "    symkey = FALSE)\n",
    "dev.off()\n",
    "\n",
    "specialglist <- specialglist <- short2geneid[cim_save$row.names]\n",
    "colData(vsmcmod_cds)$subgroups[wcuts] <- cell_subg_names[wcuts]\n",
    "pdf(f5, width = 3.75, height = 38)\n",
    "plot_genes_by_group2(vsmcmod_cds,\n",
    "                    axis_order = \"group_marker\",\n",
    "                    specialglist,\n",
    "                    group_cells_by = \"subgroups\",\n",
    "                    ordering_type = \"as_ordered\", \n",
    "                    max.size = 3,\n",
    "                    norm_method = 'size_only',\n",
    "                    scale_max = 3, scale_min = -3)\n",
    "dev.off()\n",
    "\n",
    "## Look at the mean expression of the first three groups\n",
    "# par(mfrow=c(1,3))\n",
    "# hist(apply(log10(exprs(down_stdycds[, colnames(expdatbo)[wcut1]]) +.1), 1, mean))\n",
    "# hist(apply(log10(exprs(down_stdycds[, colnames(expdatbo)[wcut2]]) +.1), 1, mean))\n",
    "# hist(apply(log10(exprs(down_stdycds[, colnames(expdatbo)[wcut3]]) +.1), 1, mean))"
   ]
  },
  {
   "cell_type": "code",
   "execution_count": null,
   "metadata": {},
   "outputs": [],
   "source": []
  },
  {
   "cell_type": "code",
   "execution_count": null,
   "metadata": {},
   "outputs": [],
   "source": []
  },
  {
   "cell_type": "code",
   "execution_count": null,
   "metadata": {},
   "outputs": [],
   "source": []
  },
  {
   "cell_type": "markdown",
   "metadata": {},
   "source": [
    "## VSMC Unknown Process (Modules 9, 11, 13, 24, 28, 30, 31, plus CCL4 and IGKC)¶\n",
    "### Updated code"
   ]
  },
  {
   "cell_type": "code",
   "execution_count": 222,
   "metadata": {},
   "outputs": [
    {
     "data": {
      "text/plain": [
       "\n",
       "  cyan orange \n",
       "  1223   1223 "
      ]
     },
     "metadata": {},
     "output_type": "display_data"
    },
    {
     "data": {
      "text/html": [
       "<strong>png:</strong> 2"
      ],
      "text/latex": [
       "\\textbf{png:} 2"
      ],
      "text/markdown": [
       "**png:** 2"
      ],
      "text/plain": [
       "png \n",
       "  2 "
      ]
     },
     "metadata": {},
     "output_type": "display_data"
    },
    {
     "data": {
      "text/html": [
       "<strong>png:</strong> 2"
      ],
      "text/latex": [
       "\\textbf{png:} 2"
      ],
      "text/markdown": [
       "**png:** 2"
      ],
      "text/plain": [
       "png \n",
       "  2 "
      ]
     },
     "metadata": {},
     "output_type": "display_data"
    },
    {
     "data": {
      "text/html": [
       "<strong>png:</strong> 2"
      ],
      "text/latex": [
       "\\textbf{png:} 2"
      ],
      "text/markdown": [
       "**png:** 2"
      ],
      "text/plain": [
       "png \n",
       "  2 "
      ]
     },
     "metadata": {},
     "output_type": "display_data"
    },
    {
     "data": {
      "text/html": [
       "<strong>png:</strong> 2"
      ],
      "text/latex": [
       "\\textbf{png:} 2"
      ],
      "text/markdown": [
       "**png:** 2"
      ],
      "text/plain": [
       "png \n",
       "  2 "
      ]
     },
     "metadata": {},
     "output_type": "display_data"
    },
    {
     "data": {
      "text/html": [
       "<strong>png:</strong> 2"
      ],
      "text/latex": [
       "\\textbf{png:} 2"
      ],
      "text/markdown": [
       "**png:** 2"
      ],
      "text/plain": [
       "png \n",
       "  2 "
      ]
     },
     "metadata": {},
     "output_type": "display_data"
    }
   ],
   "source": [
    "## Get the Expression Set for VSMC Module 9, 11, 13, 24, 28, 30, 31, DE Genes, plus CCL4 and IGKC\n",
    "p <- 3\n",
    "vsmc_bool <- (colData(down_stdycds)$assigned_cell_type == celltypes6[p])\n",
    "vsmcmod_cds <- down_stdycds[fData(down_stdycds)@rownames %in% vsmc_modgenes_9_11_13_24_28_30_31_plus2_ids, vsmc_bool]\n",
    "colData(vsmcmod_cds)$condtype <- paste('vsmc',\n",
    "    c('hea', 'dis')[(colData(vsmcmod_cds)$condition == 'diseased') + 1], sep = '-')\n",
    "## colData(vsmcmod_cds)$sidecolor[colData(vsmcmod_cds)$condtype == 'ec-dis'] <- 'red'\n",
    "## colData(vsmcmod_cds)$sidecolor[colData(vsmcmod_cds)$condtype == 'ec-hea'] <- 'blue'\n",
    "colData(vsmcmod_cds)$sidecolor[colData(vsmcmod_cds)$condtype == 'vsmc-dis'] <- 'orange'\n",
    "colData(vsmcmod_cds)$sidecolor[colData(vsmcmod_cds)$condtype == 'vsmc-hea'] <- 'cyan'\n",
    "\n",
    "## Down Sample\n",
    "cttable <- table(colData(vsmcmod_cds)$sidecolor)\n",
    "smallset <- min(cttable)\n",
    "cells2keep <- NULL\n",
    "set.seed(101)\n",
    "for (cellset_col in names(cttable)) {\n",
    "    cellsetrow <-  which(colData(vsmcmod_cds)$sidecolor == cellset_col)\n",
    "    cells2keep <- c(cells2keep, sample(cellsetrow, smallset, replace = FALSE))\n",
    "}\n",
    "vsmcmod_cds <- vsmcmod_cds[, cells2keep] \n",
    "\n",
    "## Print the down sampled data set sizes\n",
    "table(colData(vsmcmod_cds)$sidecolor)\n",
    "\n",
    "## Get the expresion matrix\n",
    "expdat_vsmcmod <- as.matrix(exprs(vsmcmod_cds))\n",
    "rownames(expdat_vsmcmod) <- geneid2short[rownames(expdat_vsmcmod)] \n",
    "\n",
    "## Set up the output file names and plot titles\n",
    "f1 <- '/Heatmap.VSMC.Mod9.11.13.24.28.30.31.Plus2.Genes.comp.bin.comp.bin.down.OnOff2Plus.preclustered.Rev3.pdf'\n",
    "f1 <- paste(datdir, '/', ps$outdir, celltypes6[p], f1, sep = '')\n",
    "title1 <- 'VSMC Network Modules 9, 11, 13, 24, 28, 30, 31, Plus 2\\nGenes, Cells Pre-Clustered'\n",
    "\n",
    "f2 <- '/Heatmap.VSMC.Mod9.11.13.24.28.30.31.Plus2.Genes.comp.bin.comp.bin.down.OnOff2Plus.fullyclustered.Rev3.pdf'\n",
    "f2 <- paste(datdir, '/', ps$outdir, celltypes6[p], f2, sep = '')\n",
    "title2 <-  'VSMC Network Modules 9, 11, 24, 28, 13, 30, 31, Plus 2\\nGenes, Cells Fully Clustered'\n",
    "\n",
    "f3 <- '/DotPlot.VSMC.Mod9.11.13.24.28.30.31.Plus2.Genes.Rev3.pdf'\n",
    "f3 <- paste(datdir, '/', ps$outdir, celltypes6[p], f3, sep = '')\n",
    "\n",
    "f4 <- '/Heatmap.VSMC.Mod9.11.13.24.28.30.31.Plus2.Genes.comp.bin.comp.bin.down.OnOff2Plus.fullyclustered.cut.Rev5.pdf'\n",
    "f4 <- paste(datdir, '/', ps$outdir, celltypes6[p], f4, sep = '')\n",
    "title4 <-  'VSMC Network Modules 9, 11, 24, 28, 13, 30, 31, Plus 2\\nGenes, Cells Fully Clustered with Cuts'\n",
    "\n",
    "f5 <- '/DotPlot.VSMC.Mod9.11.13.24.28.30.31.Plus2.Genes.cuts.Rev5.pdf'\n",
    "f5 <- paste(datdir, '/', ps$outdir, celltypes6[p], f5, sep = '')\n",
    "\n",
    "## Prepare for pre-clustering\n",
    "vsmc_dw <- which(colData(vsmcmod_cds)$condtype == 'vsmc-dis')\n",
    "vsmc_hw <- which(colData(vsmcmod_cds)$condtype == 'vsmc-hea')\n",
    "\n",
    "## Transform the data\n",
    "dims <- dim(expdat_vsmcmod)\n",
    "expdatbo <- (expdat_vsmcmod > 1) * 1\n",
    "\n",
    "## Set up clustering parameters\n",
    "## Distance method, cluster method, heatmap color scheme, legend\n",
    "distmeth <- c('binary', 'binary')\n",
    "clustmeth = c('complete', 'complete')\n",
    "my_palettebol <- colorRampPalette(c('#660066', 'yellow'))(n = 2)\n",
    "legendlstbol <- list(legend = c('VSMC DIS', 'VSMC HEA'),\n",
    "              col = c('orange', 'cyan'), title = 'Cell Types', cex = .7)\n",
    "\n",
    "## Individually cluster the columns of the two cell sets\n",
    "vsmc_dcim <- cim(expdatbo[, vsmc_dw], dist.method = distmeth, clust.method = clustmeth,\n",
    "    scale = \"FALSE\", center = \"FALSE\", col.names = FALSE, legend = legendlstbol,\n",
    "    color = my_palettebol, cluster = 'col', save = 'pdf', name.save = 'temp.ready.to.delete',\n",
    "    col.sideColors = colData(vsmcmod_cds)$sidecolor[vsmc_dw],\n",
    "    symkey = FALSE)\n",
    "vsmc_hcim <- cim(expdatbo[, vsmc_hw], dist.method = distmeth, clust.method = clustmeth,\n",
    "    scale = \"FALSE\", center = \"FALSE\", col.names = FALSE, legend = legendlstbol,\n",
    "    color = my_palettebol, cluster = 'col', save = 'pdf', name.save = 'temp.ready.to.delete',\n",
    "    col.sideColors = colData(vsmcmod_cds)$sidecolor[vsmc_hw],\n",
    "    symkey = FALSE)\n",
    "\n",
    "## The is the combined (concantenated) preclustered cell types\n",
    "## which will are plotted with genes fully clustered (check plot)\n",
    "parthclust <- c(colnames(vsmc_dcim$mat), colnames(vsmc_hcim$mat))\n",
    "colornames <-colData(vsmcmod_cds)$sidecolor\n",
    "names(colornames) <- colnames(expdatbo)\n",
    "\n",
    "## This is just a check plot to the screen\n",
    "# cim(expdatbo[, parthclust], dist.method = distmeth, clust.method = clustmeth,\n",
    "#     scale = \"FALSE\", center = \"FALSE\", col.names = FALSE, legend = legendlstbol,\n",
    "#     color = my_palettebol, cluster = 'row', # save = 'pdf', name.save = 'temp.ready.to.delete',\n",
    "#     col.sideColors = colornames[parthclust],\n",
    "#     symkey = FALSE)\n",
    "\n",
    "## Repeated from above, this time to a file\n",
    "pdf(f1, width = 8, height = 30)\n",
    "cim(expdatbo[, parthclust], dist.method = distmeth, clust.method = clustmeth,\n",
    "    scale = \"FALSE\", center = \"FALSE\", col.names = FALSE, legend = legendlstbol,\n",
    "    color = my_palettebol, cluster = 'row', title = title1,\n",
    "    col.sideColors = colornames[parthclust],\n",
    "    symkey = FALSE)\n",
    "dev.off()\n",
    "\n",
    "## The is again the combined cell types, plotted with both genes and cells fully clustered\n",
    "cim_save <- cim(expdatbo[, parthclust], dist.method = distmeth, clust.method = clustmeth,\n",
    "    scale = \"FALSE\", center = \"FALSE\", col.names = FALSE, legend = legendlstbol,\n",
    "    color = my_palettebol, cluster = 'both', save = 'pdf', name.save = 'temp.ready.to.delete',\n",
    "    col.sideColors = colornames[parthclust], \n",
    "    symkey = FALSE)\n",
    "\n",
    "## This is a check plot to the screen and it should match the above plot perfectly\n",
    "# cim(expdatbo[, colnames(cim_save$mat)], dist.method = distmeth, clust.method = clustmeth,\n",
    "#     scale = \"FALSE\", center = \"FALSE\", col.names = FALSE, legend = legendlstbol,\n",
    "#     color = my_palettebol, cluster = 'row', # save = 'pdf', name.save = 'temp.ready.to.delete',\n",
    "#     col.sideColors = colornames[colnames(cim_save$mat)], \n",
    "#     symkey = FALSE)\n",
    "\n",
    "## Repeated from above, this time to a file (make sure to cluster again to plot cell dendrogram)\n",
    "pdf(f2, width = 8, height = 30)\n",
    "cim(expdatbo[, parthclust], dist.method = distmeth, clust.method = clustmeth,\n",
    "    scale = \"FALSE\", center = \"FALSE\", col.names = FALSE, legend = legendlstbol,\n",
    "    color = my_palettebol, cluster = 'both', title = title2,\n",
    "    col.sideColors = colornames[parthclust], \n",
    "    symkey = FALSE)\n",
    "dev.off()\n",
    "\n",
    "specialglist <- short2geneid[cim_save$row.names]\n",
    "pdf(f3, width = 2.75, height = 34)\n",
    "plot_genes_by_group2(vsmcmod_cds,\n",
    "                    axis_order = \"group_marker\",\n",
    "                    specialglist,\n",
    "                    group_cells_by = \"condtype\",\n",
    "                    ordering_type = \"as_ordered\", \n",
    "                    max.size = 3,\n",
    "                    norm_method = 'size_only',\n",
    "                    scale_max = 3, scale_min = -3)\n",
    "dev.off()\n",
    "\n",
    "## Set up for plot with special cut regions\n",
    "cim_o <- colnames(cim_save$mat)\n",
    "cut0 <- 1\n",
    "cut1 <- floor(length(cim_o) * (15 / 16) / 7.1)\n",
    "cut2 <- floor(length(cim_o) * (1 + 11 / 16) / 7.1)\n",
    "cut3 <- floor(length(cim_o) * (2 + 1 / 4) / 7.1)\n",
    "cut4 <- floor(length(cim_o) * (3 + 5 / 8) / 7.1)\n",
    "cut5 <- floor(length(cim_o) * (4 + 15 / 16) / 7.1)\n",
    "cut6 <- length(cim_o)\n",
    "wcut1 <- which(colnames(expdatbo) %in% cim_o[cut0:cut1])\n",
    "wcut2 <- which(colnames(expdatbo) %in% cim_o[(cut1 + 1):cut2])\n",
    "wcut3 <- which(colnames(expdatbo) %in% cim_o[(cut2 + 1):cut3])\n",
    "wcut4 <- which(colnames(expdatbo) %in% cim_o[(cut3 + 1):cut4])\n",
    "wcut5 <- which(colnames(expdatbo) %in% cim_o[(cut4 + 1):cut5])\n",
    "wcut6 <- which(colnames(expdatbo) %in% cim_o[(cut5 + 1):cut6])\n",
    "wcuts <- c(wcut1, wcut2, wcut3, wcut4, wcut5, wcut6)\n",
    "cell_subg_cols <- vector(mode = 'character', length = length(cim_o))\n",
    "cell_subg_names <- vector(mode = 'character', length = length(cim_o))\n",
    "cell_subg_cols[wcut1] <- '#404040' # '1gray'\n",
    "cell_subg_names[wcut1] <- '1gray'\n",
    "cell_subg_cols[wcut2] <- '#606060' # '2gray'\n",
    "cell_subg_names[wcut2] <- '2gray'\n",
    "cell_subg_cols[wcut3] <- '#808080' # '3gray'\n",
    "cell_subg_names[wcut3] <- '3gray'\n",
    "cell_subg_cols[wcut4] <- '#A0A0A0' # '4gray'\n",
    "cell_subg_names[wcut4] <- '4gray'\n",
    "cell_subg_cols[wcut5] <- '#C0C0C0' # '5gray'\n",
    "cell_subg_names[wcut5] <- '5gray'\n",
    "cell_subg_cols[wcut6] <- '#E0E0E0' # '6gray'\n",
    "cell_subg_names[wcut6] <- '6gray'\n",
    "names(cell_subg_cols) <- cim_o\n",
    "\n",
    "## Plot the same fully clustered plot, this time without reclustering the cells,\n",
    "# but coloring the horizontal color bar according to the cuts\n",
    "pdf(f4, width = 8, height = 30)\n",
    "cim_cells <- cim(expdatbo[, colnames(cim_save$mat)], dist.method = distmeth,\n",
    "    clust.method = clustmeth,\n",
    "    scale = \"FALSE\", center = \"FALSE\", col.names = FALSE, legend = legendlstbol,\n",
    "    color = my_palettebol, cluster = 'row', title = title4,\n",
    "    col.sideColors = cell_subg_cols[wcuts],\n",
    "    symkey = FALSE)\n",
    "dev.off()\n",
    "\n",
    "specialglist <- specialglist <- short2geneid[cim_save$row.names]\n",
    "colData(vsmcmod_cds)$subgroups[wcuts] <- cell_subg_names[wcuts]\n",
    "pdf(f5, width = 3.25, height = 34)\n",
    "plot_genes_by_group2(vsmcmod_cds,\n",
    "                    axis_order = \"group_marker\",\n",
    "                    specialglist,\n",
    "                    group_cells_by = \"subgroups\",\n",
    "                    ordering_type = \"as_ordered\", \n",
    "                    max.size = 3,\n",
    "                    norm_method = 'size_only',\n",
    "                    scale_max = 3, scale_min = -3)\n",
    "dev.off()"
   ]
  },
  {
   "cell_type": "code",
   "execution_count": null,
   "metadata": {},
   "outputs": [],
   "source": []
  },
  {
   "cell_type": "code",
   "execution_count": null,
   "metadata": {},
   "outputs": [],
   "source": []
  },
  {
   "cell_type": "code",
   "execution_count": null,
   "metadata": {},
   "outputs": [],
   "source": []
  },
  {
   "cell_type": "markdown",
   "metadata": {},
   "source": [
    "## EC Unknown Process (Modules 1, 2, 6,  35, 36)\n",
    "### Updated code"
   ]
  },
  {
   "cell_type": "code",
   "execution_count": 223,
   "metadata": {},
   "outputs": [
    {
     "data": {
      "text/plain": [
       "\n",
       "blue  red \n",
       " 449  449 "
      ]
     },
     "metadata": {},
     "output_type": "display_data"
    },
    {
     "data": {
      "text/html": [
       "<strong>png:</strong> 2"
      ],
      "text/latex": [
       "\\textbf{png:} 2"
      ],
      "text/markdown": [
       "**png:** 2"
      ],
      "text/plain": [
       "png \n",
       "  2 "
      ]
     },
     "metadata": {},
     "output_type": "display_data"
    },
    {
     "data": {
      "text/html": [
       "<strong>png:</strong> 2"
      ],
      "text/latex": [
       "\\textbf{png:} 2"
      ],
      "text/markdown": [
       "**png:** 2"
      ],
      "text/plain": [
       "png \n",
       "  2 "
      ]
     },
     "metadata": {},
     "output_type": "display_data"
    },
    {
     "data": {
      "text/html": [
       "<strong>png:</strong> 2"
      ],
      "text/latex": [
       "\\textbf{png:} 2"
      ],
      "text/markdown": [
       "**png:** 2"
      ],
      "text/plain": [
       "png \n",
       "  2 "
      ]
     },
     "metadata": {},
     "output_type": "display_data"
    },
    {
     "data": {
      "text/html": [
       "<strong>png:</strong> 2"
      ],
      "text/latex": [
       "\\textbf{png:} 2"
      ],
      "text/markdown": [
       "**png:** 2"
      ],
      "text/plain": [
       "png \n",
       "  2 "
      ]
     },
     "metadata": {},
     "output_type": "display_data"
    },
    {
     "data": {
      "text/html": [
       "<strong>png:</strong> 2"
      ],
      "text/latex": [
       "\\textbf{png:} 2"
      ],
      "text/markdown": [
       "**png:** 2"
      ],
      "text/plain": [
       "png \n",
       "  2 "
      ]
     },
     "metadata": {},
     "output_type": "display_data"
    }
   ],
   "source": [
    "## Get the Expression Set for EC 1, 2, 6, 35, 36 DE Genes\n",
    "p <- 2\n",
    "ec_bool <- (colData(down_stdycds)$assigned_cell_type == celltypes6[p])\n",
    "ecmod_cds <- down_stdycds[fData(down_stdycds)@rownames %in% ec_modgenes_1_2_6_35_36_ids, ec_bool]\n",
    "colData(ecmod_cds)$condtype <- paste('ec',\n",
    "    c('hea', 'dis')[(colData(ecmod_cds)$condition == 'diseased') + 1], sep = '-')\n",
    "colData(ecmod_cds)$sidecolor[colData(ecmod_cds)$condtype == 'ec-dis'] <- 'red'\n",
    "colData(ecmod_cds)$sidecolor[colData(ecmod_cds)$condtype == 'ec-hea'] <- 'blue'\n",
    "# colData(ecmod_cds)$sidecolor[colData(ecmod_cds)$condtype == 'vsmc-dis'] <- 'orange'\n",
    "# colData(ecmod_cds)$sidecolor[colData(ecmod_cds)$condtype == 'vsmc-hea'] <- 'cyan'\n",
    "\n",
    "## Down Sample\n",
    "cttable <- table(colData(ecmod_cds)$sidecolor)\n",
    "smallset <- min(cttable)\n",
    "cells2keep <- NULL\n",
    "set.seed(101)\n",
    "for (cellset_col in names(cttable)) {\n",
    "    cellsetrow <-  which(colData(ecmod_cds)$sidecolor == cellset_col)\n",
    "    cells2keep <- c(cells2keep, sample(cellsetrow, smallset, replace = FALSE))\n",
    "}\n",
    "ecmod_cds <- ecmod_cds[, cells2keep] \n",
    "\n",
    "## Print the down sampled data set sizes\n",
    "table(colData(ecmod_cds)$sidecolor)\n",
    "\n",
    "## Get the expresion matrix\n",
    "expdat_ecmod <- as.matrix(exprs(ecmod_cds))\n",
    "rownames(expdat_ecmod) <- geneid2short[rownames(expdat_ecmod)] \n",
    "\n",
    "## This is a new round of heatmaps, with new genes and down sampled cell tpyes\n",
    "f1 <- '/Heatmap.EC.Mod1.2.6.35.36.Genes.comp.bin.comp.bin.down.OnOff2Plus.preclustered.Rev2.pdf'\n",
    "f1 <- paste(datdir, '/', ps$outdir, celltypes6[p], f1, sep = '')\n",
    "title1 <- 'Endothelial Network \\nModules 1, 2, 6, 35 and 36 Genes, Cells Pre-Clustered'\n",
    "\n",
    "f2 <- '/Heatmap.EC.Mod1.2.6.35.36.Genes.comp.bin.comp.bin.down.OnOff2Plus.fullyclustered.Rev2.pdf'\n",
    "f2 <- paste(datdir, '/', ps$outdir, celltypes6[p], f2, sep = '')\n",
    "title2 <-  'Endothelial Network \\nModule  1, 2, 6, 35 and 36 Genes, Cells Fully Clustered'\n",
    "\n",
    "f3 <- '/DotPlot.EC.Mod1.2.6.35.36.Genes.Rev2.pdf'\n",
    "f3 <- paste(datdir, '/', ps$outdir, celltypes6[p], f3, sep = '')\n",
    "\n",
    "f4 <- '/Heatmap.EC.Mod1.2.6.35.36.Genes.comp.bin.comp.bin.down.OnOff2Plus.fullyclustered.cut.Rev5.pdf'\n",
    "f4 <- paste(datdir, '/', ps$outdir, celltypes6[p], f4, sep = '')\n",
    "title4 <-  'VSMC Network Modules  1, 2, 6, 35 and 36\\nGenes, Cells Fully Clustered with Cuts'\n",
    "\n",
    "f5 <- '/DotPlot.EC.Mod1.2.6.35.36.Genes.cuts.Rev5.pdf'\n",
    "f5 <- paste(datdir, '/', ps$outdir, celltypes6[p], f5, sep = '')\n",
    "\n",
    "## Prepare for pre-clustering\n",
    "ec_dw <- which(colData(ecmod_cds)$condtype == 'ec-dis')\n",
    "ec_hw <- which(colData(ecmod_cds)$condtype == 'ec-hea')\n",
    "\n",
    "## Transform the data\n",
    "dims <- dim(expdat_ecmod)\n",
    "expdatbo <- (expdat_ecmod > 1) * 1\n",
    "\n",
    "## Set up clustering parameters\n",
    "## Distance method, cluster method, heatmap color scheme, legend\n",
    "distmeth <- c('binary', 'binary')\n",
    "clustmeth = c('complete', 'complete')\n",
    "my_palettebol <- colorRampPalette(c('#660066', 'yellow'))(n = 2)\n",
    "legendlstbol <- list(legend = c('EC DIS', 'EC HEA'),\n",
    "              col = c('red', 'blue'), title = 'Cell Types', cex = .7)\n",
    "\n",
    "## Individually cluster the columns of the two cell sets\n",
    "ec_dcim <- cim(expdatbo[, ec_dw], dist.method = distmeth, clust.method = clustmeth,\n",
    "    scale = \"FALSE\", center = \"FALSE\", col.names = FALSE, legend = legendlstbol,\n",
    "    color = my_palettebol, cluster = 'col',\n",
    "    col.sideColors = colData(ecmod_cds)$sidecolor[ec_dw],\n",
    "    symkey = FALSE, save = 'pdf', name.save = 'temp.ready.to.delete')\n",
    "ec_hcim <- cim(expdatbo[, ec_hw], dist.method = distmeth, clust.method = clustmeth,\n",
    "    scale = \"FALSE\", center = \"FALSE\", col.names = FALSE, legend = legendlstbol,\n",
    "    color = my_palettebol, cluster = 'col',\n",
    "    col.sideColors = colData(ecmod_cds)$sidecolor[ec_hw],\n",
    "    symkey = FALSE, save = 'pdf', name.save = 'temp.ready.to.delete')\n",
    "\n",
    "## This is the combined (concantenated) preclustered cell types\n",
    "## which are plotted with genes fully clustered (check plot)\n",
    "parthclust <- c(colnames(ec_dcim$mat), colnames(ec_hcim$mat))\n",
    "colornames <-colData(ecmod_cds)$sidecolor\n",
    "names(colornames) <- colnames(expdatbo)\n",
    "\n",
    "## This is just a check plot to the screen\n",
    "# cim(expdatbo[, parthclust], dist.method = distmeth, clust.method = clustmeth,\n",
    "#     scale = \"FALSE\", center = \"FALSE\", col.names = FALSE, legend = legendlstbol,\n",
    "#     color = my_palettebol, cluster = 'row',\n",
    "#     col.sideColors = colornames[parthclust],\n",
    "#     symkey = FALSE, save = 'pdf', name.save = 'temp.ready.to.delete')\n",
    "\n",
    "## Repeated from above, this time to a file\n",
    "pdf(f1, width = 8, height = 24)\n",
    "cim(expdatbo[, parthclust], dist.method = distmeth, clust.method = clustmeth,\n",
    "    scale = \"FALSE\", center = \"FALSE\", col.names = FALSE, legend = legendlstbol,\n",
    "    color = my_palettebol, cluster = 'row', title = title1,\n",
    "    col.sideColors = colornames[parthclust],\n",
    "    symkey = FALSE)\n",
    "dev.off()\n",
    "\n",
    "## The is again the combined cell types, plotted with both genes and cells fully clustered\n",
    "cim_save <- cim(expdatbo[, parthclust], dist.method = distmeth, clust.method = clustmeth,\n",
    "    scale = \"FALSE\", center = \"FALSE\", col.names = FALSE, legend = legendlstbol,\n",
    "    color = my_palettebol, cluster = 'both', save = 'pdf', name.save = 'temp.ready.to.delete',\n",
    "    col.sideColors = colornames[parthclust], \n",
    "    symkey = FALSE)\n",
    "\n",
    "## This is a check plot to the screen and it should match the above plot perfectly\n",
    "# cim(expdatbo[, colnames(cim_save$mat)], dist.method = distmeth, clust.method = clustmeth,\n",
    "#     scale = \"FALSE\", center = \"FALSE\", col.names = FALSE, legend = legendlstbol,\n",
    "#     color = my_palettebol, cluster = 'row', # save = 'pdf', name.save = 'temp.ready.to.delete',\n",
    "#     col.sideColors = colornames[colnames(cim_save$mat)], \n",
    "#     symkey = FALSE)\n",
    "\n",
    "## Repeated from above, this time to a file (make sure to cluster again to plot cell dendrogram)\n",
    "pdf(f2, width = 8, height = 24)\n",
    "cim(expdatbo[, parthclust], dist.method = distmeth, clust.method = clustmeth,\n",
    "    scale = \"FALSE\", center = \"FALSE\", col.names = FALSE, legend = legendlstbol,\n",
    "    color = my_palettebol, cluster = 'both', title = title2,\n",
    "    col.sideColors = colornames[parthclust], \n",
    "    symkey = FALSE)\n",
    "dev.off()\n",
    "\n",
    "specialglist <- short2geneid[cim_save$row.names]\n",
    "pdf(f3, width = 2.75, height = 23)\n",
    "plot_genes_by_group2(ecmod_cds,\n",
    "                    axis_order = \"group_marker\",\n",
    "                    specialglist,\n",
    "                    group_cells_by = \"condtype\",\n",
    "                    ordering_type = \"as_ordered\", \n",
    "                    max.size = 3,\n",
    "                    norm_method = 'size_only',\n",
    "                    scale_max = 3, scale_min = -3)\n",
    "dev.off()\n",
    "\n",
    "## Set up for plot with special cut regions\n",
    "cim_o <- colnames(cim_save$mat)\n",
    "cut0 <- 1\n",
    "cut1 <- floor(length(cim_o) * (1.573) / 5.664)\n",
    "cut2 <- floor(length(cim_o) * (3.205) / 5.664)\n",
    "cut3 <- length(cim_o)\n",
    "wcut1 <- which(colnames(expdatbo) %in% cim_o[cut0:cut1])\n",
    "wcut2 <- which(colnames(expdatbo) %in% cim_o[(cut1 + 1):cut2])\n",
    "wcut3 <- which(colnames(expdatbo) %in% cim_o[(cut2 + 1):cut3])\n",
    "wcuts <- c(wcut1, wcut2, wcut3)\n",
    "cell_subg_cols <- vector(mode = 'character', length = length(cim_o))\n",
    "cell_subg_names <- vector(mode = 'character', length = length(cim_o))\n",
    "cell_subg_cols[wcut1] <- '#404040' # '1gray'\n",
    "cell_subg_names[wcut1] <- '1gray'\n",
    "cell_subg_cols[wcut2] <- '#606060' # '2gray'\n",
    "cell_subg_names[wcut2] <- '2gray'\n",
    "cell_subg_cols[wcut3] <- '#808080' # '3gray'\n",
    "cell_subg_names[wcut3] <- '3gray'\n",
    "names(cell_subg_cols) <- cim_o\n",
    "\n",
    "## Plot the same fully clustered plot, this time without reclustering the cells,\n",
    "# but coloring the horizontal color bar according to the cuts\n",
    "pdf(f4, width = 8, height = 24)\n",
    "cim_cells <- cim(expdatbo[, colnames(cim_save$mat)], dist.method = distmeth,\n",
    "    clust.method = clustmeth,\n",
    "    scale = \"FALSE\", center = \"FALSE\", col.names = FALSE, legend = legendlstbol,\n",
    "    color = my_palettebol, cluster = 'row', title = title4,\n",
    "    col.sideColors = cell_subg_cols[wcuts],\n",
    "    symkey = FALSE)\n",
    "dev.off()\n",
    "\n",
    "specialglist <- specialglist <- short2geneid[cim_save$row.names]\n",
    "colData(ecmod_cds)$subgroups[wcuts] <- cell_subg_names[wcuts]\n",
    "pdf(f5, width = 3.25, height = 27)\n",
    "plot_genes_by_group2(ecmod_cds,\n",
    "                    axis_order = \"group_marker\",\n",
    "                    specialglist,\n",
    "                    group_cells_by = \"subgroups\",\n",
    "                    ordering_type = \"as_ordered\", \n",
    "                    max.size = 3,\n",
    "                    norm_method = 'size_only',\n",
    "                    scale_max = 3, scale_min = -3)\n",
    "dev.off()"
   ]
  },
  {
   "cell_type": "code",
   "execution_count": null,
   "metadata": {},
   "outputs": [],
   "source": []
  }
 ],
 "metadata": {
  "kernelspec": {
   "display_name": "R",
   "language": "R",
   "name": "ir"
  },
  "language_info": {
   "codemirror_mode": "r",
   "file_extension": ".r",
   "mimetype": "text/x-r-source",
   "name": "R",
   "pygments_lexer": "r",
   "version": "3.5.1"
  }
 },
 "nbformat": 4,
 "nbformat_minor": 2
}
