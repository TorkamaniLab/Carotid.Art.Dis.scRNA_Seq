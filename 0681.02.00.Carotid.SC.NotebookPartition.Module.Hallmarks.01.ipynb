{
 "cells": [
  {
   "cell_type": "code",
   "execution_count": 2,
   "metadata": {},
   "outputs": [],
   "source": [
    "## ---- Partition Cell Set Network Hallmark Analysis ---- 0681.02.00\n",
    "## Load Analysis Parameters (Parm1)\n",
    "## Load Network Utilities\n",
    "## Loop Through Each Partition and Perform Analysis as Follows:\n",
    "## Load Partition Cell Set\n",
    "## Plot Hallmark Gene Heatmaps\n",
    "## Create DE Analysis on VSCM Hallmark Subgroup Genes\n",
    "## Create Volcano Plot for VSMC DE Hallmark Subgroup Genes"
   ]
  },
  {
   "cell_type": "code",
   "execution_count": 3,
   "metadata": {},
   "outputs": [],
   "source": [
    "## Create a Working Input and Output Data Directory, If Id Does Not Exist\n",
    "parentdir <- '/gpfs/group/torkamani/devans/'\n",
    "datdir <- paste(parentdir, 'CDC2', sep = '')\n",
    "if (!file.exists(datdir)) {\n",
    "    dir.create(datdir)\n",
    "}\n",
    "setwd(datdir)"
   ]
  },
  {
   "cell_type": "code",
   "execution_count": 4,
   "metadata": {},
   "outputs": [],
   "source": [
    "## Read the parameters file\n",
    "ps <- read.table(file = 'parms.txt', stringsAsFactors = FALSE, header = TRUE)"
   ]
  },
  {
   "cell_type": "code",
   "execution_count": 7,
   "metadata": {},
   "outputs": [],
   "source": [
    "## Load Monocle3 and Seurat Libraries\n",
    "library(monocle3)\n",
    "library(Seurat)\n",
    "library(dplyr)\n",
    "library(magrittr)\n",
    "library(ggplot2)\n",
    "library(gridExtra)\n",
    "library(Matrix)\n",
    "library(rhdf5)\n",
    "library(grid)\n",
    "library(igraph)\n",
    "library(corpcor)\n",
    "library(fdrtool)\n",
    "library(readxl)\n",
    "library(mixOmics)\n",
    "library(EnhancedVolcano)"
   ]
  },
  {
   "cell_type": "code",
   "execution_count": 8,
   "metadata": {},
   "outputs": [],
   "source": [
    "## Load modified version of Monocle 3 dot plot (adds as.ordered type)\n",
    "source('~/code/CSC.Run2/0700.00.00.Carotid.SC.Utilities.01.r')"
   ]
  },
  {
   "cell_type": "code",
   "execution_count": 9,
   "metadata": {},
   "outputs": [],
   "source": [
    "## Read the previously preprocessed downsampled cell set data object\n",
    "down_stdycds <- readRDS(file = paste(ps$outdir,\n",
    "            'Aggregated.downsampled.QC.NoDoublets.Repartitioned.rds', sep = ''))"
   ]
  },
  {
   "cell_type": "code",
   "execution_count": 10,
   "metadata": {},
   "outputs": [],
   "source": [
    "## Build a gene short name to gene id (Ensembl) lookup\n",
    "short2geneid <- fData(down_stdycds)@rownames\n",
    "names(short2geneid) <- fData(down_stdycds)@listData$gene_short_name"
   ]
  },
  {
   "cell_type": "code",
   "execution_count": 11,
   "metadata": {},
   "outputs": [],
   "source": [
    "## Build a gene id (Ensembl) to gene short name lookup\n",
    "geneid2short <- fData(down_stdycds)@listData$gene_short_name\n",
    "names(geneid2short) <- fData(down_stdycds)@rownames"
   ]
  },
  {
   "cell_type": "code",
   "execution_count": 12,
   "metadata": {},
   "outputs": [],
   "source": [
    "## Create variables for how cells sets are organized\n",
    "cellgrps <- c('healthy', 'diseased', 'healthy', 'diseased', 'healthy', 'diseased')\n",
    "cellpats <- c('ID Number 1', 'ID Number 1', 'ID Number 2', 'ID Number 2', 'ID Number 3', 'ID Number 3')"
   ]
  },
  {
   "cell_type": "code",
   "execution_count": 13,
   "metadata": {},
   "outputs": [],
   "source": [
    "## Define and Assign Cell Types\n",
    "celltypes6 <- c('1-Macrophages',\n",
    "                '2-Endothelial Cells',\n",
    "                '3-VSMCs',\n",
    "                '4-Natural Killer Cells',\n",
    "                '5-Cytotoxic T Lymphocytes',\n",
    "                '6-B Lymphocytes')"
   ]
  },
  {
   "cell_type": "code",
   "execution_count": 14,
   "metadata": {},
   "outputs": [],
   "source": [
    "## Declare Tom's best genes for definiting cell types\n",
    "toms_markers7 <- c('AIF1', 'CD14', 'CD68',\n",
    "                   'VWF', 'PECAM1', 'ECSCR',\n",
    "                   'CALD1', 'MYL9', 'TAGLN',\n",
    "                   'NKG7', 'XCL', 'CTSW',\n",
    "                   'CD2', 'TRAC', 'CD69',\n",
    "                   'CD79A', 'MS4A1', 'IGKC')\n",
    "\n",
    "toms_gene_ids7 <- short2geneid[toms_markers7]"
   ]
  },
  {
   "cell_type": "code",
   "execution_count": 56,
   "metadata": {},
   "outputs": [],
   "source": [
    "## Round Three of Hallmark Genes\n",
    "\n",
    "## vsmc-dis2_Epithelial-mesenchymal-transition\n",
    "vsmc_dis3a_emt <- c('SPP1', 'POSTN', 'SERPINE1', 'TFPI2', 'IGFBP3',\n",
    "                   'TGM2', 'EDIL3', 'GADD45A', 'IGFBP2', 'VCAM1',\n",
    "                   'TGFB1', 'FN1', 'COL4A1', 'TNFRSF11B', 'COL4A2',\n",
    "                   'MYLK', 'GPC1', 'RGS4', 'BGN', 'TIMP1', 'FAP',\n",
    "                   'GJA1', 'CDH11', 'VCAN', 'TPM2', 'TPM4', 'FLNA',\n",
    "                   'ACTA2', 'INHBA', 'CALD1', 'TAGLN', 'PMEPA1',\n",
    "                   'VIM', 'FOXC2', 'MYL9', 'GLIPR1', 'LGALS1',\n",
    "                   'HTRA1', 'MGP', 'ITGB1', 'TPM1', 'SPARC', 'EMP3'\n",
    "                   , 'PCOLCE', 'PRRX1', 'FBLN5', 'DAB2', 'LAMA2',\n",
    "                   'ID2', 'ELN', 'CTHRC1', 'IGFBP4', 'NT5E', 'CDH6',\n",
    "                   'FSTL3', 'RHOB', 'GADD45B', 'LRP1', 'LOX', 'PMP22',\n",
    "                   'JUN', 'MATN2', 'ECM1', 'FSTL1', 'THBS1', 'MSX1',\n",
    "                   'SLIT3', 'MMP2', 'PCOLCE2', 'SLIT2', 'TGFBR3',\n",
    "                   'ABI3BP', 'TIMP3', 'FBN1', 'NTM', 'FBLN2', 'SFRP4',\n",
    "                   'DCN', 'GAS1', 'SFRP1', 'FBLN1', 'MFAP5')\n",
    "\n",
    "## ec-dis2_Epithelial-mesenchymal-transition\n",
    "ec_dis3a_emt <- c('FN1', 'BGN', 'DCN', 'SPP1', 'MMP2', 'ECM2',\n",
    "                 'SERPINE1', 'THBS1', 'GLIPR1', 'TPM2', 'SERPINE2',\n",
    "                 'ELN', 'LUM', 'MGP', 'CDH11', 'COL3A1', 'SFRP1',\n",
    "                 'IGFBP3', 'COL1A2', 'FMOD', 'FOXC2', 'EMP3', 'COL12A1',\n",
    "                 'LOX', 'ITGB5', 'LGALS1', 'FBLN5', 'PMEPA1', 'COL4A1',\n",
    "                 'ABI3BP', 'EFEMP2', 'TAGLN', 'TIMP1', 'ITGAV',\n",
    "                 'COL4A2', 'RHOB', 'THY1', 'CALD1', 'COL6A2',\n",
    "                 'TNFRSF12A', 'HTRA1', 'GJA1', 'TGM2', 'FSTL1',\n",
    "                 'COL5A2', 'CALU', 'SPARC', 'CXCL12', 'DST', 'TGFB1',\n",
    "                 'PDLIM4', 'ITGB1', 'PPIB', 'CD59', 'TGFBR3', 'TIMP3',\n",
    "                 'POSTN', 'IGFBP4', 'PMP22', 'IL6')\n",
    "\n",
    "# length(vsmc_dis3a_emt)\n",
    "# length(unique(vsmc_dis3a_emt))\n",
    "# length(ec_dis3a_emt)\n",
    "# length(unique(ec_dis3a_emt))\n",
    "# length(unique(c(vsmc_dis3a_emt, ec_dis3a_emt)))\n",
    "hm3agenes <- unique(c(vsmc_dis3a_emt, ec_dis3a_emt))\n",
    "pca3agenes <- hm3agenes\n",
    "hm3agenes_gid <- short2geneid[hm3agenes]\n",
    "\n",
    "\n",
    "\n",
    "## vsmc-pa2_TNFa signaling via NFkB\n",
    "vsmc_dis3b_tnf <- c('ACKR3', 'F3', 'KLF4', 'NR4A1', 'BTG2', 'TNFAIP2',\n",
    "                   'GFPT2', 'ZFP36', 'PLPP3', 'EGR1', 'MYC', 'IL18',\n",
    "                   'JUNB', 'FOSB', 'MAFF', 'IER2', 'SLC2A3', 'CEBPD',\n",
    "                   'JUN', 'CSF1', 'KLF2', 'CCNL1', 'NFIL3', 'GADD45B',\n",
    "                   'RHOB', 'FOS', 'TIPARP', 'NR4A2', 'BHLHE40', 'CDKN1A',\n",
    "                   'PPP1R15A', 'TRIP10', 'ATF3', 'ID2', 'SOCS3', 'KLF9',\n",
    "                   'KLF10', 'MCL1', 'NFE2L2', 'CEBPB', 'NFKBIA', 'PNRC1',\n",
    "                   'EIF1', 'PDLIM5', 'NINJ1', 'PMEPA1', 'INHBA', 'MSC',\n",
    "                   'TSC22D1', 'GADD45A', 'CCL4', 'PDE4B', 'SERPINE1')\n",
    "\n",
    "#3 ec_pa2_TNFa signaling via NFkB',\n",
    "ec_dis3b_tnf <- c('IL6', 'SPHK1', 'ATF3', 'ZFP36', 'ICAM1', 'IRF1', 'MAP3K8',\n",
    "                 'TAP1', 'NFKBIA', 'CDKN1A', 'EGR1', 'SLC2A3', 'SOCS3',\n",
    "                 'JUNB', 'KLF9', 'KLF10', 'KLF4', 'ETS2', 'IER2', 'FOSB',\n",
    "                 'FOS', 'CEBPD', 'EIF1', 'JAG1', 'CXCL2', 'ABCA1', 'CEBPB',\n",
    "                 'RHOB', 'PTGS2', 'ACKR3', 'PDE4B', 'PMEPA1', 'BMP2', 'EDN1',\n",
    "                 'SERPINE1')\n",
    "\n",
    "# length(vsmc_dis3b_tnf)\n",
    "# length(unique(vsmc_dis3b_tnf))\n",
    "# length(ec_dis3b_tnf)\n",
    "# length(unique(ec_dis3b_tnf))\n",
    "# length(unique(c(vsmc_dis3b_tnf, ec_dis3b_tnf)))\n",
    "hm3bgenes <- unique(c(vsmc_dis3b_tnf, ec_dis3b_tnf))\n",
    "pca3bgenes <- hm3bgenes\n",
    "hm3bgenes_gid <- short2geneid[hm3bgenes]\n",
    "\n",
    "Vsmc.m.11.30 <- c('TMSB4X', 'FXYD5', 'MYH10', 'RAMP1', 'ANXA2',\n",
    "                  'TSC22D3', 'F2R', 'SFRP4', 'ECM1', 'ABHD14A',\n",
    "                  'JDP2', 'DDIT4', 'VAT1', 'ABLIM1', 'S100A10',\n",
    "                  'ZNF385D', 'FRZB', 'MAP1B', 'ZNF385B', 'GAP43',\n",
    "                  'PDE5A', 'PRSS35', 'CCDC68', 'SH3BGRL3', 'UXT',\n",
    "                  'CDKN2C', 'LMO7', 'ENPP2', 'NDNF', 'MCUB', 'HTR2B',\n",
    "                  'MBNL1-AS1', 'TBC1D12', 'PTN', 'IL17D', 'SFT2D1',\n",
    "                  'IGSF10', 'BHLHE41', 'NUCKS1', 'HACD3', 'IL18',\n",
    "                  'TPPP3', 'EMP3', 'CLIC2', 'ATF5', 'MSC-AS1', 'FBLN2',\n",
    "                  'LTBP4', 'F10', 'FSTL1', 'FBN1', 'TNXB', 'PCOLCE2',\n",
    "                  'PLAT', 'PLPP3', 'SLIT3', 'CD248', 'AKAP12', 'PLBD1',\n",
    "                  'SEMA3C', 'MFAP5', 'C17orf58', 'METRNL', 'UGDH',\n",
    "                  'HSD11B1', 'TGFBR3', 'TSKU', 'FLRT2', 'SEMA3B',\n",
    "                  'PI16', 'RAB32', 'DCLK1', 'CD55', 'LINC01133',\n",
    "                  'FGFR1', 'CSF1', 'SLC16A7', 'NT5E', 'ADAMTSL4',\n",
    "                  'HTRA3', 'FAM177A1', 'C1QTNF3', 'PPP2R2A', 'GPC1',\n",
    "                  'EBF2', 'AMOTL2', 'NTM', 'CMTM3', 'CADM3')\n",
    "\n",
    "Ec.m.35 <- c('FEZ1', 'OLFM1', 'ARHGAP18', 'COL4A1', 'MEDAG', 'COL4A2',\n",
    "             'PDGFD', 'IGFBP7', 'RGS3', 'PGF', 'ITGA6', 'MGLL', 'ACKR3',\n",
    "             'ANGPT2', 'PLXNA4', 'EMCN', 'TIMP3', 'GSN', 'FILIP1', 'LAMB1',\n",
    "             'ELK3', 'ARPC2', 'NES', 'MXD4', 'PLVAP', 'ESM1', 'CITED4',\n",
    "             'TMED3', 'EIF4EBP1', 'RFLNB')\n",
    "hm3cgenes <- unique(c(Vsmc.m.11.30, Ec.m.35))\n",
    "pca3cgenes <- hm3cgenes\n",
    "hm3cgenes_gid <- short2geneid[hm3cgenes]\n",
    "\n"
   ]
  },
  {
   "cell_type": "code",
   "execution_count": 57,
   "metadata": {},
   "outputs": [
    {
     "data": {
      "text/html": [
       "103"
      ],
      "text/latex": [
       "103"
      ],
      "text/markdown": [
       "103"
      ],
      "text/plain": [
       "[1] 103"
      ]
     },
     "metadata": {},
     "output_type": "display_data"
    },
    {
     "data": {
      "text/html": [
       "103"
      ],
      "text/latex": [
       "103"
      ],
      "text/markdown": [
       "103"
      ],
      "text/plain": [
       "[1] 103"
      ]
     },
     "metadata": {},
     "output_type": "display_data"
    },
    {
     "data": {
      "text/html": [
       "66"
      ],
      "text/latex": [
       "66"
      ],
      "text/markdown": [
       "66"
      ],
      "text/plain": [
       "[1] 66"
      ]
     },
     "metadata": {},
     "output_type": "display_data"
    },
    {
     "data": {
      "text/html": [
       "66"
      ],
      "text/latex": [
       "66"
      ],
      "text/markdown": [
       "66"
      ],
      "text/plain": [
       "[1] 66"
      ]
     },
     "metadata": {},
     "output_type": "display_data"
    }
   ],
   "source": [
    "length(hm3agenes)\n",
    "length(hm3agenes_gid)\n",
    "\n",
    "length(hm3bgenes)\n",
    "length(hm3bgenes_gid)"
   ]
  },
  {
   "cell_type": "code",
   "execution_count": 47,
   "metadata": {},
   "outputs": [],
   "source": [
    "hm <- c('ABCA1', 'AC129492.1', 'ACKR3', 'AREG', 'ATF3', 'ATP2B1', 'B4GALT1', 'B4GALT5', 'BCL2A1',\n",
    "  'BCL3', 'BCL6', 'BHLHE40', 'BIRC2', 'BIRC3', 'BMP2', 'BTG1', 'BTG2', 'BTG3', 'CCL2', 'CCL20',\n",
    "  'CCL4', 'CCL5', 'CCN1', 'CCND1', 'CCNL1', 'CCRL2', 'CD44', 'CD69', 'CD80', 'CD83', 'CDKN1A',\n",
    "  'CEBPB', 'CEBPD', 'CFLAR', 'CLCF1', 'CSF1', 'CSF2', 'CXCL1', 'CXCL10', 'CXCL11', 'CXCL2',\n",
    "  'CXCL3', 'CXCL6', 'DDX58', 'DENND5A', 'DNAJB4', 'DRAM1', 'DUSP1', 'DUSP2', 'DUSP4', 'DUSP5',\n",
    "  'EDN1', 'EFNA1', 'EGR1', 'EGR2', 'EGR3', 'EHD1', 'EIF1', 'ETS2', 'F2RL1', 'F3', 'FJX1', 'FOS',\n",
    "  'FOSB', 'FOSL1', 'FOSL2', 'FUT4', 'G0S2', 'GADD45A', 'GADD45B', 'GCH1', 'GEM', 'GFPT2',\n",
    "  'GPR183', 'HBEGF', 'HES1', 'ICAM1', 'ICOSLG', 'ID2', 'IER2', 'IER3', 'IER5', 'IFIH1', 'IFIT2',\n",
    "  'IFNGR2', 'IL12B', 'IL15RA', 'IL18', 'IL1A', 'IL1B', 'IL23A', 'IL6', 'IL6ST', 'IL7R', 'INHBA',\n",
    "  'IRF1', 'IRS2', 'JAG1', 'JUN', 'JUNB', 'KDM6B', 'KLF10', 'KLF2', 'KLF4', 'KLF6', 'KLF9',\n",
    "  'KYNU', 'LAMB3', 'LDLR', 'LIF', 'LITAF', 'MAFF', 'MAP2K3', 'MAP3K8', 'MARCKS', 'MCL1', 'MSC',\n",
    "  'MXD1', 'MYC', 'NAMPT', 'NFAT5', 'NFE2L2', 'NFIL3', 'NFKB1', 'NFKB2', 'NFKBIA', 'NFKBIE',\n",
    "  'NINJ1', 'NR4A1', 'NR4A2', 'NR4A3', 'OLR1', 'PANX1', 'PDE4B', 'PDLIM5', 'PFKFB3', 'PHLDA1',\n",
    "  'PHLDA2', 'PLAU', 'PLAUR', 'PLEK', 'PLK2', 'PLPP3', 'PMEPA1', 'PNRC1', 'PPP1R15A', 'PTGER4',\n",
    "  'PTGS2', 'PTPRE', 'PTX3', 'RCAN1', 'REL', 'RELA', 'RELB', 'RHOB', 'RIPK2', 'RNF19B', 'SAT1',\n",
    "  'SDC4', 'SERPINB2', 'SERPINB8', 'SERPINE1', 'SGK1', 'SIK1', 'SLC16A6', 'SLC2A3', 'SLC2A6',\n",
    "  'SMAD3', 'SNN', 'SOCS3', 'SOD2', 'SPHK1', 'SPSB1', 'SQSTM1', 'STAT5A', 'TANK', 'TAP1', 'TGIF1',\n",
    "  'TIPARP', 'TLR2', 'TNC', 'TNF', 'TNFAIP2', 'TNFAIP3', 'TNFAIP6', 'TNFAIP8', 'TNFRSF9', 'TNFSF9',\n",
    "  'TNIP1', 'TNIP2', 'TRAF1', 'TRIB1', 'TRIP10', 'TSC22D1', 'TUBB2A', 'VEGFA', 'YRDC', 'ZBTB10',\n",
    "  'ZC3H12A', 'ZFP36')"
   ]
  },
  {
   "cell_type": "code",
   "execution_count": 79,
   "metadata": {},
   "outputs": [
    {
     "data": {
      "text/html": [
       "200"
      ],
      "text/latex": [
       "200"
      ],
      "text/markdown": [
       "200"
      ],
      "text/plain": [
       "[1] 200"
      ]
     },
     "metadata": {},
     "output_type": "display_data"
    },
    {
     "data": {
      "text/html": [
       "53"
      ],
      "text/latex": [
       "53"
      ],
      "text/markdown": [
       "53"
      ],
      "text/plain": [
       "[1] 53"
      ]
     },
     "metadata": {},
     "output_type": "display_data"
    },
    {
     "data": {
      "text/html": [
       "53"
      ],
      "text/latex": [
       "53"
      ],
      "text/markdown": [
       "53"
      ],
      "text/plain": [
       "[1] 53"
      ]
     },
     "metadata": {},
     "output_type": "display_data"
    },
    {
     "data": {
      "text/html": [
       "35"
      ],
      "text/latex": [
       "35"
      ],
      "text/markdown": [
       "35"
      ],
      "text/plain": [
       "[1] 35"
      ]
     },
     "metadata": {},
     "output_type": "display_data"
    },
    {
     "data": {
      "text/html": [],
      "text/latex": [],
      "text/markdown": [],
      "text/plain": [
       "character(0)"
      ]
     },
     "metadata": {},
     "output_type": "display_data"
    },
    {
     "data": {
      "text/html": [],
      "text/latex": [],
      "text/markdown": [],
      "text/plain": [
       "character(0)"
      ]
     },
     "metadata": {},
     "output_type": "display_data"
    },
    {
     "data": {
      "text/html": [],
      "text/latex": [],
      "text/markdown": [],
      "text/plain": [
       "named character(0)"
      ]
     },
     "metadata": {},
     "output_type": "display_data"
    },
    {
     "data": {
      "text/html": [
       "31"
      ],
      "text/latex": [
       "31"
      ],
      "text/markdown": [
       "31"
      ],
      "text/plain": [
       "[1] 31"
      ]
     },
     "metadata": {},
     "output_type": "display_data"
    },
    {
     "data": {
      "text/html": [
       "66"
      ],
      "text/latex": [
       "66"
      ],
      "text/markdown": [
       "66"
      ],
      "text/plain": [
       "[1] 66"
      ]
     },
     "metadata": {},
     "output_type": "display_data"
    },
    {
     "data": {
      "text/html": [
       "22"
      ],
      "text/latex": [
       "22"
      ],
      "text/markdown": [
       "22"
      ],
      "text/plain": [
       "[1] 22"
      ]
     },
     "metadata": {},
     "output_type": "display_data"
    },
    {
     "data": {
      "text/html": [
       "0.00192868958573817"
      ],
      "text/latex": [
       "0.00192868958573817"
      ],
      "text/markdown": [
       "0.00192868958573817"
      ],
      "text/plain": [
       "[1] 0.00192869"
      ]
     },
     "metadata": {},
     "output_type": "display_data"
    },
    {
     "data": {
      "text/html": [
       "0.0964344792869086"
      ],
      "text/latex": [
       "0.0964344792869086"
      ],
      "text/markdown": [
       "0.0964344792869086"
      ],
      "text/plain": [
       "[1] 0.09643448"
      ]
     },
     "metadata": {},
     "output_type": "display_data"
    },
    {
     "data": {
      "text/html": [
       "1.72821647467578e-06"
      ],
      "text/latex": [
       "1.72821647467578e-06"
      ],
      "text/markdown": [
       "1.72821647467578e-06"
      ],
      "text/plain": [
       "[1] 1.728216e-06"
      ]
     },
     "metadata": {},
     "output_type": "display_data"
    }
   ],
   "source": [
    "length(hm)\n",
    "sum(hm %in% vsmc_dis3b_tnf)\n",
    "length(vsmc_dis3b_tnf)\n",
    "sum(hm %in% ec_dis3b_tnf)\n",
    "\n",
    "vsmc_dis3b_tnf[which(!(vsmc_dis3b_tnf %in% hm))]\n",
    "ec_dis3b_tnf[which(!(ec_dis3b_tnf %in% hm))]\n",
    "\n",
    "short2geneid[vsmc_dis3b_tnf[which(!(vsmc_dis3b_tnf %in% hm))]]\n",
    "\n",
    "tot <- union(vsmc_dis3b_tnf, ec_dis3b_tnf)\n",
    "length(setdiff(vsmc_dis3b_tnf, ec_dis3b_tnf))\n",
    "length(union(ec_dis3b_tnf, vsmc_dis3b_tnf))\n",
    "length(intersect(vsmc_dis3b_tnf, ec_dis3b_tnf))\n",
    "x <- rbind(c(200-66, 32), c(13, 21))\n",
    "qval <- fisher.test(x)$p.value * 31 * 36 # Bonferroni Correction for All Module Permutations\n",
    "qval\n",
    "qval * 50 ## 50 hallmarks\n",
    "fisher.test(x)$p.value"
   ]
  },
  {
   "cell_type": "code",
   "execution_count": 78,
   "metadata": {},
   "outputs": [
    {
     "data": {
      "text/html": [
       "1116"
      ],
      "text/latex": [
       "1116"
      ],
      "text/markdown": [
       "1116"
      ],
      "text/plain": [
       "[1] 1116"
      ]
     },
     "metadata": {},
     "output_type": "display_data"
    }
   ],
   "source": [
    "31*36"
   ]
  },
  {
   "cell_type": "code",
   "execution_count": null,
   "metadata": {},
   "outputs": [],
   "source": []
  },
  {
   "cell_type": "markdown",
   "metadata": {},
   "source": [
    "## Baseline EMT Hallmarks Heatmap"
   ]
  },
  {
   "cell_type": "code",
   "execution_count": 16,
   "metadata": {},
   "outputs": [
    {
     "data": {
      "text/plain": [
       "\n",
       "  blue   cyan orange    red \n",
       "   449    449    449    449 "
      ]
     },
     "metadata": {},
     "output_type": "display_data"
    }
   ],
   "source": [
    "## Get the Expression Set vsmc and ec, with just the EMT hallmark genes\n",
    "ec_vsmc_bool <- (colData(down_stdycds)$assigned_cell_type == celltypes6[2]) | \n",
    "                (colData(down_stdycds)$assigned_cell_type == celltypes6[3])\n",
    "hm3a_cds <- down_stdycds[fData(down_stdycds)@rownames %in% short2geneid[pca3agenes], ec_vsmc_bool]\n",
    "colData(hm3a_cds)$condtype <- paste(c('vsmc', 'ec')[(colData(hm3a_cds)$assigned_cell_type == celltypes6[2]) + 1],\n",
    "                                  c('hea', 'dis')[(colData(hm3a_cds)$condition == 'diseased') + 1],\n",
    "                                                   sep = '-')\n",
    "colData(hm3a_cds)$sidecolor[colData(hm3a_cds)$condtype == 'ec-dis'] <- 'red'\n",
    "colData(hm3a_cds)$sidecolor[colData(hm3a_cds)$condtype == 'ec-hea'] <- 'blue'\n",
    "colData(hm3a_cds)$sidecolor[colData(hm3a_cds)$condtype == 'vsmc-dis'] <- 'orange'\n",
    "colData(hm3a_cds)$sidecolor[colData(hm3a_cds)$condtype == 'vsmc-hea'] <- 'cyan'\n",
    "cttable <- table(colData(hm3a_cds)$sidecolor)\n",
    "smallset <- min(cttable)\n",
    "cells2keep <- NULL\n",
    "set.seed(101)\n",
    "for (cellset_col in names(cttable)) {\n",
    "    cellsetrow <-  which(colData(hm3a_cds)$sidecolor == cellset_col)\n",
    "    cells2keep <- c(cells2keep, sample(cellsetrow, smallset, replace = FALSE))\n",
    "}\n",
    "hm3a_cds <- hm3a_cds[, cells2keep] \n",
    "\n",
    "table(colData(hm3a_cds)$sidecolor)\n",
    "expdat3a <- as.matrix(exprs(hm3a_cds))\n",
    "rownames(expdat3a) <- geneid2short[rownames(expdat3a)] # hm3agenes"
   ]
  },
  {
   "cell_type": "code",
   "execution_count": 17,
   "metadata": {},
   "outputs": [
    {
     "data": {
      "text/html": [
       "<strong>png:</strong> 2"
      ],
      "text/latex": [
       "\\textbf{png:} 2"
      ],
      "text/markdown": [
       "**png:** 2"
      ],
      "text/plain": [
       "png \n",
       "  2 "
      ]
     },
     "metadata": {},
     "output_type": "display_data"
    },
    {
     "data": {
      "text/html": [
       "<strong>png:</strong> 2"
      ],
      "text/latex": [
       "\\textbf{png:} 2"
      ],
      "text/markdown": [
       "**png:** 2"
      ],
      "text/plain": [
       "png \n",
       "  2 "
      ]
     },
     "metadata": {},
     "output_type": "display_data"
    },
    {
     "data": {
      "text/html": [
       "<strong>png:</strong> 2"
      ],
      "text/latex": [
       "\\textbf{png:} 2"
      ],
      "text/markdown": [
       "**png:** 2"
      ],
      "text/plain": [
       "png \n",
       "  2 "
      ]
     },
     "metadata": {},
     "output_type": "display_data"
    }
   ],
   "source": [
    "## This is a new round of heatmaps, with new genes and down sampled cell tpyes\n",
    "pf1 <- 'outputdat/Hallmark.Heatmap.comp.bin.comp.bin.down.emt3genes.OnOff2Plus.preclustered.Rev5.pdf'\n",
    "pf2 <- 'outputdat/Hallmark.Heatmap.comp.bin.comp.bin.down.emt3genes.OnOff2Plus.fullyclustered.Rev5.pdf'\n",
    "pf3 <- 'outputdat/Hallmark.Dot.down.EMT3genes.Rev5.pdf'\n",
    "\n",
    "vsmc_dw3a <- which(colData(hm3a_cds)$condtype == 'vsmc-dis')\n",
    "vsmc_hw3a <- which(colData(hm3a_cds)$condtype == 'vsmc-hea')\n",
    "ec_dw3a <- which(colData(hm3a_cds)$condtype == 'ec-dis')\n",
    "ec_hw3a <- which(colData(hm3a_cds)$condtype == 'ec-hea')\n",
    "dims3a <- dim(expdat3a)\n",
    "expdatbo3a <- (expdat3a > 1) * 1\n",
    "distmeth <- c('binary', 'binary')\n",
    "clustmeth = c('complete', 'complete')\n",
    "\n",
    "my_palettebol <- colorRampPalette(c('#660066', 'yellow'))(n = 2)\n",
    "legendlstbol <- list(legend = c('EC DIS', 'EC HEA', 'VSMC DIS', 'VSMC HEA'),\n",
    "              col = c('red', 'blue', 'orange', 'cyan'), title = 'Cell Types', cex = .7)\n",
    "\n",
    "vsmc_dcim3a <- cim(expdatbo3a[, vsmc_dw3a], dist.method = distmeth, clust.method = clustmeth,\n",
    "    scale = \"FALSE\", center = \"FALSE\", col.names = FALSE, legend = legendlstbol,\n",
    "    color = my_palettebol, cluster = 'col', save = 'pdf', name.save = 'temp.ready.to.delete',\n",
    "    col.sideColors = colData(hm3a_cds)$sidecolor[vsmc_dw3a], symkey = FALSE)\n",
    "vsmc_hcim3a <- cim(expdatbo3a[, vsmc_hw3a], dist.method = distmeth, clust.method = clustmeth,\n",
    "    scale = \"FALSE\", center = \"FALSE\", col.names = FALSE, legend = legendlstbol,\n",
    "    color = my_palettebol, cluster = 'col', save = 'pdf', name.save = 'temp.ready.to.delete',\n",
    "    col.sideColors = colData(hm3a_cds)$sidecolor[vsmc_hw3a], symkey = FALSE)\n",
    "ec_dcim3a <- cim(expdatbo3a[, ec_dw3a], dist.method = distmeth, clust.method = clustmeth,\n",
    "    scale = \"FALSE\", center = \"FALSE\", col.names = FALSE, legend = legendlstbol,\n",
    "    color = my_palettebol, cluster = 'col', save = 'pdf', name.save = 'temp.ready.to.delete',\n",
    "    col.sideColors = colData(hm3a_cds)$sidecolor[ec_dw3a], symkey = FALSE)\n",
    "ec_hcim3a <- cim(expdatbo3a[, ec_hw3a], dist.method = distmeth, clust.method = clustmeth,\n",
    "    scale = \"FALSE\", center = \"FALSE\", col.names = FALSE, legend = legendlstbol,\n",
    "    color = my_palettebol, cluster = 'col', save = 'pdf', name.save = 'temp.ready.to.delete',\n",
    "    col.sideColors = colData(hm3a_cds)$sidecolor[ec_hw3a], symkey = FALSE)\n",
    "\n",
    "## The is the combined cell types\n",
    "parthclust <- c(colnames(vsmc_dcim3a$mat), colnames(vsmc_hcim3a$mat),\n",
    "                colnames(ec_dcim3a$mat), colnames(ec_hcim3a$mat))\n",
    "colornames <-colData(hm3a_cds)$sidecolor\n",
    "names(colornames) <- colnames(expdatbo3a)\n",
    "cim(expdatbo3a[, parthclust], dist.method = distmeth, clust.method = clustmeth,\n",
    "    scale = \"FALSE\", center = \"FALSE\", col.names = FALSE, legend = legendlstbol,\n",
    "    color = my_palettebol, cluster = 'none' ,save = 'pdf', name.save = 'temp.ready.to.delete',\n",
    "    col.sideColors = colornames[parthclust], symkey = FALSE)\n",
    "\n",
    "## Repeated from above, this time to files\n",
    "pdf(pf1, width = 8, height = 12)\n",
    "cim(expdatbo3a[, parthclust], dist.method = distmeth, clust.method = clustmeth,\n",
    "    scale = \"FALSE\", center = \"FALSE\", col.names = FALSE, legend = legendlstbol,\n",
    "    color = my_palettebol, cluster = 'row',\n",
    "    col.sideColors = colornames[parthclust], symkey = FALSE)\n",
    "dev.off()\n",
    "\n",
    "cim_data <- cim(expdatbo3a[, parthclust], dist.method = distmeth, clust.method = clustmeth,\n",
    "    scale = \"FALSE\", center = \"FALSE\", col.names = FALSE, legend = legendlstbol,\n",
    "    color = my_palettebol, cluster = 'row', save = 'pdf', name.save = 'temp.ready.to.delete',\n",
    "    col.sideColors = colornames[parthclust], symkey = FALSE)\n",
    "\n",
    "pdf(pf2, width = 8, height = 12)\n",
    "cim_data2 <- cim(expdatbo3a[, parthclust], dist.method = distmeth, clust.method = clustmeth,\n",
    "    scale = \"FALSE\", center = \"FALSE\", col.names = FALSE, legend = legendlstbol,\n",
    "    color = my_palettebol, cluster = 'both', \n",
    "    col.sideColors = colornames[parthclust], symkey = FALSE)\n",
    "dev.off()\n",
    "\n",
    "specialglist <- short2geneid[cim_data$row.names]\n",
    "pdf(pf3, width = 3.25, height = 16)\n",
    "plot_genes_by_group2(hm3a_cds,\n",
    "                    axis_order = \"group_marker\",\n",
    "                    specialglist,\n",
    "                    group_cells_by = \"condtype\",\n",
    "                    ordering_type = \"as_ordered\", # \"cluster_row_col\" \"as_ordered\"\n",
    "                    max.size = 3,\n",
    "                    norm_method = 'size_only',\n",
    "                    scale_max = 3, scale_min = -3)\n",
    "dev.off()"
   ]
  },
  {
   "cell_type": "code",
   "execution_count": 18,
   "metadata": {},
   "outputs": [],
   "source": [
    "## Compute subgroup Diff Exp\n",
    "ncells <- length(colnames(cim_data2$mat))\n",
    "totlen <- 6.746\n",
    "cut0 <- 0\n",
    "cut1 <- as.integer(ncells * 2.595/totlen)\n",
    "cut2 <- as.integer(ncells * 4.027/totlen)\n",
    "cut3 <- as.integer(ncells * 5.654/totlen)\n",
    "cut4 <- as.integer(ncells * totlen/totlen)\n",
    "# c(cut0, cut1, cut2, cut3, cut4)\n",
    "grp1 <- colnames(cim_data2$mat)[cut1:cut2]\n",
    "grp2 <- colnames(cim_data2$mat)[cut3:cut4]\n",
    "hm3a_cds_grp1_2 <- hm3a_cds[, c(grp1, grp2)]\n",
    "# dim(hm3a_cds_grp1_2)\n",
    "\n",
    "## Get a boolean selector for cells based on group\n",
    "grp1bool <- hm3a_cds_grp1_2@colData@rownames %in% grp1\n",
    "grp2bool <- hm3a_cds_grp1_2@colData@rownames %in% grp2\n",
    "\n",
    "## Tag the two groups of cells\n",
    "hm3a_cds_grp1_2@colData$grp[grp1bool] <- 'group1'\n",
    "hm3a_cds_grp1_2@colData$grp[grp2bool] <- 'group2'\n",
    "# table(colData(hm3a_cds_grp1_2)$grp)"
   ]
  },
  {
   "cell_type": "code",
   "execution_count": 19,
   "metadata": {},
   "outputs": [],
   "source": [
    "## Compute the group differential expression\n",
    "gene_emt_fits_grp <- fit_models(hm3a_cds_grp1_2, cores = 4,\n",
    "                                model_formula_str = \"~grp\")\n",
    "emt_coef <- coefficient_table(gene_emt_fits_grp)\n",
    "            \n",
    "            # Extract the relavent data from the DE tables\n",
    "            emt_terms <- emt_coef %>% filter(term == \"grpgroup2\")\n",
    "            emt_termsb <- emt_terms %>% filter(status == 'OK')\n",
    "            emt_termsc <- as.data.frame(emt_termsb[,c(1, 4:12)])\n",
    "            rownames(emt_termsc) <- emt_termsc[,1]\n",
    "            emt_termsd <- emt_termsc[rownames(cim_data2$mat)[dim(cim_data2$mat)[1]:1], ]\n",
    "            write.table(emt_termsd,\n",
    "                        'outputdat/Diff.EMT.HallmarkGroups.RemoveFail.NoModels.rev1.txt',\n",
    "                        col.names = TRUE, row.names = FALSE)"
   ]
  },
  {
   "cell_type": "code",
   "execution_count": 20,
   "metadata": {},
   "outputs": [],
   "source": [
    "# emt_termsd[c('PCOLCE', 'LUM', 'HTRA1', 'FLNA', 'MYLK'),]\n",
    "# hist(emt_termsd$normalized_effect, breaks = 5)\n",
    "# hist(log10(emt_termsd$q_value), breaks = 5)"
   ]
  },
  {
   "cell_type": "code",
   "execution_count": 21,
   "metadata": {},
   "outputs": [
    {
     "data": {
      "text/html": [
       "<strong>png:</strong> 2"
      ],
      "text/latex": [
       "\\textbf{png:} 2"
      ],
      "text/markdown": [
       "**png:** 2"
      ],
      "text/plain": [
       "png \n",
       "  2 "
      ]
     },
     "metadata": {},
     "output_type": "display_data"
    }
   ],
   "source": [
    "## Perform volcano plot for above Hallmark Subgroup DE Genes\n",
    "g11 <- EnhancedVolcano(emt_termsd,  lab = emt_termsd$gene_short_name,\n",
    "        x = 'normalized_effect', y = 'q_value',\n",
    "        xlim = c(-7, 7), pCutoff = 5E-2, FCcutoff = 0.5,\n",
    "        xlab = \"Normalized Effect\", ylab = '-Log10(q_value)',\n",
    "        legend = c(\"NS\", \"Norm. Effect\", \"q\", \"q & Norm. Effect\"),\n",
    "        title = paste('Volcano Plot for VSMC EMT Subgroups with',\n",
    "                      '\\nCustomized Cutoffs', sep = ''))\n",
    "\n",
    "\n",
    "plotfp <- 'outputdat/Volcano.Plot.VSMC.EMT.Hallmark.Subgroups.Customized.Cutoffs.Rev2.pdf'     \n",
    "pdf(plotfp, width = 10, height = 10)\n",
    "    print(g11)\n",
    "dev.off()"
   ]
  },
  {
   "cell_type": "code",
   "execution_count": 22,
   "metadata": {},
   "outputs": [],
   "source": [
    "## Get the Expression Set vsmc and ec, with just all the genes\n",
    "ec_vsmc_bool <- (colData(down_stdycds)$assigned_cell_type == celltypes6[2]) | \n",
    "                (colData(down_stdycds)$assigned_cell_type == celltypes6[3])\n",
    "hm3c_cds <- down_stdycds[, ec_vsmc_bool]\n",
    "colData(hm3c_cds)$condtype <- paste(c('vsmc', 'ec')[(colData(hm3c_cds)$assigned_cell_type == celltypes6[2]) + 1],\n",
    "                                  c('hea', 'dis')[(colData(hm3c_cds)$condition == 'diseased') + 1],\n",
    "                                                   sep = '-')\n",
    "colData(hm3c_cds)$sidecolor[colData(hm3c_cds)$condtype == 'ec-dis'] <- 'red'\n",
    "colData(hm3c_cds)$sidecolor[colData(hm3c_cds)$condtype == 'ec-hea'] <- 'blue'\n",
    "colData(hm3c_cds)$sidecolor[colData(hm3c_cds)$condtype == 'vsmc-dis'] <- 'orange'\n",
    "colData(hm3c_cds)$sidecolor[colData(hm3c_cds)$condtype == 'vsmc-hea'] <- 'cyan'\n",
    "cttable <- table(colData(hm3c_cds)$sidecolor)\n",
    "smallset <- min(cttable)\n",
    "cells2keep <- NULL\n",
    "set.seed(101)\n",
    "for (cellset_col in names(cttable)) {\n",
    "    cellsetrow <-  which(colData(hm3c_cds)$sidecolor == cellset_col)\n",
    "    cells2keep <- c(cells2keep, sample(cellsetrow, smallset, replace = FALSE))\n",
    "}\n",
    "hm3c_cds <- hm3c_cds[, cells2keep] "
   ]
  },
  {
   "cell_type": "code",
   "execution_count": 23,
   "metadata": {},
   "outputs": [],
   "source": [
    "## Compute subgroup Diff Exp\n",
    "ncells <- length(colnames(cim_data2$mat))\n",
    "totlen <- 6.746\n",
    "cut0 <- 0\n",
    "cut1 <- as.integer(ncells * 2.595/totlen)\n",
    "cut2 <- as.integer(ncells * 4.027/totlen)\n",
    "cut3 <- as.integer(ncells * 5.654/totlen)\n",
    "cut4 <- as.integer(ncells * totlen/totlen)\n",
    "# c(cut0, cut1, cut2, cut3, cut4)\n",
    "grp1 <- colnames(cim_data2$mat)[cut1:cut2]\n",
    "grp2 <- colnames(cim_data2$mat)[cut3:cut4]\n",
    "hm3c_cds_grp1_2 <- hm3c_cds[, c(grp1, grp2)]\n",
    "# dim(hm3a_cds_grp1_2)\n",
    "\n",
    "## Get a boolean selector for cells based on group\n",
    "grp1bool <- hm3c_cds_grp1_2@colData@rownames %in% grp1\n",
    "grp2bool <- hm3c_cds_grp1_2@colData@rownames %in% grp2\n",
    "\n",
    "## Tag the two groups of cells\n",
    "hm3c_cds_grp1_2@colData$grp[grp1bool] <- 'group1'\n",
    "hm3c_cds_grp1_2@colData$grp[grp2bool] <- 'group2'\n",
    "# table(colData(hm3a_cds_grp1_2)$grp)"
   ]
  },
  {
   "cell_type": "code",
   "execution_count": 24,
   "metadata": {},
   "outputs": [],
   "source": [
    "## Compute the group differential expression, this time with all the genes\n",
    "geneall_emt_fits_grp <- fit_models(hm3c_cds_grp1_2, cores = 4,\n",
    "                                model_formula_str = \"~grp\")\n",
    "emtall_coef <- coefficient_table(geneall_emt_fits_grp)\n",
    "            \n",
    "            # Extract the relavent data from the DE tables\n",
    "            emtall_terms <- emtall_coef %>% filter(term == \"grpgroup2\")\n",
    "            emtall_termsb <- emtall_terms %>% filter(status == 'OK')\n",
    "            emtall_termsc <- as.data.frame(emtall_termsb[,c(1, 4:12)], stringsAsFactors = FALSE)\n",
    "            # emtall_termsc <- emtall_termsc[!duplicated(emtall_termsc[,1]),] \n",
    "            # rownames(emtall_termsc) <- emtall_termsc[,1]\n",
    "            write.table(emtall_termsc,\n",
    "                        'outputdat/Diff.EMT.Allgenes.HallmarkGroups.RemoveFail.NoModels.rev1.txt',\n",
    "                        col.names = TRUE, row.names = FALSE)"
   ]
  },
  {
   "cell_type": "code",
   "execution_count": null,
   "metadata": {},
   "outputs": [],
   "source": []
  },
  {
   "cell_type": "code",
   "execution_count": null,
   "metadata": {},
   "outputs": [],
   "source": []
  },
  {
   "cell_type": "code",
   "execution_count": null,
   "metadata": {},
   "outputs": [],
   "source": []
  },
  {
   "cell_type": "code",
   "execution_count": null,
   "metadata": {},
   "outputs": [],
   "source": []
  },
  {
   "cell_type": "code",
   "execution_count": null,
   "metadata": {},
   "outputs": [],
   "source": []
  },
  {
   "cell_type": "code",
   "execution_count": null,
   "metadata": {},
   "outputs": [],
   "source": []
  },
  {
   "cell_type": "code",
   "execution_count": null,
   "metadata": {},
   "outputs": [],
   "source": []
  },
  {
   "cell_type": "markdown",
   "metadata": {},
   "source": [
    "## Baseline TNF Hallmarks Heatmap"
   ]
  },
  {
   "cell_type": "code",
   "execution_count": 68,
   "metadata": {},
   "outputs": [
    {
     "data": {
      "text/plain": [
       "\n",
       "  blue   cyan orange    red \n",
       "   449    449    449    449 "
      ]
     },
     "metadata": {},
     "output_type": "display_data"
    }
   ],
   "source": [
    "## Get the Expression Set vsmc and ec, with just the TNF hallmark Gene\n",
    "ec_vsmc_bool <- (colData(down_stdycds)$assigned_cell_type == celltypes6[2]) | \n",
    "                (colData(down_stdycds)$assigned_cell_type == celltypes6[3])\n",
    "hm3b_cds <- down_stdycds[fData(down_stdycds)@rownames %in% short2geneid[pca3bgenes], ec_vsmc_bool]\n",
    "colData(hm3b_cds)$condtype <- paste(c('vsmc', 'ec')[(colData(hm3b_cds)$assigned_cell_type == celltypes6[2]) + 1],\n",
    "                                  c('hea', 'dis')[(colData(hm3b_cds)$condition == 'diseased') + 1],\n",
    "                                                   sep = '-')\n",
    "colData(hm3b_cds)$sidecolor[colData(hm3b_cds)$condtype == 'ec-dis'] <- 'red'\n",
    "colData(hm3b_cds)$sidecolor[colData(hm3b_cds)$condtype == 'ec-hea'] <- 'blue'\n",
    "colData(hm3b_cds)$sidecolor[colData(hm3b_cds)$condtype == 'vsmc-dis'] <- 'orange'\n",
    "colData(hm3b_cds)$sidecolor[colData(hm3b_cds)$condtype == 'vsmc-hea'] <- 'cyan'\n",
    "cttable <- table(colData(hm3b_cds)$sidecolor)\n",
    "smallset <- min(cttable)\n",
    "cells2keep <- NULL\n",
    "set.seed(101)\n",
    "for (cellset_col in names(cttable)) {\n",
    "    cellsetrow <-  which(colData(hm3b_cds)$sidecolor == cellset_col)\n",
    "    cells2keep <- c(cells2keep, sample(cellsetrow, smallset, replace = FALSE))\n",
    "}\n",
    "hm3b_cds <- hm3b_cds[, cells2keep] \n",
    "\n",
    "table(colData(hm3b_cds)$sidecolor)\n",
    "expdat3b <- as.matrix(exprs(hm3b_cds))\n",
    "rownames(expdat3b) <- geneid2short[rownames(expdat3b)] # hm3agenes"
   ]
  },
  {
   "cell_type": "code",
   "execution_count": 69,
   "metadata": {},
   "outputs": [
    {
     "data": {
      "text/html": [
       "<strong>png:</strong> 2"
      ],
      "text/latex": [
       "\\textbf{png:} 2"
      ],
      "text/markdown": [
       "**png:** 2"
      ],
      "text/plain": [
       "png \n",
       "  2 "
      ]
     },
     "metadata": {},
     "output_type": "display_data"
    },
    {
     "data": {
      "text/html": [
       "<strong>png:</strong> 2"
      ],
      "text/latex": [
       "\\textbf{png:} 2"
      ],
      "text/markdown": [
       "**png:** 2"
      ],
      "text/plain": [
       "png \n",
       "  2 "
      ]
     },
     "metadata": {},
     "output_type": "display_data"
    },
    {
     "data": {
      "text/html": [
       "<strong>png:</strong> 2"
      ],
      "text/latex": [
       "\\textbf{png:} 2"
      ],
      "text/markdown": [
       "**png:** 2"
      ],
      "text/plain": [
       "png \n",
       "  2 "
      ]
     },
     "metadata": {},
     "output_type": "display_data"
    }
   ],
   "source": [
    "## This is a new round of heatmaps, with new genes and down sampled cell tpyes\n",
    "## Rev 5 of these files were missing genes (IL6 and IRF1)\n",
    "pf1 <- 'outputdat/Hallmark.Heatmap.comp.bin.comp.bin.down.tnf3genes.OnOff2Plus.preclustered.Rev6.pdf'\n",
    "pf2 <- 'outputdat/Hallmark.Heatmap.comp.bin.comp.bin.down.tnf3genes.OnOff2Plus.fullyclustered.Rev6.pdf'\n",
    "pf3 <- 'outputdat/Hallmark.Dot.down.TNF3genes.Rev6.pdf'\n",
    "\n",
    "vsmc_dw3b <- which(colData(hm3b_cds)$condtype == 'vsmc-dis')\n",
    "vsmc_hw3b <- which(colData(hm3b_cds)$condtype == 'vsmc-hea')\n",
    "ec_dw3b <- which(colData(hm3b_cds)$condtype == 'ec-dis')\n",
    "ec_hw3b <- which(colData(hm3b_cds)$condtype == 'ec-hea')\n",
    "dims3b <- dim(expdat3b)\n",
    "expdatbo3b <- (expdat3b > 1) * 1\n",
    "distmeth <- c('binary', 'binary')\n",
    "clustmeth = c('complete', 'complete')\n",
    "\n",
    "my_palettebol <- colorRampPalette(c('#660066', 'yellow'))(n = 2)\n",
    "legendlstbol <- list(legend = c('EC DIS', 'EC HEA', 'VSMC DIS', 'VSMC HEA'),\n",
    "              col = c('red', 'blue', 'orange', 'cyan'), title = 'Cell Types', cex = .7)\n",
    "\n",
    "vsmc_dcim3b <- cim(expdatbo3b[, vsmc_dw3b], dist.method = distmeth, clust.method = clustmeth,\n",
    "    scale = \"FALSE\", center = \"FALSE\", col.names = FALSE, legend = legendlstbol,\n",
    "    color = my_palettebol, cluster = 'col', save = 'pdf', name.save = 'temp.ready.to.delete',\n",
    "    col.sideColors = colData(hm3b_cds)$sidecolor[vsmc_dw3b],\n",
    "    symkey = FALSE)\n",
    "vsmc_hcim3b <- cim(expdatbo3b[, vsmc_hw3b], dist.method = distmeth, clust.method = clustmeth,\n",
    "    scale = \"FALSE\", center = \"FALSE\", col.names = FALSE, legend = legendlstbol,\n",
    "    color = my_palettebol, cluster = 'col', save = 'pdf', name.save = 'temp.ready.to.delete',\n",
    "    col.sideColors = colData(hm3b_cds)$sidecolor[vsmc_hw3b],\n",
    "    symkey = FALSE)\n",
    "ec_dcim3b <- cim(expdatbo3b[, ec_dw3b], dist.method = distmeth, clust.method = clustmeth,\n",
    "    scale = \"FALSE\", center = \"FALSE\", col.names = FALSE, legend = legendlstbol,\n",
    "    color = my_palettebol, cluster = 'col', save = 'pdf', name.save = 'temp.ready.to.delete',\n",
    "    col.sideColors = colData(hm3b_cds)$sidecolor[ec_dw3b],\n",
    "    symkey = FALSE)\n",
    "ec_hcim3b <- cim(expdatbo3b[, ec_hw3b], dist.method = distmeth, clust.method = clustmeth,\n",
    "    scale = \"FALSE\", center = \"FALSE\", col.names = FALSE, legend = legendlstbol,\n",
    "    color = my_palettebol, cluster = 'col', save = 'pdf', name.save = 'temp.ready.to.delete',\n",
    "    col.sideColors = colData(hm3b_cds)$sidecolor[ec_hw3b],\n",
    "    symkey = FALSE)\n",
    "\n",
    "## The is the combined cell types\n",
    "parthclust <- c(colnames(vsmc_dcim3b$mat), colnames(vsmc_hcim3b$mat),\n",
    "                colnames(ec_dcim3b$mat), colnames(ec_hcim3b$mat))\n",
    "colornames <-colData(hm3b_cds)$sidecolor\n",
    "names(colornames) <- colnames(expdatbo3b)\n",
    "cim(expdatbo3b[, parthclust], dist.method = distmeth, clust.method = clustmeth,\n",
    "    scale = \"FALSE\", center = \"FALSE\", col.names = FALSE, legend = legendlstbol,\n",
    "    color = my_palettebol, cluster = 'none', save = 'pdf', name.save = 'temp.ready.to.delete',\n",
    "    col.sideColors = colornames[parthclust],\n",
    "    symkey = FALSE)\n",
    "\n",
    "# ## Repeated from above, this time to files\n",
    "pdf(pf1, width = 8, height = 12)\n",
    "cim(expdatbo3b[, parthclust], dist.method = distmeth, clust.method = clustmeth,\n",
    "    scale = \"FALSE\", center = \"FALSE\", col.names = FALSE, legend = legendlstbol,\n",
    "    color = my_palettebol, cluster = 'row',\n",
    "    col.sideColors = colornames[parthclust],\n",
    "    symkey = FALSE)\n",
    "dev.off()\n",
    "\n",
    "cim(expdatbo3b[, parthclust], dist.method = distmeth, clust.method = clustmeth,\n",
    "    scale = \"FALSE\", center = \"FALSE\", col.names = FALSE, legend = legendlstbol,\n",
    "    color = my_palettebol, cluster = 'row', save = 'pdf', name.save = 'temp.ready.to.delete',\n",
    "    col.sideColors = colornames[parthclust],\n",
    "    symkey = FALSE)\n",
    "\n",
    "pdf(pf2, width = 8, height = 12)\n",
    "cim_data <- cim(expdatbo3b[, parthclust], dist.method = distmeth, clust.method = clustmeth,\n",
    "    scale = \"FALSE\", center = \"FALSE\", col.names = FALSE, legend = legendlstbol,\n",
    "    color = my_palettebol, cluster = 'both',\n",
    "    col.sideColors = colornames[parthclust],\n",
    "    symkey = FALSE)\n",
    "dev.off()\n",
    "\n",
    "specialglist <- short2geneid[cim_data$row.names]\n",
    "pdf(pf3, width = 3.25, height = 12)\n",
    "plot_genes_by_group2(hm3b_cds,\n",
    "                    axis_order = \"group_marker\",\n",
    "                    specialglist,\n",
    "                    group_cells_by = \"condtype\",\n",
    "                    ordering_type = \"as_ordered\", # \"cluster_row_col\" \"as_ordered\"\n",
    "                    max.size = 3,\n",
    "                    norm_method = 'size_only',\n",
    "                    scale_max = 3, scale_min = -3)\n",
    "dev.off()"
   ]
  },
  {
   "cell_type": "markdown",
   "metadata": {},
   "source": [
    "## Special Plot Where Hallmark Genes Were Selected Based on Module Genes Overlap\n",
    "### These Plots Ultimately Were not Used"
   ]
  },
  {
   "cell_type": "code",
   "execution_count": 59,
   "metadata": {},
   "outputs": [
    {
     "data": {
      "text/plain": [
       "\n",
       "  blue   cyan orange    red \n",
       "   449    449    449    449 "
      ]
     },
     "metadata": {},
     "output_type": "display_data"
    }
   ],
   "source": [
    "## Get the Expression Set vsmc and ec, with just the TNF hallmark Gene\n",
    "ec_vsmc_bool <- (colData(down_stdycds)$assigned_cell_type == celltypes6[2]) | \n",
    "                (colData(down_stdycds)$assigned_cell_type == celltypes6[3])\n",
    "hm3c_cds <- down_stdycds[fData(down_stdycds)@rownames %in% short2geneid[pca3cgenes], ec_vsmc_bool]\n",
    "colData(hm3c_cds)$condtype <- paste(c('vsmc', 'ec')[(colData(hm3c_cds)$assigned_cell_type == celltypes6[2]) + 1],\n",
    "                                  c('hea', 'dis')[(colData(hm3c_cds)$condition == 'diseased') + 1],\n",
    "                                                   sep = '-')\n",
    "colData(hm3c_cds)$sidecolor[colData(hm3c_cds)$condtype == 'ec-dis'] <- 'red'\n",
    "colData(hm3c_cds)$sidecolor[colData(hm3c_cds)$condtype == 'ec-hea'] <- 'blue'\n",
    "colData(hm3c_cds)$sidecolor[colData(hm3c_cds)$condtype == 'vsmc-dis'] <- 'orange'\n",
    "colData(hm3c_cds)$sidecolor[colData(hm3c_cds)$condtype == 'vsmc-hea'] <- 'cyan'\n",
    "cttable <- table(colData(hm3c_cds)$sidecolor)\n",
    "smallset <- min(cttable)\n",
    "cells2keep <- NULL\n",
    "set.seed(101)\n",
    "for (cellset_col in names(cttable)) {\n",
    "    cellsetrow <-  which(colData(hm3c_cds)$sidecolor == cellset_col)\n",
    "    cells2keep <- c(cells2keep, sample(cellsetrow, smallset, replace = FALSE))\n",
    "}\n",
    "hm3c_cds <- hm3c_cds[, cells2keep] \n",
    "\n",
    "table(colData(hm3c_cds)$sidecolor)\n",
    "expdat3c <- as.matrix(exprs(hm3c_cds))\n",
    "rownames(expdat3c) <- geneid2short[rownames(expdat3c)]"
   ]
  },
  {
   "cell_type": "code",
   "execution_count": 61,
   "metadata": {},
   "outputs": [
    {
     "data": {
      "text/html": [
       "<strong>png:</strong> 2"
      ],
      "text/latex": [
       "\\textbf{png:} 2"
      ],
      "text/markdown": [
       "**png:** 2"
      ],
      "text/plain": [
       "png \n",
       "  2 "
      ]
     },
     "metadata": {},
     "output_type": "display_data"
    },
    {
     "data": {
      "text/html": [
       "<strong>png:</strong> 2"
      ],
      "text/latex": [
       "\\textbf{png:} 2"
      ],
      "text/markdown": [
       "**png:** 2"
      ],
      "text/plain": [
       "png \n",
       "  2 "
      ]
     },
     "metadata": {},
     "output_type": "display_data"
    },
    {
     "data": {
      "text/html": [
       "<strong>png:</strong> 2"
      ],
      "text/latex": [
       "\\textbf{png:} 2"
      ],
      "text/markdown": [
       "**png:** 2"
      ],
      "text/plain": [
       "png \n",
       "  2 "
      ]
     },
     "metadata": {},
     "output_type": "display_data"
    }
   ],
   "source": [
    "## This is a new round of heatmaps, with new genes and down sampled cell tpyes\n",
    "pf1 <- 'outputdat/Hallmark.Heatmap.comp.bin.comp.bin.down.Vsmc.m.11.30.Ec.m.35.genes.OnOff2Plus.preclustered.Rev5.pdf'\n",
    "pf2 <- 'outputdat/Hallmark.Heatmap.comp.bin.comp.bin.down.Vsmc.m.11.30.Ec.m.35.genes.OnOff2Plus.fullyclustered.Rev5.pdf'\n",
    "pf3 <- 'outputdat/Hallmark.Dot.down.Vsmc.m.11.30.Ec.m.35.genes.Rev5.pdf'\n",
    "\n",
    "vsmc_dw3c <- which(colData(hm3c_cds)$condtype == 'vsmc-dis')\n",
    "vsmc_hw3c <- which(colData(hm3c_cds)$condtype == 'vsmc-hea')\n",
    "ec_dw3c <- which(colData(hm3c_cds)$condtype == 'ec-dis')\n",
    "ec_hw3c <- which(colData(hm3c_cds)$condtype == 'ec-hea')\n",
    "dims3c <- dim(expdat3c)\n",
    "expdatbo3c <- (expdat3c > 1) * 1\n",
    "distmeth <- c('binary', 'binary')\n",
    "clustmeth = c('complete', 'complete')\n",
    "\n",
    "my_palettebol <- colorRampPalette(c('#660066', 'yellow'))(n = 2)\n",
    "legendlstbol <- list(legend = c('EC DIS', 'EC HEA', 'VSMC DIS', 'VSMC HEA'),\n",
    "              col = c('red', 'blue', 'orange', 'cyan'), title = 'Cell Types', cex = .7)\n",
    "\n",
    "vsmc_dcim3c <- cim(expdatbo3c[, vsmc_dw3c], dist.method = distmeth, clust.method = clustmeth,\n",
    "    scale = \"FALSE\", center = \"FALSE\", col.names = FALSE, legend = legendlstbol,\n",
    "    color = my_palettebol, cluster = 'col', save = 'pdf', name.save = 'temp.ready.to.delete',\n",
    "    col.sideColors = colData(hm3c_cds)$sidecolor[vsmc_dw3c],\n",
    "    symkey = FALSE)\n",
    "vsmc_hcim3c <- cim(expdatbo3c[, vsmc_hw3c], dist.method = distmeth, clust.method = clustmeth,\n",
    "    scale = \"FALSE\", center = \"FALSE\", col.names = FALSE, legend = legendlstbol,\n",
    "    color = my_palettebol, cluster = 'col', save = 'pdf', name.save = 'temp.ready.to.delete',\n",
    "    col.sideColors = colData(hm3c_cds)$sidecolor[vsmc_hw3c],\n",
    "    symkey = FALSE)\n",
    "ec_dcim3c <- cim(expdatbo3c[, ec_dw3c], dist.method = distmeth, clust.method = clustmeth,\n",
    "    scale = \"FALSE\", center = \"FALSE\", col.names = FALSE, legend = legendlstbol,\n",
    "    color = my_palettebol, cluster = 'col', save = 'pdf', name.save = 'temp.ready.to.delete',\n",
    "    col.sideColors = colData(hm3c_cds)$sidecolor[ec_dw3c],\n",
    "    symkey = FALSE)\n",
    "ec_hcim3c <- cim(expdatbo3c[, ec_hw3c], dist.method = distmeth, clust.method = clustmeth,\n",
    "    scale = \"FALSE\", center = \"FALSE\", col.names = FALSE, legend = legendlstbol,\n",
    "    color = my_palettebol, cluster = 'col', save = 'pdf', name.save = 'temp.ready.to.delete',\n",
    "    col.sideColors = colData(hm3c_cds)$sidecolor[ec_hw3c],\n",
    "    symkey = FALSE)\n",
    "\n",
    "## The is the combined cell types\n",
    "parthclust <- c(colnames(vsmc_dcim3c$mat), colnames(vsmc_hcim3c$mat),\n",
    "                colnames(ec_dcim3c$mat), colnames(ec_hcim3c$mat))\n",
    "colornames <-colData(hm3c_cds)$sidecolor\n",
    "names(colornames) <- colnames(expdatbo3c)\n",
    "cim(expdatbo3c[, parthclust], dist.method = distmeth, clust.method = clustmeth,\n",
    "    scale = \"FALSE\", center = \"FALSE\", col.names = FALSE, legend = legendlstbol,\n",
    "    color = my_palettebol, cluster = 'none', save = 'pdf', name.save = 'temp.ready.to.delete',\n",
    "    col.sideColors = colornames[parthclust],\n",
    "    symkey = FALSE)\n",
    "\n",
    "# ## Repeated from above, this time to files\n",
    "pdf(pf1, width = 8, height = 13)\n",
    "cim(expdatbo3c[, parthclust], dist.method = distmeth, clust.method = clustmeth,\n",
    "    scale = \"FALSE\", center = \"FALSE\", col.names = FALSE, legend = legendlstbol,\n",
    "    color = my_palettebol, cluster = 'row',\n",
    "    col.sideColors = colornames[parthclust],\n",
    "    symkey = FALSE)\n",
    "dev.off()\n",
    "\n",
    "cim(expdatbo3c[, parthclust], dist.method = distmeth, clust.method = clustmeth,\n",
    "    scale = \"FALSE\", center = \"FALSE\", col.names = FALSE, legend = legendlstbol,\n",
    "    color = my_palettebol, cluster = 'row', save = 'pdf', name.save = 'temp.ready.to.delete',\n",
    "    col.sideColors = colornames[parthclust],\n",
    "    symkey = FALSE)\n",
    "\n",
    "pdf(pf2, width = 8, height = 13)\n",
    "cim_data <- cim(expdatbo3c[, parthclust], dist.method = distmeth, clust.method = clustmeth,\n",
    "    scale = \"FALSE\", center = \"FALSE\", col.names = FALSE, legend = legendlstbol,\n",
    "    color = my_palettebol, cluster = 'both',\n",
    "    col.sideColors = colornames[parthclust],\n",
    "    symkey = FALSE)\n",
    "dev.off()\n",
    "\n",
    "specialglist <- short2geneid[cim_data$row.names]\n",
    "pdf(pf3, width = 3.25, height = 13)\n",
    "plot_genes_by_group2(hm3c_cds,\n",
    "                    axis_order = \"group_marker\",\n",
    "                    specialglist,\n",
    "                    group_cells_by = \"condtype\",\n",
    "                    ordering_type = \"as_ordered\", # \"cluster_row_col\" \"as_ordered\"\n",
    "                    max.size = 3,\n",
    "                    norm_method = 'size_only',\n",
    "                    scale_max = 3, scale_min = -3)\n",
    "dev.off()"
   ]
  },
  {
   "cell_type": "code",
   "execution_count": null,
   "metadata": {},
   "outputs": [],
   "source": []
  }
 ],
 "metadata": {
  "kernelspec": {
   "display_name": "R",
   "language": "R",
   "name": "ir"
  },
  "language_info": {
   "codemirror_mode": "r",
   "file_extension": ".r",
   "mimetype": "text/x-r-source",
   "name": "R",
   "pygments_lexer": "r",
   "version": "4.0.0"
  }
 },
 "nbformat": 4,
 "nbformat_minor": 4
}
