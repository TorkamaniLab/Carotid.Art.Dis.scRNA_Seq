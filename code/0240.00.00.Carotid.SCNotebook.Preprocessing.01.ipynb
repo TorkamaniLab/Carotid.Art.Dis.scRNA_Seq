{
 "cells": [
  {
   "cell_type": "code",
   "execution_count": 1,
   "metadata": {},
   "outputs": [],
   "source": [
    "## ---- Global Cell Set Characterization Notebook 15 Partition Cells Set\n",
    "\n",
    "## Load Analysis Parameters (Parm1)\n",
    "## Read R Data Object from Prior Notebook (CDS1)\n",
    "## Compute Top Genes for 15 Partition Cell Set and Save Result\n",
    "## Create Dot Plots For 15 Partition Cell Set"
   ]
  },
  {
   "cell_type": "code",
   "execution_count": 1,
   "metadata": {},
   "outputs": [],
   "source": [
    "## Create a Working Input and Output Data Directory, If Id Does Not Exist\n",
    "parentdir <- '/gpfs/group/torkamani/devans/'\n",
    "datdir <- paste(parentdir, 'CDC2', sep = '')\n",
    "if (!file.exists(datdir)) {\n",
    "    dir.create(datdir)\n",
    "}\n",
    "setwd(datdir)"
   ]
  },
  {
   "cell_type": "code",
   "execution_count": 2,
   "metadata": {},
   "outputs": [],
   "source": [
    "## Read the parameters file\n",
    "ps <- read.table(file = 'parms.txt', stringsAsFactors = FALSE, header = TRUE)"
   ]
  },
  {
   "cell_type": "code",
   "execution_count": 4,
   "metadata": {},
   "outputs": [],
   "source": [
    "## Load Monocle3 and Seurat Libraries\n",
    "library(monocle3)\n",
    "library(Seurat)\n",
    "library(dplyr)\n",
    "library(magrittr)\n",
    "library(ggplot2)\n",
    "library(gridExtra)\n",
    "library(Matrix)\n",
    "library(rhdf5)\n",
    "library(grid)"
   ]
  },
  {
   "cell_type": "code",
   "execution_count": 8,
   "metadata": {},
   "outputs": [],
   "source": [
    "## Read the previously preprocessed downsampled cell set data object\n",
    "down_stdycds <- readRDS(file = paste(ps$outdir, 'Aggregated.downsampled.QC.Preprocessed.rds', sep = ''))"
   ]
  },
  {
   "cell_type": "code",
   "execution_count": 5,
   "metadata": {},
   "outputs": [
    {
     "data": {
      "text/html": [
       "'/gpfs/group/torkamani/devans/CDC2'"
      ],
      "text/latex": [
       "'/gpfs/group/torkamani/devans/CDC2'"
      ],
      "text/markdown": [
       "'/gpfs/group/torkamani/devans/CDC2'"
      ],
      "text/plain": [
       "[1] \"/gpfs/group/torkamani/devans/CDC2\""
      ]
     },
     "metadata": {},
     "output_type": "display_data"
    }
   ],
   "source": [
    "datdir"
   ]
  },
  {
   "cell_type": "code",
   "execution_count": 9,
   "metadata": {},
   "outputs": [],
   "source": [
    "## Build a gene short name to gene id (Ensembl) lookup\n",
    "short2geneid <- fData(down_stdycds)@rownames\n",
    "names(short2geneid) <- fData(down_stdycds)@listData$gene_short_name"
   ]
  },
  {
   "cell_type": "code",
   "execution_count": 10,
   "metadata": {},
   "outputs": [],
   "source": [
    "## Build a gene id (Ensembl) to gene short name lookup\n",
    "geneid2short <- fData(down_stdycds)@listData$gene_short_name\n",
    "names(geneid2short) <- fData(down_stdycds)@rownames"
   ]
  },
  {
   "cell_type": "code",
   "execution_count": 11,
   "metadata": {},
   "outputs": [],
   "source": [
    "## Create variables for how cells sets are organized\n",
    "cellgrps <- c('healthy', 'diseased', 'healthy', 'diseased', 'healthy', 'diseased')\n",
    "cellpats <- c('ID Number 1', 'ID Number 1', 'ID Number 2', 'ID Number 2', 'ID Number 3', 'ID Number 3')"
   ]
  },
  {
   "cell_type": "code",
   "execution_count": 12,
   "metadata": {},
   "outputs": [],
   "source": [
    "## Define and Assign Cell Types\n",
    "celltypes5 <- c('1-Unidentified',\n",
    "                '2-Macrophages',\n",
    "                '3-Endothelial Cells - (a)',\n",
    "                '4-Lymphoid Progenitors',\n",
    "                '5-VSMCs - Contractile',\n",
    "                '6-Endothelial Cells - (b)',\n",
    "                '7-VSMCs - Synthetic',\n",
    "                '8-Natural Killer Cells',\n",
    "                '9-Cytotoxic T Lymphocytes',\n",
    "                '10-B Lymphocytes',\n",
    "                '11-T lymphocytes',\n",
    "                '12-Plasmacytoid Dendritic Cells',\n",
    "                '13-B1 Lymphocytes',\n",
    "                '14-Neutrophils',\n",
    "                '15-Mast Cells')"
   ]
  },
  {
   "cell_type": "code",
   "execution_count": 13,
   "metadata": {},
   "outputs": [],
   "source": [
    "## Declare Tom's best genes for definiting cell types\n",
    "toms_markers5 <- c('NRXN1', 'CLU', 'ICAM2',\n",
    "                 'CD14', 'CD68', 'AIF1',\n",
    "                 'VWF', 'EDN1', 'ECSCR',\n",
    "                 'MKI67', 'UBE2C', 'TOP2A',\n",
    "                 'ACTA2', 'TAGLN', 'MYL9',\n",
    "                 'ACKR1', 'SPARCL1', 'PECAM1',\n",
    "                 'CALD1', 'MGP', 'DCN',\n",
    "                 'NKG7', 'XCL1', 'CTSW',\n",
    "                 'CD8A', 'TRAC', 'CD2',\n",
    "                 'MS4A1', 'CD79A', 'BANK1',\n",
    "                 'CD69', 'CXCR4', 'IL7R',\n",
    "                 'LILRA4', 'IRF7', 'CLEC4C',\n",
    "                 'MZB1', 'JCHAIN', 'TNFRSF17',\n",
    "                 'LST1', 'FCGR3B', 'S100A8',\n",
    "                 'TPSAB1', 'CPA3', 'MS4A2')\n",
    "toms_gene_ids5 <- short2geneid[toms_markers5]"
   ]
  },
  {
   "cell_type": "code",
   "execution_count": null,
   "metadata": {},
   "outputs": [],
   "source": [
    "## Compute top markers using partitions (no need to rerun this and the next\n",
    "## 5 cells that follow this cell). Do run the 6th cell, which reads the previously stored results\n",
    "toppart <- top_markers(down_stdycd, group_cells_by = \"partition\",\n",
    "                                       genes_to_test_per_group = dim(down_stdycds)[1],\n",
    "                                       reference_cells = dim(down_stdycds)[2], cores = 8)\n"
   ]
  },
  {
   "cell_type": "code",
   "execution_count": null,
   "metadata": {},
   "outputs": [],
   "source": [
    "## Prepare the output for ultimate conversion to a spreadsheet\n",
    "toppart_GC <- toppart[,c(1,2,2,3:10)]\n",
    "colnames(toppart_GC)[2] <- 'gene_cards'\n",
    "nmarkers2 <- dim(toppart_GC)[1]\n",
    "gc_hyper2 <- '=HYPERLINK(CONCAT(\"https://www.genecards.org/Search/Keyword?queryString=\", '\n",
    "gc_hyper2 <- paste(gc_hyper2, 'A', 2:(nmarkers2 + 1), '), C', 2:(nmarkers2 + 1), ')', sep ='')\n",
    "toppart_GC$gene_cards <- gc_hyper2"
   ]
  },
  {
   "cell_type": "code",
   "execution_count": null,
   "metadata": {},
   "outputs": [],
   "source": [
    "## Write the file\n",
    "##This file should be nearly identical to Aggregated.downsampled.QC.TopAllMarkersPer.Rev1.tsv,\n",
    "## with only slight variation in the least significant digits due to the optimization or \n",
    "## sampling method used within the Monocle top_markers function\n",
    "topmarkerfile3 <- paste(ps$outdir, 'Aggregated.downsampled.15parts.TopAllMarkers.Rev3x.tsv', sep = '')\n",
    "write.table(toppart_GC, file = topmarkerfile3,\n",
    "            row.names = FALSE, col.names = TRUE,\n",
    "            sep = '\\t', quote = FALSE)"
   ]
  },
  {
   "cell_type": "code",
   "execution_count": null,
   "metadata": {},
   "outputs": [],
   "source": [
    "## Compute all top marker files (using assigned cell type - note that this output file is not used)\n",
    "# topmarkerfile <- paste(ps$outdir, 'Aggregated.downsampled.QC.TopAllMarkersPer.Rev2.tsv', sep = '')\n",
    "marker_test_res_topall <- top_markers(down_stdycds, group_cells_by = \"assigned_cell_type\",\n",
    "                                       genes_to_test_per_group = dim(down_stdycds)[1], \n",
    "                                       reference_cells = dim(down_stdycds)[2], cores = 4)"
   ]
  },
  {
   "cell_type": "code",
   "execution_count": null,
   "metadata": {},
   "outputs": [],
   "source": [
    "## Save all top markers to a file\n",
    "    marker_test_res_topall_with_GC <- marker_test_res_topall[,c(1,2,2,3:10)]\n",
    "    colnames(marker_test_res_topall_with_GC)[2] <- 'gene_cards'\n",
    "    nmarkers1 <- dim(marker_test_res_topall_with_GC)[1]\n",
    "    gc_hyper1 <- '=HYPERLINK(CONCAT(\"https://www.genecards.org/Search/Keyword?queryString=\", '\n",
    "    gc_hyper1 <- paste(gc_hyper1, 'A', 2:(nmarkers1 + 1), '), C', 2:(nmarkers1 + 1), ')', sep ='')\n",
    "    marker_test_res_topall_with_GC$gene_cards <- gc_hyper1"
   ]
  },
  {
   "cell_type": "code",
   "execution_count": null,
   "metadata": {},
   "outputs": [],
   "source": [
    "## Write the file\n",
    "## Should be similar to Rev1 file of the same name\n",
    "topmarkerfile2 <- paste(ps$outdir, 'Aggregated.downsampled.15parts.TopAllMarkers.Rev2.tsv', sep = '')\n",
    "write.table(marker_test_res_topall_with_GC, file = topmarkerfile2,\n",
    "            row.names = FALSE, col.names = TRUE,\n",
    "            sep = '\\t', quote = FALSE)"
   ]
  },
  {
   "cell_type": "code",
   "execution_count": null,
   "metadata": {},
   "outputs": [],
   "source": [
    "## I've added this code from the original CSC1 code (notebook 03.00.00...)\n",
    "## Compute top 500 marker files\n",
    "topmarkerfile <- paste(ps$outdir, 'Aggregated.downsampled.QC.Top500MarkersPer.Rev3x.tsv', sep = '')\n",
    "marker_test_res_top500 <- top_markers(down_stdycds, group_cells_by = \"partition\",\n",
    "                                       genes_to_test_per_group = 500, # dim(down_stdycds)[1], \n",
    "                                       reference_cells = dim(down_stdycds)[2], cores = 4)\n",
    "## Save top 500 markers to a file\n",
    "    marker_test_res_top500_with_GC <- marker_test_res_top500[,c(1,2,2,3:10)]\n",
    "    colnames(marker_test_res_top500_with_GC)[2] <- 'gene_cards'\n",
    "    nmarkers1 <- dim(marker_test_res_top500_with_GC)[1]\n",
    "    gc_hyper1 <- '=HYPERLINK(CONCAT(\"https://www.genecards.org/Search/Keyword?queryString=\", '\n",
    "    gc_hyper1 <- paste(gc_hyper1, 'A', 2:(nmarkers1 + 1), '), C', 2:(nmarkers1 + 1), ')', sep ='')\n",
    "    marker_test_res_top500_with_GC$gene_cards = gc_hyper1\n",
    "    \n",
    "write.table(marker_test_res_top500_with_GC, file = topmarkerfile,\n",
    "            row.names = FALSE, col.names = TRUE,\n",
    "            sep = '\\t', quote = FALSE)"
   ]
  },
  {
   "cell_type": "code",
   "execution_count": null,
   "metadata": {},
   "outputs": [],
   "source": []
  },
  {
   "cell_type": "code",
   "execution_count": null,
   "metadata": {},
   "outputs": [],
   "source": []
  },
  {
   "cell_type": "code",
   "execution_count": null,
   "metadata": {},
   "outputs": [],
   "source": []
  },
  {
   "cell_type": "code",
   "execution_count": 16,
   "metadata": {},
   "outputs": [
    {
     "name": "stdout",
     "output_type": "stream",
     "text": [
      "  |=======================================================| 100%, Elapsed 00:06\n",
      "  |=======================================================| 100%, Elapsed 16:04\n"
     ]
    }
   ],
   "source": [
    "## Compute top 500 marker files\n",
    "## The Rev1 version of this file was created in the first pipeline run (CDC1)\n",
    "## The cod\n",
    "topmarkerfile <- paste(ps$outdir, 'Aggregated.downsampled.QC.15Part.Top500MarkersPer.Rev2x.tsv', sep = '')\n",
    "marker_test_res_top500 <- top_markers(down_stdycds, group_cells_by = \"partition\",\n",
    "                                       genes_to_test_per_group = 500, # dim(down_stdycds)[1], \n",
    "                                       reference_cells = dim(down_stdycds)[2], cores = 4)"
   ]
  },
  {
   "cell_type": "code",
   "execution_count": 261,
   "metadata": {},
   "outputs": [],
   "source": [
    "## Save top 500 markers to a file\n",
    "    marker_test_res_top500_with_GC <- marker_test_res_top500[,c(1,2,2,3:10)]\n",
    "    colnames(marker_test_res_top500_with_GC)[2] <- 'gene_cards'\n",
    "    nmarkers1 <- dim(marker_test_res_top500_with_GC)[1]\n",
    "    gc_hyper1 <- '=HYPERLINK(CONCAT(\"https://www.genecards.org/Search/Keyword?queryString=\", '\n",
    "    gc_hyper1 <- paste(gc_hyper1, 'A', 2:(nmarkers1 + 1), '), C', 2:(nmarkers1 + 1), ')', sep ='')\n",
    "    marker_test_res_top500_with_GC$gene_cards = gc_hyper1\n",
    "    \n",
    "write.table(marker_test_res_top500_with_GC, file = topmarkerfile,\n",
    "            row.names = FALSE, col.names = TRUE,\n",
    "            sep = '\\t', quote = FALSE)"
   ]
  },
  {
   "cell_type": "code",
   "execution_count": 174,
   "metadata": {},
   "outputs": [],
   "source": [
    "top_specific_markers3 <- marker_test_res_top500_with_GC %>%\n",
    "                            filter(fraction_expressing >= 0.10) %>%\n",
    "                            group_by(cell_group) %>%\n",
    "                            top_n(3, pseudo_R2)\n",
    "top_specific_marker_ids <- unique(top_specific_markers3 %>% pull(gene_id))\n",
    "top_specific_genes <- as.character(geneid2short[top_specific_marker_ids])\n",
    "top_specific_marker_ids <- short2geneid[top_specific_genes]"
   ]
  },
  {
   "cell_type": "code",
   "execution_count": 155,
   "metadata": {},
   "outputs": [],
   "source": [
    "source('~/code/CSC/07.0.0.Carotid.SC.Utilities.01.r')"
   ]
  },
  {
   "cell_type": "code",
   "execution_count": 184,
   "metadata": {},
   "outputs": [],
   "source": [
    "## This is a dot plot of the toms list of marker genes (5th iteration)\n",
    "g5 <- plot_genes_by_group2(down_stdycds,\n",
    "                    axis_order = \"group_marker\",\n",
    "                    toms_gene_ids5,\n",
    "                    group_cells_by = \"partition\",\n",
    "                    ordering_type = \"as_ordered\", # \"cluster_row_col\" \"as_ordered\"\n",
    "                    max.size = 8,\n",
    "                    norm_method = 'size_only',\n",
    "                    scale_max = 3, scale_min = -3)"
   ]
  },
  {
   "cell_type": "code",
   "execution_count": 191,
   "metadata": {},
   "outputs": [],
   "source": [
    "## Write the updated dot plot to a file\n",
    "plotfile <- 'Aggregated.downsampled.QC.15Part.TomsGenes.DOTPlot.Rev2.pdf'\n",
    "plotfp <- paste(ps$outdir, plotfile, sep = '')"
   ]
  },
  {
   "cell_type": "code",
   "execution_count": 193,
   "metadata": {},
   "outputs": [
    {
     "data": {
      "text/html": [
       "<strong>png:</strong> 2"
      ],
      "text/latex": [
       "\\textbf{png:} 2"
      ],
      "text/markdown": [
       "**png:** 2"
      ],
      "text/plain": [
       "png \n",
       "  2 "
      ]
     },
     "metadata": {},
     "output_type": "display_data"
    }
   ],
   "source": [
    "pdf(plotfp, width = 10, height = 12)\n",
    "g5\n",
    "dev.off()"
   ]
  },
  {
   "cell_type": "code",
   "execution_count": 22,
   "metadata": {},
   "outputs": [
    {
     "ename": "ERROR",
     "evalue": "Error in eval(expr, envir, enclos): object 'marker_test_res_topall_with_GC' not found\n",
     "output_type": "error",
     "traceback": [
      "Error in eval(expr, envir, enclos): object 'marker_test_res_topall_with_GC' not found\nTraceback:\n"
     ]
    }
   ],
   "source": [
    "## Get the gene data for toms_markers5\n",
    "GlobExpVal <- marker_test_res_topall_with_GC[marker_test_res_topall_with_GC$gene_short_name.1 %in%\n",
    "                                             toms_markers5,]\n",
    "GlobExpVal$gene_short_name.1 <- as.character(GlobExpVal$gene_short_name.1)"
   ]
  },
  {
   "cell_type": "code",
   "execution_count": null,
   "metadata": {},
   "outputs": [],
   "source": [
    "## Temporarily regroup the GlobExpVal object, and then replace it\n",
    "tempGEV <- GlobExpVal[,c(3, 4, 6, 7)]\n",
    "colnames(tempGEV) <- c('Gene', 'Group', 'mean', 'percentage')\n",
    "tempGEV$Group <- as.integer(substr(tempGEV$Group, 1, 1))\n",
    "GlobExpVal <- tempGEV"
   ]
  },
  {
   "cell_type": "code",
   "execution_count": 194,
   "metadata": {},
   "outputs": [],
   "source": [
    "## This is a special dot plot created for Tom's poster\n",
    "## This is all setup in this cell\n",
    "##-----------------\n",
    "## Intialize data frame for dot plot\n",
    "dotmat <- as.data.frame(matrix(as.integer(0), nrow = dim(GlobExpVal)[1] , ncol = 6), stringsAsFactors = FALSE)\n",
    "colnames(dotmat) <- c('xname', 'yname', 'x', 'y', 'size', 'color') \n",
    "## Load the data frame\n",
    "dotmat$y <- as.integer(GlobExpVal$Group)\n",
    "for (i in 1:dim(GlobExpVal)[1]) {\n",
    "    dotmat$x[i] <- as.integer(which(toms_markers5 %in%  as.character(GlobExpVal$Gene[i]))[1])\n",
    "    }\n",
    "dotmat$xname <- toms_markers5[dotmat$x]\n",
    "dotmat$yname <- as.character(celltypes5[dotmat$y])\n",
    "dotmat$size <- GlobExpVal$percentage * 100\n",
    "dotmat$color <- GlobExpVal$mean\n",
    "dotmat$stroke <- as.integer(0)\n",
    "dotmat$fill <- 'white'\n",
    "## Some settings and precomputed values\n",
    "xmargin <- .5\n",
    "ymargin <- .5\n",
    "dotscale <- 1.5\n",
    "dotmat$scsize <- dotscale * dotmat$size\n",
    "xlimlow <- min(dotmat$x) - xmargin\n",
    "xlimhi <- max(dotmat$x) + xmargin\n",
    "ylimlow <- min(dotmat$y) - ymargin\n",
    "ylimhi <- max(dotmat$y) + ymargin\n",
    "## Get the axis tick labels\n",
    "xnames <- toms_markers5 # unique(dotmat$xname)\n",
    "ynames <- celltypes5 # unique(dotmat$yname)\n",
    "## Change the order of y axis\n",
    "dotmat$y <- 16 - dotmat$y\n",
    "ynames <- ynames[15:1]\n",
    "## Some ggplot text formatting\n",
    "red.bold.italic.text <- element_text(face = \"bold.italic\", color = \"black\")\n",
    "black.90italic.text <- element_text(face = \"bold.italic\", hjust = 1,\n",
    "                                    color = \"black\", angle = 90, vjust = .5, size = 8)"
   ]
  },
  {
   "cell_type": "code",
   "execution_count": 199,
   "metadata": {},
   "outputs": [],
   "source": [
    "## Create the actual dot plot object\n",
    "g6 <- ggplot(dotmat, aes(x = x, y = y)) + \n",
    "    geom_point(aes(col = color, size = size, stroke = size/2), stroke = 0) +\n",
    "    scale_radius(range = c(1, 5)) +\n",
    "    coord_cartesian(xlim = c(xlimlow, xlimhi), ylim = c(ylimlow, ylimhi)) +\n",
    "    xlab(\"\") + ylab(\"\")  +                  \n",
    "    scale_x_continuous(breaks = seq(min(dotmat$x),  max(dotmat$x), 1), labels = xnames) + \n",
    "    scale_y_continuous(breaks = seq(min(dotmat$y), max(dotmat$y), 1), labels = ynames) +\n",
    "    scale_colour_gradient(high = \"#132B43\", low = \"#56B1F7\") +\n",
    "    theme_bw() + # labs(subtitle=\"BW Theme\") +\n",
    "    theme_classic() + # labs(subtitle=\"Classic Theme\") + \n",
    "    theme(axis.text.x = black.90italic.text) + \n",
    "    theme(legend.position = 'bottom', legend.direction = 'vertical') +\n",
    "    theme(plot.margin = margin(.5, .5, .5, .5, \"in\")) + # , plot.background = element_rect(fill = \"white\"))\n",
    "    theme(panel.border = element_rect(colour = \"black\", fill = NA)) + \n",
    "    labs(color = \"\", size = \"\") "
   ]
  },
  {
   "cell_type": "code",
   "execution_count": 223,
   "metadata": {},
   "outputs": [],
   "source": [
    "## set up the dot plot file\n",
    "plotfile <- 'Aggregated.downsampled.QC.Part15.TomsGenes.PosterDOTPlot.Rev2.pdf'\n",
    "plotfp <- paste(ps$outdir, plotfile, sep = '')"
   ]
  },
  {
   "cell_type": "code",
   "execution_count": 224,
   "metadata": {},
   "outputs": [
    {
     "data": {
      "text/html": [
       "<strong>png:</strong> 2"
      ],
      "text/latex": [
       "\\textbf{png:} 2"
      ],
      "text/markdown": [
       "**png:** 2"
      ],
      "text/plain": [
       "png \n",
       "  2 "
      ]
     },
     "metadata": {},
     "output_type": "display_data"
    }
   ],
   "source": [
    "## Actually create the file, adding annotations\n",
    "pdf(plotfp, width = 10, height = 8)\n",
    "    g6\n",
    "    my_text1 <- 'Percent of cells in\\npartition with 1+ reads\\ncorresponding to\\ngene marker'\n",
    "    my_grob1 <- grid.text(my_text1, x = .55 - .025,  y =.09 + .07, hjust = 1,\n",
    "                        gp = gpar(col = \"black\", fontsize = 10, fontface = \"bold\"))\n",
    "    my_text2 <- 'Scaled Expression'\n",
    "    my_grob2 <- grid.text(my_text2, x = .7 - .06,  y =.21 + .035,\n",
    "                        gp = gpar(col = \"black\", fontsize = 10, fontface = \"bold\"))\n",
    "dev.off()"
   ]
  },
  {
   "cell_type": "code",
   "execution_count": null,
   "metadata": {},
   "outputs": [],
   "source": []
  }
 ],
 "metadata": {
  "kernelspec": {
   "display_name": "R",
   "language": "R",
   "name": "ir"
  },
  "language_info": {
   "codemirror_mode": "r",
   "file_extension": ".r",
   "mimetype": "text/x-r-source",
   "name": "R",
   "pygments_lexer": "r",
   "version": "3.5.1"
  }
 },
 "nbformat": 4,
 "nbformat_minor": 4
}
