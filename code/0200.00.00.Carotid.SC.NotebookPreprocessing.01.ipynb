{
 "cells": [
  {
   "cell_type": "code",
   "execution_count": 1,
   "metadata": {},
   "outputs": [],
   "source": [
    "## ---- Global Cell Set Preprocessing Notebook ----\n",
    "## Load Analysis Parameters (Parm1)\n",
    "## Download Aggregated 10x Single Cell Data (Seurat)\n",
    "## Perform QC Filtering (Seurat)\n",
    "## Identify Patient and Health Condition All Cells\n",
    "## Create Filtered Monocle3 CDS Object and Perform Down Sampling (Monocle3)\n",
    "## Remove Zero Expressing Genes\n",
    "## Perform Preliminary Pre-Processing and Clustering (Monocle3)\n",
    "## Annotate Partitions (Cell Types)\n",
    "## Save Result As An R Data Object (CDS1)"
   ]
  },
  {
   "cell_type": "code",
   "execution_count": 1,
   "metadata": {},
   "outputs": [],
   "source": [
    "## Create a Working Input and Output Data Directory, If It Does Not Exist\n",
    "parentdir <- '/gpfs/group/torkamani/devans/'\n",
    "datdir <- paste(parentdir, 'CDC2', sep = '')\n",
    "if (!file.exists(datdir)) {\n",
    "    dir.create(datdir)\n",
    "}\n",
    "setwd(datdir)"
   ]
  },
  {
   "cell_type": "code",
   "execution_count": 2,
   "metadata": {},
   "outputs": [],
   "source": [
    "## Read the parameters file\n",
    "ps <- read.table(file = 'parms.txt', stringsAsFactors = FALSE, header = TRUE)"
   ]
  },
  {
   "cell_type": "code",
   "execution_count": 3,
   "metadata": {},
   "outputs": [
    {
     "data": {
      "text/html": [
       "<table>\n",
       "<caption>A data.frame: 1 × 6</caption>\n",
       "<thead>\n",
       "\t<tr><th scope=col>indir</th><th scope=col>outdir</th><th scope=col>outsdir.10x</th><th scope=col>expdatfile.10x</th><th scope=col>metadatfile.10x</th><th scope=col>conpath</th></tr>\n",
       "\t<tr><th scope=col>&lt;chr&gt;</th><th scope=col>&lt;chr&gt;</th><th scope=col>&lt;chr&gt;</th><th scope=col>&lt;chr&gt;</th><th scope=col>&lt;chr&gt;</th><th scope=col>&lt;chr&gt;</th></tr>\n",
       "</thead>\n",
       "<tbody>\n",
       "\t<tr><td>inputdat/</td><td>outputdat/</td><td>outs/</td><td>AGGREGATEMAPPED-tisCAR6samples_expression.csv</td><td>AGGREGATEMAPPED-tisCAR6samples_metadata.csv</td><td>con345/</td></tr>\n",
       "</tbody>\n",
       "</table>\n"
      ],
      "text/latex": [
       "A data.frame: 1 × 6\n",
       "\\begin{tabular}{llllll}\n",
       " indir & outdir & outsdir.10x & expdatfile.10x & metadatfile.10x & conpath\\\\\n",
       " <chr> & <chr> & <chr> & <chr> & <chr> & <chr>\\\\\n",
       "\\hline\n",
       "\t inputdat/ & outputdat/ & outs/ & AGGREGATEMAPPED-tisCAR6samples\\_expression.csv & AGGREGATEMAPPED-tisCAR6samples\\_metadata.csv & con345/\\\\\n",
       "\\end{tabular}\n"
      ],
      "text/markdown": [
       "\n",
       "A data.frame: 1 × 6\n",
       "\n",
       "| indir &lt;chr&gt; | outdir &lt;chr&gt; | outsdir.10x &lt;chr&gt; | expdatfile.10x &lt;chr&gt; | metadatfile.10x &lt;chr&gt; | conpath &lt;chr&gt; |\n",
       "|---|---|---|---|---|---|\n",
       "| inputdat/ | outputdat/ | outs/ | AGGREGATEMAPPED-tisCAR6samples_expression.csv | AGGREGATEMAPPED-tisCAR6samples_metadata.csv | con345/ |\n",
       "\n"
      ],
      "text/plain": [
       "  indir     outdir     outsdir.10x\n",
       "1 inputdat/ outputdat/ outs/      \n",
       "  expdatfile.10x                               \n",
       "1 AGGREGATEMAPPED-tisCAR6samples_expression.csv\n",
       "  metadatfile.10x                             conpath\n",
       "1 AGGREGATEMAPPED-tisCAR6samples_metadata.csv con345/"
      ]
     },
     "metadata": {},
     "output_type": "display_data"
    }
   ],
   "source": [
    "ps"
   ]
  },
  {
   "cell_type": "code",
   "execution_count": 5,
   "metadata": {},
   "outputs": [],
   "source": [
    "## Load Monocle3 and Seurat Libraries\n",
    "library(monocle3)\n",
    "library(Seurat)\n",
    "library(dplyr)\n",
    "library(magrittr)\n",
    "library(ggplot2)\n",
    "library(gridExtra)\n",
    "library(Matrix)\n",
    "library(rhdf5)"
   ]
  },
  {
   "cell_type": "code",
   "execution_count": 6,
   "metadata": {},
   "outputs": [],
   "source": [
    "## Set up paths to the 6 sample directories\n",
    "pf1d <- paste(ps$indir, ps$conpath, 'p3/dis/outs/filtered_feature_bc_matrix', sep = '')\n",
    "pf1h <- paste(ps$indir, ps$conpath, 'p3/hea/outs/filtered_feature_bc_matrix', sep = '')\n",
    "pf2d <- paste(ps$indir, ps$conpath, 'p4/dis/outs/filtered_feature_bc_matrix', sep = '')\n",
    "pf2h <- paste(ps$indir, ps$conpath, 'p4/hea/outs/filtered_feature_bc_matrix', sep = '')\n",
    "pf3d <- paste(ps$indir, ps$conpath, 'p5/dis/outs/filtered_feature_bc_matrix', sep = '')\n",
    "pf3h <- paste(ps$indir, ps$conpath, 'p5/hea/outs/filtered_feature_bc_matrix', sep = '')"
   ]
  },
  {
   "cell_type": "code",
   "execution_count": 7,
   "metadata": {},
   "outputs": [],
   "source": [
    "## Read the six samples\n",
    "p1d_cds <- Read10X(data.dir = pf1d)\n",
    "p1h_cds <- Read10X(data.dir = pf1h)\n",
    "p2d_cds <- Read10X(data.dir = pf2d)\n",
    "p2h_cds <- Read10X(data.dir = pf2h)\n",
    "p3d_cds <- Read10X(data.dir = pf3d)\n",
    "p3h_cds <- Read10X(data.dir = pf3h)"
   ]
  },
  {
   "cell_type": "code",
   "execution_count": 8,
   "metadata": {},
   "outputs": [],
   "source": [
    "## Create the Seurat Objects\n",
    "p1d_cds <- CreateSeuratObject(counts = p1d_cds, project = \"Cor.Pat1.Dis\", min.cells = 0, min.features = 0)\n",
    "p1h_cds <- CreateSeuratObject(counts = p1h_cds, project = \"Cor.Pat1.Hea\", min.cells = 0, min.features = 0)\n",
    "p2d_cds <- CreateSeuratObject(counts = p2d_cds, project = \"Cor.Pat2.Dis\", min.cells = 0, min.features = 0)\n",
    "p2h_cds <- CreateSeuratObject(counts = p2h_cds, project = \"Cor.Pat2.Hea\", min.cells = 0, min.features = 0)\n",
    "p3d_cds <- CreateSeuratObject(counts = p3d_cds, project = \"Cor.Pat3.Dis\", min.cells = 0, min.features = 0)\n",
    "p3h_cds <- CreateSeuratObject(counts = p3h_cds, project = \"Cor.Pat3.Hea\", min.cells = 0, min.features = 0)"
   ]
  },
  {
   "cell_type": "code",
   "execution_count": 9,
   "metadata": {},
   "outputs": [
    {
     "data": {
      "text/plain": [
       "An object of class Seurat \n",
       "33538 features across 11015 samples within 1 assay \n",
       "Active assay: RNA (33538 features, 0 variable features)"
      ]
     },
     "metadata": {},
     "output_type": "display_data"
    },
    {
     "data": {
      "text/plain": [
       "An object of class Seurat \n",
       "33538 features across 3716 samples within 1 assay \n",
       "Active assay: RNA (33538 features, 0 variable features)"
      ]
     },
     "metadata": {},
     "output_type": "display_data"
    },
    {
     "data": {
      "text/plain": [
       "An object of class Seurat \n",
       "33538 features across 15960 samples within 1 assay \n",
       "Active assay: RNA (33538 features, 0 variable features)"
      ]
     },
     "metadata": {},
     "output_type": "display_data"
    },
    {
     "data": {
      "text/plain": [
       "An object of class Seurat \n",
       "33538 features across 5523 samples within 1 assay \n",
       "Active assay: RNA (33538 features, 0 variable features)"
      ]
     },
     "metadata": {},
     "output_type": "display_data"
    },
    {
     "data": {
      "text/plain": [
       "An object of class Seurat \n",
       "33538 features across 12388 samples within 1 assay \n",
       "Active assay: RNA (33538 features, 0 variable features)"
      ]
     },
     "metadata": {},
     "output_type": "display_data"
    },
    {
     "data": {
      "text/plain": [
       "An object of class Seurat \n",
       "33538 features across 3379 samples within 1 assay \n",
       "Active assay: RNA (33538 features, 0 variable features)"
      ]
     },
     "metadata": {},
     "output_type": "display_data"
    }
   ],
   "source": [
    "p1d_cds\n",
    "p1h_cds\n",
    "p2d_cds\n",
    "p2h_cds\n",
    "p3d_cds\n",
    "p3h_cds"
   ]
  },
  {
   "cell_type": "code",
   "execution_count": 10,
   "metadata": {},
   "outputs": [],
   "source": [
    "# The [[ operator can add columns to object metadata. This is a great place to stash QC stats\n",
    "p1d_cds[[\"percent.mt\"]] <- PercentageFeatureSet(p1d_cds, pattern = \"^MT-\")\n",
    "p1h_cds[[\"percent.mt\"]] <- PercentageFeatureSet(p1h_cds, pattern = \"^MT-\")\n",
    "p2d_cds[[\"percent.mt\"]] <- PercentageFeatureSet(p2d_cds, pattern = \"^MT-\")\n",
    "p2h_cds[[\"percent.mt\"]] <- PercentageFeatureSet(p2h_cds, pattern = \"^MT-\")\n",
    "p3d_cds[[\"percent.mt\"]] <- PercentageFeatureSet(p3d_cds, pattern = \"^MT-\")\n",
    "p3h_cds[[\"percent.mt\"]] <- PercentageFeatureSet(p3h_cds, pattern = \"^MT-\")"
   ]
  },
  {
   "cell_type": "code",
   "execution_count": 11,
   "metadata": {},
   "outputs": [],
   "source": [
    "## Results of single sample cellranger count analysis (Hardcode input from summary.html files)\n",
    "summaryreads <- c(273078128, 234857523, 246707399, 315532869, 252278050, 270736818)\n",
    "summarysat <- c(0.603, 0.834, 0.421, 0.812, 0.464, .841)"
   ]
  },
  {
   "cell_type": "code",
   "execution_count": 12,
   "metadata": {},
   "outputs": [],
   "source": [
    "qc_df <- as.data.frame(matrix(0, nrow = 6, ncol = 12))\n",
    "colnames(qc_df) <- c('Sample', 'N.Cells', 'MedGenepCell', 'MedUMIspCell',\n",
    "                     'MeanReadspCell', 'ReadspUMI', 'SeqSat.pct', 'MT.lt.5.pct', 'MT.lt.10.pct',\n",
    "                     'pct.Genes.gt.200', 'pct.Genes.lt.2500', 'pct.Genes.lt.4000')\n",
    "\n",
    "lencds <- length(p1d_cds$nFeature_RNA)\n",
    "qc_df$Sample[1] <- \"Patient 1 Diseased\"\n",
    "qc_df$N.Cells[1] <- lencds\n",
    "qc_df$MedGenepCell[1] <- round(median(p1d_cds$nFeature_RNA),0)\n",
    "qc_df$MedUMIspCell[1] <- round(median(colSums(p1d_cds@assays$RNA@counts)), 0)\n",
    "\n",
    "qc_df$MeanReadspCell[1] <- round(summaryreads[1]/lencds, 0)\n",
    "qc_df$ReadspUMI[1] <- round(summaryreads[1]/sum(p1d_cds@assays$RNA@counts), 1)\n",
    "qc_df$SeqSat.pct[1] <- summarysat[1] * 100\n",
    "\n",
    "qc_df$MT.lt.5.pct[1] <- round(100 * sum(p1d_cds$percent.mt < 5)/lencds, 1)\n",
    "qc_df$MT.lt.10.pct[1] <- round(100 * sum(p1d_cds$percent.mt < 10)/lencds, 1)\n",
    "qc_df$pct.Genes.gt.200[1] <- round(100 * sum(p1d_cds$nFeature_RNA > 200)/lencds, 1)\n",
    "qc_df$pct.Genes.lt.2500[1] <- round(100 * sum(p1d_cds$nFeature_RNA < 2500)/lencds, 1)\n",
    "qc_df$pct.Genes.lt.4000[1] <- round(100 * sum(p1d_cds$nFeature_RNA < 4000)/lencds, 1)\n",
    "\n",
    "\n",
    "##----------------\n",
    "\n",
    "lencds <- length(p1h_cds$nFeature_RNA)\n",
    "qc_df$Sample[2] <- \"Patient 1 Healthy\"\n",
    "qc_df$N.Cells[2] <- lencds\n",
    "qc_df$MedGenepCell[2] <- round(median(p1h_cds$nFeature_RNA),0)\n",
    "qc_df$MedUMIspCell[2] <- round(median(colSums(p1h_cds@assays$RNA@counts)), 0)\n",
    "\n",
    "qc_df$MeanReadspCell[2] <- round(summaryreads[2]/lencds, 0)\n",
    "qc_df$ReadspUMI[2] <- round(summaryreads[2]/sum(p1h_cds@assays$RNA@counts), 1)\n",
    "qc_df$SeqSat.pct[2] <- summarysat[2] * 100\n",
    "\n",
    "qc_df$MT.lt.5.pct[2] <- round(100 * sum(p1h_cds$percent.mt < 5)/lencds, 1)\n",
    "qc_df$MT.lt.10.pct[2] <- round(100 * sum(p1h_cds$percent.mt < 10)/lencds, 1)\n",
    "qc_df$pct.Genes.gt.200[2] <- round(100 * sum(p1h_cds$nFeature_RNA > 200)/lencds, 1)\n",
    "qc_df$pct.Genes.lt.2500[2] <- round(100 * sum(p1h_cds$nFeature_RNA < 2500)/lencds, 1)\n",
    "qc_df$pct.Genes.lt.4000[2] <- round(100 * sum(p1h_cds$nFeature_RNA < 4000)/lencds, 1)\n",
    "\n",
    "##----------------\n",
    "\n",
    "lencds <- length(p2d_cds$nFeature_RNA)\n",
    "qc_df$Sample[3] <- \"Patient 2 Diseased\"\n",
    "qc_df$N.Cells[3] <- lencds\n",
    "qc_df$MedGenepCell[3] <- round(median(p2d_cds$nFeature_RNA),0)\n",
    "qc_df$MedUMIspCell[3] <- round(median(colSums(p2d_cds@assays$RNA@counts)), 0)\n",
    "\n",
    "qc_df$MeanReadspCell[3] <- round(summaryreads[3]/lencds, 0)\n",
    "qc_df$ReadspUMI[3] <- round(summaryreads[3]/sum(p2d_cds@assays$RNA@counts), 1)\n",
    "qc_df$SeqSat.pct[3] <- summarysat[3] * 100\n",
    "\n",
    "qc_df$MT.lt.5.pct[3] <- round(100 * sum(p2d_cds$percent.mt < 5)/lencds, 1)\n",
    "qc_df$MT.lt.10.pct[3] <- round(100 * sum(p2d_cds$percent.mt < 10)/lencds, 1)\n",
    "qc_df$pct.Genes.gt.200[3] <- round(100 * sum(p2d_cds$nFeature_RNA > 200)/lencds, 1)\n",
    "qc_df$pct.Genes.lt.2500[3] <- round(100 * sum(p2d_cds$nFeature_RNA < 2500)/lencds, 1)\n",
    "qc_df$pct.Genes.lt.4000[3] <- round(100 * sum(p2d_cds$nFeature_RNA < 4000)/lencds, 1)\n",
    "\n",
    "##----------------\n",
    "\n",
    "lencds <- length(p2h_cds$nFeature_RNA)\n",
    "qc_df$Sample[4] <- \"Patient 2 Healthy\"\n",
    "qc_df$N.Cells[4] <- lencds\n",
    "qc_df$MedGenepCell[4] <- round(median(p2h_cds$nFeature_RNA),0)\n",
    "qc_df$MedUMIspCell[4] <- round(median(colSums(p2h_cds@assays$RNA@counts)), 0)\n",
    "\n",
    "qc_df$MeanReadspCell[4] <- round(summaryreads[4]/lencds, 0)\n",
    "qc_df$ReadspUMI[4] <- round(summaryreads[4]/sum(p2h_cds@assays$RNA@counts), 1)\n",
    "qc_df$SeqSat.pct[4] <- summarysat[4] * 100\n",
    "\n",
    "qc_df$MT.lt.5.pct[4] <- round(100 * sum(p2h_cds$percent.mt < 5)/lencds, 1)\n",
    "qc_df$MT.lt.10.pct[4] <- round(100 * sum(p2h_cds$percent.mt < 10)/lencds, 1)\n",
    "qc_df$pct.Genes.gt.200[4] <- round(100 * sum(p2h_cds$nFeature_RNA > 200)/lencds, 1)\n",
    "qc_df$pct.Genes.lt.2500[4] <- round(100 * sum(p2h_cds$nFeature_RNA < 2500)/lencds, 1)\n",
    "qc_df$pct.Genes.lt.4000[4] <- round(100 * sum(p2h_cds$nFeature_RNA < 4000)/lencds, 1)\n",
    "\n",
    "##----------------\n",
    "\n",
    "lencds <- length(p3d_cds$nFeature_RNA)\n",
    "qc_df$Sample[5] <- \"Patient 3 Diseased\"\n",
    "qc_df$N.Cells[5] <- lencds\n",
    "qc_df$MedGenepCell[5] <- round(median(p3d_cds$nFeature_RNA),0)\n",
    "qc_df$MedUMIspCell[5] <- round(median(colSums(p3d_cds@assays$RNA@counts)), 0)\n",
    "\n",
    "qc_df$MeanReadspCell[5] <- round(summaryreads[5]/lencds, 0)\n",
    "qc_df$ReadspUMI[5] <- round(summaryreads[5]/sum(p3d_cds@assays$RNA@counts), 1)\n",
    "qc_df$SeqSat.pct[5] <- summarysat[5] * 100\n",
    "\n",
    "qc_df$MT.lt.5.pct[5] <- round(100 * sum(p3d_cds$percent.mt < 5)/lencds, 1)\n",
    "qc_df$MT.lt.10.pct[5] <- round(100 * sum(p3d_cds$percent.mt < 10)/lencds, 1)\n",
    "qc_df$pct.Genes.gt.200[5] <- round(100 * sum(p3d_cds$nFeature_RNA > 200)/lencds, 1)\n",
    "qc_df$pct.Genes.lt.2500[5] <- round(100 * sum(p3d_cds$nFeature_RNA < 2500)/lencds, 1)\n",
    "qc_df$pct.Genes.lt.4000[5] <- round(100 * sum(p3d_cds$nFeature_RNA < 4000)/lencds, 1)\n",
    "\n",
    "##----------------\n",
    "\n",
    "lencds <- length(p3h_cds$nFeature_RNA)\n",
    "qc_df$Sample[6] <- \"Patient 3 Healthy\"\n",
    "qc_df$N.Cells[6] <- lencds\n",
    "qc_df$MedGenepCell[6] <- round(median(p3h_cds$nFeature_RNA),0)\n",
    "qc_df$MedUMIspCell[6] <- round(median(colSums(p3h_cds@assays$RNA@counts)), 0)\n",
    "\n",
    "qc_df$MeanReadspCell[6] <- round(summaryreads[6]/lencds, 0)\n",
    "qc_df$ReadspUMI[6] <- round(summaryreads[6]/sum(p3h_cds@assays$RNA@counts), 1)\n",
    "qc_df$SeqSat.pct[6] <- summarysat[6] * 100\n",
    "\n",
    "qc_df$MT.lt.5.pct[6] <- round(100 * sum(p3h_cds$percent.mt < 5)/lencds, 1)\n",
    "qc_df$MT.lt.10.pct[6] <- round(100 * sum(p3h_cds$percent.mt < 10)/lencds, 1)\n",
    "qc_df$pct.Genes.gt.200[6] <- round(100 * sum(p3h_cds$nFeature_RNA > 200)/lencds, 1)\n",
    "qc_df$pct.Genes.lt.2500[6] <- round(100 * sum(p3h_cds$nFeature_RNA < 2500)/lencds, 1)\n",
    "qc_df$pct.Genes.lt.4000[6] <- round(100 * sum(p3h_cds$nFeature_RNA < 4000)/lencds, 1)"
   ]
  },
  {
   "cell_type": "code",
   "execution_count": 13,
   "metadata": {},
   "outputs": [
    {
     "data": {
      "text/html": [
       "<table>\n",
       "<caption>A data.frame: 6 × 12</caption>\n",
       "<thead>\n",
       "\t<tr><th scope=col>Sample</th><th scope=col>N.Cells</th><th scope=col>MedGenepCell</th><th scope=col>MedUMIspCell</th><th scope=col>MeanReadspCell</th><th scope=col>ReadspUMI</th><th scope=col>SeqSat.pct</th><th scope=col>MT.lt.5.pct</th><th scope=col>MT.lt.10.pct</th><th scope=col>pct.Genes.gt.200</th><th scope=col>pct.Genes.lt.2500</th><th scope=col>pct.Genes.lt.4000</th></tr>\n",
       "\t<tr><th scope=col>&lt;chr&gt;</th><th scope=col>&lt;dbl&gt;</th><th scope=col>&lt;dbl&gt;</th><th scope=col>&lt;dbl&gt;</th><th scope=col>&lt;dbl&gt;</th><th scope=col>&lt;dbl&gt;</th><th scope=col>&lt;dbl&gt;</th><th scope=col>&lt;dbl&gt;</th><th scope=col>&lt;dbl&gt;</th><th scope=col>&lt;dbl&gt;</th><th scope=col>&lt;dbl&gt;</th><th scope=col>&lt;dbl&gt;</th></tr>\n",
       "</thead>\n",
       "<tbody>\n",
       "\t<tr><td>Patient 1 Diseased</td><td>11015</td><td>1667</td><td>5162</td><td>24791</td><td> 3.7</td><td>60.3</td><td>86.0</td><td>93.7</td><td>99.7</td><td>78.9</td><td>98.5</td></tr>\n",
       "\t<tr><td>Patient 1 Healthy </td><td> 3716</td><td>1968</td><td>6016</td><td>63202</td><td> 9.9</td><td>83.4</td><td>70.7</td><td>84.1</td><td>97.7</td><td>75.0</td><td>99.3</td></tr>\n",
       "\t<tr><td>Patient 2 Diseased</td><td>15960</td><td>1204</td><td>3388</td><td>15458</td><td> 2.8</td><td>42.1</td><td>67.5</td><td>89.6</td><td>99.8</td><td>86.6</td><td>99.1</td></tr>\n",
       "\t<tr><td>Patient 2 Healthy </td><td> 5523</td><td>1466</td><td>4805</td><td>57131</td><td> 8.6</td><td>81.2</td><td>66.9</td><td>89.5</td><td>99.7</td><td>82.4</td><td>99.2</td></tr>\n",
       "\t<tr><td>Patient 3 Diseased</td><td>12388</td><td>1557</td><td>4566</td><td>20365</td><td> 3.3</td><td>46.4</td><td>63.9</td><td>87.2</td><td>99.6</td><td>76.5</td><td>97.3</td></tr>\n",
       "\t<tr><td>Patient 3 Healthy </td><td> 3379</td><td>2213</td><td>6994</td><td>80123</td><td>10.9</td><td>84.1</td><td>69.4</td><td>85.6</td><td>99.0</td><td>60.1</td><td>97.6</td></tr>\n",
       "</tbody>\n",
       "</table>\n"
      ],
      "text/latex": [
       "A data.frame: 6 × 12\n",
       "\\begin{tabular}{llllllllllll}\n",
       " Sample & N.Cells & MedGenepCell & MedUMIspCell & MeanReadspCell & ReadspUMI & SeqSat.pct & MT.lt.5.pct & MT.lt.10.pct & pct.Genes.gt.200 & pct.Genes.lt.2500 & pct.Genes.lt.4000\\\\\n",
       " <chr> & <dbl> & <dbl> & <dbl> & <dbl> & <dbl> & <dbl> & <dbl> & <dbl> & <dbl> & <dbl> & <dbl>\\\\\n",
       "\\hline\n",
       "\t Patient 1 Diseased & 11015 & 1667 & 5162 & 24791 &  3.7 & 60.3 & 86.0 & 93.7 & 99.7 & 78.9 & 98.5\\\\\n",
       "\t Patient 1 Healthy  &  3716 & 1968 & 6016 & 63202 &  9.9 & 83.4 & 70.7 & 84.1 & 97.7 & 75.0 & 99.3\\\\\n",
       "\t Patient 2 Diseased & 15960 & 1204 & 3388 & 15458 &  2.8 & 42.1 & 67.5 & 89.6 & 99.8 & 86.6 & 99.1\\\\\n",
       "\t Patient 2 Healthy  &  5523 & 1466 & 4805 & 57131 &  8.6 & 81.2 & 66.9 & 89.5 & 99.7 & 82.4 & 99.2\\\\\n",
       "\t Patient 3 Diseased & 12388 & 1557 & 4566 & 20365 &  3.3 & 46.4 & 63.9 & 87.2 & 99.6 & 76.5 & 97.3\\\\\n",
       "\t Patient 3 Healthy  &  3379 & 2213 & 6994 & 80123 & 10.9 & 84.1 & 69.4 & 85.6 & 99.0 & 60.1 & 97.6\\\\\n",
       "\\end{tabular}\n"
      ],
      "text/markdown": [
       "\n",
       "A data.frame: 6 × 12\n",
       "\n",
       "| Sample &lt;chr&gt; | N.Cells &lt;dbl&gt; | MedGenepCell &lt;dbl&gt; | MedUMIspCell &lt;dbl&gt; | MeanReadspCell &lt;dbl&gt; | ReadspUMI &lt;dbl&gt; | SeqSat.pct &lt;dbl&gt; | MT.lt.5.pct &lt;dbl&gt; | MT.lt.10.pct &lt;dbl&gt; | pct.Genes.gt.200 &lt;dbl&gt; | pct.Genes.lt.2500 &lt;dbl&gt; | pct.Genes.lt.4000 &lt;dbl&gt; |\n",
       "|---|---|---|---|---|---|---|---|---|---|---|---|\n",
       "| Patient 1 Diseased | 11015 | 1667 | 5162 | 24791 |  3.7 | 60.3 | 86.0 | 93.7 | 99.7 | 78.9 | 98.5 |\n",
       "| Patient 1 Healthy  |  3716 | 1968 | 6016 | 63202 |  9.9 | 83.4 | 70.7 | 84.1 | 97.7 | 75.0 | 99.3 |\n",
       "| Patient 2 Diseased | 15960 | 1204 | 3388 | 15458 |  2.8 | 42.1 | 67.5 | 89.6 | 99.8 | 86.6 | 99.1 |\n",
       "| Patient 2 Healthy  |  5523 | 1466 | 4805 | 57131 |  8.6 | 81.2 | 66.9 | 89.5 | 99.7 | 82.4 | 99.2 |\n",
       "| Patient 3 Diseased | 12388 | 1557 | 4566 | 20365 |  3.3 | 46.4 | 63.9 | 87.2 | 99.6 | 76.5 | 97.3 |\n",
       "| Patient 3 Healthy  |  3379 | 2213 | 6994 | 80123 | 10.9 | 84.1 | 69.4 | 85.6 | 99.0 | 60.1 | 97.6 |\n",
       "\n"
      ],
      "text/plain": [
       "  Sample             N.Cells MedGenepCell MedUMIspCell MeanReadspCell ReadspUMI\n",
       "1 Patient 1 Diseased 11015   1667         5162         24791           3.7     \n",
       "2 Patient 1 Healthy   3716   1968         6016         63202           9.9     \n",
       "3 Patient 2 Diseased 15960   1204         3388         15458           2.8     \n",
       "4 Patient 2 Healthy   5523   1466         4805         57131           8.6     \n",
       "5 Patient 3 Diseased 12388   1557         4566         20365           3.3     \n",
       "6 Patient 3 Healthy   3379   2213         6994         80123          10.9     \n",
       "  SeqSat.pct MT.lt.5.pct MT.lt.10.pct pct.Genes.gt.200 pct.Genes.lt.2500\n",
       "1 60.3       86.0        93.7         99.7             78.9             \n",
       "2 83.4       70.7        84.1         97.7             75.0             \n",
       "3 42.1       67.5        89.6         99.8             86.6             \n",
       "4 81.2       66.9        89.5         99.7             82.4             \n",
       "5 46.4       63.9        87.2         99.6             76.5             \n",
       "6 84.1       69.4        85.6         99.0             60.1             \n",
       "  pct.Genes.lt.4000\n",
       "1 98.5             \n",
       "2 99.3             \n",
       "3 99.1             \n",
       "4 99.2             \n",
       "5 97.3             \n",
       "6 97.6             "
      ]
     },
     "metadata": {},
     "output_type": "display_data"
    }
   ],
   "source": [
    "qc_df"
   ]
  },
  {
   "cell_type": "code",
   "execution_count": null,
   "metadata": {},
   "outputs": [],
   "source": []
  },
  {
   "cell_type": "code",
   "execution_count": 14,
   "metadata": {},
   "outputs": [
    {
     "data": {
      "text/html": [
       "'/gpfs/group/torkamani/devans/CDC2/inputdat/'"
      ],
      "text/latex": [
       "'/gpfs/group/torkamani/devans/CDC2/inputdat/'"
      ],
      "text/markdown": [
       "'/gpfs/group/torkamani/devans/CDC2/inputdat/'"
      ],
      "text/plain": [
       "[1] \"/gpfs/group/torkamani/devans/CDC2/inputdat/\""
      ]
     },
     "metadata": {},
     "output_type": "display_data"
    }
   ],
   "source": [
    "paste(getwd(), ps$indir, sep = '/')"
   ]
  },
  {
   "cell_type": "code",
   "execution_count": 15,
   "metadata": {},
   "outputs": [],
   "source": [
    "## Read all the aggregated data into a Monocle cds object\n",
    "stdycds <- load_cellranger_data(ps$indir)"
   ]
  },
  {
   "cell_type": "code",
   "execution_count": 17,
   "metadata": {},
   "outputs": [],
   "source": [
    "## Set up the gene annotation object for later use\n",
    "gene_annot <- fData(stdycds)@listData$gene_short_name\n",
    "names(gene_annot) <- rownames(stdycds)\n",
    "gene_annot <- as.data.frame(gene_annot)\n",
    "colnames(gene_annot) <- 'gene_short_name'"
   ]
  },
  {
   "cell_type": "code",
   "execution_count": 18,
   "metadata": {},
   "outputs": [
    {
     "name": "stdout",
     "output_type": "stream",
     "text": [
      "'data.frame':\t33538 obs. of  1 variable:\n",
      " $ gene_short_name: Factor w/ 33514 levels \"A1BG\",\"A1BG-AS1\",..: 22768 15766 24588 9683 9685 9684 9686 9793 24585 5853 ...\n"
     ]
    }
   ],
   "source": [
    "str(gene_annot)"
   ]
  },
  {
   "cell_type": "code",
   "execution_count": 18,
   "metadata": {},
   "outputs": [],
   "source": [
    "## Associate the cells with disease/healthy status and patient ID (set up)\n",
    "cellgrps <- c('healthy', 'diseased', 'healthy', 'diseased', 'healthy', 'diseased')\n",
    "cellpats <- c('ID Number 1', 'ID Number 1', 'ID Number 2', 'ID Number 2', 'ID Number 3', 'ID Number 3')"
   ]
  },
  {
   "cell_type": "code",
   "execution_count": 19,
   "metadata": {},
   "outputs": [],
   "source": [
    "## Set up the patient and health columns\n",
    "stdycds@colData$condition <- cellgrps[as.integer(substr(stdycds@colData@rownames, 18, 20))]\n",
    "stdycds@colData$patient <- cellpats[as.integer(substr(stdycds@colData@rownames, 18, 20))]"
   ]
  },
  {
   "cell_type": "code",
   "execution_count": 20,
   "metadata": {},
   "outputs": [],
   "source": [
    "## Save the unfiltered cds object\n",
    "stdycdsall <- stdycds"
   ]
  },
  {
   "cell_type": "code",
   "execution_count": 21,
   "metadata": {},
   "outputs": [],
   "source": [
    "## Build a gene short name to gene id (Ensembl) lookup\n",
    "short2geneid <- fData(stdycdsall)@rownames\n",
    "names(short2geneid) <- fData(stdycdsall)@listData$gene_short_name"
   ]
  },
  {
   "cell_type": "code",
   "execution_count": 22,
   "metadata": {},
   "outputs": [],
   "source": [
    "## Build a gene id (Ensembl) to gene short name lookup\n",
    "geneid2short <- fData(stdycdsall)@listData$gene_short_name\n",
    "names(geneid2short) <- fData(stdycdsall)@rownames"
   ]
  },
  {
   "cell_type": "code",
   "execution_count": 28,
   "metadata": {},
   "outputs": [
    {
     "name": "stdout",
     "output_type": "stream",
     "text": [
      "[1] 33538 11015 10331 10876 10967 10273\n",
      "[1] 33538  3716  3112  3471  3713  3104\n",
      "[1] 33538 15960 14296 15923 15822 14157\n",
      "[1] 33538  5523  4931  5420  5512  4896\n",
      "[1] 33538 12388 10806 12322 12138 10556\n",
      "[1] 33538  3379  2882  3255  3372  2850\n"
     ]
    }
   ],
   "source": [
    "filtcells <- NULL\n",
    "for (i in 1:length(cellpats)) {\n",
    "    patid <- cellpats[i]\n",
    "    ## Flip the order of the disease/healthy to match single sample ordering\n",
    "    condid <- c('diseased', 'healthy', 'diseased', 'healthy', 'diseased', 'healthy')[i]\n",
    "    selbars <-  stdycds@colData@rownames[(stdycds@colData$patient == patid) &\n",
    "                                         (stdycds@colData$condition == condid)]\n",
    "    ## Try creating a Seurat object from the sample data from Monocle\n",
    "    sam_seu <- CreateSeuratObject(counts = exprs(stdycds[,selbars]), project = '',\n",
    "                                         min.cells = 0, min.features = 0)\n",
    "    # Fix the gene names (from Ensembl to HUGE). Probably not needed for final pipeliine\n",
    "    sam_seu@assays$RNA@counts@Dimnames[1] <- list(fData(stdycds)@listData$gene_short_name)\n",
    "    sam_seu@assays$RNA@data@Dimnames[1] <- list(fData(stdycds)@listData$gene_short_name)\n",
    "    \n",
    "    # The [[ operator can add columns to object metadata. This is a great place to stash QC stats\n",
    "    sam_seu[[\"percent.mt\"]] <- PercentageFeatureSet(sam_seu, pattern = \"^MT-\")    \n",
    "    bars <- selbars[(sam_seu$percent.mt < 10) & (sam_seu$nFeature_RNA > 200) & (sam_seu$nFeature_RNA < 4000)]\n",
    "    filtcells <- c(filtcells, bars)\n",
    "    print(c(dim(sam_seu), sum(sam_seu$percent.mt < 10), sum(sam_seu$nFeature_RNA > 200),\n",
    "        sum(sam_seu$nFeature_RNA < 4000),\n",
    "        sum((sam_seu$percent.mt < 10) & (sam_seu$nFeature_RNA > 200) & (sam_seu$nFeature_RNA < 4000))))\n",
    "}"
   ]
  },
  {
   "cell_type": "code",
   "execution_count": 28,
   "metadata": {},
   "outputs": [],
   "source": [
    "## Write the filtered barcode out\n",
    "filtbarfile <- paste(ps$outdir, 'AggregateLevelQCFilterCells.Rev1.txt', sep = '')\n",
    "write.table(filtcells, file = filtbarfile, append = FALSE,\n",
    "            quote = FALSE, row.names = FALSE, col.names = FALSE)"
   ]
  },
  {
   "cell_type": "code",
   "execution_count": 29,
   "metadata": {},
   "outputs": [],
   "source": [
    "## Create the QC Monocle Cell Set Object\n",
    "stdycds <- stdycds[,filtcells]"
   ]
  },
  {
   "cell_type": "code",
   "execution_count": 30,
   "metadata": {},
   "outputs": [
    {
     "data": {
      "text/html": [
       "2850"
      ],
      "text/latex": [
       "2850"
      ],
      "text/markdown": [
       "2850"
      ],
      "text/plain": [
       "[1] 2850"
      ]
     },
     "metadata": {},
     "output_type": "display_data"
    }
   ],
   "source": [
    "## Prepare for downsample to small cell set from set of 6 cell groups\n",
    "mincellcount <- min(table(substr(colnames(exprs(stdycds)), 18, 18)))\n",
    "barcodes <- colnames(exprs(stdycds))\n",
    "cellgroups <- substr(barcodes, 18, 18)\n",
    "mincellcount"
   ]
  },
  {
   "cell_type": "code",
   "execution_count": 32,
   "metadata": {},
   "outputs": [],
   "source": [
    "## Get the barcodes from downsampled expression data\n",
    "set.seed(301)\n",
    "subcellset <- NULL\n",
    "for (cellgroup in 1:length(table(substr(barcodes, 18, 18)))) {\n",
    "    samplegroup <- sample(barcodes[cellgroups == cellgroup], mincellcount, replace = FALSE)\n",
    "    subcellset <- cbind(subcellset, samplegroup)\n",
    "}"
   ]
  },
  {
   "cell_type": "code",
   "execution_count": 33,
   "metadata": {},
   "outputs": [],
   "source": [
    "# Subset the expression data based on the downsampled barcodes\n",
    "boolscs <- barcodes %in% subcellset\n",
    "downsampled_expression_data <- exprs(stdycds)[, boolscs]"
   ]
  },
  {
   "cell_type": "code",
   "execution_count": 34,
   "metadata": {},
   "outputs": [],
   "source": [
    "## Create the new downsampled dataset (Monocle)\n",
    "down_stdycds <- new_cell_data_set(downsampled_expression_data,\n",
    "                         gene_metadata = gene_annot)"
   ]
  },
  {
   "cell_type": "code",
   "execution_count": 35,
   "metadata": {},
   "outputs": [
    {
     "data": {
      "text/html": [
       "<ol class=list-inline>\n",
       "\t<li>33538</li>\n",
       "\t<li>17100</li>\n",
       "</ol>\n"
      ],
      "text/latex": [
       "\\begin{enumerate*}\n",
       "\\item 33538\n",
       "\\item 17100\n",
       "\\end{enumerate*}\n"
      ],
      "text/markdown": [
       "1. 33538\n",
       "2. 17100\n",
       "\n",
       "\n"
      ],
      "text/plain": [
       "[1] 33538 17100"
      ]
     },
     "metadata": {},
     "output_type": "display_data"
    }
   ],
   "source": [
    "dim(down_stdycds)"
   ]
  },
  {
   "cell_type": "code",
   "execution_count": 26,
   "metadata": {},
   "outputs": [],
   "source": [
    "## Remove zero expressing genes from the cell set\n",
    "gsums <- rowSums(exprs(down_stdycds))\n",
    "down_stdycds <- down_stdycds[(gsums !=0), ]"
   ]
  },
  {
   "cell_type": "code",
   "execution_count": 27,
   "metadata": {},
   "outputs": [],
   "source": [
    "## Set up the patient and health columns in down sampled cell set\n",
    "down_stdycds@colData$condition <- cellgrps[as.integer(substr(down_stdycds@colData@rownames, 18, 20))]\n",
    "down_stdycds@colData$patient <- cellpats[as.integer(substr(down_stdycds@colData@rownames, 18, 20))]"
   ]
  },
  {
   "cell_type": "code",
   "execution_count": 28,
   "metadata": {},
   "outputs": [],
   "source": [
    "## Process the data, without and with patient correction\n",
    "down_stdycds = preprocess_cds(down_stdycds, num_dim = 100)"
   ]
  },
  {
   "cell_type": "code",
   "execution_count": 29,
   "metadata": {},
   "outputs": [],
   "source": [
    "## Get the UMAP components (2)\n",
    "down_stdycds <- reduce_dimension(down_stdycds, reduction_method = \"UMAP\")"
   ]
  },
  {
   "cell_type": "code",
   "execution_count": 30,
   "metadata": {},
   "outputs": [],
   "source": [
    "## Cluster and Partition the data\n",
    "down_stdycds <- cluster_cells(down_stdycds, reduction_method = 'UMAP')"
   ]
  },
  {
   "cell_type": "code",
   "execution_count": 31,
   "metadata": {},
   "outputs": [],
   "source": [
    "## Define and Assign Cell Types\n",
    "celltypes5 <- c('1-Unidentified',\n",
    "                '2-Macrophages',\n",
    "                '3-Endothelial Cells - (a)',\n",
    "                '4-Lymphoid Progenitors',\n",
    "                '5-VSMCs - Contractile',\n",
    "                '6-Endothelial Cells - (b)',\n",
    "                '7-VSMCs - Synthetic',\n",
    "                '8-Natural Killer Cells',\n",
    "                '9-Cytotoxic T Lymphocytes',\n",
    "                '10-B Lymphocytes',\n",
    "                '11-T lymphocytes',\n",
    "                '12-Plasmacytoid Dendritic Cells',\n",
    "                '13-B1 Lymphocytes',\n",
    "                '14-Neutrophils',\n",
    "                '15-Mast Cells')"
   ]
  },
  {
   "cell_type": "code",
   "execution_count": 32,
   "metadata": {},
   "outputs": [],
   "source": [
    "## Store the annotated cell type in the cell data object\n",
    "colData(down_stdycds)$assigned_cell_type <- as.character(partitions(down_stdycds))\n",
    "colData(down_stdycds)$assigned_cell_type = dplyr::recode(colData(down_stdycds)$assigned_cell_type,\n",
    "                                                \"1\"  = celltypes5[1],\n",
    "                                                \"2\"  = celltypes5[2],\n",
    "                                                \"3\"  = celltypes5[3],\n",
    "                                                \"4\"  = celltypes5[4],\n",
    "                                                \"5\"  = celltypes5[5],\n",
    "                                                \"6\"  = celltypes5[6],\n",
    "                                                \"7\"  = celltypes5[7],\n",
    "                                                \"8\"  = celltypes5[8],\n",
    "                                                \"9\"  = celltypes5[9],\n",
    "                                                \"10\" = celltypes5[10],\n",
    "                                                \"11\" = celltypes5[11],\n",
    "                                                \"12\" = celltypes5[12],\n",
    "                                                \"13\" = celltypes5[13],\n",
    "                                                \"14\" = celltypes5[14],\n",
    "                                                \"15\" = celltypes5[15])"
   ]
  },
  {
   "cell_type": "code",
   "execution_count": 33,
   "metadata": {},
   "outputs": [],
   "source": [
    "toms_markers5 <- c('NRXN1', 'CLU', 'ICAM2',\n",
    "                 'CD14', 'CD68', 'AIF1',\n",
    "                 'VWF', 'EDN1', 'ECSCR',\n",
    "                 'MKI67', 'UBE2C', 'TOP2A',\n",
    "                 'ACTA2', 'TAGLN', 'MYL9',\n",
    "                 'ACKR1', 'SPARCL1', 'PECAM1',\n",
    "                 'CALD1', 'MGP', 'DCN',\n",
    "                 'NKG7', 'XCL1', 'CTSW',\n",
    "                 'CD8A', 'TRAC', 'CD2',\n",
    "                 'MS4A1', 'CD79A', 'BANK1',\n",
    "                 'CD69', 'CXCR4', 'IL7R',\n",
    "                 'LILRA4', 'IRF7', 'CLEC4C',\n",
    "                 'MZB1', 'JCHAIN', 'TNFRSF17',\n",
    "                 'LST1', 'FCGR3B', 'S100A8',\n",
    "                 'TPSAB1', 'CPA3', 'MS4A2')\n",
    "toms_gene_ids5 <- short2geneid[toms_markers5]"
   ]
  },
  {
   "cell_type": "code",
   "execution_count": 34,
   "metadata": {},
   "outputs": [],
   "source": [
    "## Create partition gene lists (3 genes per partition)\n",
    "i <- 1\n",
    "part_genes <- NULL\n",
    "while (i < length(toms_markers5)) {\n",
    "    part_genes <- c(list(toms_markers5[i:(i + 2)]), part_genes)\n",
    "    i <- i + 3\n",
    "}"
   ]
  },
  {
   "cell_type": "code",
   "execution_count": 35,
   "metadata": {},
   "outputs": [],
   "source": [
    "## Store the annotated partition genes in the cell data object\n",
    "colData(down_stdycds)$assigned_genes <- as.character(partitions(down_stdycds))\n",
    "colData(down_stdycds)$assigned_genes = dplyr::recode(colData(down_stdycds)$assigned_genes,\n",
    "                                                \"1\"  = part_genes[1],\n",
    "                                                \"2\"  = part_genes[2],\n",
    "                                                \"3\"  = part_genes[3],\n",
    "                                                \"4\"  = part_genes[4],\n",
    "                                                \"5\"  = part_genes[5],\n",
    "                                                \"6\"  = part_genes[6],\n",
    "                                                \"7\"  = part_genes[7],\n",
    "                                                \"8\"  = part_genes[8],\n",
    "                                                \"9\"  = part_genes[9],\n",
    "                                                \"10\" = part_genes[10],\n",
    "                                                \"11\" = part_genes[11],\n",
    "                                                \"12\" = part_genes[12],\n",
    "                                                \"13\" = part_genes[13],\n",
    "                                                \"14\" = part_genes[14],\n",
    "                                                \"15\" = part_genes[15])"
   ]
  },
  {
   "cell_type": "code",
   "execution_count": 36,
   "metadata": {},
   "outputs": [],
   "source": [
    "# Save an object to a file i(CDS1 in outline)\n",
    "saveRDS(down_stdycds, file = paste(ps$outdir, 'Aggregated.downsampled.QC.Preprocessed.rds', sep = ''))"
   ]
  },
  {
   "cell_type": "code",
   "execution_count": 37,
   "metadata": {},
   "outputs": [],
   "source": [
    "## Get a boolean selector for cells based on quality\n",
    "filtbool <- stdycdsall@colData@rownames %in% filtcells"
   ]
  },
  {
   "cell_type": "code",
   "execution_count": 38,
   "metadata": {},
   "outputs": [],
   "source": [
    "## Tag the good and bad cells (based on QC)\n",
    "stdycdsall@colData$state[filtbool] <- 'Good'\n",
    "stdycdsall@colData$state[!filtbool] <- 'Fail QC'"
   ]
  },
  {
   "cell_type": "code",
   "execution_count": 39,
   "metadata": {},
   "outputs": [],
   "source": [
    "## Preprocess the cells so they can be plotted\n",
    "stdycdsall = preprocess_cds(stdycdsall, num_dim = 100)"
   ]
  },
  {
   "cell_type": "code",
   "execution_count": 40,
   "metadata": {},
   "outputs": [],
   "source": [
    "## Get the UMAP components so they can be plotted\n",
    "stdycdsall <- reduce_dimension(stdycdsall, reduction_method = 'UMAP')"
   ]
  },
  {
   "cell_type": "code",
   "execution_count": 41,
   "metadata": {},
   "outputs": [],
   "source": [
    "## Cluster and Partition the cells so they can be plotted\n",
    "stdycdsall <- cluster_cells(stdycdsall, reduction_method = 'UMAP')"
   ]
  },
  {
   "cell_type": "code",
   "execution_count": 42,
   "metadata": {},
   "outputs": [],
   "source": [
    "## Write the full dataset, showing which cells failed QC\n",
    "plotfile <- 'Aggregated.Allcells.Partitions.ColorizedbyQC.Rev1.pdf'\n",
    "plotfp <- paste(ps$outdir, plotfile, sep = '')"
   ]
  },
  {
   "cell_type": "code",
   "execution_count": 43,
   "metadata": {},
   "outputs": [
    {
     "data": {
      "text/html": [
       "<strong>png:</strong> 2"
      ],
      "text/latex": [
       "\\textbf{png:} 2"
      ],
      "text/markdown": [
       "**png:** 2"
      ],
      "text/plain": [
       "png \n",
       "  2 "
      ]
     },
     "metadata": {},
     "output_type": "display_data"
    }
   ],
   "source": [
    "pdf(plotfp, width = 8, height = 6)\n",
    "gtop3 <- plot_cells(stdycdsall, color_cells_by = \"state\", group_cells_by=\"partition\",\n",
    "            show_trajectory_graph = FALSE, reduction_method = \"UMAP\", cell_size = 0.1,\n",
    "            label_cell_groups = FALSE, alpha = .4)\n",
    "gtop3\n",
    "dev.off()"
   ]
  },
  {
   "cell_type": "code",
   "execution_count": 44,
   "metadata": {},
   "outputs": [
    {
     "name": "stdout",
     "output_type": "stream",
     "text": [
      " [1] \"1-Unidentified\"                  \"2-Macrophages\"                  \n",
      " [3] \"3-Endothelial Cells - (a)\"       \"4-Lymphoid Progenitors\"         \n",
      " [5] \"5-VSMCs - Contractile\"           \"6-Endothelial Cells - (b)\"      \n",
      " [7] \"7-VSMCs - Synthetic\"             \"8-Natural Killer Cells\"         \n",
      " [9] \"9-Cytotoxic T Lymphocytes\"       \"10-B Lymphocytes\"               \n",
      "[11] \"11-T lymphocytes\"                \"12-Plasmacytoid Dendritic Cells\"\n",
      "[13] \"13-B1 Lymphocytes\"               \"14-Neutrophils\"                 \n",
      "[15] \"15-Mast Cells\"                  \n"
     ]
    }
   ],
   "source": [
    "print(celltypes5)"
   ]
  },
  {
   "cell_type": "code",
   "execution_count": null,
   "metadata": {},
   "outputs": [],
   "source": []
  }
 ],
 "metadata": {
  "kernelspec": {
   "display_name": "R",
   "language": "R",
   "name": "ir"
  },
  "language_info": {
   "codemirror_mode": "r",
   "file_extension": ".r",
   "mimetype": "text/x-r-source",
   "name": "R",
   "pygments_lexer": "r",
   "version": "4.0.0"
  }
 },
 "nbformat": 4,
 "nbformat_minor": 4
}
