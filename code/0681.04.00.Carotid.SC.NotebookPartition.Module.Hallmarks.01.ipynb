{
 "cells": [
  {
   "cell_type": "code",
   "execution_count": 60,
   "metadata": {},
   "outputs": [],
   "source": [
    "## ---- Partition Cell Set Network Heatmap Module Analysis ---- 0681.04.00\n",
    "## Load Analysis Parameters (Parm1)\n",
    "## Load Network Utilities\n",
    "## Loop Through Each Partition and Perform Analysis as Follows:\n",
    "## Load Partition Cell Set\n",
    "## Plot Module Gene Heatmaps, Amended fro 0681.01.00 to Address Nature Review Comments\n",
    "## Formalized Heatmap Differianl Express Analysis as Started in 0681.03.00"
   ]
  },
  {
   "cell_type": "code",
   "execution_count": 61,
   "metadata": {},
   "outputs": [],
   "source": [
    "## Create a Working Input and Output Data Directory, If Id Does Not Exist\n",
    "parentdir <- '/gpfs/group/torkamani/devans/'\n",
    "datdir <- paste(parentdir, 'CDC2', sep = '')\n",
    "if (!file.exists(datdir)) {\n",
    "    dir.create(datdir)\n",
    "}\n",
    "setwd(datdir)"
   ]
  },
  {
   "cell_type": "code",
   "execution_count": 62,
   "metadata": {},
   "outputs": [],
   "source": [
    "## Read the parameters file\n",
    "ps <- read.table(file = 'parms.txt', stringsAsFactors = FALSE, header = TRUE)"
   ]
  },
  {
   "cell_type": "code",
   "execution_count": 63,
   "metadata": {},
   "outputs": [],
   "source": [
    "## Load Monocle3 and Seurat Libraries\n",
    "library(monocle3)\n",
    "library(Seurat)\n",
    "library(dplyr)\n",
    "library(magrittr)\n",
    "library(ggplot2)\n",
    "library(gridExtra)\n",
    "library(Matrix)\n",
    "library(rhdf5)\n",
    "library(grid)\n",
    "library(igraph)\n",
    "library(corpcor)\n",
    "library(fdrtool)\n",
    "library(readxl)\n",
    "library(mixOmics)\n",
    "# library(DESeq2)"
   ]
  },
  {
   "cell_type": "code",
   "execution_count": 64,
   "metadata": {},
   "outputs": [],
   "source": [
    "## Load modified version of Monocle 3 dot plot (adds as.ordered type)\n",
    "source('~/code/CSC.Run2/0700.00.00.Carotid.SC.Utilities.01.r')"
   ]
  },
  {
   "cell_type": "code",
   "execution_count": 65,
   "metadata": {},
   "outputs": [],
   "source": [
    "## Read the previously preprocessed downsampled cell set data object\n",
    "down_stdycds <- readRDS(file = paste(ps$outdir,\n",
    "            'Aggregated.downsampled.QC.NoDoublets.Repartitioned.rds', sep = ''))"
   ]
  },
  {
   "cell_type": "code",
   "execution_count": 66,
   "metadata": {},
   "outputs": [],
   "source": [
    "## Build a gene short name to gene id (Ensembl) lookup\n",
    "short2geneid <- fData(down_stdycds)@rownames\n",
    "names(short2geneid) <- fData(down_stdycds)@listData$gene_short_name"
   ]
  },
  {
   "cell_type": "code",
   "execution_count": 67,
   "metadata": {},
   "outputs": [],
   "source": [
    "## Build a gene id (Ensembl) to gene short name lookup\n",
    "geneid2short <- fData(down_stdycds)@listData$gene_short_name\n",
    "names(geneid2short) <- fData(down_stdycds)@rownames"
   ]
  },
  {
   "cell_type": "code",
   "execution_count": 68,
   "metadata": {},
   "outputs": [],
   "source": [
    "## Create variables for how cells sets are organized\n",
    "cellgrps <- c('healthy', 'diseased', 'healthy', 'diseased', 'healthy', 'diseased')\n",
    "cellpats <- c('ID Number 1', 'ID Number 1', 'ID Number 2', 'ID Number 2', 'ID Number 3', 'ID Number 3')"
   ]
  },
  {
   "cell_type": "code",
   "execution_count": 69,
   "metadata": {},
   "outputs": [],
   "source": [
    "## Define and Assign Cell Types\n",
    "celltypes6 <- c('1-Macrophages',\n",
    "                '2-Endothelial Cells',\n",
    "                '3-VSMCs',\n",
    "                '4-Natural Killer Cells',\n",
    "                '5-Cytotoxic T Lymphocytes',\n",
    "                '6-B Lymphocytes')"
   ]
  },
  {
   "cell_type": "code",
   "execution_count": 70,
   "metadata": {},
   "outputs": [],
   "source": [
    "## Get the pairs of module genes from EC (1 and 36) and VSCM (13 and 31) networks\n",
    "## Set the q-value Cutoff\n",
    "diff_exp_qval_cut <- 0.05\n",
    "## EC Genes First\n",
    "ec_netmod_file <- paste(datdir, '/', ps$outdir, celltypes6[2],\n",
    "                          '/Dense.20k.Network.Module.Genes.Rev1.txt', sep = '')\n",
    "ec_netmod <- read.table(ec_netmod_file, header = TRUE, sep = '\\t',\n",
    "                          stringsAsFactors = FALSE, quote = '')[, c(1, 3:9)]\n",
    "ec_modgenes1 <- ec_netmod %>% filter(de_qval < diff_exp_qval_cut) %>% \n",
    "                              filter(module_id == 1) %>% \n",
    "                              dplyr::select(gene_short_name, de_norm_eff, de_qval)\n",
    "ec_modgenes2 <- ec_netmod %>% filter(de_qval < diff_exp_qval_cut) %>% \n",
    "                              filter(module_id == 2) %>% \n",
    "                              dplyr::select(gene_short_name, de_norm_eff, de_qval)\n",
    "ec_modgenes6 <- ec_netmod %>% filter(de_qval < diff_exp_qval_cut) %>% \n",
    "                              filter(module_id == 6) %>% \n",
    "                              dplyr::select(gene_short_name, de_norm_eff, de_qval)\n",
    "ec_modgenes35 <- ec_netmod %>% filter(de_qval < diff_exp_qval_cut) %>% \n",
    "                              filter(module_id == 35) %>% \n",
    "                              dplyr::select(gene_short_name, de_norm_eff, de_qval)\n",
    "ec_modgenes36 <- ec_netmod %>% filter(de_qval < diff_exp_qval_cut) %>% \n",
    "                              filter(module_id == 36) %>% \n",
    "                              dplyr::select(gene_short_name, de_norm_eff, de_qval)\n",
    "\n",
    "ec_modgenes1_ids <- short2geneid[ec_modgenes1$gene_short_name]\n",
    "ec_modgenes36_ids <- short2geneid[ec_modgenes36$gene_short_name]\n",
    "\n",
    "ec_modgenes_1_36 <- c(ec_modgenes1$gene_short_name,\n",
    "                      ec_modgenes36$gene_short_name)\n",
    "ec_modgenes_1_36_ids <- short2geneid[ec_modgenes_1_36]\n",
    "\n",
    "ec_modgenes_1_35_36 <- c(ec_modgenes1$gene_short_name,\n",
    "                         ec_modgenes35$gene_short_name,\n",
    "                         ec_modgenes36$gene_short_name)\n",
    "\n",
    "ec_modgenes_1_2_6_35_36 <- c(ec_modgenes1$gene_short_name,\n",
    "                         ec_modgenes2$gene_short_name, \n",
    "                         ec_modgenes6$gene_short_name, \n",
    "                         ec_modgenes35$gene_short_name,\n",
    "                         ec_modgenes36$gene_short_name)\n",
    "\n",
    "ec_modgenes_1_35_36_ids <-  short2geneid[ec_modgenes_1_35_36]\n",
    "ec_modgenes_1_2_6_35_36_ids <-  short2geneid[ec_modgenes_1_2_6_35_36]\n",
    "\n",
    "\n",
    "## VSMC Genes Seconds\n",
    "vsmc_netmod_file <- paste(datdir, '/', ps$outdir, celltypes6[3],\n",
    "                          '/Dense.20k.Network.Module.Genes.Rev1.txt', sep = '')\n",
    "vsmc_netmod <- read.table(vsmc_netmod_file, header = TRUE, sep = '\\t',\n",
    "                          stringsAsFactors = FALSE, quote = '')[, c(1, 3:9)]\n",
    "vsmc_modgenes9 <- vsmc_netmod %>% filter(de_qval < diff_exp_qval_cut) %>% \n",
    "                              filter(module_id == 9) %>% \n",
    "                              dplyr::select(gene_short_name, de_norm_eff, de_qval)\n",
    "vsmc_modgenes11 <- vsmc_netmod %>% filter(de_qval < diff_exp_qval_cut) %>% \n",
    "                              filter(module_id == 11) %>% \n",
    "                              dplyr::select(gene_short_name, de_norm_eff, de_qval)\n",
    "vsmc_modgenes13 <- vsmc_netmod %>% filter(de_qval < diff_exp_qval_cut) %>% \n",
    "                              filter(module_id == 13) %>% \n",
    "                              dplyr::select(gene_short_name, de_norm_eff, de_qval)\n",
    "vsmc_modgenes24 <- vsmc_netmod %>% filter(de_qval < diff_exp_qval_cut) %>% \n",
    "                              filter(module_id == 24) %>% \n",
    "                              dplyr::select(gene_short_name, de_norm_eff, de_qval)\n",
    "vsmc_modgenes28 <- vsmc_netmod %>% filter(de_qval < diff_exp_qval_cut) %>% \n",
    "                              filter(module_id == 28) %>% \n",
    "                              dplyr::select(gene_short_name, de_norm_eff, de_qval)\n",
    "vsmc_modgenes30 <- vsmc_netmod %>% filter(de_qval < diff_exp_qval_cut) %>% \n",
    "                              filter(module_id == 30) %>% \n",
    "                              dplyr::select(gene_short_name, de_norm_eff, de_qval)\n",
    "vsmc_modgenes31 <- vsmc_netmod %>% filter(de_qval < diff_exp_qval_cut) %>% \n",
    "                              filter(module_id == 31) %>% \n",
    "                              dplyr::select(gene_short_name, de_norm_eff, de_qval)\n",
    "vsmc_modgenes_13_31 <- c(vsmc_modgenes13$gene_short_name, vsmc_modgenes31$gene_short_name)\n",
    "vsmc_modgenes13_ids <- short2geneid[vsmc_modgenes13$gene_short_name]\n",
    "vsmc_modgenes31_ids <- short2geneid[vsmc_modgenes31$gene_short_name]\n",
    "vsmc_modgenes_13_31_ids <- short2geneid[vsmc_modgenes_13_31]\n",
    "vsmc_modgenes_11_30 <- c(vsmc_modgenes11$gene_short_name,\n",
    "                         vsmc_modgenes30$gene_short_name)\n",
    "vsmc_modgenes_11_35_ids <- short2geneid[vsmc_modgenes_11_30]\n",
    "\n",
    "vsmc_modgenes_11_13_30_31 <- c(vsmc_modgenes11$gene_short_name,\n",
    "                              vsmc_modgenes13$gene_short_name,\n",
    "                              vsmc_modgenes30$gene_short_name,\n",
    "                              vsmc_modgenes31$gene_short_name)\n",
    "\n",
    "vsmc_modgenes_9_11_13_30_31 <- c(vsmc_modgenes9$gene_short_name,\n",
    "                              vsmc_modgenes11$gene_short_name,\n",
    "                              vsmc_modgenes13$gene_short_name,\n",
    "                              vsmc_modgenes30$gene_short_name,\n",
    "                              vsmc_modgenes31$gene_short_name)\n",
    "\n",
    "vsmc_modgenes_9_11_13_24_28_30_31 <- c(vsmc_modgenes9$gene_short_name,\n",
    "                              vsmc_modgenes11$gene_short_name,\n",
    "                              vsmc_modgenes13$gene_short_name,\n",
    "                              vsmc_modgenes24$gene_short_name,\n",
    "                              vsmc_modgenes28$gene_short_name,\n",
    "                              vsmc_modgenes30$gene_short_name,\n",
    "                              vsmc_modgenes31$gene_short_name)\n",
    "\n",
    "vsmc_modgenes_9_11_13_24_28_30_31_plus2 <- c(vsmc_modgenes_9_11_13_24_28_30_31, 'CCL4', 'IGKC')\n",
    "\n",
    "\n",
    "vsmc_modgenes_11_13_30_31_ids <- short2geneid[vsmc_modgenes_11_13_30_31]\n",
    "vsmc_modgenes_9_11_13_30_31_ids <- short2geneid[vsmc_modgenes_9_11_13_30_31] \n",
    "vsmc_modgenes_9_11_13_24_28_30_31_ids <- short2geneid[vsmc_modgenes_9_11_13_24_28_30_31] \n",
    "vsmc_modgenes_9_11_13_24_28_30_31_plus2_ids <- short2geneid[vsmc_modgenes_9_11_13_24_28_30_31_plus2] \n",
    "\n",
    "## These variables are the same as above\n",
    "vsmc_modgenes_11_30a <- c('TMSB4X', 'FXYD5', 'MYH10', 'RAMP1', 'ANXA2',\n",
    "                  'TSC22D3', 'F2R', 'SFRP4', 'ECM1', 'ABHD14A',\n",
    "                  'JDP2', 'DDIT4', 'VAT1', 'ABLIM1', 'S100A10',\n",
    "                  'ZNF385D', 'FRZB', 'MAP1B', 'ZNF385B', 'GAP43',\n",
    "                  'PDE5A', 'PRSS35', 'CCDC68', 'SH3BGRL3', 'UXT',\n",
    "                  'CDKN2C', 'LMO7', 'ENPP2', 'NDNF', 'MCUB', 'HTR2B',\n",
    "                  'MBNL1-AS1', 'TBC1D12', 'PTN', 'IL17D', 'SFT2D1',\n",
    "                  'IGSF10', 'BHLHE41', 'NUCKS1', 'HACD3', 'IL18',\n",
    "                  'TPPP3', 'EMP3', 'CLIC2', 'ATF5', 'MSC-AS1', 'FBLN2',\n",
    "                  'LTBP4', 'F10', 'FSTL1', 'FBN1', 'TNXB', 'PCOLCE2',\n",
    "                  'PLAT', 'PLPP3', 'SLIT3', 'CD248', 'AKAP12', 'PLBD1',\n",
    "                  'SEMA3C', 'MFAP5', 'C17orf58', 'METRNL', 'UGDH',\n",
    "                  'HSD11B1', 'TGFBR3', 'TSKU', 'FLRT2', 'SEMA3B',\n",
    "                  'PI16', 'RAB32', 'DCLK1', 'CD55', 'LINC01133',\n",
    "                  'FGFR1', 'CSF1', 'SLC16A7', 'NT5E', 'ADAMTSL4',\n",
    "                  'HTRA3', 'FAM177A1', 'C1QTNF3', 'PPP2R2A', 'GPC1',\n",
    "                  'EBF2', 'AMOTL2', 'NTM', 'CMTM3', 'CADM3')\n",
    "vsmc_modgenes_11_30a_ids <- short2geneid[vsmc_modgenes_11_30]\n",
    "\n",
    "ec_modgenes_35a <- c('FEZ1', 'OLFM1', 'ARHGAP18', 'COL4A1', 'MEDAG', 'COL4A2',\n",
    "             'PDGFD', 'IGFBP7', 'RGS3', 'PGF', 'ITGA6', 'MGLL', 'ACKR3',\n",
    "             'ANGPT2', 'PLXNA4', 'EMCN', 'TIMP3', 'GSN', 'FILIP1', 'LAMB1',\n",
    "             'ELK3', 'ARPC2', 'NES', 'MXD4', 'PLVAP', 'ESM1', 'CITED4',\n",
    "             'TMED3', 'EIF4EBP1', 'RFLNB')\n",
    "ec_modgenes_35a_ids <- short2geneid[ec_modgenes_35a]"
   ]
  },
  {
   "cell_type": "code",
   "execution_count": 71,
   "metadata": {},
   "outputs": [
    {
     "data": {
      "text/html": [
       "'VSMC_Modules_2_9_11_30_13_31_24_28'"
      ],
      "text/latex": [
       "'VSMC\\_Modules\\_2\\_9\\_11\\_30\\_13\\_31\\_24\\_28'"
      ],
      "text/markdown": [
       "'VSMC_Modules_2_9_11_30_13_31_24_28'"
      ],
      "text/plain": [
       "[1] \"VSMC_Modules_2_9_11_30_13_31_24_28\""
      ]
     },
     "metadata": {},
     "output_type": "display_data"
    },
    {
     "data": {
      "text/html": [
       "'EC_Modules_1_35_and_36_2_6'"
      ],
      "text/latex": [
       "'EC\\_Modules\\_1\\_35\\_and\\_36\\_2\\_6'"
      ],
      "text/markdown": [
       "'EC_Modules_1_35_and_36_2_6'"
      ],
      "text/plain": [
       "[1] \"EC_Modules_1_35_and_36_2_6\""
      ]
     },
     "metadata": {},
     "output_type": "display_data"
    }
   ],
   "source": [
    "## Read in Toms  list of genes for VSMC and EC Heatmaps (Response to Nature.Rejection)\n",
    "VSMC_PNR_file <- 'PostNatureRejection.Updates/Updated.VSMC.Genes.Heatmap.csv'\n",
    "VSMC_PNR_genes <- read.table(VSMC_PNR_file, header = FALSE, sep = '', stringsAsFactors = FALSE)[,1]\n",
    "VSMC_group <- VSMC_PNR_genes[1]\n",
    "VSMC_PNR_genes_ids <- short2geneid[VSMC_PNR_genes[2:length(VSMC_PNR_genes)]]\n",
    "VSMC_PNR_genes <- geneid2short[VSMC_PNR_genes_ids]\n",
    "VSMC_group\n",
    "\n",
    "EC_PNR_file <- 'PostNatureRejection.Updates/Updated.EC.Genes.Heatmap.csv'\n",
    "EC_PNR_genes <- read.table(EC_PNR_file, header = FALSE, sep = '', stringsAsFactors = FALSE)[,1]\n",
    "EC_group <- EC_PNR_genes[1]\n",
    "EC_PNR_genes_ids <- short2geneid[EC_PNR_genes[2:length(EC_PNR_genes)]]\n",
    "EC_PNR_genes <- geneid2short[EC_PNR_genes_ids]\n",
    "EC_group "
   ]
  },
  {
   "cell_type": "markdown",
   "metadata": {},
   "source": [
    "## VSMC Unknown Process (Modules_2_9_11_30_13_31_24_28)¶\n",
    "### Updated code"
   ]
  },
  {
   "cell_type": "code",
   "execution_count": 72,
   "metadata": {},
   "outputs": [
    {
     "data": {
      "text/plain": [
       "\n",
       "  cyan orange \n",
       "  1223   1223 "
      ]
     },
     "metadata": {},
     "output_type": "display_data"
    },
    {
     "data": {
      "text/html": [
       "<strong>png:</strong> 2"
      ],
      "text/latex": [
       "\\textbf{png:} 2"
      ],
      "text/markdown": [
       "**png:** 2"
      ],
      "text/plain": [
       "png \n",
       "  2 "
      ]
     },
     "metadata": {},
     "output_type": "display_data"
    },
    {
     "data": {
      "text/html": [
       "<strong>png:</strong> 2"
      ],
      "text/latex": [
       "\\textbf{png:} 2"
      ],
      "text/markdown": [
       "**png:** 2"
      ],
      "text/plain": [
       "png \n",
       "  2 "
      ]
     },
     "metadata": {},
     "output_type": "display_data"
    },
    {
     "data": {
      "text/html": [
       "<strong>png:</strong> 2"
      ],
      "text/latex": [
       "\\textbf{png:} 2"
      ],
      "text/markdown": [
       "**png:** 2"
      ],
      "text/plain": [
       "png \n",
       "  2 "
      ]
     },
     "metadata": {},
     "output_type": "display_data"
    },
    {
     "data": {
      "text/html": [
       "<strong>png:</strong> 2"
      ],
      "text/latex": [
       "\\textbf{png:} 2"
      ],
      "text/markdown": [
       "**png:** 2"
      ],
      "text/plain": [
       "png \n",
       "  2 "
      ]
     },
     "metadata": {},
     "output_type": "display_data"
    },
    {
     "data": {
      "text/html": [
       "<strong>png:</strong> 2"
      ],
      "text/latex": [
       "\\textbf{png:} 2"
      ],
      "text/markdown": [
       "**png:** 2"
      ],
      "text/plain": [
       "png \n",
       "  2 "
      ]
     },
     "metadata": {},
     "output_type": "display_data"
    }
   ],
   "source": [
    "## Get the Expression Set for VSMC Modules_2_9_11_30_13_31_24_28 genes\n",
    "p <- 3\n",
    "vsmc_bool <- (colData(down_stdycds)$assigned_cell_type == celltypes6[p])\n",
    "vsmcmod_cds <- down_stdycds[fData(down_stdycds)@rownames %in% VSMC_PNR_genes_ids, vsmc_bool]\n",
    "colData(vsmcmod_cds)$condtype <- paste('vsmc',\n",
    "    c('hea', 'dis')[(colData(vsmcmod_cds)$condition == 'diseased') + 1], sep = '-')\n",
    "## colData(vsmcmod_cds)$sidecolor[colData(vsmcmod_cds)$condtype == 'ec-dis'] <- 'red'\n",
    "## colData(vsmcmod_cds)$sidecolor[colData(vsmcmod_cds)$condtype == 'ec-hea'] <- 'blue'\n",
    "colData(vsmcmod_cds)$sidecolor[colData(vsmcmod_cds)$condtype == 'vsmc-dis'] <- 'orange'\n",
    "colData(vsmcmod_cds)$sidecolor[colData(vsmcmod_cds)$condtype == 'vsmc-hea'] <- 'cyan'\n",
    "\n",
    "## Down Sample\n",
    "cttable <- table(colData(vsmcmod_cds)$sidecolor)\n",
    "smallset <- min(cttable)\n",
    "cells2keep <- NULL\n",
    "set.seed(101)\n",
    "for (cellset_col in names(cttable)) {\n",
    "    cellsetrow <-  which(colData(vsmcmod_cds)$sidecolor == cellset_col)\n",
    "    cells2keep <- c(cells2keep, sample(cellsetrow, smallset, replace = FALSE))\n",
    "}\n",
    "vsmcmod_cds <- vsmcmod_cds[, cells2keep] \n",
    "\n",
    "## Print the down sampled data set sizes\n",
    "table(colData(vsmcmod_cds)$sidecolor)\n",
    "\n",
    "## Get the expresion matrix\n",
    "expdat_vsmcmod <- as.matrix(exprs(vsmcmod_cds))\n",
    "rownames(expdat_vsmcmod) <- geneid2short[rownames(expdat_vsmcmod)] \n",
    "\n",
    "## Set up the output file names and plot titles\n",
    "f1 <- '/Heatmap.VSMC.Mod2_9_11_30_13_31_24_28.Genes.comp.bin.comp.bin.down.OnOff2Plus.preclustered.Rev1.pdf'\n",
    "f1 <- paste(datdir, '/', ps$outdir, celltypes6[p], f1, sep = '')\n",
    "title1 <- 'VSMC Network Modules 2_9_11_30_13_31_24_28\\nGenes, Cells Pre-Clustered'\n",
    "\n",
    "f2 <- '/Heatmap.VSMC.ModMod2_9_11_30_13_31_24_28.Genes.comp.bin.comp.bin.down.OnOff2Plus.fullyclustered.Rev1.pdf'\n",
    "f2 <- paste(datdir, '/', ps$outdir, celltypes6[p], f2, sep = '')\n",
    "title2 <-  'VSMC Network Modules 2_9_11_30_13_31_24_28\\nGenes, Cells Fully Clustered'\n",
    "\n",
    "f3 <- '/DotPlot.VSMC.Mod2_9_11_30_13_31_24_28.Genes.Rev1.pdf'\n",
    "f3 <- paste(datdir, '/', ps$outdir, celltypes6[p], f3, sep = '')\n",
    "\n",
    "f4 <- '/Heatmap.VSMC.Mod2_9_11_30_13_31_24_28.Genes.comp.bin.comp.bin.down.OnOff2Plus.fullyclustered.cut.Rev1.pdf'\n",
    "f4 <- paste(datdir, '/', ps$outdir, celltypes6[p], f4, sep = '')\n",
    "title4 <-  'VSMC Network Modules 2_9_11_30_13_31_24_28\\nGenes, Cells Fully Clustered with Cuts'\n",
    "\n",
    "f5 <- '/DotPlot.VSMC.Mod2_9_11_30_13_31_24_28.Genes.cuts.Rev1.pdf'\n",
    "f5 <- paste(datdir, '/', ps$outdir, celltypes6[p], f5, sep = '')\n",
    "\n",
    "## Prepare for pre-clustering\n",
    "vsmc_dw <- which(colData(vsmcmod_cds)$condtype == 'vsmc-dis')\n",
    "vsmc_hw <- which(colData(vsmcmod_cds)$condtype == 'vsmc-hea')\n",
    "\n",
    "## Transform the data\n",
    "dims <- dim(expdat_vsmcmod)\n",
    "expdatbo <- (expdat_vsmcmod > 1) * 1\n",
    "\n",
    "## Set up clustering parameters\n",
    "## Distance method, cluster method, heatmap color scheme, legend\n",
    "distmeth <- c('binary', 'binary')\n",
    "clustmeth = c('complete', 'complete')\n",
    "my_palettebol <- colorRampPalette(c('#660066', 'yellow'))(n = 2)\n",
    "legendlstbol <- list(legend = c('VSMC DIS', 'VSMC HEA'),\n",
    "              col = c('orange', 'cyan'), title = 'Cell Types', cex = .7)\n",
    "\n",
    "## Individually cluster the columns of the two cell sets\n",
    "vsmc_dcim <- cim(expdatbo[, vsmc_dw], dist.method = distmeth, clust.method = clustmeth,\n",
    "    scale = \"FALSE\", center = \"FALSE\", col.names = FALSE, legend = legendlstbol,\n",
    "    color = my_palettebol, cluster = 'col', save = 'pdf', name.save = 'temp.ready.to.delete',\n",
    "    col.sideColors = colData(vsmcmod_cds)$sidecolor[vsmc_dw],\n",
    "    symkey = FALSE)\n",
    "vsmc_hcim <- cim(expdatbo[, vsmc_hw], dist.method = distmeth, clust.method = clustmeth,\n",
    "    scale = \"FALSE\", center = \"FALSE\", col.names = FALSE, legend = legendlstbol,\n",
    "    color = my_palettebol, cluster = 'col', save = 'pdf', name.save = 'temp.ready.to.delete',\n",
    "    col.sideColors = colData(vsmcmod_cds)$sidecolor[vsmc_hw],\n",
    "    symkey = FALSE)\n",
    "\n",
    "## The is the combined (concantenated) preclustered cell types\n",
    "## which will are plotted with genes fully clustered (check plot)\n",
    "parthclust <- c(colnames(vsmc_dcim$mat), colnames(vsmc_hcim$mat))\n",
    "colornames <-colData(vsmcmod_cds)$sidecolor\n",
    "names(colornames) <- colnames(expdatbo)\n",
    "\n",
    "# # This is just a check plot to the screen\n",
    "# cim(expdatbo[, parthclust], dist.method = distmeth, clust.method = clustmeth,\n",
    "#     scale = \"FALSE\", center = \"FALSE\", col.names = FALSE, legend = legendlstbol,\n",
    "#     color = my_palettebol, cluster = 'row', # save = 'pdf', name.save = 'temp.ready.to.delete',\n",
    "#     col.sideColors = colornames[parthclust],\n",
    "#     symkey = FALSE)\n",
    "\n",
    "## Repeated from above, this time to a file\n",
    "pdf(f1, width = 8, height = 30)\n",
    "cim(expdatbo[, parthclust], dist.method = distmeth, clust.method = clustmeth,\n",
    "    scale = \"FALSE\", center = \"FALSE\", col.names = FALSE, legend = legendlstbol,\n",
    "    color = my_palettebol, cluster = 'row', title = title1,\n",
    "    col.sideColors = colornames[parthclust],\n",
    "    symkey = FALSE)\n",
    "dev.off()\n",
    "\n",
    "## The is again the combined cell types, plotted with both genes and cells fully clustered\n",
    "cim_save <- cim(expdatbo[, parthclust], dist.method = distmeth, clust.method = clustmeth,\n",
    "    scale = \"FALSE\", center = \"FALSE\", col.names = FALSE, legend = legendlstbol,\n",
    "    color = my_palettebol, cluster = 'both', save = 'pdf', name.save = 'temp.ready.to.delete',\n",
    "    col.sideColors = colornames[parthclust], \n",
    "    symkey = FALSE)\n",
    "\n",
    "## This is a check plot to the screen and it should match the above plot perfectly\n",
    "# cim(expdatbo[, colnames(cim_save$mat)], dist.method = distmeth, clust.method = clustmeth,\n",
    "#     scale = \"FALSE\", center = \"FALSE\", col.names = FALSE, legend = legendlstbol,\n",
    "#     color = my_palettebol, cluster = 'row', # save = 'pdf', name.save = 'temp.ready.to.delete',\n",
    "#     col.sideColors = colornames[colnames(cim_save$mat)], \n",
    "#     symkey = FALSE)\n",
    "\n",
    "## Repeated from above, this time to a file (make sure to cluster again to plot cell dendrogram)\n",
    "pdf(f2, width = 8, height = 30)\n",
    "cim(expdatbo[, parthclust], dist.method = distmeth, clust.method = clustmeth,\n",
    "    scale = \"FALSE\", center = \"FALSE\", col.names = FALSE, legend = legendlstbol,\n",
    "    color = my_palettebol, cluster = 'both', title = title2,\n",
    "    col.sideColors = colornames[parthclust], \n",
    "    symkey = FALSE)\n",
    "dev.off()\n",
    "\n",
    "specialglist <- short2geneid[cim_save$row.names]\n",
    "pdf(f3, width = 2.75, height = 34)\n",
    "plot_genes_by_group2(vsmcmod_cds,\n",
    "                    axis_order = \"group_marker\",\n",
    "                    specialglist,\n",
    "                    group_cells_by = \"condtype\",\n",
    "                    ordering_type = \"as_ordered\", \n",
    "                    max.size = 3,\n",
    "                    norm_method = 'size_only',\n",
    "                    scale_max = 3, scale_min = -3)\n",
    "dev.off()\n",
    "\n",
    "## Set up for plot with special cut regions\n",
    "cim_o <- colnames(cim_save$mat)\n",
    "cut0 <- 1\n",
    "cut1 <- floor(length(cim_o) * 1.408 / 6.78125)\n",
    "cut2 <- floor(length(cim_o) * 3.018 / 6.78125)\n",
    "cut3 <- floor(length(cim_o) * 4.461 / 6.78125)\n",
    "cut4 <- length(cim_o)\n",
    "wcut1 <- which(colnames(expdatbo) %in% cim_o[cut0:cut1])\n",
    "wcut2 <- which(colnames(expdatbo) %in% cim_o[(cut1 + 1):cut2])\n",
    "wcut3 <- which(colnames(expdatbo) %in% cim_o[(cut2 + 1):cut3])\n",
    "wcut4 <- which(colnames(expdatbo) %in% cim_o[(cut3 + 1):cut4])\n",
    "wcuts <- c(wcut1, wcut2, wcut3, wcut4)\n",
    "cell_subg_cols <- vector(mode = 'character', length = length(cim_o))\n",
    "cell_subg_names <- vector(mode = 'character', length = length(cim_o))\n",
    "cell_subg_cols[wcut1] <- '#404040' # '1gray'\n",
    "cell_subg_names[wcut1] <- '1gray'\n",
    "cell_subg_cols[wcut2] <- '#606060' # '2gray'\n",
    "cell_subg_names[wcut2] <- '2gray'\n",
    "cell_subg_cols[wcut3] <- '#808080' # '3gray'\n",
    "cell_subg_names[wcut3] <- '3gray'\n",
    "cell_subg_cols[wcut4] <- '#A0A0A0' # '4gray'\n",
    "cell_subg_names[wcut4] <- '4gray'\n",
    "names(cell_subg_cols) <- cim_o\n",
    "\n",
    "## Plot the same fully clustered plot, this time without reclustering the cells,\n",
    "# but coloring the horizontal color bar according to the cuts\n",
    "pdf(f4, width = 8, height = 30)\n",
    "cim_cells <- cim(expdatbo[, colnames(cim_save$mat)], dist.method = distmeth,\n",
    "    clust.method = clustmeth,\n",
    "    scale = \"FALSE\", center = \"FALSE\", col.names = FALSE, legend = legendlstbol,\n",
    "    color = my_palettebol, cluster = 'row', title = title4,\n",
    "    col.sideColors = cell_subg_cols[wcuts],\n",
    "    symkey = FALSE)\n",
    "dev.off()\n",
    "\n",
    "specialglist <- specialglist <- short2geneid[cim_save$row.names]\n",
    "colData(vsmcmod_cds)$subgroups[wcuts] <- cell_subg_names[wcuts]\n",
    "pdf(f5, width = 3.25, height = 34)\n",
    "plot_genes_by_group2(vsmcmod_cds,\n",
    "                    axis_order = \"group_marker\",\n",
    "                    specialglist,\n",
    "                    group_cells_by = \"subgroups\",\n",
    "                    ordering_type = \"as_ordered\", \n",
    "                    max.size = 3,\n",
    "                    norm_method = 'size_only',\n",
    "                    scale_max = 3, scale_min = -3)\n",
    "dev.off()\n",
    "\n",
    "# Perform DE Analysis on the vsmc heatmat subgroup\n",
    "f6 <- '/Diff.vsmc_group1.KeepFail.NoModels.txt'\n",
    "f6 <- paste(datdir, '/', ps$outdir, celltypes6[p], f6, sep = '')\n",
    "gene_vsmc_wcut1_fits_pat_cond_adj <- fit_models(vsmcmod_cds[, wcut1], cores = 4,\n",
    "                                model_formula_str = \"~patient + condition\")\n",
    "all_coef1 <- NULL\n",
    "## Get the DE Coefficients\n",
    "all_coef1 <- coefficient_table(gene_vsmc_wcut1_fits_pat_cond_adj)\n",
    "# Extract the relavent data from the DE tables\n",
    "condition_terms1 <- all_coef1 %>% filter(term == \"conditionhealthy\")\n",
    "condition_termsb1 <- condition_terms1 %>% filter(status == 'OK')\n",
    "write.table(condition_terms1[,c(1, 4:12)], f6, col.names = TRUE, row.names = FALSE)\n",
    "\n",
    "f7 <- '/Diff.vsmc_group2.KeepFail.NoModels.txt'\n",
    "f7 <- paste(datdir, '/', ps$outdir, celltypes6[p], f7, sep = '')\n",
    "gene_vsmc_wcut2_fits_pat_cond_adj <- fit_models(vsmcmod_cds[, wcut2], cores = 4,\n",
    "                                model_formula_str = \"~patient + condition\")\n",
    "all_coef2 <- NULL\n",
    "## Get the DE Coefficients\n",
    "all_coef2 <- coefficient_table(gene_vsmc_wcut2_fits_pat_cond_adj)\n",
    "# Extract the relavent data from the DE tables\n",
    "condition_terms2 <- all_coef2 %>% filter(term == \"conditionhealthy\")\n",
    "condition_termsb2 <- condition_terms2 %>% filter(status == 'OK')\n",
    "write.table(condition_terms2[,c(1, 4:12)], f7, col.names = TRUE, row.names = FALSE)\n",
    "\n",
    "f8 <- '/Diff.vsmc_group3.KeepFail.NoModels.txt'\n",
    "f8 <- paste(datdir, '/', ps$outdir, celltypes6[p], f8, sep = '')\n",
    "gene_vsmc_wcut3_fits_pat_cond_adj <- fit_models(vsmcmod_cds[, wcut3], cores = 4,\n",
    "                                model_formula_str = \"~patient + condition\")\n",
    "all_coef3 <- NULL\n",
    "## Get the DE Coefficients\n",
    "all_coef3 <- coefficient_table(gene_vsmc_wcut3_fits_pat_cond_adj)\n",
    "# Extract the relavent data from the DE tables\n",
    "condition_terms3 <- all_coef3 %>% filter(term == \"conditionhealthy\")\n",
    "condition_termsb3 <- condition_terms3 %>% filter(status == 'OK')\n",
    "write.table(condition_terms3[,c(1, 4:12)], f8, col.names = TRUE, row.names = FALSE)\n",
    "\n",
    "f9 <- '/Diff.vsmc_group4.KeepFail.NoModels.txt'\n",
    "f9 <- paste(datdir, '/', ps$outdir, celltypes6[p], f9, sep = '')\n",
    "gene_vsmc_wcut4_fits_pat_cond_adj <- fit_models(vsmcmod_cds[, wcut4], cores = 4,\n",
    "                                model_formula_str = \"~patient + condition\")\n",
    "all_coef4 <- NULL\n",
    "## Get the DE Coefficients\n",
    "all_coef4 <- coefficient_table(gene_vsmc_wcut4_fits_pat_cond_adj)\n",
    "# Extract the relavent data from the DE tables\n",
    "condition_terms4 <- all_coef4 %>% filter(term == \"conditionhealthy\")\n",
    "condition_termsb4 <- condition_terms4 %>% filter(status == 'OK')\n",
    "write.table(condition_terms4[,c(1, 4:12)], f9, col.names = TRUE, row.names = FALSE)"
   ]
  },
  {
   "cell_type": "code",
   "execution_count": 73,
   "metadata": {},
   "outputs": [],
   "source": [
    "## Get the vsmc cell data set, but with all genes\n",
    "vsmcall_cds <- down_stdycds[, vsmc_bool]\n",
    "vsmcall_cds <- vsmcall_cds[, cells2keep]"
   ]
  },
  {
   "cell_type": "code",
   "execution_count": 74,
   "metadata": {},
   "outputs": [],
   "source": [
    "hea <- which(colData(vsmcmod_cds)$condition == 'healthy')\n",
    "dis <- which(colData(vsmcmod_cds)$condition == 'diseased')\n",
    "colData(vsmcmod_cds)$subgrp_c <- 'null'\n",
    "colData(vsmcmod_cds)$subgrp_c[intersect(wcut1, hea)] <- 'group1hea'\n",
    "colData(vsmcmod_cds)$subgrp_c[intersect(wcut1, dis)] <- 'group1dis'\n",
    "colData(vsmcmod_cds)$subgrp_c[intersect(wcut2, hea)] <- 'group2hea'\n",
    "colData(vsmcmod_cds)$subgrp_c[intersect(wcut2, dis)] <- 'group2dis'\n",
    "colData(vsmcmod_cds)$subgrp_c[intersect(wcut3, hea)] <- 'group3hea'\n",
    "colData(vsmcmod_cds)$subgrp_c[intersect(wcut3, dis)] <- 'group3dis'\n",
    "colData(vsmcmod_cds)$subgrp_c[intersect(wcut4, hea)] <- 'group4hea'\n",
    "colData(vsmcmod_cds)$subgrp_c[intersect(wcut4, dis)] <- 'group4dis'\n",
    "\n",
    "colData(vsmcmod_cds)$subgrp <- NA\n",
    "colData(vsmcmod_cds)$subgrp[wcut1] <- 'group1'\n",
    "colData(vsmcmod_cds)$subgrp[wcut2] <- 'group2'\n",
    "colData(vsmcmod_cds)$subgrp[wcut3] <- 'group3'\n",
    "colData(vsmcmod_cds)$subgrp[wcut4] <- 'group4'\n",
    "\n",
    "colData(vsmcmod_cds)$subgrp_cont <- 0\n",
    "colData(vsmcmod_cds)$subgrp_cont[wcut1] <- sum(colData(vsmcmod_cds)$subgrp_c ==\n",
    "                            'group1dis')/sum(colData(vsmcmod_cds)$subgrp == 'group1')\n",
    "colData(vsmcmod_cds)$subgrp_cont[wcut2] <- sum(colData(vsmcmod_cds)$subgrp_c ==\n",
    "                            'group2dis')/sum(colData(vsmcmod_cds)$subgrp == 'group2')\n",
    "colData(vsmcmod_cds)$subgrp_cont[wcut3] <- sum(colData(vsmcmod_cds)$subgrp_c ==\n",
    "                            'group3dis')/sum(colData(vsmcmod_cds)$subgrp == 'group3')\n",
    "colData(vsmcmod_cds)$subgrp_cont[wcut4] <- sum(colData(vsmcmod_cds)$subgrp_c ==\n",
    "                            'group4dis')/sum(colData(vsmcmod_cds)$subgrp == 'group4')"
   ]
  },
  {
   "cell_type": "code",
   "execution_count": 75,
   "metadata": {},
   "outputs": [],
   "source": [
    "## Copy the features from the vsmcmod cell set to the all genes vsmc cell set\n",
    "colData(vsmcall_cds)$subgrp_c <- colData(vsmcmod_cds)$subgrp_c\n",
    "colData(vsmcall_cds)$subgrp <- colData(vsmcmod_cds)$subgrp\n",
    "colData(vsmcall_cds)$subgrp_cont <- colData(vsmcmod_cds)$subgrp_cont"
   ]
  },
  {
   "cell_type": "code",
   "execution_count": 77,
   "metadata": {},
   "outputs": [
    {
     "data": {
      "text/plain": [
       "\n",
       "0.00788954635108481   0.413080895008606    0.71785028790787   0.722819593787336 \n",
       "                507                 581                 521                 837 "
      ]
     },
     "metadata": {},
     "output_type": "display_data"
    }
   ],
   "source": [
    "table(colData(vsmcmod_cds)$subgrp_cont)"
   ]
  },
  {
   "cell_type": "code",
   "execution_count": 19,
   "metadata": {},
   "outputs": [],
   "source": [
    "## This is needed for compare_models to work\n",
    "vsmcmod_cds <- detect_genes(vsmcmod_cds)\n",
    "vsmcall_cds <- detect_genes(vsmcall_cds)"
   ]
  },
  {
   "cell_type": "code",
   "execution_count": 20,
   "metadata": {},
   "outputs": [],
   "source": [
    "## Models under study\n",
    "mod0 <- '~patient'                              # Null Case for Cases 1 and 2\n",
    "mod1 <- '~patient + subgrp'                     # Case 1\n",
    "mod2 <- '~patient + subgrp_cont'                # Case 2\n",
    "\n",
    "mod0c <- '~patient + condition'                 # Null Case for Cases 1c and 2c\n",
    "mod1c <- '~patient + condition + subgrp'        # Case 1c\n",
    "mod2c <- '~patient + condition + subgrp_cont'   # Case 2c"
   ]
  },
  {
   "cell_type": "code",
   "execution_count": 19,
   "metadata": {},
   "outputs": [],
   "source": [
    "## Perform Monocle 3 DE Analysis for Cases 1 and 2\n",
    "family_type_sel <- 2\n",
    "ft <- c('quasipoisson', 'negbinomial', 'gaussian', 'binomial')[family_type_sel]\n",
    "\n",
    "gene_vsmc_fits_m0 <- fit_models(vsmcmod_cds, cores = 1, expression_family = ft,\n",
    "                                model_formula_str = mod0) \n",
    "all_coef_m0 <- coefficient_table(gene_vsmc_fits_m0)\n",
    "\n",
    "gene_vsmc_fits_m1 <- fit_models(vsmcmod_cds, cores = 1, expression_family = ft,\n",
    "                                model_formula_str = mod1) \n",
    "all_coef_m1 <- coefficient_table(gene_vsmc_fits_m1)\n",
    "\n",
    "gene_vsmc_fits_m2 <- fit_models(vsmcmod_cds, cores = 1, expression_family = ft,\n",
    "                                model_formula_str = mod2) \n",
    "all_coef_m2 <- coefficient_table(gene_vsmc_fits_m2)"
   ]
  },
  {
   "cell_type": "code",
   "execution_count": 104,
   "metadata": {},
   "outputs": [
    {
     "data": {
      "text/html": [
       "'TPM2'"
      ],
      "text/latex": [
       "'TPM2'"
      ],
      "text/markdown": [
       "'TPM2'"
      ],
      "text/plain": [
       "[1] \"TPM2\""
      ]
     },
     "metadata": {},
     "output_type": "display_data"
    }
   ],
   "source": [
    "## Pick a gene for exploration\n",
    "gene_num <- 174\n",
    "gene_name <- as.character(gene_vsmc_fits_m0$gene_short_name[gene_num])\n",
    "gene_name"
   ]
  },
  {
   "cell_type": "code",
   "execution_count": 105,
   "metadata": {
    "scrolled": true
   },
   "outputs": [
    {
     "data": {
      "text/html": [
       "<table>\n",
       "<caption>A tibble: 3 × 11</caption>\n",
       "<thead>\n",
       "\t<tr><th scope=col>gene_short_name</th><th scope=col>num_cells_expressed</th><th scope=col>status</th><th scope=col>term</th><th scope=col>estimate</th><th scope=col>std_err</th><th scope=col>test_val</th><th scope=col>p_value</th><th scope=col>normalized_effect</th><th scope=col>model_component</th><th scope=col>q_value</th></tr>\n",
       "\t<tr><th scope=col>&lt;fct&gt;</th><th scope=col>&lt;int&gt;</th><th scope=col>&lt;chr&gt;</th><th scope=col>&lt;chr&gt;</th><th scope=col>&lt;dbl&gt;</th><th scope=col>&lt;dbl&gt;</th><th scope=col>&lt;dbl&gt;</th><th scope=col>&lt;dbl&gt;</th><th scope=col>&lt;dbl&gt;</th><th scope=col>&lt;chr&gt;</th><th scope=col>&lt;dbl&gt;</th></tr>\n",
       "</thead>\n",
       "<tbody>\n",
       "\t<tr><td>TPM2</td><td>1997</td><td>OK</td><td>(Intercept)       </td><td> 2.47660337</td><td>0.04759378</td><td>52.036282</td><td>0.0000000000</td><td> 0.00000000</td><td>count</td><td>0.0000000</td></tr>\n",
       "\t<tr><td>TPM2</td><td>1997</td><td>OK</td><td>patientID Number 2</td><td>-0.24849532</td><td>0.07451189</td><td>-3.334976</td><td>0.0008530691</td><td>-0.35816132</td><td>count</td><td>0.1834098</td></tr>\n",
       "\t<tr><td>TPM2</td><td>1997</td><td>OK</td><td>patientID Number 3</td><td>-0.06367022</td><td>0.06187380</td><td>-1.029034</td><td>0.3034638955</td><td>-0.09177708</td><td>count</td><td>1.0000000</td></tr>\n",
       "</tbody>\n",
       "</table>\n"
      ],
      "text/latex": [
       "A tibble: 3 × 11\n",
       "\\begin{tabular}{lllllllllll}\n",
       " gene\\_short\\_name & num\\_cells\\_expressed & status & term & estimate & std\\_err & test\\_val & p\\_value & normalized\\_effect & model\\_component & q\\_value\\\\\n",
       " <fct> & <int> & <chr> & <chr> & <dbl> & <dbl> & <dbl> & <dbl> & <dbl> & <chr> & <dbl>\\\\\n",
       "\\hline\n",
       "\t TPM2 & 1997 & OK & (Intercept)        &  2.47660337 & 0.04759378 & 52.036282 & 0.0000000000 &  0.00000000 & count & 0.0000000\\\\\n",
       "\t TPM2 & 1997 & OK & patientID Number 2 & -0.24849532 & 0.07451189 & -3.334976 & 0.0008530691 & -0.35816132 & count & 0.1834098\\\\\n",
       "\t TPM2 & 1997 & OK & patientID Number 3 & -0.06367022 & 0.06187380 & -1.029034 & 0.3034638955 & -0.09177708 & count & 1.0000000\\\\\n",
       "\\end{tabular}\n"
      ],
      "text/markdown": [
       "\n",
       "A tibble: 3 × 11\n",
       "\n",
       "| gene_short_name &lt;fct&gt; | num_cells_expressed &lt;int&gt; | status &lt;chr&gt; | term &lt;chr&gt; | estimate &lt;dbl&gt; | std_err &lt;dbl&gt; | test_val &lt;dbl&gt; | p_value &lt;dbl&gt; | normalized_effect &lt;dbl&gt; | model_component &lt;chr&gt; | q_value &lt;dbl&gt; |\n",
       "|---|---|---|---|---|---|---|---|---|---|---|\n",
       "| TPM2 | 1997 | OK | (Intercept)        |  2.47660337 | 0.04759378 | 52.036282 | 0.0000000000 |  0.00000000 | count | 0.0000000 |\n",
       "| TPM2 | 1997 | OK | patientID Number 2 | -0.24849532 | 0.07451189 | -3.334976 | 0.0008530691 | -0.35816132 | count | 0.1834098 |\n",
       "| TPM2 | 1997 | OK | patientID Number 3 | -0.06367022 | 0.06187380 | -1.029034 | 0.3034638955 | -0.09177708 | count | 1.0000000 |\n",
       "\n"
      ],
      "text/plain": [
       "  gene_short_name num_cells_expressed status term               estimate   \n",
       "1 TPM2            1997                OK     (Intercept)         2.47660337\n",
       "2 TPM2            1997                OK     patientID Number 2 -0.24849532\n",
       "3 TPM2            1997                OK     patientID Number 3 -0.06367022\n",
       "  std_err    test_val  p_value      normalized_effect model_component q_value  \n",
       "1 0.04759378 52.036282 0.0000000000  0.00000000       count           0.0000000\n",
       "2 0.07451189 -3.334976 0.0008530691 -0.35816132       count           0.1834098\n",
       "3 0.06187380 -1.029034 0.3034638955 -0.09177708       count           1.0000000"
      ]
     },
     "metadata": {},
     "output_type": "display_data"
    },
    {
     "data": {
      "text/html": [
       "<table>\n",
       "<caption>A tibble: 6 × 11</caption>\n",
       "<thead>\n",
       "\t<tr><th scope=col>gene_short_name</th><th scope=col>num_cells_expressed</th><th scope=col>status</th><th scope=col>term</th><th scope=col>estimate</th><th scope=col>std_err</th><th scope=col>test_val</th><th scope=col>p_value</th><th scope=col>normalized_effect</th><th scope=col>model_component</th><th scope=col>q_value</th></tr>\n",
       "\t<tr><th scope=col>&lt;fct&gt;</th><th scope=col>&lt;int&gt;</th><th scope=col>&lt;chr&gt;</th><th scope=col>&lt;chr&gt;</th><th scope=col>&lt;dbl&gt;</th><th scope=col>&lt;dbl&gt;</th><th scope=col>&lt;dbl&gt;</th><th scope=col>&lt;dbl&gt;</th><th scope=col>&lt;dbl&gt;</th><th scope=col>&lt;chr&gt;</th><th scope=col>&lt;dbl&gt;</th></tr>\n",
       "</thead>\n",
       "<tbody>\n",
       "\t<tr><td>TPM2</td><td>1997</td><td>OK</td><td>(Intercept)       </td><td>-0.4516846</td><td>0.07622510</td><td>-5.925667</td><td> 3.110323e-09</td><td> 0.0000000</td><td>count</td><td> 3.017013e-07</td></tr>\n",
       "\t<tr><td>TPM2</td><td>1997</td><td>OK</td><td>patientID Number 2</td><td>-0.1080689</td><td>0.05720578</td><td>-1.889126</td><td> 5.887495e-02</td><td>-0.1533662</td><td>count</td><td> 1.000000e+00</td></tr>\n",
       "\t<tr><td>TPM2</td><td>1997</td><td>OK</td><td>patientID Number 3</td><td>-0.1263025</td><td>0.04667995</td><td>-2.705712</td><td> 6.815817e-03</td><td>-0.1792151</td><td>count</td><td> 1.000000e+00</td></tr>\n",
       "\t<tr><td>TPM2</td><td>1997</td><td>OK</td><td>subgrpgroup2      </td><td> 2.9864096</td><td>0.08165964</td><td>36.571426</td><td>8.141874e-293</td><td> 4.2871337</td><td>count</td><td>2.751953e-290</td></tr>\n",
       "\t<tr><td>TPM2</td><td>1997</td><td>OK</td><td>subgrpgroup3      </td><td> 2.4170681</td><td>0.08241306</td><td>29.328704</td><td>4.466623e-189</td><td> 3.4666241</td><td>count</td><td>1.500785e-186</td></tr>\n",
       "\t<tr><td>TPM2</td><td>1997</td><td>OK</td><td>subgrpgroup4      </td><td> 3.5066960</td><td>0.07674637</td><td>45.692011</td><td> 0.000000e+00</td><td> 5.0372847</td><td>count</td><td> 0.000000e+00</td></tr>\n",
       "</tbody>\n",
       "</table>\n"
      ],
      "text/latex": [
       "A tibble: 6 × 11\n",
       "\\begin{tabular}{lllllllllll}\n",
       " gene\\_short\\_name & num\\_cells\\_expressed & status & term & estimate & std\\_err & test\\_val & p\\_value & normalized\\_effect & model\\_component & q\\_value\\\\\n",
       " <fct> & <int> & <chr> & <chr> & <dbl> & <dbl> & <dbl> & <dbl> & <dbl> & <chr> & <dbl>\\\\\n",
       "\\hline\n",
       "\t TPM2 & 1997 & OK & (Intercept)        & -0.4516846 & 0.07622510 & -5.925667 &  3.110323e-09 &  0.0000000 & count &  3.017013e-07\\\\\n",
       "\t TPM2 & 1997 & OK & patientID Number 2 & -0.1080689 & 0.05720578 & -1.889126 &  5.887495e-02 & -0.1533662 & count &  1.000000e+00\\\\\n",
       "\t TPM2 & 1997 & OK & patientID Number 3 & -0.1263025 & 0.04667995 & -2.705712 &  6.815817e-03 & -0.1792151 & count &  1.000000e+00\\\\\n",
       "\t TPM2 & 1997 & OK & subgrpgroup2       &  2.9864096 & 0.08165964 & 36.571426 & 8.141874e-293 &  4.2871337 & count & 2.751953e-290\\\\\n",
       "\t TPM2 & 1997 & OK & subgrpgroup3       &  2.4170681 & 0.08241306 & 29.328704 & 4.466623e-189 &  3.4666241 & count & 1.500785e-186\\\\\n",
       "\t TPM2 & 1997 & OK & subgrpgroup4       &  3.5066960 & 0.07674637 & 45.692011 &  0.000000e+00 &  5.0372847 & count &  0.000000e+00\\\\\n",
       "\\end{tabular}\n"
      ],
      "text/markdown": [
       "\n",
       "A tibble: 6 × 11\n",
       "\n",
       "| gene_short_name &lt;fct&gt; | num_cells_expressed &lt;int&gt; | status &lt;chr&gt; | term &lt;chr&gt; | estimate &lt;dbl&gt; | std_err &lt;dbl&gt; | test_val &lt;dbl&gt; | p_value &lt;dbl&gt; | normalized_effect &lt;dbl&gt; | model_component &lt;chr&gt; | q_value &lt;dbl&gt; |\n",
       "|---|---|---|---|---|---|---|---|---|---|---|\n",
       "| TPM2 | 1997 | OK | (Intercept)        | -0.4516846 | 0.07622510 | -5.925667 |  3.110323e-09 |  0.0000000 | count |  3.017013e-07 |\n",
       "| TPM2 | 1997 | OK | patientID Number 2 | -0.1080689 | 0.05720578 | -1.889126 |  5.887495e-02 | -0.1533662 | count |  1.000000e+00 |\n",
       "| TPM2 | 1997 | OK | patientID Number 3 | -0.1263025 | 0.04667995 | -2.705712 |  6.815817e-03 | -0.1792151 | count |  1.000000e+00 |\n",
       "| TPM2 | 1997 | OK | subgrpgroup2       |  2.9864096 | 0.08165964 | 36.571426 | 8.141874e-293 |  4.2871337 | count | 2.751953e-290 |\n",
       "| TPM2 | 1997 | OK | subgrpgroup3       |  2.4170681 | 0.08241306 | 29.328704 | 4.466623e-189 |  3.4666241 | count | 1.500785e-186 |\n",
       "| TPM2 | 1997 | OK | subgrpgroup4       |  3.5066960 | 0.07674637 | 45.692011 |  0.000000e+00 |  5.0372847 | count |  0.000000e+00 |\n",
       "\n"
      ],
      "text/plain": [
       "  gene_short_name num_cells_expressed status term               estimate  \n",
       "1 TPM2            1997                OK     (Intercept)        -0.4516846\n",
       "2 TPM2            1997                OK     patientID Number 2 -0.1080689\n",
       "3 TPM2            1997                OK     patientID Number 3 -0.1263025\n",
       "4 TPM2            1997                OK     subgrpgroup2        2.9864096\n",
       "5 TPM2            1997                OK     subgrpgroup3        2.4170681\n",
       "6 TPM2            1997                OK     subgrpgroup4        3.5066960\n",
       "  std_err    test_val  p_value       normalized_effect model_component\n",
       "1 0.07622510 -5.925667  3.110323e-09  0.0000000        count          \n",
       "2 0.05720578 -1.889126  5.887495e-02 -0.1533662        count          \n",
       "3 0.04667995 -2.705712  6.815817e-03 -0.1792151        count          \n",
       "4 0.08165964 36.571426 8.141874e-293  4.2871337        count          \n",
       "5 0.08241306 29.328704 4.466623e-189  3.4666241        count          \n",
       "6 0.07674637 45.692011  0.000000e+00  5.0372847        count          \n",
       "  q_value      \n",
       "1  3.017013e-07\n",
       "2  1.000000e+00\n",
       "3  1.000000e+00\n",
       "4 2.751953e-290\n",
       "5 1.500785e-186\n",
       "6  0.000000e+00"
      ]
     },
     "metadata": {},
     "output_type": "display_data"
    },
    {
     "data": {
      "text/html": [
       "<table>\n",
       "<caption>A tibble: 4 × 11</caption>\n",
       "<thead>\n",
       "\t<tr><th scope=col>gene_short_name</th><th scope=col>num_cells_expressed</th><th scope=col>status</th><th scope=col>term</th><th scope=col>estimate</th><th scope=col>std_err</th><th scope=col>test_val</th><th scope=col>p_value</th><th scope=col>normalized_effect</th><th scope=col>model_component</th><th scope=col>q_value</th></tr>\n",
       "\t<tr><th scope=col>&lt;fct&gt;</th><th scope=col>&lt;int&gt;</th><th scope=col>&lt;chr&gt;</th><th scope=col>&lt;chr&gt;</th><th scope=col>&lt;dbl&gt;</th><th scope=col>&lt;dbl&gt;</th><th scope=col>&lt;dbl&gt;</th><th scope=col>&lt;dbl&gt;</th><th scope=col>&lt;dbl&gt;</th><th scope=col>&lt;chr&gt;</th><th scope=col>&lt;dbl&gt;</th></tr>\n",
       "</thead>\n",
       "<tbody>\n",
       "\t<tr><td>TPM2</td><td>1997</td><td>OK</td><td>(Intercept)       </td><td> 0.33450380</td><td>0.06563796</td><td> 5.096194</td><td>3.465492e-07</td><td> 0.00000000</td><td>count</td><td>2.772394e-05</td></tr>\n",
       "\t<tr><td>TPM2</td><td>1997</td><td>OK</td><td>patientID Number 2</td><td> 0.12686937</td><td>0.06385375</td><td> 1.986874</td><td>4.693633e-02</td><td> 0.18181177</td><td>count</td><td>1.000000e+00</td></tr>\n",
       "\t<tr><td>TPM2</td><td>1997</td><td>OK</td><td>patientID Number 3</td><td>-0.06966147</td><td>0.05386054</td><td>-1.293367</td><td>1.958840e-01</td><td>-0.09976083</td><td>count</td><td>1.000000e+00</td></tr>\n",
       "\t<tr><td>TPM2</td><td>1997</td><td>OK</td><td>subgrp_cont       </td><td> 3.57369851</td><td>0.09102093</td><td>39.262382</td><td>0.000000e+00</td><td> 5.14575824</td><td>count</td><td>0.000000e+00</td></tr>\n",
       "</tbody>\n",
       "</table>\n"
      ],
      "text/latex": [
       "A tibble: 4 × 11\n",
       "\\begin{tabular}{lllllllllll}\n",
       " gene\\_short\\_name & num\\_cells\\_expressed & status & term & estimate & std\\_err & test\\_val & p\\_value & normalized\\_effect & model\\_component & q\\_value\\\\\n",
       " <fct> & <int> & <chr> & <chr> & <dbl> & <dbl> & <dbl> & <dbl> & <dbl> & <chr> & <dbl>\\\\\n",
       "\\hline\n",
       "\t TPM2 & 1997 & OK & (Intercept)        &  0.33450380 & 0.06563796 &  5.096194 & 3.465492e-07 &  0.00000000 & count & 2.772394e-05\\\\\n",
       "\t TPM2 & 1997 & OK & patientID Number 2 &  0.12686937 & 0.06385375 &  1.986874 & 4.693633e-02 &  0.18181177 & count & 1.000000e+00\\\\\n",
       "\t TPM2 & 1997 & OK & patientID Number 3 & -0.06966147 & 0.05386054 & -1.293367 & 1.958840e-01 & -0.09976083 & count & 1.000000e+00\\\\\n",
       "\t TPM2 & 1997 & OK & subgrp\\_cont        &  3.57369851 & 0.09102093 & 39.262382 & 0.000000e+00 &  5.14575824 & count & 0.000000e+00\\\\\n",
       "\\end{tabular}\n"
      ],
      "text/markdown": [
       "\n",
       "A tibble: 4 × 11\n",
       "\n",
       "| gene_short_name &lt;fct&gt; | num_cells_expressed &lt;int&gt; | status &lt;chr&gt; | term &lt;chr&gt; | estimate &lt;dbl&gt; | std_err &lt;dbl&gt; | test_val &lt;dbl&gt; | p_value &lt;dbl&gt; | normalized_effect &lt;dbl&gt; | model_component &lt;chr&gt; | q_value &lt;dbl&gt; |\n",
       "|---|---|---|---|---|---|---|---|---|---|---|\n",
       "| TPM2 | 1997 | OK | (Intercept)        |  0.33450380 | 0.06563796 |  5.096194 | 3.465492e-07 |  0.00000000 | count | 2.772394e-05 |\n",
       "| TPM2 | 1997 | OK | patientID Number 2 |  0.12686937 | 0.06385375 |  1.986874 | 4.693633e-02 |  0.18181177 | count | 1.000000e+00 |\n",
       "| TPM2 | 1997 | OK | patientID Number 3 | -0.06966147 | 0.05386054 | -1.293367 | 1.958840e-01 | -0.09976083 | count | 1.000000e+00 |\n",
       "| TPM2 | 1997 | OK | subgrp_cont        |  3.57369851 | 0.09102093 | 39.262382 | 0.000000e+00 |  5.14575824 | count | 0.000000e+00 |\n",
       "\n"
      ],
      "text/plain": [
       "  gene_short_name num_cells_expressed status term               estimate   \n",
       "1 TPM2            1997                OK     (Intercept)         0.33450380\n",
       "2 TPM2            1997                OK     patientID Number 2  0.12686937\n",
       "3 TPM2            1997                OK     patientID Number 3 -0.06966147\n",
       "4 TPM2            1997                OK     subgrp_cont         3.57369851\n",
       "  std_err    test_val  p_value      normalized_effect model_component\n",
       "1 0.06563796  5.096194 3.465492e-07  0.00000000       count          \n",
       "2 0.06385375  1.986874 4.693633e-02  0.18181177       count          \n",
       "3 0.05386054 -1.293367 1.958840e-01 -0.09976083       count          \n",
       "4 0.09102093 39.262382 0.000000e+00  5.14575824       count          \n",
       "  q_value     \n",
       "1 2.772394e-05\n",
       "2 1.000000e+00\n",
       "3 1.000000e+00\n",
       "4 0.000000e+00"
      ]
     },
     "metadata": {},
     "output_type": "display_data"
    }
   ],
   "source": [
    "## Show example coefficients for gene_num\n",
    "all_coef_m0[(all_coef_m0$gene_short_name == gene_name), c(1:2, 5:13)]\n",
    "all_coef_m1[(all_coef_m1$gene_short_name == gene_name), c(1:2, 5:13)]\n",
    "all_coef_m2[(all_coef_m2$gene_short_name == gene_name), c(1:2, 5:13)]"
   ]
  },
  {
   "cell_type": "code",
   "execution_count": 106,
   "metadata": {},
   "outputs": [],
   "source": [
    "## Fix the model (Monocle Bug) - Cases 1 and 2\n",
    "id <- as.character(short2geneid[as.character(gene_vsmc_fits_m0$gene_short_name)])\n",
    "m0 <- cbind(id, gene_vsmc_fits_m0)\n",
    "m1 <- cbind(id, gene_vsmc_fits_m1)\n",
    "m2 <- cbind(id, gene_vsmc_fits_m2)"
   ]
  },
  {
   "cell_type": "code",
   "execution_count": 107,
   "metadata": {},
   "outputs": [
    {
     "data": {
      "text/html": [
       "<table>\n",
       "<caption>A tibble: 1 × 11</caption>\n",
       "<thead>\n",
       "\t<tr><th scope=col>id</th><th scope=col>gene_short_name</th><th scope=col>num_cells_expressed</th><th scope=col>status</th><th scope=col>null_deviance</th><th scope=col>df_null</th><th scope=col>logLik</th><th scope=col>AIC</th><th scope=col>BIC</th><th scope=col>deviance</th><th scope=col>df_residual</th></tr>\n",
       "\t<tr><th scope=col>&lt;fct&gt;</th><th scope=col>&lt;fct&gt;</th><th scope=col>&lt;int&gt;</th><th scope=col>&lt;chr&gt;</th><th scope=col>&lt;dbl&gt;</th><th scope=col>&lt;int&gt;</th><th scope=col>&lt;dbl&gt;</th><th scope=col>&lt;dbl&gt;</th><th scope=col>&lt;dbl&gt;</th><th scope=col>&lt;dbl&gt;</th><th scope=col>&lt;int&gt;</th></tr>\n",
       "</thead>\n",
       "<tbody>\n",
       "\t<tr><td>ENSG00000198467</td><td>TPM2</td><td>1997</td><td>OK</td><td>2852.938</td><td>2445</td><td>-8260.618</td><td>16529.24</td><td>16529.24</td><td>2841.648</td><td>2443</td></tr>\n",
       "</tbody>\n",
       "</table>\n"
      ],
      "text/latex": [
       "A tibble: 1 × 11\n",
       "\\begin{tabular}{lllllllllll}\n",
       " id & gene\\_short\\_name & num\\_cells\\_expressed & status & null\\_deviance & df\\_null & logLik & AIC & BIC & deviance & df\\_residual\\\\\n",
       " <fct> & <fct> & <int> & <chr> & <dbl> & <int> & <dbl> & <dbl> & <dbl> & <dbl> & <int>\\\\\n",
       "\\hline\n",
       "\t ENSG00000198467 & TPM2 & 1997 & OK & 2852.938 & 2445 & -8260.618 & 16529.24 & 16529.24 & 2841.648 & 2443\\\\\n",
       "\\end{tabular}\n"
      ],
      "text/markdown": [
       "\n",
       "A tibble: 1 × 11\n",
       "\n",
       "| id &lt;fct&gt; | gene_short_name &lt;fct&gt; | num_cells_expressed &lt;int&gt; | status &lt;chr&gt; | null_deviance &lt;dbl&gt; | df_null &lt;int&gt; | logLik &lt;dbl&gt; | AIC &lt;dbl&gt; | BIC &lt;dbl&gt; | deviance &lt;dbl&gt; | df_residual &lt;int&gt; |\n",
       "|---|---|---|---|---|---|---|---|---|---|---|\n",
       "| ENSG00000198467 | TPM2 | 1997 | OK | 2852.938 | 2445 | -8260.618 | 16529.24 | 16529.24 | 2841.648 | 2443 |\n",
       "\n"
      ],
      "text/plain": [
       "  id              gene_short_name num_cells_expressed status null_deviance\n",
       "1 ENSG00000198467 TPM2            1997                OK     2852.938     \n",
       "  df_null logLik    AIC      BIC      deviance df_residual\n",
       "1 2445    -8260.618 16529.24 16529.24 2841.648 2443       "
      ]
     },
     "metadata": {},
     "output_type": "display_data"
    },
    {
     "data": {
      "text/html": [
       "<table>\n",
       "<caption>A tibble: 1 × 11</caption>\n",
       "<thead>\n",
       "\t<tr><th scope=col>id</th><th scope=col>gene_short_name</th><th scope=col>num_cells_expressed</th><th scope=col>status</th><th scope=col>null_deviance</th><th scope=col>df_null</th><th scope=col>logLik</th><th scope=col>AIC</th><th scope=col>BIC</th><th scope=col>deviance</th><th scope=col>df_residual</th></tr>\n",
       "\t<tr><th scope=col>&lt;fct&gt;</th><th scope=col>&lt;fct&gt;</th><th scope=col>&lt;int&gt;</th><th scope=col>&lt;chr&gt;</th><th scope=col>&lt;dbl&gt;</th><th scope=col>&lt;int&gt;</th><th scope=col>&lt;dbl&gt;</th><th scope=col>&lt;dbl&gt;</th><th scope=col>&lt;dbl&gt;</th><th scope=col>&lt;dbl&gt;</th><th scope=col>&lt;int&gt;</th></tr>\n",
       "</thead>\n",
       "<tbody>\n",
       "\t<tr><td>ENSG00000198467</td><td>TPM2</td><td>1997</td><td>OK</td><td>5099.136</td><td>2445</td><td>-7421.651</td><td>14857.3</td><td>14857.3</td><td>2722.678</td><td>2440</td></tr>\n",
       "</tbody>\n",
       "</table>\n"
      ],
      "text/latex": [
       "A tibble: 1 × 11\n",
       "\\begin{tabular}{lllllllllll}\n",
       " id & gene\\_short\\_name & num\\_cells\\_expressed & status & null\\_deviance & df\\_null & logLik & AIC & BIC & deviance & df\\_residual\\\\\n",
       " <fct> & <fct> & <int> & <chr> & <dbl> & <int> & <dbl> & <dbl> & <dbl> & <dbl> & <int>\\\\\n",
       "\\hline\n",
       "\t ENSG00000198467 & TPM2 & 1997 & OK & 5099.136 & 2445 & -7421.651 & 14857.3 & 14857.3 & 2722.678 & 2440\\\\\n",
       "\\end{tabular}\n"
      ],
      "text/markdown": [
       "\n",
       "A tibble: 1 × 11\n",
       "\n",
       "| id &lt;fct&gt; | gene_short_name &lt;fct&gt; | num_cells_expressed &lt;int&gt; | status &lt;chr&gt; | null_deviance &lt;dbl&gt; | df_null &lt;int&gt; | logLik &lt;dbl&gt; | AIC &lt;dbl&gt; | BIC &lt;dbl&gt; | deviance &lt;dbl&gt; | df_residual &lt;int&gt; |\n",
       "|---|---|---|---|---|---|---|---|---|---|---|\n",
       "| ENSG00000198467 | TPM2 | 1997 | OK | 5099.136 | 2445 | -7421.651 | 14857.3 | 14857.3 | 2722.678 | 2440 |\n",
       "\n"
      ],
      "text/plain": [
       "  id              gene_short_name num_cells_expressed status null_deviance\n",
       "1 ENSG00000198467 TPM2            1997                OK     5099.136     \n",
       "  df_null logLik    AIC     BIC     deviance df_residual\n",
       "1 2445    -7421.651 14857.3 14857.3 2722.678 2440       "
      ]
     },
     "metadata": {},
     "output_type": "display_data"
    },
    {
     "data": {
      "text/html": [
       "<table>\n",
       "<caption>A tibble: 1 × 11</caption>\n",
       "<thead>\n",
       "\t<tr><th scope=col>id</th><th scope=col>gene_short_name</th><th scope=col>num_cells_expressed</th><th scope=col>status</th><th scope=col>null_deviance</th><th scope=col>df_null</th><th scope=col>logLik</th><th scope=col>AIC</th><th scope=col>BIC</th><th scope=col>deviance</th><th scope=col>df_residual</th></tr>\n",
       "\t<tr><th scope=col>&lt;fct&gt;</th><th scope=col>&lt;fct&gt;</th><th scope=col>&lt;int&gt;</th><th scope=col>&lt;chr&gt;</th><th scope=col>&lt;dbl&gt;</th><th scope=col>&lt;int&gt;</th><th scope=col>&lt;dbl&gt;</th><th scope=col>&lt;dbl&gt;</th><th scope=col>&lt;dbl&gt;</th><th scope=col>&lt;dbl&gt;</th><th scope=col>&lt;int&gt;</th></tr>\n",
       "</thead>\n",
       "<tbody>\n",
       "\t<tr><td>ENSG00000198467</td><td>TPM2</td><td>1997</td><td>OK</td><td>3805.221</td><td>2445</td><td>-7824.236</td><td>15658.47</td><td>15658.47</td><td>2763.596</td><td>2442</td></tr>\n",
       "</tbody>\n",
       "</table>\n"
      ],
      "text/latex": [
       "A tibble: 1 × 11\n",
       "\\begin{tabular}{lllllllllll}\n",
       " id & gene\\_short\\_name & num\\_cells\\_expressed & status & null\\_deviance & df\\_null & logLik & AIC & BIC & deviance & df\\_residual\\\\\n",
       " <fct> & <fct> & <int> & <chr> & <dbl> & <int> & <dbl> & <dbl> & <dbl> & <dbl> & <int>\\\\\n",
       "\\hline\n",
       "\t ENSG00000198467 & TPM2 & 1997 & OK & 3805.221 & 2445 & -7824.236 & 15658.47 & 15658.47 & 2763.596 & 2442\\\\\n",
       "\\end{tabular}\n"
      ],
      "text/markdown": [
       "\n",
       "A tibble: 1 × 11\n",
       "\n",
       "| id &lt;fct&gt; | gene_short_name &lt;fct&gt; | num_cells_expressed &lt;int&gt; | status &lt;chr&gt; | null_deviance &lt;dbl&gt; | df_null &lt;int&gt; | logLik &lt;dbl&gt; | AIC &lt;dbl&gt; | BIC &lt;dbl&gt; | deviance &lt;dbl&gt; | df_residual &lt;int&gt; |\n",
       "|---|---|---|---|---|---|---|---|---|---|---|\n",
       "| ENSG00000198467 | TPM2 | 1997 | OK | 3805.221 | 2445 | -7824.236 | 15658.47 | 15658.47 | 2763.596 | 2442 |\n",
       "\n"
      ],
      "text/plain": [
       "  id              gene_short_name num_cells_expressed status null_deviance\n",
       "1 ENSG00000198467 TPM2            1997                OK     3805.221     \n",
       "  df_null logLik    AIC      BIC      deviance df_residual\n",
       "1 2445    -7824.236 15658.47 15658.47 2763.596 2442       "
      ]
     },
     "metadata": {},
     "output_type": "display_data"
    }
   ],
   "source": [
    "## Show example gene modole, similar to glm summary function, only for Cases 1 and 2\n",
    "evaluate_fits(m0[gene_num,])[c(1:3,6:13)]\n",
    "evaluate_fits(m1[gene_num,])[c(1:3,6:13)]\n",
    "evaluate_fits(m2[gene_num,])[c(1:3,6:13)]"
   ]
  },
  {
   "cell_type": "code",
   "execution_count": 88,
   "metadata": {},
   "outputs": [],
   "source": [
    "## Compare models (similar to glm anova function), Cases 1 and 2\n",
    "cmp.m1.m0 <- compare_models(m1, m0)\n",
    "cmp.m2.m0 <- compare_models(m2, m0) "
   ]
  },
  {
   "cell_type": "code",
   "execution_count": 89,
   "metadata": {},
   "outputs": [],
   "source": [
    "## Extract the continuous group coefficient from model case 2\n",
    "subgrp_cont_coef <- all_coef_m2[,c(1,2,5:13)] %>% filter(term == \"subgrp_cont\")"
   ]
  },
  {
   "cell_type": "code",
   "execution_count": 90,
   "metadata": {},
   "outputs": [],
   "source": [
    "## Write the results for cases 1 and 2\n",
    "f10 <- '/Diff.vsmc_groups.1_4.categorical.compare.models.txt'\n",
    "f10 <- paste(datdir, '/', ps$outdir, celltypes6[p], f10, sep = '')\n",
    "write.table(cmp.m1.m0, f10, col.names = TRUE, row.names = FALSE)\n",
    "\n",
    "f11 <- '/Diff.vsmc_groups.1_4.continuous.compare.models.txt'\n",
    "f11 <- paste(datdir, '/', ps$outdir, celltypes6[p], f11, sep = '')\n",
    "write.table(cmp.m2.m0, f11, col.names = TRUE, row.names = FALSE)\n",
    "\n",
    "f12 <- '/Diff.vsmc_groups.1_4.continuous.model.coef.txt'\n",
    "f12 <- paste(datdir, '/', ps$outdir, celltypes6[p], f12, sep = '')\n",
    "write.table(subgrp_cont_coef, f12, col.names = TRUE, row.names = FALSE)"
   ]
  },
  {
   "cell_type": "code",
   "execution_count": 20,
   "metadata": {},
   "outputs": [],
   "source": [
    "## Perform Monocle 3 DE Analysis for Cases 1c and 2c, heatmap limited gene set\n",
    "family_type_selc <- 2\n",
    "ft <- c('quasipoisson', 'negbinomial', 'gaussian', 'binomial')[family_type_selc]\n",
    "\n",
    "gene_vsmc_fits_m0c <- fit_models(vsmcmod_cds, cores = 4, expression_family = ft,\n",
    "                                model_formula_str = mod0c) \n",
    "all_coef_m0c <- coefficient_table(gene_vsmc_fits_m0c)\n",
    "\n",
    "gene_vsmc_fits_m1c <- fit_models(vsmcmod_cds, cores = 4, expression_family = ft,\n",
    "                                model_formula_str = mod1c) \n",
    "all_coef_m1c <- coefficient_table(gene_vsmc_fits_m1c)\n",
    "\n",
    "gene_vsmc_fits_m2c <- fit_models(vsmcmod_cds, cores = 4, expression_family = ft,\n",
    "                                model_formula_str = mod2c) \n",
    "all_coef_m2c <- coefficient_table(gene_vsmc_fits_m2c)"
   ]
  },
  {
   "cell_type": "code",
   "execution_count": 21,
   "metadata": {},
   "outputs": [],
   "source": [
    "## Fix the model (Monocle Bug) - Cases 1c and 2c, heatmap limited gene set\n",
    "id <- as.character(short2geneid[as.character(gene_vsmc_fits_m0c$gene_short_name)])\n",
    "m0c <- cbind(id, gene_vsmc_fits_m0c)\n",
    "m1c <- cbind(id, gene_vsmc_fits_m1c)\n",
    "m2c <- cbind(id, gene_vsmc_fits_m2c)"
   ]
  },
  {
   "cell_type": "code",
   "execution_count": 141,
   "metadata": {},
   "outputs": [
    {
     "ename": "ERROR",
     "evalue": "Error in eval(lhs, parent, parent): object 'm1c' not found\n",
     "output_type": "error",
     "traceback": [
      "Error in eval(lhs, parent, parent): object 'm1c' not found\nTraceback:\n",
      "1. compare_models(m1c, m0c)",
      "2. evaluate_fits(model_tbl_full)",
      "3. model_tbl %>% dplyr::mutate(glanced = purrr::map(model, private_glance)) %>% \n .     tidyr::unnest(glanced, .drop = TRUE)",
      "4. eval(lhs, parent, parent)",
      "5. eval(lhs, parent, parent)"
     ]
    }
   ],
   "source": [
    "## Compare models (similar to glm anova function), Cases 1 and 2, heatmap limited gene set\n",
    "cmp.m1c.m0c <- compare_models(m1c, m0c)\n",
    "cmp.m2c.m0c <- compare_models(m2c, m0c) "
   ]
  },
  {
   "cell_type": "code",
   "execution_count": 23,
   "metadata": {},
   "outputs": [],
   "source": [
    "## Extract the continuous group coefficient from model case 2c, heatmap limited gene set\n",
    "subgrp_cont_coefc <- all_coef_m2c[,c(1,2,5:13)] %>% filter(term == \"subgrp_cont\")"
   ]
  },
  {
   "cell_type": "code",
   "execution_count": 174,
   "metadata": {},
   "outputs": [],
   "source": [
    "## Write the results for cases 1c and 2c, heatmap limited gene sets\n",
    "f13 <- '/Diff.vsmc_groups.1_4.categorical.xcondtion.compare.models.txt'\n",
    "f13 <- paste(datdir, '/', ps$outdir, celltypes6[p], f13, sep = '')\n",
    "write.table(cmp.m1c.m0c, f13, col.names = TRUE, row.names = FALSE)\n",
    "\n",
    "f14 <- '/Diff.vsmc_groups.1_4.continuous.xcondtion.compare.models.txt'\n",
    "f14 <- paste(datdir, '/', ps$outdir, celltypes6[p], f14, sep = '')\n",
    "write.table(cmp.m2c.m0c, f14, col.names = TRUE, row.names = FALSE)\n",
    "\n",
    "f15 <- '/Diff.vsmc_groups.1_4.continuous.xcondtion.model.coef.txt'\n",
    "f15 <- paste(datdir, '/', ps$outdir, celltypes6[p], f15, sep = '')\n",
    "write.table(subgrp_cont_coefc, f15, col.names = TRUE, row.names = FALSE)"
   ]
  },
  {
   "cell_type": "code",
   "execution_count": null,
   "metadata": {},
   "outputs": [],
   "source": []
  },
  {
   "cell_type": "code",
   "execution_count": null,
   "metadata": {},
   "outputs": [],
   "source": []
  },
  {
   "cell_type": "code",
   "execution_count": null,
   "metadata": {},
   "outputs": [],
   "source": []
  },
  {
   "cell_type": "code",
   "execution_count": null,
   "metadata": {},
   "outputs": [],
   "source": []
  },
  {
   "cell_type": "code",
   "execution_count": null,
   "metadata": {},
   "outputs": [],
   "source": []
  },
  {
   "cell_type": "code",
   "execution_count": null,
   "metadata": {},
   "outputs": [],
   "source": []
  },
  {
   "cell_type": "code",
   "execution_count": null,
   "metadata": {},
   "outputs": [],
   "source": []
  },
  {
   "cell_type": "code",
   "execution_count": 21,
   "metadata": {},
   "outputs": [],
   "source": [
    "## Perform Monocle 3 DE Analysis for Cases 1c and 2c, all gene set, condition corrected\n",
    "family_type_selc <- 2\n",
    "ft <- c('quasipoisson', 'negbinomial', 'gaussian', 'binomial')[family_type_selc]\n",
    "\n",
    "gene_vsmc_fits_m0ca <- fit_models(vsmcall_cds, cores = 1, expression_family = ft,\n",
    "                                model_formula_str = mod0c) \n",
    "all_coef_m0ca <- coefficient_table(gene_vsmc_fits_m0ca)\n",
    "\n",
    "gene_vsmc_fits_m1ca <- fit_models(vsmcall_cds, cores = 1, expression_family = ft,\n",
    "                                model_formula_str = mod1c) \n",
    "all_coef_m1ca <- coefficient_table(gene_vsmc_fits_m1ca)\n",
    "\n",
    "gene_vsmc_fits_m2ca <- fit_models(vsmcall_cds, cores = 1, expression_family = ft,\n",
    "                                model_formula_str = mod2c) \n",
    "all_coef_m2ca <- coefficient_table(gene_vsmc_fits_m2ca)"
   ]
  },
  {
   "cell_type": "code",
   "execution_count": 22,
   "metadata": {},
   "outputs": [],
   "source": [
    "## Fix the model (Monocle Bug) - Cases 1c and 2c, all gene set, condition corrected\n",
    "id <- as.character(short2geneid[as.character(gene_vsmc_fits_m0ca$gene_short_name)])\n",
    "m0ca <- cbind(id, gene_vsmc_fits_m0ca)\n",
    "m1ca <- cbind(id, gene_vsmc_fits_m1ca)\n",
    "m2ca <- cbind(id, gene_vsmc_fits_m2ca)"
   ]
  },
  {
   "cell_type": "code",
   "execution_count": 142,
   "metadata": {},
   "outputs": [],
   "source": [
    "## Compare models (similar to glm anova function), Cases 1 and 2, all gene set, condition corrected\n",
    "cmp.m1ca.m0ca <- compare_models(m1ca, m0ca)\n",
    "cmp.m2ca.m0ca <- compare_models(m2ca, m0ca) "
   ]
  },
  {
   "cell_type": "code",
   "execution_count": 24,
   "metadata": {},
   "outputs": [],
   "source": [
    "## Extract the continuous group coefficient from model case 2c, all gene set, condition corrected\n",
    "subgrp_cont_coefca <- all_coef_m2ca[,c(1,2,5:13)] %>% filter(term == \"subgrp_cont\")"
   ]
  },
  {
   "cell_type": "code",
   "execution_count": 25,
   "metadata": {},
   "outputs": [],
   "source": [
    "## Write the results for cases 1c and 2c, all gene set, condition corrected\n",
    "f16 <- '/Diff.vsmc_groups.1_4.allgenes.categorical.xcondtion.compare.models.txt'\n",
    "f16 <- paste(datdir, '/', ps$outdir, celltypes6[p], f16, sep = '')\n",
    "write.table(cmp.m1ca.m0ca, f16, col.names = TRUE, row.names = FALSE)\n",
    "\n",
    "f17 <- '/Diff.vsmc_groups.1_4.allgenes.continuous.xcondtion.compare.models.txt'\n",
    "f17 <- paste(datdir, '/', ps$outdir, celltypes6[p], f17, sep = '')\n",
    "write.table(cmp.m2ca.m0ca, f17, col.names = TRUE, row.names = FALSE)\n",
    "\n",
    "f18 <- '/Diff.vsmc_groups.1_4.allgenes.continuous.xcondtion.model.coef.txt'\n",
    "f18 <- paste(datdir, '/', ps$outdir, celltypes6[p], f18, sep = '')\n",
    "write.table(subgrp_cont_coefca, f18, col.names = TRUE, row.names = FALSE)"
   ]
  },
  {
   "cell_type": "code",
   "execution_count": null,
   "metadata": {},
   "outputs": [],
   "source": []
  },
  {
   "cell_type": "code",
   "execution_count": null,
   "metadata": {},
   "outputs": [],
   "source": []
  },
  {
   "cell_type": "code",
   "execution_count": null,
   "metadata": {},
   "outputs": [],
   "source": []
  },
  {
   "cell_type": "code",
   "execution_count": 21,
   "metadata": {},
   "outputs": [],
   "source": [
    "## Perform Monocle 3 DE Analysis for vsmc case 2 , all gene set, condition not corrected, \n",
    "## continuous group covariate, continuous gene expression\n",
    "family_type_selc <- 2\n",
    "ft <- c('quasipoisson', 'negbinomial', 'gaussian', 'binomial')[family_type_selc]\n",
    "\n",
    "gene_vsmc_fits_m2a <- fit_models(vsmcall_cds, cores = 1, expression_family = ft,\n",
    "                                model_formula_str = mod2) \n",
    "all_coef_m2a <- coefficient_table(gene_vsmc_fits_m2a)"
   ]
  },
  {
   "cell_type": "code",
   "execution_count": 22,
   "metadata": {},
   "outputs": [],
   "source": [
    "## Extract the continuous group coefficient from model case 2, all gene set, condition not corrected\n",
    "subgrp_cont_coefa <- all_coef_m2a[,c(1,2,5:13)] %>% filter(term == \"subgrp_cont\")"
   ]
  },
  {
   "cell_type": "code",
   "execution_count": 24,
   "metadata": {},
   "outputs": [],
   "source": [
    "## Write the results for case 2, all gene set, condition not corrected\n",
    "f30 <- '/Diff.vsmc_groups.1_4.continuous.allgenes.continuous.expression.model.coef.txt'\n",
    "f30 <- paste(datdir, '/', ps$outdir, celltypes6[p], f30, sep = '')\n",
    "write.table(subgrp_cont_coefa, f30, col.names = TRUE, row.names = FALSE)"
   ]
  },
  {
   "cell_type": "code",
   "execution_count": 51,
   "metadata": {},
   "outputs": [],
   "source": [
    "vegfc_exp_ind <- which(rownames(vsmcall_cds) %in% short2geneid['VEGFC'])\n",
    "vegfc_exp_ind <- which(rownames(vsmcall_cds) %in% short2geneid['ADH1C'])\n",
    "vegfc_exp_ind <- which(rownames(vsmcall_cds) %in% short2geneid['HP'])\n",
    "vegfc_exp <- exprs(vsmcall_cds)[vegfc_exp_ind,]\n",
    "vegfx_exp_plus <- vegfc_exp > 0"
   ]
  },
  {
   "cell_type": "code",
   "execution_count": 52,
   "metadata": {},
   "outputs": [
    {
     "data": {
      "text/plain": [
       "\n",
       "0.00788954635108481    0.71785028790787 \n",
       "                 38                   1 "
      ]
     },
     "metadata": {},
     "output_type": "display_data"
    }
   ],
   "source": [
    "table(colData(vsmcmod_cds)$subgrp_cont[vegfx_exp_plus])"
   ]
  },
  {
   "cell_type": "code",
   "execution_count": 53,
   "metadata": {},
   "outputs": [
    {
     "data": {
      "text/plain": [
       "NULL"
      ]
     },
     "metadata": {},
     "output_type": "display_data"
    }
   ],
   "source": [
    "colData(vsmcmod_cds)$subgrp_cond"
   ]
  },
  {
   "cell_type": "code",
   "execution_count": 46,
   "metadata": {},
   "outputs": [
    {
     "data": {
      "text/html": [
       "33"
      ],
      "text/latex": [
       "33"
      ],
      "text/markdown": [
       "33"
      ],
      "text/plain": [
       "[1] 33"
      ]
     },
     "metadata": {},
     "output_type": "display_data"
    }
   ],
   "source": [
    "sum(vegfc_exp)"
   ]
  },
  {
   "cell_type": "code",
   "execution_count": 99,
   "metadata": {},
   "outputs": [],
   "source": [
    "## Similar all gene test, but only perform mod2 and mod2c models using binary expression data\n",
    "\n",
    "## Set up to create cds with expression data as binary (a binary 1 is UMI expression count 2 or more)\n",
    "vsmcall_cds_exp <- 1 * (exprs(vsmcall_cds) > 1)\n",
    "\n",
    "## Get the cell meta data\n",
    "vsmcall_cds_meta <- as.data.frame(colData(vsmcall_cds)$patient)\n",
    "rownames(vsmcall_cds_meta) <- colnames(vsmcall_cds_exp)\n",
    "vsmcall_cds_meta <- cbind(vsmcall_cds_meta, colData(vsmcall_cds)$condition)\n",
    "vsmcall_cds_meta <- cbind(vsmcall_cds_meta, colData(vsmcall_cds)$subgrp)\n",
    "vsmcall_cds_meta <- cbind(vsmcall_cds_meta, colData(vsmcall_cds)$subgrp_c)\n",
    "vsmcall_cds_meta <- cbind(vsmcall_cds_meta, colData(vsmcall_cds)$subgrp_cont)\n",
    "colnames(vsmcall_cds_meta) <- c('patient', 'condition', 'subgrp', 'subgrp_c', 'subgrp_cont')\n",
    "\n",
    "## Get the gene data\n",
    "vsmcall_cds_gene <- as.data.frame(geneid2short[rownames(vsmcall_cds_exp)])\n",
    "colnames(vsmcall_cds_gene) <- 'gene_short_name'\n",
    "rownames(vsmcall_cds_gene) <- rownames(vsmcall_cds_exp) # Is not working!! May not be needed"
   ]
  },
  {
   "cell_type": "code",
   "execution_count": 112,
   "metadata": {},
   "outputs": [],
   "source": [
    "## Recreate the binary cds from the expression data, cell and gene data\n",
    "vsmcall_cds2 <- new_cell_data_set(vsmcall_cds_exp,\n",
    "                         cell_metadata = vsmcall_cds_meta,\n",
    "                         gene_metadata = vsmcall_cds_gene)\n",
    "\n",
    "## This will add the cell count data to to the coefficient table\n",
    "vsmcall_cds2 <- detect_genes(vsmcall_cds2)  "
   ]
  },
  {
   "cell_type": "code",
   "execution_count": 117,
   "metadata": {},
   "outputs": [],
   "source": [
    "## First, do the DE without the condition covariate\n",
    "gene_vsmc_fits_m2ab <- fit_models(vsmcall_cds2, cores = 1, expression_family = ft,\n",
    "                                model_formula_str = mod2) \n",
    "all_coef_m2ab <- coefficient_table(gene_vsmc_fits_m2ab)"
   ]
  },
  {
   "cell_type": "code",
   "execution_count": 118,
   "metadata": {},
   "outputs": [],
   "source": [
    "## Second, do the DE with the condition covariate\n",
    "gene_vsmc_fits_m2cab <- fit_models(vsmcall_cds2, cores = 1, expression_family = ft,\n",
    "                                model_formula_str = mod2c) \n",
    "all_coef_m2cab <- coefficient_table(gene_vsmc_fits_m2cab)"
   ]
  },
  {
   "cell_type": "code",
   "execution_count": 119,
   "metadata": {},
   "outputs": [],
   "source": [
    "## Extract the continuous group coefficient from model case mod2 and mod2c, all gene set, binary data\n",
    "subgrp_cont_coefab <- all_coef_m2ab[,c(1,2,5:13)] %>% filter(term == \"subgrp_cont\")\n",
    "subgrp_cont_coefcab <- all_coef_m2cab[,c(1,2,5:13)] %>% filter(term == \"subgrp_cont\")"
   ]
  },
  {
   "cell_type": "code",
   "execution_count": 120,
   "metadata": {},
   "outputs": [],
   "source": [
    "## Write the mod2 and mod2c all gene set, binary data\n",
    "f19 <- '/Diff.vsmc_groups.1_4.allgenes.continuous.binary.model.coef.txt'\n",
    "f19 <- paste(datdir, '/', ps$outdir, celltypes6[p], f19, sep = '')\n",
    "write.table(subgrp_cont_coefab, f19, col.names = TRUE, row.names = FALSE)\n",
    "\n",
    "f20 <- '/Diff.vsmc_groups.1_4.allgenes.continuous.xcondtion.binary.model.coef.txt'\n",
    "f20 <- paste(datdir, '/', ps$outdir, celltypes6[p], f20, sep = '')\n",
    "write.table(subgrp_cont_coefcab, f20, col.names = TRUE, row.names = FALSE)"
   ]
  },
  {
   "cell_type": "code",
   "execution_count": 121,
   "metadata": {},
   "outputs": [],
   "source": [
    "## Fix the model (Monocle Bug) - Cases 2 and 2c, all gene set, binary data\n",
    "id <- as.character(short2geneid[as.character(gene_vsmc_fits_m2ab$gene_short_name)])\n",
    "m2ab <- cbind(id, gene_vsmc_fits_m2ab)\n",
    "m2cab <- cbind(id, gene_vsmc_fits_m2cab)"
   ]
  },
  {
   "cell_type": "code",
   "execution_count": 122,
   "metadata": {},
   "outputs": [],
   "source": [
    "## Compare models (similar to glm anova function), Cases 2 and 2c, all gene set, binary data\n",
    "cmp.m2ab.m2cab <- compare_models(m2ab, m2cab)"
   ]
  },
  {
   "cell_type": "code",
   "execution_count": 123,
   "metadata": {},
   "outputs": [],
   "source": [
    "## Write the results for cases 2 and 2c, all gene set\n",
    "f21 <- '/Diff.vsmc_groups.1_4.allgenes.binary.continuous.ANOVA.wo.w.xcondtion.compare.models.txt'\n",
    "f21 <- paste(datdir, '/', ps$outdir, celltypes6[p], f21, sep = '')\n",
    "write.table(cmp.m2ab.m2cab, f21, col.names = TRUE, row.names = FALSE)"
   ]
  },
  {
   "cell_type": "code",
   "execution_count": null,
   "metadata": {},
   "outputs": [],
   "source": []
  },
  {
   "cell_type": "code",
   "execution_count": null,
   "metadata": {},
   "outputs": [],
   "source": []
  },
  {
   "cell_type": "code",
   "execution_count": null,
   "metadata": {},
   "outputs": [],
   "source": []
  },
  {
   "cell_type": "code",
   "execution_count": 67,
   "metadata": {},
   "outputs": [],
   "source": []
  },
  {
   "cell_type": "markdown",
   "metadata": {},
   "source": [
    "## EC Unknown Process (Modules_1_35_and_36_2_6)\n",
    "### Updated code"
   ]
  },
  {
   "cell_type": "code",
   "execution_count": 43,
   "metadata": {},
   "outputs": [
    {
     "data": {
      "text/plain": [
       "\n",
       "blue  red \n",
       " 449  449 "
      ]
     },
     "metadata": {},
     "output_type": "display_data"
    },
    {
     "data": {
      "text/html": [
       "<strong>png:</strong> 2"
      ],
      "text/latex": [
       "\\textbf{png:} 2"
      ],
      "text/markdown": [
       "**png:** 2"
      ],
      "text/plain": [
       "png \n",
       "  2 "
      ]
     },
     "metadata": {},
     "output_type": "display_data"
    },
    {
     "data": {
      "text/html": [
       "<strong>png:</strong> 2"
      ],
      "text/latex": [
       "\\textbf{png:} 2"
      ],
      "text/markdown": [
       "**png:** 2"
      ],
      "text/plain": [
       "png \n",
       "  2 "
      ]
     },
     "metadata": {},
     "output_type": "display_data"
    },
    {
     "data": {
      "text/html": [
       "<strong>png:</strong> 2"
      ],
      "text/latex": [
       "\\textbf{png:} 2"
      ],
      "text/markdown": [
       "**png:** 2"
      ],
      "text/plain": [
       "png \n",
       "  2 "
      ]
     },
     "metadata": {},
     "output_type": "display_data"
    },
    {
     "data": {
      "text/html": [
       "<strong>png:</strong> 2"
      ],
      "text/latex": [
       "\\textbf{png:} 2"
      ],
      "text/markdown": [
       "**png:** 2"
      ],
      "text/plain": [
       "png \n",
       "  2 "
      ]
     },
     "metadata": {},
     "output_type": "display_data"
    },
    {
     "data": {
      "text/html": [
       "<strong>png:</strong> 2"
      ],
      "text/latex": [
       "\\textbf{png:} 2"
      ],
      "text/markdown": [
       "**png:** 2"
      ],
      "text/plain": [
       "png \n",
       "  2 "
      ]
     },
     "metadata": {},
     "output_type": "display_data"
    }
   ],
   "source": [
    "## Get the Expression Set for EC 1, 2, 6, 35, 36 DE Genes\n",
    "p <- 2\n",
    "ec_bool <- (colData(down_stdycds)$assigned_cell_type == celltypes6[p])\n",
    "ecmod_cds <- down_stdycds[fData(down_stdycds)@rownames %in% ec_modgenes_1_2_6_35_36_ids, ec_bool]\n",
    "colData(ecmod_cds)$condtype <- paste('ec',\n",
    "    c('hea', 'dis')[(colData(ecmod_cds)$condition == 'diseased') + 1], sep = '-')\n",
    "colData(ecmod_cds)$sidecolor[colData(ecmod_cds)$condtype == 'ec-dis'] <- 'red'\n",
    "colData(ecmod_cds)$sidecolor[colData(ecmod_cds)$condtype == 'ec-hea'] <- 'blue'\n",
    "# colData(ecmod_cds)$sidecolor[colData(ecmod_cds)$condtype == 'vsmc-dis'] <- 'orange'\n",
    "# colData(ecmod_cds)$sidecolor[colData(ecmod_cds)$condtype == 'vsmc-hea'] <- 'cyan'\n",
    "\n",
    "## Down Sample\n",
    "cttable <- table(colData(ecmod_cds)$sidecolor)\n",
    "smallset <- min(cttable)\n",
    "cells2keep <- NULL\n",
    "set.seed(101)\n",
    "for (cellset_col in names(cttable)) {\n",
    "    cellsetrow <-  which(colData(ecmod_cds)$sidecolor == cellset_col)\n",
    "    cells2keep <- c(cells2keep, sample(cellsetrow, smallset, replace = FALSE))\n",
    "}\n",
    "ecmod_cds <- ecmod_cds[, cells2keep] \n",
    "\n",
    "## Print the down sampled data set sizes\n",
    "table(colData(ecmod_cds)$sidecolor)\n",
    "\n",
    "## Get the expresion matrix\n",
    "expdat_ecmod <- as.matrix(exprs(ecmod_cds))\n",
    "rownames(expdat_ecmod) <- geneid2short[rownames(expdat_ecmod)] \n",
    "\n",
    "## This is a new round of heatmaps, with new genes and down sampled cell tpyes\n",
    "f1 <- '/Heatmap.EC.Mod1.2.6.35.36.Genes.comp.bin.comp.bin.down.OnOff2Plus.preclustered.Rev2.pdf'\n",
    "f1 <- paste(datdir, '/', ps$outdir, celltypes6[p], f1, sep = '')\n",
    "title1 <- 'Endothelial Network \\nModules 1, 2, 6, 35 and 36 Genes, Cells Pre-Clustered'\n",
    "\n",
    "f2 <- '/Heatmap.EC.Mod1.2.6.35.36.Genes.comp.bin.comp.bin.down.OnOff2Plus.fullyclustered.Rev2.pdf'\n",
    "f2 <- paste(datdir, '/', ps$outdir, celltypes6[p], f2, sep = '')\n",
    "title2 <-  'Endothelial Network \\nModule  1, 2, 6, 35 and 36 Genes, Cells Fully Clustered'\n",
    "\n",
    "f3 <- '/DotPlot.EC.Mod1.2.6.35.36.Genes.Rev2.pdf'\n",
    "f3 <- paste(datdir, '/', ps$outdir, celltypes6[p], f3, sep = '')\n",
    "\n",
    "f4 <- '/Heatmap.EC.Mod1.2.6.35.36.Genes.comp.bin.comp.bin.down.OnOff2Plus.fullyclustered.cut.Rev5.pdf'\n",
    "f4 <- paste(datdir, '/', ps$outdir, celltypes6[p], f4, sep = '')\n",
    "title4 <-  'VSMC Network Modules  1, 2, 6, 35 and 36\\nGenes, Cells Fully Clustered with Cuts'\n",
    "\n",
    "f5 <- '/DotPlot.EC.Mod1.2.6.35.36.Genes.cuts.Rev5.pdf'\n",
    "f5 <- paste(datdir, '/', ps$outdir, celltypes6[p], f5, sep = '')\n",
    "\n",
    "## Prepare for pre-clustering\n",
    "ec_dw <- which(colData(ecmod_cds)$condtype == 'ec-dis')\n",
    "ec_hw <- which(colData(ecmod_cds)$condtype == 'ec-hea')\n",
    "\n",
    "## Transform the data\n",
    "dims <- dim(expdat_ecmod)\n",
    "expdatbo <- (expdat_ecmod > 1) * 1\n",
    "\n",
    "## Set up clustering parameters\n",
    "## Distance method, cluster method, heatmap color scheme, legend\n",
    "distmeth <- c('binary', 'binary')\n",
    "clustmeth = c('complete', 'complete')\n",
    "my_palettebol <- colorRampPalette(c('#660066', 'yellow'))(n = 2)\n",
    "legendlstbol <- list(legend = c('EC DIS', 'EC HEA'),\n",
    "              col = c('red', 'blue'), title = 'Cell Types', cex = .7)\n",
    "\n",
    "## Individually cluster the columns of the two cell sets\n",
    "ec_dcim <- cim(expdatbo[, ec_dw], dist.method = distmeth, clust.method = clustmeth,\n",
    "    scale = \"FALSE\", center = \"FALSE\", col.names = FALSE, legend = legendlstbol,\n",
    "    color = my_palettebol, cluster = 'col',\n",
    "    col.sideColors = colData(ecmod_cds)$sidecolor[ec_dw],\n",
    "    symkey = FALSE, save = 'pdf', name.save = 'temp.ready.to.delete')\n",
    "ec_hcim <- cim(expdatbo[, ec_hw], dist.method = distmeth, clust.method = clustmeth,\n",
    "    scale = \"FALSE\", center = \"FALSE\", col.names = FALSE, legend = legendlstbol,\n",
    "    color = my_palettebol, cluster = 'col',\n",
    "    col.sideColors = colData(ecmod_cds)$sidecolor[ec_hw],\n",
    "    symkey = FALSE, save = 'pdf', name.save = 'temp.ready.to.delete')\n",
    "\n",
    "## This is the combined (concantenated) preclustered cell types\n",
    "## which are plotted with genes fully clustered (check plot)\n",
    "parthclust <- c(colnames(ec_dcim$mat), colnames(ec_hcim$mat))\n",
    "colornames <-colData(ecmod_cds)$sidecolor\n",
    "names(colornames) <- colnames(expdatbo)\n",
    "\n",
    "## This is just a check plot to the screen\n",
    "# cim(expdatbo[, parthclust], dist.method = distmeth, clust.method = clustmeth,\n",
    "#     scale = \"FALSE\", center = \"FALSE\", col.names = FALSE, legend = legendlstbol,\n",
    "#     color = my_palettebol, cluster = 'row',\n",
    "#     col.sideColors = colornames[parthclust],\n",
    "#     symkey = FALSE, save = 'pdf', name.save = 'temp.ready.to.delete')\n",
    "\n",
    "## Repeated from above, this time to a file\n",
    "pdf(f1, width = 8, height = 24)\n",
    "cim(expdatbo[, parthclust], dist.method = distmeth, clust.method = clustmeth,\n",
    "    scale = \"FALSE\", center = \"FALSE\", col.names = FALSE, legend = legendlstbol,\n",
    "    color = my_palettebol, cluster = 'row', title = title1,\n",
    "    col.sideColors = colornames[parthclust],\n",
    "    symkey = FALSE)\n",
    "dev.off()\n",
    "\n",
    "## The is again the combined cell types, plotted with both genes and cells fully clustered\n",
    "cim_save <- cim(expdatbo[, parthclust], dist.method = distmeth, clust.method = clustmeth,\n",
    "    scale = \"FALSE\", center = \"FALSE\", col.names = FALSE, legend = legendlstbol,\n",
    "    color = my_palettebol, cluster = 'both', save = 'pdf', name.save = 'temp.ready.to.delete',\n",
    "    col.sideColors = colornames[parthclust], \n",
    "    symkey = FALSE)\n",
    "\n",
    "## This is a check plot to the screen and it should match the above plot perfectly\n",
    "# cim(expdatbo[, colnames(cim_save$mat)], dist.method = distmeth, clust.method = clustmeth,\n",
    "#     scale = \"FALSE\", center = \"FALSE\", col.names = FALSE, legend = legendlstbol,\n",
    "#     color = my_palettebol, cluster = 'row', # save = 'pdf', name.save = 'temp.ready.to.delete',\n",
    "#     col.sideColors = colornames[colnames(cim_save$mat)], \n",
    "#     symkey = FALSE)\n",
    "\n",
    "## Repeated from above, this time to a file (make sure to cluster again to plot cell dendrogram)\n",
    "pdf(f2, width = 8, height = 24)\n",
    "cim(expdatbo[, parthclust], dist.method = distmeth, clust.method = clustmeth,\n",
    "    scale = \"FALSE\", center = \"FALSE\", col.names = FALSE, legend = legendlstbol,\n",
    "    color = my_palettebol, cluster = 'both', title = title2,\n",
    "    col.sideColors = colornames[parthclust], \n",
    "    symkey = FALSE)\n",
    "dev.off()\n",
    "\n",
    "specialglist <- short2geneid[cim_save$row.names]\n",
    "pdf(f3, width = 2.75, height = 23)\n",
    "plot_genes_by_group2(ecmod_cds,\n",
    "                    axis_order = \"group_marker\",\n",
    "                    specialglist,\n",
    "                    group_cells_by = \"condtype\",\n",
    "                    ordering_type = \"as_ordered\", \n",
    "                    max.size = 3,\n",
    "                    norm_method = 'size_only',\n",
    "                    scale_max = 3, scale_min = -3)\n",
    "dev.off()\n",
    "\n",
    "## Set up for plot with special cut regions\n",
    "cim_o <- colnames(cim_save$mat)\n",
    "cut0 <- 1\n",
    "cut1 <- floor(length(cim_o) * (1.573) / 5.664)\n",
    "cut2 <- floor(length(cim_o) * (3.205) / 5.664)\n",
    "cut3 <- length(cim_o)\n",
    "wcut1 <- which(colnames(expdatbo) %in% cim_o[cut0:cut1])\n",
    "wcut2 <- which(colnames(expdatbo) %in% cim_o[(cut1 + 1):cut2])\n",
    "wcut3 <- which(colnames(expdatbo) %in% cim_o[(cut2 + 1):cut3])\n",
    "wcuts <- c(wcut1, wcut2, wcut3)\n",
    "cell_subg_cols <- vector(mode = 'character', length = length(cim_o))\n",
    "cell_subg_names <- vector(mode = 'character', length = length(cim_o))\n",
    "cell_subg_cols[wcut1] <- '#404040' # '1gray'\n",
    "cell_subg_names[wcut1] <- '1gray'\n",
    "cell_subg_cols[wcut2] <- '#606060' # '2gray'\n",
    "cell_subg_names[wcut2] <- '2gray'\n",
    "cell_subg_cols[wcut3] <- '#808080' # '3gray'\n",
    "cell_subg_names[wcut3] <- '3gray'\n",
    "names(cell_subg_cols) <- cim_o\n",
    "\n",
    "## Plot the same fully clustered plot, this time without reclustering the cells,\n",
    "# but coloring the horizontal color bar according to the cuts\n",
    "pdf(f4, width = 8, height = 24)\n",
    "cim_cells <- cim(expdatbo[, colnames(cim_save$mat)], dist.method = distmeth,\n",
    "    clust.method = clustmeth,\n",
    "    scale = \"FALSE\", center = \"FALSE\", col.names = FALSE, legend = legendlstbol,\n",
    "    color = my_palettebol, cluster = 'row', title = title4,\n",
    "    col.sideColors = cell_subg_cols[wcuts],\n",
    "    symkey = FALSE)\n",
    "dev.off()\n",
    "\n",
    "specialglist <- specialglist <- short2geneid[cim_save$row.names]\n",
    "colData(ecmod_cds)$subgroups[wcuts] <- cell_subg_names[wcuts]\n",
    "pdf(f5, width = 3.25, height = 27)\n",
    "plot_genes_by_group2(ecmod_cds,\n",
    "                    axis_order = \"group_marker\",\n",
    "                    specialglist,\n",
    "                    group_cells_by = \"subgroups\",\n",
    "                    ordering_type = \"as_ordered\", \n",
    "                    max.size = 3,\n",
    "                    norm_method = 'size_only',\n",
    "                    scale_max = 3, scale_min = -3)\n",
    "dev.off()\n",
    "\n",
    "# ## Perform DE Analysis on the ec heatmat subgroup (not used yet)\n",
    "# f6 <- '/Diff.ec_group1.KeepFail.NoModels.txt'\n",
    "# f6 <- paste(datdir, '/', ps$outdir, celltypes6[p], f6, sep = '')\n",
    "# gene_ec_wcut1_fits_pat_cond_adj <- fit_models(ecmod_cds[, wcut1], cores = 4,\n",
    "#                                 model_formula_str = \"~patient + condition\")\n",
    "# all_coef1 <- NULL\n",
    "# ## Get the DE Coefficients\n",
    "# all_coef1 <- coefficient_table(gene_ec_wcut1_fits_pat_cond_adj)\n",
    "# # Extract the relavent data from the DE tables\n",
    "# condition_terms1 <- all_coef1 %>% filter(term == \"conditionhealthy\")\n",
    "# condition_termsb1 <- condition_terms1 %>% filter(status == 'OK')\n",
    "# write.table(condition_terms1[,c(1, 4:12)], f6, col.names = TRUE, row.names = FALSE)\n",
    "\n",
    "# f7 <- '/Diff.ec_group2.KeepFail.NoModels.txt'\n",
    "# f7 <- paste(datdir, '/', ps$outdir, celltypes6[p], f7, sep = '')\n",
    "# gene_ec_wcut2_fits_pat_cond_adj <- fit_models(ecmod_cds[, wcut2], cores = 4,\n",
    "#                                 model_formula_str = \"~patient + condition\")\n",
    "# all_coef2 <- NULL\n",
    "# ## Get the DE Coefficients\n",
    "# all_coef2 <- coefficient_table(gene_ec_wcut2_fits_pat_cond_adj)\n",
    "# # Extract the relavent data from the DE tables\n",
    "# condition_terms2 <- all_coef2 %>% filter(term == \"conditionhealthy\")\n",
    "# condition_termsb2 <- condition_terms2 %>% filter(status == 'OK')\n",
    "# write.table(condition_terms2[,c(1, 4:12)], f7, col.names = TRUE, row.names = FALSE)\n",
    "\n",
    "# f8 <- '/Diff.ec_group3.KeepFail.NoModels.txt'\n",
    "# f8 <- paste(datdir, '/', ps$outdir, celltypes6[p], f8, sep = '')\n",
    "# gene_ec_wcut3_fits_pat_cond_adj <- fit_models(ecmod_cds[, wcut3], cores = 4,\n",
    "#                                 model_formula_str = \"~patient + condition\")\n",
    "# all_coef3 <- NULL\n",
    "# ## Get the DE Coefficients\n",
    "# all_coef3 <- coefficient_table(gene_ec_wcut3_fits_pat_cond_adj)\n",
    "# # Extract the relavent data from the DE tables\n",
    "# condition_terms3 <- all_coef3 %>% filter(term == \"conditionhealthy\")\n",
    "# condition_termsb3 <- condition_terms3 %>% filter(status == 'OK')\n",
    "# write.table(condition_terms3[,c(1, 4:12)], f8, col.names = TRUE, row.names = FALSE)"
   ]
  },
  {
   "cell_type": "code",
   "execution_count": 44,
   "metadata": {},
   "outputs": [],
   "source": [
    "## Get the ec cell data set, but with all genes\n",
    "ecall_cds <- down_stdycds[, ec_bool]\n",
    "ecall_cds <- ecall_cds[, cells2keep]"
   ]
  },
  {
   "cell_type": "code",
   "execution_count": 45,
   "metadata": {},
   "outputs": [],
   "source": [
    "hea <- which(colData(ecmod_cds)$condition == 'healthy')\n",
    "dis <- which(colData(ecmod_cds)$condition == 'diseased')\n",
    "colData(ecmod_cds)$subgrp_c <- 'null'\n",
    "colData(ecmod_cds)$subgrp_c[intersect(wcut1, hea)] <- 'group1hea'\n",
    "colData(ecmod_cds)$subgrp_c[intersect(wcut1, dis)] <- 'group1dis'\n",
    "colData(ecmod_cds)$subgrp_c[intersect(wcut2, hea)] <- 'group2hea'\n",
    "colData(ecmod_cds)$subgrp_c[intersect(wcut2, dis)] <- 'group2dis'\n",
    "colData(ecmod_cds)$subgrp_c[intersect(wcut3, hea)] <- 'group3hea'\n",
    "colData(ecmod_cds)$subgrp_c[intersect(wcut3, dis)] <- 'group3dis'\n",
    "\n",
    "\n",
    "colData(ecmod_cds)$subgrp <- NA\n",
    "colData(ecmod_cds)$subgrp[wcut1] <- 'group1'\n",
    "colData(ecmod_cds)$subgrp[wcut2] <- 'group2'\n",
    "colData(ecmod_cds)$subgrp[wcut3] <- 'group3'\n",
    "\n",
    "colData(ecmod_cds)$subgrp_cont <- 0\n",
    "colData(ecmod_cds)$subgrp_cont[wcut1] <- sum(colData(ecmod_cds)$subgrp_c ==\n",
    "                            'group1dis')/sum(colData(ecmod_cds)$subgrp == 'group1')\n",
    "colData(ecmod_cds)$subgrp_cont[wcut2] <- sum(colData(ecmod_cds)$subgrp_c ==\n",
    "                            'group2dis')/sum(colData(ecmod_cds)$subgrp == 'group2')\n",
    "colData(ecmod_cds)$subgrp_cont[wcut3] <- sum(colData(ecmod_cds)$subgrp_c ==\n",
    "                            'group3dis')/sum(colData(ecmod_cds)$subgrp == 'group3')"
   ]
  },
  {
   "cell_type": "code",
   "execution_count": 46,
   "metadata": {},
   "outputs": [],
   "source": [
    "## Copy the features from the ecmod cell set to the all genes ec cell set\n",
    "colData(ecall_cds)$subgrp_c <- colData(ecmod_cds)$subgrp_c\n",
    "colData(ecall_cds)$subgrp <- colData(ecmod_cds)$subgrp\n",
    "colData(ecall_cds)$subgrp_cont <- colData(ecmod_cds)$subgrp_cont"
   ]
  },
  {
   "cell_type": "code",
   "execution_count": 59,
   "metadata": {},
   "outputs": [
    {
     "data": {
      "text/plain": [
       "\n",
       "0.0846153846153846  0.675675675675676  0.967871485943775 \n",
       "               390                259                249 "
      ]
     },
     "metadata": {},
     "output_type": "display_data"
    },
    {
     "data": {
      "image/png": "[encoded data removed]",
      "text/plain": [
       "Plot with title “EC A/C Cells to Total Cells per Group”"
      ]
     },
     "metadata": {
      "image/png": {
       "height": 420,
       "width": 420
      },
      "text/plain": {
       "height": 420,
       "width": 420
      }
     },
     "output_type": "display_data"
    }
   ],
   "source": [
    "## Plot the EC group abundances\n",
    "abunds <- as.numeric(names(table(colData(ecall_cds)$subgrp_cont)))\n",
    "plot(x = 1:3, abunds,\n",
    "     xlab = 'Group', ylab = \"A/C Ratio\", xlim = c(.5,4.5), ylim = c(-.2,1),\n",
    "    main = 'EC A/C Cells to Total Cells per Group')\n",
    "text(x = 1:3, abunds - .05,\n",
    "     labels=substr(names(table(colData(ecall_cds)$subgrp_cont)), 1, 5), cex=0.9, font=2)\n",
    "\n"
   ]
  },
  {
   "cell_type": "code",
   "execution_count": null,
   "metadata": {},
   "outputs": [],
   "source": []
  },
  {
   "cell_type": "code",
   "execution_count": 29,
   "metadata": {},
   "outputs": [],
   "source": [
    "## This is needed for compare_models to work\n",
    "ecmod_cds <- detect_genes(ecmod_cds)\n",
    "ecall_cds <- detect_genes(ecall_cds)"
   ]
  },
  {
   "cell_type": "code",
   "execution_count": 30,
   "metadata": {},
   "outputs": [],
   "source": [
    "## Models under study\n",
    "mod0 <- '~patient'                              # Null Case for Cases 1 and 2\n",
    "mod1 <- '~patient + subgrp'                     # Case 1\n",
    "mod2 <- '~patient + subgrp_cont'                # Case 2\n",
    "\n",
    "mod0c <- '~patient + condition'                 # Null Case for Cases 1c and 2c\n",
    "mod1c <- '~patient + condition + subgrp'        # Case 1c\n",
    "mod2c <- '~patient + condition + subgrp_cont'   # Case 2c"
   ]
  },
  {
   "cell_type": "code",
   "execution_count": 35,
   "metadata": {},
   "outputs": [],
   "source": [
    "## Similar all gene test, but only perform mod2 and mod2c models using binary expression data\n",
    "\n",
    "## Set up to create cds with expression data as binary (a binary 1 is UMI expression count 2 or more)\n",
    "ecall_cds_exp <- 1 * (exprs(ecall_cds) > 1)\n",
    "\n",
    "## Get the cell meta data\n",
    "ecall_cds_meta <- as.data.frame(colData(ecall_cds)$patient)\n",
    "rownames(ecall_cds_meta) <- colnames(ecall_cds_exp)\n",
    "ecall_cds_meta <- cbind(ecall_cds_meta, colData(ecall_cds)$condition)\n",
    "ecall_cds_meta <- cbind(ecall_cds_meta, colData(ecall_cds)$subgrp)\n",
    "ecall_cds_meta <- cbind(ecall_cds_meta, colData(ecall_cds)$subgrp_c)\n",
    "ecall_cds_meta <- cbind(ecall_cds_meta, colData(ecall_cds)$subgrp_cont)\n",
    "colnames(ecall_cds_meta) <- c('patient', 'condition', 'subgrp', 'subgrp_c', 'subgrp_cont')\n",
    "\n",
    "## Get the gene data\n",
    "ecall_cds_gene <- as.data.frame(geneid2short[rownames(ecall_cds_exp)])\n",
    "colnames(ecall_cds_gene) <- 'gene_short_name'\n",
    "rownames(ecall_cds_gene) <- rownames(ecall_cds_exp) # Is not working!! May not be needed"
   ]
  },
  {
   "cell_type": "code",
   "execution_count": 36,
   "metadata": {},
   "outputs": [],
   "source": [
    "## Recreate the binary cds from the expression data, cell and gene data\n",
    "ecall_cds2 <- new_cell_data_set(ecall_cds_exp,\n",
    "                         cell_metadata = ecall_cds_meta,\n",
    "                         gene_metadata = ecall_cds_gene)\n",
    "\n",
    "## This will add the cell count data to to the coefficient table\n",
    "ecall_cds2 <- detect_genes(ecall_cds2)  "
   ]
  },
  {
   "cell_type": "code",
   "execution_count": 38,
   "metadata": {},
   "outputs": [],
   "source": [
    "## Perform Monocle 3 DE Analysis for Cases 1 and 2\n",
    "family_type_sel <- 2\n",
    "ft <- c('quasipoisson', 'negbinomial', 'gaussian', 'binomial')[family_type_sel]"
   ]
  },
  {
   "cell_type": "code",
   "execution_count": 39,
   "metadata": {},
   "outputs": [],
   "source": [
    "## First, do the DE without the condition covariate\n",
    "gene_ec_fits_m2ab <- fit_models(ecall_cds2, cores = 1, expression_family = ft,\n",
    "                                model_formula_str = mod2) \n",
    "all_coef_m2ab <- coefficient_table(gene_ec_fits_m2ab)"
   ]
  },
  {
   "cell_type": "code",
   "execution_count": 40,
   "metadata": {},
   "outputs": [],
   "source": [
    "## Second, do the DE with the condition covariate\n",
    "gene_ec_fits_m2cab <- fit_models(ecall_cds2, cores = 1, expression_family = ft,\n",
    "                                model_formula_str = mod2c) \n",
    "all_coef_m2cab <- coefficient_table(gene_ec_fits_m2cab)"
   ]
  },
  {
   "cell_type": "code",
   "execution_count": 41,
   "metadata": {},
   "outputs": [],
   "source": [
    "## Extract the continuous group coefficient from model case mod2 and mod2c, all gene set, binary data\n",
    "subgrp_cont_coefab <- all_coef_m2ab[,c(1,2,5:13)] %>% filter(term == \"subgrp_cont\")\n",
    "subgrp_cont_coefcab <- all_coef_m2cab[,c(1,2,5:13)] %>% filter(term == \"subgrp_cont\")"
   ]
  },
  {
   "cell_type": "code",
   "execution_count": 42,
   "metadata": {},
   "outputs": [],
   "source": [
    "## Write the mod2 and mod2c all gene set, binary data\n",
    "f19 <- '/Diff.ec_groups.1_3.allgenes.continuous.binary.model.coef.txt'\n",
    "f19 <- paste(datdir, '/', ps$outdir, celltypes6[p], f19, sep = '')\n",
    "write.table(subgrp_cont_coefab, f19, col.names = TRUE, row.names = FALSE)\n",
    "\n",
    "f20 <- '/Diff.ec_groups.1_3.allgenes.continuous.xcondtion.binary.model.coef.txt'\n",
    "f20 <- paste(datdir, '/', ps$outdir, celltypes6[p], f20, sep = '')\n",
    "write.table(subgrp_cont_coefcab, f20, col.names = TRUE, row.names = FALSE)"
   ]
  },
  {
   "cell_type": "code",
   "execution_count": null,
   "metadata": {},
   "outputs": [],
   "source": []
  },
  {
   "cell_type": "code",
   "execution_count": null,
   "metadata": {},
   "outputs": [],
   "source": []
  },
  {
   "cell_type": "code",
   "execution_count": null,
   "metadata": {},
   "outputs": [],
   "source": []
  },
  {
   "cell_type": "code",
   "execution_count": 31,
   "metadata": {},
   "outputs": [],
   "source": [
    "## Perform Monocle 3 DE Analysis for case ec 2 , all gene set, condition not corrected, \n",
    "## continuous group covariate, continuous gene expression\n",
    "family_type_selc <- 2\n",
    "ft <- c('quasipoisson', 'negbinomial', 'gaussian', 'binomial')[family_type_selc]\n",
    "\n",
    "gene_ec_fits_m2a <- fit_models(ecall_cds, cores = 1, expression_family = ft,\n",
    "                                model_formula_str = mod2) \n",
    "all_coef_m2a <- coefficient_table(gene_ec_fits_m2a)"
   ]
  },
  {
   "cell_type": "code",
   "execution_count": 32,
   "metadata": {},
   "outputs": [],
   "source": [
    "## Extract the continuous group coefficient from model case 2, all gene set, condition not corrected\n",
    "subgrp_cont_coefa <- all_coef_m2a[,c(1,2,5:13)] %>% filter(term == \"subgrp_cont\")"
   ]
  },
  {
   "cell_type": "code",
   "execution_count": 14,
   "metadata": {},
   "outputs": [
    {
     "ename": "ERROR",
     "evalue": "Error in write.table(subgrp_cont_coefa, f31, header = TRUE, row.names = FALSE): unused argument (header = TRUE)\n",
     "output_type": "error",
     "traceback": [
      "Error in write.table(subgrp_cont_coefa, f31, header = TRUE, row.names = FALSE): unused argument (header = TRUE)\nTraceback:\n"
     ]
    }
   ],
   "source": [
    "## Write the results for case 2, all gene set, condition not corrected\n",
    "f31 <- '/Diff.ec_groups.1_4.continuous.allgenes.continuous.expression.model.coef.txt'\n",
    "f31 <- paste(datdir, '/', ps$outdir, celltypes6[p], f31, sep = '')\n",
    "write.table(subgrp_cont_coefa, f31, col.names = TRUE, row.names = FALSE)"
   ]
  },
  {
   "cell_type": "code",
   "execution_count": null,
   "metadata": {},
   "outputs": [],
   "source": []
  },
  {
   "cell_type": "code",
   "execution_count": null,
   "metadata": {},
   "outputs": [],
   "source": [
    "## Plot the sorted q-values (FDR curves) for the EC and VSMC Continuous Variable (Abundance) Cases "
   ]
  },
  {
   "cell_type": "code",
   "execution_count": 22,
   "metadata": {},
   "outputs": [],
   "source": [
    "p <- 2\n",
    "f33 <- '/Diff.ec_groups.1_3.allgenes.continuous.xcondtion.binary.model.coef.txt'\n",
    "f33 <- paste(datdir, '/', ps$outdir, celltypes6[p], f33, sep = '')\n",
    "ec_subgrp_cont_coefcab <- read.table(f33, header = TRUE)"
   ]
  },
  {
   "cell_type": "code",
   "execution_count": 23,
   "metadata": {},
   "outputs": [],
   "source": [
    "p <- 3\n",
    "f32 <- '/Diff.vsmc_groups.1_4.allgenes.continuous.xcondtion.binary.model.coef.txt'\n",
    "f32 <- paste(datdir, '/', ps$outdir, celltypes6[p], f32, sep = '')\n",
    "vsmc_subgrp_cont_coefcab <- read.table(f32, header = TRUE)"
   ]
  },
  {
   "cell_type": "code",
   "execution_count": 38,
   "metadata": {},
   "outputs": [
    {
     "data": {
      "text/html": [
       "10294"
      ],
      "text/latex": [
       "10294"
      ],
      "text/markdown": [
       "10294"
      ],
      "text/plain": [
       "[1] 10294"
      ]
     },
     "metadata": {},
     "output_type": "display_data"
    },
    {
     "data": {
      "image/png": "[encoded data removed]",
      "text/plain": [
       "plot without title"
      ]
     },
     "metadata": {
      "image/png": {
       "height": 420,
       "width": 420
      },
      "text/plain": {
       "height": 420,
       "width": 420
      }
     },
     "output_type": "display_data"
    }
   ],
   "source": [
    "length(ec_subgrp_cont_coefcab$q_value)\n",
    "plot(sort(-log10(ec_subgrp_cont_coefcab$q_value), decreasing = TRUE)[1:200])"
   ]
  },
  {
   "cell_type": "code",
   "execution_count": 39,
   "metadata": {},
   "outputs": [
    {
     "data": {
      "text/html": [
       "24272"
      ],
      "text/latex": [
       "24272"
      ],
      "text/markdown": [
       "24272"
      ],
      "text/plain": [
       "[1] 24272"
      ]
     },
     "metadata": {},
     "output_type": "display_data"
    },
    {
     "data": {
      "image/png": "[encoded data removed]",
      "text/plain": [
       "plot without title"
      ]
     },
     "metadata": {
      "image/png": {
       "height": 420,
       "width": 420
      },
      "text/plain": {
       "height": 420,
       "width": 420
      }
     },
     "output_type": "display_data"
    }
   ],
   "source": [
    "length(vsmc_subgrp_cont_coefcab$q_value)\n",
    "plot(sort(-log10(vsmc_subgrp_cont_coefcab$q_value), decreasing = TRUE)[1:1000])"
   ]
  },
  {
   "cell_type": "code",
   "execution_count": null,
   "metadata": {},
   "outputs": [],
   "source": []
  }
 ],
 "metadata": {
  "kernelspec": {
   "display_name": "R",
   "language": "R",
   "name": "ir"
  },
  "language_info": {
   "codemirror_mode": "r",
   "file_extension": ".r",
   "mimetype": "text/x-r-source",
   "name": "R",
   "pygments_lexer": "r",
   "version": "3.5.1"
  }
 },
 "nbformat": 4,
 "nbformat_minor": 2
}
