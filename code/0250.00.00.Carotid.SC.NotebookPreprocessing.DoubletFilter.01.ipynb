{
 "cells": [
  {
   "cell_type": "code",
   "execution_count": 1,
   "metadata": {},
   "outputs": [],
   "source": [
    "## ---- Global Cell Set Characterization Notebook Doublet Identification---- \n",
    "##\n",
    "## Load Analysis Parameters (Parm1)\n",
    "## Load Preprocessed/Downsampled CDS Object\n",
    "## Preform some preliminary doublet analyses (cut and paste outputted to spreadsheets)\n",
    "## Create new remixed partitions\n",
    "## Perform formal Gene Exclusion Study (Look for Genes Common in One Partition and Rare in Others)\n",
    "## Apply Gene Selection Based on Gene Exclusion Study\n",
    "## Perform Doublet (Multiplet) Scoring\n",
    "## Save Result As An R Data Object (CDS1)\n",
    "## Compute the mean of the maximum pseudo_R2rds for Tom's genes in the dot plot"
   ]
  },
  {
   "cell_type": "code",
   "execution_count": 5,
   "metadata": {},
   "outputs": [],
   "source": [
    "## Load Monocle3 and Seurat Libraries\n",
    "library(monocle3)\n",
    "library(Seurat)\n",
    "library(dplyr)\n",
    "library(magrittr)\n",
    "library(ggplot2)\n",
    "library(gridExtra)\n",
    "library(Matrix)\n",
    "library(rhdf5)\n",
    "library(corpcor)\n",
    "library(fdrtool)"
   ]
  },
  {
   "cell_type": "code",
   "execution_count": 3,
   "metadata": {},
   "outputs": [],
   "source": [
    "## Create a Working Input and Output Data Directory, If Id Does Not Exist\n",
    "parentdir <- '/gpfs/group/torkamani/devans/'\n",
    "datdir <- paste(parentdir, 'CDC2', sep = '')\n",
    "if (!file.exists(datdir)) {\n",
    "    dir.create(datdir)\n",
    "}\n",
    "setwd(datdir)"
   ]
  },
  {
   "cell_type": "code",
   "execution_count": 4,
   "metadata": {},
   "outputs": [],
   "source": [
    "## Read the parameters file\n",
    "ps <- read.table(file = 'parms.txt', stringsAsFactors = FALSE, header = TRUE)"
   ]
  },
  {
   "cell_type": "code",
   "execution_count": 6,
   "metadata": {},
   "outputs": [],
   "source": [
    "## Read all the aggregated data into a Monocle cds object\n",
    "stdycds <- load_cellranger_data(ps$indir)"
   ]
  },
  {
   "cell_type": "code",
   "execution_count": 7,
   "metadata": {},
   "outputs": [],
   "source": [
    "## Read the previously preprocessed downsampled cell set data object\n",
    "down_stdycds <- readRDS(file = paste(ps$outdir, 'Aggregated.downsampled.QC.Preprocessed.rds', sep = ''))"
   ]
  },
  {
   "cell_type": "code",
   "execution_count": 12,
   "metadata": {},
   "outputs": [
    {
     "data": {
      "text/html": [
       "<style>\n",
       ".list-inline {list-style: none; margin:0; padding: 0}\n",
       ".list-inline>li {display: inline-block}\n",
       ".list-inline>li:not(:last-child)::after {content: \"\\00b7\"; padding: 0 .5ex}\n",
       "</style>\n",
       "<ol class=list-inline><li>24318</li><li>17100</li></ol>\n"
      ],
      "text/latex": [
       "\\begin{enumerate*}\n",
       "\\item 24318\n",
       "\\item 17100\n",
       "\\end{enumerate*}\n"
      ],
      "text/markdown": [
       "1. 24318\n",
       "2. 17100\n",
       "\n",
       "\n"
      ],
      "text/plain": [
       "[1] 24318 17100"
      ]
     },
     "metadata": {},
     "output_type": "display_data"
    }
   ],
   "source": [
    "dim(down_stdycds)"
   ]
  },
  {
   "cell_type": "code",
   "execution_count": 19,
   "metadata": {},
   "outputs": [],
   "source": [
    "## Set up file for 15 partition plot with labels showing assigned cell types\n",
    "plotfile <- 'Aggregated.downsampled.QC.15parts.WithoutLegend.Rev1.pdf'\n",
    "plotfp <- paste(ps$outdir, plotfile, sep = '')"
   ]
  },
  {
   "cell_type": "code",
   "execution_count": 20,
   "metadata": {},
   "outputs": [
    {
     "data": {
      "text/html": [
       "<strong>png:</strong> 2"
      ],
      "text/latex": [
       "\\textbf{png:} 2"
      ],
      "text/markdown": [
       "**png:** 2"
      ],
      "text/plain": [
       "png \n",
       "  2 "
      ]
     },
     "metadata": {},
     "output_type": "display_data"
    }
   ],
   "source": [
    "## Plot partitions with legend showing cell types\n",
    "pdf(plotfp, width = 8, height = 6)\n",
    "gtop1 <- plot_cells(down_stdycds, color_cells_by=\"assigned_cell_type\", group_cells_by=\"partition\",\n",
    "           show_trajectory_graph = FALSE, reduction_method = \"UMAP\",\n",
    "           label_cell_groups = TRUE, cell_size = 0.1, alpha = .4)\n",
    "gtop1\n",
    "dev.off()"
   ]
  },
  {
   "cell_type": "code",
   "execution_count": null,
   "metadata": {},
   "outputs": [],
   "source": []
  },
  {
   "cell_type": "code",
   "execution_count": null,
   "metadata": {},
   "outputs": [],
   "source": []
  },
  {
   "cell_type": "code",
   "execution_count": 9,
   "metadata": {},
   "outputs": [
    {
     "name": "stdout",
     "output_type": "stream",
     "text": [
      "  |=======================================================| 100%, Elapsed 00:03\n",
      "  |====================================================| 100%, Elapsed 06:38:42\n"
     ]
    }
   ],
   "source": [
    "# ## Compute top markers using partitions (no need in this notebook to rerun this and the next\n",
    "# ## 5 cells that follow this cell). Do run the 6th cell, which reads the previously stored results\n",
    "# toppart <- top_markers(down_stdycd, group_cells_by = \"partition\",\n",
    "#                                        genes_to_test_per_group = dim(down_stdycds)[1],\n",
    "#                                        reference_cells = dim(down_stdycds)[2], cores = 8)\n"
   ]
  },
  {
   "cell_type": "code",
   "execution_count": 31,
   "metadata": {},
   "outputs": [],
   "source": [
    "# ## Prepare the output for ultimate conversion to a spreadsheet\n",
    "# toppart_GC <- toppart[,c(1,2,2,3:10)]\n",
    "# colnames(toppart_GC)[2] <- 'gene_cards'\n",
    "# nmarkers2 <- dim(toppart_GC)[1]\n",
    "# gc_hyper2 <- '=HYPERLINK(CONCAT(\"https://www.genecards.org/Search/Keyword?queryString=\", '\n",
    "# gc_hyper2 <- paste(gc_hyper2, 'A', 2:(nmarkers2 + 1), '), C', 2:(nmarkers2 + 1), ')', sep ='')\n",
    "# toppart_GC$gene_cards <- gc_hyper2"
   ]
  },
  {
   "cell_type": "code",
   "execution_count": 18,
   "metadata": {},
   "outputs": [],
   "source": [
    "# ## Write the file\n",
    "# ##This file should be nearly identical to Aggregated.downsampled.QC.TopAllMarkersPer.Rev1.tsv,\n",
    "# ## with only slight variation in the least significant digits due to the optimization or \n",
    "# ## sampling method used within the Monocle top_markers function\n",
    "# topmarkerfile3 <- paste(ps$outdir, 'Aggregated.downsampled.15parts.TopAllMarkers.Rev3.tsv', sep = '')\n",
    "# write.table(toppart_GC, file = topmarkerfile3,\n",
    "#             row.names = FALSE, col.names = TRUE,\n",
    "#             sep = '\\t', quote = FALSE)"
   ]
  },
  {
   "cell_type": "code",
   "execution_count": null,
   "metadata": {},
   "outputs": [],
   "source": []
  },
  {
   "cell_type": "code",
   "execution_count": null,
   "metadata": {},
   "outputs": [],
   "source": []
  },
  {
   "cell_type": "code",
   "execution_count": null,
   "metadata": {},
   "outputs": [
    {
     "name": "stdout",
     "output_type": "stream",
     "text": [
      "  |=======================================================| 100%, Elapsed 00:05\n",
      "  |=========================                               |  45%, ETA 07:19:57"
     ]
    }
   ],
   "source": [
    "# ## Compute all top marker files (using assigned cell type - note that this output file is not used)\n",
    "# # topmarkerfile <- paste(ps$outdir, 'Aggregated.downsampled.QC.TopAllMarkersPer.Rev2.tsv', sep = '')\n",
    "# marker_test_res_topall <- top_markers(down_stdycds, group_cells_by = \"assigned_cell_type\",\n",
    "#                                        genes_to_test_per_group = dim(down_stdycds)[1], \n",
    "#                                        reference_cells = dim(down_stdycds)[2], cores = 4)"
   ]
  },
  {
   "cell_type": "code",
   "execution_count": 10,
   "metadata": {},
   "outputs": [],
   "source": [
    "# ## Save all top markers to a file\n",
    "#     marker_test_res_topall_with_GC <- marker_test_res_topall[,c(1,2,2,3:10)]\n",
    "#     colnames(marker_test_res_topall_with_GC)[2] <- 'gene_cards'\n",
    "#     nmarkers1 <- dim(marker_test_res_topall_with_GC)[1]\n",
    "#     gc_hyper1 <- '=HYPERLINK(CONCAT(\"https://www.genecards.org/Search/Keyword?queryString=\", '\n",
    "#     gc_hyper1 <- paste(gc_hyper1, 'A', 2:(nmarkers1 + 1), '), C', 2:(nmarkers1 + 1), ')', sep ='')\n",
    "#     marker_test_res_topall_with_GC$gene_cards <- gc_hyper1"
   ]
  },
  {
   "cell_type": "code",
   "execution_count": 11,
   "metadata": {},
   "outputs": [],
   "source": [
    "# ## Write the file\n",
    "# ## Should be similar to Rev1 file of the same name\n",
    "# topmarkerfile2 <- paste(ps$outdir, 'Aggregated.downsampled.15parts.TopAllMarkers.Rev2.tsv', sep = '')\n",
    "# write.table(marker_test_res_topall_with_GC, file = topmarkerfile2,\n",
    "#             row.names = FALSE, col.names = TRUE,\n",
    "#             sep = '\\t', quote = FALSE)"
   ]
  },
  {
   "cell_type": "code",
   "execution_count": 9,
   "metadata": {},
   "outputs": [
    {
     "name": "stdout",
     "output_type": "stream",
     "text": [
      "  |=======================================================| 100%, Elapsed 00:06\n",
      "  |=======================================================| 100%, Elapsed 16:06\n"
     ]
    }
   ],
   "source": [
    "# ## I've added this code from the original CSC1 code (notebook 03.00.00...)\n",
    "# ## Compute top 500 marker files\n",
    "# topmarkerfile <- paste(ps$outdir, 'Aggregated.downsampled.QC.Top500MarkersPer.Rev3.tsv', sep = '')\n",
    "# marker_test_res_top500 <- top_markers(down_stdycds, group_cells_by = \"partition\",\n",
    "#                                        genes_to_test_per_group = 500, # dim(down_stdycds)[1], \n",
    "#                                        reference_cells = dim(down_stdycds)[2], cores = 4)\n",
    "# ## Save top 500 markers to a file\n",
    "#     marker_test_res_top500_with_GC <- marker_test_res_top500[,c(1,2,2,3:10)]\n",
    "#     colnames(marker_test_res_top500_with_GC)[2] <- 'gene_cards'\n",
    "#     nmarkers1 <- dim(marker_test_res_top500_with_GC)[1]\n",
    "#     gc_hyper1 <- '=HYPERLINK(CONCAT(\"https://www.genecards.org/Search/Keyword?queryString=\", '\n",
    "#     gc_hyper1 <- paste(gc_hyper1, 'A', 2:(nmarkers1 + 1), '), C', 2:(nmarkers1 + 1), ')', sep ='')\n",
    "#     marker_test_res_top500_with_GC$gene_cards = gc_hyper1\n",
    "    \n",
    "# write.table(marker_test_res_top500_with_GC, file = topmarkerfile,\n",
    "#             row.names = FALSE, col.names = TRUE,\n",
    "#             sep = '\\t', quote = FALSE)"
   ]
  },
  {
   "cell_type": "code",
   "execution_count": null,
   "metadata": {},
   "outputs": [],
   "source": []
  },
  {
   "cell_type": "code",
   "execution_count": null,
   "metadata": {},
   "outputs": [],
   "source": []
  },
  {
   "cell_type": "code",
   "execution_count": null,
   "metadata": {},
   "outputs": [],
   "source": []
  },
  {
   "cell_type": "code",
   "execution_count": 10,
   "metadata": {},
   "outputs": [],
   "source": [
    "## Read the original top markers file (this file was created with code similar to the code\n",
    "## used to generate Aggregated.downsampled.15parts.TopAllMarkers.Rev3.tsv above, nearly identical)\n",
    "topmarkers <- read.table(paste(ps$outdir,\n",
    "            'Aggregated.downsampled.QC.TopAllMarkersPer.Rev1.tsv', sep = ''),\n",
    "                         header = TRUE, sep = '\\t', row.names = NULL)"
   ]
  },
  {
   "cell_type": "code",
   "execution_count": 8,
   "metadata": {},
   "outputs": [],
   "source": [
    "## Build a gene short name to gene id (Ensembl) lookup\n",
    "short2geneid <- fData(down_stdycds)@rownames\n",
    "names(short2geneid) <- fData(down_stdycds)@listData$gene_short_name"
   ]
  },
  {
   "cell_type": "code",
   "execution_count": 9,
   "metadata": {},
   "outputs": [],
   "source": [
    "## Build a gene id (Ensembl) to gene short name lookup\n",
    "geneid2short <- fData(down_stdycds)@listData$gene_short_name\n",
    "names(geneid2short) <- fData(down_stdycds)@rownames"
   ]
  },
  {
   "cell_type": "code",
   "execution_count": 10,
   "metadata": {},
   "outputs": [],
   "source": [
    "## Create variables for how cells sets are organized\n",
    "cellgrps <- c('healthy', 'diseased', 'healthy', 'diseased', 'healthy', 'diseased')\n",
    "cellpats <- c('ID Number 1', 'ID Number 1', 'ID Number 2', 'ID Number 2', 'ID Number 3', 'ID Number 3')"
   ]
  },
  {
   "cell_type": "code",
   "execution_count": 11,
   "metadata": {},
   "outputs": [],
   "source": [
    "## Create variables for how cells sets are organized\n",
    "cellgrps <- c('healthy', 'diseased', 'healthy', 'diseased', 'healthy', 'diseased')\n",
    "cellpats <- c('ID Number 1', 'ID Number 1', 'ID Number 2', 'ID Number 2', 'ID Number 3', 'ID Number 3')"
   ]
  },
  {
   "cell_type": "code",
   "execution_count": 12,
   "metadata": {},
   "outputs": [],
   "source": [
    "## Define and Assign Cell Types\n",
    "celltypes5 <- c('1-Unidentified',\n",
    "                '2-Macrophages',\n",
    "                '3-Endothelial Cells - (a)',\n",
    "                '4-Lymphoid Progenitors',\n",
    "                '5-VSMCs - Contractile',\n",
    "                '6-Endothelial Cells - (b)',\n",
    "                '7-VSMCs - Synthetic',\n",
    "                '8-Natural Killer Cells',\n",
    "                '9-Cytotoxic T Lymphocytes',\n",
    "                '10-B Lymphocytes',\n",
    "                '11-T lymphocytes',\n",
    "                '12-Plasmacytoid Dendritic Cells',\n",
    "                '13-B1 Lymphocytes',\n",
    "                '14-Neutrophils',\n",
    "                '15-Mast Cells')"
   ]
  },
  {
   "cell_type": "code",
   "execution_count": 13,
   "metadata": {},
   "outputs": [],
   "source": [
    "## Declare Tom's best genes for definiting cell types\n",
    "toms_markers5 <- c('NRXN1', 'CLU', 'ICAM2',\n",
    "                 'CD14', 'CD68', 'AIF1',\n",
    "                 'VWF', 'EDN1', 'ECSCR',\n",
    "                 'MKI67', 'UBE2C', 'TOP2A',\n",
    "                 'ACTA2', 'TAGLN', 'MYL9',\n",
    "                 'ACKR1', 'SPARCL1', 'PECAM1',\n",
    "                 'CALD1', 'MGP', 'DCN',\n",
    "                 'NKG7', 'XCL1', 'CTSW',\n",
    "                 'CD8A', 'TRAC', 'CD2',\n",
    "                 'MS4A1', 'CD79A', 'BANK1',\n",
    "                 'CD69', 'CXCR4', 'IL7R',\n",
    "                 'LILRA4', 'IRF7', 'CLEC4C',\n",
    "                 'MZB1', 'JCHAIN', 'TNFRSF17',\n",
    "                 'LST1', 'FCGR3B', 'S100A8',\n",
    "                 'TPSAB1', 'CPA3', 'MS4A2')\n",
    "toms_gene_ids5 <- short2geneid[toms_markers5]"
   ]
  },
  {
   "cell_type": "code",
   "execution_count": 14,
   "metadata": {},
   "outputs": [],
   "source": [
    "## This code was used to generate the cut and paste versions of the \n",
    "## gene exlusion studies, prior to remixing the partitions"
   ]
  },
  {
   "cell_type": "code",
   "execution_count": 14,
   "metadata": {},
   "outputs": [],
   "source": [
    "## Set up parameters for one partitions worth of analysis\n",
    "np <- 15              ## Number of Partitions\n",
    "poi <- 6              ## Partition of interest\n",
    "tl <- 0.90            ## Top level genes expressing cells threshold\n",
    "bl <- 0.10            ## Bottom level genes expressing cells threshold\n",
    "qp <- 1               ## Number of partitions needed below bl to qualify\n",
    "xlpb <- TRUE          ## Exclude low cell counts problem partitions from qualifying partitions\n",
    "lp <- c(1, 4, 11:15)  ## Small or low expressing partitions: from 1, 4, 11, 12, 13, 14, 14\n",
    "tlgenes_f1 <- topmarkers[topmarkers$cell_group == poi,]  \n",
    "tlgenes_f2 <- tlgenes_f1[tlgenes_f1$fraction_expressing >= tl,]\n",
    "tlgenes <- as.character(tlgenes_f2$gene_short_name.1)\n",
    "tlgenes_f3 <- topmarkers[topmarkers$gene_short_name.1 %in% tlgenes,]"
   ]
  },
  {
   "cell_type": "code",
   "execution_count": 23,
   "metadata": {},
   "outputs": [
    {
     "data": {
      "text/html": [
       "<style>\n",
       ".list-inline {list-style: none; margin:0; padding: 0}\n",
       ".list-inline>li {display: inline-block}\n",
       ".list-inline>li:not(:last-child)::after {content: \"\\00b7\"; padding: 0 .5ex}\n",
       "</style>\n",
       "<ol class=list-inline><li>20</li><li>16</li></ol>\n"
      ],
      "text/latex": [
       "\\begin{enumerate*}\n",
       "\\item 20\n",
       "\\item 16\n",
       "\\end{enumerate*}\n"
      ],
      "text/markdown": [
       "1. 20\n",
       "2. 16\n",
       "\n",
       "\n"
      ],
      "text/plain": [
       "[1] 20 16"
      ]
     },
     "metadata": {},
     "output_type": "display_data"
    }
   ],
   "source": [
    "## Set up table for storing results\n",
    "gene_tab <- matrix(as.double(0), nrow = length(tlgenes), ncol = np)\n",
    "rownames(gene_tab) <- tlgenes\n",
    "for (g in 1:length(tlgenes)) {\n",
    "    tlgenes_f3_p <- tlgenes_f3[tlgenes_f3$gene_short_name.1 %in% tlgenes[g],]\n",
    "    for (p in 1:np) {\n",
    "        gene_tab[g, p] <- round(tlgenes_f3_p$fraction_expressing[tlgenes_f3_p$cell_group == p], 3)\n",
    "    }    \n",
    "}\n",
    "if (xlpb) gene_tab[, lp] <- 1 \n",
    "qual_parts <- rowSums(gene_tab <= bl)\n",
    "qual_gene_tab <- gene_tab[qual_parts >= qp,]\n",
    "qual_part_filt <- rowSums(qual_gene_tab <= bl)\n",
    "qual_gene_tabx <- cbind(qual_gene_tab, qual_part_filt)\n",
    "qual_gene_tabx <- qual_gene_tabx[order(qual_part_filt, qual_gene_tabx[, poi], decreasing = TRUE),]\n",
    "colnames(qual_gene_tabx) <- c(paste('p', 1:15, sep = ''), 'match')\n",
    "dim(qual_gene_tabx)"
   ]
  },
  {
   "cell_type": "code",
   "execution_count": 24,
   "metadata": {},
   "outputs": [],
   "source": [
    "## Get the expression data for this partition and the top level genes\n",
    "poi_genes <- short2geneid[rownames(qual_gene_tabx)]\n",
    "poi_exp <- exprs(down_stdycds[rowData(down_stdycds)$gene_short_name %in% rownames(qual_gene_tabx),\n",
    "                       partitions(down_stdycds) == poi])"
   ]
  },
  {
   "cell_type": "code",
   "execution_count": 26,
   "metadata": {},
   "outputs": [],
   "source": [
    "## Get the co-expression terms for this partition and genes\n",
    "poi_cor <- cor(t(as.matrix(poi_exp)))\n",
    "poi_cor_v <- round(sm2vec(poi_cor, diag = FALSE), 3)\n",
    "poi_ind <- sm.index(poi_cor, diag = FALSE)\n",
    "coex <- cbind(poi_cor_v, abs(poi_cor_v),\n",
    "                as.character(geneid2short[rownames(poi_cor)[poi_ind[,1]]]),\n",
    "                as.character(geneid2short[rownames(poi_cor)[poi_ind[,2]]]))\n",
    "coex <- coex[order(coex[,2], decreasing = TRUE), ]\n",
    "## if there is only one pair of genes, then a vector will be returned instead of a matrix\n",
    "if (length(coex) == 4) {\n",
    "    coex_lst <- paste(coex[3], ' to ',\n",
    "                      coex[4], ' = ',\n",
    "                      coex[1], sep = '')[1:length(rownames(qual_gene_tabx))]\n",
    "} else {\n",
    "    coex_lst <- paste(coex[,3], ' to ',\n",
    "                          coex[,4],' = ',\n",
    "                          coex[,1], sep = '')[1:length(rownames(qual_gene_tabx))]\n",
    "} \n",
    "coex_all <- as.data.frame(cbind(qual_gene_tabx, coex_lst), stringsAsFactors = FALSE)\n",
    "coex_4db <- coex_all"
   ]
  },
  {
   "cell_type": "code",
   "execution_count": 19,
   "metadata": {},
   "outputs": [],
   "source": [
    "## Adjust the table to be in percentages instead of fractions, and add percentage to gene names\n",
    "## in the first column (actually the rownames)\n",
    "rownames(coex_all) <- paste(rownames(coex_all), '(', 100 * as.numeric(coex_all[,poi]), ')', sep ='')\n",
    "for (i in 1:length(rownames(qual_gene_tabx))) {\n",
    "    for (j in 1:np) {\n",
    "        if (as.numeric(coex_all[i,j]) > bl) {\n",
    "            coex_all[i,j] = '' \n",
    "        }\n",
    "        else {\n",
    "            coex_all[i,j] <- as.numeric(coex_all[i, j]) * 100\n",
    "        }\n",
    "    }\n",
    "}\n"
   ]
  },
  {
   "cell_type": "code",
   "execution_count": 25,
   "metadata": {},
   "outputs": [],
   "source": [
    "## This is the cut and paste table (commented out here)\n",
    "# coex_all"
   ]
  },
  {
   "cell_type": "code",
   "execution_count": 21,
   "metadata": {},
   "outputs": [
    {
     "ename": "ERROR",
     "evalue": "Error in eval(expr, envir, enclos): object 'ref_genes' not found\n",
     "output_type": "error",
     "traceback": [
      "Error in eval(expr, envir, enclos): object 'ref_genes' not found\nTraceback:\n"
     ]
    }
   ],
   "source": [
    "## Loop through a partition and compute the fold change\n",
    "## This is trial code\n",
    "for (p in 1:np) {\n",
    "    partx <- exprs(down_stdycds[, partitions(down_stdycds) == p])\n",
    "    ## Loop through the genes\n",
    "    for (g in 1:dim(coex_4db)[1]) {\n",
    "        test_sgene <- rownames(coex_4db)[g]\n",
    "        test_gid <- short2geneid[test_sgene]\n",
    "        test_cells_o <- partx[test_gid,] > 0\n",
    "        ncells <- dim(partx)[2]\n",
    "        pluscells_meanUMI <- colMeans(partx[, test_cells_o])\n",
    "        minuscells_meanUMI <- colMeans(partx[, !test_cells_o])\n",
    "        upUMI <- mean(pluscells_meanUMI)/mean(minuscells_meanUMI)\n",
    "        ref_sgene <- ref_genes[p]\n",
    "        ref_gid <- short2geneid[ref_sgene]\n",
    "        pluscells_refUMI <- mean(partx[ref_gid, test_cells_o])\n",
    "        minuscells_refUMI <- mean(partx[ref_gid, !test_cells_o])       \n",
    "        calUMI <- mean(pluscells_refUMI)/mean(minuscells_refUMI)\n",
    "        print(round(as.numeric(c(sum(test_cells_o),\n",
    "                                 coex_4db[g, p],\n",
    "                                 upUMI, calUMI,\n",
    "                                 upUMI/calUMI)), 3))\n",
    "    }\n",
    "}\n"
   ]
  },
  {
   "cell_type": "code",
   "execution_count": null,
   "metadata": {},
   "outputs": [],
   "source": []
  },
  {
   "cell_type": "code",
   "execution_count": null,
   "metadata": {},
   "outputs": [],
   "source": []
  },
  {
   "cell_type": "code",
   "execution_count": null,
   "metadata": {},
   "outputs": [],
   "source": [
    "## This is the first code for working with remixed partitions"
   ]
  },
  {
   "cell_type": "code",
   "execution_count": 22,
   "metadata": {},
   "outputs": [],
   "source": [
    "## Set up new partition id colData variable remix\n",
    "remix <- as.character(partitions(down_stdycds))\n",
    "remix[remix %in% c(1, 4, 11:15)] <- 'FAILQC2.1.4.11-15'\n",
    "remix[remix %in% c(3, 6)] <- 'ENDO.3.6'\n",
    "remix[remix %in% c(5, 7)] <- 'VSMC.5.7'\n",
    "remix[remix == 2] <- 'MACRO.2'\n",
    "remix[remix == 8] <- 'NKC.8'\n",
    "remix[remix == 9] <- 'CYTOT.9'\n",
    "remix[remix == 10] <- 'BLYMPH.10'\n",
    "remix_keepers <- c('MACRO.2', 'ENDO.3.6', 'VSMC.5.7', 'NKC.8', 'CYTOT.9', 'BLYMPH.10')\n",
    "down_stdycds@colData$remix <- remix"
   ]
  },
  {
   "cell_type": "code",
   "execution_count": 39,
   "metadata": {},
   "outputs": [
    {
     "data": {
      "text/html": [
       "16287"
      ],
      "text/latex": [
       "16287"
      ],
      "text/markdown": [
       "16287"
      ],
      "text/plain": [
       "[1] 16287"
      ]
     },
     "metadata": {},
     "output_type": "display_data"
    },
    {
     "data": {
      "text/html": [
       "17100"
      ],
      "text/latex": [
       "17100"
      ],
      "text/markdown": [
       "17100"
      ],
      "text/plain": [
       "[1] 17100"
      ]
     },
     "metadata": {},
     "output_type": "display_data"
    },
    {
     "data": {
      "text/html": [
       "17100"
      ],
      "text/latex": [
       "17100"
      ],
      "text/markdown": [
       "17100"
      ],
      "text/plain": [
       "[1] 17100"
      ]
     },
     "metadata": {},
     "output_type": "display_data"
    }
   ],
   "source": [
    "## Save the remix cell barcodes and cluster name/mappings\n",
    "sum(table(down_stdycds@colData$remix)[c(1,2,3,5,6,7)])\n",
    "length(colnames(down_stdycds))\n",
    "length(down_stdycds@colData$remix)\n",
    "remix_codes <- cbind(colnames(down_stdycds), down_stdycds@colData$remix)\n",
    "write.table(remix_codes, file ='outputdat/Remix_Codes.Rev1.txt', col.names = FALSE)"
   ]
  },
  {
   "cell_type": "code",
   "execution_count": 40,
   "metadata": {},
   "outputs": [
    {
     "data": {
      "text/html": [
       "'/gpfs/group/torkamani/devans/CDC2'"
      ],
      "text/latex": [
       "'/gpfs/group/torkamani/devans/CDC2'"
      ],
      "text/markdown": [
       "'/gpfs/group/torkamani/devans/CDC2'"
      ],
      "text/plain": [
       "[1] \"/gpfs/group/torkamani/devans/CDC2\""
      ]
     },
     "metadata": {},
     "output_type": "display_data"
    }
   ],
   "source": [
    "getwd()"
   ]
  },
  {
   "cell_type": "code",
   "execution_count": 28,
   "metadata": {},
   "outputs": [],
   "source": [
    "## Set up new topmarkers data object based on new partition definitions\n",
    "newtop <- as.data.frame(matrix('', nrow <- dim(down_stdycds)[1], ncol = 4),\n",
    "                       stringsAsFactors = FALSE)\n",
    "colnames(newtop) <- colnames(topmarkers)[c(1, 3, 4, 7)]\n",
    "newtop$gene_id <- fData(down_stdycds)@rownames\n",
    "newtop$gene_short_name.1 <- geneid2short[newtop$gene_id]"
   ]
  },
  {
   "cell_type": "code",
   "execution_count": 29,
   "metadata": {},
   "outputs": [],
   "source": [
    "## Loop though all the remixed partitions, fill in the newtop object\n",
    "## and append into a single data object for all the remixed partitions\n",
    "for (p in remix_keepers) {\n",
    "    newtop$cell_group <- p\n",
    "    newp_exp <- exprs(down_stdycds[, colData(down_stdycds)$remix == p])\n",
    "    newtop$mean_expression <- rowMeans(newp_exp)\n",
    "    ncells <- dim(newp_exp)[2]\n",
    "    newtop$fraction_expressing <- rowSums(newp_exp > 0)/ncells\n",
    "    if (p == remix_keepers[1]) {\n",
    "        topmix <- newtop\n",
    "    } else {\n",
    "        topmix <- rbind(topmix, newtop)\n",
    "    }\n",
    "}"
   ]
  },
  {
   "cell_type": "code",
   "execution_count": 30,
   "metadata": {},
   "outputs": [],
   "source": [
    "## Now code the gene exclusion Study Using the remixed partition frame work"
   ]
  },
  {
   "cell_type": "code",
   "execution_count": 31,
   "metadata": {},
   "outputs": [],
   "source": [
    "## Parameters, again in cut and paste senario, single partition at a time\n",
    "np <- length(remix_keepers)     ## Number of Partitions\n",
    "poi <- remix_keepers[5]         ## Partition of interest\n",
    "tl <- 0.78                    ## Top level genes expressing cells threshold\n",
    "bl <- 0.10                      ## Bottom level genes expressing cells threshold\n",
    "qp <- 1                         ## Number of partitions needed below bl to qualify\n",
    "# xlpb <- TRUE                  ## Exclude low cell counts problem partitions from qualifying partitions\n",
    "# lp <- c(1, 4, 11:15)          ## Small or low expressing partitions: from 1, 4, 11, 12, 13, 14, 14\n",
    "tlgenes_f1 <- topmix[topmix$cell_group == poi,]  \n",
    "tlgenes_f2 <- tlgenes_f1[tlgenes_f1$fraction_expressing >= tl,]\n",
    "tlgenes <- as.character(tlgenes_f2$gene_short_name.1)\n",
    "tlgenes_f3 <- topmix[topmix$gene_short_name.1 %in% tlgenes,]"
   ]
  },
  {
   "cell_type": "code",
   "execution_count": 32,
   "metadata": {},
   "outputs": [
    {
     "data": {
      "text/html": [
       "<ol class=list-inline>\n",
       "\t<li>11</li>\n",
       "\t<li>7</li>\n",
       "</ol>\n"
      ],
      "text/latex": [
       "\\begin{enumerate*}\n",
       "\\item 11\n",
       "\\item 7\n",
       "\\end{enumerate*}\n"
      ],
      "text/markdown": [
       "1. 11\n",
       "2. 7\n",
       "\n",
       "\n"
      ],
      "text/plain": [
       "[1] 11  7"
      ]
     },
     "metadata": {},
     "output_type": "display_data"
    }
   ],
   "source": [
    "## Compute the new but limited topmarker matrix \n",
    "gene_tab <- matrix(as.double(0), nrow = length(tlgenes), ncol = np)\n",
    "rownames(gene_tab) <- tlgenes\n",
    "for (g in 1:length(tlgenes)) {\n",
    "    tlgenes_f3_p <- tlgenes_f3[tlgenes_f3$gene_short_name.1 %in% tlgenes[g],]\n",
    "    for (p in 1:np) {\n",
    "        ptxt <- remix_keepers[p]\n",
    "        gene_tab[g, p] <- round(tlgenes_f3_p$fraction_expressing[tlgenes_f3_p$cell_group == ptxt], 3)\n",
    "    }    \n",
    "}\n",
    "# if (xlpb) gene_tab[, lp] <- 1 \n",
    "qual_parts <- rowSums(gene_tab <= bl)\n",
    "qual_gene_tab <- gene_tab[qual_parts >= qp,]\n",
    "qual_part_filt <- rowSums(qual_gene_tab <= bl)\n",
    "qual_gene_tabx <- cbind(qual_gene_tab, qual_part_filt)\n",
    "thispart <- which(poi %in% remix_keepers)\n",
    "qual_gene_tabx <- qual_gene_tabx[order(qual_part_filt, qual_gene_tabx[, thispart], decreasing = TRUE),]\n",
    "colnames(qual_gene_tabx) <- c(remix_keepers, 'match')\n",
    "dim(qual_gene_tabx)"
   ]
  },
  {
   "cell_type": "code",
   "execution_count": 33,
   "metadata": {},
   "outputs": [],
   "source": [
    "## Get the expression data for just this gene set\n",
    "poi_genes <- short2geneid[rownames(qual_gene_tabx)]\n",
    "poi_exp <- exprs(down_stdycds[rowData(down_stdycds)$gene_short_name %in% rownames(qual_gene_tabx),\n",
    "    colData(down_stdycds)$remix == poi])"
   ]
  },
  {
   "cell_type": "code",
   "execution_count": 34,
   "metadata": {},
   "outputs": [],
   "source": [
    "## Perform co-expression calculation\n",
    "poi_cor <- cor(t(as.matrix(poi_exp)))\n",
    "poi_cor_v <- round(sm2vec(poi_cor, diag = FALSE), 3)\n",
    "poi_ind <- sm.index(poi_cor, diag = FALSE)\n",
    "coex <- cbind(poi_cor_v, abs(poi_cor_v),\n",
    "                as.character(geneid2short[rownames(poi_cor)[poi_ind[,1]]]),\n",
    "                as.character(geneid2short[rownames(poi_cor)[poi_ind[,2]]]))\n",
    "coex <- coex[order(coex[,2], decreasing = TRUE), ]\n",
    "## if there is only one pair of genes, then a vector will be returned instead of a matrix\n",
    "if (length(coex) == 4) {\n",
    "    coex_lst <- paste(coex[3], ' to ',\n",
    "                      coex[4], ' = ',\n",
    "                      coex[1], sep = '')[1:length(rownames(qual_gene_tabx))]\n",
    "} else {\n",
    "    coex_lst <- paste(coex[,3], ' to ',\n",
    "                          coex[,4],' = ',\n",
    "                          coex[,1], sep = '')[1:length(rownames(qual_gene_tabx))]\n",
    "} \n",
    "coex_all <- as.data.frame(cbind(qual_gene_tabx, coex_lst), stringsAsFactors = FALSE)\n",
    "coex_4db <- coex_all"
   ]
  },
  {
   "cell_type": "code",
   "execution_count": 35,
   "metadata": {},
   "outputs": [],
   "source": [
    "## Reformat results into percentages, from fractions\n",
    "rownames(coex_all) <- paste(rownames(coex_all), '(', 100 * as.numeric(coex_all[,poi]), ')', sep ='')\n",
    "for (i in 1:length(rownames(qual_gene_tabx))) {\n",
    "    for (j in 1:np) {\n",
    "        if (as.numeric(coex_all[i,j]) > bl) {\n",
    "            coex_all[i,j] = '' \n",
    "        }\n",
    "        else {\n",
    "            coex_all[i,j] <- as.numeric(coex_all[i, j]) * 100\n",
    "        }\n",
    "    }\n",
    "}\n",
    "\n"
   ]
  },
  {
   "cell_type": "code",
   "execution_count": 130,
   "metadata": {},
   "outputs": [],
   "source": [
    "## This is the cut and paste table (if uncommented)\n",
    "# coex_all"
   ]
  },
  {
   "cell_type": "code",
   "execution_count": 37,
   "metadata": {},
   "outputs": [],
   "source": [
    "## Get remix partition breakdown (cell counts by partition across patients, disease and healthy)\n",
    "part_stats2 <- as.data.frame(matrix('', nrow = length(names(table(remix))),\n",
    "                                   ncol = (length(cellgrps) + 2)), stringsAsFactors = FALSE)"
   ]
  },
  {
   "cell_type": "code",
   "execution_count": 38,
   "metadata": {},
   "outputs": [],
   "source": [
    "## Add the cell groups and patient IDs to the first two rows\n",
    "part_stats2 <- rbind(cellpats, cellgrps, part_stats2)\n",
    "## Add the partition names (cell types), and first two column row names as well\n",
    "remixall <- c(remix_keepers, 'FAILQC2.1.4.11-15')\n",
    "row.names(part_stats2) <- c('Patient ID', 'Condition', remixall)\n",
    "part_stats2[1, c(7,8)] <- c('Total', 'Mean')\n",
    "part_stats2[2, c(7,8)] <- c('Cells', 'UMI')"
   ]
  },
  {
   "cell_type": "code",
   "execution_count": 39,
   "metadata": {},
   "outputs": [],
   "source": [
    "## Get the partitions to summarize\n",
    "parts <- colData(down_stdycds)$remix[colData(down_stdycds)$remix %in% remixall]"
   ]
  },
  {
   "cell_type": "code",
   "execution_count": 40,
   "metadata": {},
   "outputs": [],
   "source": [
    "for (c in 1:dim(part_stats2)[2]) {\n",
    "    for (r in 3:dim(part_stats2)[1]) {\n",
    "        cells <- sum((parts == remixall[r - 2]) &\n",
    "                     (colData(down_stdycds)$patient ==  cellpats[c])  &\n",
    "                     (colData(down_stdycds)$condition ==  cellgrps[c]))\n",
    "        part_stats2[r, c] <- cells\n",
    "    }\n",
    "}\n",
    "for (r in 3:dim(part_stats2)[1]) {\n",
    "    part_stats2[r,7] <- sum(as.numeric(part_stats2[r, 1:6]))\n",
    "    part_stats2[r,8] <- round(mean(colSums(exprs(down_stdycds[,\n",
    "                        colData(down_stdycds)$remix == remixall[r-2]]))), 0)\n",
    "}"
   ]
  },
  {
   "cell_type": "code",
   "execution_count": 42,
   "metadata": {},
   "outputs": [],
   "source": [
    "## Save the partition statistics\n",
    "write.table(part_stats2,\n",
    "            file = paste(ps$outdir, 'Aggregated.downsampled.QC.Partition.CellCount.Stats2.txt', sep = ''),\n",
    "            col.names = FALSE)"
   ]
  },
  {
   "cell_type": "code",
   "execution_count": null,
   "metadata": {},
   "outputs": [],
   "source": []
  },
  {
   "cell_type": "code",
   "execution_count": null,
   "metadata": {},
   "outputs": [],
   "source": []
  },
  {
   "cell_type": "code",
   "execution_count": null,
   "metadata": {},
   "outputs": [],
   "source": []
  },
  {
   "cell_type": "code",
   "execution_count": null,
   "metadata": {},
   "outputs": [],
   "source": []
  },
  {
   "cell_type": "code",
   "execution_count": null,
   "metadata": {},
   "outputs": [],
   "source": []
  },
  {
   "cell_type": "code",
   "execution_count": 44,
   "metadata": {},
   "outputs": [],
   "source": [
    "## Recoded from above, in a loop form for all partitions of\n",
    "## the gene exclusion Study Using the remixed partition frame work\n",
    "## This is not cut and paste"
   ]
  },
  {
   "cell_type": "code",
   "execution_count": 77,
   "metadata": {},
   "outputs": [],
   "source": [
    "## This function computed the doublet statistics (4 tables) and marks doublets in\n",
    "## an updated cell dataset object\n",
    "doublet_stats <- function(pgtab, cdsdat, bottom_level, pthresh) {\n",
    "    bl <- bottom_level\n",
    "    ## Some return variables\n",
    "    cell_cnt_tab <- pgtab\n",
    "    cell_umi_enr <- pgtab\n",
    "    cell_tstat <- pgtab\n",
    "    cell_pval <- pgtab\n",
    "    expdat <- exprs(cdsdat)\n",
    "    updated_cds <- cdsdat ## Make a copy\n",
    "    pcnt <- 1\n",
    "    for (p in colnames(pgtab)) {\n",
    "        gcnt <- 1\n",
    "        pexpdat <- expdat[, colData(cdsdat)$remix == p]\n",
    "        for (g in short2geneid[rownames(pgtab)]) {\n",
    "            if (pgtab[gcnt, pcnt] <= bl ) {\n",
    "                allbars <- colnames(pexpdat)\n",
    "                pluscells <- pexpdat[which(rownames(pexpdat) %in% g), ] > 0\n",
    "                minuscells <- !pluscells\n",
    "                cell_cnt <- sum(pluscells)\n",
    "                plusumi <- colSums(pexpdat[, pluscells])\n",
    "                minusumi <- colSums(pexpdat[, minuscells])\n",
    "                foldch <- round((mean(plusumi)/mean(minusumi)), 2)\n",
    "                tt <- t.test(x = minusumi, y = plusumi, alternative = 'less')\n",
    "                cell_cnt_tab[gcnt, pcnt] <-  cell_cnt\n",
    "                cell_umi_enr[gcnt, pcnt] <- round(foldch, 2)\n",
    "                cell_tstat[gcnt, pcnt] <- round(tt$statistic, 2)\n",
    "                cell_pval[gcnt, pcnt] <- formatC(tt$p.value, format = \"e\", digits = 2)\n",
    "                plusbars <- colnames(pexpdat)[pluscells]\n",
    "                if (tt$p.value <= pthresh) {\n",
    "                    v <- updated_cds[, which(colnames(updated_cds) %in% plusbars)]$pcount + 1\n",
    "                    updated_cds[, which(colnames(updated_cds) %in% plusbars)]$pcount <- v\n",
    "                }\n",
    "            } else {\n",
    "                cell_cnt_tab[gcnt, pcnt] <- ''\n",
    "                cell_umi_enr[gcnt, pcnt] <- ''\n",
    "                cell_tstat[gcnt, pcnt] <- ''\n",
    "                cell_pval[gcnt, pcnt] <- ''\n",
    "            }\n",
    "            gcnt <- gcnt + 1\n",
    "        }\n",
    "    pcnt <- pcnt + 1\n",
    "    }\n",
    "    colnames(cell_cnt_tab) <- paste('ccnt.', colnames(cell_cnt_tab))\n",
    "    colnames(cell_umi_enr) <- paste('foldc.', colnames(cell_umi_enr))\n",
    "    colnames(cell_tstat) <- paste('tstat.', colnames(cell_tstat))\n",
    "    colnames(cell_pval) <- paste('pval.', colnames(cell_pval))\n",
    "    \n",
    "    itemlist <- list(cell_cnt_tab, cell_umi_enr, cell_tstat, cell_pval, updated_cds)\n",
    "    return(itemlist)\n",
    "}"
   ]
  },
  {
   "cell_type": "code",
   "execution_count": 78,
   "metadata": {},
   "outputs": [],
   "source": [
    "## Recompute the topmarkers data based on merged and deleted partitions,\n",
    "## and without partition level DE (gene expression levels only)\n",
    "\n",
    "## Set up new partition id colData variable remix\n",
    "remix <- as.character(partitions(down_stdycds))\n",
    "remix[remix %in% c(1, 4, 11:15)] <- 'FAILQC2.1.4.11-15'\n",
    "remix[remix %in% c(3, 6)] <- 'ENDO.3.6'\n",
    "remix[remix %in% c(5, 7)] <- 'VSMC.5.7'\n",
    "remix[remix == 2] <- 'MACRO.2'\n",
    "remix[remix == 8] <- 'NKC.8'\n",
    "remix[remix == 9] <- 'CYTOT.9'\n",
    "remix[remix == 10] <- 'BLYMPH.10'\n",
    "remix_keepers <- c('MACRO.2', 'ENDO.3.6', 'VSMC.5.7', 'NKC.8', 'CYTOT.9', 'BLYMPH.10')\n",
    "down_stdycds@colData$remix <- remix\n",
    "\n",
    "## Set up new topmarkers data object based on new partition definitions\n",
    "newtop <- as.data.frame(matrix('', nrow <- dim(down_stdycds)[1], ncol = 4),\n",
    "                       stringsAsFactors = FALSE)\n",
    "colnames(newtop) <- colnames(topmarkers)[c(1, 3, 4, 7)]\n",
    "newtop$gene_id <- fData(down_stdycds)@rownames\n",
    "newtop$gene_short_name.1 <- geneid2short[newtop$gene_id]\n",
    "\n",
    "## Loop though all the remixed partitions, fill in the newtop object\n",
    "## and append into a single data object for all the remixed partitions\n",
    "for (p in remix_keepers) {\n",
    "    newtop$cell_group <- p\n",
    "    newp_exp <- exprs(down_stdycds[, colData(down_stdycds)$remix == p])\n",
    "    newtop$mean_expression <- rowMeans(newp_exp)\n",
    "    ncells <- dim(newp_exp)[2]\n",
    "    newtop$fraction_expressing <- rowSums(newp_exp > 0)/ncells\n",
    "    if (p == remix_keepers[1]) {\n",
    "        topmix <- newtop\n",
    "    } else {\n",
    "        topmix <- rbind(topmix, newtop)\n",
    "    }\n",
    "}"
   ]
  },
  {
   "cell_type": "code",
   "execution_count": 121,
   "metadata": {},
   "outputs": [],
   "source": [
    "## Now code the gene exclusion Study Using the remixed partition frame, this time in a loop\n",
    "np <- length(remix_keepers)     ## Number of Partitions\n",
    "## Top level genes expressing cells thresholds (varies by partition)\n",
    "tl_gp <- c(.9, .9, .87, .9, .78, .9)\n",
    "pvalue.thresh <- 0.005          ## P-value threshold for calling doublets \n",
    "bl <- 0.10                      ## Bottom level genes expressing cells threshold\n",
    "qp <- 1                         ## Number of partitions needed below bl to qualify\n",
    "cnt <- 1                        ## Loop Counter\n",
    "options(stringsAsFactors = FALSE)\n",
    "colData(down_stdycds)$pcount <- 0 ## Initialize cell counter\n",
    "for(poi in remix_keepers[1:6]) {\n",
    "    tl <- tl_gp[cnt]\n",
    "    cnt <- cnt + 1\n",
    "    tlgenes_f1 <- topmix[topmix$cell_group == poi,]  \n",
    "    tlgenes_f2 <- tlgenes_f1[tlgenes_f1$fraction_expressing >= tl,]\n",
    "    tlgenes <- as.character(tlgenes_f2$gene_short_name.1)\n",
    "    tlgenes_f3 <- topmix[topmix$gene_short_name.1 %in% tlgenes,]\n",
    "\n",
    "    ## Compute the new but limited topmarker matrix \n",
    "    gene_tab <- matrix(as.double(0), nrow = length(tlgenes), ncol = np)\n",
    "    rownames(gene_tab) <- tlgenes\n",
    "    for (g in 1:length(tlgenes)) {\n",
    "        tlgenes_f3_p <- tlgenes_f3[tlgenes_f3$gene_short_name.1 %in% tlgenes[g],]\n",
    "        for (p in 1:np) {\n",
    "            ptxt <- remix_keepers[p]\n",
    "            gene_tab[g, p] <- round(tlgenes_f3_p$fraction_expressing[tlgenes_f3_p$cell_group == ptxt], 3)\n",
    "        }    \n",
    "    }\n",
    "    qual_parts <- rowSums(gene_tab <= bl)\n",
    "    qual_gene_tab <- gene_tab[qual_parts >= qp,]\n",
    "    qual_part_filt <- rowSums(qual_gene_tab <= bl)\n",
    "    qual_gene_tabx <- cbind(qual_gene_tab, qual_part_filt)\n",
    "    thispart <- which(poi %in% remix_keepers)\n",
    "    qual_gene_tabx <- qual_gene_tabx[order(qual_part_filt, qual_gene_tabx[, thispart], decreasing = TRUE),]\n",
    "    colnames(qual_gene_tabx) <- c(remix_keepers, 'match')\n",
    "    dim(qual_gene_tabx)\n",
    "\n",
    "    ## Get the expression data for just this gene set\n",
    "    poi_genes <- short2geneid[rownames(qual_gene_tabx)]\n",
    "    poi_exp <- exprs(down_stdycds[rowData(down_stdycds)$gene_short_name %in% rownames(qual_gene_tabx),\n",
    "        colData(down_stdycds)$remix == poi])\n",
    "\n",
    "    ## Perform co-expression calculation\n",
    "    poi_cor <- cor(t(as.matrix(poi_exp)))\n",
    "    poi_cor_v <- round(sm2vec(poi_cor, diag = FALSE), 3)\n",
    "    poi_ind <- sm.index(poi_cor, diag = FALSE)\n",
    "    coex <- cbind(poi_cor_v, abs(poi_cor_v),\n",
    "                    as.character(geneid2short[rownames(poi_cor)[poi_ind[,1]]]),\n",
    "                    as.character(geneid2short[rownames(poi_cor)[poi_ind[,2]]]))\n",
    "    coex <- coex[order(coex[,2], decreasing = TRUE), ]\n",
    "    ## if there is only one pair of genes, then a vector will be returned instead of a matrix\n",
    "    if (length(coex) == 4) {\n",
    "        coex_lst <- paste(coex[3], ' to ',\n",
    "                          coex[4], ' = ',\n",
    "                          coex[1], sep = '')[1:length(rownames(qual_gene_tabx))]\n",
    "    } else {\n",
    "        coex_lst <- paste(coex[,3], ' to ',\n",
    "                              coex[,4],' = ',\n",
    "                              coex[,1], sep = '')[1:length(rownames(qual_gene_tabx))]\n",
    "    } \n",
    "    coex_all <- as.data.frame(cbind(qual_gene_tabx, coex_lst), stringsAsFactors = FALSE)\n",
    "    \n",
    "    ## Compute the other matrices needed to determine potential doublet enrichment\n",
    "    coex_red <- coex_all[, 1:np]\n",
    "    coex_stat_lst <- doublet_stats(coex_red, down_stdycds, bl, pvalue.thresh)\n",
    "    colData(down_stdycds)$pcount <-  colData(coex_stat_lst[[5]])$pcount ## Update CDS object\n",
    "    ## Reformat results\n",
    "    rownames(coex_all) <- paste(rownames(coex_all), '(', 100 * as.numeric(coex_all[,poi]), ')', sep ='')\n",
    "    for (i in 1:length(rownames(qual_gene_tabx))) {\n",
    "        for (j in 1:np) {\n",
    "            if (as.numeric(coex_all[i,j]) > bl) {\n",
    "                coex_all[i,j] = '' \n",
    "            }\n",
    "            else {\n",
    "                coex_all[i,j] <- as.numeric(coex_all[i, j]) * 100\n",
    "            }\n",
    "        }\n",
    "    }\n",
    "    \n",
    "    coex_1sp <- matrix('', nrow = 1, ncol = dim(coex_all)[2])\n",
    "    colnames(coex_1sp) <- colnames(coex_all)\n",
    "    rownames(coex_1sp) <- paste('Partition ', poi, \", Thresh = \", round(tl * 100, 0), '%', sep = '')\n",
    "    coex_all <- rbind(coex_1sp, coex_all)\n",
    "    coex_all[1,] <- colnames(coex_all)\n",
    "    \n",
    "    coex_1sp <- matrix('', nrow = 1, ncol = dim(coex_stat_lst[[1]])[2])\n",
    "    colnames(coex_1sp) <- colnames(coex_stat_lst[[1]])\n",
    "    rownames(coex_1sp) <- 'Cell Counts'\n",
    "    coex_all_cnt <- rbind(coex_1sp, coex_stat_lst[[1]])\n",
    "    coex_all_cnt[1,] <- colnames(coex_stat_lst[[1]])\n",
    "    coex_all <- cbind(coex_all, coex_all_cnt)\n",
    "    \n",
    "    coex_1sp <- matrix('', nrow = 1, ncol = dim(coex_stat_lst[[2]])[2])\n",
    "    colnames(coex_1sp) <- colnames(coex_stat_lst[[2]])\n",
    "    rownames(coex_1sp) <- 'Fold Change'\n",
    "    coex_all_fc <- rbind(coex_1sp, coex_stat_lst[[2]])\n",
    "    coex_all_fc[1,] <- colnames(coex_stat_lst[[2]])\n",
    "    coex_all <- cbind(coex_all, coex_all_fc)\n",
    "     \n",
    "    coex_1sp <- matrix('', nrow = 1, ncol = dim(coex_stat_lst[[3]])[2])\n",
    "    colnames(coex_1sp) <- colnames(coex_stat_lst[[3]])\n",
    "    rownames(coex_1sp) <- 'T Statistic'\n",
    "    coex_all_tstat <- rbind(coex_1sp, coex_stat_lst[[3]])\n",
    "    coex_all_tstat[1,] <- colnames(coex_stat_lst[[3]])\n",
    "    coex_all <- cbind(coex_all, coex_all_tstat)   \n",
    "    \n",
    "    coex_1sp <- matrix('', nrow = 1, ncol = dim(coex_stat_lst[[4]])[2])\n",
    "    colnames(coex_1sp) <- colnames(coex_stat_lst[[4]])\n",
    "    rownames(coex_1sp) <- 'p Value'\n",
    "    coex_all_pval <- rbind(coex_1sp, coex_stat_lst[[4]])\n",
    "    coex_all_pval[1,] <- colnames(coex_stat_lst[[4]])\n",
    "    coex_all <- cbind(coex_all, coex_all_pval)  \n",
    "\n",
    "if (poi == remix_keepers[1]) sum_coex_all <- coex_all else sum_coex_all <- rbind(sum_coex_all, coex_all) \n",
    "}"
   ]
  },
  {
   "cell_type": "code",
   "execution_count": 124,
   "metadata": {},
   "outputs": [],
   "source": [
    "## Rerun the code above get the the pcount for various p-value thresholds and save in separate variables \n",
    "# colData(down_stdycds)$p0.0 <- colData(down_stdycds)$pcount\n",
    "# colData(down_stdycds)$p1.0 <- colData(down_stdycds)$pcount\n",
    "# colData(down_stdycds)$p0.5 <- colData(down_stdycds)$pcount\n",
    "# colData(down_stdycds)$p0.05 <- colData(down_stdycds)$pcount\n",
    "# colData(down_stdycds)$p0.005 <- colData(down_stdycds)$pcount\n",
    "# colData(down_stdycds)$p0.0005 <- colData(down_stdycds)$pcount\n",
    "# colData(down_stdycds)$p0.00005 <- colData(down_stdycds)$pcount"
   ]
  },
  {
   "cell_type": "code",
   "execution_count": 133,
   "metadata": {},
   "outputs": [],
   "source": [
    "# Save the updated CDS object to a file i(CDS1 in outline)\n",
    "saveRDS(down_stdycds, file = paste(ps$outdir, 'Aggregated.downsampled.QC.Doublets.Counted.rds', sep = ''))"
   ]
  },
  {
   "cell_type": "code",
   "execution_count": 98,
   "metadata": {},
   "outputs": [],
   "source": [
    "## Save the automated doublet findings (gene exclusion study)\n",
    "write.table(sum_coex_all,\n",
    "            file = paste('Auto.Gene.Exclusion.Study.Rev5.txt', sep = ''),\n",
    "            col.names = FALSE)"
   ]
  },
  {
   "cell_type": "code",
   "execution_count": 1,
   "metadata": {},
   "outputs": [
    {
     "data": {
      "text/html": [
       "<table>\n",
       "<caption>A matrix: 2 × 6 of type dbl</caption>\n",
       "<thead>\n",
       "\t<tr><th></th><th scope=col>used</th><th scope=col>(Mb)</th><th scope=col>gc trigger</th><th scope=col>(Mb)</th><th scope=col>max used</th><th scope=col>(Mb)</th></tr>\n",
       "</thead>\n",
       "<tbody>\n",
       "\t<tr><th scope=row>Ncells</th><td> 539119</td><td>28.8</td><td>1168712</td><td>62.5</td><td> 813602</td><td>43.5</td></tr>\n",
       "\t<tr><th scope=row>Vcells</th><td>1037983</td><td> 8.0</td><td>8388608</td><td>64.0</td><td>1760016</td><td>13.5</td></tr>\n",
       "</tbody>\n",
       "</table>\n"
      ],
      "text/latex": [
       "A matrix: 2 × 6 of type dbl\n",
       "\\begin{tabular}{r|llllll}\n",
       "  & used & (Mb) & gc trigger & (Mb) & max used & (Mb)\\\\\n",
       "\\hline\n",
       "\tNcells &  539119 & 28.8 & 1168712 & 62.5 &  813602 & 43.5\\\\\n",
       "\tVcells & 1037983 &  8.0 & 8388608 & 64.0 & 1760016 & 13.5\\\\\n",
       "\\end{tabular}\n"
      ],
      "text/markdown": [
       "\n",
       "A matrix: 2 × 6 of type dbl\n",
       "\n",
       "| <!--/--> | used | (Mb) | gc trigger | (Mb) | max used | (Mb) |\n",
       "|---|---|---|---|---|---|---|\n",
       "| Ncells |  539119 | 28.8 | 1168712 | 62.5 |  813602 | 43.5 |\n",
       "| Vcells | 1037983 |  8.0 | 8388608 | 64.0 | 1760016 | 13.5 |\n",
       "\n"
      ],
      "text/plain": [
       "       used    (Mb) gc trigger (Mb) max used (Mb)\n",
       "Ncells  539119 28.8 1168712    62.5  813602  43.5\n",
       "Vcells 1037983  8.0 8388608    64.0 1760016  13.5"
      ]
     },
     "metadata": {},
     "output_type": "display_data"
    }
   ],
   "source": [
    "gc()"
   ]
  },
  {
   "cell_type": "code",
   "execution_count": 48,
   "metadata": {},
   "outputs": [
    {
     "name": "stdout",
     "output_type": "stream",
     "text": [
      "[1] 0.5598444\n"
     ]
    }
   ],
   "source": [
    "## Compute the mean of the maximum pseudo_R2rds for Tom's genes in the dot plot\n",
    "stattrack <- vector(mode = 'numeric', length = length(toms_gene_ids5))\n",
    "i <- 1\n",
    "for (gene in toms_gene_ids5[1:45]) {\n",
    "    mmatch <- topmarkers$pseudo_R2[which(topmarkers$gene_id == gene)]\n",
    "    stattrack[i] <- round(max(mmatch), 3)\n",
    "    i <- i + 1\n",
    "}\n",
    "print(mean(stattrack))"
   ]
  },
  {
   "cell_type": "code",
   "execution_count": 32,
   "metadata": {},
   "outputs": [
    {
     "data": {
      "text/html": [
       "<ol class=list-inline>\n",
       "\t<li>'gene_id'</li>\n",
       "\t<li>'gene_cards'</li>\n",
       "\t<li>'gene_short_name.1'</li>\n",
       "\t<li>'cell_group'</li>\n",
       "\t<li>'marker_score'</li>\n",
       "\t<li>'mean_expression'</li>\n",
       "\t<li>'fraction_expressing'</li>\n",
       "\t<li>'specificity'</li>\n",
       "\t<li>'pseudo_R2'</li>\n",
       "\t<li>'marker_test_p_value'</li>\n",
       "\t<li>'marker_test_q_value'</li>\n",
       "</ol>\n"
      ],
      "text/latex": [
       "\\begin{enumerate*}\n",
       "\\item 'gene\\_id'\n",
       "\\item 'gene\\_cards'\n",
       "\\item 'gene\\_short\\_name.1'\n",
       "\\item 'cell\\_group'\n",
       "\\item 'marker\\_score'\n",
       "\\item 'mean\\_expression'\n",
       "\\item 'fraction\\_expressing'\n",
       "\\item 'specificity'\n",
       "\\item 'pseudo\\_R2'\n",
       "\\item 'marker\\_test\\_p\\_value'\n",
       "\\item 'marker\\_test\\_q\\_value'\n",
       "\\end{enumerate*}\n"
      ],
      "text/markdown": [
       "1. 'gene_id'\n",
       "2. 'gene_cards'\n",
       "3. 'gene_short_name.1'\n",
       "4. 'cell_group'\n",
       "5. 'marker_score'\n",
       "6. 'mean_expression'\n",
       "7. 'fraction_expressing'\n",
       "8. 'specificity'\n",
       "9. 'pseudo_R2'\n",
       "10. 'marker_test_p_value'\n",
       "11. 'marker_test_q_value'\n",
       "\n",
       "\n"
      ],
      "text/plain": [
       " [1] \"gene_id\"             \"gene_cards\"          \"gene_short_name.1\"  \n",
       " [4] \"cell_group\"          \"marker_score\"        \"mean_expression\"    \n",
       " [7] \"fraction_expressing\" \"specificity\"         \"pseudo_R2\"          \n",
       "[10] \"marker_test_p_value\" \"marker_test_q_value\""
      ]
     },
     "metadata": {},
     "output_type": "display_data"
    }
   ],
   "source": [
    "colnames(topmarkers)"
   ]
  },
  {
   "cell_type": "code",
   "execution_count": 35,
   "metadata": {},
   "outputs": [],
   "source": [
    "help(vector)"
   ]
  },
  {
   "cell_type": "code",
   "execution_count": null,
   "metadata": {},
   "outputs": [],
   "source": []
  }
 ],
 "metadata": {
  "kernelspec": {
   "display_name": "R",
   "language": "R",
   "name": "ir"
  },
  "language_info": {
   "codemirror_mode": "r",
   "file_extension": ".r",
   "mimetype": "text/x-r-source",
   "name": "R",
   "pygments_lexer": "r",
   "version": "3.5.1"
  }
 },
 "nbformat": 4,
 "nbformat_minor": 4
}
