{
 "cells": [
  {
   "cell_type": "code",
   "execution_count": 2,
   "metadata": {},
   "outputs": [],
   "source": [
    "## ---- Partition Cell Set Network Module Cell Plotting ---- 0682.01.00\n",
    "## Load Analysis Parameters (Parm1)\n",
    "## Load Monocle Cell Sets\n",
    "## Perform Special Gene (gene enrichment) Plots"
   ]
  },
  {
   "cell_type": "code",
   "execution_count": 3,
   "metadata": {},
   "outputs": [],
   "source": [
    "## Create a Working Input and Output Data Directory, If Id Does Not Exist\n",
    "parentdir <- '/gpfs/group/torkamani/devans/'\n",
    "datdir <- paste(parentdir, 'CDC2', sep = '')\n",
    "if (!file.exists(datdir)) {\n",
    "    dir.create(datdir)\n",
    "}\n",
    "setwd(datdir)"
   ]
  },
  {
   "cell_type": "code",
   "execution_count": 4,
   "metadata": {},
   "outputs": [],
   "source": [
    "## Read the parameters file\n",
    "ps <- read.table(file = 'parms.txt', stringsAsFactors = FALSE, header = TRUE)"
   ]
  },
  {
   "cell_type": "code",
   "execution_count": 5,
   "metadata": {},
   "outputs": [],
   "source": [
    "## Read the GENCODE v27 Data\n",
    "v27_gen <- read.table(paste(ps$indir, 'v27_Embl_Hugo.txt', sep = ''), header = F)\n",
    "v27_gen[,1] <- substr(v27_gen[,1] ,1, 15)\n",
    "v27 <- read.table(paste(ps$indir, 'v27_Embl_Hugo_Type.txt', sep =''))"
   ]
  },
  {
   "cell_type": "code",
   "execution_count": 404,
   "metadata": {},
   "outputs": [],
   "source": [
    "## Load Monocle3 and Seurat Libraries\n",
    "library(monocle3)\n",
    "library(Seurat)\n",
    "library(dplyr)\n",
    "library(magrittr)\n",
    "library(ggplot2)\n",
    "library(gridExtra)\n",
    "library(Matrix)\n",
    "library(rhdf5)\n",
    "library(grid)\n",
    "library(igraph)\n",
    "library(corpcor)\n",
    "library(fdrtool)\n",
    "library(SDMTools)"
   ]
  },
  {
   "cell_type": "code",
   "execution_count": 271,
   "metadata": {},
   "outputs": [],
   "source": [
    "## Read the previously preprocessed downsampled cell set data object\n",
    "setwd(datdir)\n",
    "down_stdycds <- readRDS(file = paste(ps$outdir,\n",
    "            'Aggregated.downsampled.QC.NoDoublets.Repartitioned.rds', sep = ''))\n",
    "\n",
    "## Build a gene short name to gene id (Ensembl) lookup\n",
    "short2geneid <- fData(down_stdycds)@rownames\n",
    "names(short2geneid) <- fData(down_stdycds)@listData$gene_short_name\n",
    "\n",
    "## Build a gene id (Ensembl) to gene short name lookup\n",
    "geneid2short <- fData(down_stdycds)@listData$gene_short_name\n",
    "names(geneid2short) <- fData(down_stdycds)@rownames"
   ]
  },
  {
   "cell_type": "code",
   "execution_count": 9,
   "metadata": {},
   "outputs": [],
   "source": [
    "## Create variables for how cells sets are organized\n",
    "cellgrps <- c('healthy', 'diseased', 'healthy', 'diseased', 'healthy', 'diseased')\n",
    "cellpats <- c('ID Number 1', 'ID Number 1', 'ID Number 2', 'ID Number 2', 'ID Number 3', 'ID Number 3')\n",
    "\n",
    "## Define and Assign Cell Types\n",
    "celltypes6 <- c('1-Macrophages',\n",
    "                '2-Endothelial Cells',\n",
    "                '3-VSMCs',\n",
    "                '4-Natural Killer Cells',\n",
    "                '5-Cytotoxic T Lymphocytes',\n",
    "                '6-B Lymphocytes')"
   ]
  },
  {
   "cell_type": "code",
   "execution_count": 10,
   "metadata": {},
   "outputs": [],
   "source": [
    "# Special Genes Set 2:\n",
    "\n",
    "# ECs:\n",
    "ec_mod1_genes <- c('ITLN1', 'S100A4', 'SCX')\n",
    "ec_mod35_genes <- c('ESM1', 'PDGFD') \n",
    "ec_mod36_genes <- c('IER2', 'FOS')\n",
    "## EC Gene IDs\n",
    "ec_mod1_geneids <- short2geneid[ec_mod1_genes]\n",
    "ec_mod35_geneids <- short2geneid[ec_mod36_genes]\n",
    "ec_mod36_geneids <- short2geneid[ec_mod35_genes]\n",
    "\n",
    "# VSMC:\n",
    "vsmc_mod9_genes <- c('TNFAIP2', 'NFKBIA', 'SFRP5', 'CRTAC1')\n",
    "vsmc_mod11_genes <- 'IGSF10'\n",
    "vsmc_mod13_genes <- c('SPP1', 'IBSP', 'POSTN')\n",
    "vsmc_mod30_genes <- c('TRA3', 'SEMA3C', 'C1QTNF3', 'NTM', 'FBN1')\n",
    "vsmc_mod31_genes <- c('ZFP36', 'EGR1', 'JUNB', 'FOSB', 'FOS', 'IER2')\n",
    "vsmc_mod31plus2_genes <- c(vsmc_mod31_genes, 'TNFAIP2', 'NFKBIA')\n",
    "vsmc_mod9.31_genes <- c(vsmc_mod9_genes, vsmc_mod31_genes)\n",
    "## VSMC Gene IDs\n",
    "vsmc_mod13_geneids <- short2geneid[vsmc_mod9_genes]\n",
    "vsmc_mod11_geneids <- short2geneid[vsmc_mod11_genes]\n",
    "vsmc_mod13_geneids <- short2geneid[vsmc_mod13_genes]\n",
    "vsmc_mod30_geneids <- short2geneid[vsmc_mod30_genes]\n",
    "vsmc_mod31_geneids <- short2geneid[vsmc_mod31_genes]\n",
    "vsmc_mod9.31_geneids <- short2geneid[vsmc_mod9.31_genes]\n",
    "vsmc_mod31plus2_geneids <- short2geneid[vsmc_mod31plus2_genes]"
   ]
  },
  {
   "cell_type": "code",
   "execution_count": null,
   "metadata": {},
   "outputs": [],
   "source": []
  },
  {
   "cell_type": "code",
   "execution_count": null,
   "metadata": {},
   "outputs": [],
   "source": []
  },
  {
   "cell_type": "code",
   "execution_count": null,
   "metadata": {},
   "outputs": [],
   "source": []
  },
  {
   "cell_type": "markdown",
   "metadata": {},
   "source": [
    "## EC Module Special Gene Plots, Modules 1 and 36"
   ]
  },
  {
   "cell_type": "code",
   "execution_count": 11,
   "metadata": {},
   "outputs": [
    {
     "data": {
      "text/html": [
       "3"
      ],
      "text/latex": [
       "3"
      ],
      "text/markdown": [
       "3"
      ],
      "text/plain": [
       "[1] 3"
      ]
     },
     "metadata": {},
     "output_type": "display_data"
    },
    {
     "data": {
      "text/html": [
       "2"
      ],
      "text/latex": [
       "2"
      ],
      "text/markdown": [
       "2"
      ],
      "text/plain": [
       "[1] 2"
      ]
     },
     "metadata": {},
     "output_type": "display_data"
    },
    {
     "name": "stderr",
     "output_type": "stream",
     "text": [
      "No trajectory to plot. Has learn_graph() been called yet?\n"
     ]
    },
    {
     "data": {
      "text/html": [
       "<strong>png:</strong> 2"
      ],
      "text/latex": [
       "\\textbf{png:} 2"
      ],
      "text/markdown": [
       "**png:** 2"
      ],
      "text/plain": [
       "png \n",
       "  2 "
      ]
     },
     "metadata": {},
     "output_type": "display_data"
    },
    {
     "name": "stderr",
     "output_type": "stream",
     "text": [
      "No trajectory to plot. Has learn_graph() been called yet?\n"
     ]
    },
    {
     "data": {
      "text/html": [
       "<strong>png:</strong> 2"
      ],
      "text/latex": [
       "\\textbf{png:} 2"
      ],
      "text/markdown": [
       "**png:** 2"
      ],
      "text/plain": [
       "png \n",
       "  2 "
      ]
     },
     "metadata": {},
     "output_type": "display_data"
    }
   ],
   "source": [
    "scale <- 2\n",
    "cs <- .7 * scale\n",
    "alpha <- .5\n",
    "p <- 2\n",
    "path <- paste(datdir, '/', ps$outdir, celltypes6[p], sep = '')\n",
    "plotfile1 <- paste(path, '/CellPlot.GeneEnrichment.EC.Module1.SpecialGeneSet2.rev2.pdf', sep = '') \n",
    "plotfile2 <- paste(path, '/CellPlot.GeneEnrichment.EC.Module36.SpecialGeneSet2.rev2.pdf', sep = '')\n",
    "length(ec_mod1_genes)\n",
    "length(ec_mod36_genes)\n",
    "\n",
    "pdf(plotfile1, width = 9 * 1.5 * scale, height = 7 * scale)\n",
    "plot_cells(down_stdycds[, colData(down_stdycds)$assigned_cell_type == celltypes6[p]],\n",
    "           genes = ec_mod1_genes, label_cell_groups=FALSE, cell_size = cs, alpha = alpha)\n",
    "dev.off()\n",
    "\n",
    "pdf(plotfile2, width = 7 * 1.5 * scale, height = 7 * scale)\n",
    "plot_cells(down_stdycds[, colData(down_stdycds)$assigned_cell_type == celltypes6[p]],\n",
    "           genes = ec_mod36_genes, label_cell_groups=FALSE, cell_size = cs, alpha = alpha)\n",
    "dev.off()"
   ]
  },
  {
   "cell_type": "markdown",
   "metadata": {},
   "source": [
    "## VSMC Module Special Gene Plots, Modules 13 and 31"
   ]
  },
  {
   "cell_type": "code",
   "execution_count": 95,
   "metadata": {},
   "outputs": [
    {
     "data": {
      "text/html": [
       "3"
      ],
      "text/latex": [
       "3"
      ],
      "text/markdown": [
       "3"
      ],
      "text/plain": [
       "[1] 3"
      ]
     },
     "metadata": {},
     "output_type": "display_data"
    },
    {
     "data": {
      "text/html": [
       "6"
      ],
      "text/latex": [
       "6"
      ],
      "text/markdown": [
       "6"
      ],
      "text/plain": [
       "[1] 6"
      ]
     },
     "metadata": {},
     "output_type": "display_data"
    },
    {
     "name": "stderr",
     "output_type": "stream",
     "text": [
      "No trajectory to plot. Has learn_graph() been called yet?\n"
     ]
    },
    {
     "data": {
      "text/html": [
       "<strong>png:</strong> 2"
      ],
      "text/latex": [
       "\\textbf{png:} 2"
      ],
      "text/markdown": [
       "**png:** 2"
      ],
      "text/plain": [
       "png \n",
       "  2 "
      ]
     },
     "metadata": {},
     "output_type": "display_data"
    },
    {
     "name": "stderr",
     "output_type": "stream",
     "text": [
      "No trajectory to plot. Has learn_graph() been called yet?\n"
     ]
    },
    {
     "data": {
      "text/html": [
       "<strong>png:</strong> 2"
      ],
      "text/latex": [
       "\\textbf{png:} 2"
      ],
      "text/markdown": [
       "**png:** 2"
      ],
      "text/plain": [
       "png \n",
       "  2 "
      ]
     },
     "metadata": {},
     "output_type": "display_data"
    }
   ],
   "source": [
    "scale <- 2\n",
    "cs <- .7 * scale\n",
    "alpha <- .5\n",
    "p <- 3\n",
    "path <- paste(datdir, '/', ps$outdir, celltypes6[p], sep = '')\n",
    "plotfile1 <- paste(path, '/CellPlot.GeneEnrichment.VSMC.Module13.SpecialGeneSet2.rev2.pdf', sep = '') \n",
    "plotfile2 <- paste(path, '/CellPlot.GeneEnrichment.VSMC.Module31.SpecialGeneSet2.rev2.pdf', sep = '')\n",
    "length(vsmc_mod13_genes)\n",
    "length(vsmc_mod31_genes)\n",
    "\n",
    "pdf(plotfile1, width = 9 * 1.5 * scale, height = 7 * scale)\n",
    "    plot_cells(down_stdycds[, colData(down_stdycds)$assigned_cell_type == celltypes6[p]],\n",
    "           genes = vsmc_mod13_genes, label_cell_groups=FALSE, cell_size = cs, alpha = alpha)\n",
    "dev.off()\n",
    "\n",
    "pdf(plotfile2, width = 9 * 1.5 * scale, height = 12 * scale)\n",
    "plot_cells(down_stdycds[, colData(down_stdycds)$assigned_cell_type == celltypes6[p]],\n",
    "           genes = vsmc_mod31_genes, label_cell_groups=FALSE, cell_size = cs, alpha = alpha)\n",
    "dev.off()"
   ]
  },
  {
   "cell_type": "code",
   "execution_count": 16,
   "metadata": {},
   "outputs": [],
   "source": [
    "Macrophages <- c('APOC1', 'FABP5', 'APOE', 'SDS', 'LYVE1', 'SCN9A', 'S100A12', 'P2RY14')\n",
    "T_Cells     <- c('IGKC', 'MGP', 'IGLC2', 'PTGDS', 'FGFBP2', 'KLRF1')\n",
    "B_Cells     <- c('MGP', 'TXNIP', 'HERPUD1', 'ZNF665', 'CRIP1', 'RAB11FIP1')\n",
    "NKT_cells   <- c('IGKC', 'DUSP1', 'ZFP36', 'TSC22D3')\n",
    "\n",
    "# Other VSMC and EC Genes for Enrichment plots\n",
    "\n",
    "VSMC_AC_Cells <- c('SPP1', 'SFRP5', 'IBSP', 'CRTAC1')\n",
    "VSMC_PA_Cells <- c('APOD', 'PLA2G2A', 'C3', 'MFAP5')\n",
    "EC_AC_Cells <- c('ITLN1', 'DKK2', 'F5', 'FN1')\n",
    "EC_PA_Cells <- c('IL6', 'MLPH', 'HLA-DQA1', 'ACKR1')\n",
    "\n",
    "## Declare Tom's best genes for definiting cell types\n",
    "toms_markers7 <- c('AIF1', 'CD14', 'CD68',\n",
    "                   'VWF', 'PECAM1', 'ECSCR',\n",
    "                   'CALD1', 'MYL9', 'TAGLN',\n",
    "                   'NKG7', 'XCL1', 'CTSW',\n",
    "                   'CD2', 'TRAC', 'CD69',\n",
    "                   'CD79A', 'MS4A1', 'IGKC')\n",
    "\n",
    "toms_gene_ids7 <- short2geneid[toms_markers7]"
   ]
  },
  {
   "cell_type": "markdown",
   "metadata": {},
   "source": [
    "## Macrophages Special Gene Plots"
   ]
  },
  {
   "cell_type": "code",
   "execution_count": 117,
   "metadata": {},
   "outputs": [
    {
     "name": "stderr",
     "output_type": "stream",
     "text": [
      "No trajectory to plot. Has learn_graph() been called yet?\n"
     ]
    },
    {
     "data": {
      "text/html": [
       "<strong>png:</strong> 2"
      ],
      "text/latex": [
       "\\textbf{png:} 2"
      ],
      "text/markdown": [
       "**png:** 2"
      ],
      "text/plain": [
       "png \n",
       "  2 "
      ]
     },
     "metadata": {},
     "output_type": "display_data"
    }
   ],
   "source": [
    "scale <- .5\n",
    "cs <- .7 * scale\n",
    "alpha <- .5\n",
    "p <- 1\n",
    "path <- paste(datdir, '/', ps$outdir, celltypes6[p], sep = '')\n",
    "plotfile1 <- paste(path, '/CellPlot.GeneEnrichment.Macrophages.SpecialGeneSet2.rev2.pdf', sep = '') \n",
    "\n",
    "pdf(plotfile1, width = 10 * 1.5 * scale, height = 15 * scale)\n",
    "    plot_cells(down_stdycds[, colData(down_stdycds)$assigned_cell_type == celltypes6[p]],\n",
    "           genes = Macrophages, label_cell_groups=FALSE, cell_size = cs, alpha = alpha)\n",
    "dev.off()"
   ]
  },
  {
   "cell_type": "markdown",
   "metadata": {},
   "source": [
    "## T_Cells Special Gene Plots"
   ]
  },
  {
   "cell_type": "code",
   "execution_count": 115,
   "metadata": {},
   "outputs": [
    {
     "name": "stderr",
     "output_type": "stream",
     "text": [
      "No trajectory to plot. Has learn_graph() been called yet?\n"
     ]
    },
    {
     "data": {
      "text/html": [
       "<strong>png:</strong> 2"
      ],
      "text/latex": [
       "\\textbf{png:} 2"
      ],
      "text/markdown": [
       "**png:** 2"
      ],
      "text/plain": [
       "png \n",
       "  2 "
      ]
     },
     "metadata": {},
     "output_type": "display_data"
    }
   ],
   "source": [
    "scale <- .5\n",
    "cs <- .7 * scale\n",
    "alpha <- .5\n",
    "p <- 5\n",
    "path <- paste(datdir, '/', ps$outdir, celltypes6[p], sep = '')\n",
    "plotfile1 <- paste(path, '/CellPlot.GeneEnrichment.T_Cells.SpecialGeneSet2.rev2.pdf', sep = '') \n",
    "\n",
    "pdf(plotfile1, width = 10 * 1.5 * scale, height = 12 * scale)\n",
    "    plot_cells(down_stdycds[, colData(down_stdycds)$assigned_cell_type == celltypes6[p]],\n",
    "           genes = T_Cells, label_cell_groups=FALSE, cell_size = cs, alpha = alpha)\n",
    "dev.off()"
   ]
  },
  {
   "cell_type": "markdown",
   "metadata": {},
   "source": [
    "## B_Cells Special Gene Plots"
   ]
  },
  {
   "cell_type": "code",
   "execution_count": 120,
   "metadata": {},
   "outputs": [
    {
     "name": "stderr",
     "output_type": "stream",
     "text": [
      "No trajectory to plot. Has learn_graph() been called yet?\n"
     ]
    },
    {
     "data": {
      "text/html": [
       "<strong>png:</strong> 2"
      ],
      "text/latex": [
       "\\textbf{png:} 2"
      ],
      "text/markdown": [
       "**png:** 2"
      ],
      "text/plain": [
       "png \n",
       "  2 "
      ]
     },
     "metadata": {},
     "output_type": "display_data"
    }
   ],
   "source": [
    "scale <- .5\n",
    "cs <- .7 * scale\n",
    "alpha <- .5\n",
    "p <- 6\n",
    "path <- paste(datdir, '/', ps$outdir, celltypes6[p], sep = '')\n",
    "plotfile1 <- paste(path, '/CellPlot.GeneEnrichment.B_Cells.SpecialGeneSet2.rev2.pdf', sep = '') \n",
    "\n",
    "pdf(plotfile1, width = 10 * 1.5 * scale, height = 10 * scale)\n",
    "    plot_cells(down_stdycds[, colData(down_stdycds)$assigned_cell_type == celltypes6[p]],\n",
    "           genes = B_Cells, label_cell_groups=FALSE, cell_size = cs, alpha = alpha)\n",
    "dev.off()"
   ]
  },
  {
   "cell_type": "markdown",
   "metadata": {},
   "source": [
    "## NKT_cells Special Gene Plots"
   ]
  },
  {
   "cell_type": "code",
   "execution_count": 122,
   "metadata": {},
   "outputs": [
    {
     "name": "stderr",
     "output_type": "stream",
     "text": [
      "No trajectory to plot. Has learn_graph() been called yet?\n"
     ]
    },
    {
     "data": {
      "text/html": [
       "<strong>png:</strong> 2"
      ],
      "text/latex": [
       "\\textbf{png:} 2"
      ],
      "text/markdown": [
       "**png:** 2"
      ],
      "text/plain": [
       "png \n",
       "  2 "
      ]
     },
     "metadata": {},
     "output_type": "display_data"
    }
   ],
   "source": [
    "scale <- .5\n",
    "cs <- .7 * scale * 3\n",
    "alpha <- .5\n",
    "p <- 4\n",
    "path <- paste(datdir, '/', ps$outdir, celltypes6[p], sep = '')\n",
    "plotfile1 <- paste(path, '/CellPlot.GeneEnrichment.NKT_cells.SpecialGeneSet2.rev2.pdf', sep = '') \n",
    "\n",
    "pdf(plotfile1, width = 10 * 1.5 * scale, height = 10 * scale)\n",
    "    plot_cells(down_stdycds[, colData(down_stdycds)$assigned_cell_type == celltypes6[p]],\n",
    "           genes = NKT_cells, label_cell_groups=FALSE, cell_size = cs, alpha = alpha)\n",
    "dev.off()"
   ]
  },
  {
   "cell_type": "markdown",
   "metadata": {},
   "source": [
    "## All Partition Marker Special Gene Plots"
   ]
  },
  {
   "cell_type": "code",
   "execution_count": 140,
   "metadata": {},
   "outputs": [
    {
     "name": "stderr",
     "output_type": "stream",
     "text": [
      "No trajectory to plot. Has learn_graph() been called yet?\n"
     ]
    },
    {
     "data": {
      "text/html": [
       "<strong>png:</strong> 2"
      ],
      "text/latex": [
       "\\textbf{png:} 2"
      ],
      "text/markdown": [
       "**png:** 2"
      ],
      "text/plain": [
       "png \n",
       "  2 "
      ]
     },
     "metadata": {},
     "output_type": "display_data"
    }
   ],
   "source": [
    "scale <- 1\n",
    "cs <- .7 * scale * .2\n",
    "alpha <- .5\n",
    "path <- paste(datdir, '/', ps$outdir, sep = '')\n",
    "plotfile1 <- paste(path, '/CellPlot.GeneEnrichment.PartitionMarkers7.SpecialGeneSet2.rev2.pdf', sep = '') \n",
    "\n",
    "pdf(plotfile1, width = 10 * 1.5 * scale, height = 12 * scale)\n",
    "    plot_cells(down_stdycds, genes = toms_markers7, label_cell_groups = FALSE, cell_size = cs, alpha = alpha)\n",
    "dev.off()"
   ]
  },
  {
   "cell_type": "code",
   "execution_count": null,
   "metadata": {},
   "outputs": [],
   "source": []
  },
  {
   "cell_type": "code",
   "execution_count": null,
   "metadata": {},
   "outputs": [],
   "source": []
  },
  {
   "cell_type": "code",
   "execution_count": null,
   "metadata": {},
   "outputs": [],
   "source": []
  },
  {
   "cell_type": "code",
   "execution_count": null,
   "metadata": {},
   "outputs": [],
   "source": []
  },
  {
   "cell_type": "markdown",
   "metadata": {},
   "source": [
    "## VSMC AC Special Genes Plot"
   ]
  },
  {
   "cell_type": "code",
   "execution_count": 26,
   "metadata": {},
   "outputs": [
    {
     "name": "stderr",
     "output_type": "stream",
     "text": [
      "No trajectory to plot. Has learn_graph() been called yet?\n"
     ]
    },
    {
     "data": {
      "text/html": [
       "<strong>png:</strong> 2"
      ],
      "text/latex": [
       "\\textbf{png:} 2"
      ],
      "text/markdown": [
       "**png:** 2"
      ],
      "text/plain": [
       "png \n",
       "  2 "
      ]
     },
     "metadata": {},
     "output_type": "display_data"
    }
   ],
   "source": [
    "scale <- .5\n",
    "cs <- .7 * scale * 1\n",
    "alpha <- .5\n",
    "p <- 3\n",
    "path <- paste(datdir, '/', ps$outdir, celltypes6[p], sep = '')\n",
    "plotfile1 <- paste(path, '/CellPlot.GeneEnrichment.VSMC.AC.SpecialGeneSet3.rev1.pdf', sep = '') \n",
    "\n",
    "pdf(plotfile1, width = 10 * 1.5 * scale, height = 10 * scale)\n",
    "    plot_cells(down_stdycds[, colData(down_stdycds)$assigned_cell_type == celltypes6[p]],\n",
    "           genes = VSMC_AC_Cells, label_cell_groups=FALSE, cell_size = cs, alpha = alpha)\n",
    "dev.off()"
   ]
  },
  {
   "cell_type": "markdown",
   "metadata": {},
   "source": [
    "## VSMC PA Special Genes Plot"
   ]
  },
  {
   "cell_type": "code",
   "execution_count": 27,
   "metadata": {},
   "outputs": [
    {
     "name": "stderr",
     "output_type": "stream",
     "text": [
      "No trajectory to plot. Has learn_graph() been called yet?\n"
     ]
    },
    {
     "data": {
      "text/html": [
       "<strong>png:</strong> 2"
      ],
      "text/latex": [
       "\\textbf{png:} 2"
      ],
      "text/markdown": [
       "**png:** 2"
      ],
      "text/plain": [
       "png \n",
       "  2 "
      ]
     },
     "metadata": {},
     "output_type": "display_data"
    }
   ],
   "source": [
    "scale <- .5\n",
    "cs <- .7 * scale * 1\n",
    "alpha <- .5\n",
    "p <- 3\n",
    "path <- paste(datdir, '/', ps$outdir, celltypes6[p], sep = '')\n",
    "plotfile1 <- paste(path, '/CellPlot.GeneEnrichment.VSMC.PA.SpecialGeneSet3.rev1.pdf', sep = '') \n",
    "\n",
    "pdf(plotfile1, width = 10 * 1.5 * scale, height = 10 * scale)\n",
    "    plot_cells(down_stdycds[, colData(down_stdycds)$assigned_cell_type == celltypes6[p]],\n",
    "           genes = VSMC_PA_Cells, label_cell_groups=FALSE, cell_size = cs, alpha = alpha)\n",
    "dev.off()"
   ]
  },
  {
   "cell_type": "markdown",
   "metadata": {},
   "source": [
    "## EC AC Special Genes Plot"
   ]
  },
  {
   "cell_type": "code",
   "execution_count": 29,
   "metadata": {},
   "outputs": [
    {
     "name": "stderr",
     "output_type": "stream",
     "text": [
      "No trajectory to plot. Has learn_graph() been called yet?\n"
     ]
    },
    {
     "data": {
      "text/html": [
       "<strong>png:</strong> 2"
      ],
      "text/latex": [
       "\\textbf{png:} 2"
      ],
      "text/markdown": [
       "**png:** 2"
      ],
      "text/plain": [
       "png \n",
       "  2 "
      ]
     },
     "metadata": {},
     "output_type": "display_data"
    }
   ],
   "source": [
    "scale <- .5\n",
    "cs <- .7 * scale * 1\n",
    "alpha <- .5\n",
    "p <- 2\n",
    "path <- paste(datdir, '/', ps$outdir, celltypes6[p], sep = '')\n",
    "plotfile1 <- paste(path, '/CellPlot.GeneEnrichment.EC.AC.SpecialGeneSet3.rev1.pdf', sep = '') \n",
    "\n",
    "pdf(plotfile1, width = 10 * 1.5 * scale, height = 10 * scale)\n",
    "    plot_cells(down_stdycds[, colData(down_stdycds)$assigned_cell_type == celltypes6[p]],\n",
    "           genes = EC_AC_Cells, label_cell_groups=FALSE, cell_size = cs, alpha = alpha)\n",
    "dev.off()"
   ]
  },
  {
   "cell_type": "markdown",
   "metadata": {},
   "source": [
    "## EC PA Special Genes Plot"
   ]
  },
  {
   "cell_type": "code",
   "execution_count": 93,
   "metadata": {},
   "outputs": [
    {
     "name": "stderr",
     "output_type": "stream",
     "text": [
      "No trajectory to plot. Has learn_graph() been called yet?\n"
     ]
    },
    {
     "data": {
      "text/html": [
       "<strong>png:</strong> 2"
      ],
      "text/latex": [
       "\\textbf{png:} 2"
      ],
      "text/markdown": [
       "**png:** 2"
      ],
      "text/plain": [
       "png \n",
       "  2 "
      ]
     },
     "metadata": {},
     "output_type": "display_data"
    }
   ],
   "source": [
    "scale <- .5\n",
    "cs <- .7 * scale * 1\n",
    "alpha <- .5\n",
    "p <- 2\n",
    "path <- paste(datdir, '/', ps$outdir, celltypes6[p], sep = '')\n",
    "plotfile1 <- paste(path, '/CellPlot.GeneEnrichment.EC.PA.SpecialGeneSet3.rev1.pdf', sep = '') \n",
    "\n",
    "pdf(plotfile1, width = 10 * 1.5 * scale, height = 10 * scale)\n",
    "    plot_cells(down_stdycds[, colData(down_stdycds)$assigned_cell_type == celltypes6[p]],\n",
    "           genes = EC_PA_Cells, label_cell_groups=FALSE, cell_size = cs, alpha = alpha)\n",
    "dev.off()"
   ]
  },
  {
   "cell_type": "code",
   "execution_count": null,
   "metadata": {},
   "outputs": [],
   "source": []
  },
  {
   "cell_type": "code",
   "execution_count": null,
   "metadata": {},
   "outputs": [],
   "source": []
  },
  {
   "cell_type": "code",
   "execution_count": null,
   "metadata": {},
   "outputs": [],
   "source": []
  },
  {
   "cell_type": "code",
   "execution_count": null,
   "metadata": {},
   "outputs": [],
   "source": []
  },
  {
   "cell_type": "code",
   "execution_count": null,
   "metadata": {},
   "outputs": [],
   "source": []
  },
  {
   "cell_type": "code",
   "execution_count": 129,
   "metadata": {},
   "outputs": [],
   "source": []
  },
  {
   "cell_type": "code",
   "execution_count": null,
   "metadata": {},
   "outputs": [],
   "source": []
  },
  {
   "cell_type": "code",
   "execution_count": null,
   "metadata": {},
   "outputs": [],
   "source": []
  },
  {
   "cell_type": "code",
   "execution_count": 50,
   "metadata": {},
   "outputs": [],
   "source": []
  },
  {
   "cell_type": "code",
   "execution_count": null,
   "metadata": {},
   "outputs": [],
   "source": []
  },
  {
   "cell_type": "code",
   "execution_count": null,
   "metadata": {},
   "outputs": [],
   "source": []
  }
 ],
 "metadata": {
  "kernelspec": {
   "display_name": "R",
   "language": "R",
   "name": "ir"
  },
  "language_info": {
   "codemirror_mode": "r",
   "file_extension": ".r",
   "mimetype": "text/x-r-source",
   "name": "R",
   "pygments_lexer": "r",
   "version": "3.5.1"
  }
 },
 "nbformat": 4,
 "nbformat_minor": 2
}
