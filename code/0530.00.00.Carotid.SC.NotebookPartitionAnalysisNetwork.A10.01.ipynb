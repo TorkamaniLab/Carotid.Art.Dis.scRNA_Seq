{
 "cells": [
  {
   "cell_type": "code",
   "execution_count": 1,
   "metadata": {},
   "outputs": [],
   "source": [
    "## ---- Partition Cell Set Analysis - Extended Analysis ---- 0530.00.00\n",
    "## Load Analysis Parameters (Parm1)\n",
    "## Loop Through Each Partition and Perform Analysis as Follows:\n",
    "## Load Partition Cell Set\n",
    "## Load Partition Differential Expresssion Gene Set Model\n",
    "## Create Violin Plots Based On p-value Rank Instead of q-value\n",
    "## Perform Top Genes Analysis Per Cluster and Save\n",
    "## Compute Cluster Stats and Save\n",
    "## Perform Other Plots as Needed"
   ]
  },
  {
   "cell_type": "code",
   "execution_count": 2,
   "metadata": {},
   "outputs": [],
   "source": [
    "## Create a Working Input and Output Data Directory, If Id Does Not Exist\n",
    "parentdir <- '/gpfs/group/torkamani/devans/'\n",
    "datdir <- paste(parentdir, 'CDC2', sep = '')\n",
    "if (!file.exists(datdir)) {\n",
    "    dir.create(datdir)\n",
    "}\n",
    "setwd(datdir)"
   ]
  },
  {
   "cell_type": "code",
   "execution_count": 3,
   "metadata": {},
   "outputs": [],
   "source": [
    "## Read the parameters file\n",
    "ps <- read.table(file = 'parms.txt', stringsAsFactors = FALSE, header = TRUE)"
   ]
  },
  {
   "cell_type": "code",
   "execution_count": 11,
   "metadata": {},
   "outputs": [],
   "source": [
    "## Load Monocle3 and Seurat Libraries\n",
    "library(monocle3)\n",
    "library(Seurat)\n",
    "library(dplyr)\n",
    "library(magrittr)\n",
    "library(ggplot2)\n",
    "library(gridExtra)\n",
    "library(Matrix)\n",
    "library(rhdf5)\n",
    "library(grid)"
   ]
  },
  {
   "cell_type": "code",
   "execution_count": 5,
   "metadata": {},
   "outputs": [],
   "source": [
    "## Read the previously preprocessed downsampled cell set data object\n",
    "down_stdycds <- readRDS(file = paste(ps$outdir,\n",
    "                    'Aggregated.downsampled.QC.NoDoublets.Repartitioned.rds', sep = ''))"
   ]
  },
  {
   "cell_type": "code",
   "execution_count": 6,
   "metadata": {},
   "outputs": [],
   "source": [
    "## Build a gene short name to gene id (Ensembl) lookup\n",
    "short2geneid <- fData(down_stdycds)@rownames\n",
    "names(short2geneid) <- fData(down_stdycds)@listData$gene_short_name"
   ]
  },
  {
   "cell_type": "code",
   "execution_count": 7,
   "metadata": {},
   "outputs": [],
   "source": [
    "## Build a gene id (Ensembl) to gene short name lookup\n",
    "geneid2short <- fData(down_stdycds)@listData$gene_short_name\n",
    "names(geneid2short) <- fData(down_stdycds)@rownames"
   ]
  },
  {
   "cell_type": "code",
   "execution_count": 8,
   "metadata": {},
   "outputs": [],
   "source": [
    "## Create variables for how cells sets are organized\n",
    "cellgrps <- c('healthy', 'diseased', 'healthy', 'diseased', 'healthy', 'diseased')\n",
    "cellpats <- c('ID Number 1', 'ID Number 1', 'ID Number 2', 'ID Number 2', 'ID Number 3', 'ID Number 3')"
   ]
  },
  {
   "cell_type": "code",
   "execution_count": 9,
   "metadata": {},
   "outputs": [],
   "source": [
    "## Define and Assign Cell Types\n",
    "celltypes6 <- c('1-Macrophages',\n",
    "                '2-Endothelial Cells',\n",
    "                '3-VSMCs',\n",
    "                '4-Natural Killer Cells',\n",
    "                '5-Cytotoxic T Lymphocytes',\n",
    "                '6-B Lymphocytes')"
   ]
  },
  {
   "cell_type": "code",
   "execution_count": 10,
   "metadata": {},
   "outputs": [],
   "source": [
    "## Declare Tom's best genes for definiting cell types\n",
    "toms_markers5 <- c('NRXN1', 'CLU', 'ICAM2',\n",
    "                 'CD14', 'CD68', 'AIF1',\n",
    "                 'VWF', 'EDN1', 'ECSCR',\n",
    "                 'MKI67', 'UBE2C', 'TOP2A',\n",
    "                 'ACTA2', 'TAGLN', 'MYL9',\n",
    "                 'ACKR1', 'SPARCL1', 'PECAM1',\n",
    "                 'CALD1', 'MGP', 'DCN',\n",
    "                 'NKG7', 'XCL1', 'CTSW',\n",
    "                 'CD8A', 'TRAC', 'CD2',\n",
    "                 'MS4A1', 'CD79A', 'BANK1',\n",
    "                 'CD69', 'CXCR4', 'IL7R',\n",
    "                 'LILRA4', 'IRF7', 'CLEC4C',\n",
    "                 'MZB1', 'JCHAIN', 'TNFRSF17',\n",
    "                 'LST1', 'FCGR3B', 'S100A8',\n",
    "                 'TPSAB1', 'CPA3', 'MS4A2')\n",
    "toms_gene_ids5 <- short2geneid[toms_markers5]\n",
    "\n",
    "\n",
    "doug_markers1 <- c('AIF1', 'LYZ', 'FCER1G',  'CD68',\n",
    "                'RNASE1', 'PECAM1', 'IGFBP4', 'ADIRF', \n",
    "                'SOD3', 'MYL9', 'CALD1', 'GSN',\n",
    "                'TYROBP', 'NKG7', 'CTSW', 'CD69',\n",
    "                'CD3D', 'CD2', 'TRBC2', 'TRAC',\n",
    "                'MS4A1', 'CD79A', 'HLA-DQA1', 'CD37')\n",
    "dougs_gene_ids1 <- short2geneid[doug_markers1]"
   ]
  },
  {
   "cell_type": "code",
   "execution_count": 14,
   "metadata": {},
   "outputs": [
    {
     "name": "stderr",
     "output_type": "stream",
     "text": [
      "Warning message in `[<-.factor`(`*tmp*`, is.na(cds_exprs$feature_label), value = structure(c(8L, :\n",
      "“invalid factor level, NA generated”Warning message:\n",
      "“Transformation introduced infinite values in continuous y-axis”Warning message:\n",
      "“Transformation introduced infinite values in continuous y-axis”Warning message:\n",
      "“Transformation introduced infinite values in continuous y-axis”Warning message:\n",
      "“Removed 1634 rows containing non-finite values (stat_ydensity).”Warning message:\n",
      "“Removed 1634 rows containing non-finite values (stat_summary).”Warning message in `[<-.factor`(`*tmp*`, is.na(cds_exprs$feature_label), value = structure(c(10L, :\n",
      "“invalid factor level, NA generated”Warning message:\n",
      "“Transformation introduced infinite values in continuous y-axis”Warning message:\n",
      "“Transformation introduced infinite values in continuous y-axis”Warning message:\n",
      "“Transformation introduced infinite values in continuous y-axis”Warning message:\n",
      "“Removed 659 rows containing non-finite values (stat_ydensity).”Warning message:\n",
      "“Removed 659 rows containing non-finite values (stat_summary).”"
     ]
    },
    {
     "name": "stdout",
     "output_type": "stream",
     "text": [
      "  |=======================================================| 100%, Elapsed 00:05\n",
      "  |=======================================================| 100%, Elapsed 30:42\n"
     ]
    }
   ],
   "source": [
    "## Loop through the partitions and perform extended analysis\n",
    "np <- length(celltypes6)\n",
    "gout <- FALSE\n",
    "de <- TRUE\n",
    "ngenes <- 10\n",
    "for (p in 6:6) {\n",
    "    setwd(paste(datdir, '/', ps$outdir, celltypes6[p], sep = ''))\n",
    "    ## Extract partition subset for par\n",
    "    partn_cds <- readRDS('Partition.Cell.Set.rds')\n",
    "    if (de) gene_all_fits_pat_cond_unadj <- readRDS('Gene.Model.Fits.rds')\n",
    "    if (file.exists('Diff.AllHealthCoeff.RemoveFail.NoModels.txt'))  {   \n",
    "        de_tab <- read.table('Diff.AllHealthCoeff.RemoveFail.NoModels.txt', header = TRUE,\n",
    "                             stringsAsFactors = FALSE)\n",
    "    }\n",
    "    if (dim(de_tab)[1] > 100) {\n",
    "        de_tab_plus <- de_tab[(de_tab$estimate > 0),]\n",
    "        de_tab_plus <- de_tab_plus[order(de_tab_plus$p_value, decreasing = FALSE),][1:ngenes,]$gene_short_name\n",
    "        de_tab_minus <- de_tab[(de_tab$estimate < 0),]\n",
    "        de_tab_minus <- de_tab_minus[order(de_tab_minus$p_value, decreasing = FALSE),][1:ngenes,]$gene_short_name\n",
    "    \n",
    "\n",
    "        partn_cds_plus <- partn_cds[rowData(partn_cds)$gene_short_name %in% de_tab_plus]\n",
    "        partn_cds_minus <- partn_cds[rowData(partn_cds)$gene_short_name %in% de_tab_minus]\n",
    "\n",
    "        plotfp <- 'Violin.Plot.Top10.Healthy.DiffExp.p-value.pdf'     \n",
    "        pdf(plotfp, width = 10, height = 4)\n",
    "        g1 <- plot_genes_violin(partn_cds_plus, group_cells_by = \"condition\", ncol = ngenes) +\n",
    "           theme(axis.text.x=element_text(angle=45, hjust=1))\n",
    "        print(g1)\n",
    "        dev.off()\n",
    "    \n",
    "        plotfp <- 'Violin.Plot.Top10.Diseased.p-value.DiffExp.pdf'     \n",
    "        pdf(plotfp, width = 10, height = 4)\n",
    "        g1 <- plot_genes_violin(partn_cds_minus, group_cells_by = \"condition\", ncol = ngenes) +\n",
    "           theme(axis.text.x=element_text(angle=45, hjust=1))\n",
    "        print(g1)\n",
    "        dev.off()\n",
    "        \n",
    "        ##################################################################\n",
    "        ## Get cluster breakdown (cell counts by cluster across patients, disease and healthy)\n",
    "        colData(partn_cds)$clust <- clusters(partn_cds)\n",
    "        nclust <- length(unique(colData(partn_cds)$clust))\n",
    "        clusttypes <- paste('cluster-', 1:nclust, sep = '') \n",
    "        clust_stats <- as.data.frame(matrix('', nrow = length(unique(colData(partn_cds)$clust)),\n",
    "                                   ncol = 2 + length(cellgrps)), stringsAsFactors = FALSE)\n",
    "\n",
    "        ## Add the cell groups and patient IDs to the first two rows\n",
    "        clust_stats <- rbind(cellpats, cellgrps, clust_stats)\n",
    "        ## Add the cluster names (cell types), and first two column row names as well\n",
    "        row.names(clust_stats) <- c('Patient ID', 'Condition', clusttypes)\n",
    "        clust_stats[1, c(7,8)] <- c('Total', 'Mean')\n",
    "        clust_stats[2, c(7,8)] <- c('Cells', 'UMI')\n",
    "\n",
    "        clusts <- colData(partn_cds)$clust\n",
    "        for (c in 1:(dim(clust_stats)[2] - 2)) {\n",
    "            for (r in 3:dim(clust_stats)[1]) {\n",
    "                cells <- sum((clusts == (r - 2)) &\n",
    "                             (colData(partn_cds)$patient ==  cellpats[c])  &\n",
    "                             (colData(partn_cds)$condition ==  cellgrps[c]))\n",
    "                clust_stats[r, c] <- cells\n",
    "            }\n",
    "        }\n",
    "        for (r in 3:dim(clust_stats)[1]) {\n",
    "            clust_stats[r,7] <- sum(as.numeric(clust_stats[r, 1:6]))\n",
    "            clust_stats[r,8] <- round(mean(colSums(exprs(partn_cds[,\n",
    "                                colData(partn_cds)$clust == (r-2)]))), 0)\n",
    "        }\n",
    "        ## Save the cluster statistics\n",
    "        write.table(clust_stats,\n",
    "                    file = 'Aggregated.downsampled.QC.Cluster.CellCount.Stats.txt',\n",
    "                    col.names = FALSE)\n",
    "        \n",
    "        #####################################################################\n",
    "        ## Compute all top marker files\n",
    "        marker_test_res_topall <- top_markers(partn_cds, group_cells_by = \"clust\",\n",
    "                                               genes_to_test_per_group = dim(partn_cds)[1], \n",
    "                                               reference_cells = dim(partn_cds)[2], cores = 4)\n",
    "\n",
    "        ## Save all top markers to a file\n",
    "        marker_test_res_topall_with_GC <- marker_test_res_topall[,c(1,2,2,3:10)]\n",
    "        colnames(marker_test_res_topall_with_GC)[2] <- 'gene_cards'\n",
    "        nmarkers1 <- dim(marker_test_res_topall_with_GC)[1]\n",
    "        gc_hyper1 <- '=HYPERLINK(CONCAT(\"https://www.genecards.org/Search/Keyword?queryString=\", '\n",
    "        gc_hyper1 <- paste(gc_hyper1, 'A', 2:(nmarkers1 + 1), '), C', 2:(nmarkers1 + 1), ')', sep ='')\n",
    "        marker_test_res_topall_with_GC$gene_cards <- gc_hyper1\n",
    "\n",
    "        ## Actually write the file\n",
    "        topmarkerfile <- 'Aggregated.downsampled.QC.Cluster.TopAllMarkers.Rev1.tsv'\n",
    "        write.table(marker_test_res_topall_with_GC, file = topmarkerfile,\n",
    "                    row.names = FALSE, col.names = TRUE,\n",
    "                    sep = '\\t', quote = FALSE) \n",
    "        \n",
    "        \n",
    "        \n",
    "    }\n",
    "}"
   ]
  },
  {
   "cell_type": "code",
   "execution_count": null,
   "metadata": {},
   "outputs": [],
   "source": [
    "## Cells below this point are redundant and can be deleted if needed"
   ]
  },
  {
   "cell_type": "code",
   "execution_count": 57,
   "metadata": {},
   "outputs": [],
   "source": [
    "## Get cluster breakdown (cell counts by cluster across patients, disease and healthy)\n",
    "colData(partn_cds)$clust <- clusters(partn_cds)\n",
    "nclust <- length(unique(colData(partn_cds)$clust))\n",
    "clusttypes <- paste('cluster-', 1:nclust, sep = '') \n",
    "clust_stats <- as.data.frame(matrix('', nrow = length(unique(colData(partn_cds)$clust)),\n",
    "                                   ncol = 2 + length(cellgrps)), stringsAsFactors = FALSE)\n",
    "\n",
    "## Add the cell groups and patient IDs to the first two rows\n",
    "clust_stats <- rbind(cellpats, cellgrps, clust_stats)\n",
    "## Add the cluster names (cell types), and first two column row names as well\n",
    "row.names(clust_stats) <- c('Patient ID', 'Condition', clusttypes)\n",
    "clust_stats[1, c(7,8)] <- c('Total', 'Mean')\n",
    "clust_stats[2, c(7,8)] <- c('Cells', 'UMI')\n",
    "\n",
    "clusts <- colData(partn_cds)$clust\n",
    "for (c in 1:(dim(clust_stats)[2] - 2)) {\n",
    "    for (r in 3:dim(clust_stats)[1]) {\n",
    "        cells <- sum((clusts == (r - 2)) &\n",
    "                     (colData(partn_cds)$patient ==  cellpats[c])  &\n",
    "                     (colData(partn_cds)$condition ==  cellgrps[c]))\n",
    "        clust_stats[r, c] <- cells\n",
    "    }\n",
    "}\n",
    "for (r in 3:dim(clust_stats)[1]) {\n",
    "    clust_stats[r,7] <- sum(as.numeric(clust_stats[r, 1:6]))\n",
    "    clust_stats[r,8] <- round(mean(colSums(exprs(partn_cds[,\n",
    "                        colData(partn_cds)$clust == (r-2)]))), 0)\n",
    "}\n",
    "## Save the cluster statistics\n",
    "write.table(clust_stats,\n",
    "            file = 'Aggregated.downsampled.QC.Cluster.CellCount.Stats.txt',\n",
    "            col.names = FALSE)"
   ]
  },
  {
   "cell_type": "code",
   "execution_count": 106,
   "metadata": {},
   "outputs": [
    {
     "name": "stdout",
     "output_type": "stream",
     "text": [
      "  |=======================================================| 100%, Elapsed 00:42\n",
      "  |=======================================================| 100%, Elapsed 26:31\n"
     ]
    }
   ],
   "source": [
    "## Compute all top marker files\n",
    "marker_test_res_topall <- top_markers(partn_cds, group_cells_by = \"clust\",\n",
    "                                       genes_to_test_per_group = dim(partn_cds)[1], \n",
    "                                       reference_cells = dim(partn_cds)[2], cores = 4)\n",
    "\n",
    "## Save all top markers to a file\n",
    "    marker_test_res_topall_with_GC <- marker_test_res_topall[,c(1,2,2,3:10)]\n",
    "    colnames(marker_test_res_topall_with_GC)[2] <- 'gene_cards'\n",
    "    nmarkers1 <- dim(marker_test_res_topall_with_GC)[1]\n",
    "    gc_hyper1 <- '=HYPERLINK(CONCAT(\"https://www.genecards.org/Search/Keyword?queryString=\", '\n",
    "    gc_hyper1 <- paste(gc_hyper1, 'A', 2:(nmarkers1 + 1), '), C', 2:(nmarkers1 + 1), ')', sep ='')\n",
    "    marker_test_res_topall_with_GC$gene_cards <- gc_hyper1\n",
    "\n",
    "## Actually write the file\n",
    "topmarkerfile <- 'Aggregated.downsampled.QC.Cluster.TopAllMarkers.Rev1.tsv'\n",
    "write.table(marker_test_res_topall_with_GC, file = topmarkerfile,\n",
    "            row.names = FALSE, col.names = TRUE,\n",
    "            sep = '\\t', quote = FALSE) \n"
   ]
  },
  {
   "cell_type": "code",
   "execution_count": null,
   "metadata": {},
   "outputs": [],
   "source": [
    "        ## Compute all top marker files\n",
    "        marker_test_res_topall <- top_markers(partn_cds, group_cells_by = \"clust\",\n",
    "                                               genes_to_test_per_group = dim(partn_cds)[1], \n",
    "                                               reference_cells = dim(partn_cds)[2], cores = 4)\n",
    "\n",
    "        ## Save all top markers to a file\n",
    "        marker_test_res_topall_with_GC <- marker_test_res_topall[,c(1,2,2,3:10)]\n",
    "        colnames(marker_test_res_topall_with_GC)[2] <- 'gene_cards'\n",
    "        nmarkers1 <- dim(marker_test_res_topall_with_GC)[1]\n",
    "        gc_hyper1 <- '=HYPERLINK(CONCAT(\"https://www.genecards.org/Search/Keyword?queryString=\", '\n",
    "        gc_hyper1 <- paste(gc_hyper1, 'A', 2:(nmarkers1 + 1), '), C', 2:(nmarkers1 + 1), ')', sep ='')\n",
    "        marker_test_res_topall_with_GC$gene_cards <- gc_hyper1\n",
    "\n",
    "        ## Actually write the file\n",
    "        topmarkerfile <- 'Aggregated.downsampled.QC.Cluster.TopAllMarkers.Rev1.tsv'\n",
    "        write.table(marker_test_res_topall_with_GC, file = topmarkerfile,\n",
    "                    row.names = FALSE, col.names = TRUE,\n",
    "                    sep = '\\t', quote = FALSE) "
   ]
  },
  {
   "cell_type": "code",
   "execution_count": 15,
   "metadata": {},
   "outputs": [
    {
     "data": {
      "text/html": [
       "6"
      ],
      "text/latex": [
       "6"
      ],
      "text/markdown": [
       "6"
      ],
      "text/plain": [
       "[1] 6"
      ]
     },
     "metadata": {},
     "output_type": "display_data"
    }
   ],
   "source": [
    "p"
   ]
  },
  {
   "cell_type": "code",
   "execution_count": null,
   "metadata": {},
   "outputs": [],
   "source": []
  }
 ],
 "metadata": {
  "kernelspec": {
   "display_name": "R",
   "language": "R",
   "name": "ir"
  },
  "language_info": {
   "codemirror_mode": "r",
   "file_extension": ".r",
   "mimetype": "text/x-r-source",
   "name": "R",
   "pygments_lexer": "r",
   "version": "3.5.1"
  }
 },
 "nbformat": 4,
 "nbformat_minor": 2
}
