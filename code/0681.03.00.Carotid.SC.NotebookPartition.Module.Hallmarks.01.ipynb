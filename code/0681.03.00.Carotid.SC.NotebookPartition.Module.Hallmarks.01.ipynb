{
 "cells": [
  {
   "cell_type": "code",
   "execution_count": 1,
   "metadata": {},
   "outputs": [],
   "source": [
    "## ---- Partition Cell Set Network Heatmap Module Analysis ---- 0681.03.00\n",
    "## Load Analysis Parameters (Parm1)\n",
    "## Load Network Utilities\n",
    "## Loop Through Each Partition and Perform Analysis as Follows:\n",
    "## Load Partition Cell Set\n",
    "## Plot Module Gene Heatmaps\n",
    "## Expermiments in Heat Map Differential Expression Analysis, Using\n",
    "## Monocle, GLM, DESeq2, and speedglm"
   ]
  },
  {
   "cell_type": "code",
   "execution_count": 3,
   "metadata": {},
   "outputs": [],
   "source": [
    "## Create a Working Input and Output Data Directory, If Id Does Not Exist\n",
    "parentdir <- '/gpfs/group/torkamani/devans/'\n",
    "datdir <- paste(parentdir, 'CDC2', sep = '')\n",
    "if (!file.exists(datdir)) {\n",
    "    dir.create(datdir)\n",
    "}\n",
    "setwd(datdir)"
   ]
  },
  {
   "cell_type": "code",
   "execution_count": 4,
   "metadata": {},
   "outputs": [],
   "source": [
    "## Read the parameters file\n",
    "ps <- read.table(file = 'parms.txt', stringsAsFactors = FALSE, header = TRUE)"
   ]
  },
  {
   "cell_type": "code",
   "execution_count": 2,
   "metadata": {},
   "outputs": [],
   "source": [
    "## Load Monocle3 and Seurat Libraries\n",
    "# library(rlang)\n",
    "library(monocle3)\n",
    "library(Seurat)\n",
    "library(dplyr)\n",
    "library(magrittr)\n",
    "library(ggplot2)\n",
    "library(gridExtra)\n",
    "library(Matrix)\n",
    "library(rhdf5)\n",
    "library(grid)\n",
    "library(igraph)\n",
    "library(corpcor)\n",
    "library(fdrtool)\n",
    "library(readxl)\n",
    "library(mixOmics)\n",
    "# library(DESeq2)"
   ]
  },
  {
   "cell_type": "code",
   "execution_count": 5,
   "metadata": {},
   "outputs": [],
   "source": [
    "## Load modified version of Monocle 3 dot plot (adds as.ordered type)\n",
    "source('~/code/CSC.Run2/0700.00.00.Carotid.SC.Utilities.01.r')"
   ]
  },
  {
   "cell_type": "code",
   "execution_count": 6,
   "metadata": {},
   "outputs": [],
   "source": [
    "## Read the previously preprocessed downsampled cell set data object\n",
    "down_stdycds <- readRDS(file = paste(ps$outdir,\n",
    "            'Aggregated.downsampled.QC.NoDoublets.Repartitioned.rds', sep = ''))"
   ]
  },
  {
   "cell_type": "code",
   "execution_count": 7,
   "metadata": {},
   "outputs": [],
   "source": [
    "## Build a gene short name to gene id (Ensembl) lookup\n",
    "short2geneid <- fData(down_stdycds)@rownames\n",
    "names(short2geneid) <- fData(down_stdycds)@listData$gene_short_name"
   ]
  },
  {
   "cell_type": "code",
   "execution_count": 8,
   "metadata": {},
   "outputs": [],
   "source": [
    "## Build a gene id (Ensembl) to gene short name lookup\n",
    "geneid2short <- fData(down_stdycds)@listData$gene_short_name\n",
    "names(geneid2short) <- fData(down_stdycds)@rownames"
   ]
  },
  {
   "cell_type": "code",
   "execution_count": 9,
   "metadata": {},
   "outputs": [],
   "source": [
    "## Create variables for how cells sets are organized\n",
    "cellgrps <- c('healthy', 'diseased', 'healthy', 'diseased', 'healthy', 'diseased')\n",
    "cellpats <- c('ID Number 1', 'ID Number 1', 'ID Number 2', 'ID Number 2', 'ID Number 3', 'ID Number 3')"
   ]
  },
  {
   "cell_type": "code",
   "execution_count": 10,
   "metadata": {},
   "outputs": [],
   "source": [
    "## Define and Assign Cell Types\n",
    "celltypes6 <- c('1-Macrophages',\n",
    "                '2-Endothelial Cells',\n",
    "                '3-VSMCs',\n",
    "                '4-Natural Killer Cells',\n",
    "                '5-Cytotoxic T Lymphocytes',\n",
    "                '6-B Lymphocytes')"
   ]
  },
  {
   "cell_type": "code",
   "execution_count": 11,
   "metadata": {},
   "outputs": [],
   "source": [
    "## Get the pairs of module genes from EC (1 and 36) and VSCM (13 and 31) networks\n",
    "## Set the q-value Cutoff\n",
    "diff_exp_qval_cut <- 0.05\n",
    "## EC Genes First\n",
    "ec_netmod_file <- paste(datdir, '/', ps$outdir, celltypes6[2],\n",
    "                          '/Dense.20k.Network.Module.Genes.Rev1.txt', sep = '')\n",
    "ec_netmod <- read.table(ec_netmod_file, header = TRUE, sep = '\\t',\n",
    "                          stringsAsFactors = FALSE, quote = '')[, c(1, 3:9)]\n",
    "ec_modgenes1 <- ec_netmod %>% filter(de_qval < diff_exp_qval_cut) %>% \n",
    "                              filter(module_id == 1) %>% \n",
    "                              dplyr::select(gene_short_name, de_norm_eff, de_qval)\n",
    "ec_modgenes2 <- ec_netmod %>% filter(de_qval < diff_exp_qval_cut) %>% \n",
    "                              filter(module_id == 2) %>% \n",
    "                              dplyr::select(gene_short_name, de_norm_eff, de_qval)\n",
    "ec_modgenes6 <- ec_netmod %>% filter(de_qval < diff_exp_qval_cut) %>% \n",
    "                              filter(module_id == 6) %>% \n",
    "                              dplyr::select(gene_short_name, de_norm_eff, de_qval)\n",
    "ec_modgenes35 <- ec_netmod %>% filter(de_qval < diff_exp_qval_cut) %>% \n",
    "                              filter(module_id == 35) %>% \n",
    "                              dplyr::select(gene_short_name, de_norm_eff, de_qval)\n",
    "ec_modgenes36 <- ec_netmod %>% filter(de_qval < diff_exp_qval_cut) %>% \n",
    "                              filter(module_id == 36) %>% \n",
    "                              dplyr::select(gene_short_name, de_norm_eff, de_qval)\n",
    "\n",
    "ec_modgenes1_ids <- short2geneid[ec_modgenes1$gene_short_name]\n",
    "ec_modgenes36_ids <- short2geneid[ec_modgenes36$gene_short_name]\n",
    "\n",
    "ec_modgenes_1_36 <- c(ec_modgenes1$gene_short_name,\n",
    "                      ec_modgenes36$gene_short_name)\n",
    "ec_modgenes_1_36_ids <- short2geneid[ec_modgenes_1_36]\n",
    "\n",
    "ec_modgenes_1_35_36 <- c(ec_modgenes1$gene_short_name,\n",
    "                         ec_modgenes35$gene_short_name,\n",
    "                         ec_modgenes36$gene_short_name)\n",
    "\n",
    "ec_modgenes_1_2_6_35_36 <- c(ec_modgenes1$gene_short_name,\n",
    "                         ec_modgenes2$gene_short_name, \n",
    "                         ec_modgenes6$gene_short_name, \n",
    "                         ec_modgenes35$gene_short_name,\n",
    "                         ec_modgenes36$gene_short_name)\n",
    "\n",
    "ec_modgenes_1_35_36_ids <-  short2geneid[ec_modgenes_1_35_36]\n",
    "ec_modgenes_1_2_6_35_36_ids <-  short2geneid[ec_modgenes_1_2_6_35_36]\n",
    "\n",
    "\n",
    "## VSMC Genes Seconds\n",
    "vsmc_netmod_file <- paste(datdir, '/', ps$outdir, celltypes6[3],\n",
    "                          '/Dense.20k.Network.Module.Genes.Rev1.txt', sep = '')\n",
    "vsmc_netmod <- read.table(vsmc_netmod_file, header = TRUE, sep = '\\t',\n",
    "                          stringsAsFactors = FALSE, quote = '')[, c(1, 3:9)]\n",
    "vsmc_modgenes9 <- vsmc_netmod %>% filter(de_qval < diff_exp_qval_cut) %>% \n",
    "                              filter(module_id == 9) %>% \n",
    "                              dplyr::select(gene_short_name, de_norm_eff, de_qval)\n",
    "vsmc_modgenes11 <- vsmc_netmod %>% filter(de_qval < diff_exp_qval_cut) %>% \n",
    "                              filter(module_id == 11) %>% \n",
    "                              dplyr::select(gene_short_name, de_norm_eff, de_qval)\n",
    "vsmc_modgenes13 <- vsmc_netmod %>% filter(de_qval < diff_exp_qval_cut) %>% \n",
    "                              filter(module_id == 13) %>% \n",
    "                              dplyr::select(gene_short_name, de_norm_eff, de_qval)\n",
    "vsmc_modgenes24 <- vsmc_netmod %>% filter(de_qval < diff_exp_qval_cut) %>% \n",
    "                              filter(module_id == 24) %>% \n",
    "                              dplyr::select(gene_short_name, de_norm_eff, de_qval)\n",
    "vsmc_modgenes28 <- vsmc_netmod %>% filter(de_qval < diff_exp_qval_cut) %>% \n",
    "                              filter(module_id == 28) %>% \n",
    "                              dplyr::select(gene_short_name, de_norm_eff, de_qval)\n",
    "vsmc_modgenes30 <- vsmc_netmod %>% filter(de_qval < diff_exp_qval_cut) %>% \n",
    "                              filter(module_id == 30) %>% \n",
    "                              dplyr::select(gene_short_name, de_norm_eff, de_qval)\n",
    "vsmc_modgenes31 <- vsmc_netmod %>% filter(de_qval < diff_exp_qval_cut) %>% \n",
    "                              filter(module_id == 31) %>% \n",
    "                              dplyr::select(gene_short_name, de_norm_eff, de_qval)\n",
    "vsmc_modgenes_13_31 <- c(vsmc_modgenes13$gene_short_name, vsmc_modgenes31$gene_short_name)\n",
    "vsmc_modgenes13_ids <- short2geneid[vsmc_modgenes13$gene_short_name]\n",
    "vsmc_modgenes31_ids <- short2geneid[vsmc_modgenes31$gene_short_name]\n",
    "vsmc_modgenes_13_31_ids <- short2geneid[vsmc_modgenes_13_31]\n",
    "vsmc_modgenes_11_30 <- c(vsmc_modgenes11$gene_short_name,\n",
    "                         vsmc_modgenes30$gene_short_name)\n",
    "vsmc_modgenes_11_35_ids <- short2geneid[vsmc_modgenes_11_30]\n",
    "\n",
    "vsmc_modgenes_11_13_30_31 <- c(vsmc_modgenes11$gene_short_name,\n",
    "                              vsmc_modgenes13$gene_short_name,\n",
    "                              vsmc_modgenes30$gene_short_name,\n",
    "                              vsmc_modgenes31$gene_short_name)\n",
    "\n",
    "vsmc_modgenes_9_11_13_30_31 <- c(vsmc_modgenes9$gene_short_name,\n",
    "                              vsmc_modgenes11$gene_short_name,\n",
    "                              vsmc_modgenes13$gene_short_name,\n",
    "                              vsmc_modgenes30$gene_short_name,\n",
    "                              vsmc_modgenes31$gene_short_name)\n",
    "\n",
    "vsmc_modgenes_9_11_13_24_28_30_31 <- c(vsmc_modgenes9$gene_short_name,\n",
    "                              vsmc_modgenes11$gene_short_name,\n",
    "                              vsmc_modgenes13$gene_short_name,\n",
    "                              vsmc_modgenes24$gene_short_name,\n",
    "                              vsmc_modgenes28$gene_short_name,\n",
    "                              vsmc_modgenes30$gene_short_name,\n",
    "                              vsmc_modgenes31$gene_short_name)\n",
    "\n",
    "vsmc_modgenes_9_11_13_24_28_30_31_plus2 <- c(vsmc_modgenes_9_11_13_24_28_30_31, 'CCL4', 'IGKC')\n",
    "\n",
    "\n",
    "vsmc_modgenes_11_13_30_31_ids <- short2geneid[vsmc_modgenes_11_13_30_31]\n",
    "vsmc_modgenes_9_11_13_30_31_ids <- short2geneid[vsmc_modgenes_9_11_13_30_31] \n",
    "vsmc_modgenes_9_11_13_24_28_30_31_ids <- short2geneid[vsmc_modgenes_9_11_13_24_28_30_31] \n",
    "vsmc_modgenes_9_11_13_24_28_30_31_plus2_ids <- short2geneid[vsmc_modgenes_9_11_13_24_28_30_31_plus2] \n",
    "\n",
    "## These variables are the same as above\n",
    "vsmc_modgenes_11_30a <- c('TMSB4X', 'FXYD5', 'MYH10', 'RAMP1', 'ANXA2',\n",
    "                  'TSC22D3', 'F2R', 'SFRP4', 'ECM1', 'ABHD14A',\n",
    "                  'JDP2', 'DDIT4', 'VAT1', 'ABLIM1', 'S100A10',\n",
    "                  'ZNF385D', 'FRZB', 'MAP1B', 'ZNF385B', 'GAP43',\n",
    "                  'PDE5A', 'PRSS35', 'CCDC68', 'SH3BGRL3', 'UXT',\n",
    "                  'CDKN2C', 'LMO7', 'ENPP2', 'NDNF', 'MCUB', 'HTR2B',\n",
    "                  'MBNL1-AS1', 'TBC1D12', 'PTN', 'IL17D', 'SFT2D1',\n",
    "                  'IGSF10', 'BHLHE41', 'NUCKS1', 'HACD3', 'IL18',\n",
    "                  'TPPP3', 'EMP3', 'CLIC2', 'ATF5', 'MSC-AS1', 'FBLN2',\n",
    "                  'LTBP4', 'F10', 'FSTL1', 'FBN1', 'TNXB', 'PCOLCE2',\n",
    "                  'PLAT', 'PLPP3', 'SLIT3', 'CD248', 'AKAP12', 'PLBD1',\n",
    "                  'SEMA3C', 'MFAP5', 'C17orf58', 'METRNL', 'UGDH',\n",
    "                  'HSD11B1', 'TGFBR3', 'TSKU', 'FLRT2', 'SEMA3B',\n",
    "                  'PI16', 'RAB32', 'DCLK1', 'CD55', 'LINC01133',\n",
    "                  'FGFR1', 'CSF1', 'SLC16A7', 'NT5E', 'ADAMTSL4',\n",
    "                  'HTRA3', 'FAM177A1', 'C1QTNF3', 'PPP2R2A', 'GPC1',\n",
    "                  'EBF2', 'AMOTL2', 'NTM', 'CMTM3', 'CADM3')\n",
    "vsmc_modgenes_11_30a_ids <- short2geneid[vsmc_modgenes_11_30]\n",
    "\n",
    "ec_modgenes_35a <- c('FEZ1', 'OLFM1', 'ARHGAP18', 'COL4A1', 'MEDAG', 'COL4A2',\n",
    "             'PDGFD', 'IGFBP7', 'RGS3', 'PGF', 'ITGA6', 'MGLL', 'ACKR3',\n",
    "             'ANGPT2', 'PLXNA4', 'EMCN', 'TIMP3', 'GSN', 'FILIP1', 'LAMB1',\n",
    "             'ELK3', 'ARPC2', 'NES', 'MXD4', 'PLVAP', 'ESM1', 'CITED4',\n",
    "             'TMED3', 'EIF4EBP1', 'RFLNB')\n",
    "ec_modgenes_35a_ids <- short2geneid[ec_modgenes_35a]"
   ]
  },
  {
   "cell_type": "code",
   "execution_count": 12,
   "metadata": {},
   "outputs": [
    {
     "data": {
      "text/html": [
       "'VSMC_Modules_2_9_11_30_13_31_24_28'"
      ],
      "text/latex": [
       "'VSMC\\_Modules\\_2\\_9\\_11\\_30\\_13\\_31\\_24\\_28'"
      ],
      "text/markdown": [
       "'VSMC_Modules_2_9_11_30_13_31_24_28'"
      ],
      "text/plain": [
       "[1] \"VSMC_Modules_2_9_11_30_13_31_24_28\""
      ]
     },
     "metadata": {},
     "output_type": "display_data"
    },
    {
     "data": {
      "text/html": [
       "'EC_Modules_1_35_and_36_2_6'"
      ],
      "text/latex": [
       "'EC\\_Modules\\_1\\_35\\_and\\_36\\_2\\_6'"
      ],
      "text/markdown": [
       "'EC_Modules_1_35_and_36_2_6'"
      ],
      "text/plain": [
       "[1] \"EC_Modules_1_35_and_36_2_6\""
      ]
     },
     "metadata": {},
     "output_type": "display_data"
    }
   ],
   "source": [
    "## Read in Toms  list of genes for VSMC and EC Heatmaps (Response to Nature.Rejection)\n",
    "VSMC_PNR_file <- 'PostNatureRejection.Updates/Updated.VSMC.Genes.Heatmap.csv'\n",
    "VSMC_PNR_genes <- read.table(VSMC_PNR_file, header = FALSE, sep = '', stringsAsFactors = FALSE)[,1]\n",
    "VSMC_group <- VSMC_PNR_genes[1]\n",
    "VSMC_PNR_genes_ids <- short2geneid[VSMC_PNR_genes[2:length(VSMC_PNR_genes)]]\n",
    "VSMC_PNR_genes <- geneid2short[VSMC_PNR_genes_ids]\n",
    "VSMC_group\n",
    "\n",
    "EC_PNR_file <- 'PostNatureRejection.Updates/Updated.EC.Genes.Heatmap.csv'\n",
    "EC_PNR_genes <- read.table(EC_PNR_file, header = FALSE, sep = '', stringsAsFactors = FALSE)[,1]\n",
    "EC_group <- EC_PNR_genes[1]\n",
    "EC_PNR_genes_ids <- short2geneid[EC_PNR_genes[2:length(EC_PNR_genes)]]\n",
    "EC_PNR_genes <- geneid2short[EC_PNR_genes_ids]\n",
    "EC_group "
   ]
  },
  {
   "cell_type": "markdown",
   "metadata": {},
   "source": [
    "## VSMC Unknown Process (Modules_2_9_11_30_13_31_24_28)¶\n",
    "### Updated code"
   ]
  },
  {
   "cell_type": "code",
   "execution_count": 13,
   "metadata": {},
   "outputs": [
    {
     "data": {
      "text/plain": [
       "\n",
       "  cyan orange \n",
       "  1223   1223 "
      ]
     },
     "metadata": {},
     "output_type": "display_data"
    },
    {
     "data": {
      "text/html": [
       "<strong>png:</strong> 2"
      ],
      "text/latex": [
       "\\textbf{png:} 2"
      ],
      "text/markdown": [
       "**png:** 2"
      ],
      "text/plain": [
       "png \n",
       "  2 "
      ]
     },
     "metadata": {},
     "output_type": "display_data"
    },
    {
     "data": {
      "text/html": [
       "<strong>png:</strong> 2"
      ],
      "text/latex": [
       "\\textbf{png:} 2"
      ],
      "text/markdown": [
       "**png:** 2"
      ],
      "text/plain": [
       "png \n",
       "  2 "
      ]
     },
     "metadata": {},
     "output_type": "display_data"
    },
    {
     "data": {
      "text/html": [
       "<strong>png:</strong> 2"
      ],
      "text/latex": [
       "\\textbf{png:} 2"
      ],
      "text/markdown": [
       "**png:** 2"
      ],
      "text/plain": [
       "png \n",
       "  2 "
      ]
     },
     "metadata": {},
     "output_type": "display_data"
    },
    {
     "data": {
      "text/html": [
       "<strong>png:</strong> 2"
      ],
      "text/latex": [
       "\\textbf{png:} 2"
      ],
      "text/markdown": [
       "**png:** 2"
      ],
      "text/plain": [
       "png \n",
       "  2 "
      ]
     },
     "metadata": {},
     "output_type": "display_data"
    },
    {
     "data": {
      "text/html": [
       "<strong>png:</strong> 2"
      ],
      "text/latex": [
       "\\textbf{png:} 2"
      ],
      "text/markdown": [
       "**png:** 2"
      ],
      "text/plain": [
       "png \n",
       "  2 "
      ]
     },
     "metadata": {},
     "output_type": "display_data"
    }
   ],
   "source": [
    "## Get the Expression Set for VSMC Modules_2_9_11_30_13_31_24_28 genes\n",
    "p <- 3\n",
    "vsmc_bool <- (colData(down_stdycds)$assigned_cell_type == celltypes6[p])\n",
    "vsmcmod_cds <- down_stdycds[fData(down_stdycds)@rownames %in% VSMC_PNR_genes_ids, vsmc_bool]\n",
    "colData(vsmcmod_cds)$condtype <- paste('vsmc',\n",
    "    c('hea', 'dis')[(colData(vsmcmod_cds)$condition == 'diseased') + 1], sep = '-')\n",
    "## colData(vsmcmod_cds)$sidecolor[colData(vsmcmod_cds)$condtype == 'ec-dis'] <- 'red'\n",
    "## colData(vsmcmod_cds)$sidecolor[colData(vsmcmod_cds)$condtype == 'ec-hea'] <- 'blue'\n",
    "colData(vsmcmod_cds)$sidecolor[colData(vsmcmod_cds)$condtype == 'vsmc-dis'] <- 'orange'\n",
    "colData(vsmcmod_cds)$sidecolor[colData(vsmcmod_cds)$condtype == 'vsmc-hea'] <- 'cyan'\n",
    "\n",
    "## Down Sample\n",
    "cttable <- table(colData(vsmcmod_cds)$sidecolor)\n",
    "smallset <- min(cttable)\n",
    "cells2keep <- NULL\n",
    "set.seed(101)\n",
    "for (cellset_col in names(cttable)) {\n",
    "    cellsetrow <-  which(colData(vsmcmod_cds)$sidecolor == cellset_col)\n",
    "    cells2keep <- c(cells2keep, sample(cellsetrow, smallset, replace = FALSE))\n",
    "}\n",
    "vsmcmod_cds <- vsmcmod_cds[, cells2keep] \n",
    "\n",
    "## Print the down sampled data set sizes\n",
    "table(colData(vsmcmod_cds)$sidecolor)\n",
    "\n",
    "## Get the expresion matrix\n",
    "expdat_vsmcmod <- as.matrix(exprs(vsmcmod_cds))\n",
    "rownames(expdat_vsmcmod) <- geneid2short[rownames(expdat_vsmcmod)] \n",
    "\n",
    "## Set up the output file names and plot titles\n",
    "f1 <- '/Heatmap.VSMC.Mod2_9_11_30_13_31_24_28.Genes.comp.bin.comp.bin.down.OnOff2Plus.preclustered.Rev1.pdf'\n",
    "f1 <- paste(datdir, '/', ps$outdir, celltypes6[p], f1, sep = '')\n",
    "title1 <- 'VSMC Network Modules 2_9_11_30_13_31_24_28\\nGenes, Cells Pre-Clustered'\n",
    "\n",
    "f2 <- '/Heatmap.VSMC.ModMod2_9_11_30_13_31_24_28.Genes.comp.bin.comp.bin.down.OnOff2Plus.fullyclustered.Rev1.pdf'\n",
    "f2 <- paste(datdir, '/', ps$outdir, celltypes6[p], f2, sep = '')\n",
    "title2 <-  'VSMC Network Modules 2_9_11_30_13_31_24_28\\nGenes, Cells Fully Clustered'\n",
    "\n",
    "f3 <- '/DotPlot.VSMC.Mod2_9_11_30_13_31_24_28.Genes.Rev1.pdf'\n",
    "f3 <- paste(datdir, '/', ps$outdir, celltypes6[p], f3, sep = '')\n",
    "\n",
    "f4 <- '/Heatmap.VSMC.Mod2_9_11_30_13_31_24_28.Genes.comp.bin.comp.bin.down.OnOff2Plus.fullyclustered.cut.Rev1.pdf'\n",
    "f4 <- paste(datdir, '/', ps$outdir, celltypes6[p], f4, sep = '')\n",
    "title4 <-  'VSMC Network Modules 2_9_11_30_13_31_24_28\\nGenes, Cells Fully Clustered with Cuts'\n",
    "\n",
    "f5 <- '/DotPlot.VSMC.Mod2_9_11_30_13_31_24_28.Genes.cuts.Rev1.pdf'\n",
    "f5 <- paste(datdir, '/', ps$outdir, celltypes6[p], f5, sep = '')\n",
    "\n",
    "## Prepare for pre-clustering\n",
    "vsmc_dw <- which(colData(vsmcmod_cds)$condtype == 'vsmc-dis')\n",
    "vsmc_hw <- which(colData(vsmcmod_cds)$condtype == 'vsmc-hea')\n",
    "\n",
    "## Transform the data\n",
    "dims <- dim(expdat_vsmcmod)\n",
    "expdatbo <- (expdat_vsmcmod > 1) * 1\n",
    "\n",
    "## Set up clustering parameters\n",
    "## Distance method, cluster method, heatmap color scheme, legend\n",
    "distmeth <- c('binary', 'binary')\n",
    "clustmeth = c('complete', 'complete')\n",
    "my_palettebol <- colorRampPalette(c('#660066', 'yellow'))(n = 2)\n",
    "legendlstbol <- list(legend = c('VSMC DIS', 'VSMC HEA'),\n",
    "              col = c('orange', 'cyan'), title = 'Cell Types', cex = .7)\n",
    "\n",
    "## Individually cluster the columns of the two cell sets\n",
    "vsmc_dcim <- cim(expdatbo[, vsmc_dw], dist.method = distmeth, clust.method = clustmeth,\n",
    "    scale = \"FALSE\", center = \"FALSE\", col.names = FALSE, legend = legendlstbol,\n",
    "    color = my_palettebol, cluster = 'col', save = 'pdf', name.save = 'temp.ready.to.delete',\n",
    "    col.sideColors = colData(vsmcmod_cds)$sidecolor[vsmc_dw],\n",
    "    symkey = FALSE)\n",
    "vsmc_hcim <- cim(expdatbo[, vsmc_hw], dist.method = distmeth, clust.method = clustmeth,\n",
    "    scale = \"FALSE\", center = \"FALSE\", col.names = FALSE, legend = legendlstbol,\n",
    "    color = my_palettebol, cluster = 'col', save = 'pdf', name.save = 'temp.ready.to.delete',\n",
    "    col.sideColors = colData(vsmcmod_cds)$sidecolor[vsmc_hw],\n",
    "    symkey = FALSE)\n",
    "\n",
    "## The is the combined (concantenated) preclustered cell types\n",
    "## which will are plotted with genes fully clustered (check plot)\n",
    "parthclust <- c(colnames(vsmc_dcim$mat), colnames(vsmc_hcim$mat))\n",
    "colornames <-colData(vsmcmod_cds)$sidecolor\n",
    "names(colornames) <- colnames(expdatbo)\n",
    "\n",
    "# # This is just a check plot to the screen\n",
    "# cim(expdatbo[, parthclust], dist.method = distmeth, clust.method = clustmeth,\n",
    "#     scale = \"FALSE\", center = \"FALSE\", col.names = FALSE, legend = legendlstbol,\n",
    "#     color = my_palettebol, cluster = 'row', # save = 'pdf', name.save = 'temp.ready.to.delete',\n",
    "#     col.sideColors = colornames[parthclust],\n",
    "#     symkey = FALSE)\n",
    "\n",
    "## Repeated from above, this time to a file\n",
    "pdf(f1, width = 8, height = 30)\n",
    "cim(expdatbo[, parthclust], dist.method = distmeth, clust.method = clustmeth,\n",
    "    scale = \"FALSE\", center = \"FALSE\", col.names = FALSE, legend = legendlstbol,\n",
    "    color = my_palettebol, cluster = 'row', title = title1,\n",
    "    col.sideColors = colornames[parthclust],\n",
    "    symkey = FALSE)\n",
    "dev.off()\n",
    "\n",
    "## The is again the combined cell types, plotted with both genes and cells fully clustered\n",
    "cim_save <- cim(expdatbo[, parthclust], dist.method = distmeth, clust.method = clustmeth,\n",
    "    scale = \"FALSE\", center = \"FALSE\", col.names = FALSE, legend = legendlstbol,\n",
    "    color = my_palettebol, cluster = 'both', save = 'pdf', name.save = 'temp.ready.to.delete',\n",
    "    col.sideColors = colornames[parthclust], \n",
    "    symkey = FALSE)\n",
    "\n",
    "## This is a check plot to the screen and it should match the above plot perfectly\n",
    "# cim(expdatbo[, colnames(cim_save$mat)], dist.method = distmeth, clust.method = clustmeth,\n",
    "#     scale = \"FALSE\", center = \"FALSE\", col.names = FALSE, legend = legendlstbol,\n",
    "#     color = my_palettebol, cluster = 'row', # save = 'pdf', name.save = 'temp.ready.to.delete',\n",
    "#     col.sideColors = colornames[colnames(cim_save$mat)], \n",
    "#     symkey = FALSE)\n",
    "\n",
    "## Repeated from above, this time to a file (make sure to cluster again to plot cell dendrogram)\n",
    "pdf(f2, width = 8, height = 30)\n",
    "cim(expdatbo[, parthclust], dist.method = distmeth, clust.method = clustmeth,\n",
    "    scale = \"FALSE\", center = \"FALSE\", col.names = FALSE, legend = legendlstbol,\n",
    "    color = my_palettebol, cluster = 'both', title = title2,\n",
    "    col.sideColors = colornames[parthclust], \n",
    "    symkey = FALSE)\n",
    "dev.off()\n",
    "\n",
    "specialglist <- short2geneid[cim_save$row.names]\n",
    "pdf(f3, width = 2.75, height = 34)\n",
    "plot_genes_by_group2(vsmcmod_cds,\n",
    "                    axis_order = \"group_marker\",\n",
    "                    specialglist,\n",
    "                    group_cells_by = \"condtype\",\n",
    "                    ordering_type = \"as_ordered\", \n",
    "                    max.size = 3,\n",
    "                    norm_method = 'size_only',\n",
    "                    scale_max = 3, scale_min = -3)\n",
    "dev.off()\n",
    "\n",
    "## Set up for plot with special cut regions\n",
    "cim_o <- colnames(cim_save$mat)\n",
    "cut0 <- 1\n",
    "cut1 <- floor(length(cim_o) * 1.408 / 6.78125)\n",
    "cut2 <- floor(length(cim_o) * 3.018 / 6.78125)\n",
    "cut3 <- floor(length(cim_o) * 4.461 / 6.78125)\n",
    "cut4 <- length(cim_o)\n",
    "wcut1 <- which(colnames(expdatbo) %in% cim_o[cut0:cut1])\n",
    "wcut2 <- which(colnames(expdatbo) %in% cim_o[(cut1 + 1):cut2])\n",
    "wcut3 <- which(colnames(expdatbo) %in% cim_o[(cut2 + 1):cut3])\n",
    "wcut4 <- which(colnames(expdatbo) %in% cim_o[(cut3 + 1):cut4])\n",
    "wcuts <- c(wcut1, wcut2, wcut3, wcut4)\n",
    "cell_subg_cols <- vector(mode = 'character', length = length(cim_o))\n",
    "cell_subg_names <- vector(mode = 'character', length = length(cim_o))\n",
    "cell_subg_cols[wcut1] <- '#404040' # '1gray'\n",
    "cell_subg_names[wcut1] <- '1gray'\n",
    "cell_subg_cols[wcut2] <- '#606060' # '2gray'\n",
    "cell_subg_names[wcut2] <- '2gray'\n",
    "cell_subg_cols[wcut3] <- '#808080' # '3gray'\n",
    "cell_subg_names[wcut3] <- '3gray'\n",
    "cell_subg_cols[wcut4] <- '#A0A0A0' # '4gray'\n",
    "cell_subg_names[wcut4] <- '4gray'\n",
    "names(cell_subg_cols) <- cim_o\n",
    "\n",
    "## Plot the same fully clustered plot, this time without reclustering the cells,\n",
    "# but coloring the horizontal color bar according to the cuts\n",
    "pdf(f4, width = 8, height = 30)\n",
    "cim_cells <- cim(expdatbo[, colnames(cim_save$mat)], dist.method = distmeth,\n",
    "    clust.method = clustmeth,\n",
    "    scale = \"FALSE\", center = \"FALSE\", col.names = FALSE, legend = legendlstbol,\n",
    "    color = my_palettebol, cluster = 'row', title = title4,\n",
    "    col.sideColors = cell_subg_cols[wcuts],\n",
    "    symkey = FALSE)\n",
    "dev.off()\n",
    "\n",
    "specialglist <- specialglist <- short2geneid[cim_save$row.names]\n",
    "colData(vsmcmod_cds)$subgroups[wcuts] <- cell_subg_names[wcuts]\n",
    "pdf(f5, width = 3.25, height = 34)\n",
    "plot_genes_by_group2(vsmcmod_cds,\n",
    "                    axis_order = \"group_marker\",\n",
    "                    specialglist,\n",
    "                    group_cells_by = \"subgroups\",\n",
    "                    ordering_type = \"as_ordered\", \n",
    "                    max.size = 3,\n",
    "                    norm_method = 'size_only',\n",
    "                    scale_max = 3, scale_min = -3)\n",
    "dev.off()\n",
    "\n",
    "# Perform DE Analysis on the vsmc heatmat subgroup\n",
    "f6 <- '/Diff.vsmc_group1.KeepFail.NoModels.txt'\n",
    "f6 <- paste(datdir, '/', ps$outdir, celltypes6[p], f6, sep = '')\n",
    "gene_vsmc_wcut1_fits_pat_cond_adj <- fit_models(vsmcmod_cds[, wcut1], cores = 4,\n",
    "                                model_formula_str = \"~patient + condition\")\n",
    "all_coef1 <- NULL\n",
    "## Get the DE Coefficients\n",
    "all_coef1 <- coefficient_table(gene_vsmc_wcut1_fits_pat_cond_adj)\n",
    "# Extract the relavent data from the DE tables\n",
    "condition_terms1 <- all_coef1 %>% filter(term == \"conditionhealthy\")\n",
    "condition_termsb1 <- condition_terms1 %>% filter(status == 'OK')\n",
    "write.table(condition_terms1[,c(1, 4:12)], f6, col.names = TRUE, row.names = FALSE)\n",
    "\n",
    "f7 <- '/Diff.vsmc_group2.KeepFail.NoModels.txt'\n",
    "f7 <- paste(datdir, '/', ps$outdir, celltypes6[p], f7, sep = '')\n",
    "gene_vsmc_wcut2_fits_pat_cond_adj <- fit_models(vsmcmod_cds[, wcut2], cores = 4,\n",
    "                                model_formula_str = \"~patient + condition\")\n",
    "all_coef2 <- NULL\n",
    "## Get the DE Coefficients\n",
    "all_coef2 <- coefficient_table(gene_vsmc_wcut2_fits_pat_cond_adj)\n",
    "# Extract the relavent data from the DE tables\n",
    "condition_terms2 <- all_coef2 %>% filter(term == \"conditionhealthy\")\n",
    "condition_termsb2 <- condition_terms2 %>% filter(status == 'OK')\n",
    "write.table(condition_terms2[,c(1, 4:12)], f7, col.names = TRUE, row.names = FALSE)\n",
    "\n",
    "f8 <- '/Diff.vsmc_group3.KeepFail.NoModels.txt'\n",
    "f8 <- paste(datdir, '/', ps$outdir, celltypes6[p], f8, sep = '')\n",
    "gene_vsmc_wcut3_fits_pat_cond_adj <- fit_models(vsmcmod_cds[, wcut3], cores = 4,\n",
    "                                model_formula_str = \"~patient + condition\")\n",
    "all_coef3 <- NULL\n",
    "## Get the DE Coefficients\n",
    "all_coef3 <- coefficient_table(gene_vsmc_wcut3_fits_pat_cond_adj)\n",
    "# Extract the relavent data from the DE tables\n",
    "condition_terms3 <- all_coef3 %>% filter(term == \"conditionhealthy\")\n",
    "condition_termsb3 <- condition_terms3 %>% filter(status == 'OK')\n",
    "write.table(condition_terms3[,c(1, 4:12)], f8, col.names = TRUE, row.names = FALSE)\n",
    "\n",
    "f9 <- '/Diff.vsmc_group4.KeepFail.NoModels.txt'\n",
    "f9 <- paste(datdir, '/', ps$outdir, celltypes6[p], f9, sep = '')\n",
    "gene_vsmc_wcut4_fits_pat_cond_adj <- fit_models(vsmcmod_cds[, wcut4], cores = 4,\n",
    "                                model_formula_str = \"~patient + condition\")\n",
    "all_coef4 <- NULL\n",
    "## Get the DE Coefficients\n",
    "all_coef4 <- coefficient_table(gene_vsmc_wcut4_fits_pat_cond_adj)\n",
    "# Extract the relavent data from the DE tables\n",
    "condition_terms4 <- all_coef4 %>% filter(term == \"conditionhealthy\")\n",
    "condition_termsb4 <- condition_terms4 %>% filter(status == 'OK')\n",
    "write.table(condition_terms4[,c(1, 4:12)], f9, col.names = TRUE, row.names = FALSE)"
   ]
  },
  {
   "cell_type": "code",
   "execution_count": 15,
   "metadata": {},
   "outputs": [],
   "source": [
    "hea <- which(colData(vsmcmod_cds)$condition == 'healthy')\n",
    "dis <- which(colData(vsmcmod_cds)$condition == 'diseased')\n",
    "colData(vsmcmod_cds)$subgrp_c <- 'null'\n",
    "colData(vsmcmod_cds)$subgrp_c[intersect(wcut1, hea)] <- 'group1hea'\n",
    "colData(vsmcmod_cds)$subgrp_c[intersect(wcut1, dis)] <- 'group1dis'\n",
    "colData(vsmcmod_cds)$subgrp_c[intersect(wcut2, hea)] <- 'group2hea'\n",
    "colData(vsmcmod_cds)$subgrp_c[intersect(wcut2, dis)] <- 'group2dis'\n",
    "colData(vsmcmod_cds)$subgrp_c[intersect(wcut3, hea)] <- 'group3hea'\n",
    "colData(vsmcmod_cds)$subgrp_c[intersect(wcut3, dis)] <- 'group3dis'\n",
    "colData(vsmcmod_cds)$subgrp_c[intersect(wcut4, hea)] <- 'group4hea'\n",
    "colData(vsmcmod_cds)$subgrp_c[intersect(wcut4, dis)] <- 'group4dis'\n",
    "\n",
    "colData(vsmcmod_cds)$subgrp <- NA\n",
    "colData(vsmcmod_cds)$subgrp[wcut1] <- 'group1'\n",
    "colData(vsmcmod_cds)$subgrp[wcut2] <- 'group2'\n",
    "colData(vsmcmod_cds)$subgrp[wcut3] <- 'group3'\n",
    "colData(vsmcmod_cds)$subgrp[wcut4] <- 'group4'\n",
    "\n",
    "colData(vsmcmod_cds)$subgrp1 <- NA\n",
    "colData(vsmcmod_cds)$subgrp1 <- 'group1_minus'\n",
    "colData(vsmcmod_cds)$subgrp1[wcut1] <- 'group1_plus'\n",
    "\n",
    "colData(vsmcmod_cds)$subgrp12 <- NA\n",
    "colData(vsmcmod_cds)$subgrp12 <- 'group12_minus'\n",
    "colData(vsmcmod_cds)$subgrp1[c(wcut1, wcut2)] <- 'group12_plus'\n",
    "\n",
    "colData(vsmcmod_cds)$subgrp_cont <- 0\n",
    "colData(vsmcmod_cds)$subgrp_cont[wcut1] <- sum(colData(vsmcmod_cds)$subgrp_c ==\n",
    "                            'group1dis')/sum(colData(vsmcmod_cds)$subgrp == 'group1')\n",
    "colData(vsmcmod_cds)$subgrp_cont[wcut2] <- sum(colData(vsmcmod_cds)$subgrp_c ==\n",
    "                            'group2dis')/sum(colData(vsmcmod_cds)$subgrp == 'group2')\n",
    "colData(vsmcmod_cds)$subgrp_cont[wcut3] <- sum(colData(vsmcmod_cds)$subgrp_c ==\n",
    "                            'group3dis')/sum(colData(vsmcmod_cds)$subgrp == 'group3')\n",
    "colData(vsmcmod_cds)$subgrp_cont[wcut4] <- sum(colData(vsmcmod_cds)$subgrp_c ==\n",
    "                            'group4dis')/sum(colData(vsmcmod_cds)$subgrp == 'group4')\n"
   ]
  },
  {
   "cell_type": "code",
   "execution_count": null,
   "metadata": {},
   "outputs": [],
   "source": []
  },
  {
   "cell_type": "code",
   "execution_count": null,
   "metadata": {},
   "outputs": [],
   "source": []
  },
  {
   "cell_type": "code",
   "execution_count": null,
   "metadata": {},
   "outputs": [],
   "source": []
  },
  {
   "cell_type": "code",
   "execution_count": null,
   "metadata": {},
   "outputs": [],
   "source": []
  },
  {
   "cell_type": "code",
   "execution_count": null,
   "metadata": {},
   "outputs": [],
   "source": [
    "## Perform Group Level DE Analysis for Two cases Using ANOVA Like Comparison"
   ]
  },
  {
   "cell_type": "code",
   "execution_count": 94,
   "metadata": {},
   "outputs": [],
   "source": [
    "## This is needed for compare_models to work\n",
    "vsmcmod_cds <- detect_genes(vsmcmod_cds)"
   ]
  },
  {
   "cell_type": "code",
   "execution_count": 95,
   "metadata": {},
   "outputs": [],
   "source": [
    "## Models under study               # Null Case\n",
    "mod0 <- '~patient'\n",
    "mod1 <- '~patient + subgrp'         # Case 1\n",
    "mod2 <- '~patient + subgrp_cont'    # Case 2"
   ]
  },
  {
   "cell_type": "code",
   "execution_count": 96,
   "metadata": {},
   "outputs": [],
   "source": [
    "## Perform Monocle 3 DE Analysis\n",
    "family_type_sel <- 2\n",
    "ft <- c('quasipoisson', 'negbinomial', 'gaussian', 'binomial', 'poisson')[family_type_sel]\n",
    "\n",
    "gene_vsmc_fits_m0 <- fit_models(vsmcmod_cds, cores = 1, expression_family = ft,\n",
    "                                model_formula_str = mod0) \n",
    "all_coef_m0 <- coefficient_table(gene_vsmc_fits_m0)\n",
    "\n",
    "gene_vsmc_fits_m1 <- fit_models(vsmcmod_cds, cores = 1, expression_family = ft,\n",
    "                                model_formula_str = mod1) \n",
    "all_coef_m1 <- coefficient_table(gene_vsmc_fits_m1)\n",
    "\n",
    "gene_vsmc_fits_m2 <- fit_models(vsmcmod_cds, cores = 1, expression_family = ft,\n",
    "                                model_formula_str = mod2) \n",
    "all_coef_m2 <- coefficient_table(gene_vsmc_fits_m2)"
   ]
  },
  {
   "cell_type": "code",
   "execution_count": 97,
   "metadata": {},
   "outputs": [
    {
     "data": {
      "text/html": [
       "'ISG15'"
      ],
      "text/latex": [
       "'ISG15'"
      ],
      "text/markdown": [
       "'ISG15'"
      ],
      "text/plain": [
       "[1] \"ISG15\""
      ]
     },
     "metadata": {},
     "output_type": "display_data"
    }
   ],
   "source": [
    "## Pick a gene\n",
    "gene_num <- 1\n",
    "gene_name <- as.character(gene_vsmc_fits_m0$gene_short_name[gene_num])\n",
    "gene_name"
   ]
  },
  {
   "cell_type": "code",
   "execution_count": 98,
   "metadata": {
    "scrolled": true
   },
   "outputs": [
    {
     "data": {
      "text/html": [
       "<table>\n",
       "<caption>A tibble: 3 × 11</caption>\n",
       "<thead>\n",
       "\t<tr><th scope=col>gene_short_name</th><th scope=col>num_cells_expressed</th><th scope=col>status</th><th scope=col>term</th><th scope=col>estimate</th><th scope=col>std_err</th><th scope=col>test_val</th><th scope=col>p_value</th><th scope=col>normalized_effect</th><th scope=col>model_component</th><th scope=col>q_value</th></tr>\n",
       "\t<tr><th scope=col>&lt;fct&gt;</th><th scope=col>&lt;int&gt;</th><th scope=col>&lt;chr&gt;</th><th scope=col>&lt;chr&gt;</th><th scope=col>&lt;dbl&gt;</th><th scope=col>&lt;dbl&gt;</th><th scope=col>&lt;dbl&gt;</th><th scope=col>&lt;dbl&gt;</th><th scope=col>&lt;dbl&gt;</th><th scope=col>&lt;chr&gt;</th><th scope=col>&lt;dbl&gt;</th></tr>\n",
       "</thead>\n",
       "<tbody>\n",
       "\t<tr><td>ISG15</td><td>542</td><td>OK</td><td>(Intercept)       </td><td>-0.83406959</td><td>0.09738388</td><td>-8.5647600</td><td>1.083012e-17</td><td> 0.00000000</td><td>count</td><td>9.638803e-16</td></tr>\n",
       "\t<tr><td>ISG15</td><td>542</td><td>OK</td><td>patientID Number 2</td><td>-0.06756887</td><td>0.15283609</td><td>-0.4421002</td><td>6.584167e-01</td><td>-0.09521308</td><td>count</td><td>1.000000e+00</td></tr>\n",
       "\t<tr><td>ISG15</td><td>542</td><td>OK</td><td>patientID Number 3</td><td>-0.68880031</td><td>0.13428100</td><td>-5.1295442</td><td>2.904446e-07</td><td>-0.96189160</td><td>count</td><td>7.812958e-05</td></tr>\n",
       "</tbody>\n",
       "</table>\n"
      ],
      "text/latex": [
       "A tibble: 3 × 11\n",
       "\\begin{tabular}{lllllllllll}\n",
       " gene\\_short\\_name & num\\_cells\\_expressed & status & term & estimate & std\\_err & test\\_val & p\\_value & normalized\\_effect & model\\_component & q\\_value\\\\\n",
       " <fct> & <int> & <chr> & <chr> & <dbl> & <dbl> & <dbl> & <dbl> & <dbl> & <chr> & <dbl>\\\\\n",
       "\\hline\n",
       "\t ISG15 & 542 & OK & (Intercept)        & -0.83406959 & 0.09738388 & -8.5647600 & 1.083012e-17 &  0.00000000 & count & 9.638803e-16\\\\\n",
       "\t ISG15 & 542 & OK & patientID Number 2 & -0.06756887 & 0.15283609 & -0.4421002 & 6.584167e-01 & -0.09521308 & count & 1.000000e+00\\\\\n",
       "\t ISG15 & 542 & OK & patientID Number 3 & -0.68880031 & 0.13428100 & -5.1295442 & 2.904446e-07 & -0.96189160 & count & 7.812958e-05\\\\\n",
       "\\end{tabular}\n"
      ],
      "text/markdown": [
       "\n",
       "A tibble: 3 × 11\n",
       "\n",
       "| gene_short_name &lt;fct&gt; | num_cells_expressed &lt;int&gt; | status &lt;chr&gt; | term &lt;chr&gt; | estimate &lt;dbl&gt; | std_err &lt;dbl&gt; | test_val &lt;dbl&gt; | p_value &lt;dbl&gt; | normalized_effect &lt;dbl&gt; | model_component &lt;chr&gt; | q_value &lt;dbl&gt; |\n",
       "|---|---|---|---|---|---|---|---|---|---|---|\n",
       "| ISG15 | 542 | OK | (Intercept)        | -0.83406959 | 0.09738388 | -8.5647600 | 1.083012e-17 |  0.00000000 | count | 9.638803e-16 |\n",
       "| ISG15 | 542 | OK | patientID Number 2 | -0.06756887 | 0.15283609 | -0.4421002 | 6.584167e-01 | -0.09521308 | count | 1.000000e+00 |\n",
       "| ISG15 | 542 | OK | patientID Number 3 | -0.68880031 | 0.13428100 | -5.1295442 | 2.904446e-07 | -0.96189160 | count | 7.812958e-05 |\n",
       "\n"
      ],
      "text/plain": [
       "  gene_short_name num_cells_expressed status term               estimate   \n",
       "1 ISG15           542                 OK     (Intercept)        -0.83406959\n",
       "2 ISG15           542                 OK     patientID Number 2 -0.06756887\n",
       "3 ISG15           542                 OK     patientID Number 3 -0.68880031\n",
       "  std_err    test_val   p_value      normalized_effect model_component\n",
       "1 0.09738388 -8.5647600 1.083012e-17  0.00000000       count          \n",
       "2 0.15283609 -0.4421002 6.584167e-01 -0.09521308       count          \n",
       "3 0.13428100 -5.1295442 2.904446e-07 -0.96189160       count          \n",
       "  q_value     \n",
       "1 9.638803e-16\n",
       "2 1.000000e+00\n",
       "3 7.812958e-05"
      ]
     },
     "metadata": {},
     "output_type": "display_data"
    },
    {
     "data": {
      "text/html": [
       "<table>\n",
       "<caption>A tibble: 6 × 11</caption>\n",
       "<thead>\n",
       "\t<tr><th scope=col>gene_short_name</th><th scope=col>num_cells_expressed</th><th scope=col>status</th><th scope=col>term</th><th scope=col>estimate</th><th scope=col>std_err</th><th scope=col>test_val</th><th scope=col>p_value</th><th scope=col>normalized_effect</th><th scope=col>model_component</th><th scope=col>q_value</th></tr>\n",
       "\t<tr><th scope=col>&lt;fct&gt;</th><th scope=col>&lt;int&gt;</th><th scope=col>&lt;chr&gt;</th><th scope=col>&lt;chr&gt;</th><th scope=col>&lt;dbl&gt;</th><th scope=col>&lt;dbl&gt;</th><th scope=col>&lt;dbl&gt;</th><th scope=col>&lt;dbl&gt;</th><th scope=col>&lt;dbl&gt;</th><th scope=col>&lt;chr&gt;</th><th scope=col>&lt;dbl&gt;</th></tr>\n",
       "</thead>\n",
       "<tbody>\n",
       "\t<tr><td>ISG15</td><td>542</td><td>OK</td><td>(Intercept)       </td><td>-1.6212225</td><td>0.1722615</td><td>-9.411406</td><td>4.895450e-21</td><td> 0.0000000</td><td>count</td><td>9.056583e-19</td></tr>\n",
       "\t<tr><td>ISG15</td><td>542</td><td>OK</td><td>patientID Number 2</td><td>-0.2116639</td><td>0.1573355</td><td>-1.345303</td><td>1.785274e-01</td><td>-0.2890812</td><td>count</td><td>1.000000e+00</td></tr>\n",
       "\t<tr><td>ISG15</td><td>542</td><td>OK</td><td>patientID Number 3</td><td>-0.6494978</td><td>0.1332129</td><td>-4.875638</td><td>1.084574e-06</td><td>-0.8748464</td><td>count</td><td>2.863276e-04</td></tr>\n",
       "\t<tr><td>ISG15</td><td>542</td><td>OK</td><td>subgrpgroup2      </td><td> 0.8104637</td><td>0.1975404</td><td> 4.102774</td><td>4.082262e-05</td><td> 1.1301439</td><td>count</td><td>3.837326e-03</td></tr>\n",
       "\t<tr><td>ISG15</td><td>542</td><td>OK</td><td>subgrpgroup3      </td><td> 1.2903204</td><td>0.1924564</td><td> 6.704482</td><td>2.021227e-11</td><td> 1.8102824</td><td>count</td><td>2.930779e-09</td></tr>\n",
       "\t<tr><td>ISG15</td><td>542</td><td>OK</td><td>subgrpgroup4      </td><td> 0.7410344</td><td>0.1828139</td><td> 4.053491</td><td>5.045885e-05</td><td> 1.0322588</td><td>count</td><td>2.220189e-03</td></tr>\n",
       "</tbody>\n",
       "</table>\n"
      ],
      "text/latex": [
       "A tibble: 6 × 11\n",
       "\\begin{tabular}{lllllllllll}\n",
       " gene\\_short\\_name & num\\_cells\\_expressed & status & term & estimate & std\\_err & test\\_val & p\\_value & normalized\\_effect & model\\_component & q\\_value\\\\\n",
       " <fct> & <int> & <chr> & <chr> & <dbl> & <dbl> & <dbl> & <dbl> & <dbl> & <chr> & <dbl>\\\\\n",
       "\\hline\n",
       "\t ISG15 & 542 & OK & (Intercept)        & -1.6212225 & 0.1722615 & -9.411406 & 4.895450e-21 &  0.0000000 & count & 9.056583e-19\\\\\n",
       "\t ISG15 & 542 & OK & patientID Number 2 & -0.2116639 & 0.1573355 & -1.345303 & 1.785274e-01 & -0.2890812 & count & 1.000000e+00\\\\\n",
       "\t ISG15 & 542 & OK & patientID Number 3 & -0.6494978 & 0.1332129 & -4.875638 & 1.084574e-06 & -0.8748464 & count & 2.863276e-04\\\\\n",
       "\t ISG15 & 542 & OK & subgrpgroup2       &  0.8104637 & 0.1975404 &  4.102774 & 4.082262e-05 &  1.1301439 & count & 3.837326e-03\\\\\n",
       "\t ISG15 & 542 & OK & subgrpgroup3       &  1.2903204 & 0.1924564 &  6.704482 & 2.021227e-11 &  1.8102824 & count & 2.930779e-09\\\\\n",
       "\t ISG15 & 542 & OK & subgrpgroup4       &  0.7410344 & 0.1828139 &  4.053491 & 5.045885e-05 &  1.0322588 & count & 2.220189e-03\\\\\n",
       "\\end{tabular}\n"
      ],
      "text/markdown": [
       "\n",
       "A tibble: 6 × 11\n",
       "\n",
       "| gene_short_name &lt;fct&gt; | num_cells_expressed &lt;int&gt; | status &lt;chr&gt; | term &lt;chr&gt; | estimate &lt;dbl&gt; | std_err &lt;dbl&gt; | test_val &lt;dbl&gt; | p_value &lt;dbl&gt; | normalized_effect &lt;dbl&gt; | model_component &lt;chr&gt; | q_value &lt;dbl&gt; |\n",
       "|---|---|---|---|---|---|---|---|---|---|---|\n",
       "| ISG15 | 542 | OK | (Intercept)        | -1.6212225 | 0.1722615 | -9.411406 | 4.895450e-21 |  0.0000000 | count | 9.056583e-19 |\n",
       "| ISG15 | 542 | OK | patientID Number 2 | -0.2116639 | 0.1573355 | -1.345303 | 1.785274e-01 | -0.2890812 | count | 1.000000e+00 |\n",
       "| ISG15 | 542 | OK | patientID Number 3 | -0.6494978 | 0.1332129 | -4.875638 | 1.084574e-06 | -0.8748464 | count | 2.863276e-04 |\n",
       "| ISG15 | 542 | OK | subgrpgroup2       |  0.8104637 | 0.1975404 |  4.102774 | 4.082262e-05 |  1.1301439 | count | 3.837326e-03 |\n",
       "| ISG15 | 542 | OK | subgrpgroup3       |  1.2903204 | 0.1924564 |  6.704482 | 2.021227e-11 |  1.8102824 | count | 2.930779e-09 |\n",
       "| ISG15 | 542 | OK | subgrpgroup4       |  0.7410344 | 0.1828139 |  4.053491 | 5.045885e-05 |  1.0322588 | count | 2.220189e-03 |\n",
       "\n"
      ],
      "text/plain": [
       "  gene_short_name num_cells_expressed status term               estimate  \n",
       "1 ISG15           542                 OK     (Intercept)        -1.6212225\n",
       "2 ISG15           542                 OK     patientID Number 2 -0.2116639\n",
       "3 ISG15           542                 OK     patientID Number 3 -0.6494978\n",
       "4 ISG15           542                 OK     subgrpgroup2        0.8104637\n",
       "5 ISG15           542                 OK     subgrpgroup3        1.2903204\n",
       "6 ISG15           542                 OK     subgrpgroup4        0.7410344\n",
       "  std_err   test_val  p_value      normalized_effect model_component\n",
       "1 0.1722615 -9.411406 4.895450e-21  0.0000000        count          \n",
       "2 0.1573355 -1.345303 1.785274e-01 -0.2890812        count          \n",
       "3 0.1332129 -4.875638 1.084574e-06 -0.8748464        count          \n",
       "4 0.1975404  4.102774 4.082262e-05  1.1301439        count          \n",
       "5 0.1924564  6.704482 2.021227e-11  1.8102824        count          \n",
       "6 0.1828139  4.053491 5.045885e-05  1.0322588        count          \n",
       "  q_value     \n",
       "1 9.056583e-19\n",
       "2 1.000000e+00\n",
       "3 2.863276e-04\n",
       "4 3.837326e-03\n",
       "5 2.930779e-09\n",
       "6 2.220189e-03"
      ]
     },
     "metadata": {},
     "output_type": "display_data"
    },
    {
     "data": {
      "text/html": [
       "<table>\n",
       "<caption>A tibble: 4 × 11</caption>\n",
       "<thead>\n",
       "\t<tr><th scope=col>gene_short_name</th><th scope=col>num_cells_expressed</th><th scope=col>status</th><th scope=col>term</th><th scope=col>estimate</th><th scope=col>std_err</th><th scope=col>test_val</th><th scope=col>p_value</th><th scope=col>normalized_effect</th><th scope=col>model_component</th><th scope=col>q_value</th></tr>\n",
       "\t<tr><th scope=col>&lt;fct&gt;</th><th scope=col>&lt;int&gt;</th><th scope=col>&lt;chr&gt;</th><th scope=col>&lt;chr&gt;</th><th scope=col>&lt;dbl&gt;</th><th scope=col>&lt;dbl&gt;</th><th scope=col>&lt;dbl&gt;</th><th scope=col>&lt;dbl&gt;</th><th scope=col>&lt;dbl&gt;</th><th scope=col>&lt;chr&gt;</th><th scope=col>&lt;dbl&gt;</th></tr>\n",
       "</thead>\n",
       "<tbody>\n",
       "\t<tr><td>ISG15</td><td>542</td><td>OK</td><td>(Intercept)       </td><td>-1.53430245</td><td>0.1577877</td><td>-9.7238385</td><td>2.386129e-22</td><td> 0.00000000</td><td>count</td><td>4.438199e-20</td></tr>\n",
       "\t<tr><td>ISG15</td><td>542</td><td>OK</td><td>patientID Number 2</td><td>-0.04275983</td><td>0.1513157</td><td>-0.2825869</td><td>7.774935e-01</td><td>-0.05889841</td><td>count</td><td>1.000000e+00</td></tr>\n",
       "\t<tr><td>ISG15</td><td>542</td><td>OK</td><td>patientID Number 3</td><td>-0.67163781</td><td>0.1335939</td><td>-5.0274595</td><td>4.970203e-07</td><td>-0.90900612</td><td>count</td><td>1.346925e-04</td></tr>\n",
       "\t<tr><td>ISG15</td><td>542</td><td>OK</td><td>subgrp_cont       </td><td> 1.26390793</td><td>0.2250354</td><td> 5.6164843</td><td>1.948820e-08</td><td> 1.77680905</td><td>count</td><td>1.091339e-06</td></tr>\n",
       "</tbody>\n",
       "</table>\n"
      ],
      "text/latex": [
       "A tibble: 4 × 11\n",
       "\\begin{tabular}{lllllllllll}\n",
       " gene\\_short\\_name & num\\_cells\\_expressed & status & term & estimate & std\\_err & test\\_val & p\\_value & normalized\\_effect & model\\_component & q\\_value\\\\\n",
       " <fct> & <int> & <chr> & <chr> & <dbl> & <dbl> & <dbl> & <dbl> & <dbl> & <chr> & <dbl>\\\\\n",
       "\\hline\n",
       "\t ISG15 & 542 & OK & (Intercept)        & -1.53430245 & 0.1577877 & -9.7238385 & 2.386129e-22 &  0.00000000 & count & 4.438199e-20\\\\\n",
       "\t ISG15 & 542 & OK & patientID Number 2 & -0.04275983 & 0.1513157 & -0.2825869 & 7.774935e-01 & -0.05889841 & count & 1.000000e+00\\\\\n",
       "\t ISG15 & 542 & OK & patientID Number 3 & -0.67163781 & 0.1335939 & -5.0274595 & 4.970203e-07 & -0.90900612 & count & 1.346925e-04\\\\\n",
       "\t ISG15 & 542 & OK & subgrp\\_cont        &  1.26390793 & 0.2250354 &  5.6164843 & 1.948820e-08 &  1.77680905 & count & 1.091339e-06\\\\\n",
       "\\end{tabular}\n"
      ],
      "text/markdown": [
       "\n",
       "A tibble: 4 × 11\n",
       "\n",
       "| gene_short_name &lt;fct&gt; | num_cells_expressed &lt;int&gt; | status &lt;chr&gt; | term &lt;chr&gt; | estimate &lt;dbl&gt; | std_err &lt;dbl&gt; | test_val &lt;dbl&gt; | p_value &lt;dbl&gt; | normalized_effect &lt;dbl&gt; | model_component &lt;chr&gt; | q_value &lt;dbl&gt; |\n",
       "|---|---|---|---|---|---|---|---|---|---|---|\n",
       "| ISG15 | 542 | OK | (Intercept)        | -1.53430245 | 0.1577877 | -9.7238385 | 2.386129e-22 |  0.00000000 | count | 4.438199e-20 |\n",
       "| ISG15 | 542 | OK | patientID Number 2 | -0.04275983 | 0.1513157 | -0.2825869 | 7.774935e-01 | -0.05889841 | count | 1.000000e+00 |\n",
       "| ISG15 | 542 | OK | patientID Number 3 | -0.67163781 | 0.1335939 | -5.0274595 | 4.970203e-07 | -0.90900612 | count | 1.346925e-04 |\n",
       "| ISG15 | 542 | OK | subgrp_cont        |  1.26390793 | 0.2250354 |  5.6164843 | 1.948820e-08 |  1.77680905 | count | 1.091339e-06 |\n",
       "\n"
      ],
      "text/plain": [
       "  gene_short_name num_cells_expressed status term               estimate   \n",
       "1 ISG15           542                 OK     (Intercept)        -1.53430245\n",
       "2 ISG15           542                 OK     patientID Number 2 -0.04275983\n",
       "3 ISG15           542                 OK     patientID Number 3 -0.67163781\n",
       "4 ISG15           542                 OK     subgrp_cont         1.26390793\n",
       "  std_err   test_val   p_value      normalized_effect model_component\n",
       "1 0.1577877 -9.7238385 2.386129e-22  0.00000000       count          \n",
       "2 0.1513157 -0.2825869 7.774935e-01 -0.05889841       count          \n",
       "3 0.1335939 -5.0274595 4.970203e-07 -0.90900612       count          \n",
       "4 0.2250354  5.6164843 1.948820e-08  1.77680905       count          \n",
       "  q_value     \n",
       "1 4.438199e-20\n",
       "2 1.000000e+00\n",
       "3 1.346925e-04\n",
       "4 1.091339e-06"
      ]
     },
     "metadata": {},
     "output_type": "display_data"
    }
   ],
   "source": [
    "all_coef_m0[(all_coef_m0$gene_short_name == gene_name), c(1:2, 5:13)]\n",
    "all_coef_m1[(all_coef_m1$gene_short_name == gene_name), c(1:2, 5:13)]\n",
    "all_coef_m2[(all_coef_m2$gene_short_name == gene_name), c(1:2, 5:13)]"
   ]
  },
  {
   "cell_type": "code",
   "execution_count": 99,
   "metadata": {},
   "outputs": [],
   "source": [
    "\n",
    "## Fix the model (Monocle Bug)\n",
    "id <- short2geneid[gene_vsmc_fits_m0$gene_short_name][gene_num]\n",
    "m0 <- cbind(id, gene_vsmc_fits_m0[gene_num, ])\n",
    "m1 <- cbind(id, gene_vsmc_fits_m1[gene_num, ])\n",
    "m2 <- cbind(id, gene_vsmc_fits_m2[gene_num, ])"
   ]
  },
  {
   "cell_type": "code",
   "execution_count": 101,
   "metadata": {},
   "outputs": [
    {
     "data": {
      "text/html": [
       "<table>\n",
       "<caption>A tibble: 1 × 11</caption>\n",
       "<thead>\n",
       "\t<tr><th scope=col>id</th><th scope=col>gene_short_name</th><th scope=col>num_cells_expressed</th><th scope=col>status</th><th scope=col>null_deviance</th><th scope=col>df_null</th><th scope=col>logLik</th><th scope=col>AIC</th><th scope=col>BIC</th><th scope=col>deviance</th><th scope=col>df_residual</th></tr>\n",
       "\t<tr><th scope=col>&lt;fct&gt;</th><th scope=col>&lt;fct&gt;</th><th scope=col>&lt;int&gt;</th><th scope=col>&lt;chr&gt;</th><th scope=col>&lt;dbl&gt;</th><th scope=col>&lt;int&gt;</th><th scope=col>&lt;dbl&gt;</th><th scope=col>&lt;dbl&gt;</th><th scope=col>&lt;dbl&gt;</th><th scope=col>&lt;dbl&gt;</th><th scope=col>&lt;int&gt;</th></tr>\n",
       "</thead>\n",
       "<tbody>\n",
       "\t<tr><td>ENSG00000259768</td><td>ISG15</td><td>542</td><td>OK</td><td>1186.942</td><td>2445</td><td>-1644.164</td><td>3296.329</td><td>3296.329</td><td>1155.788</td><td>2443</td></tr>\n",
       "</tbody>\n",
       "</table>\n"
      ],
      "text/latex": [
       "A tibble: 1 × 11\n",
       "\\begin{tabular}{lllllllllll}\n",
       " id & gene\\_short\\_name & num\\_cells\\_expressed & status & null\\_deviance & df\\_null & logLik & AIC & BIC & deviance & df\\_residual\\\\\n",
       " <fct> & <fct> & <int> & <chr> & <dbl> & <int> & <dbl> & <dbl> & <dbl> & <dbl> & <int>\\\\\n",
       "\\hline\n",
       "\t ENSG00000259768 & ISG15 & 542 & OK & 1186.942 & 2445 & -1644.164 & 3296.329 & 3296.329 & 1155.788 & 2443\\\\\n",
       "\\end{tabular}\n"
      ],
      "text/markdown": [
       "\n",
       "A tibble: 1 × 11\n",
       "\n",
       "| id &lt;fct&gt; | gene_short_name &lt;fct&gt; | num_cells_expressed &lt;int&gt; | status &lt;chr&gt; | null_deviance &lt;dbl&gt; | df_null &lt;int&gt; | logLik &lt;dbl&gt; | AIC &lt;dbl&gt; | BIC &lt;dbl&gt; | deviance &lt;dbl&gt; | df_residual &lt;int&gt; |\n",
       "|---|---|---|---|---|---|---|---|---|---|---|\n",
       "| ENSG00000259768 | ISG15 | 542 | OK | 1186.942 | 2445 | -1644.164 | 3296.329 | 3296.329 | 1155.788 | 2443 |\n",
       "\n"
      ],
      "text/plain": [
       "  id              gene_short_name num_cells_expressed status null_deviance\n",
       "1 ENSG00000259768 ISG15           542                 OK     1186.942     \n",
       "  df_null logLik    AIC      BIC      deviance df_residual\n",
       "1 2445    -1644.164 3296.329 3296.329 1155.788 2443       "
      ]
     },
     "metadata": {},
     "output_type": "display_data"
    },
    {
     "data": {
      "text/html": [
       "<table>\n",
       "<caption>A tibble: 1 × 11</caption>\n",
       "<thead>\n",
       "\t<tr><th scope=col>id</th><th scope=col>gene_short_name</th><th scope=col>num_cells_expressed</th><th scope=col>status</th><th scope=col>null_deviance</th><th scope=col>df_null</th><th scope=col>logLik</th><th scope=col>AIC</th><th scope=col>BIC</th><th scope=col>deviance</th><th scope=col>df_residual</th></tr>\n",
       "\t<tr><th scope=col>&lt;fct&gt;</th><th scope=col>&lt;fct&gt;</th><th scope=col>&lt;int&gt;</th><th scope=col>&lt;chr&gt;</th><th scope=col>&lt;dbl&gt;</th><th scope=col>&lt;int&gt;</th><th scope=col>&lt;dbl&gt;</th><th scope=col>&lt;dbl&gt;</th><th scope=col>&lt;dbl&gt;</th><th scope=col>&lt;dbl&gt;</th><th scope=col>&lt;int&gt;</th></tr>\n",
       "</thead>\n",
       "<tbody>\n",
       "\t<tr><td>ENSG00000259768</td><td>ISG15</td><td>542</td><td>OK</td><td>1242.993</td><td>2445</td><td>-1621.304</td><td>3256.609</td><td>3256.609</td><td>1163.066</td><td>2440</td></tr>\n",
       "</tbody>\n",
       "</table>\n"
      ],
      "text/latex": [
       "A tibble: 1 × 11\n",
       "\\begin{tabular}{lllllllllll}\n",
       " id & gene\\_short\\_name & num\\_cells\\_expressed & status & null\\_deviance & df\\_null & logLik & AIC & BIC & deviance & df\\_residual\\\\\n",
       " <fct> & <fct> & <int> & <chr> & <dbl> & <int> & <dbl> & <dbl> & <dbl> & <dbl> & <int>\\\\\n",
       "\\hline\n",
       "\t ENSG00000259768 & ISG15 & 542 & OK & 1242.993 & 2445 & -1621.304 & 3256.609 & 3256.609 & 1163.066 & 2440\\\\\n",
       "\\end{tabular}\n"
      ],
      "text/markdown": [
       "\n",
       "A tibble: 1 × 11\n",
       "\n",
       "| id &lt;fct&gt; | gene_short_name &lt;fct&gt; | num_cells_expressed &lt;int&gt; | status &lt;chr&gt; | null_deviance &lt;dbl&gt; | df_null &lt;int&gt; | logLik &lt;dbl&gt; | AIC &lt;dbl&gt; | BIC &lt;dbl&gt; | deviance &lt;dbl&gt; | df_residual &lt;int&gt; |\n",
       "|---|---|---|---|---|---|---|---|---|---|---|\n",
       "| ENSG00000259768 | ISG15 | 542 | OK | 1242.993 | 2445 | -1621.304 | 3256.609 | 3256.609 | 1163.066 | 2440 |\n",
       "\n"
      ],
      "text/plain": [
       "  id              gene_short_name num_cells_expressed status null_deviance\n",
       "1 ENSG00000259768 ISG15           542                 OK     1242.993     \n",
       "  df_null logLik    AIC      BIC      deviance df_residual\n",
       "1 2445    -1621.304 3256.609 3256.609 1163.066 2440       "
      ]
     },
     "metadata": {},
     "output_type": "display_data"
    },
    {
     "data": {
      "text/html": [
       "<table>\n",
       "<caption>A tibble: 1 × 11</caption>\n",
       "<thead>\n",
       "\t<tr><th scope=col>id</th><th scope=col>gene_short_name</th><th scope=col>num_cells_expressed</th><th scope=col>status</th><th scope=col>null_deviance</th><th scope=col>df_null</th><th scope=col>logLik</th><th scope=col>AIC</th><th scope=col>BIC</th><th scope=col>deviance</th><th scope=col>df_residual</th></tr>\n",
       "\t<tr><th scope=col>&lt;fct&gt;</th><th scope=col>&lt;fct&gt;</th><th scope=col>&lt;int&gt;</th><th scope=col>&lt;chr&gt;</th><th scope=col>&lt;dbl&gt;</th><th scope=col>&lt;int&gt;</th><th scope=col>&lt;dbl&gt;</th><th scope=col>&lt;dbl&gt;</th><th scope=col>&lt;dbl&gt;</th><th scope=col>&lt;dbl&gt;</th><th scope=col>&lt;int&gt;</th></tr>\n",
       "</thead>\n",
       "<tbody>\n",
       "\t<tr><td>ENSG00000259768</td><td>ISG15</td><td>542</td><td>OK</td><td>1222.071</td><td>2445</td><td>-1628.915</td><td>3267.83</td><td>3267.83</td><td>1158.788</td><td>2442</td></tr>\n",
       "</tbody>\n",
       "</table>\n"
      ],
      "text/latex": [
       "A tibble: 1 × 11\n",
       "\\begin{tabular}{lllllllllll}\n",
       " id & gene\\_short\\_name & num\\_cells\\_expressed & status & null\\_deviance & df\\_null & logLik & AIC & BIC & deviance & df\\_residual\\\\\n",
       " <fct> & <fct> & <int> & <chr> & <dbl> & <int> & <dbl> & <dbl> & <dbl> & <dbl> & <int>\\\\\n",
       "\\hline\n",
       "\t ENSG00000259768 & ISG15 & 542 & OK & 1222.071 & 2445 & -1628.915 & 3267.83 & 3267.83 & 1158.788 & 2442\\\\\n",
       "\\end{tabular}\n"
      ],
      "text/markdown": [
       "\n",
       "A tibble: 1 × 11\n",
       "\n",
       "| id &lt;fct&gt; | gene_short_name &lt;fct&gt; | num_cells_expressed &lt;int&gt; | status &lt;chr&gt; | null_deviance &lt;dbl&gt; | df_null &lt;int&gt; | logLik &lt;dbl&gt; | AIC &lt;dbl&gt; | BIC &lt;dbl&gt; | deviance &lt;dbl&gt; | df_residual &lt;int&gt; |\n",
       "|---|---|---|---|---|---|---|---|---|---|---|\n",
       "| ENSG00000259768 | ISG15 | 542 | OK | 1222.071 | 2445 | -1628.915 | 3267.83 | 3267.83 | 1158.788 | 2442 |\n",
       "\n"
      ],
      "text/plain": [
       "  id              gene_short_name num_cells_expressed status null_deviance\n",
       "1 ENSG00000259768 ISG15           542                 OK     1222.071     \n",
       "  df_null logLik    AIC     BIC     deviance df_residual\n",
       "1 2445    -1628.915 3267.83 3267.83 1158.788 2442       "
      ]
     },
     "metadata": {},
     "output_type": "display_data"
    }
   ],
   "source": [
    "## Similar to glm summary function\n",
    "evaluate_fits(m0[gene_num,])[c(1:3,6:13)]\n",
    "evaluate_fits(m1[gene_num,])[c(1:3,6:13)]\n",
    "evaluate_fits(m2[gene_num,])[c(1:3,6:13)]"
   ]
  },
  {
   "cell_type": "code",
   "execution_count": 107,
   "metadata": {},
   "outputs": [],
   "source": [
    "multicomp.1.0 <- compare_models(m1, m0)\n",
    "multicomp.2.0 <- compare_models(m2, m0)"
   ]
  },
  {
   "cell_type": "code",
   "execution_count": 108,
   "metadata": {},
   "outputs": [
    {
     "data": {
      "text/html": [
       "<table>\n",
       "<caption>A tibble: 1 × 5</caption>\n",
       "<thead>\n",
       "\t<tr><th scope=col>id</th><th scope=col>gene_short_name</th><th scope=col>num_cells_expressed</th><th scope=col>p_value</th><th scope=col>q_value</th></tr>\n",
       "\t<tr><th scope=col>&lt;fct&gt;</th><th scope=col>&lt;fct&gt;</th><th scope=col>&lt;int&gt;</th><th scope=col>&lt;dbl&gt;</th><th scope=col>&lt;dbl&gt;</th></tr>\n",
       "</thead>\n",
       "<tbody>\n",
       "\t<tr><td>ENSG00000259768</td><td>ISG15</td><td>542</td><td>6.505182e-10</td><td>2.211762e-08</td></tr>\n",
       "</tbody>\n",
       "</table>\n"
      ],
      "text/latex": [
       "A tibble: 1 × 5\n",
       "\\begin{tabular}{lllll}\n",
       " id & gene\\_short\\_name & num\\_cells\\_expressed & p\\_value & q\\_value\\\\\n",
       " <fct> & <fct> & <int> & <dbl> & <dbl>\\\\\n",
       "\\hline\n",
       "\t ENSG00000259768 & ISG15 & 542 & 6.505182e-10 & 2.211762e-08\\\\\n",
       "\\end{tabular}\n"
      ],
      "text/markdown": [
       "\n",
       "A tibble: 1 × 5\n",
       "\n",
       "| id &lt;fct&gt; | gene_short_name &lt;fct&gt; | num_cells_expressed &lt;int&gt; | p_value &lt;dbl&gt; | q_value &lt;dbl&gt; |\n",
       "|---|---|---|---|---|\n",
       "| ENSG00000259768 | ISG15 | 542 | 6.505182e-10 | 2.211762e-08 |\n",
       "\n"
      ],
      "text/plain": [
       "  id              gene_short_name num_cells_expressed p_value      q_value     \n",
       "1 ENSG00000259768 ISG15           542                 6.505182e-10 2.211762e-08"
      ]
     },
     "metadata": {},
     "output_type": "display_data"
    },
    {
     "data": {
      "text/html": [
       "<table>\n",
       "<caption>A tibble: 1 × 5</caption>\n",
       "<thead>\n",
       "\t<tr><th scope=col>id</th><th scope=col>gene_short_name</th><th scope=col>num_cells_expressed</th><th scope=col>p_value</th><th scope=col>q_value</th></tr>\n",
       "\t<tr><th scope=col>&lt;fct&gt;</th><th scope=col>&lt;fct&gt;</th><th scope=col>&lt;int&gt;</th><th scope=col>&lt;dbl&gt;</th><th scope=col>&lt;dbl&gt;</th></tr>\n",
       "</thead>\n",
       "<tbody>\n",
       "\t<tr><td>ENSG00000259768</td><td>ISG15</td><td>542</td><td>3.340341e-08</td><td>1.770381e-06</td></tr>\n",
       "</tbody>\n",
       "</table>\n"
      ],
      "text/latex": [
       "A tibble: 1 × 5\n",
       "\\begin{tabular}{lllll}\n",
       " id & gene\\_short\\_name & num\\_cells\\_expressed & p\\_value & q\\_value\\\\\n",
       " <fct> & <fct> & <int> & <dbl> & <dbl>\\\\\n",
       "\\hline\n",
       "\t ENSG00000259768 & ISG15 & 542 & 3.340341e-08 & 1.770381e-06\\\\\n",
       "\\end{tabular}\n"
      ],
      "text/markdown": [
       "\n",
       "A tibble: 1 × 5\n",
       "\n",
       "| id &lt;fct&gt; | gene_short_name &lt;fct&gt; | num_cells_expressed &lt;int&gt; | p_value &lt;dbl&gt; | q_value &lt;dbl&gt; |\n",
       "|---|---|---|---|---|\n",
       "| ENSG00000259768 | ISG15 | 542 | 3.340341e-08 | 1.770381e-06 |\n",
       "\n"
      ],
      "text/plain": [
       "  id              gene_short_name num_cells_expressed p_value      q_value     \n",
       "1 ENSG00000259768 ISG15           542                 3.340341e-08 1.770381e-06"
      ]
     },
     "metadata": {},
     "output_type": "display_data"
    }
   ],
   "source": [
    "## Compare models (similar to glm anova function)\n",
    "multicomp.1.0[gene_num,]\n",
    "multicomp.2.0[gene_num,]"
   ]
  },
  {
   "cell_type": "code",
   "execution_count": 118,
   "metadata": {},
   "outputs": [
    {
     "data": {
      "image/png": "[encoded data removed]",
      "text/plain": [
       "Plot with title “Histogram of -log10(multicomp.2.0$q_value)”"
      ]
     },
     "metadata": {
      "image/png": {
       "height": 420,
       "width": 420
      },
      "text/plain": {
       "height": 420,
       "width": 420
      }
     },
     "output_type": "display_data"
    }
   ],
   "source": [
    "hist(-log10(multicomp.2.0$q_value), breaks = 40)"
   ]
  },
  {
   "cell_type": "code",
   "execution_count": 119,
   "metadata": {},
   "outputs": [
    {
     "data": {
      "text/html": [
       "&lt;NA&gt;"
      ],
      "text/latex": [
       "<NA>"
      ],
      "text/markdown": [
       "&lt;NA&gt;"
      ],
      "text/plain": [
       "[1] NA"
      ]
     },
     "metadata": {},
     "output_type": "display_data"
    }
   ],
   "source": [
    "sum(all_coef_m2$gene_short_name == short2geneid[gene_vsmc_fits_m2$gene_short_name])"
   ]
  },
  {
   "cell_type": "code",
   "execution_count": 128,
   "metadata": {},
   "outputs": [
    {
     "data": {
      "text/html": [
       "<table>\n",
       "<caption>A tibble: 4 × 6</caption>\n",
       "<thead>\n",
       "\t<tr><th scope=col>gene_short_name</th><th scope=col>num_cells_expressed</th><th scope=col>status</th><th scope=col>term</th><th scope=col>estimate</th><th scope=col>std_err</th></tr>\n",
       "\t<tr><th scope=col>&lt;fct&gt;</th><th scope=col>&lt;int&gt;</th><th scope=col>&lt;chr&gt;</th><th scope=col>&lt;chr&gt;</th><th scope=col>&lt;dbl&gt;</th><th scope=col>&lt;dbl&gt;</th></tr>\n",
       "</thead>\n",
       "<tbody>\n",
       "\t<tr><td>ISG15</td><td>542</td><td>OK</td><td>(Intercept)       </td><td>-1.53430245</td><td>0.1577877</td></tr>\n",
       "\t<tr><td>ISG15</td><td>542</td><td>OK</td><td>patientID Number 2</td><td>-0.04275983</td><td>0.1513157</td></tr>\n",
       "\t<tr><td>ISG15</td><td>542</td><td>OK</td><td>patientID Number 3</td><td>-0.67163781</td><td>0.1335939</td></tr>\n",
       "\t<tr><td>ISG15</td><td>542</td><td>OK</td><td>subgrp_cont       </td><td> 1.26390793</td><td>0.2250354</td></tr>\n",
       "</tbody>\n",
       "</table>\n"
      ],
      "text/latex": [
       "A tibble: 4 × 6\n",
       "\\begin{tabular}{llllll}\n",
       " gene\\_short\\_name & num\\_cells\\_expressed & status & term & estimate & std\\_err\\\\\n",
       " <fct> & <int> & <chr> & <chr> & <dbl> & <dbl>\\\\\n",
       "\\hline\n",
       "\t ISG15 & 542 & OK & (Intercept)        & -1.53430245 & 0.1577877\\\\\n",
       "\t ISG15 & 542 & OK & patientID Number 2 & -0.04275983 & 0.1513157\\\\\n",
       "\t ISG15 & 542 & OK & patientID Number 3 & -0.67163781 & 0.1335939\\\\\n",
       "\t ISG15 & 542 & OK & subgrp\\_cont        &  1.26390793 & 0.2250354\\\\\n",
       "\\end{tabular}\n"
      ],
      "text/markdown": [
       "\n",
       "A tibble: 4 × 6\n",
       "\n",
       "| gene_short_name &lt;fct&gt; | num_cells_expressed &lt;int&gt; | status &lt;chr&gt; | term &lt;chr&gt; | estimate &lt;dbl&gt; | std_err &lt;dbl&gt; |\n",
       "|---|---|---|---|---|---|\n",
       "| ISG15 | 542 | OK | (Intercept)        | -1.53430245 | 0.1577877 |\n",
       "| ISG15 | 542 | OK | patientID Number 2 | -0.04275983 | 0.1513157 |\n",
       "| ISG15 | 542 | OK | patientID Number 3 | -0.67163781 | 0.1335939 |\n",
       "| ISG15 | 542 | OK | subgrp_cont        |  1.26390793 | 0.2250354 |\n",
       "\n"
      ],
      "text/plain": [
       "  gene_short_name num_cells_expressed status term               estimate   \n",
       "1 ISG15           542                 OK     (Intercept)        -1.53430245\n",
       "2 ISG15           542                 OK     patientID Number 2 -0.04275983\n",
       "3 ISG15           542                 OK     patientID Number 3 -0.67163781\n",
       "4 ISG15           542                 OK     subgrp_cont         1.26390793\n",
       "  std_err  \n",
       "1 0.1577877\n",
       "2 0.1513157\n",
       "3 0.1335939\n",
       "4 0.2250354"
      ]
     },
     "metadata": {},
     "output_type": "display_data"
    },
    {
     "data": {
      "text/html": [
       "<style>\n",
       ".list-inline {list-style: none; margin:0; padding: 0}\n",
       ".list-inline>li {display: inline-block}\n",
       ".list-inline>li:not(:last-child)::after {content: \"\\00b7\"; padding: 0 .5ex}\n",
       "</style>\n",
       "<ol class=list-inline><li>ISG15</li><li>ISG15</li><li>ISG15</li><li>ISG15</li></ol>\n",
       "\n",
       "<details>\n",
       "\t<summary style=display:list-item;cursor:pointer>\n",
       "\t\t<strong>Levels</strong>:\n",
       "\t</summary>\n",
       "\t<style>\n",
       "\t.list-inline {list-style: none; margin:0; padding: 0}\n",
       "\t.list-inline>li {display: inline-block}\n",
       "\t.list-inline>li:not(:last-child)::after {content: \"\\00b7\"; padding: 0 .5ex}\n",
       "\t</style>\n",
       "\t<ol class=list-inline><li>'A1BG'</li><li>'A1BG-AS1'</li><li>'A1CF'</li><li>'A2M'</li><li>'A2M-AS1'</li><li>'A2ML1'</li><li>'A2ML1-AS1'</li><li>'A2ML1-AS2'</li><li>'A3GALT2'</li><li>'A4GALT'</li><li>'A4GNT'</li><li>'AAAS'</li><li>'AACS'</li><li>'AADAC'</li><li>'AADACL2'</li><li>'AADACL2-AS1'</li><li>'AADACL3'</li><li>'AADACL4'</li><li>'AADAT'</li><li>'AAED1'</li><li>'AAGAB'</li><li>'AAK1'</li><li>'AAMDC'</li><li>'AAMP'</li><li>'AANAT'</li><li>'AAR2'</li><li>'AARD'</li><li>'AARS'</li><li>'AARS2'</li><li>'AARSD1'</li><li>'AASDH'</li><li>'AASDHPPT'</li><li>'AASS'</li><li>'AATBC'</li><li>'AATF'</li><li>'AATK'</li><li>'AB015752.1'</li><li>'ABALON'</li><li>'ABAT'</li><li>'ABCA1'</li><li>'ABCA10'</li><li>'ABCA12'</li><li>'ABCA13'</li><li>'ABCA2'</li><li>'ABCA3'</li><li>'ABCA4'</li><li>'ABCA5'</li><li>'ABCA6'</li><li>'ABCA7'</li><li>'ABCA8'</li><li>'ABCA9'</li><li>'ABCA9-AS1'</li><li>'ABCB1'</li><li>'ABCB10'</li><li>'ABCB11'</li><li>'ABCB4'</li><li>'ABCB5'</li><li>'ABCB6'</li><li>'ABCB7'</li><li>'ABCB8'</li><li>'ABCB9'</li><li>'ABCC1'</li><li>'ABCC10'</li><li>'ABCC11'</li><li>'ABCC12'</li><li>'ABCC2'</li><li>'ABCC3'</li><li>'ABCC4'</li><li>'ABCC5'</li><li>'ABCC5-AS1'</li><li>'ABCC6'</li><li>'ABCC8'</li><li>'ABCC9'</li><li>'ABCD1'</li><li>'ABCD2'</li><li>'ABCD3'</li><li>'ABCD4'</li><li>'ABCE1'</li><li>'ABCF1'</li><li>'ABCF2'</li><li>'ABCF3'</li><li>'ABCG1'</li><li>'ABCG2'</li><li>'ABCG4'</li><li>'ABCG5'</li><li>'ABCG8'</li><li>'ABHD1'</li><li>'ABHD10'</li><li>'ABHD11'</li><li>'ABHD12'</li><li>'ABHD12B'</li><li>'ABHD13'</li><li>'ABHD14A'</li><li>'ABHD14A-ACY1'</li><li>'ABHD14B'</li><li>'ABHD15'</li><li>'ABHD15-AS1'</li><li>'ABHD16A'</li><li>'ABHD16B'</li><li>'ABHD17A'</li><li>'ABHD17B'</li><li>'ABHD17C'</li><li>'ABHD18'</li><li>'ABHD2'</li><li>'ABHD3'</li><li>'ABHD4'</li><li>'ABHD5'</li><li>'ABHD6'</li><li>'ABHD8'</li><li>'ABI1'</li><li>'ABI2'</li><li>'ABI3'</li><li>'ABI3BP'</li><li>'ABL1'</li><li>'ABL2'</li><li>'ABLIM1'</li><li>'ABLIM2'</li><li>'ABLIM3'</li><li>'ABO'</li><li>'ABR'</li><li>'ABRA'</li><li>'ABRACL'</li><li>'ABRAXAS1'</li><li>'ABRAXAS2'</li><li>'ABT1'</li><li>'ABTB1'</li><li>'ABTB2'</li><li>'AC000032.1'</li><li>'AC000035.1'</li><li>'AC000036.1'</li><li>'AC000058.1'</li><li>'AC000061.1'</li><li>'AC000067.1'</li><li>'AC000068.1'</li><li>'AC000068.2'</li><li>'AC000068.3'</li><li>'AC000093.1'</li><li>'AC000099.1'</li><li>'AC000123.1'</li><li>'AC000124.1'</li><li>'AC000372.1'</li><li>'AC000403.1'</li><li>'AC001226.1'</li><li>'AC001226.2'</li><li>'AC002056.2'</li><li>'AC002064.1'</li><li>'AC002064.2'</li><li>'AC002066.1'</li><li>'AC002070.1'</li><li>'AC002074.1'</li><li>'AC002076.1'</li><li>'AC002091.1'</li><li>'AC002091.2'</li><li>'AC002094.2'</li><li>'AC002094.3'</li><li>'AC002101.1'</li><li>'AC002115.1'</li><li>'AC002116.2'</li><li>'AC002127.2'</li><li>'AC002128.2'</li><li>'AC002306.1'</li><li>'AC002310.1'</li><li>'AC002310.2'</li><li>'AC002310.4'</li><li>'AC002310.5'</li><li>'AC002347.1'</li><li>'AC002347.2'</li><li>'AC002351.1'</li><li>'AC002368.1'</li><li>'AC002375.1'</li><li>'AC002378.1'</li><li>'AC002383.1'</li><li>'AC002384.1'</li><li>'AC002386.1'</li><li>'AC002398.1'</li><li>'AC002398.2'</li><li>'AC002401.1'</li><li>'AC002401.2'</li><li>'AC002401.3'</li><li>'AC002401.4'</li><li>'AC002428.1'</li><li>'AC002428.2'</li><li>'AC002429.2'</li><li>'AC002451.1'</li><li>'AC002454.1'</li><li>'AC002456.1'</li><li>'AC002463.1'</li><li>'AC002464.1'</li><li>'AC002465.1'</li><li>'AC002467.1'</li><li>'AC002470.1'</li><li>'AC002472.1'</li><li>'AC002480.2'</li><li>'AC002480.3'</li><li>'AC002480.4'</li><li>'AC002511.1'</li><li>'AC002511.2'</li><li>'AC002546.1'</li><li>'AC002550.1'</li><li>'AC002550.2'</li><li>⋯</li><li>'ZNF695'</li><li>'ZNF696'</li><li>'ZNF697'</li><li>'ZNF699'</li><li>'ZNF7'</li><li>'ZNF70'</li><li>'ZNF700'</li><li>'ZNF701'</li><li>'ZNF703'</li><li>'ZNF704'</li><li>'ZNF705A'</li><li>'ZNF705B'</li><li>'ZNF705D'</li><li>'ZNF705E'</li><li>'ZNF705G'</li><li>'ZNF706'</li><li>'ZNF707'</li><li>'ZNF708'</li><li>'ZNF709'</li><li>'ZNF71'</li><li>'ZNF710'</li><li>'ZNF710-AS1'</li><li>'ZNF711'</li><li>'ZNF713'</li><li>'ZNF714'</li><li>'ZNF716'</li><li>'ZNF717'</li><li>'ZNF718'</li><li>'ZNF720'</li><li>'ZNF721'</li><li>'ZNF723'</li><li>'ZNF724'</li><li>'ZNF726'</li><li>'ZNF727'</li><li>'ZNF728'</li><li>'ZNF729'</li><li>'ZNF730'</li><li>'ZNF732'</li><li>'ZNF735'</li><li>'ZNF736'</li><li>'ZNF737'</li><li>'ZNF738'</li><li>'ZNF74'</li><li>'ZNF740'</li><li>'ZNF746'</li><li>'ZNF747'</li><li>'ZNF749'</li><li>'ZNF750'</li><li>'ZNF75A'</li><li>'ZNF75D'</li><li>'ZNF76'</li><li>'ZNF761'</li><li>'ZNF763'</li><li>'ZNF764'</li><li>'ZNF765'</li><li>'ZNF766'</li><li>'ZNF768'</li><li>'ZNF77'</li><li>'ZNF770'</li><li>'ZNF771'</li><li>'ZNF772'</li><li>'ZNF773'</li><li>'ZNF774'</li><li>'ZNF775'</li><li>'ZNF776'</li><li>'ZNF777'</li><li>'ZNF778'</li><li>'ZNF780A'</li><li>'ZNF780B'</li><li>'ZNF781'</li><li>'ZNF782'</li><li>'ZNF783'</li><li>'ZNF784'</li><li>'ZNF785'</li><li>'ZNF786'</li><li>'ZNF787'</li><li>'ZNF788P'</li><li>'ZNF789'</li><li>'ZNF79'</li><li>'ZNF790'</li><li>'ZNF791'</li><li>'ZNF792'</li><li>'ZNF793'</li><li>'ZNF793-AS1'</li><li>'ZNF799'</li><li>'ZNF8'</li><li>'ZNF80'</li><li>'ZNF800'</li><li>'ZNF804A'</li><li>'ZNF804B'</li><li>'ZNF805'</li><li>'ZNF808'</li><li>'ZNF81'</li><li>'ZNF813'</li><li>'ZNF814'</li><li>'ZNF816'</li><li>'ZNF816-ZNF321P'</li><li>'ZNF821'</li><li>'ZNF823'</li><li>'ZNF827'</li><li>'ZNF829'</li><li>'ZNF83'</li><li>'ZNF830'</li><li>'ZNF831'</li><li>'ZNF835'</li><li>'ZNF836'</li><li>'ZNF837'</li><li>'ZNF839'</li><li>'ZNF84'</li><li>'ZNF841'</li><li>'ZNF843'</li><li>'ZNF844'</li><li>'ZNF845'</li><li>'ZNF846'</li><li>'ZNF85'</li><li>'ZNF850'</li><li>'ZNF852'</li><li>'ZNF853'</li><li>'ZNF860'</li><li>'ZNF862'</li><li>'ZNF865'</li><li>'ZNF878'</li><li>'ZNF879'</li><li>'ZNF880'</li><li>'ZNF883'</li><li>'ZNF888'</li><li>'ZNF891'</li><li>'ZNF90'</li><li>'ZNF91'</li><li>'ZNF92'</li><li>'ZNF93'</li><li>'ZNF98'</li><li>'ZNF99'</li><li>'ZNFX1'</li><li>'ZNHIT1'</li><li>'ZNHIT2'</li><li>'ZNHIT3'</li><li>'ZNHIT6'</li><li>'ZNRD1'</li><li>'ZNRF1'</li><li>'ZNRF2'</li><li>'ZNRF3'</li><li>'ZNRF3-AS1'</li><li>'ZNRF4'</li><li>'ZP1'</li><li>'ZP2'</li><li>'ZP3'</li><li>'ZP4'</li><li>'ZPBP'</li><li>'ZPBP2'</li><li>'ZPLD1'</li><li>'ZPR1'</li><li>'ZRANB1'</li><li>'ZRANB2'</li><li>'ZRANB2-AS1'</li><li>'ZRANB3'</li><li>'ZRSR2'</li><li>'ZSCAN1'</li><li>'ZSCAN10'</li><li>'ZSCAN12'</li><li>'ZSCAN16'</li><li>'ZSCAN16-AS1'</li><li>'ZSCAN18'</li><li>'ZSCAN2'</li><li>'ZSCAN20'</li><li>'ZSCAN21'</li><li>'ZSCAN22'</li><li>'ZSCAN23'</li><li>'ZSCAN25'</li><li>'ZSCAN26'</li><li>'ZSCAN29'</li><li>'ZSCAN30'</li><li>'ZSCAN31'</li><li>'ZSCAN32'</li><li>'ZSCAN4'</li><li>'ZSCAN5A'</li><li>'ZSCAN5B'</li><li>'ZSCAN5C'</li><li>'ZSCAN9'</li><li>'ZSWIM1'</li><li>'ZSWIM2'</li><li>'ZSWIM3'</li><li>'ZSWIM4'</li><li>'ZSWIM5'</li><li>'ZSWIM6'</li><li>'ZSWIM7'</li><li>'ZSWIM8'</li><li>'ZSWIM8-AS1'</li><li>'ZSWIM9'</li><li>'ZUP1'</li><li>'ZW10'</li><li>'ZWILCH'</li><li>'ZWINT'</li><li>'ZXDA'</li><li>'ZXDB'</li><li>'ZXDC'</li><li>'ZYG11A'</li><li>'ZYG11B'</li><li>'ZYX'</li><li>'ZZEF1'</li></ol>\n",
       "</details>"
      ],
      "text/latex": [
       "\\begin{enumerate*}\n",
       "\\item ISG15\n",
       "\\item ISG15\n",
       "\\item ISG15\n",
       "\\item ISG15\n",
       "\\end{enumerate*}\n",
       "\n",
       "\\emph{Levels}: \\begin{enumerate*}\n",
       "\\item 'A1BG'\n",
       "\\item 'A1BG-AS1'\n",
       "\\item 'A1CF'\n",
       "\\item 'A2M'\n",
       "\\item 'A2M-AS1'\n",
       "\\item 'A2ML1'\n",
       "\\item 'A2ML1-AS1'\n",
       "\\item 'A2ML1-AS2'\n",
       "\\item 'A3GALT2'\n",
       "\\item 'A4GALT'\n",
       "\\item 'A4GNT'\n",
       "\\item 'AAAS'\n",
       "\\item 'AACS'\n",
       "\\item 'AADAC'\n",
       "\\item 'AADACL2'\n",
       "\\item 'AADACL2-AS1'\n",
       "\\item 'AADACL3'\n",
       "\\item 'AADACL4'\n",
       "\\item 'AADAT'\n",
       "\\item 'AAED1'\n",
       "\\item 'AAGAB'\n",
       "\\item 'AAK1'\n",
       "\\item 'AAMDC'\n",
       "\\item 'AAMP'\n",
       "\\item 'AANAT'\n",
       "\\item 'AAR2'\n",
       "\\item 'AARD'\n",
       "\\item 'AARS'\n",
       "\\item 'AARS2'\n",
       "\\item 'AARSD1'\n",
       "\\item 'AASDH'\n",
       "\\item 'AASDHPPT'\n",
       "\\item 'AASS'\n",
       "\\item 'AATBC'\n",
       "\\item 'AATF'\n",
       "\\item 'AATK'\n",
       "\\item 'AB015752.1'\n",
       "\\item 'ABALON'\n",
       "\\item 'ABAT'\n",
       "\\item 'ABCA1'\n",
       "\\item 'ABCA10'\n",
       "\\item 'ABCA12'\n",
       "\\item 'ABCA13'\n",
       "\\item 'ABCA2'\n",
       "\\item 'ABCA3'\n",
       "\\item 'ABCA4'\n",
       "\\item 'ABCA5'\n",
       "\\item 'ABCA6'\n",
       "\\item 'ABCA7'\n",
       "\\item 'ABCA8'\n",
       "\\item 'ABCA9'\n",
       "\\item 'ABCA9-AS1'\n",
       "\\item 'ABCB1'\n",
       "\\item 'ABCB10'\n",
       "\\item 'ABCB11'\n",
       "\\item 'ABCB4'\n",
       "\\item 'ABCB5'\n",
       "\\item 'ABCB6'\n",
       "\\item 'ABCB7'\n",
       "\\item 'ABCB8'\n",
       "\\item 'ABCB9'\n",
       "\\item 'ABCC1'\n",
       "\\item 'ABCC10'\n",
       "\\item 'ABCC11'\n",
       "\\item 'ABCC12'\n",
       "\\item 'ABCC2'\n",
       "\\item 'ABCC3'\n",
       "\\item 'ABCC4'\n",
       "\\item 'ABCC5'\n",
       "\\item 'ABCC5-AS1'\n",
       "\\item 'ABCC6'\n",
       "\\item 'ABCC8'\n",
       "\\item 'ABCC9'\n",
       "\\item 'ABCD1'\n",
       "\\item 'ABCD2'\n",
       "\\item 'ABCD3'\n",
       "\\item 'ABCD4'\n",
       "\\item 'ABCE1'\n",
       "\\item 'ABCF1'\n",
       "\\item 'ABCF2'\n",
       "\\item 'ABCF3'\n",
       "\\item 'ABCG1'\n",
       "\\item 'ABCG2'\n",
       "\\item 'ABCG4'\n",
       "\\item 'ABCG5'\n",
       "\\item 'ABCG8'\n",
       "\\item 'ABHD1'\n",
       "\\item 'ABHD10'\n",
       "\\item 'ABHD11'\n",
       "\\item 'ABHD12'\n",
       "\\item 'ABHD12B'\n",
       "\\item 'ABHD13'\n",
       "\\item 'ABHD14A'\n",
       "\\item 'ABHD14A-ACY1'\n",
       "\\item 'ABHD14B'\n",
       "\\item 'ABHD15'\n",
       "\\item 'ABHD15-AS1'\n",
       "\\item 'ABHD16A'\n",
       "\\item 'ABHD16B'\n",
       "\\item 'ABHD17A'\n",
       "\\item 'ABHD17B'\n",
       "\\item 'ABHD17C'\n",
       "\\item 'ABHD18'\n",
       "\\item 'ABHD2'\n",
       "\\item 'ABHD3'\n",
       "\\item 'ABHD4'\n",
       "\\item 'ABHD5'\n",
       "\\item 'ABHD6'\n",
       "\\item 'ABHD8'\n",
       "\\item 'ABI1'\n",
       "\\item 'ABI2'\n",
       "\\item 'ABI3'\n",
       "\\item 'ABI3BP'\n",
       "\\item 'ABL1'\n",
       "\\item 'ABL2'\n",
       "\\item 'ABLIM1'\n",
       "\\item 'ABLIM2'\n",
       "\\item 'ABLIM3'\n",
       "\\item 'ABO'\n",
       "\\item 'ABR'\n",
       "\\item 'ABRA'\n",
       "\\item 'ABRACL'\n",
       "\\item 'ABRAXAS1'\n",
       "\\item 'ABRAXAS2'\n",
       "\\item 'ABT1'\n",
       "\\item 'ABTB1'\n",
       "\\item 'ABTB2'\n",
       "\\item 'AC000032.1'\n",
       "\\item 'AC000035.1'\n",
       "\\item 'AC000036.1'\n",
       "\\item 'AC000058.1'\n",
       "\\item 'AC000061.1'\n",
       "\\item 'AC000067.1'\n",
       "\\item 'AC000068.1'\n",
       "\\item 'AC000068.2'\n",
       "\\item 'AC000068.3'\n",
       "\\item 'AC000093.1'\n",
       "\\item 'AC000099.1'\n",
       "\\item 'AC000123.1'\n",
       "\\item 'AC000124.1'\n",
       "\\item 'AC000372.1'\n",
       "\\item 'AC000403.1'\n",
       "\\item 'AC001226.1'\n",
       "\\item 'AC001226.2'\n",
       "\\item 'AC002056.2'\n",
       "\\item 'AC002064.1'\n",
       "\\item 'AC002064.2'\n",
       "\\item 'AC002066.1'\n",
       "\\item 'AC002070.1'\n",
       "\\item 'AC002074.1'\n",
       "\\item 'AC002076.1'\n",
       "\\item 'AC002091.1'\n",
       "\\item 'AC002091.2'\n",
       "\\item 'AC002094.2'\n",
       "\\item 'AC002094.3'\n",
       "\\item 'AC002101.1'\n",
       "\\item 'AC002115.1'\n",
       "\\item 'AC002116.2'\n",
       "\\item 'AC002127.2'\n",
       "\\item 'AC002128.2'\n",
       "\\item 'AC002306.1'\n",
       "\\item 'AC002310.1'\n",
       "\\item 'AC002310.2'\n",
       "\\item 'AC002310.4'\n",
       "\\item 'AC002310.5'\n",
       "\\item 'AC002347.1'\n",
       "\\item 'AC002347.2'\n",
       "\\item 'AC002351.1'\n",
       "\\item 'AC002368.1'\n",
       "\\item 'AC002375.1'\n",
       "\\item 'AC002378.1'\n",
       "\\item 'AC002383.1'\n",
       "\\item 'AC002384.1'\n",
       "\\item 'AC002386.1'\n",
       "\\item 'AC002398.1'\n",
       "\\item 'AC002398.2'\n",
       "\\item 'AC002401.1'\n",
       "\\item 'AC002401.2'\n",
       "\\item 'AC002401.3'\n",
       "\\item 'AC002401.4'\n",
       "\\item 'AC002428.1'\n",
       "\\item 'AC002428.2'\n",
       "\\item 'AC002429.2'\n",
       "\\item 'AC002451.1'\n",
       "\\item 'AC002454.1'\n",
       "\\item 'AC002456.1'\n",
       "\\item 'AC002463.1'\n",
       "\\item 'AC002464.1'\n",
       "\\item 'AC002465.1'\n",
       "\\item 'AC002467.1'\n",
       "\\item 'AC002470.1'\n",
       "\\item 'AC002472.1'\n",
       "\\item 'AC002480.2'\n",
       "\\item 'AC002480.3'\n",
       "\\item 'AC002480.4'\n",
       "\\item 'AC002511.1'\n",
       "\\item 'AC002511.2'\n",
       "\\item 'AC002546.1'\n",
       "\\item 'AC002550.1'\n",
       "\\item 'AC002550.2'\n",
       "\\item ⋯\n",
       "\\item 'ZNF695'\n",
       "\\item 'ZNF696'\n",
       "\\item 'ZNF697'\n",
       "\\item 'ZNF699'\n",
       "\\item 'ZNF7'\n",
       "\\item 'ZNF70'\n",
       "\\item 'ZNF700'\n",
       "\\item 'ZNF701'\n",
       "\\item 'ZNF703'\n",
       "\\item 'ZNF704'\n",
       "\\item 'ZNF705A'\n",
       "\\item 'ZNF705B'\n",
       "\\item 'ZNF705D'\n",
       "\\item 'ZNF705E'\n",
       "\\item 'ZNF705G'\n",
       "\\item 'ZNF706'\n",
       "\\item 'ZNF707'\n",
       "\\item 'ZNF708'\n",
       "\\item 'ZNF709'\n",
       "\\item 'ZNF71'\n",
       "\\item 'ZNF710'\n",
       "\\item 'ZNF710-AS1'\n",
       "\\item 'ZNF711'\n",
       "\\item 'ZNF713'\n",
       "\\item 'ZNF714'\n",
       "\\item 'ZNF716'\n",
       "\\item 'ZNF717'\n",
       "\\item 'ZNF718'\n",
       "\\item 'ZNF720'\n",
       "\\item 'ZNF721'\n",
       "\\item 'ZNF723'\n",
       "\\item 'ZNF724'\n",
       "\\item 'ZNF726'\n",
       "\\item 'ZNF727'\n",
       "\\item 'ZNF728'\n",
       "\\item 'ZNF729'\n",
       "\\item 'ZNF730'\n",
       "\\item 'ZNF732'\n",
       "\\item 'ZNF735'\n",
       "\\item 'ZNF736'\n",
       "\\item 'ZNF737'\n",
       "\\item 'ZNF738'\n",
       "\\item 'ZNF74'\n",
       "\\item 'ZNF740'\n",
       "\\item 'ZNF746'\n",
       "\\item 'ZNF747'\n",
       "\\item 'ZNF749'\n",
       "\\item 'ZNF750'\n",
       "\\item 'ZNF75A'\n",
       "\\item 'ZNF75D'\n",
       "\\item 'ZNF76'\n",
       "\\item 'ZNF761'\n",
       "\\item 'ZNF763'\n",
       "\\item 'ZNF764'\n",
       "\\item 'ZNF765'\n",
       "\\item 'ZNF766'\n",
       "\\item 'ZNF768'\n",
       "\\item 'ZNF77'\n",
       "\\item 'ZNF770'\n",
       "\\item 'ZNF771'\n",
       "\\item 'ZNF772'\n",
       "\\item 'ZNF773'\n",
       "\\item 'ZNF774'\n",
       "\\item 'ZNF775'\n",
       "\\item 'ZNF776'\n",
       "\\item 'ZNF777'\n",
       "\\item 'ZNF778'\n",
       "\\item 'ZNF780A'\n",
       "\\item 'ZNF780B'\n",
       "\\item 'ZNF781'\n",
       "\\item 'ZNF782'\n",
       "\\item 'ZNF783'\n",
       "\\item 'ZNF784'\n",
       "\\item 'ZNF785'\n",
       "\\item 'ZNF786'\n",
       "\\item 'ZNF787'\n",
       "\\item 'ZNF788P'\n",
       "\\item 'ZNF789'\n",
       "\\item 'ZNF79'\n",
       "\\item 'ZNF790'\n",
       "\\item 'ZNF791'\n",
       "\\item 'ZNF792'\n",
       "\\item 'ZNF793'\n",
       "\\item 'ZNF793-AS1'\n",
       "\\item 'ZNF799'\n",
       "\\item 'ZNF8'\n",
       "\\item 'ZNF80'\n",
       "\\item 'ZNF800'\n",
       "\\item 'ZNF804A'\n",
       "\\item 'ZNF804B'\n",
       "\\item 'ZNF805'\n",
       "\\item 'ZNF808'\n",
       "\\item 'ZNF81'\n",
       "\\item 'ZNF813'\n",
       "\\item 'ZNF814'\n",
       "\\item 'ZNF816'\n",
       "\\item 'ZNF816-ZNF321P'\n",
       "\\item 'ZNF821'\n",
       "\\item 'ZNF823'\n",
       "\\item 'ZNF827'\n",
       "\\item 'ZNF829'\n",
       "\\item 'ZNF83'\n",
       "\\item 'ZNF830'\n",
       "\\item 'ZNF831'\n",
       "\\item 'ZNF835'\n",
       "\\item 'ZNF836'\n",
       "\\item 'ZNF837'\n",
       "\\item 'ZNF839'\n",
       "\\item 'ZNF84'\n",
       "\\item 'ZNF841'\n",
       "\\item 'ZNF843'\n",
       "\\item 'ZNF844'\n",
       "\\item 'ZNF845'\n",
       "\\item 'ZNF846'\n",
       "\\item 'ZNF85'\n",
       "\\item 'ZNF850'\n",
       "\\item 'ZNF852'\n",
       "\\item 'ZNF853'\n",
       "\\item 'ZNF860'\n",
       "\\item 'ZNF862'\n",
       "\\item 'ZNF865'\n",
       "\\item 'ZNF878'\n",
       "\\item 'ZNF879'\n",
       "\\item 'ZNF880'\n",
       "\\item 'ZNF883'\n",
       "\\item 'ZNF888'\n",
       "\\item 'ZNF891'\n",
       "\\item 'ZNF90'\n",
       "\\item 'ZNF91'\n",
       "\\item 'ZNF92'\n",
       "\\item 'ZNF93'\n",
       "\\item 'ZNF98'\n",
       "\\item 'ZNF99'\n",
       "\\item 'ZNFX1'\n",
       "\\item 'ZNHIT1'\n",
       "\\item 'ZNHIT2'\n",
       "\\item 'ZNHIT3'\n",
       "\\item 'ZNHIT6'\n",
       "\\item 'ZNRD1'\n",
       "\\item 'ZNRF1'\n",
       "\\item 'ZNRF2'\n",
       "\\item 'ZNRF3'\n",
       "\\item 'ZNRF3-AS1'\n",
       "\\item 'ZNRF4'\n",
       "\\item 'ZP1'\n",
       "\\item 'ZP2'\n",
       "\\item 'ZP3'\n",
       "\\item 'ZP4'\n",
       "\\item 'ZPBP'\n",
       "\\item 'ZPBP2'\n",
       "\\item 'ZPLD1'\n",
       "\\item 'ZPR1'\n",
       "\\item 'ZRANB1'\n",
       "\\item 'ZRANB2'\n",
       "\\item 'ZRANB2-AS1'\n",
       "\\item 'ZRANB3'\n",
       "\\item 'ZRSR2'\n",
       "\\item 'ZSCAN1'\n",
       "\\item 'ZSCAN10'\n",
       "\\item 'ZSCAN12'\n",
       "\\item 'ZSCAN16'\n",
       "\\item 'ZSCAN16-AS1'\n",
       "\\item 'ZSCAN18'\n",
       "\\item 'ZSCAN2'\n",
       "\\item 'ZSCAN20'\n",
       "\\item 'ZSCAN21'\n",
       "\\item 'ZSCAN22'\n",
       "\\item 'ZSCAN23'\n",
       "\\item 'ZSCAN25'\n",
       "\\item 'ZSCAN26'\n",
       "\\item 'ZSCAN29'\n",
       "\\item 'ZSCAN30'\n",
       "\\item 'ZSCAN31'\n",
       "\\item 'ZSCAN32'\n",
       "\\item 'ZSCAN4'\n",
       "\\item 'ZSCAN5A'\n",
       "\\item 'ZSCAN5B'\n",
       "\\item 'ZSCAN5C'\n",
       "\\item 'ZSCAN9'\n",
       "\\item 'ZSWIM1'\n",
       "\\item 'ZSWIM2'\n",
       "\\item 'ZSWIM3'\n",
       "\\item 'ZSWIM4'\n",
       "\\item 'ZSWIM5'\n",
       "\\item 'ZSWIM6'\n",
       "\\item 'ZSWIM7'\n",
       "\\item 'ZSWIM8'\n",
       "\\item 'ZSWIM8-AS1'\n",
       "\\item 'ZSWIM9'\n",
       "\\item 'ZUP1'\n",
       "\\item 'ZW10'\n",
       "\\item 'ZWILCH'\n",
       "\\item 'ZWINT'\n",
       "\\item 'ZXDA'\n",
       "\\item 'ZXDB'\n",
       "\\item 'ZXDC'\n",
       "\\item 'ZYG11A'\n",
       "\\item 'ZYG11B'\n",
       "\\item 'ZYX'\n",
       "\\item 'ZZEF1'\n",
       "\\end{enumerate*}\n"
      ],
      "text/markdown": [
       "1. ISG15\n",
       "2. ISG15\n",
       "3. ISG15\n",
       "4. ISG15\n",
       "\n",
       "\n",
       "\n",
       "**Levels**: 1. 'A1BG'\n",
       "2. 'A1BG-AS1'\n",
       "3. 'A1CF'\n",
       "4. 'A2M'\n",
       "5. 'A2M-AS1'\n",
       "6. 'A2ML1'\n",
       "7. 'A2ML1-AS1'\n",
       "8. 'A2ML1-AS2'\n",
       "9. 'A3GALT2'\n",
       "10. 'A4GALT'\n",
       "11. 'A4GNT'\n",
       "12. 'AAAS'\n",
       "13. 'AACS'\n",
       "14. 'AADAC'\n",
       "15. 'AADACL2'\n",
       "16. 'AADACL2-AS1'\n",
       "17. 'AADACL3'\n",
       "18. 'AADACL4'\n",
       "19. 'AADAT'\n",
       "20. 'AAED1'\n",
       "21. 'AAGAB'\n",
       "22. 'AAK1'\n",
       "23. 'AAMDC'\n",
       "24. 'AAMP'\n",
       "25. 'AANAT'\n",
       "26. 'AAR2'\n",
       "27. 'AARD'\n",
       "28. 'AARS'\n",
       "29. 'AARS2'\n",
       "30. 'AARSD1'\n",
       "31. 'AASDH'\n",
       "32. 'AASDHPPT'\n",
       "33. 'AASS'\n",
       "34. 'AATBC'\n",
       "35. 'AATF'\n",
       "36. 'AATK'\n",
       "37. 'AB015752.1'\n",
       "38. 'ABALON'\n",
       "39. 'ABAT'\n",
       "40. 'ABCA1'\n",
       "41. 'ABCA10'\n",
       "42. 'ABCA12'\n",
       "43. 'ABCA13'\n",
       "44. 'ABCA2'\n",
       "45. 'ABCA3'\n",
       "46. 'ABCA4'\n",
       "47. 'ABCA5'\n",
       "48. 'ABCA6'\n",
       "49. 'ABCA7'\n",
       "50. 'ABCA8'\n",
       "51. 'ABCA9'\n",
       "52. 'ABCA9-AS1'\n",
       "53. 'ABCB1'\n",
       "54. 'ABCB10'\n",
       "55. 'ABCB11'\n",
       "56. 'ABCB4'\n",
       "57. 'ABCB5'\n",
       "58. 'ABCB6'\n",
       "59. 'ABCB7'\n",
       "60. 'ABCB8'\n",
       "61. 'ABCB9'\n",
       "62. 'ABCC1'\n",
       "63. 'ABCC10'\n",
       "64. 'ABCC11'\n",
       "65. 'ABCC12'\n",
       "66. 'ABCC2'\n",
       "67. 'ABCC3'\n",
       "68. 'ABCC4'\n",
       "69. 'ABCC5'\n",
       "70. 'ABCC5-AS1'\n",
       "71. 'ABCC6'\n",
       "72. 'ABCC8'\n",
       "73. 'ABCC9'\n",
       "74. 'ABCD1'\n",
       "75. 'ABCD2'\n",
       "76. 'ABCD3'\n",
       "77. 'ABCD4'\n",
       "78. 'ABCE1'\n",
       "79. 'ABCF1'\n",
       "80. 'ABCF2'\n",
       "81. 'ABCF3'\n",
       "82. 'ABCG1'\n",
       "83. 'ABCG2'\n",
       "84. 'ABCG4'\n",
       "85. 'ABCG5'\n",
       "86. 'ABCG8'\n",
       "87. 'ABHD1'\n",
       "88. 'ABHD10'\n",
       "89. 'ABHD11'\n",
       "90. 'ABHD12'\n",
       "91. 'ABHD12B'\n",
       "92. 'ABHD13'\n",
       "93. 'ABHD14A'\n",
       "94. 'ABHD14A-ACY1'\n",
       "95. 'ABHD14B'\n",
       "96. 'ABHD15'\n",
       "97. 'ABHD15-AS1'\n",
       "98. 'ABHD16A'\n",
       "99. 'ABHD16B'\n",
       "100. 'ABHD17A'\n",
       "101. 'ABHD17B'\n",
       "102. 'ABHD17C'\n",
       "103. 'ABHD18'\n",
       "104. 'ABHD2'\n",
       "105. 'ABHD3'\n",
       "106. 'ABHD4'\n",
       "107. 'ABHD5'\n",
       "108. 'ABHD6'\n",
       "109. 'ABHD8'\n",
       "110. 'ABI1'\n",
       "111. 'ABI2'\n",
       "112. 'ABI3'\n",
       "113. 'ABI3BP'\n",
       "114. 'ABL1'\n",
       "115. 'ABL2'\n",
       "116. 'ABLIM1'\n",
       "117. 'ABLIM2'\n",
       "118. 'ABLIM3'\n",
       "119. 'ABO'\n",
       "120. 'ABR'\n",
       "121. 'ABRA'\n",
       "122. 'ABRACL'\n",
       "123. 'ABRAXAS1'\n",
       "124. 'ABRAXAS2'\n",
       "125. 'ABT1'\n",
       "126. 'ABTB1'\n",
       "127. 'ABTB2'\n",
       "128. 'AC000032.1'\n",
       "129. 'AC000035.1'\n",
       "130. 'AC000036.1'\n",
       "131. 'AC000058.1'\n",
       "132. 'AC000061.1'\n",
       "133. 'AC000067.1'\n",
       "134. 'AC000068.1'\n",
       "135. 'AC000068.2'\n",
       "136. 'AC000068.3'\n",
       "137. 'AC000093.1'\n",
       "138. 'AC000099.1'\n",
       "139. 'AC000123.1'\n",
       "140. 'AC000124.1'\n",
       "141. 'AC000372.1'\n",
       "142. 'AC000403.1'\n",
       "143. 'AC001226.1'\n",
       "144. 'AC001226.2'\n",
       "145. 'AC002056.2'\n",
       "146. 'AC002064.1'\n",
       "147. 'AC002064.2'\n",
       "148. 'AC002066.1'\n",
       "149. 'AC002070.1'\n",
       "150. 'AC002074.1'\n",
       "151. 'AC002076.1'\n",
       "152. 'AC002091.1'\n",
       "153. 'AC002091.2'\n",
       "154. 'AC002094.2'\n",
       "155. 'AC002094.3'\n",
       "156. 'AC002101.1'\n",
       "157. 'AC002115.1'\n",
       "158. 'AC002116.2'\n",
       "159. 'AC002127.2'\n",
       "160. 'AC002128.2'\n",
       "161. 'AC002306.1'\n",
       "162. 'AC002310.1'\n",
       "163. 'AC002310.2'\n",
       "164. 'AC002310.4'\n",
       "165. 'AC002310.5'\n",
       "166. 'AC002347.1'\n",
       "167. 'AC002347.2'\n",
       "168. 'AC002351.1'\n",
       "169. 'AC002368.1'\n",
       "170. 'AC002375.1'\n",
       "171. 'AC002378.1'\n",
       "172. 'AC002383.1'\n",
       "173. 'AC002384.1'\n",
       "174. 'AC002386.1'\n",
       "175. 'AC002398.1'\n",
       "176. 'AC002398.2'\n",
       "177. 'AC002401.1'\n",
       "178. 'AC002401.2'\n",
       "179. 'AC002401.3'\n",
       "180. 'AC002401.4'\n",
       "181. 'AC002428.1'\n",
       "182. 'AC002428.2'\n",
       "183. 'AC002429.2'\n",
       "184. 'AC002451.1'\n",
       "185. 'AC002454.1'\n",
       "186. 'AC002456.1'\n",
       "187. 'AC002463.1'\n",
       "188. 'AC002464.1'\n",
       "189. 'AC002465.1'\n",
       "190. 'AC002467.1'\n",
       "191. 'AC002470.1'\n",
       "192. 'AC002472.1'\n",
       "193. 'AC002480.2'\n",
       "194. 'AC002480.3'\n",
       "195. 'AC002480.4'\n",
       "196. 'AC002511.1'\n",
       "197. 'AC002511.2'\n",
       "198. 'AC002546.1'\n",
       "199. 'AC002550.1'\n",
       "200. 'AC002550.2'\n",
       "201. ⋯\n",
       "202. 'ZNF695'\n",
       "203. 'ZNF696'\n",
       "204. 'ZNF697'\n",
       "205. 'ZNF699'\n",
       "206. 'ZNF7'\n",
       "207. 'ZNF70'\n",
       "208. 'ZNF700'\n",
       "209. 'ZNF701'\n",
       "210. 'ZNF703'\n",
       "211. 'ZNF704'\n",
       "212. 'ZNF705A'\n",
       "213. 'ZNF705B'\n",
       "214. 'ZNF705D'\n",
       "215. 'ZNF705E'\n",
       "216. 'ZNF705G'\n",
       "217. 'ZNF706'\n",
       "218. 'ZNF707'\n",
       "219. 'ZNF708'\n",
       "220. 'ZNF709'\n",
       "221. 'ZNF71'\n",
       "222. 'ZNF710'\n",
       "223. 'ZNF710-AS1'\n",
       "224. 'ZNF711'\n",
       "225. 'ZNF713'\n",
       "226. 'ZNF714'\n",
       "227. 'ZNF716'\n",
       "228. 'ZNF717'\n",
       "229. 'ZNF718'\n",
       "230. 'ZNF720'\n",
       "231. 'ZNF721'\n",
       "232. 'ZNF723'\n",
       "233. 'ZNF724'\n",
       "234. 'ZNF726'\n",
       "235. 'ZNF727'\n",
       "236. 'ZNF728'\n",
       "237. 'ZNF729'\n",
       "238. 'ZNF730'\n",
       "239. 'ZNF732'\n",
       "240. 'ZNF735'\n",
       "241. 'ZNF736'\n",
       "242. 'ZNF737'\n",
       "243. 'ZNF738'\n",
       "244. 'ZNF74'\n",
       "245. 'ZNF740'\n",
       "246. 'ZNF746'\n",
       "247. 'ZNF747'\n",
       "248. 'ZNF749'\n",
       "249. 'ZNF750'\n",
       "250. 'ZNF75A'\n",
       "251. 'ZNF75D'\n",
       "252. 'ZNF76'\n",
       "253. 'ZNF761'\n",
       "254. 'ZNF763'\n",
       "255. 'ZNF764'\n",
       "256. 'ZNF765'\n",
       "257. 'ZNF766'\n",
       "258. 'ZNF768'\n",
       "259. 'ZNF77'\n",
       "260. 'ZNF770'\n",
       "261. 'ZNF771'\n",
       "262. 'ZNF772'\n",
       "263. 'ZNF773'\n",
       "264. 'ZNF774'\n",
       "265. 'ZNF775'\n",
       "266. 'ZNF776'\n",
       "267. 'ZNF777'\n",
       "268. 'ZNF778'\n",
       "269. 'ZNF780A'\n",
       "270. 'ZNF780B'\n",
       "271. 'ZNF781'\n",
       "272. 'ZNF782'\n",
       "273. 'ZNF783'\n",
       "274. 'ZNF784'\n",
       "275. 'ZNF785'\n",
       "276. 'ZNF786'\n",
       "277. 'ZNF787'\n",
       "278. 'ZNF788P'\n",
       "279. 'ZNF789'\n",
       "280. 'ZNF79'\n",
       "281. 'ZNF790'\n",
       "282. 'ZNF791'\n",
       "283. 'ZNF792'\n",
       "284. 'ZNF793'\n",
       "285. 'ZNF793-AS1'\n",
       "286. 'ZNF799'\n",
       "287. 'ZNF8'\n",
       "288. 'ZNF80'\n",
       "289. 'ZNF800'\n",
       "290. 'ZNF804A'\n",
       "291. 'ZNF804B'\n",
       "292. 'ZNF805'\n",
       "293. 'ZNF808'\n",
       "294. 'ZNF81'\n",
       "295. 'ZNF813'\n",
       "296. 'ZNF814'\n",
       "297. 'ZNF816'\n",
       "298. 'ZNF816-ZNF321P'\n",
       "299. 'ZNF821'\n",
       "300. 'ZNF823'\n",
       "301. 'ZNF827'\n",
       "302. 'ZNF829'\n",
       "303. 'ZNF83'\n",
       "304. 'ZNF830'\n",
       "305. 'ZNF831'\n",
       "306. 'ZNF835'\n",
       "307. 'ZNF836'\n",
       "308. 'ZNF837'\n",
       "309. 'ZNF839'\n",
       "310. 'ZNF84'\n",
       "311. 'ZNF841'\n",
       "312. 'ZNF843'\n",
       "313. 'ZNF844'\n",
       "314. 'ZNF845'\n",
       "315. 'ZNF846'\n",
       "316. 'ZNF85'\n",
       "317. 'ZNF850'\n",
       "318. 'ZNF852'\n",
       "319. 'ZNF853'\n",
       "320. 'ZNF860'\n",
       "321. 'ZNF862'\n",
       "322. 'ZNF865'\n",
       "323. 'ZNF878'\n",
       "324. 'ZNF879'\n",
       "325. 'ZNF880'\n",
       "326. 'ZNF883'\n",
       "327. 'ZNF888'\n",
       "328. 'ZNF891'\n",
       "329. 'ZNF90'\n",
       "330. 'ZNF91'\n",
       "331. 'ZNF92'\n",
       "332. 'ZNF93'\n",
       "333. 'ZNF98'\n",
       "334. 'ZNF99'\n",
       "335. 'ZNFX1'\n",
       "336. 'ZNHIT1'\n",
       "337. 'ZNHIT2'\n",
       "338. 'ZNHIT3'\n",
       "339. 'ZNHIT6'\n",
       "340. 'ZNRD1'\n",
       "341. 'ZNRF1'\n",
       "342. 'ZNRF2'\n",
       "343. 'ZNRF3'\n",
       "344. 'ZNRF3-AS1'\n",
       "345. 'ZNRF4'\n",
       "346. 'ZP1'\n",
       "347. 'ZP2'\n",
       "348. 'ZP3'\n",
       "349. 'ZP4'\n",
       "350. 'ZPBP'\n",
       "351. 'ZPBP2'\n",
       "352. 'ZPLD1'\n",
       "353. 'ZPR1'\n",
       "354. 'ZRANB1'\n",
       "355. 'ZRANB2'\n",
       "356. 'ZRANB2-AS1'\n",
       "357. 'ZRANB3'\n",
       "358. 'ZRSR2'\n",
       "359. 'ZSCAN1'\n",
       "360. 'ZSCAN10'\n",
       "361. 'ZSCAN12'\n",
       "362. 'ZSCAN16'\n",
       "363. 'ZSCAN16-AS1'\n",
       "364. 'ZSCAN18'\n",
       "365. 'ZSCAN2'\n",
       "366. 'ZSCAN20'\n",
       "367. 'ZSCAN21'\n",
       "368. 'ZSCAN22'\n",
       "369. 'ZSCAN23'\n",
       "370. 'ZSCAN25'\n",
       "371. 'ZSCAN26'\n",
       "372. 'ZSCAN29'\n",
       "373. 'ZSCAN30'\n",
       "374. 'ZSCAN31'\n",
       "375. 'ZSCAN32'\n",
       "376. 'ZSCAN4'\n",
       "377. 'ZSCAN5A'\n",
       "378. 'ZSCAN5B'\n",
       "379. 'ZSCAN5C'\n",
       "380. 'ZSCAN9'\n",
       "381. 'ZSWIM1'\n",
       "382. 'ZSWIM2'\n",
       "383. 'ZSWIM3'\n",
       "384. 'ZSWIM4'\n",
       "385. 'ZSWIM5'\n",
       "386. 'ZSWIM6'\n",
       "387. 'ZSWIM7'\n",
       "388. 'ZSWIM8'\n",
       "389. 'ZSWIM8-AS1'\n",
       "390. 'ZSWIM9'\n",
       "391. 'ZUP1'\n",
       "392. 'ZW10'\n",
       "393. 'ZWILCH'\n",
       "394. 'ZWINT'\n",
       "395. 'ZXDA'\n",
       "396. 'ZXDB'\n",
       "397. 'ZXDC'\n",
       "398. 'ZYG11A'\n",
       "399. 'ZYG11B'\n",
       "400. 'ZYX'\n",
       "401. 'ZZEF1'\n",
       "\n",
       "\n"
      ],
      "text/plain": [
       "[1] ISG15 ISG15 ISG15 ISG15\n",
       "33514 Levels: A1BG A1BG-AS1 A1CF A2M A2M-AS1 A2ML1 A2ML1-AS1 A2ML1-AS2 ... ZZEF1"
      ]
     },
     "metadata": {},
     "output_type": "display_data"
    }
   ],
   "source": [
    "all_coef_m2[1:4, c(1,2,5,6,7,8) ]\n",
    "all_coef_m2$gene_short_name[1:4]"
   ]
  },
  {
   "cell_type": "code",
   "execution_count": null,
   "metadata": {},
   "outputs": [],
   "source": []
  },
  {
   "cell_type": "code",
   "execution_count": null,
   "metadata": {},
   "outputs": [],
   "source": []
  },
  {
   "cell_type": "code",
   "execution_count": 89,
   "metadata": {},
   "outputs": [
    {
     "data": {
      "text/html": [
       "'ISG15'"
      ],
      "text/latex": [
       "'ISG15'"
      ],
      "text/markdown": [
       "'ISG15'"
      ],
      "text/plain": [
       "[1] \"ISG15\""
      ]
     },
     "metadata": {},
     "output_type": "display_data"
    }
   ],
   "source": [
    "eGENE <- exprs(vsmcmod_cds)[gene_num,]\n",
    "# eGENE <- scale(eGENE)\n",
    "eGENE <- as.data.frame(eGENE, stringsAsFactors = FALSE)\n",
    "as.character(geneid2short[rownames(vsmcmod_cds)[gene_num]])"
   ]
  },
  {
   "cell_type": "code",
   "execution_count": 90,
   "metadata": {},
   "outputs": [
    {
     "data": {
      "text/html": [
       "<table>\n",
       "<caption>A data.frame: 6 × 5</caption>\n",
       "<thead>\n",
       "\t<tr><th></th><th scope=col>eGENE</th><th scope=col>patient</th><th scope=col>condition</th><th scope=col>subgrp</th><th scope=col>subgrp_cont</th></tr>\n",
       "\t<tr><th></th><th scope=col>&lt;dbl&gt;</th><th scope=col>&lt;fct&gt;</th><th scope=col>&lt;fct&gt;</th><th scope=col>&lt;fct&gt;</th><th scope=col>&lt;dbl&gt;</th></tr>\n",
       "</thead>\n",
       "<tbody>\n",
       "\t<tr><th scope=row>TTAGTCTTCGAGAACG-1</th><td>0</td><td>ID Number 1</td><td>healthy</td><td>group4</td><td>0.722819594</td></tr>\n",
       "\t<tr><th scope=row>AGACCCGGTATCCTCC-1</th><td>1</td><td>ID Number 1</td><td>healthy</td><td>group1</td><td>0.007889546</td></tr>\n",
       "\t<tr><th scope=row>CAAGAGGGTGGAAATT-5</th><td>0</td><td>ID Number 3</td><td>healthy</td><td>group4</td><td>0.722819594</td></tr>\n",
       "\t<tr><th scope=row>ACTGCAACACCAATTG-5</th><td>0</td><td>ID Number 3</td><td>healthy</td><td>group1</td><td>0.007889546</td></tr>\n",
       "\t<tr><th scope=row>GTATTTCTCCGAGAAG-1</th><td>0</td><td>ID Number 1</td><td>healthy</td><td>group3</td><td>0.717850288</td></tr>\n",
       "\t<tr><th scope=row>TATTTCGAGTACCCTA-1</th><td>1</td><td>ID Number 1</td><td>healthy</td><td>group1</td><td>0.007889546</td></tr>\n",
       "</tbody>\n",
       "</table>\n"
      ],
      "text/latex": [
       "A data.frame: 6 × 5\n",
       "\\begin{tabular}{r|lllll}\n",
       "  & eGENE & patient & condition & subgrp & subgrp\\_cont\\\\\n",
       "  & <dbl> & <fct> & <fct> & <fct> & <dbl>\\\\\n",
       "\\hline\n",
       "\tTTAGTCTTCGAGAACG-1 & 0 & ID Number 1 & healthy & group4 & 0.722819594\\\\\n",
       "\tAGACCCGGTATCCTCC-1 & 1 & ID Number 1 & healthy & group1 & 0.007889546\\\\\n",
       "\tCAAGAGGGTGGAAATT-5 & 0 & ID Number 3 & healthy & group4 & 0.722819594\\\\\n",
       "\tACTGCAACACCAATTG-5 & 0 & ID Number 3 & healthy & group1 & 0.007889546\\\\\n",
       "\tGTATTTCTCCGAGAAG-1 & 0 & ID Number 1 & healthy & group3 & 0.717850288\\\\\n",
       "\tTATTTCGAGTACCCTA-1 & 1 & ID Number 1 & healthy & group1 & 0.007889546\\\\\n",
       "\\end{tabular}\n"
      ],
      "text/markdown": [
       "\n",
       "A data.frame: 6 × 5\n",
       "\n",
       "| <!--/--> | eGENE &lt;dbl&gt; | patient &lt;fct&gt; | condition &lt;fct&gt; | subgrp &lt;fct&gt; | subgrp_cont &lt;dbl&gt; |\n",
       "|---|---|---|---|---|---|\n",
       "| TTAGTCTTCGAGAACG-1 | 0 | ID Number 1 | healthy | group4 | 0.722819594 |\n",
       "| AGACCCGGTATCCTCC-1 | 1 | ID Number 1 | healthy | group1 | 0.007889546 |\n",
       "| CAAGAGGGTGGAAATT-5 | 0 | ID Number 3 | healthy | group4 | 0.722819594 |\n",
       "| ACTGCAACACCAATTG-5 | 0 | ID Number 3 | healthy | group1 | 0.007889546 |\n",
       "| GTATTTCTCCGAGAAG-1 | 0 | ID Number 1 | healthy | group3 | 0.717850288 |\n",
       "| TATTTCGAGTACCCTA-1 | 1 | ID Number 1 | healthy | group1 | 0.007889546 |\n",
       "\n"
      ],
      "text/plain": [
       "                   eGENE patient     condition subgrp subgrp_cont\n",
       "TTAGTCTTCGAGAACG-1 0     ID Number 1 healthy   group4 0.722819594\n",
       "AGACCCGGTATCCTCC-1 1     ID Number 1 healthy   group1 0.007889546\n",
       "CAAGAGGGTGGAAATT-5 0     ID Number 3 healthy   group4 0.722819594\n",
       "ACTGCAACACCAATTG-5 0     ID Number 3 healthy   group1 0.007889546\n",
       "GTATTTCTCCGAGAAG-1 0     ID Number 1 healthy   group3 0.717850288\n",
       "TATTTCGAGTACCCTA-1 1     ID Number 1 healthy   group1 0.007889546"
      ]
     },
     "metadata": {},
     "output_type": "display_data"
    }
   ],
   "source": [
    "GENE <- as.data.frame(cbind(eGENE, colData(vsmcmod_cds)$patient,\n",
    "                             colData(vsmcmod_cds)$condition,\n",
    "                             colData(vsmcmod_cds)$subgrp,\n",
    "                             colData(vsmcmod_cds)$subgrp_cont))\n",
    "GENE[, 1] <- as.numeric(GENE[, 1])\n",
    "colnames(GENE) <- c('eGENE', 'patient', 'condition', 'subgrp', 'subgrp_cont')\n",
    "head(GENE)"
   ]
  },
  {
   "cell_type": "code",
   "execution_count": null,
   "metadata": {},
   "outputs": [],
   "source": []
  },
  {
   "cell_type": "code",
   "execution_count": null,
   "metadata": {},
   "outputs": [],
   "source": []
  },
  {
   "cell_type": "code",
   "execution_count": null,
   "metadata": {},
   "outputs": [],
   "source": []
  },
  {
   "cell_type": "code",
   "execution_count": 91,
   "metadata": {},
   "outputs": [
    {
     "data": {
      "text/plain": [
       "\n",
       "Call:\n",
       "glm(formula = paste(eGENE, mod0), family = ft2, data = GENE)\n",
       "\n",
       "Deviance Residuals: \n",
       "    Min       1Q   Median       3Q      Max  \n",
       "-1.0968  -0.9961  -0.7244  -0.7244  12.7600  \n",
       "\n",
       "Coefficients:\n",
       "                   Estimate Std. Error z value Pr(>|z|)    \n",
       "(Intercept)        -0.70091    0.05096 -13.753   <2e-16 ***\n",
       "patientID Number 2  0.19254    0.07526   2.558   0.0105 *  \n",
       "patientID Number 3 -0.63693    0.07730  -8.239   <2e-16 ***\n",
       "---\n",
       "Signif. codes:  0 ‘***’ 0.001 ‘**’ 0.01 ‘*’ 0.05 ‘.’ 0.1 ‘ ’ 1\n",
       "\n",
       "(Dispersion parameter for poisson family taken to be 1)\n",
       "\n",
       "    Null deviance: 3734.2  on 2445  degrees of freedom\n",
       "Residual deviance: 3610.0  on 2443  degrees of freedom\n",
       "AIC: 4876.6\n",
       "\n",
       "Number of Fisher Scoring iterations: 6\n"
      ]
     },
     "metadata": {},
     "output_type": "display_data"
    },
    {
     "data": {
      "text/plain": [
       "\n",
       "Call:\n",
       "glm(formula = paste(eGENE, mod1), family = ft2, data = GENE)\n",
       "\n",
       "Deviance Residuals: \n",
       "    Min       1Q   Median       3Q      Max  \n",
       "-1.4915  -0.8752  -0.6551  -0.5522  11.0962  \n",
       "\n",
       "Coefficients:\n",
       "                   Estimate Std. Error z value Pr(>|z|)    \n",
       "(Intercept)        -1.30166    0.10673 -12.195  < 2e-16 ***\n",
       "patientID Number 2  0.05152    0.07811   0.660  0.50951    \n",
       "patientID Number 3 -0.57916    0.07750  -7.473 7.87e-14 ***\n",
       "subgrpgroup2        0.34188    0.12436   2.749  0.00597 ** \n",
       "subgrpgroup3        1.35650    0.11030  12.299  < 2e-16 ***\n",
       "subgrpgroup4        0.31492    0.11801   2.669  0.00762 ** \n",
       "---\n",
       "Signif. codes:  0 ‘***’ 0.001 ‘**’ 0.01 ‘*’ 0.05 ‘.’ 0.1 ‘ ’ 1\n",
       "\n",
       "(Dispersion parameter for poisson family taken to be 1)\n",
       "\n",
       "    Null deviance: 3734.2  on 2445  degrees of freedom\n",
       "Residual deviance: 3324.7  on 2440  degrees of freedom\n",
       "AIC: 4597.4\n",
       "\n",
       "Number of Fisher Scoring iterations: 6\n"
      ]
     },
     "metadata": {},
     "output_type": "display_data"
    },
    {
     "data": {
      "text/plain": [
       "\n",
       "Call:\n",
       "glm(formula = paste(eGENE, mod2), family = ft2, data = GENE)\n",
       "\n",
       "Deviance Residuals: \n",
       "    Min       1Q   Median       3Q      Max  \n",
       "-1.2468  -1.0121  -0.8166  -0.5063  12.3338  \n",
       "\n",
       "Coefficients:\n",
       "                   Estimate Std. Error z value Pr(>|z|)    \n",
       "(Intercept)        -1.46552    0.10041 -14.596  < 2e-16 ***\n",
       "patientID Number 2  0.24016    0.07555   3.179  0.00148 ** \n",
       "patientID Number 3 -0.59954    0.07735  -7.751 9.09e-15 ***\n",
       "subgrp_cont         1.34673    0.14256   9.447  < 2e-16 ***\n",
       "---\n",
       "Signif. codes:  0 ‘***’ 0.001 ‘**’ 0.01 ‘*’ 0.05 ‘.’ 0.1 ‘ ’ 1\n",
       "\n",
       "(Dispersion parameter for poisson family taken to be 1)\n",
       "\n",
       "    Null deviance: 3734.2  on 2445  degrees of freedom\n",
       "Residual deviance: 3506.0  on 2442  degrees of freedom\n",
       "AIC: 4774.6\n",
       "\n",
       "Number of Fisher Scoring iterations: 6\n"
      ]
     },
     "metadata": {},
     "output_type": "display_data"
    }
   ],
   "source": [
    "## Try using GLM on the same models (family type is selected independently)\n",
    "family_type_sel2 <- 5\n",
    "ft2 <- c('quasipoisson', 'negbinomial', 'gaussian', 'binomial', 'poisson')[family_type_sel2]\n",
    "GENE_mod0 <- glm(paste(eGENE, mod0), data = GENE, family = ft2)\n",
    "GENE_mod1 <- glm(paste(eGENE, mod1), data = GENE, family = ft2)\n",
    "GENE_mod2 <- glm(paste(eGENE, mod2), data = GENE, family = ft2)\n",
    "summary(GENE_mod0)\n",
    "summary(GENE_mod1)\n",
    "summary(GENE_mod2)"
   ]
  },
  {
   "cell_type": "code",
   "execution_count": 92,
   "metadata": {},
   "outputs": [
    {
     "data": {
      "text/html": [
       "<table>\n",
       "<caption>A anova: 2 × 4</caption>\n",
       "<thead>\n",
       "\t<tr><th></th><th scope=col>Resid. Df</th><th scope=col>Resid. Dev</th><th scope=col>Df</th><th scope=col>Deviance</th></tr>\n",
       "\t<tr><th></th><th scope=col>&lt;dbl&gt;</th><th scope=col>&lt;dbl&gt;</th><th scope=col>&lt;dbl&gt;</th><th scope=col>&lt;dbl&gt;</th></tr>\n",
       "</thead>\n",
       "<tbody>\n",
       "\t<tr><th scope=row>1</th><td>2443</td><td>3609.980</td><td>NA</td><td>      NA</td></tr>\n",
       "\t<tr><th scope=row>2</th><td>2440</td><td>3324.743</td><td> 3</td><td>285.2371</td></tr>\n",
       "</tbody>\n",
       "</table>\n"
      ],
      "text/latex": [
       "A anova: 2 × 4\n",
       "\\begin{tabular}{r|llll}\n",
       "  & Resid. Df & Resid. Dev & Df & Deviance\\\\\n",
       "  & <dbl> & <dbl> & <dbl> & <dbl>\\\\\n",
       "\\hline\n",
       "\t1 & 2443 & 3609.980 & NA &       NA\\\\\n",
       "\t2 & 2440 & 3324.743 &  3 & 285.2371\\\\\n",
       "\\end{tabular}\n"
      ],
      "text/markdown": [
       "\n",
       "A anova: 2 × 4\n",
       "\n",
       "| <!--/--> | Resid. Df &lt;dbl&gt; | Resid. Dev &lt;dbl&gt; | Df &lt;dbl&gt; | Deviance &lt;dbl&gt; |\n",
       "|---|---|---|---|---|\n",
       "| 1 | 2443 | 3609.980 | NA |       NA |\n",
       "| 2 | 2440 | 3324.743 |  3 | 285.2371 |\n",
       "\n"
      ],
      "text/plain": [
       "  Resid. Df Resid. Dev Df Deviance\n",
       "1 2443      3609.980   NA       NA\n",
       "2 2440      3324.743    3 285.2371"
      ]
     },
     "metadata": {},
     "output_type": "display_data"
    },
    {
     "data": {
      "text/html": [
       "<table>\n",
       "<caption>A anova: 2 × 4</caption>\n",
       "<thead>\n",
       "\t<tr><th></th><th scope=col>Resid. Df</th><th scope=col>Resid. Dev</th><th scope=col>Df</th><th scope=col>Deviance</th></tr>\n",
       "\t<tr><th></th><th scope=col>&lt;dbl&gt;</th><th scope=col>&lt;dbl&gt;</th><th scope=col>&lt;dbl&gt;</th><th scope=col>&lt;dbl&gt;</th></tr>\n",
       "</thead>\n",
       "<tbody>\n",
       "\t<tr><th scope=row>1</th><td>2443</td><td>3609.980</td><td>NA</td><td>      NA</td></tr>\n",
       "\t<tr><th scope=row>2</th><td>2442</td><td>3505.974</td><td> 1</td><td>104.0063</td></tr>\n",
       "</tbody>\n",
       "</table>\n"
      ],
      "text/latex": [
       "A anova: 2 × 4\n",
       "\\begin{tabular}{r|llll}\n",
       "  & Resid. Df & Resid. Dev & Df & Deviance\\\\\n",
       "  & <dbl> & <dbl> & <dbl> & <dbl>\\\\\n",
       "\\hline\n",
       "\t1 & 2443 & 3609.980 & NA &       NA\\\\\n",
       "\t2 & 2442 & 3505.974 &  1 & 104.0063\\\\\n",
       "\\end{tabular}\n"
      ],
      "text/markdown": [
       "\n",
       "A anova: 2 × 4\n",
       "\n",
       "| <!--/--> | Resid. Df &lt;dbl&gt; | Resid. Dev &lt;dbl&gt; | Df &lt;dbl&gt; | Deviance &lt;dbl&gt; |\n",
       "|---|---|---|---|---|\n",
       "| 1 | 2443 | 3609.980 | NA |       NA |\n",
       "| 2 | 2442 | 3505.974 |  1 | 104.0063 |\n",
       "\n"
      ],
      "text/plain": [
       "  Resid. Df Resid. Dev Df Deviance\n",
       "1 2443      3609.980   NA       NA\n",
       "2 2442      3505.974    1 104.0063"
      ]
     },
     "metadata": {},
     "output_type": "display_data"
    }
   ],
   "source": [
    "## ANOVA on GLM's it not as nice as linear models\n",
    "anova(GENE_mod0, GENE_mod1)\n",
    "anova(GENE_mod0, GENE_mod2)"
   ]
  },
  {
   "cell_type": "code",
   "execution_count": 50,
   "metadata": {},
   "outputs": [
    {
     "data": {
      "text/plain": [
       "\n",
       "Call:\n",
       "lm(formula = paste(eGENE, mod0), data = GENE)\n",
       "\n",
       "Residuals:\n",
       "    Min      1Q  Median      3Q     Max \n",
       "-0.6015 -0.4961 -0.2624 -0.2624 26.5039 \n",
       "\n",
       "Coefficients:\n",
       "                   Estimate Std. Error t value Pr(>|t|)    \n",
       "(Intercept)         0.49613    0.04482  11.070  < 2e-16 ***\n",
       "patientID Number 2  0.10534    0.06989   1.507    0.132    \n",
       "patientID Number 3 -0.23372    0.05823  -4.014 6.16e-05 ***\n",
       "---\n",
       "Signif. codes:  0 ‘***’ 0.001 ‘**’ 0.01 ‘*’ 0.05 ‘.’ 0.1 ‘ ’ 1\n",
       "\n",
       "Residual standard error: 1.249 on 2443 degrees of freedom\n",
       "Multiple R-squared:  0.01301,\tAdjusted R-squared:  0.0122 \n",
       "F-statistic:  16.1 on 2 and 2443 DF,  p-value: 1.132e-07\n"
      ]
     },
     "metadata": {},
     "output_type": "display_data"
    },
    {
     "data": {
      "text/plain": [
       "\n",
       "Call:\n",
       "lm(formula = paste(eGENE, mod1), data = GENE)\n",
       "\n",
       "Residuals:\n",
       "    Min      1Q  Median      3Q     Max \n",
       "-1.0118 -0.3965 -0.1843 -0.1105 26.0381 \n",
       "\n",
       "Coefficients:\n",
       "                   Estimate Std. Error t value Pr(>|t|)    \n",
       "(Intercept)         0.32270    0.06650   4.853 1.29e-06 ***\n",
       "patientID Number 2  0.04988    0.07167   0.696 0.486480    \n",
       "patientID Number 3 -0.21221    0.05737  -3.699 0.000221 ***\n",
       "subgrpgroup2        0.06066    0.07752   0.782 0.434037    \n",
       "subgrpgroup3        0.63920    0.07770   8.226 3.11e-16 ***\n",
       "subgrpgroup4        0.07378    0.06911   1.068 0.285799    \n",
       "---\n",
       "Signif. codes:  0 ‘***’ 0.001 ‘**’ 0.01 ‘*’ 0.05 ‘.’ 0.1 ‘ ’ 1\n",
       "\n",
       "Residual standard error: 1.226 on 2440 degrees of freedom\n",
       "Multiple R-squared:  0.04976,\tAdjusted R-squared:  0.04781 \n",
       "F-statistic: 25.55 on 5 and 2440 DF,  p-value: < 2.2e-16\n"
      ]
     },
     "metadata": {},
     "output_type": "display_data"
    },
    {
     "data": {
      "text/plain": [
       "\n",
       "Call:\n",
       "lm(formula = paste(eGENE, mod2), data = GENE)\n",
       "\n",
       "Residuals:\n",
       "    Min      1Q  Median      3Q     Max \n",
       "-0.6965 -0.5635 -0.3650 -0.0579 26.4197 \n",
       "\n",
       "Coefficients:\n",
       "                   Estimate Std. Error t value Pr(>|t|)    \n",
       "(Intercept)         0.27191    0.06461   4.208 2.66e-05 ***\n",
       "patientID Number 2  0.11412    0.06960   1.640 0.101211    \n",
       "patientID Number 3 -0.21744    0.05807  -3.745 0.000185 ***\n",
       "subgrp_cont         0.42955    0.08952   4.799 1.69e-06 ***\n",
       "---\n",
       "Signif. codes:  0 ‘***’ 0.001 ‘**’ 0.01 ‘*’ 0.05 ‘.’ 0.1 ‘ ’ 1\n",
       "\n",
       "Residual standard error: 1.243 on 2442 degrees of freedom\n",
       "Multiple R-squared:  0.02223,\tAdjusted R-squared:  0.02103 \n",
       "F-statistic:  18.5 on 3 and 2442 DF,  p-value: 7.197e-12\n"
      ]
     },
     "metadata": {},
     "output_type": "display_data"
    }
   ],
   "source": [
    "## Try simple linear models\n",
    "GENE_lmod0 <- lm(paste(eGENE, mod0), data = GENE)\n",
    "GENE_lmod1 <- lm(paste(eGENE, mod1), data = GENE)\n",
    "GENE_lmod2 <- lm(paste(eGENE, mod2), data = GENE)\n",
    "summary(GENE_lmod0)\n",
    "summary(GENE_lmod1)\n",
    "summary(GENE_lmod2)"
   ]
  },
  {
   "cell_type": "code",
   "execution_count": 51,
   "metadata": {},
   "outputs": [
    {
     "data": {
      "text/html": [
       "<table>\n",
       "<caption>A anova: 2 × 6</caption>\n",
       "<thead>\n",
       "\t<tr><th></th><th scope=col>Res.Df</th><th scope=col>RSS</th><th scope=col>Df</th><th scope=col>Sum of Sq</th><th scope=col>F</th><th scope=col>Pr(&gt;F)</th></tr>\n",
       "\t<tr><th></th><th scope=col>&lt;dbl&gt;</th><th scope=col>&lt;dbl&gt;</th><th scope=col>&lt;dbl&gt;</th><th scope=col>&lt;dbl&gt;</th><th scope=col>&lt;dbl&gt;</th><th scope=col>&lt;dbl&gt;</th></tr>\n",
       "</thead>\n",
       "<tbody>\n",
       "\t<tr><th scope=row>1</th><td>2443</td><td>3808.233</td><td>NA</td><td>      NA</td><td>      NA</td><td>          NA</td></tr>\n",
       "\t<tr><th scope=row>2</th><td>2440</td><td>3666.446</td><td> 3</td><td>141.7879</td><td>31.45302</td><td>6.056283e-20</td></tr>\n",
       "</tbody>\n",
       "</table>\n"
      ],
      "text/latex": [
       "A anova: 2 × 6\n",
       "\\begin{tabular}{r|llllll}\n",
       "  & Res.Df & RSS & Df & Sum of Sq & F & Pr(>F)\\\\\n",
       "  & <dbl> & <dbl> & <dbl> & <dbl> & <dbl> & <dbl>\\\\\n",
       "\\hline\n",
       "\t1 & 2443 & 3808.233 & NA &       NA &       NA &           NA\\\\\n",
       "\t2 & 2440 & 3666.446 &  3 & 141.7879 & 31.45302 & 6.056283e-20\\\\\n",
       "\\end{tabular}\n"
      ],
      "text/markdown": [
       "\n",
       "A anova: 2 × 6\n",
       "\n",
       "| <!--/--> | Res.Df &lt;dbl&gt; | RSS &lt;dbl&gt; | Df &lt;dbl&gt; | Sum of Sq &lt;dbl&gt; | F &lt;dbl&gt; | Pr(&gt;F) &lt;dbl&gt; |\n",
       "|---|---|---|---|---|---|---|\n",
       "| 1 | 2443 | 3808.233 | NA |       NA |       NA |           NA |\n",
       "| 2 | 2440 | 3666.446 |  3 | 141.7879 | 31.45302 | 6.056283e-20 |\n",
       "\n"
      ],
      "text/plain": [
       "  Res.Df RSS      Df Sum of Sq F        Pr(>F)      \n",
       "1 2443   3808.233 NA       NA        NA           NA\n",
       "2 2440   3666.446  3 141.7879  31.45302 6.056283e-20"
      ]
     },
     "metadata": {},
     "output_type": "display_data"
    },
    {
     "data": {
      "text/html": [
       "<table>\n",
       "<caption>A anova: 2 × 6</caption>\n",
       "<thead>\n",
       "\t<tr><th></th><th scope=col>Res.Df</th><th scope=col>RSS</th><th scope=col>Df</th><th scope=col>Sum of Sq</th><th scope=col>F</th><th scope=col>Pr(&gt;F)</th></tr>\n",
       "\t<tr><th></th><th scope=col>&lt;dbl&gt;</th><th scope=col>&lt;dbl&gt;</th><th scope=col>&lt;dbl&gt;</th><th scope=col>&lt;dbl&gt;</th><th scope=col>&lt;dbl&gt;</th><th scope=col>&lt;dbl&gt;</th></tr>\n",
       "</thead>\n",
       "<tbody>\n",
       "\t<tr><th scope=row>1</th><td>2443</td><td>3808.233</td><td>NA</td><td>      NA</td><td>      NA</td><td>          NA</td></tr>\n",
       "\t<tr><th scope=row>2</th><td>2442</td><td>3772.661</td><td> 1</td><td>35.57257</td><td>23.02572</td><td>1.694884e-06</td></tr>\n",
       "</tbody>\n",
       "</table>\n"
      ],
      "text/latex": [
       "A anova: 2 × 6\n",
       "\\begin{tabular}{r|llllll}\n",
       "  & Res.Df & RSS & Df & Sum of Sq & F & Pr(>F)\\\\\n",
       "  & <dbl> & <dbl> & <dbl> & <dbl> & <dbl> & <dbl>\\\\\n",
       "\\hline\n",
       "\t1 & 2443 & 3808.233 & NA &       NA &       NA &           NA\\\\\n",
       "\t2 & 2442 & 3772.661 &  1 & 35.57257 & 23.02572 & 1.694884e-06\\\\\n",
       "\\end{tabular}\n"
      ],
      "text/markdown": [
       "\n",
       "A anova: 2 × 6\n",
       "\n",
       "| <!--/--> | Res.Df &lt;dbl&gt; | RSS &lt;dbl&gt; | Df &lt;dbl&gt; | Sum of Sq &lt;dbl&gt; | F &lt;dbl&gt; | Pr(&gt;F) &lt;dbl&gt; |\n",
       "|---|---|---|---|---|---|---|\n",
       "| 1 | 2443 | 3808.233 | NA |       NA |       NA |           NA |\n",
       "| 2 | 2442 | 3772.661 |  1 | 35.57257 | 23.02572 | 1.694884e-06 |\n",
       "\n"
      ],
      "text/plain": [
       "  Res.Df RSS      Df Sum of Sq F        Pr(>F)      \n",
       "1 2443   3808.233 NA       NA        NA           NA\n",
       "2 2442   3772.661  1 35.57257  23.02572 1.694884e-06"
      ]
     },
     "metadata": {},
     "output_type": "display_data"
    }
   ],
   "source": [
    "## ANOVA on linear models is more comprehensive\n",
    "anova(GENE_lmod0, GENE_lmod1)\n",
    "anova(GENE_lmod0, GENE_lmod2)"
   ]
  },
  {
   "cell_type": "code",
   "execution_count": 53,
   "metadata": {},
   "outputs": [
    {
     "data": {
      "text/html": [
       "0.411692559280458"
      ],
      "text/latex": [
       "0.411692559280458"
      ],
      "text/markdown": [
       "0.411692559280458"
      ],
      "text/plain": [
       "[1] 0.4116926"
      ]
     },
     "metadata": {},
     "output_type": "display_data"
    },
    {
     "data": {
      "text/html": [
       "1.57808817701619"
      ],
      "text/latex": [
       "1.57808817701619"
      ],
      "text/markdown": [
       "1.57808817701619"
      ],
      "text/plain": [
       "[1] 1.578088"
      ]
     },
     "metadata": {},
     "output_type": "display_data"
    },
    {
     "data": {
      "image/png": "[encoded data removed]",
      "text/plain": [
       "Plot with title “Histogram of log(ex + 1)”"
      ]
     },
     "metadata": {
      "image/png": {
       "height": 420,
       "width": 420
      },
      "text/plain": {
       "height": 420,
       "width": 420
      }
     },
     "output_type": "display_data"
    }
   ],
   "source": [
    "## Curious to Look at some of genes expression distribution\n",
    "ex <- exprs(vsmcmod_cds)[1,]\n",
    "hist(log(ex + 1), breaks = 100)\n",
    "adj <- var(ex)/mean(ex)\n",
    "# ex <- ex / adj\n",
    "mean(ex)\n",
    "var(ex)"
   ]
  },
  {
   "cell_type": "code",
   "execution_count": 82,
   "metadata": {},
   "outputs": [
    {
     "data": {
      "text/plain": [
       "\n",
       "ID Number 1 ID Number 2 ID Number 3 \n",
       "        776         542        1128 "
      ]
     },
     "metadata": {},
     "output_type": "display_data"
    },
    {
     "data": {
      "text/plain": [
       "\n",
       "diseased  healthy \n",
       "    1223     1223 "
      ]
     },
     "metadata": {},
     "output_type": "display_data"
    },
    {
     "data": {
      "text/plain": [
       "\n",
       "group1 group2 group3 group4 \n",
       "   507    581    521    837 "
      ]
     },
     "metadata": {},
     "output_type": "display_data"
    },
    {
     "data": {
      "text/plain": [
       "             \n",
       "              diseased healthy\n",
       "  ID Number 1      293     483\n",
       "  ID Number 2      270     272\n",
       "  ID Number 3      660     468"
      ]
     },
     "metadata": {},
     "output_type": "display_data"
    },
    {
     "data": {
      "text/plain": [
       "        \n",
       "         diseased healthy\n",
       "  group1        4     503\n",
       "  group2      240     341\n",
       "  group3      374     147\n",
       "  group4      605     232"
      ]
     },
     "metadata": {},
     "output_type": "display_data"
    },
    {
     "data": {
      "text/html": [
       "<style>\n",
       ".list-inline {list-style: none; margin:0; padding: 0}\n",
       ".list-inline>li {display: inline-block}\n",
       ".list-inline>li:not(:last-child)::after {content: \"\\00b7\"; padding: 0 .5ex}\n",
       "</style>\n",
       "<ol class=list-inline><li>0.00788954635108481</li><li>0.413080895008606</li><li>0.71785028790787</li><li>0.722819593787336</li></ol>\n"
      ],
      "text/latex": [
       "\\begin{enumerate*}\n",
       "\\item 0.00788954635108481\n",
       "\\item 0.413080895008606\n",
       "\\item 0.71785028790787\n",
       "\\item 0.722819593787336\n",
       "\\end{enumerate*}\n"
      ],
      "text/markdown": [
       "1. 0.00788954635108481\n",
       "2. 0.413080895008606\n",
       "3. 0.71785028790787\n",
       "4. 0.722819593787336\n",
       "\n",
       "\n"
      ],
      "text/plain": [
       "[1] 0.007889546 0.413080895 0.717850288 0.722819594"
      ]
     },
     "metadata": {},
     "output_type": "display_data"
    },
    {
     "data": {
      "image/png": "[encoded data removed]",
      "text/plain": [
       "Plot with title “VSMC A/C Cells to Total Cells per Group”"
      ]
     },
     "metadata": {
      "image/png": {
       "height": 420,
       "width": 420
      },
      "text/plain": {
       "height": 420,
       "width": 420
      }
     },
     "output_type": "display_data"
    }
   ],
   "source": [
    "## Display some useful data\n",
    "table(GENE$patient)\n",
    "table(GENE$condition)\n",
    "table(GENE$subgrp)\n",
    "table(GENE$patient, GENE$condition)\n",
    "table(GENE$subgrp, GENE$condition)\n",
    "as.numeric(names(table(GENE$subgrp_cont)))\n",
    "plot(x = 1:4, as.numeric(names(table(GENE$subgrp_cont))),\n",
    "     xlab = 'Group', ylab = \"A/C Ratio\", xlim = c(.5,4.5), ylim = c(-.2,1),\n",
    "    main = 'VSMC A/C Cells to Total Cells per Group')\n",
    "text(x = 1:4, as.numeric(names(table(GENE$subgrp_cont))) - .05,\n",
    "     labels=substr(names(table(GENE$subgrp_cont)), 1, 5), cex=0.9, font=2)"
   ]
  },
  {
   "cell_type": "code",
   "execution_count": null,
   "metadata": {},
   "outputs": [],
   "source": []
  },
  {
   "cell_type": "code",
   "execution_count": null,
   "metadata": {},
   "outputs": [],
   "source": []
  },
  {
   "cell_type": "code",
   "execution_count": null,
   "metadata": {},
   "outputs": [],
   "source": []
  },
  {
   "cell_type": "code",
   "execution_count": null,
   "metadata": {},
   "outputs": [],
   "source": []
  },
  {
   "cell_type": "code",
   "execution_count": 57,
   "metadata": {},
   "outputs": [],
   "source": [
    "## DESeq2 Example Code using Pasilla data (From DESeq paper)\n",
    "library(\"pasilla\")\n",
    "pasCts <- system.file(\"extdata\", \"pasilla_gene_counts.tsv\", package=\"pasilla\", mustWork=TRUE)\n",
    "pasAnno <- system.file(\"extdata\", \"pasilla_sample_annotation.csv\", package=\"pasilla\", mustWork=TRUE)\n",
    "cts <- as.matrix(read.csv(pasCts,sep=\"\\t\",row.names=\"gene_id\"))\n",
    "coldata <- read.csv(pasAnno, row.names=1)\n",
    "coldata <- coldata[, c(\"condition\",\"type\")]\n",
    "coldata$condition <- factor(coldata$condition)\n",
    "coldata$type <- factor(coldata$type)"
   ]
  },
  {
   "cell_type": "code",
   "execution_count": 58,
   "metadata": {},
   "outputs": [
    {
     "data": {
      "text/html": [
       "TRUE"
      ],
      "text/latex": [
       "TRUE"
      ],
      "text/markdown": [
       "TRUE"
      ],
      "text/plain": [
       "[1] TRUE"
      ]
     },
     "metadata": {},
     "output_type": "display_data"
    },
    {
     "data": {
      "text/html": [
       "FALSE"
      ],
      "text/latex": [
       "FALSE"
      ],
      "text/markdown": [
       "FALSE"
      ],
      "text/plain": [
       "[1] FALSE"
      ]
     },
     "metadata": {},
     "output_type": "display_data"
    },
    {
     "data": {
      "text/html": [
       "TRUE"
      ],
      "text/latex": [
       "TRUE"
      ],
      "text/markdown": [
       "TRUE"
      ],
      "text/plain": [
       "[1] TRUE"
      ]
     },
     "metadata": {},
     "output_type": "display_data"
    }
   ],
   "source": [
    "## From DESeq paper\n",
    "rownames(coldata) <- sub(\"fb\", \"\", rownames(coldata)) \n",
    "all(rownames(coldata) %in% colnames(cts)) \n",
    "all(rownames(coldata) == colnames(cts)) \n",
    "cts <- cts[, rownames(coldata)] \n",
    "all(rownames(coldata) == colnames(cts))"
   ]
  },
  {
   "cell_type": "code",
   "execution_count": 59,
   "metadata": {},
   "outputs": [
    {
     "data": {
      "text/plain": [
       "class: DESeqDataSet \n",
       "dim: 14599 7 \n",
       "metadata(1): version\n",
       "assays(1): counts\n",
       "rownames(14599): FBgn0000003 FBgn0000008 ... FBgn0261574 FBgn0261575\n",
       "rowData names(0):\n",
       "colnames(7): treated1 treated2 ... untreated3 untreated4\n",
       "colData names(2): condition type"
      ]
     },
     "metadata": {},
     "output_type": "display_data"
    }
   ],
   "source": [
    "## From DESeq paper\n",
    "dds <- DESeqDataSetFromMatrix(countData = cts,\n",
    "                              colData = coldata,\n",
    "                              design = ~ condition)\n",
    "dds"
   ]
  },
  {
   "cell_type": "code",
   "execution_count": 60,
   "metadata": {},
   "outputs": [
    {
     "data": {
      "text/plain": [
       "class: DESeqDataSet \n",
       "dim: 6 7 \n",
       "metadata(1): version\n",
       "assays(1): counts\n",
       "rownames(6): FBgn0000003 FBgn0000008 ... FBgn0000017 FBgn0000018\n",
       "rowData names(0):\n",
       "colnames(7): treated1 treated2 ... untreated3 untreated4\n",
       "colData names(2): condition type"
      ]
     },
     "metadata": {},
     "output_type": "display_data"
    }
   ],
   "source": [
    "## From DESeq paper\n",
    "head(dds)"
   ]
  },
  {
   "cell_type": "code",
   "execution_count": 61,
   "metadata": {},
   "outputs": [
    {
     "data": {
      "text/plain": [
       "DataFrame with 14599 rows and 1 column\n",
       "                   gene\n",
       "               <factor>\n",
       "FBgn0000003 FBgn0000003\n",
       "FBgn0000008 FBgn0000008\n",
       "FBgn0000014 FBgn0000014\n",
       "FBgn0000015 FBgn0000015\n",
       "FBgn0000017 FBgn0000017\n",
       "...                 ...\n",
       "FBgn0261571 FBgn0261571\n",
       "FBgn0261572 FBgn0261572\n",
       "FBgn0261573 FBgn0261573\n",
       "FBgn0261574 FBgn0261574\n",
       "FBgn0261575 FBgn0261575"
      ]
     },
     "metadata": {},
     "output_type": "display_data"
    }
   ],
   "source": [
    "## From DESeq paper\n",
    "featureData <- data.frame(gene=rownames(cts)) \n",
    "mcols(dds) <- DataFrame(mcols(dds), featureData) \n",
    "mcols(dds)"
   ]
  },
  {
   "cell_type": "code",
   "execution_count": 62,
   "metadata": {},
   "outputs": [
    {
     "name": "stderr",
     "output_type": "stream",
     "text": [
      "estimating size factors\n",
      "\n",
      "estimating dispersions\n",
      "\n",
      "gene-wise dispersion estimates\n",
      "\n",
      "mean-dispersion relationship\n",
      "\n",
      "final dispersion estimates\n",
      "\n",
      "fitting model and testing\n",
      "\n"
     ]
    }
   ],
   "source": [
    "## From DESeq paper\n",
    "dds <- DESeq(dds)\n",
    "res <- results(dds)"
   ]
  },
  {
   "cell_type": "code",
   "execution_count": 289,
   "metadata": {},
   "outputs": [
    {
     "data": {
      "text/plain": [
       "log2 fold change (MLE): condition untreated vs treated \n",
       "Wald test p-value: condition untreated vs treated \n",
       "DataFrame with 1 row and 6 columns\n",
       "                    baseMean       log2FoldChange             lfcSE\n",
       "                   <numeric>            <numeric>         <numeric>\n",
       "FBgn0000008 95.1440789963134 -0.00215142369233378 0.223883804763692\n",
       "                            stat            pvalue              padj\n",
       "                       <numeric>         <numeric>         <numeric>\n",
       "FBgn0000008 -0.00960955480725635 0.992332802585979 0.996927101169797"
      ]
     },
     "metadata": {},
     "output_type": "display_data"
    }
   ],
   "source": [
    "## From DESeq paper\n",
    "res[2,]"
   ]
  },
  {
   "cell_type": "code",
   "execution_count": 68,
   "metadata": {},
   "outputs": [],
   "source": [
    "help(speedglm)"
   ]
  },
  {
   "cell_type": "code",
   "execution_count": null,
   "metadata": {},
   "outputs": [],
   "source": []
  },
  {
   "cell_type": "code",
   "execution_count": null,
   "metadata": {},
   "outputs": [],
   "source": []
  },
  {
   "cell_type": "code",
   "execution_count": null,
   "metadata": {},
   "outputs": [],
   "source": []
  },
  {
   "cell_type": "code",
   "execution_count": null,
   "metadata": {},
   "outputs": [],
   "source": []
  },
  {
   "cell_type": "code",
   "execution_count": null,
   "metadata": {},
   "outputs": [],
   "source": []
  },
  {
   "cell_type": "code",
   "execution_count": null,
   "metadata": {},
   "outputs": [],
   "source": []
  },
  {
   "cell_type": "markdown",
   "metadata": {},
   "source": [
    "## EC Unknown Process (Modules_1_35_and_36_2_6)\n",
    "### Updated code"
   ]
  },
  {
   "cell_type": "code",
   "execution_count": 64,
   "metadata": {},
   "outputs": [
    {
     "data": {
      "text/plain": [
       "\n",
       "blue  red \n",
       " 449  449 "
      ]
     },
     "metadata": {},
     "output_type": "display_data"
    },
    {
     "data": {
      "text/html": [
       "<strong>png:</strong> 2"
      ],
      "text/latex": [
       "\\textbf{png:} 2"
      ],
      "text/markdown": [
       "**png:** 2"
      ],
      "text/plain": [
       "png \n",
       "  2 "
      ]
     },
     "metadata": {},
     "output_type": "display_data"
    },
    {
     "data": {
      "text/html": [
       "<strong>png:</strong> 2"
      ],
      "text/latex": [
       "\\textbf{png:} 2"
      ],
      "text/markdown": [
       "**png:** 2"
      ],
      "text/plain": [
       "png \n",
       "  2 "
      ]
     },
     "metadata": {},
     "output_type": "display_data"
    },
    {
     "data": {
      "text/html": [
       "<strong>png:</strong> 2"
      ],
      "text/latex": [
       "\\textbf{png:} 2"
      ],
      "text/markdown": [
       "**png:** 2"
      ],
      "text/plain": [
       "png \n",
       "  2 "
      ]
     },
     "metadata": {},
     "output_type": "display_data"
    },
    {
     "data": {
      "text/html": [
       "<strong>png:</strong> 2"
      ],
      "text/latex": [
       "\\textbf{png:} 2"
      ],
      "text/markdown": [
       "**png:** 2"
      ],
      "text/plain": [
       "png \n",
       "  2 "
      ]
     },
     "metadata": {},
     "output_type": "display_data"
    },
    {
     "data": {
      "text/html": [
       "<strong>png:</strong> 2"
      ],
      "text/latex": [
       "\\textbf{png:} 2"
      ],
      "text/markdown": [
       "**png:** 2"
      ],
      "text/plain": [
       "png \n",
       "  2 "
      ]
     },
     "metadata": {},
     "output_type": "display_data"
    }
   ],
   "source": [
    "## Get the Expression Set for EC 1, 2, 6, 35, 36 DE Genes\n",
    "p <- 2\n",
    "ec_bool <- (colData(down_stdycds)$assigned_cell_type == celltypes6[p])\n",
    "ecmod_cds <- down_stdycds[fData(down_stdycds)@rownames %in% ec_modgenes_1_2_6_35_36_ids, ec_bool]\n",
    "colData(ecmod_cds)$condtype <- paste('ec',\n",
    "    c('hea', 'dis')[(colData(ecmod_cds)$condition == 'diseased') + 1], sep = '-')\n",
    "colData(ecmod_cds)$sidecolor[colData(ecmod_cds)$condtype == 'ec-dis'] <- 'red'\n",
    "colData(ecmod_cds)$sidecolor[colData(ecmod_cds)$condtype == 'ec-hea'] <- 'blue'\n",
    "# colData(ecmod_cds)$sidecolor[colData(ecmod_cds)$condtype == 'vsmc-dis'] <- 'orange'\n",
    "# colData(ecmod_cds)$sidecolor[colData(ecmod_cds)$condtype == 'vsmc-hea'] <- 'cyan'\n",
    "\n",
    "## Down Sample\n",
    "cttable <- table(colData(ecmod_cds)$sidecolor)\n",
    "smallset <- min(cttable)\n",
    "cells2keep <- NULL\n",
    "set.seed(101)\n",
    "for (cellset_col in names(cttable)) {\n",
    "    cellsetrow <-  which(colData(ecmod_cds)$sidecolor == cellset_col)\n",
    "    cells2keep <- c(cells2keep, sample(cellsetrow, smallset, replace = FALSE))\n",
    "}\n",
    "ecmod_cds <- ecmod_cds[, cells2keep] \n",
    "\n",
    "## Print the down sampled data set sizes\n",
    "table(colData(ecmod_cds)$sidecolor)\n",
    "\n",
    "## Get the expresion matrix\n",
    "expdat_ecmod <- as.matrix(exprs(ecmod_cds))\n",
    "rownames(expdat_ecmod) <- geneid2short[rownames(expdat_ecmod)] \n",
    "\n",
    "## This is a new round of heatmaps, with new genes and down sampled cell tpyes\n",
    "f1 <- '/Heatmap.EC.Mod1.2.6.35.36.Genes.comp.bin.comp.bin.down.OnOff2Plus.preclustered.Rev2.pdf'\n",
    "f1 <- paste(datdir, '/', ps$outdir, celltypes6[p], f1, sep = '')\n",
    "title1 <- 'Endothelial Network \\nModules 1, 2, 6, 35 and 36 Genes, Cells Pre-Clustered'\n",
    "\n",
    "f2 <- '/Heatmap.EC.Mod1.2.6.35.36.Genes.comp.bin.comp.bin.down.OnOff2Plus.fullyclustered.Rev2.pdf'\n",
    "f2 <- paste(datdir, '/', ps$outdir, celltypes6[p], f2, sep = '')\n",
    "title2 <-  'Endothelial Network \\nModule  1, 2, 6, 35 and 36 Genes, Cells Fully Clustered'\n",
    "\n",
    "f3 <- '/DotPlot.EC.Mod1.2.6.35.36.Genes.Rev2.pdf'\n",
    "f3 <- paste(datdir, '/', ps$outdir, celltypes6[p], f3, sep = '')\n",
    "\n",
    "f4 <- '/Heatmap.EC.Mod1.2.6.35.36.Genes.comp.bin.comp.bin.down.OnOff2Plus.fullyclustered.cut.Rev5.pdf'\n",
    "f4 <- paste(datdir, '/', ps$outdir, celltypes6[p], f4, sep = '')\n",
    "title4 <-  'VSMC Network Modules  1, 2, 6, 35 and 36\\nGenes, Cells Fully Clustered with Cuts'\n",
    "\n",
    "f5 <- '/DotPlot.EC.Mod1.2.6.35.36.Genes.cuts.Rev5.pdf'\n",
    "f5 <- paste(datdir, '/', ps$outdir, celltypes6[p], f5, sep = '')\n",
    "\n",
    "## Prepare for pre-clustering\n",
    "ec_dw <- which(colData(ecmod_cds)$condtype == 'ec-dis')\n",
    "ec_hw <- which(colData(ecmod_cds)$condtype == 'ec-hea')\n",
    "\n",
    "## Transform the data\n",
    "dims <- dim(expdat_ecmod)\n",
    "expdatbo <- (expdat_ecmod > 1) * 1\n",
    "\n",
    "## Set up clustering parameters\n",
    "## Distance method, cluster method, heatmap color scheme, legend\n",
    "distmeth <- c('binary', 'binary')\n",
    "clustmeth = c('complete', 'complete')\n",
    "my_palettebol <- colorRampPalette(c('#660066', 'yellow'))(n = 2)\n",
    "legendlstbol <- list(legend = c('EC DIS', 'EC HEA'),\n",
    "              col = c('red', 'blue'), title = 'Cell Types', cex = .7)\n",
    "\n",
    "## Individually cluster the columns of the two cell sets\n",
    "ec_dcim <- cim(expdatbo[, ec_dw], dist.method = distmeth, clust.method = clustmeth,\n",
    "    scale = \"FALSE\", center = \"FALSE\", col.names = FALSE, legend = legendlstbol,\n",
    "    color = my_palettebol, cluster = 'col',\n",
    "    col.sideColors = colData(ecmod_cds)$sidecolor[ec_dw],\n",
    "    symkey = FALSE, save = 'pdf', name.save = 'temp.ready.to.delete')\n",
    "ec_hcim <- cim(expdatbo[, ec_hw], dist.method = distmeth, clust.method = clustmeth,\n",
    "    scale = \"FALSE\", center = \"FALSE\", col.names = FALSE, legend = legendlstbol,\n",
    "    color = my_palettebol, cluster = 'col',\n",
    "    col.sideColors = colData(ecmod_cds)$sidecolor[ec_hw],\n",
    "    symkey = FALSE, save = 'pdf', name.save = 'temp.ready.to.delete')\n",
    "\n",
    "## This is the combined (concantenated) preclustered cell types\n",
    "## which are plotted with genes fully clustered (check plot)\n",
    "parthclust <- c(colnames(ec_dcim$mat), colnames(ec_hcim$mat))\n",
    "colornames <-colData(ecmod_cds)$sidecolor\n",
    "names(colornames) <- colnames(expdatbo)\n",
    "\n",
    "## This is just a check plot to the screen\n",
    "# cim(expdatbo[, parthclust], dist.method = distmeth, clust.method = clustmeth,\n",
    "#     scale = \"FALSE\", center = \"FALSE\", col.names = FALSE, legend = legendlstbol,\n",
    "#     color = my_palettebol, cluster = 'row',\n",
    "#     col.sideColors = colornames[parthclust],\n",
    "#     symkey = FALSE, save = 'pdf', name.save = 'temp.ready.to.delete')\n",
    "\n",
    "## Repeated from above, this time to a file\n",
    "pdf(f1, width = 8, height = 24)\n",
    "cim(expdatbo[, parthclust], dist.method = distmeth, clust.method = clustmeth,\n",
    "    scale = \"FALSE\", center = \"FALSE\", col.names = FALSE, legend = legendlstbol,\n",
    "    color = my_palettebol, cluster = 'row', title = title1,\n",
    "    col.sideColors = colornames[parthclust],\n",
    "    symkey = FALSE)\n",
    "dev.off()\n",
    "\n",
    "## The is again the combined cell types, plotted with both genes and cells fully clustered\n",
    "cim_save <- cim(expdatbo[, parthclust], dist.method = distmeth, clust.method = clustmeth,\n",
    "    scale = \"FALSE\", center = \"FALSE\", col.names = FALSE, legend = legendlstbol,\n",
    "    color = my_palettebol, cluster = 'both', save = 'pdf', name.save = 'temp.ready.to.delete',\n",
    "    col.sideColors = colornames[parthclust], \n",
    "    symkey = FALSE)\n",
    "\n",
    "## This is a check plot to the screen and it should match the above plot perfectly\n",
    "# cim(expdatbo[, colnames(cim_save$mat)], dist.method = distmeth, clust.method = clustmeth,\n",
    "#     scale = \"FALSE\", center = \"FALSE\", col.names = FALSE, legend = legendlstbol,\n",
    "#     color = my_palettebol, cluster = 'row', # save = 'pdf', name.save = 'temp.ready.to.delete',\n",
    "#     col.sideColors = colornames[colnames(cim_save$mat)], \n",
    "#     symkey = FALSE)\n",
    "\n",
    "## Repeated from above, this time to a file (make sure to cluster again to plot cell dendrogram)\n",
    "pdf(f2, width = 8, height = 24)\n",
    "cim(expdatbo[, parthclust], dist.method = distmeth, clust.method = clustmeth,\n",
    "    scale = \"FALSE\", center = \"FALSE\", col.names = FALSE, legend = legendlstbol,\n",
    "    color = my_palettebol, cluster = 'both', title = title2,\n",
    "    col.sideColors = colornames[parthclust], \n",
    "    symkey = FALSE)\n",
    "dev.off()\n",
    "\n",
    "specialglist <- short2geneid[cim_save$row.names]\n",
    "pdf(f3, width = 2.75, height = 23)\n",
    "plot_genes_by_group2(ecmod_cds,\n",
    "                    axis_order = \"group_marker\",\n",
    "                    specialglist,\n",
    "                    group_cells_by = \"condtype\",\n",
    "                    ordering_type = \"as_ordered\", \n",
    "                    max.size = 3,\n",
    "                    norm_method = 'size_only',\n",
    "                    scale_max = 3, scale_min = -3)\n",
    "dev.off()\n",
    "\n",
    "## Set up for plot with special cut regions\n",
    "cim_o <- colnames(cim_save$mat)\n",
    "cut0 <- 1\n",
    "cut1 <- floor(length(cim_o) * (1.573) / 5.664)\n",
    "cut2 <- floor(length(cim_o) * (3.205) / 5.664)\n",
    "cut3 <- length(cim_o)\n",
    "wcut1 <- which(colnames(expdatbo) %in% cim_o[cut0:cut1])\n",
    "wcut2 <- which(colnames(expdatbo) %in% cim_o[(cut1 + 1):cut2])\n",
    "wcut3 <- which(colnames(expdatbo) %in% cim_o[(cut2 + 1):cut3])\n",
    "wcuts <- c(wcut1, wcut2, wcut3)\n",
    "cell_subg_cols <- vector(mode = 'character', length = length(cim_o))\n",
    "cell_subg_names <- vector(mode = 'character', length = length(cim_o))\n",
    "cell_subg_cols[wcut1] <- '#404040' # '1gray'\n",
    "cell_subg_names[wcut1] <- '1gray'\n",
    "cell_subg_cols[wcut2] <- '#606060' # '2gray'\n",
    "cell_subg_names[wcut2] <- '2gray'\n",
    "cell_subg_cols[wcut3] <- '#808080' # '3gray'\n",
    "cell_subg_names[wcut3] <- '3gray'\n",
    "names(cell_subg_cols) <- cim_o\n",
    "\n",
    "## Plot the same fully clustered plot, this time without reclustering the cells,\n",
    "# but coloring the horizontal color bar according to the cuts\n",
    "pdf(f4, width = 8, height = 24)\n",
    "cim_cells <- cim(expdatbo[, colnames(cim_save$mat)], dist.method = distmeth,\n",
    "    clust.method = clustmeth,\n",
    "    scale = \"FALSE\", center = \"FALSE\", col.names = FALSE, legend = legendlstbol,\n",
    "    color = my_palettebol, cluster = 'row', title = title4,\n",
    "    col.sideColors = cell_subg_cols[wcuts],\n",
    "    symkey = FALSE)\n",
    "dev.off()\n",
    "\n",
    "specialglist <- specialglist <- short2geneid[cim_save$row.names]\n",
    "colData(ecmod_cds)$subgroups[wcuts] <- cell_subg_names[wcuts]\n",
    "pdf(f5, width = 3.25, height = 27)\n",
    "plot_genes_by_group2(ecmod_cds,\n",
    "                    axis_order = \"group_marker\",\n",
    "                    specialglist,\n",
    "                    group_cells_by = \"subgroups\",\n",
    "                    ordering_type = \"as_ordered\", \n",
    "                    max.size = 3,\n",
    "                    norm_method = 'size_only',\n",
    "                    scale_max = 3, scale_min = -3)\n",
    "dev.off()"
   ]
  },
  {
   "cell_type": "code",
   "execution_count": 65,
   "metadata": {},
   "outputs": [],
   "source": [
    "## Perform DE Analysis on the ec heatmat subgroup\n",
    "f6 <- '/Diff.ec_group1.KeepFail.NoModels.txt'\n",
    "f6 <- paste(datdir, '/', ps$outdir, celltypes6[p], f6, sep = '')\n",
    "gene_ec_wcut1_fits_pat_cond_adj <- fit_models(ecmod_cds[, wcut1], cores = 4,\n",
    "                                model_formula_str = \"~patient + condition\")\n",
    "all_coef1 <- NULL\n",
    "## Get the DE Coefficients\n",
    "all_coef1 <- coefficient_table(gene_ec_wcut1_fits_pat_cond_adj)\n",
    "# Extract the relavent data from the DE tables\n",
    "condition_terms1 <- all_coef1 %>% filter(term == \"conditionhealthy\")\n",
    "condition_termsb1 <- condition_terms1 %>% filter(status == 'OK')\n",
    "write.table(condition_terms1[,c(1, 4:12)], f6, col.names = TRUE, row.names = FALSE)\n",
    "\n",
    "f7 <- '/Diff.ec_group2.KeepFail.NoModels.txt'\n",
    "f7 <- paste(datdir, '/', ps$outdir, celltypes6[p], f7, sep = '')\n",
    "gene_ec_wcut2_fits_pat_cond_adj <- fit_models(ecmod_cds[, wcut2], cores = 4,\n",
    "                                model_formula_str = \"~patient + condition\")\n",
    "all_coef2 <- NULL\n",
    "## Get the DE Coefficients\n",
    "all_coef2 <- coefficient_table(gene_ec_wcut2_fits_pat_cond_adj)\n",
    "# Extract the relavent data from the DE tables\n",
    "condition_terms2 <- all_coef2 %>% filter(term == \"conditionhealthy\")\n",
    "condition_termsb2 <- condition_terms2 %>% filter(status == 'OK')\n",
    "write.table(condition_terms2[,c(1, 4:12)], f7, col.names = TRUE, row.names = FALSE)\n",
    "\n",
    "f8 <- '/Diff.ec_group3.KeepFail.NoModels.txt'\n",
    "f8 <- paste(datdir, '/', ps$outdir, celltypes6[p], f8, sep = '')\n",
    "gene_ec_wcut3_fits_pat_cond_adj <- fit_models(ecmod_cds[, wcut3], cores = 4,\n",
    "                                model_formula_str = \"~patient + condition\")\n",
    "all_coef3 <- NULL\n",
    "## Get the DE Coefficients\n",
    "all_coef3 <- coefficient_table(gene_ec_wcut3_fits_pat_cond_adj)\n",
    "# Extract the relavent data from the DE tables\n",
    "condition_terms3 <- all_coef3 %>% filter(term == \"conditionhealthy\")\n",
    "condition_termsb3 <- condition_terms3 %>% filter(status == 'OK')\n",
    "write.table(condition_terms3[,c(1, 4:12)], f8, col.names = TRUE, row.names = FALSE)"
   ]
  },
  {
   "cell_type": "code",
   "execution_count": null,
   "metadata": {},
   "outputs": [],
   "source": []
  }
 ],
 "metadata": {
  "kernelspec": {
   "display_name": "R",
   "language": "R",
   "name": "ir"
  },
  "language_info": {
   "codemirror_mode": "r",
   "file_extension": ".r",
   "mimetype": "text/x-r-source",
   "name": "R",
   "pygments_lexer": "r",
   "version": "3.5.1"
  }
 },
 "nbformat": 4,
 "nbformat_minor": 2
}
