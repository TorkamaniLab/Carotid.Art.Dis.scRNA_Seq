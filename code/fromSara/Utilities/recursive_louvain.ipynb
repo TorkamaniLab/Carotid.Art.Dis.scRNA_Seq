{
 "cells": [
  {
   "cell_type": "code",
   "execution_count": null,
   "metadata": {},
   "outputs": [],
   "source": [
    "# This function recursively generates louvain clusters.\n",
    "\n",
    "# the parameter (graph) takes the igraph object to be clustered\n",
    "\n",
    "# It will continue to break down large clusters by calling\n",
    "## itself until all of the clusters are smaller than the size\n",
    "## set in the parameter (biggest)\n",
    "\n",
    "# returns a membership vector"
   ]
  },
  {
   "cell_type": "code",
   "execution_count": 3,
   "metadata": {},
   "outputs": [],
   "source": [
    "## This executes a system command\n",
    "## Note that the environment path is incorrect and needs to be fixed for commands to work\n",
    "## nbconvert needs this code\n",
    "\n",
    "Sys.setenv(PATH = paste(\"/usr/lib64/qt-3.3/bin:/opt/applications/cytoscape/\",\n",
    "                        \"3.3.0:/opt/applications/R/3.5.1/gnu/bin:/opt/applications/\",\n",
    "                        \"gcc/4.9.4/bin:/opt/applications/java/jdk1.8.0_65/bin:/opt/\",\n",
    "                        \"applications/ant/apache-ant-1.9.0/bin:/opt/applications/\",\n",
    "                        \"python/3.6.3/gnu/bin:/usr/local/go/bin:/usr/local/sbin:/\",\n",
    "                        \"usr/local/bin:/sbin:/bin:/usr/sbin:/usr/bin:/usr/local/\",\n",
    "                        \"bin:/usr/lpp/mmfs/bin:/root/bin:/usr/local/bin:/usr/lpp/mmfs/bin\",\n",
    "                       sep = ''))\n",
    "\n",
    "osc <- function (cmd) {\n",
    "    scra <- '/gpfs/group/torkamani/devans/GTEx/Scratch.Area/' # Location of temporary files\n",
    "    fullcmd <- paste(cmd, ' >& ', scra, 'temp.txt', sep = '')\n",
    "    system(fullcmd)\n",
    "    lines <- readLines(paste(scra, 'temp.txt', sep = ''))\n",
    "    system(paste('rm ', scra, 'temp.txt', sep = ''))\n",
    "    return(lines)\n",
    "    }"
   ]
  },
  {
   "cell_type": "code",
   "execution_count": 20,
   "metadata": {},
   "outputs": [],
   "source": [
    "recursive_louvain <- function(graph, biggest = 150, count = 0, membership = NULL) {\n",
    "    print('Hello')\n",
    "    \n",
    "    if(is.null(membership)){\n",
    "        #Only runs on the first loop\n",
    "        cl <- cluster_louvain(graph, weights = abs(E(graph)$pcor))\n",
    "        # generates a vector from membership object\n",
    "        membervec <- as.vector(membership(cl))\n",
    "        names(membervec) <- names(membership(cl))\n",
    "        membership <- membervec\n",
    "        }\n",
    "    \n",
    "    for (i in unique(membership)){\n",
    "         clustersize <- sum(membership == i)\n",
    "         if(clustersize > biggest){\n",
    "             whichtokeep <- membership == i\n",
    "             smallerclust <- induced_subgraph(graph, V(graph)$name %in% names(membership[whichtokeep]))\n",
    "             cl <- cluster_louvain(smallerclust, weights = abs(E(smallerclust)$pcor))\n",
    "             membervec <- as.vector(membership(cl))\n",
    "             names(membervec) <- names(membership(cl))\n",
    "             membership[names(membervec)] = (membervec + count*100)\n",
    "            }\n",
    "        }\n",
    "    if(sum(table(membership)>biggest) == 0){\n",
    "        \n",
    "        ## Added by Doug to return a communities object instead of a membership set\n",
    "        selectednames <- names(membership)\n",
    "        print(selectednames[1:5])\n",
    "        # rlcommunities <<- create.communities(graph, membership = selectednames)\n",
    "        rlcommunities <- make_clusters(graph, membership = membership, algorithm = 'multi level')\n",
    "\n",
    "        return(rlcommunities) # membership)\n",
    "    } else {\n",
    "        return(recursive_louvain(graph, biggest = biggest, count = count+1, membership = membership))\n",
    "    }\n",
    "}"
   ]
  },
  {
   "cell_type": "code",
   "execution_count": 2,
   "metadata": {},
   "outputs": [],
   "source": [
    "recursuve_louvain.help <- function() {\n",
    "    cat(\"THANK YOU FOR CALLING THE HELP DESK :)\")\n",
    "    cat(\"# This function recursively generates louvain clusters.\n",
    "\n",
    "    # the parameter (graph) takes the igraph object to be clustered\n",
    "\n",
    "    # It will continue to break down large clusters by calling\n",
    "    ## itself until all of the clusters are smaller than the size\n",
    "    ## set in the parameter (biggest)\n",
    "\n",
    "    # returns a membership vector\")\n",
    "}"
   ]
  },
  {
   "cell_type": "code",
   "execution_count": 9,
   "metadata": {},
   "outputs": [],
   "source": [
    "## This cell prevents the nbconvert code below from excuting when this module is loaded using \"source\" function\n",
    "FirstRun <- TRUE"
   ]
  },
  {
   "cell_type": "code",
   "execution_count": 30,
   "metadata": {},
   "outputs": [
    {
     "name": "stdout",
     "output_type": "stream",
     "text": [
      "[1] \"[NbConvertApp] Converting notebook recursive_louvain.ipynb to script\"\n",
      "[2] \"[NbConvertApp] Writing 3913 bytes to recursive_louvain.r\"            \n"
     ]
    }
   ],
   "source": [
    "## Execute the next cell before running this cell to convert this file to an R script\n",
    "if (!FirstRun) print(osc(\"jupyter nbconvert recursive_louvain.ipynb --to script\"))"
   ]
  },
  {
   "cell_type": "code",
   "execution_count": 1,
   "metadata": {},
   "outputs": [],
   "source": [
    "## Execute this cell, and then the cell above to convert this file to an R script\n",
    "FirstRun <- FALSE"
   ]
  },
  {
   "cell_type": "code",
   "execution_count": 28,
   "metadata": {},
   "outputs": [],
   "source": [
    "test_f <- function(biggest = 150) {\n",
    "    print(\"hello\")\n",
    "    print(biggest)\n",
    "    return(biggest * 2)\n",
    "    }"
   ]
  },
  {
   "cell_type": "code",
   "execution_count": null,
   "metadata": {},
   "outputs": [],
   "source": []
  }
 ],
 "metadata": {
  "kernelspec": {
   "display_name": "R",
   "language": "R",
   "name": "ir"
  },
  "language_info": {
   "codemirror_mode": "r",
   "file_extension": ".r",
   "mimetype": "text/x-r-source",
   "name": "R",
   "pygments_lexer": "r",
   "version": "3.5.1"
  }
 },
 "nbformat": 4,
 "nbformat_minor": 2
}
