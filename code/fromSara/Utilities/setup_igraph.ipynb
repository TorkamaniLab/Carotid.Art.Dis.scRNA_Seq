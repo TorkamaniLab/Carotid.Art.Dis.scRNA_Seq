{
 "cells": [
  {
   "cell_type": "code",
   "execution_count": 1,
   "metadata": {},
   "outputs": [],
   "source": [
    "## This is a library of functions that can be used\n",
    "## to support network related activities, especially\n",
    "## related to plotting and tabulations"
   ]
  },
  {
   "cell_type": "code",
   "execution_count": null,
   "metadata": {},
   "outputs": [],
   "source": [
    "## tested in 48.demo"
   ]
  },
  {
   "cell_type": "code",
   "execution_count": 240,
   "metadata": {},
   "outputs": [],
   "source": [
    "## The functions defined in this notebook are:\n",
    "##\n",
    "## stat_parm <- function () # apply expression stats and strength to network\n",
    "##\n",
    "## annot_parm <- function () # apply biomaRt annotations to a network\n",
    "##\n",
    "## v19_parm <- function () # apply GENCODE v19 chromosomal information to a network\n",
    "##\n",
    "## plot_parm <- function () # apply standard plotting parameters to a network\n",
    "## make_v19chrom <- function () # Create a file with just gene info from GENCODE 19 input file\n",
    "##\n",
    "## Notes added 5/22/2019\n",
    "## Need to revise this to include the following\n",
    "## -- Expand Network to Include Many More Biological Attributes, Add Global Network Details\n",
    "## -- Provide Details on Inputs, Outputs, and Usage for Above Functions\n",
    "## -- Create Examples of Simulated Data to Demonstrate Methodology\n",
    "\n"
   ]
  },
  {
   "cell_type": "code",
   "execution_count": 3,
   "metadata": {},
   "outputs": [],
   "source": [
    "## This executes a system command\n",
    "## Note that the environment path is incorrect and needs to be fixed for commands to work\n",
    "## Two functions in this notebook need to perform command line functions, hence this code.\n",
    "\n",
    "Sys.setenv(PATH = paste(\"/usr/lib64/qt-3.3/bin:/opt/applications/cytoscape/\",\n",
    "                        \"3.3.0:/opt/applications/R/3.5.1/gnu/bin:/opt/applications/\",\n",
    "                        \"gcc/4.9.4/bin:/opt/applications/java/jdk1.8.0_65/bin:/opt/\",\n",
    "                        \"applications/ant/apache-ant-1.9.0/bin:/opt/applications/\",\n",
    "                        \"python/3.6.3/gnu/bin:/usr/local/go/bin:/usr/local/sbin:/\",\n",
    "                        \"usr/local/bin:/sbin:/bin:/usr/sbin:/usr/bin:/usr/local/\",\n",
    "                        \"bin:/usr/lpp/mmfs/bin:/root/bin:/usr/local/bin:/usr/lpp/mmfs/bin\",\n",
    "                       sep = ''))\n",
    "\n",
    "osc <- function (cmd) {\n",
    "    scra <- '/gpfs/group/torkamani/devans/GTEx/Scratch.Area/' # Location of temporary files\n",
    "    fullcmd <- paste(cmd, ' >& ', scra, 'temp.txt', sep = '')\n",
    "    system(fullcmd)\n",
    "    lines <- readLines(paste(scra, 'temp.txt', sep = ''))\n",
    "    system(paste('rm ', scra, 'temp.txt', sep = ''))\n",
    "    return(lines)\n",
    "    }\n",
    "\n",
    "## Quiet version\n",
    "qosc <- function (cmd) {\n",
    "    scra <- '/gpfs/group/torkamani/devans/GTEx/Scratch.Area/' # Location of temporary files\n",
    "    system(cmd)\n",
    "    return(NULL)\n",
    "    }"
   ]
  },
  {
   "cell_type": "code",
   "execution_count": 2,
   "metadata": {},
   "outputs": [],
   "source": [
    "## This cell prevents the nbconvert code below from excuting when this module is loaded using \"source\" function\n",
    "FirstRun <- TRUE"
   ]
  },
  {
   "cell_type": "code",
   "execution_count": 3,
   "metadata": {},
   "outputs": [],
   "source": [
    "## Load packages needed by functions in this notebook\n",
    "## load igraph\n",
    "suppressMessages(library(igraph))\n",
    "## load biomaRt\n",
    "suppressMessages(library(biomaRt))"
   ]
  },
  {
   "cell_type": "code",
   "execution_count": 4,
   "metadata": {},
   "outputs": [],
   "source": [
    "stat_parm <- function(gf, log10expdata){\n",
    "    \n",
    "    ## Remove expression values not in the network, get antilog\n",
    "    expdata_filt <- 10 ^ log10expdata[,V(gf)$name]\n",
    "     \n",
    "    ## Compute the node expression stats, including coeff of variation, add to network\n",
    "    V(gf)$mean <- apply(expdata_filt, 2, mean)\n",
    "    V(gf)$sd <- apply(expdata_filt, 2, sd)\n",
    "    V(gf)$cv <- V(gf)$sd/V(gf)$mean\n",
    "    V(gf)$med <- apply(expdata_filt, 2, median)\n",
    "\n",
    "    ## Compute the strength\n",
    "    V(gf)$strength <- strength(gf)\n",
    "    return(gf)\n",
    "    }"
   ]
  },
  {
   "cell_type": "code",
   "execution_count": 5,
   "metadata": {},
   "outputs": [],
   "source": [
    "annot_parm <- function(gf){\n",
    "    \n",
    "    ## Get the biomart object\n",
    "    ensembl = useMart(\"ensembl\",dataset=\"hsapiens_gene_ensembl\")\n",
    "\n",
    "    ## Get the annotation for this network\n",
    "    \n",
    "    ## Get the network list of genes to annotate\n",
    "    r <- 1:length(V(gf)$gene)\n",
    "    gene_sub <- substr(V(gf)$gene[r],1,15)\n",
    "    \n",
    "    ## Perform the biomaRt lookup (only lookup unique gene names)\n",
    "    bm_annot <- getBM(attributes=c('external_gene_name', 'ensembl_gene_id', 'description',\n",
    "                               'gene_biotype', 'chromosome_name', 'start_position', 'end_position'), \n",
    "                filters = 'ensembl_gene_id', \n",
    "                values = unique(gene_sub),\n",
    "                mart = ensembl,\n",
    "                uniqueRows = TRUE)\n",
    "    \n",
    "    ## Shorten the descriptions by removing source info (could not vectorize!)\n",
    "    for (i in 1:dim(bm_annot)[1]) {\n",
    "        item1 <- unlist(strsplit(bm_annot[i,3], split = 'Source'))[1]\n",
    "        bm_annot$sdesc[i] <- substr(item1, 1, nchar(item1) - 2)\n",
    "        }\n",
    "    \n",
    "    ## Set up row names for easy lookup\n",
    "    rownames(bm_annot) <- bm_annot[,2]\n",
    "\n",
    "    ## Put the values in the network\n",
    "    V(gf)[r]$sdesc      <- bm_annot[gene_sub, 'sdesc']\n",
    "    V(gf)[r]$ename      <- bm_annot[gene_sub, 'external_gene_name']\n",
    "    V(gf)[r]$biotype    <- bm_annot[gene_sub, 'gene_biotype']\n",
    "    V(gf)[r]$chr        <- bm_annot[gene_sub, 'chromosome_name']\n",
    "    V(gf)[r]$strtpos    <- bm_annot[gene_sub, 'start_position']\n",
    "    V(gf)[r]$endpos     <- bm_annot[gene_sub, 'end_position']\n",
    "    \n",
    "    ##Add attribute to show annotation date-stamp(this code causes a graph object to be undisplayable)\n",
    "    ## graph_attr(gf, \"biomaRt Annot Date\") <- format(Sys.Date( ) , format=\"%B %d %Y\")\n",
    "    \n",
    "    return(gf)\n",
    "    }"
   ]
  },
  {
   "cell_type": "code",
   "execution_count": 6,
   "metadata": {},
   "outputs": [],
   "source": [
    "v19_parm <- function(gf, v19cfile){\n",
    "    \n",
    "    ## Get the v19 chromosomal information\n",
    "    v19chrom <- read.table(file = v19cfile, stringsAsFactors = FALSE, sep = '\\t',\n",
    "                           strip.white = TRUE)\n",
    "    \n",
    "    ## Set up the column and row names\n",
    "    row.names(v19chrom) <- v19chrom[, 'V5']\n",
    "    colnames(v19chrom) <- c('chr', 'desig', 'start', 'stop', 'ensembl_id')\n",
    "    \n",
    "    # return(gf)\n",
    "    \n",
    "    ## Add v19 chromosome info\n",
    "    V(gf)$v19chr <- v19chrom[V(gf)$gene,'chr']\n",
    "    V(gf)$v19start <- v19chrom[V(gf)$gene,'start']\n",
    "    V(gf)$v19stop <- v19chrom[V(gf)$gene,'stop']\n",
    "    \n",
    "    return(gf)\n",
    "    }"
   ]
  },
  {
   "cell_type": "code",
   "execution_count": 7,
   "metadata": {},
   "outputs": [],
   "source": [
    "# Apply standard plotting parameters to a multi-tissue network. Currently \n",
    "# can differentiate up to 4 tissues\n",
    "\n",
    "plot_parm <- function (gf) {\n",
    "\n",
    "    tissues <- table(V(gf)$tissue) \n",
    "    tnames <- names(tissues)\n",
    "    ntissues <- length(tnames)\n",
    "    fcolchoice <- c('red', 'blue', 'gray', 'magenta')\n",
    "    for (tid in 1:ntissues) {\n",
    "        V(gf)[V(gf)$tissue == tnames[tid]]$color <- fcolchoice[tid]\n",
    "    }\n",
    "    \n",
    "    ## Set the node color legend attribute (this code causes a graph object to be undisplayable)\n",
    "    # tlegend <- paste(tnames, fcolchoice[1:ntissues], sep = ' = ', collapse = ', ')\n",
    "    # graph_attr(gf, \"tissue color legend\") <- tlegend \n",
    "    \n",
    "    E(gf)$color[E(gf)$signedw > 0] <- 'green'\n",
    "    E(gf)$color[E(gf)$signedw < 0] <- 'orange'\n",
    "    fedthick <- 100 * abs(E(gf)$pcor)\n",
    "    V(gf)$label.cex = .1\n",
    "    E(gf)$label.cex = .1\n",
    "    V(gf)$label <- paste(substr(V(gf)$v19,1,10),\n",
    "                                   round(V(gf)$strength,3), sep = '\\n')\n",
    "    E(gf)$width <- fedthick\n",
    "    E(gf)$label <- round(E(gf)$signedw, 4)\n",
    "    V(gf)$size <- 1\n",
    "    \n",
    "    # E(gf)$color[E(gf)$signedw > 0] <- 'green'\n",
    "    # E(gf)$color[E(gf)$signedw < 0] <- 'orange'\n",
    "    # fedthick <- 100 * abs(E(gf)$pcor)\n",
    "    # V(gf)$label.cex = .1\n",
    "    # E(gf)$label.cex = .1\n",
    "    # V(gf)$vertex.label <- paste(substr(V(gf)$v19,1,10),\n",
    "    #                                round(V(gf)$strength,3), sep = '\\n')\n",
    "    # E(gf)$edge.width <- fedthick\n",
    "    # E(gf)$edge.label <- round(E(gf))$signedw\n",
    "    # V(gf)$vertex.size <- 1\n",
    "    \n",
    "    return(gf)\n",
    "    }"
   ]
  },
  {
   "cell_type": "code",
   "execution_count": 8,
   "metadata": {},
   "outputs": [],
   "source": [
    "## Create a file with extracted v19 chromosomal info in it\n",
    "make_v19chrom <- function(infile, outfile){\n",
    "\n",
    "    t9 <- \"cat \"\n",
    "    t10  <- \" | grep -v '##' | grep -v 'exon' | cut -f1,4  -d ' '\"\n",
    "    t11 <- \" | tr '\\ ' '\\t' | cut -f1,3,4,5,10 | grep 'gene' | tr ';' ' ' > \"\n",
    "    cmd <- paste(t9, infile, t10, t11, outfile, sep = '')\n",
    "    \n",
    "    ## Execute the command\n",
    "    temp <- qosc(cmd) # Execute the command\n",
    "    \n",
    "    ## Return value is not really needed\n",
    "    return(cmd)\n",
    "}"
   ]
  },
  {
   "cell_type": "code",
   "execution_count": 10,
   "metadata": {},
   "outputs": [
    {
     "name": "stdout",
     "output_type": "stream",
     "text": [
      "[1] \"[NbConvertApp] Converting notebook setup_igraph.ipynb to script\"\n",
      "[2] \"[NbConvertApp] Writing 7669 bytes to setup_igraph.r\"            \n"
     ]
    }
   ],
   "source": [
    "## Execute the next cell before running this cell to convert this file to an R script\n",
    "if (!FirstRun) print(osc(\"jupyter nbconvert setup_igraph.ipynb --to script\"))"
   ]
  },
  {
   "cell_type": "code",
   "execution_count": 9,
   "metadata": {},
   "outputs": [],
   "source": [
    "## Execute this cell, and then the cell above to convert this file to an R script\n",
    "FirstRun <- FALSE"
   ]
  },
  {
   "cell_type": "code",
   "execution_count": null,
   "metadata": {},
   "outputs": [],
   "source": [
    "## removed old function save_net"
   ]
  }
 ],
 "metadata": {
  "kernelspec": {
   "display_name": "R",
   "language": "R",
   "name": "ir"
  },
  "language_info": {
   "codemirror_mode": "r",
   "file_extension": ".r",
   "mimetype": "text/x-r-source",
   "name": "R",
   "pygments_lexer": "r",
   "version": "3.5.1"
  }
 },
 "nbformat": 4,
 "nbformat_minor": 2
}
