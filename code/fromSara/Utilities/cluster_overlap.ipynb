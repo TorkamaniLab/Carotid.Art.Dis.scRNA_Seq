{
 "cells": [
  {
   "cell_type": "code",
   "execution_count": null,
   "metadata": {},
   "outputs": [],
   "source": [
    "# This function scores the matchup between two groups of clusters.\n",
    "\n",
    "## 1) it gets cluster set 1's node names\n",
    "## 2) it loops through cluster set 2 to find the best match ((set1 genes in set 2)/set1)\n",
    "## 3) prints % overlap and overlapping genes between the best match cluster\n",
    "\n",
    "# users need to input:\n",
    "## (clusters1), the membership vector of cluster set 1\n",
    "## (clusters2), the membership vector of cluster set 2\n",
    "## (name1), the name of set 1 for the ouptput sentance\n",
    "## (name2), the name of set 2 for the ouptput sentance"
   ]
  },
  {
   "cell_type": "code",
   "execution_count": 6,
   "metadata": {},
   "outputs": [],
   "source": [
    "## This executes a system command\n",
    "## Note that the environment path is incorrect and needs to be fixed for commands to work\n",
    "## nbconvert needs this code\n",
    "\n",
    "Sys.setenv(PATH = paste(\"/usr/lib64/qt-3.3/bin:/opt/applications/cytoscape/\",\n",
    "                        \"3.3.0:/opt/applications/R/3.5.1/gnu/bin:/opt/applications/\",\n",
    "                        \"gcc/4.9.4/bin:/opt/applications/java/jdk1.8.0_65/bin:/opt/\",\n",
    "                        \"applications/ant/apache-ant-1.9.0/bin:/opt/applications/\",\n",
    "                        \"python/3.6.3/gnu/bin:/usr/local/go/bin:/usr/local/sbin:/\",\n",
    "                        \"usr/local/bin:/sbin:/bin:/usr/sbin:/usr/bin:/usr/local/\",\n",
    "                        \"bin:/usr/lpp/mmfs/bin:/root/bin:/usr/local/bin:/usr/lpp/mmfs/bin\",\n",
    "                       sep = ''))\n",
    "\n",
    "osc <- function (cmd) {\n",
    "    scra <- '/gpfs/group/torkamani/devans/GTEx/Scratch.Area/' # Location of temporary files\n",
    "    fullcmd <- paste(cmd, ' >& ', scra, 'temp.txt', sep = '')\n",
    "    system(fullcmd)\n",
    "    lines <- readLines(paste(scra, 'temp.txt', sep = ''))\n",
    "    system(paste('rm ', scra, 'temp.txt', sep = ''))\n",
    "    return(lines)\n",
    "    }"
   ]
  },
  {
   "cell_type": "code",
   "execution_count": 7,
   "metadata": {},
   "outputs": [],
   "source": [
    "cluster_overlap <- function(clusters1, clusters2, name1 = 'Group 1', name2 = 'group2'){\n",
    "    \n",
    "    for (i in 1:length(unique(clusters1))){\n",
    "        nodenames <- V(tgraph)$name[clusters1 == i]\n",
    "        nodenum <- sum(clusters1 == i)\n",
    "        bestmatch <- 1             #temporary, just to initialize variable\n",
    "        whichmatch <- nodenames    #temporary, just to initialize variable\n",
    "        percentmatch <- 0          #temporary, just to initialize variable\n",
    "        for (j in 1:length(unique(clusters2))){\n",
    "            othernames <- V(tgraph)$name[clusters2 == j]\n",
    "            numinboth <- sum(nodenames %in% othernames)\n",
    "            percent <- (numinboth/nodenum)*100\n",
    "            if(percent > percentmatch){\n",
    "                bestmatch <- j\n",
    "                percentmatch <- percent\n",
    "                whichmatch <- nodenames[nodenames %in% othernames]\n",
    "            }\n",
    "        }\n",
    "        print(paste(name1, \" cluster \", i , \" matches \", name2, \" cluster \" , bestmatch , \". Percent match is \" , percentmatch, sep = ''))\n",
    "        print(\"The nodes in both are:\")\n",
    "        print(whichmatch)\n",
    "    }\n",
    "}"
   ]
  },
  {
   "cell_type": "code",
   "execution_count": 8,
   "metadata": {},
   "outputs": [],
   "source": [
    "cluster_overlap.help <- function() {\n",
    "    cat(\"THANK YOU FOR CALLING THE HELP DESK :)\")\n",
    "    cat(\"# This function scores the matchup between two groups of clusters.\n",
    "\n",
    "    ## 1) it gets cluster set 1's node names\n",
    "    ## 2) it loops through cluster set 2 to find the best match ((set1 genes in set 2)/set1)\n",
    "    ## 3) prints % overlap and overlapping genes between the best match cluster\n",
    "\n",
    "    # users need to input:\n",
    "    ## (clusters1), the membership vector of cluster set 1\n",
    "    ## (clusters2), the membership vector of cluster set 2\n",
    "    ## (name1), the name of set 1 for the ouptput sentance\n",
    "    ## (name2), the name of set 2 for the ouptput sentance\")\n",
    "}"
   ]
  },
  {
   "cell_type": "code",
   "execution_count": 1,
   "metadata": {},
   "outputs": [],
   "source": [
    "## This cell prevents the nbconvert code below from excuting when this module is loaded using \"source\" function\n",
    "FirstRun <- TRUE"
   ]
  },
  {
   "cell_type": "code",
   "execution_count": 10,
   "metadata": {},
   "outputs": [
    {
     "name": "stdout",
     "output_type": "stream",
     "text": [
      "[1] \"[NbConvertApp] Converting notebook cluster_overlap.ipynb to script\"\n",
      "[2] \"[NbConvertApp] Writing 3763 bytes to cluster_overlap.r\"            \n"
     ]
    }
   ],
   "source": [
    "## Execute the next cell before running this cell to convert this file to an R script\n",
    "if (!FirstRun) print(osc(\"jupyter nbconvert cluster_overlap.ipynb --to script\"))"
   ]
  },
  {
   "cell_type": "code",
   "execution_count": 9,
   "metadata": {},
   "outputs": [],
   "source": [
    "## Execute this cell, and then the cell above to convert this file to an R script\n",
    "FirstRun <- FALSE"
   ]
  },
  {
   "cell_type": "code",
   "execution_count": null,
   "metadata": {},
   "outputs": [],
   "source": []
  }
 ],
 "metadata": {
  "kernelspec": {
   "display_name": "R",
   "language": "R",
   "name": "ir"
  },
  "language_info": {
   "codemirror_mode": "r",
   "file_extension": ".r",
   "mimetype": "text/x-r-source",
   "name": "R",
   "pygments_lexer": "r",
   "version": "3.5.1"
  }
 },
 "nbformat": 4,
 "nbformat_minor": 2
}
