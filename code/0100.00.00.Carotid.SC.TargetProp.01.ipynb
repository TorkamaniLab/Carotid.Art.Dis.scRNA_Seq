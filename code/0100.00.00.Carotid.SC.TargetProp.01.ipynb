{
 "cells": [
  {
   "cell_type": "code",
   "execution_count": 1,
   "metadata": {},
   "outputs": [],
   "source": [
    "## ---- Target Data Prep Note ------\n",
    "## Prepare Input and Output Data Directories (R)\n",
    "## Identify and Set Up Analysis Parameters (R)\n",
    "## Store Data and Analsyis Parameters Used for All Notebooks (Parm1)"
   ]
  },
  {
   "cell_type": "code",
   "execution_count": 1,
   "metadata": {},
   "outputs": [],
   "source": [
    "## Create a Working Input and Output Data Directory, If Id Does Not Exist\n",
    "parentdir <- '/gpfs/group/torkamani/devans/'\n",
    "datdir <- paste(parentdir, 'CDC2', sep = '')\n",
    "if (!file.exists(datdir)) {\n",
    "    dir.create(datdir)\n",
    "}\n",
    "setwd(datdir)"
   ]
  },
  {
   "cell_type": "code",
   "execution_count": 2,
   "metadata": {},
   "outputs": [],
   "source": [
    "## Create the Input and Output Data Directories, If They Do Not Exist\n",
    "indir <- 'inputdat/'\n",
    "outdir <- 'outputdat/'\n",
    "if (!file.exists(indir)) dir.create(indir)\n",
    "if (!file.exists(outdir)) dir.create(outdir)"
   ]
  },
  {
   "cell_type": "code",
   "execution_count": 3,
   "metadata": {},
   "outputs": [],
   "source": [
    "## Copy the Input Data Sets Into The Target Input Directories (may not use all of these)\n",
    "## First get the aggregated data\n",
    "srcparent1 <- paste('/gpfs/group/torkamani/devans/COR.ART/ALLprocessed.7.25.2019/',\n",
    "                    '3patients_ca_ne_608_619_627/AGGREGATEMAPPED-tisCAR6samples_results/', sep = '')\n",
    "srcdir1 <-  'outs/'\n",
    "srcdir2 <- 'AGGREGATEMAPPED-tisCAR6samples_analysis/'\n",
    "srcfil1 <- 'AGGREGATEMAPPED-tisCAR6samples_expression.csv'\n",
    "srcfil2 <- 'AGGREGATEMAPPED-tisCAR6samples_metadata.csv'\n",
    "srcfil3 <- 'AGGREGATEMAPPED-tisCAR6samples_analysis.tar'\n",
    "srcfil4 <- 'AGGREGATEMAPPED-tisCAR6samples_featurebcmatrixfiltered.h5'\n",
    "srcfil5 <- 'AGGREGATEMAPPED-tisCAR6samples_featurebcmatrixfiltered.tar'\n",
    "srcfil6 <- 'AGGREGATEMAPPED-tisCAR6samples_featurebcmatrixraw.h5'\n",
    "srcfil7 <- 'AGGREGATEMAPPED-tisCAR6samples_featurebcmatrixraw.tar'\n",
    "srcfil8 <- 'AGGREGATEMAPPED-tisCAR6samples_loupe.cloupe'\n",
    "srcfil9 <- 'AGGREGATEMAPPED-tisCAR6samples_summary.html'\n",
    "\n",
    "## Second get the patient specific data \n",
    "## This data was manually split apart and restructured in the source directories)\n",
    "srcparent2 <- '/gpfs/group/torkamani/devans/COR.ART/processed/'\n",
    "# srcdir3 <- 'ca_ne_608_001_400_000_alsaigh_SR_human-ensembl-grch38-r91/'\n",
    "# srcdir4 <- 'ca_ne_619_001_400_000_alsaigh_SR_human-ensembl-grch38-r91/'\n",
    "# srcdir5 <- 'ca_ne_627_001_400_050_alsaigh_SR_human-ensembl-grch38-r91/'\n",
    "srcdir6 <- 'con345/'\n",
    "\n",
    "srclist1 <- c(srcdir1, srcdir2, srcfil1, srcfil2, srcfil3, srcfil4,\n",
    "            srcfil5, srcfil6, srcfil7, srcfil8, srcfil9)\n",
    "             \n",
    "srclist2 <- srcdir6\n",
    "\n",
    "for (src2copy in srclist1) {\n",
    "    if (!file.exists(paste(indir, src2copy, sep = ''))) { \n",
    "        file.copy(paste(srcparent1, src2copy, sep = ''), indir, recursive = TRUE)\n",
    "        }\n",
    "    }\n",
    "\n",
    "for (src2copy in srclist2) {\n",
    "    if (!file.exists(paste(indir, src2copy, sep = ''))) { \n",
    "        file.copy(paste(srcparent2, src2copy, sep = ''), indir, recursive = TRUE)\n",
    "        }\n",
    "    }"
   ]
  },
  {
   "cell_type": "code",
   "execution_count": 4,
   "metadata": {},
   "outputs": [],
   "source": [
    "## Store the parameters in the parms file (row 1 is parameter name, row 2 is the value)\n",
    "# parms_fp <- paste(outdir, 'parms.txt', sep = '')\n",
    "pnames <- c('indir', 'outdir', 'outsdir.10x', 'expdatfile.10x', 'metadatfile.10x',\n",
    "           'conpath')\n",
    "pdata <- c(indir, outdir, srcdir1, srcfil1, srcfil2, srcdir6)\n",
    "parms <- rbind(pnames, pdata)\n",
    "write.table(parms, file = 'parms.txt', col.names = FALSE, row.names = FALSE)\n",
    "# write.table(parms, file = parms_fp, col.names = FALSE, row.names = FALSE)"
   ]
  },
  {
   "cell_type": "code",
   "execution_count": 5,
   "metadata": {},
   "outputs": [
    {
     "data": {
      "text/html": [
       "TRUE"
      ],
      "text/latex": [
       "TRUE"
      ],
      "text/markdown": [
       "TRUE"
      ],
      "text/plain": [
       "[1] TRUE"
      ]
     },
     "metadata": {},
     "output_type": "display_data"
    },
    {
     "data": {
      "text/html": [
       "TRUE"
      ],
      "text/latex": [
       "TRUE"
      ],
      "text/markdown": [
       "TRUE"
      ],
      "text/plain": [
       "[1] TRUE"
      ]
     },
     "metadata": {},
     "output_type": "display_data"
    }
   ],
   "source": [
    "## Copy over the V27 Genecode data\n",
    "# Output data file (saved intermediate data files) root directory:\n",
    "dwa <- '/gpfs/group/torkamani/devans/GTEx/Data.Work.Area.2/'\n",
    "# Point data work area for group 1\n",
    "amdwa1 <- paste(dwa, 'xTissue/01.01.am.extract/', sep='')\n",
    "# Read Ensembl to Huge Name Translation file (v27)\n",
    "gen_v27_out <- paste(amdwa1, 'v27_Embl_Hugo.txt', sep ='')\n",
    "file.copy(gen_v27_out, indir, recursive = FALSE)\n",
    "gen_v27_pt_out <- paste(amdwa1, 'v27_Embl_Hugo_Type.txt', sep ='')\n",
    "file.copy(gen_v27_pt_out, indir, recursive = FALSE)"
   ]
  },
  {
   "cell_type": "code",
   "execution_count": 6,
   "metadata": {},
   "outputs": [
    {
     "data": {
      "text/html": [
       "'AGGREGATEMAPPED-tisCAR6samples_expression.csv'"
      ],
      "text/latex": [
       "'AGGREGATEMAPPED-tisCAR6samples\\_expression.csv'"
      ],
      "text/markdown": [
       "'AGGREGATEMAPPED-tisCAR6samples_expression.csv'"
      ],
      "text/plain": [
       "[1] \"AGGREGATEMAPPED-tisCAR6samples_expression.csv\""
      ]
     },
     "metadata": {},
     "output_type": "display_data"
    }
   ],
   "source": [
    "## Example of reading and using the parameters file\n",
    "# ps <- read.table(file = parms_fp, stringsAsFactors = FALSE, header = TRUE)\n",
    "ps <- read.table(file = 'parms.txt', stringsAsFactors = FALSE, header = TRUE)\n",
    "ps$expdatfile.10x"
   ]
  },
  {
   "cell_type": "code",
   "execution_count": 7,
   "metadata": {},
   "outputs": [
    {
     "data": {
      "text/html": [
       "<table>\n",
       "<caption>A data.frame: 1 × 6</caption>\n",
       "<thead>\n",
       "\t<tr><th scope=col>indir</th><th scope=col>outdir</th><th scope=col>outsdir.10x</th><th scope=col>expdatfile.10x</th><th scope=col>metadatfile.10x</th><th scope=col>conpath</th></tr>\n",
       "\t<tr><th scope=col>&lt;chr&gt;</th><th scope=col>&lt;chr&gt;</th><th scope=col>&lt;chr&gt;</th><th scope=col>&lt;chr&gt;</th><th scope=col>&lt;chr&gt;</th><th scope=col>&lt;chr&gt;</th></tr>\n",
       "</thead>\n",
       "<tbody>\n",
       "\t<tr><td>inputdat/</td><td>outputdat/</td><td>outs/</td><td>AGGREGATEMAPPED-tisCAR6samples_expression.csv</td><td>AGGREGATEMAPPED-tisCAR6samples_metadata.csv</td><td>con345/</td></tr>\n",
       "</tbody>\n",
       "</table>\n"
      ],
      "text/latex": [
       "A data.frame: 1 × 6\n",
       "\\begin{tabular}{r|llllll}\n",
       " indir & outdir & outsdir.10x & expdatfile.10x & metadatfile.10x & conpath\\\\\n",
       " <chr> & <chr> & <chr> & <chr> & <chr> & <chr>\\\\\n",
       "\\hline\n",
       "\t inputdat/ & outputdat/ & outs/ & AGGREGATEMAPPED-tisCAR6samples\\_expression.csv & AGGREGATEMAPPED-tisCAR6samples\\_metadata.csv & con345/\\\\\n",
       "\\end{tabular}\n"
      ],
      "text/markdown": [
       "\n",
       "A data.frame: 1 × 6\n",
       "\n",
       "| indir &lt;chr&gt; | outdir &lt;chr&gt; | outsdir.10x &lt;chr&gt; | expdatfile.10x &lt;chr&gt; | metadatfile.10x &lt;chr&gt; | conpath &lt;chr&gt; |\n",
       "|---|---|---|---|---|---|\n",
       "| inputdat/ | outputdat/ | outs/ | AGGREGATEMAPPED-tisCAR6samples_expression.csv | AGGREGATEMAPPED-tisCAR6samples_metadata.csv | con345/ |\n",
       "\n"
      ],
      "text/plain": [
       "  indir     outdir     outsdir.10x\n",
       "1 inputdat/ outputdat/ outs/      \n",
       "  expdatfile.10x                               \n",
       "1 AGGREGATEMAPPED-tisCAR6samples_expression.csv\n",
       "  metadatfile.10x                             conpath\n",
       "1 AGGREGATEMAPPED-tisCAR6samples_metadata.csv con345/"
      ]
     },
     "metadata": {},
     "output_type": "display_data"
    }
   ],
   "source": [
    "ps"
   ]
  },
  {
   "cell_type": "code",
   "execution_count": null,
   "metadata": {},
   "outputs": [],
   "source": []
  }
 ],
 "metadata": {
  "kernelspec": {
   "display_name": "R",
   "language": "R",
   "name": "ir"
  },
  "language_info": {
   "codemirror_mode": "r",
   "file_extension": ".r",
   "mimetype": "text/x-r-source",
   "name": "R",
   "pygments_lexer": "r",
   "version": "3.5.1"
  }
 },
 "nbformat": 4,
 "nbformat_minor": 2
}
