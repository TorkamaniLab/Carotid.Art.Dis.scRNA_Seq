{
 "cells": [
  {
   "cell_type": "code",
   "execution_count": 1,
   "metadata": {},
   "outputs": [],
   "source": [
    "## ---- Global Cell Set Characterization Notebook ----\n",
    "## This is a modified version of the 0300.00.00 Notebook\n",
    "## for Some Reformatted Plots Needed for the Paper\n",
    "## Load Analysis Parameters (Parm1)\n",
    "## Read R Data Object from Prior Notebook (CDS1)\n",
    "## Characterize Partition - Statatics (Monocle3)\n",
    "## Compute Top Genes By Partition an Save Result (added all 10/29/2019)\n",
    "## Create Global Cell Plots as Needed and Save Results\n",
    "## Create Global Partition DOT Plots as Needed and Save Results\n",
    "## Perform Eigencell Analysis and Plot Results as Needed and Save Results\n",
    "## Perform Cross Partition Network Analysis\n",
    "## Save CDS Result As An R Data Object (CDS2)\n",
    "## Compute the mean of the maximum pseudo_R2rds for Tom's genes in the dot plot"
   ]
  },
  {
   "cell_type": "code",
   "execution_count": 2,
   "metadata": {},
   "outputs": [],
   "source": [
    "## Create a Working Input and Output Data Directory, If Id Does Not Exist\n",
    "parentdir <- '/gpfs/group/torkamani/devans/'\n",
    "datdir <- paste(parentdir, 'CDC2', sep = '')\n",
    "if (!file.exists(datdir)) {\n",
    "    dir.create(datdir)\n",
    "}\n",
    "setwd(datdir)"
   ]
  },
  {
   "cell_type": "code",
   "execution_count": 3,
   "metadata": {},
   "outputs": [],
   "source": [
    "## Read the parameters file\n",
    "ps <- read.table(file = 'parms.txt', stringsAsFactors = FALSE, header = TRUE)"
   ]
  },
  {
   "cell_type": "code",
   "execution_count": 5,
   "metadata": {},
   "outputs": [],
   "source": [
    "## Load Monocle3 and Seurat Libraries\n",
    "library(monocle3)\n",
    "library(Seurat)\n",
    "library(dplyr)\n",
    "library(magrittr)\n",
    "library(ggplot2)\n",
    "library(gridExtra)\n",
    "library(Matrix)\n",
    "library(rhdf5)\n",
    "library(grid)"
   ]
  },
  {
   "cell_type": "code",
   "execution_count": 6,
   "metadata": {},
   "outputs": [],
   "source": [
    "## Read the previously preprocessed downsampled cell set data object\n",
    "down_stdycds <- readRDS(file = paste(ps$outdir,\n",
    "                        'Aggregated.downsampled.QC.NoDoublets.Repartitioned.rds', sep = ''))"
   ]
  },
  {
   "cell_type": "code",
   "execution_count": 7,
   "metadata": {},
   "outputs": [],
   "source": [
    "## Build a gene short name to gene id (Ensembl) lookup\n",
    "short2geneid <- fData(down_stdycds)@rownames\n",
    "names(short2geneid) <- fData(down_stdycds)@listData$gene_short_name"
   ]
  },
  {
   "cell_type": "code",
   "execution_count": 8,
   "metadata": {},
   "outputs": [],
   "source": [
    "## Build a gene id (Ensembl) to gene short name lookup\n",
    "geneid2short <- fData(down_stdycds)@listData$gene_short_name\n",
    "names(geneid2short) <- fData(down_stdycds)@rownames"
   ]
  },
  {
   "cell_type": "code",
   "execution_count": 9,
   "metadata": {},
   "outputs": [],
   "source": [
    "## Create variables for how cells sets are organized\n",
    "cellgrps <- c('healthy', 'diseased', 'healthy', 'diseased', 'healthy', 'diseased')\n",
    "cellpats <- c('ID Number 1', 'ID Number 1', 'ID Number 2', 'ID Number 2', 'ID Number 3', 'ID Number 3')"
   ]
  },
  {
   "cell_type": "code",
   "execution_count": 10,
   "metadata": {},
   "outputs": [],
   "source": [
    "## Define and Assign Cell Types\n",
    "celltypes6 <- c('1-Macrophages',\n",
    "                '2-Endothelial Cells',\n",
    "                '3-VSMCs',\n",
    "                '4-Natural Killer Cells',\n",
    "                '5-Cytotoxic T Lymphocytes',\n",
    "                '6-B Lymphocytes')"
   ]
  },
  {
   "cell_type": "code",
   "execution_count": 11,
   "metadata": {},
   "outputs": [],
   "source": [
    "## Declare Tom's best genes for definiting cell types\n",
    "toms_markers5 <- c('NRXN1', 'CLU', 'ICAM2',\n",
    "                 'CD14', 'CD68', 'AIF1',\n",
    "                 'VWF', 'EDN1', 'ECSCR',\n",
    "                 'MKI67', 'UBE2C', 'TOP2A',\n",
    "                 'ACTA2', 'TAGLN', 'MYL9',\n",
    "                 'ACKR1', 'SPARCL1', 'PECAM1',\n",
    "                 'CALD1', 'MGP', 'DCN',\n",
    "                 'NKG7', 'XCL1', 'CTSW',\n",
    "                 'CD8A', 'TRAC', 'CD2',\n",
    "                 'MS4A1', 'CD79A', 'BANK1',\n",
    "                 'CD69', 'CXCR4', 'IL7R',\n",
    "                 'LILRA4', 'IRF7', 'CLEC4C',\n",
    "                 'MZB1', 'JCHAIN', 'TNFRSF17',\n",
    "                 'LST1', 'FCGR3B', 'S100A8',\n",
    "                 'TPSAB1', 'CPA3', 'MS4A2')\n",
    "toms_gene_ids5 <- short2geneid[toms_markers5]\n",
    "\n",
    "toms_markers6 <- c('AIF1', 'CD14', 'CD68',\n",
    "                'VWF', 'PECAM1', 'ECSCR',\n",
    "                'CALD1', 'MYL9', 'TAGLN',\n",
    "                'NKG7', 'XCL1', 'CTSW',\n",
    "                'CD2', 'TRAC', 'CD69',\n",
    "                'CD79A', 'MS4A1', 'IGKC')\n",
    "toms_gene_ids6 <- short2geneid[toms_markers6]\n",
    "\n",
    "doug_markers1 <- c('AIF1', 'LYZ', 'FCER1G',  'CD68',\n",
    "                'RNASE1', 'PECAM1', 'IGFBP4', 'ADIRF', \n",
    "                'SOD3', 'MYL9', 'CALD1', 'GSN',\n",
    "                'TYROBP', 'NKG7', 'CTSW', 'CD69',\n",
    "                'CD3D', 'CD2', 'TRBC2', 'TRAC',\n",
    "                'MS4A1', 'CD79A', 'HLA-DQA1', 'CD37')\n",
    "dougs_gene_ids1 <- short2geneid[doug_markers1]"
   ]
  },
  {
   "cell_type": "code",
   "execution_count": 12,
   "metadata": {},
   "outputs": [],
   "source": [
    "## The stats data was output in the last notebook\n",
    "# ## Force the partition breakdown (cell counts by partition across patients, disease and healthy)\n",
    "# no.parts <- 6\n",
    "# part_stats <- as.data.frame(matrix('', nrow = no.parts,\n",
    "#                                    ncol = length(cellgrps)), stringsAsFactors = FALSE)"
   ]
  },
  {
   "cell_type": "code",
   "execution_count": 13,
   "metadata": {},
   "outputs": [],
   "source": [
    "## The stats data was output in the last notebook\n",
    "# ## Add the cell groups and patient IDs to the first two rows\n",
    "# part_stats <- rbind(cellpats, cellgrps, part_stats)\n",
    "# ## Add the partition names (cell types), and first two column row names as well\n",
    "# row.names(part_stats) <- c('Patient ID', 'Condition', celltypes6)"
   ]
  },
  {
   "cell_type": "code",
   "execution_count": 14,
   "metadata": {},
   "outputs": [],
   "source": [
    "# parts <- partitions(down_stdycds)\n",
    "# for (c in 1:dim(part_stats)[2]) {\n",
    "#     for (r in 3:dim(part_stats)[1]) {\n",
    "#         cells <- sum((parts == (r - 2)) &\n",
    "#                      (colData(down_stdycds)$patient ==  cellpats[c])  &\n",
    "#                      (colData(down_stdycds)$condition ==  cellgrps[c]))\n",
    "#         part_stats[r, c] <- cells\n",
    "#     }\n",
    "# }"
   ]
  },
  {
   "cell_type": "code",
   "execution_count": 15,
   "metadata": {},
   "outputs": [],
   "source": [
    "# ## Save the partition statistics\n",
    "# write.table(part_stats,\n",
    "#             file = paste(ps$outdir, 'Aggregated.downsampled.QC.Partition.CellCount.Stats.txt', sep = ''),\n",
    "#             col.names = FALSE)"
   ]
  },
  {
   "cell_type": "code",
   "execution_count": 20,
   "metadata": {},
   "outputs": [
    {
     "name": "stdout",
     "output_type": "stream",
     "text": [
      "  |=======================================================| 100%, Elapsed 00:04\n",
      "  |=======================================================| 100%, Elapsed 05:09\n"
     ]
    }
   ],
   "source": [
    "## Compute top 500 marker files\n",
    "# topmarkerfile <- paste(ps$outdir, 'Aggregated.downsampled.QC.Top500MarkersPer.Rev2.tsv', sep = '')\n",
    "marker_test_res_top500 <- top_markers(down_stdycds, group_cells_by = \"assigned_cell_type\",\n",
    "                                       genes_to_test_per_group = 500, # dim(down_stdycds)[1], \n",
    "                                       reference_cells = dim(down_stdycds)[2], cores = 4)"
   ]
  },
  {
   "cell_type": "code",
   "execution_count": 27,
   "metadata": {},
   "outputs": [],
   "source": [
    "## Save top 500 markers to a file\n",
    "    marker_test_res_top500_with_GC <- marker_test_res_top500[,c(1,2,2,3:10)]\n",
    "    colnames(marker_test_res_top500_with_GC)[2] <- 'gene_cards'\n",
    "    nmarkers1 <- dim(marker_test_res_top500_with_GC)[1]\n",
    "    gc_hyper1 <- '=HYPERLINK(CONCAT(\"https://www.genecards.org/Search/Keyword?queryString=\", '\n",
    "    gc_hyper1 <- paste(gc_hyper1, 'A', 2:(nmarkers1 + 1), '), C', 2:(nmarkers1 + 1), ')', sep ='')\n",
    "    marker_test_res_top500_with_GC$gene_cards = gc_hyper1"
   ]
  },
  {
   "cell_type": "code",
   "execution_count": 28,
   "metadata": {},
   "outputs": [],
   "source": [
    "## Actually write the file\n",
    "top500markerfile <- paste(ps$outdir, 'Aggregated.downsampled.QC.Top500MarkersPer.Rev2.tsv', sep = '')\n",
    "write.table(marker_test_res_top500_with_GC, file = top500markerfile,\n",
    "            row.names = FALSE, col.names = TRUE,\n",
    "            sep = '\\t', quote = FALSE)"
   ]
  },
  {
   "cell_type": "code",
   "execution_count": 24,
   "metadata": {},
   "outputs": [
    {
     "name": "stdout",
     "output_type": "stream",
     "text": [
      "  |=======================================================| 100%, Elapsed 00:04\n",
      "  |====================================================| 100%, Elapsed 04:13:12\n"
     ]
    }
   ],
   "source": [
    "## Compute all top marker files\n",
    "# topmarkerfile <- paste(ps$outdir, 'Aggregated.downsampled.QC.TopAllMarkersPer.Rev2.tsv', sep = '')\n",
    "marker_test_res_topall <- top_markers(down_stdycds, group_cells_by = \"assigned_cell_type\",\n",
    "                                       genes_to_test_per_group = dim(down_stdycds)[1], \n",
    "                                       reference_cells = dim(down_stdycds)[2], cores = 4)"
   ]
  },
  {
   "cell_type": "code",
   "execution_count": 25,
   "metadata": {},
   "outputs": [
    {
     "ename": "ERROR",
     "evalue": "Error in eval(expr, envir, enclos): object 'marker_test_res_topall' not found\n",
     "output_type": "error",
     "traceback": [
      "Error in eval(expr, envir, enclos): object 'marker_test_res_topall' not found\nTraceback:\n"
     ]
    }
   ],
   "source": [
    "## Save all top markers to a file\n",
    "    marker_test_res_topall_with_GC <- marker_test_res_topall[,c(1,2,2,3:10)]\n",
    "    colnames(marker_test_res_topall_with_GC)[2] <- 'gene_cards'\n",
    "    nmarkers1 <- dim(marker_test_res_topall_with_GC)[1]\n",
    "    gc_hyper1 <- '=HYPERLINK(CONCAT(\"https://www.genecards.org/Search/Keyword?queryString=\", '\n",
    "    gc_hyper1 <- paste(gc_hyper1, 'A', 2:(nmarkers1 + 1), '), C', 2:(nmarkers1 + 1), ')', sep ='')\n",
    "    marker_test_res_topall_with_GC$gene_cards <- gc_hyper1\n",
    "\n",
    "    "
   ]
  },
  {
   "cell_type": "code",
   "execution_count": 26,
   "metadata": {},
   "outputs": [],
   "source": [
    "## Actually write the file\n",
    "topmarkerfile <- paste(ps$outdir, 'Aggregated.downsampled.QC.TopAllMarkersPer.Rev2.tsv', sep = '')\n",
    "write.table(marker_test_res_topall_with_GC, file = topmarkerfile,\n",
    "            row.names = FALSE, col.names = TRUE,\n",
    "            sep = '\\t', quote = FALSE)"
   ]
  },
  {
   "cell_type": "code",
   "execution_count": 12,
   "metadata": {},
   "outputs": [],
   "source": [
    "topmarkerfile <- paste(ps$outdir, 'Aggregated.downsampled.QC.TopAllMarkersPer.Rev2.tsv', sep = '')\n",
    "marker_test_res_topall_with_GC <- read.table(topmarkerfile, header = TRUE, sep = '\\t')"
   ]
  },
  {
   "cell_type": "code",
   "execution_count": null,
   "metadata": {},
   "outputs": [],
   "source": []
  },
  {
   "cell_type": "code",
   "execution_count": null,
   "metadata": {},
   "outputs": [],
   "source": []
  },
  {
   "cell_type": "code",
   "execution_count": 34,
   "metadata": {},
   "outputs": [],
   "source": [
    "## Prepare to create a dot plot (modified version of Monocle 3)\n",
    "top_specific_markers3 <- marker_test_res_top500_with_GC %>%\n",
    "                            filter(fraction_expressing >= 0.10) %>%\n",
    "                            group_by(cell_group) %>%\n",
    "                            top_n(3, pseudo_R2)\n",
    "top_specific_marker_ids <- unique(top_specific_markers3 %>% pull(gene_id))\n",
    "top_specific_genes <- as.character(geneid2short[top_specific_marker_ids])\n",
    "top_specific_marker_ids <- short2geneid[top_specific_genes]"
   ]
  },
  {
   "cell_type": "code",
   "execution_count": 35,
   "metadata": {},
   "outputs": [],
   "source": [
    "source('~/code/CSC.Run2/0700.00.00.Carotid.SC.Utilities.01.r')"
   ]
  },
  {
   "cell_type": "code",
   "execution_count": 42,
   "metadata": {},
   "outputs": [],
   "source": [
    "## This is a dot plot of the toms list of marker genes (5th iteration)\n",
    "g5 <- plot_genes_by_group2(down_stdycds,\n",
    "                    axis_order = \"group_marker\",\n",
    "                    toms_gene_ids6,\n",
    "                    group_cells_by = \"assigned_cell_type\",\n",
    "                    ordering_type = \"as_ordered\", # \"cluster_row_col\" \"as_ordered\"\n",
    "                    max.size = 8,\n",
    "                    norm_method = 'size_only',\n",
    "                    scale_max = 3, scale_min = -3)"
   ]
  },
  {
   "cell_type": "code",
   "execution_count": 30,
   "metadata": {},
   "outputs": [],
   "source": [
    "## Write the updated dot plot to a file\n",
    "plotfile <- 'Aggregated.downsampled.QC.DougsGenes.DOTPlot.Rev1.pdf'\n",
    "plotfp <- paste(ps$outdir, plotfile, sep = '')"
   ]
  },
  {
   "cell_type": "code",
   "execution_count": 31,
   "metadata": {},
   "outputs": [
    {
     "data": {
      "text/html": [
       "<strong>png:</strong> 2"
      ],
      "text/latex": [
       "\\textbf{png:} 2"
      ],
      "text/markdown": [
       "**png:** 2"
      ],
      "text/plain": [
       "png \n",
       "  2 "
      ]
     },
     "metadata": {},
     "output_type": "display_data"
    }
   ],
   "source": [
    "pdf(plotfp, width = 10, height = 12)\n",
    "g5\n",
    "dev.off()"
   ]
  },
  {
   "cell_type": "code",
   "execution_count": 43,
   "metadata": {},
   "outputs": [
    {
     "data": {
      "image/png": "[encoded data removed]",
      "text/plain": [
       "plot without title"
      ]
     },
     "metadata": {},
     "output_type": "display_data"
    }
   ],
   "source": [
    "g5"
   ]
  },
  {
   "cell_type": "code",
   "execution_count": null,
   "metadata": {},
   "outputs": [],
   "source": []
  },
  {
   "cell_type": "code",
   "execution_count": null,
   "metadata": {},
   "outputs": [],
   "source": []
  },
  {
   "cell_type": "code",
   "execution_count": 76,
   "metadata": {},
   "outputs": [],
   "source": [
    "doug_markers1 <- toms_markers6\n",
    "dougs_gene_ids1 <- toms_gene_ids6"
   ]
  },
  {
   "cell_type": "code",
   "execution_count": 77,
   "metadata": {},
   "outputs": [],
   "source": [
    "## Get the gene data for dougs_markers1\n",
    "GlobExpVal <- marker_test_res_topall_with_GC[marker_test_res_topall_with_GC$gene_short_name.1 %in%\n",
    "                                             doug_markers1,]\n",
    "GlobExpVal$gene_short_name.1 <- as.character(GlobExpVal$gene_short_name.1)"
   ]
  },
  {
   "cell_type": "code",
   "execution_count": 78,
   "metadata": {},
   "outputs": [],
   "source": [
    "## Temporarily regroup the GlobExpVal object, and then replace it\n",
    "tempGEV <- GlobExpVal[,c(3, 4, 6, 7)]\n",
    "colnames(tempGEV) <- c('Gene', 'Group', 'mean', 'percentage')\n",
    "tempGEV$Group <- as.integer(substr(tempGEV$Group, 1, 1))\n",
    "GlobExpVal <- tempGEV"
   ]
  },
  {
   "cell_type": "code",
   "execution_count": 79,
   "metadata": {},
   "outputs": [],
   "source": [
    "## This is a special dot plot created for Tom's poster\n",
    "## This is all setup in this cell\n",
    "##-----------------\n",
    "## Intialize data frame for dot plot\n",
    "dotmat <- as.data.frame(matrix(as.integer(0), nrow = dim(GlobExpVal)[1] , ncol = 6), stringsAsFactors = FALSE)\n",
    "colnames(dotmat) <- c('xname', 'yname', 'x', 'y', 'size', 'color') \n",
    "## Load the data frame\n",
    "dotmat$y <- as.integer(GlobExpVal$Group)\n",
    "for (i in 1:dim(GlobExpVal)[1]) {\n",
    "    dotmat$x[i] <- as.integer(which(doug_markers1 %in%  as.character(GlobExpVal$Gene[i]))[1])\n",
    "    }\n",
    "dotmat$xname <- doug_markers1[dotmat$x]\n",
    "dotmat$yname <- as.character(celltypes6[dotmat$y])\n",
    "dotmat$size <- GlobExpVal$percentage * 100\n",
    "dotmat$color <- GlobExpVal$mean\n",
    "dotmat$stroke <- as.integer(0)\n",
    "dotmat$fill <- 'white'\n",
    "## Some settings and precomputed values\n",
    "xmargin <- .5\n",
    "ymargin <- .5\n",
    "dotscale <- 1.5\n",
    "dotmat$scsize <- dotscale * dotmat$size\n",
    "xlimlow <- min(dotmat$x) - xmargin\n",
    "xlimhi <- max(dotmat$x) + xmargin\n",
    "ylimlow <- min(dotmat$y) - ymargin\n",
    "ylimhi <- max(dotmat$y) + ymargin\n",
    "## Get the axis tick labels\n",
    "xnames <- doug_markers1 # unique(dotmat$xname)\n",
    "ynames <- celltypes6 # unique(dotmat$yname)\n",
    "## Change the order of y axis\n",
    "dotmat$y <- 7 - dotmat$y\n",
    "ynames <- ynames[6:1]\n",
    "## Some ggplot text formatting\n",
    "red.bold.italic.text <- element_text(face = \"bold.italic\", color = \"black\")\n",
    "black.90italic.text <- element_text(face = \"bold.italic\", hjust = 1,\n",
    "                                    color = \"black\", angle = 90, vjust = .5, size = 8)"
   ]
  },
  {
   "cell_type": "code",
   "execution_count": 80,
   "metadata": {},
   "outputs": [],
   "source": [
    "## Create the actual dot plot object\n",
    "g6 <- ggplot(dotmat, aes(x = x, y = y)) + \n",
    "    geom_point(aes(col = color, size = size, stroke = size/2), stroke = 0) +\n",
    "    scale_radius(range = c(1, 5)) +\n",
    "    coord_cartesian(xlim = c(xlimlow, xlimhi), ylim = c(ylimlow, ylimhi)) +\n",
    "    xlab(\"\") + ylab(\"\")  +                  \n",
    "    scale_x_continuous(breaks = seq(min(dotmat$x),  max(dotmat$x), 1), labels = xnames) + \n",
    "    scale_y_continuous(breaks = seq(min(dotmat$y), max(dotmat$y), 1), labels = ynames) +\n",
    "    scale_colour_gradient(high = \"#132B43\", low = \"#56B1F7\") +\n",
    "    theme_bw() + # labs(subtitle=\"BW Theme\") +\n",
    "    theme_classic() + # labs(subtitle=\"Classic Theme\") + \n",
    "    theme(axis.text.x = black.90italic.text) + \n",
    "    theme(legend.position = 'bottom', legend.direction = 'vertical') +\n",
    "    theme(plot.margin = margin(.5, .5, .5, .5, \"in\")) + # , plot.background = element_rect(fill = \"white\"))\n",
    "    theme(panel.border = element_rect(colour = \"black\", fill = NA)) + \n",
    "    labs(color = \"\", size = \"\") "
   ]
  },
  {
   "cell_type": "code",
   "execution_count": 81,
   "metadata": {},
   "outputs": [
    {
     "data": {
      "image/png": "[encoded data removed]",
      "text/plain": [
       "plot without title"
      ]
     },
     "metadata": {},
     "output_type": "display_data"
    }
   ],
   "source": [
    "g6"
   ]
  },
  {
   "cell_type": "code",
   "execution_count": 82,
   "metadata": {},
   "outputs": [],
   "source": [
    "## set up the dot plot file\n",
    "plotfile <- 'Aggregated.downsampled.QC.TomsGenes.PosterDOTPlot.Rev2.pdf'\n",
    "plotfp <- paste(ps$outdir, plotfile, sep = '')"
   ]
  },
  {
   "cell_type": "code",
   "execution_count": 91,
   "metadata": {},
   "outputs": [
    {
     "data": {
      "text/html": [
       "<strong>png:</strong> 2"
      ],
      "text/latex": [
       "\\textbf{png:} 2"
      ],
      "text/markdown": [
       "**png:** 2"
      ],
      "text/plain": [
       "png \n",
       "  2 "
      ]
     },
     "metadata": {},
     "output_type": "display_data"
    }
   ],
   "source": [
    "## Actually create the file, adding annotations\n",
    "pdf(plotfp, width = 6, height = 5)\n",
    "    g6\n",
    "    my_text1 <- ''# 'Percent of cells in\\npartition with 1+ reads\\ncorresponding to\\ngene marker'\n",
    "    my_grob1 <- grid.text(my_text1, x = .9 - .025,  y =.09 + 0.07 + .08, hjust = 1,\n",
    "                        gp = gpar(col = \"black\", fontsize = 10, fontface = \"bold\"))\n",
    "    my_text2 <- '' # 'Scaled Expression'\n",
    "    my_grob2 <- grid.text(my_text2, x = .5 - .06,  y =.21 + 0.035 + .14, \n",
    "                        gp = gpar(col = \"black\", fontsize = 10, fontface = \"bold\"))\n",
    "dev.off()"
   ]
  },
  {
   "cell_type": "code",
   "execution_count": 143,
   "metadata": {},
   "outputs": [],
   "source": [
    "## Create a 3 panel plot, one per patient with partitions colored healthy/diseased, \n",
    "pat1 <- down_stdycds[, down_stdycds@colData@listData$patient == \"ID Number 1\"]\n",
    "pat2 <- down_stdycds[, down_stdycds@colData@listData$patient == \"ID Number 2\"]\n",
    "pat3 <- down_stdycds[, down_stdycds@colData@listData$patient == \"ID Number 3\"]"
   ]
  },
  {
   "cell_type": "code",
   "execution_count": 144,
   "metadata": {},
   "outputs": [],
   "source": [
    "## Create the graph objects of the three panels\n",
    "gp1 <- plot_cells(pat1, color_cells_by=\"condition\", group_cells_by=\"partition\",\n",
    "           show_trajectory_graph = FALSE, reduction_method = \"UMAP\", cell_size = 0.1, alpha = .4)\n",
    "gp1 <- gp1 + ylab('') + xlab('Patient 1')\n",
    "\n",
    "gp2 <- plot_cells(pat2, color_cells_by=\"condition\", group_cells_by=\"partition\",\n",
    "           show_trajectory_graph = FALSE, reduction_method = \"UMAP\", cell_size = 0.1, alpha = .4)\n",
    "gp2 <- gp2 + ylab('') + xlab('Patient 2')\n",
    "\n",
    "gp3 <- plot_cells(pat3, color_cells_by=\"condition\", group_cells_by=\"partition\",\n",
    "           show_trajectory_graph = FALSE, reduction_method = \"UMAP\", cell_size = 0.1, alpha = .4)\n",
    "gp3 <- gp3 + ylab('') + xlab('Patient 3')"
   ]
  },
  {
   "cell_type": "code",
   "execution_count": 145,
   "metadata": {},
   "outputs": [],
   "source": [
    "## 3 Panel parition plot, patient 1, 2 and 3, colorzed by health/disease, no legend\n",
    "plotfile <- 'Aggregated.downsampled.QC.3Panel.Patient.NoLegend.Rev1.pdf'\n",
    "plotfp <- paste(ps$outdir, plotfile, sep = '')"
   ]
  },
  {
   "cell_type": "code",
   "execution_count": 146,
   "metadata": {},
   "outputs": [
    {
     "data": {
      "text/html": [
       "<strong>png:</strong> 2"
      ],
      "text/latex": [
       "\\textbf{png:} 2"
      ],
      "text/markdown": [
       "**png:** 2"
      ],
      "text/plain": [
       "png \n",
       "  2 "
      ]
     },
     "metadata": {},
     "output_type": "display_data"
    }
   ],
   "source": [
    "## Write out the plot file\n",
    "pdf(plotfp, width = 9, height = 2.5)\n",
    "   grid.arrange(gp1, gp2, gp3, nrow = 1, respect = TRUE)\n",
    "dev.off()"
   ]
  },
  {
   "cell_type": "code",
   "execution_count": 147,
   "metadata": {},
   "outputs": [],
   "source": [
    "## Similar 3 Panel Plot, but with Legends\n",
    "gp1b <- plot_cells(pat1, color_cells_by=\"condition\", group_cells_by=\"partition\",\n",
    "                   label_cell_groups = FALSE,\n",
    "           show_trajectory_graph = FALSE, reduction_method = \"UMAP\", cell_size = 0.1, alpha = .4)\n",
    "gp1b <- gp1b + ylab('') + xlab('Patient 1')\n",
    "\n",
    "gp2b <- plot_cells(pat2, color_cells_by=\"condition\", group_cells_by=\"partition\",\n",
    "                   label_cell_groups = FALSE,\n",
    "           show_trajectory_graph = FALSE, reduction_method = \"UMAP\", cell_size = 0.1, alpha = .4)\n",
    "gp2b <- gp2b + ylab('') + xlab('Patient 2')\n",
    "\n",
    "gp3b <- plot_cells(pat3, color_cells_by=\"condition\", group_cells_by=\"partition\",\n",
    "                   label_cell_groups = FALSE,\n",
    "           show_trajectory_graph = FALSE, reduction_method = \"UMAP\", cell_size = 0.1, alpha = .4)\n",
    "gp3b <- gp3b + ylab('') + xlab('Patient 3')"
   ]
  },
  {
   "cell_type": "code",
   "execution_count": 148,
   "metadata": {},
   "outputs": [],
   "source": [
    "## 3 Panel parition plot, patient 1, 2 and 3, colorzed by health/disease, no legend\n",
    "plotfile <- 'Aggregated.downsampled.QC.3Panel.Patient.WithLegend.Rev1.pdf'\n",
    "plotfp <- paste(ps$outdir, plotfile, sep = '')"
   ]
  },
  {
   "cell_type": "code",
   "execution_count": 149,
   "metadata": {},
   "outputs": [
    {
     "data": {
      "text/html": [
       "<strong>png:</strong> 2"
      ],
      "text/latex": [
       "\\textbf{png:} 2"
      ],
      "text/markdown": [
       "**png:** 2"
      ],
      "text/plain": [
       "png \n",
       "  2 "
      ]
     },
     "metadata": {},
     "output_type": "display_data"
    }
   ],
   "source": [
    "## Write out the plot file\n",
    "pdf(plotfp, width = 11.3, height = 2.5)\n",
    "   grid.arrange(gp1b, gp2b, gp3b, nrow = 1, respect = FALSE)\n",
    "dev.off()"
   ]
  },
  {
   "cell_type": "code",
   "execution_count": 150,
   "metadata": {},
   "outputs": [],
   "source": [
    "## Set up file for partition plot with legend showing assigned cell types\n",
    "plotfile <- 'Aggregated.downsampled.QC.Cells.Partitions.WithLegend.Rev1.pdf'\n",
    "plotfp <- paste(ps$outdir, plotfile, sep = '')"
   ]
  },
  {
   "cell_type": "code",
   "execution_count": 151,
   "metadata": {},
   "outputs": [
    {
     "data": {
      "text/html": [
       "<strong>png:</strong> 2"
      ],
      "text/latex": [
       "\\textbf{png:} 2"
      ],
      "text/markdown": [
       "**png:** 2"
      ],
      "text/plain": [
       "png \n",
       "  2 "
      ]
     },
     "metadata": {},
     "output_type": "display_data"
    }
   ],
   "source": [
    "## Plot partitions with legend showing cell types\n",
    "pdf(plotfp, width = 8, height = 6)\n",
    "gtop1 <- plot_cells(down_stdycds, color_cells_by=\"assigned_cell_type\", group_cells_by=\"partition\",\n",
    "                   label_cell_groups = FALSE,\n",
    "           show_trajectory_graph = FALSE, reduction_method = \"UMAP\", cell_size = 0.1, alpha = .4)\n",
    "gtop1\n",
    "dev.off()\n"
   ]
  },
  {
   "cell_type": "code",
   "execution_count": 152,
   "metadata": {},
   "outputs": [],
   "source": [
    "## Set up file for partition plot with legend showing assigned cell types\n",
    "plotfile <- 'Aggregated.downsampled.QC.Cells.Partitions.WithLegend.Rev1.pdf'\n",
    "plotfp <- paste(ps$outdir, plotfile, sep = '')\n",
    "\n",
    "\n"
   ]
  },
  {
   "cell_type": "code",
   "execution_count": 153,
   "metadata": {},
   "outputs": [
    {
     "data": {
      "text/html": [
       "<strong>png:</strong> 2"
      ],
      "text/latex": [
       "\\textbf{png:} 2"
      ],
      "text/markdown": [
       "**png:** 2"
      ],
      "text/plain": [
       "png \n",
       "  2 "
      ]
     },
     "metadata": {},
     "output_type": "display_data"
    }
   ],
   "source": [
    "pdf(plotfp, width = 4, height = 3)\n",
    "gtop2 <- plot_cells(down_stdycds, color_cells_by=\"partition\", group_cells_by=\"partition\",\n",
    "                   label_cell_groups = TRUE,\n",
    "           show_trajectory_graph = FALSE, reduction_method = \"UMAP\", cell_size = 0.1, alpha = .4)\n",
    "gtop2 + xlab('') + ylab('') + theme(\n",
    "  axis.text.x = element_blank(),\n",
    "  axis.text.y = element_blank(),\n",
    "  axis.ticks = element_blank())\n",
    "\n",
    "dev.off()"
   ]
  },
  {
   "cell_type": "code",
   "execution_count": 154,
   "metadata": {},
   "outputs": [],
   "source": [
    "## 2 Panel cell plots colored by patient and condition using legends\n",
    "plotfile <- 'Aggregated.downsampled.QC.2Panes.ByPatient.ByCondition.WithLegendRev1.pdf'\n",
    "plotfp <- paste(ps$outdir, plotfile, sep = '')"
   ]
  },
  {
   "cell_type": "code",
   "execution_count": 155,
   "metadata": {},
   "outputs": [],
   "source": [
    "gp1 <- plot_cells(down_stdycds, color_cells_by = \"patient\", group_cells_by = \"partition\",\n",
    "                   label_cell_groups = FALSE,\n",
    "                   show_trajectory_graph = FALSE, reduction_method = \"UMAP\", cell_size = 0.1, alpha = .4)\n",
    "gp1 <- gp1 + ylab('') + xlab('by Patient')\n",
    "\n",
    "gp2 <- plot_cells(down_stdycds, color_cells_by = \"condition\", group_cells_by=\"partition\",\n",
    "                   label_cell_groups = FALSE,\n",
    "           show_trajectory_graph = FALSE, reduction_method = \"UMAP\", cell_size = 0.1, alpha = .4)\n",
    "gp2 <- gp2 + ylab('') + xlab('by Condition')\n"
   ]
  },
  {
   "cell_type": "code",
   "execution_count": 156,
   "metadata": {},
   "outputs": [
    {
     "data": {
      "text/html": [
       "<strong>png:</strong> 2"
      ],
      "text/latex": [
       "\\textbf{png:} 2"
      ],
      "text/markdown": [
       "**png:** 2"
      ],
      "text/plain": [
       "png \n",
       "  2 "
      ]
     },
     "metadata": {},
     "output_type": "display_data"
    }
   ],
   "source": [
    "## Write the 2 panel plot\n",
    "pdf(plotfp, width = 12, height = 4)\n",
    "grid.arrange(gp1, gp2, nrow = 1)\n",
    "dev.off()"
   ]
  },
  {
   "cell_type": "code",
   "execution_count": 101,
   "metadata": {},
   "outputs": [],
   "source": [
    "## 2 Panel cell plots colored by partition and condition using legends\n",
    "plotfile <- 'Aggregated.downsampled.QC.2Panes.Bypartition.ByCondition.WithLegendRev1.pdf'\n",
    "plotfp <- paste(ps$outdir, plotfile, sep = '')"
   ]
  },
  {
   "cell_type": "code",
   "execution_count": 106,
   "metadata": {},
   "outputs": [],
   "source": [
    "gp1 <- plot_cells(down_stdycds, color_cells_by = \"assigned_cell_type\", group_cells_by = \"partition\",\n",
    "                   label_cell_groups = FALSE,\n",
    "                   show_trajectory_graph = FALSE, reduction_method = \"UMAP\", cell_size = 0.1, alpha = .4)\n",
    "# gp1 <- gp1 + ylab('') + xlab('UMAP 1')\n",
    "\n",
    "gp2 <- plot_cells(down_stdycds, color_cells_by = \"condition\", group_cells_by=\"partition\",\n",
    "                   label_cell_groups = FALSE,\n",
    "           show_trajectory_graph = FALSE, reduction_method = \"UMAP\", cell_size = 0.1, alpha = .4)\n",
    "# gp2 <- gp2 + ylab('') + xlab('by Condition')\n",
    "\n",
    "gp3 <- plot_cells(down_stdycds, color_cells_by = \"patient\", group_cells_by=\"partition\",\n",
    "                   label_cell_groups = FALSE,\n",
    "           show_trajectory_graph = FALSE, reduction_method = \"UMAP\", cell_size = 0.1, alpha = .4)\n",
    "# gp3 <- gp3 + ylab('') + xlab('by Patient')"
   ]
  },
  {
   "cell_type": "code",
   "execution_count": 107,
   "metadata": {},
   "outputs": [
    {
     "data": {
      "text/html": [
       "<strong>png:</strong> 2"
      ],
      "text/latex": [
       "\\textbf{png:} 2"
      ],
      "text/markdown": [
       "**png:** 2"
      ],
      "text/plain": [
       "png \n",
       "  2 "
      ]
     },
     "metadata": {},
     "output_type": "display_data"
    }
   ],
   "source": [
    "## Write the 2 panel plot\n",
    "pdf(plotfp, width = 12, height = 4)\n",
    "grid.arrange(gp1, gp2, nrow = 1)\n",
    "dev.off()"
   ]
  },
  {
   "cell_type": "code",
   "execution_count": 108,
   "metadata": {},
   "outputs": [
    {
     "data": {
      "text/html": [
       "<strong>png:</strong> 2"
      ],
      "text/latex": [
       "\\textbf{png:} 2"
      ],
      "text/markdown": [
       "**png:** 2"
      ],
      "text/plain": [
       "png \n",
       "  2 "
      ]
     },
     "metadata": {},
     "output_type": "display_data"
    },
    {
     "data": {
      "text/html": [
       "<strong>png:</strong> 2"
      ],
      "text/latex": [
       "\\textbf{png:} 2"
      ],
      "text/markdown": [
       "**png:** 2"
      ],
      "text/plain": [
       "png \n",
       "  2 "
      ]
     },
     "metadata": {},
     "output_type": "display_data"
    },
    {
     "data": {
      "text/html": [
       "<strong>png:</strong> 2"
      ],
      "text/latex": [
       "\\textbf{png:} 2"
      ],
      "text/markdown": [
       "**png:** 2"
      ],
      "text/plain": [
       "png \n",
       "  2 "
      ]
     },
     "metadata": {},
     "output_type": "display_data"
    }
   ],
   "source": [
    "## 1 Panel cell plots colored by partition using legends\n",
    "plotfile1 <- 'Aggregated.downsampled.QC.1Panes.ByPartition.WithLegend.Rev2.pdf'\n",
    "plotfp1 <- paste(ps$outdir, plotfile1, sep = '')\n",
    "\n",
    "## Write the 1 panel plot\n",
    "pdf(plotfp1, width = 6, height = 4)\n",
    "gp1\n",
    "dev.off()\n",
    "\n",
    "## 1 Panel cell plots colored by condition using legends\n",
    "plotfile2 <- 'Aggregated.downsampled.QC.1Panes.ByCondition.WithLegend.Rev2.pdf'\n",
    "plotfp2 <- paste(ps$outdir, plotfile2, sep = '')\n",
    "\n",
    "## Write the 1 panel plot\n",
    "pdf(plotfp2, width = 5, height = 4)\n",
    "gp2\n",
    "dev.off()\n",
    "\n",
    "\n",
    "## 1 Panel cell plots colored by patient using legends\n",
    "plotfile3 <- 'Aggregated.downsampled.QC.1Panes.ByPatient.WithLegend.Rev2.pdf'\n",
    "plotfp3 <- paste(ps$outdir, plotfile3, sep = '')\n",
    "\n",
    "## Write the 1 panel plot\n",
    "pdf(plotfp3, width = 5.5, height = 4)\n",
    "gp3\n",
    "dev.off()\n"
   ]
  },
  {
   "cell_type": "code",
   "execution_count": 157,
   "metadata": {},
   "outputs": [],
   "source": [
    "## Write another version of the partition plot, this time with cell type labels on partitions\n",
    "plotfile <- 'Aggregated.downsampled.QC.Cells.Partitions.WithoutLegend.Rev1.pdf'\n",
    "plotfp <- paste(ps$outdir, plotfile, sep = '')"
   ]
  },
  {
   "cell_type": "code",
   "execution_count": 158,
   "metadata": {},
   "outputs": [
    {
     "data": {
      "text/html": [
       "<strong>png:</strong> 2"
      ],
      "text/latex": [
       "\\textbf{png:} 2"
      ],
      "text/markdown": [
       "**png:** 2"
      ],
      "text/plain": [
       "png \n",
       "  2 "
      ]
     },
     "metadata": {},
     "output_type": "display_data"
    }
   ],
   "source": [
    "pdf(plotfp, width = 8, height = 6)\n",
    "gtop3 <- plot_cells(down_stdycds, color_cells_by = \"assigned_cell_type\", group_cells_by=\"partition\",\n",
    "           show_trajectory_graph = FALSE, reduction_method = \"UMAP\", cell_size = 0.1, alpha = .4)\n",
    "gtop3\n",
    "dev.off()"
   ]
  },
  {
   "cell_type": "code",
   "execution_count": 114,
   "metadata": {},
   "outputs": [],
   "source": [
    "## Write another version of the partition plot, this time with cell type labels in a Legend\n",
    "plotfile <- 'Aggregated.downsampled.QC.Cells.Partitions.Bigger.WithoutLegend.Rev1.pdf'\n",
    "plotfp <- paste(ps$outdir, plotfile, sep = '')"
   ]
  },
  {
   "cell_type": "code",
   "execution_count": 116,
   "metadata": {},
   "outputs": [
    {
     "data": {
      "text/html": [
       "<strong>png:</strong> 2"
      ],
      "text/latex": [
       "\\textbf{png:} 2"
      ],
      "text/markdown": [
       "**png:** 2"
      ],
      "text/plain": [
       "png \n",
       "  2 "
      ]
     },
     "metadata": {},
     "output_type": "display_data"
    }
   ],
   "source": [
    "pdf(plotfp, width = 16, height = 12)\n",
    "gtop3 <- plot_cells(down_stdycds, color_cells_by = \"condition\", group_cells_by=\"partition\",\n",
    "           show_trajectory_graph = FALSE, reduction_method = \"UMAP\", cell_size = 0.3, alpha = .4,\n",
    "                   label_cell_groups = FALSE,)\n",
    "gtop3\n",
    "dev.off()"
   ]
  },
  {
   "cell_type": "code",
   "execution_count": 15,
   "metadata": {},
   "outputs": [
    {
     "data": {
      "text/plain": [
       "\n",
       "            1-Macrophages       2-Endothelial Cells                   3-VSMCs \n",
       "                     2456                      2766                      3672 \n",
       "   4-Natural Killer Cells 5-Cytotoxic T Lymphocytes           6-B Lymphocytes \n",
       "                      328                      3400                       448 "
      ]
     },
     "metadata": {},
     "output_type": "display_data"
    }
   ],
   "source": [
    "table(colData(down_stdycds)$assigned_cell_type)"
   ]
  },
  {
   "cell_type": "code",
   "execution_count": 50,
   "metadata": {},
   "outputs": [
    {
     "data": {
      "text/html": [
       "<strong>png:</strong> 2"
      ],
      "text/latex": [
       "\\textbf{png:} 2"
      ],
      "text/markdown": [
       "**png:** 2"
      ],
      "text/plain": [
       "png \n",
       "  2 "
      ]
     },
     "metadata": {},
     "output_type": "display_data"
    }
   ],
   "source": [
    "## Write another version of the partition plot, this time with cell type labels in a Legend\n",
    "## This time for VSMC\n",
    "plotfile <- 'Aggregated.downsampled.QC.Cells.Partitions.Bigger.WithoutLegend.VSMC.Rev2.pdf'\n",
    "plotfp <- paste(ps$outdir, plotfile, sep = '')\n",
    "\n",
    "part_cds <- down_stdycds[, (partitions(down_stdycds)==3)]\n",
    "pdf(plotfp, width = 16, height = 12)\n",
    "gtop3 <- plot_cells(part_cds,\n",
    "            color_cells_by = \"condition\", group_cells_by = \"partition\",\n",
    "            show_trajectory_graph = FALSE, reduction_method = \"UMAP\", cell_size = 1.2, alpha = .4,\n",
    "            label_cell_groups = FALSE)\n",
    "gtop3\n",
    "dev.off()"
   ]
  },
  {
   "cell_type": "code",
   "execution_count": 15,
   "metadata": {},
   "outputs": [
    {
     "name": "stdout",
     "output_type": "stream",
     "text": [
      "[1] 0.6953889\n"
     ]
    }
   ],
   "source": [
    "## Compute the mean of the maximum pseudo_R2rds for Tom's genes in the dot plot\n",
    "stattrack <- vector(mode = 'numeric', length = length(toms_gene_ids6))\n",
    "i <- 1\n",
    "for (gene in toms_gene_ids6) {\n",
    "    mmatch <- marker_test_res_topall_with_GC$pseudo_R2[which(marker_test_res_topall_with_GC$gene_id == gene)]\n",
    "    stattrack[i] <- round(max(mmatch), 3)\n",
    "    i <- i + 1\n",
    "}\n",
    "print(mean(stattrack))"
   ]
  },
  {
   "cell_type": "code",
   "execution_count": null,
   "metadata": {},
   "outputs": [],
   "source": []
  }
 ],
 "metadata": {
  "kernelspec": {
   "display_name": "R",
   "language": "R",
   "name": "ir"
  },
  "language_info": {
   "codemirror_mode": "r",
   "file_extension": ".r",
   "mimetype": "text/x-r-source",
   "name": "R",
   "pygments_lexer": "r",
   "version": "3.5.1"
  }
 },
 "nbformat": 4,
 "nbformat_minor": 2
}
