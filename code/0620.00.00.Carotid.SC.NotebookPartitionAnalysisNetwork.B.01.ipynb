{
 "cells": [
  {
   "cell_type": "code",
   "execution_count": 1,
   "metadata": {},
   "outputs": [],
   "source": [
    "## ---- Partition Cell Set Partital Correlation Analysis-Network Notebooks B ----\n",
    "## Load Analysis Parameters (Parm1)\n",
    "## Loop Through Each Partition and Perform Analysis as Follows:\n",
    "## Load Partition Cell Set\n",
    "## Perform Partial Correlation Analysis\n",
    "## Perform Perform FDR Scoring\n",
    "## Create 50000 Edge Networks and Save\n",
    "## Save Tabulated and Summarized Partition Results"
   ]
  },
  {
   "cell_type": "code",
   "execution_count": 2,
   "metadata": {},
   "outputs": [],
   "source": [
    "## Create a Working Input and Output Data Directory, If Id Does Not Exist\n",
    "parentdir <- '/gpfs/group/torkamani/devans/'\n",
    "datdir <- paste(parentdir, 'CDC2', sep = '')\n",
    "if (!file.exists(datdir)) {\n",
    "    dir.create(datdir)\n",
    "}\n",
    "setwd(datdir)"
   ]
  },
  {
   "cell_type": "code",
   "execution_count": 3,
   "metadata": {},
   "outputs": [],
   "source": [
    "## Read the parameters file\n",
    "ps <- read.table(file = 'parms.txt', stringsAsFactors = FALSE, header = TRUE)"
   ]
  },
  {
   "cell_type": "code",
   "execution_count": 4,
   "metadata": {},
   "outputs": [],
   "source": [
    "## Read the GENCODE v27 Data\n",
    "v27_gen <- read.table(paste(ps$indir, 'v27_Embl_Hugo.txt', sep = ''), header = F)\n",
    "v27_gen[,1] <- substr(v27_gen[,1] ,1, 15)\n",
    "v27 <- read.table(paste(ps$indir, 'v27_Embl_Hugo_Type.txt', sep =''))"
   ]
  },
  {
   "cell_type": "code",
   "execution_count": 6,
   "metadata": {},
   "outputs": [],
   "source": [
    "## Load Monocle3 and Seurat Libraries\n",
    "library(monocle3)\n",
    "library(Seurat)\n",
    "library(dplyr)\n",
    "library(magrittr)\n",
    "library(ggplot2)\n",
    "library(gridExtra)\n",
    "library(Matrix)\n",
    "library(rhdf5)\n",
    "library(grid)\n",
    "library(igraph)\n",
    "library(corpcor)\n",
    "library(fdrtool)\n",
    "## Get the igraph utilities\n",
    "source('/gpfs/home/sjsmith/code/xtissue_paper/notebooks/Utilities/setup_igraph.r')\n",
    "## Alternate to stat_parm utility in igraph utilities (does not assume log10 data)\n",
    "stat_parm2 <- function(gf, expdata){\n",
    "    \n",
    "    ## Remove expression values not in the network, get antilog\n",
    "    # expdata_filt <- 10 ^ log10expdata[,V(gf)$name]\n",
    "    expdata_filt <- expdata[,V(gf)$name]\n",
    "    \n",
    "    ## Compute the node expression stats, including coeff of variation, add to network\n",
    "    V(gf)$mean <- apply(expdata_filt, 2, mean)\n",
    "    V(gf)$sd <- apply(expdata_filt, 2, sd)\n",
    "    V(gf)$cv <- V(gf)$sd/V(gf)$mean\n",
    "    V(gf)$med <- apply(expdata_filt, 2, median)\n",
    "\n",
    "    ## Compute the strength\n",
    "    V(gf)$strength <- strength(gf, weights = abs(E(gf)$pcor))\n",
    "    return(gf)\n",
    "    }\n",
    "## Alternate to plot function in utility\n",
    "\n",
    "plot_parm2 <- function (gf) {\n",
    "\n",
    "    V(gf)$color <- 'red'\n",
    "    \n",
    "    E(gf)$color[E(gf)$pcor > 0] <- 'green'\n",
    "    E(gf)$color[E(gf)$pcor < 0] <- 'orange'\n",
    "    fedthick <- 100 * abs(E(gf)$pcor)\n",
    "    V(gf)$label.cex = .1\n",
    "    E(gf)$label.cex = .1\n",
    "    V(gf)$label <- paste(substr(V(gf)$v27,1,10),\n",
    "                                   round(V(gf)$strength,3), sep = '\\n')\n",
    "    E(gf)$width <- fedthick\n",
    "    E(gf)$label <- round(E(gf)$pcor, 4)\n",
    "    V(gf)$size <- 1\n",
    "\n",
    "    return(gf)\n",
    "    }"
   ]
  },
  {
   "cell_type": "code",
   "execution_count": 7,
   "metadata": {},
   "outputs": [],
   "source": [
    "## Read the previously preprocessed downsampled cell set data object\n",
    "down_stdycds <- readRDS(file = paste(ps$outdir,\n",
    "            'Aggregated.downsampled.QC.NoDoublets.Repartitioned.rds', sep = ''))"
   ]
  },
  {
   "cell_type": "code",
   "execution_count": 8,
   "metadata": {},
   "outputs": [],
   "source": [
    "## Build a gene short name to gene id (Ensembl) lookup\n",
    "short2geneid <- fData(down_stdycds)@rownames\n",
    "names(short2geneid) <- fData(down_stdycds)@listData$gene_short_name"
   ]
  },
  {
   "cell_type": "code",
   "execution_count": 9,
   "metadata": {},
   "outputs": [],
   "source": [
    "## Build a gene id (Ensembl) to gene short name lookup\n",
    "geneid2short <- fData(down_stdycds)@listData$gene_short_name\n",
    "names(geneid2short) <- fData(down_stdycds)@rownames"
   ]
  },
  {
   "cell_type": "code",
   "execution_count": 10,
   "metadata": {},
   "outputs": [],
   "source": [
    "## Create variables for how cells sets are organized\n",
    "cellgrps <- c('healthy', 'diseased', 'healthy', 'diseased', 'healthy', 'diseased')\n",
    "cellpats <- c('ID Number 1', 'ID Number 1', 'ID Number 2', 'ID Number 2', 'ID Number 3', 'ID Number 3')"
   ]
  },
  {
   "cell_type": "code",
   "execution_count": 11,
   "metadata": {},
   "outputs": [],
   "source": [
    "## Define and Assign Cell Types\n",
    "celltypes6 <- c('1-Macrophages',\n",
    "                '2-Endothelial Cells',\n",
    "                '3-VSMCs',\n",
    "                '4-Natural Killer Cells',\n",
    "                '5-Cytotoxic T Lymphocytes',\n",
    "                '6-B Lymphocytes')"
   ]
  },
  {
   "cell_type": "code",
   "execution_count": 12,
   "metadata": {},
   "outputs": [],
   "source": [
    "## Declare Tom's best genes for definiting cell types\n",
    "toms_markers5 <- c('NRXN1', 'CLU', 'ICAM2',\n",
    "                 'CD14', 'CD68', 'AIF1',\n",
    "                 'VWF', 'EDN1', 'ECSCR',\n",
    "                 'MKI67', 'UBE2C', 'TOP2A',\n",
    "                 'ACTA2', 'TAGLN', 'MYL9',\n",
    "                 'ACKR1', 'SPARCL1', 'PECAM1',\n",
    "                 'CALD1', 'MGP', 'DCN',\n",
    "                 'NKG7', 'XCL1', 'CTSW',\n",
    "                 'CD8A', 'TRAC', 'CD2',\n",
    "                 'MS4A1', 'CD79A', 'BANK1',\n",
    "                 'CD69', 'CXCR4', 'IL7R',\n",
    "                 'LILRA4', 'IRF7', 'CLEC4C',\n",
    "                 'MZB1', 'JCHAIN', 'TNFRSF17',\n",
    "                 'LST1', 'FCGR3B', 'S100A8',\n",
    "                 'TPSAB1', 'CPA3', 'MS4A2')\n",
    "toms_gene_ids5 <- short2geneid[toms_markers5]\n",
    "\n",
    "\n",
    "doug_markers1 <- c('AIF1', 'LYZ', 'FCER1G',  'CD68',\n",
    "                'RNASE1', 'PECAM1', 'IGFBP4', 'ADIRF', \n",
    "                'SOD3', 'MYL9', 'CALD1', 'GSN',\n",
    "                'TYROBP', 'NKG7', 'CTSW', 'CD69',\n",
    "                'CD3D', 'CD2', 'TRBC2', 'TRAC',\n",
    "                'MS4A1', 'CD79A', 'HLA-DQA1', 'CD37')\n",
    "dougs_gene_ids1 <- short2geneid[doug_markers1]"
   ]
  },
  {
   "cell_type": "code",
   "execution_count": null,
   "metadata": {},
   "outputs": [],
   "source": [
    "## Place for saving partition network related statistics\n",
    "netstats <- matrix(0, nrow = np, ncol = 6)\n",
    "colnames(netstats) <- c('nodes', 'edges', 'max_qval', 'max_pval', 'min_pcor', 'max_pcor')"
   ]
  },
  {
   "cell_type": "code",
   "execution_count": 32,
   "metadata": {},
   "outputs": [
    {
     "name": "stdout",
     "output_type": "stream",
     "text": [
      "Estimating optimal shrinkage intensity lambda (correlation matrix): 0.7037 \n",
      "\n",
      "Step 1... determine cutoff point\n",
      "Step 2... estimate parameters of null distribution and eta0\n",
      "Step 3... compute p-values and estimate empirical PDF/CDF\n",
      "Step 4... compute q-values and local fdr\n",
      "Step 5... prepare for plotting\n",
      "\n"
     ]
    }
   ],
   "source": [
    "## Loop through the partitions and perform analysis, making networks\n",
    "## Determine the number of partitions\n",
    "np <- length(celltypes6)\n",
    "\n",
    "## Some control parameters (many are not used in the variation of the network notebooks)\n",
    "gout <- TRUE\n",
    "gene_cut <- .05              # Average fraction of UMI's per cell needed to keep a gene (1/100 typical)\n",
    "max_fdr_cut <- 50000         # The maximum number of significant edges to save (treated as hardcoded)\n",
    "graph_edges <- 1000          # The number of edges to plot\n",
    "cutoff <- 1                  # FDR p or q value cutoff for partial correlations, force to be high for this notebook\n",
    "diff_exp_qval_cut <- 0.05    # Differential Expression q-value cutoff\n",
    "min_sig_fdr <- 10            # There needs to be at least 10 significant edges to form a network\n",
    "\n",
    "for (p in 1:np) {\n",
    "    setwd(paste(datdir, '/', ps$outdir, celltypes6[p], sep = ''))\n",
    "    ## Extract partition subset for par\n",
    "    partn_cds <- readRDS('Partition.Cell.Set.rds')\n",
    "    partn_exp <- exprs(partn_cds)\n",
    "    ## There are lots of low expressing genes\n",
    "    ## Let's remove them (at least 1 UMI per 100 cells). Transpose the results \n",
    "    sig_genes <- (rowSums(partn_exp) > dim(partn_exp)[2] * gene_cut)\n",
    "    partn_exp <- partn_exp[sig_genes, ]\n",
    "    ## There may also be some cells with no variance. Remove those too\n",
    "    sig_cells <- (apply(partn_exp, 2, var) > 0)\n",
    "    partn_exp <- partn_exp[, sig_cells]\n",
    "    ## Transpose the results for next steps\n",
    "    partn_exp <- t(partn_exp)\n",
    "    ## Compute the partial correlations\n",
    "    pc_partn_exp <- pcor.shrink(partn_exp)   \n",
    "    ## Convert them to a vector\n",
    "    pcv_partn <- sm2vec(pc_partn_exp)\n",
    "    pcv_partn_ind <- sm.index(pc_partn_exp)\n",
    "    ## Compute the FDR scores\n",
    "    pdf('FDR.Tool.Results.50000.pdf', width = 8, height = 6)\n",
    "        pcv_partn_fdr <- fdrtool(pcv_partn, statistic = \"correlation\")\n",
    "    dev.off()\n",
    "    ## Gete the expression data gene names\n",
    "    pcor_v_names <- colnames(partn_exp)\n",
    "    # Create an ordered set of the correlation data and fdrtools data. Include columns\n",
    "    # with pointers to the partial correlation matrix row and column so that the original\n",
    "    # data can referenced.\n",
    "    pcor_order <- order(pcv_partn, decreasing = FALSE)\n",
    "    composite <- cbind(pcv_partn, pcv_partn_fdr$pval, pcv_partn_fdr$qval, pcv_partn_fdr$lfdr,\n",
    "               pcor_order, pcv_partn_ind[,1], pcv_partn_ind[,2])\n",
    "    # Sort the array by partial correlation values\n",
    "    com_s <- composite[pcor_order,]\n",
    "    rcount <- length(com_s[,1])\n",
    "    # Add a column with the row number (after sort)\n",
    "    com_s <- cbind(com_s, 1:rcount)\n",
    "    # Make nicer column names\n",
    "    colnames(com_s) <- c('pcor', 'pval', 'qval', 'lfdr', 'ord', 'row', 'col', 'idx')\n",
    "    # Get the id of the last value in fdr, then create cut set\n",
    "    cutset <- com_s[,2] <= cutoff\n",
    "    fdr_cut <- com_s[cutset,]\n",
    "    fdr_cut <- as.data.frame(fdr_cut)\n",
    "    ## Break out if fdr_cut is empty\n",
    "    if (dim(fdr_cut)[1] <= min_sig_fdr) break\n",
    "    ## Cut down the number of edges is greater than max_fdr_cut (typically only save 20,000)\n",
    "    if (dim(fdr_cut)[1] > max_fdr_cut) {\n",
    "        qorder <- order(fdr_cut$pval, decreasing = FALSE)\n",
    "        fdr_cut <- fdr_cut[qorder[1:max_fdr_cut],]\n",
    "        pcorder <- order(fdr_cut$pcor, decreasing = FALSE)\n",
    "        fdr_cut <- fdr_cut[pcorder,]\n",
    "    }\n",
    "    # Add a column in the fdr data for the TO node (for edge defintion)\n",
    "    fdr_cut$to <- pcor_v_names[fdr_cut$row]\n",
    "    # Add a column in the fdr data for the FROM node (for edge defintion)\n",
    "    fdr_cut$from = pcor_v_names[fdr_cut$col]\n",
    "    # Compute a vector containing the ordering of the absolute value of the partial correlation\n",
    "    arank_v <- order(abs(fdr_cut$pcor), decreasing = T)\n",
    "    # Store this rank in the fdr data\n",
    "    fdr_cut$arank[arank_v] <- 1:length(fdr_cut[,1])\n",
    "    # Add the gene attributes to a node data frame and set the column names\n",
    "    nodes <- pcor_v_names\n",
    "    # Convert the fdr data and node data frame into a graph\n",
    "    # net <- graph_from_data_frame(d=fdr_cut[,c(9:10,1:8,11)], vertices=nodes, directed=F)\n",
    "    net <- graph_from_data_frame(d=fdr_cut[,c('to', 'from', 'pcor', 'pval', 'qval', 'lfdr',\n",
    "                                         'ord', 'row', 'col', 'idx', 'arank')],\n",
    "                                         vertices=nodes, directed=F)\n",
    "    # Show some parameters of the fdr data and the graph (number of nodes - last line)\n",
    "    ## Write the network object and the FDR object\n",
    "    saveRDS(net, 'Network.50000.rds')\n",
    "    saveRDS(fdr_cut, \"FDR_CUT.50000.rds\")\n",
    "    netstats[p,] <- c(length(V(net)$name), length(E(net)$pcor),\n",
    "                        max(E(net)$qval), max(E(net)$pval), min(abs(E(net)$pcor)), max(abs(E(net)$pcor)))\n",
    "}"
   ]
  },
  {
   "cell_type": "code",
   "execution_count": 54,
   "metadata": {},
   "outputs": [],
   "source": [
    "## Save the network stats for each partition in the root output data directory\n",
    "## Add Cell Types as Rownames\n",
    "rownames(netstats) <- celltypes6\n",
    "## Round to 5th Digit\n",
    "netstats2 <- round(netstats, 5)\n",
    "## Actually write the file\n",
    "netstatsfile <- paste(datdir, '/', ps$outdir, 'Netstats.Partition.50000.Edges.Rev1.txt', sep = '')\n",
    "write.table(netstats2, file = netstatsfile,\n",
    "            row.names = TRUE, col.names = TRUE,\n",
    "            sep = '\\t', quote = FALSE)"
   ]
  },
  {
   "cell_type": "code",
   "execution_count": null,
   "metadata": {},
   "outputs": [],
   "source": []
  }
 ],
 "metadata": {
  "kernelspec": {
   "display_name": "R",
   "language": "R",
   "name": "ir"
  },
  "language_info": {
   "codemirror_mode": "r",
   "file_extension": ".r",
   "mimetype": "text/x-r-source",
   "name": "R",
   "pygments_lexer": "r",
   "version": "3.5.1"
  }
 },
 "nbformat": 4,
 "nbformat_minor": 2
}
