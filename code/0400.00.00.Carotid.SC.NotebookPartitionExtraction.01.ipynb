{
 "cells": [
  {
   "cell_type": "code",
   "execution_count": 1,
   "metadata": {},
   "outputs": [],
   "source": [
    "## ---- Partition Cell Set(s) Extraction Notebook ---\n",
    "## Read R Data Object from Prior Notebook (CDS1)\n",
    "## Load Analysis Parameters (Parm1)\n",
    "## Loop Through Each Partition and Perform Network Analysis as Follows:\n",
    "##    Extract Partition Cell Subsets and Save Them\n",
    "##    Extract Differential Expression Gene Set Models and Save Them "
   ]
  },
  {
   "cell_type": "code",
   "execution_count": 2,
   "metadata": {},
   "outputs": [],
   "source": [
    "## Create a Working Input and Output Data Directory, If Id Does Not Exist\n",
    "parentdir <- '/gpfs/group/torkamani/devans/'\n",
    "datdir <- paste(parentdir, 'CDC2', sep = '')\n",
    "if (!file.exists(datdir)) {\n",
    "    dir.create(datdir)\n",
    "}\n",
    "setwd(datdir)"
   ]
  },
  {
   "cell_type": "code",
   "execution_count": 3,
   "metadata": {},
   "outputs": [],
   "source": [
    "## Read the parameters file\n",
    "ps <- read.table(file = 'parms.txt', stringsAsFactors = FALSE, header = TRUE)"
   ]
  },
  {
   "cell_type": "code",
   "execution_count": 5,
   "metadata": {},
   "outputs": [],
   "source": [
    "## Load Monocle3 and Seurat Libraries\n",
    "library(monocle3)\n",
    "library(Seurat)\n",
    "library(dplyr)\n",
    "library(magrittr)\n",
    "library(ggplot2)\n",
    "library(gridExtra)\n",
    "library(Matrix)\n",
    "library(rhdf5)\n",
    "library(grid)"
   ]
  },
  {
   "cell_type": "code",
   "execution_count": 6,
   "metadata": {},
   "outputs": [],
   "source": [
    "## Read the previously preprocessed downsampled cell set data object\n",
    "down_stdycds <- readRDS(file = paste(ps$outdir,\n",
    "                'Aggregated.downsampled.QC.NoDoublets.Repartitioned.rds', sep = ''))"
   ]
  },
  {
   "cell_type": "code",
   "execution_count": 7,
   "metadata": {},
   "outputs": [],
   "source": [
    "## Build a gene short name to gene id (Ensembl) lookup\n",
    "short2geneid <- fData(down_stdycds)@rownames\n",
    "names(short2geneid) <- fData(down_stdycds)@listData$gene_short_name"
   ]
  },
  {
   "cell_type": "code",
   "execution_count": 8,
   "metadata": {},
   "outputs": [],
   "source": [
    "## Build a gene id (Ensembl) to gene short name lookup\n",
    "geneid2short <- fData(down_stdycds)@listData$gene_short_name\n",
    "names(geneid2short) <- fData(down_stdycds)@rownames"
   ]
  },
  {
   "cell_type": "code",
   "execution_count": 9,
   "metadata": {},
   "outputs": [],
   "source": [
    "## Create variables for how cells sets are organized\n",
    "cellgrps <- c('healthy', 'diseased', 'healthy', 'diseased', 'healthy', 'diseased')\n",
    "cellpats <- c('ID Number 1', 'ID Number 1', 'ID Number 2', 'ID Number 2', 'ID Number 3', 'ID Number 3')"
   ]
  },
  {
   "cell_type": "code",
   "execution_count": 10,
   "metadata": {},
   "outputs": [],
   "source": [
    "## Define and Assign Cell Types\n",
    "celltypes6 <- c('1-Macrophages',\n",
    "                '2-Endothelial Cells',\n",
    "                '3-VSMCs',\n",
    "                '4-Natural Killer Cells',\n",
    "                '5-Cytotoxic T Lymphocytes',\n",
    "                '6-B Lymphocytes')"
   ]
  },
  {
   "cell_type": "code",
   "execution_count": 11,
   "metadata": {},
   "outputs": [],
   "source": [
    "## Declare Tom's best genes for definiting cell types\n",
    "toms_markers5 <- c('NRXN1', 'CLU', 'ICAM2',\n",
    "                 'CD14', 'CD68', 'AIF1',\n",
    "                 'VWF', 'EDN1', 'ECSCR',\n",
    "                 'MKI67', 'UBE2C', 'TOP2A',\n",
    "                 'ACTA2', 'TAGLN', 'MYL9',\n",
    "                 'ACKR1', 'SPARCL1', 'PECAM1',\n",
    "                 'CALD1', 'MGP', 'DCN',\n",
    "                 'NKG7', 'XCL1', 'CTSW',\n",
    "                 'CD8A', 'TRAC', 'CD2',\n",
    "                 'MS4A1', 'CD79A', 'BANK1',\n",
    "                 'CD69', 'CXCR4', 'IL7R',\n",
    "                 'LILRA4', 'IRF7', 'CLEC4C',\n",
    "                 'MZB1', 'JCHAIN', 'TNFRSF17',\n",
    "                 'LST1', 'FCGR3B', 'S100A8',\n",
    "                 'TPSAB1', 'CPA3', 'MS4A2')\n",
    "toms_gene_ids5 <- short2geneid[toms_markers5]\n",
    "\n",
    "\n",
    "doug_markers1 <- c('AIF1', 'LYZ', 'FCER1G',  'CD68',\n",
    "                'RNASE1', 'PECAM1', 'IGFBP4', 'ADIRF', \n",
    "                'SOD3', 'MYL9', 'CALD1', 'GSN',\n",
    "                'TYROBP', 'NKG7', 'CTSW', 'CD69',\n",
    "                'CD3D', 'CD2', 'TRBC2', 'TRAC',\n",
    "                'MS4A1', 'CD79A', 'HLA-DQA1', 'CD37')\n",
    "dougs_gene_ids1 <- short2geneid[doug_markers1]"
   ]
  },
  {
   "cell_type": "code",
   "execution_count": 14,
   "metadata": {},
   "outputs": [],
   "source": [
    "## Create partition directories (if they do not already exist)\n",
    "for (dirs in celltypes6) {\n",
    "    part_dir <- paste(ps$outdir, dirs, sep = '')\n",
    "    if (!file.exists(part_dir)) dir.create(part_dir)\n",
    "    }"
   ]
  },
  {
   "cell_type": "code",
   "execution_count": 18,
   "metadata": {},
   "outputs": [
    {
     "name": "stderr",
     "output_type": "stream",
     "text": [
      "Warning message in louvain_clustering(data, pd[row.names(data), ], k = k, weight = weight, :\n",
      "“RANN counts the point itself, k must be smaller than\n",
      "the total number of points - 1 (all other points) - 1 (itself)!”"
     ]
    },
    {
     "name": "stdout",
     "output_type": "stream",
     "text": [
      "  |======================================================================| 100%\n",
      "  |======================================================================| 100%\n",
      "  |======================================================================| 100%\n"
     ]
    }
   ],
   "source": [
    "## Loop through the partitions and perform partition level analysis\n",
    "np <- length(celltypes6)\n",
    "\n",
    "for (p in 1:np) {\n",
    "    setwd(paste(datdir, '/', ps$outdir, celltypes6[p], sep = ''))\n",
    "    ## Extract partition subset for par\n",
    "    partn_cds <- down_stdycds[,colData(down_stdycds)$assigned_cell_type == celltypes6[p]]\n",
    "    ## Set the dimensionality reduction to the min of 100 or the the number of cells in the partition\n",
    "    num_parts <- 100 # min(dim(partn_cds)[2] / 1, 100)\n",
    "    ## Check to see if partition only has one patient. If no, regress out the patient ID\n",
    "    num_pats <- length(unique(partn_cds@colData$patient))\n",
    "    if(num_pats > 1) {\n",
    "        partn_cds <- preprocess_cds(partn_cds, num_dim = num_parts,\n",
    "                                 residual_model_formula_str = '~patient') }\n",
    "    else {\n",
    "        partn_cds <- preprocess_cds(partn_cds, num_dim = num_parts)\n",
    "    }\n",
    "    partn_cds <- reduce_dimension(partn_cds, reduction_method = \"UMAP\")\n",
    "    partn_cds <- cluster_cells(partn_cds, reduction_method = 'UMAP')\n",
    "    partn_cds <- learn_graph(partn_cds)    \n",
    "    saveRDS(partn_cds, 'Partition.Cell.Set.rds')\n",
    "    \n",
    "    ## Fit a model to the condition and patient variables (if possible)\n",
    "    num_conds <- length(unique(partn_cds@colData$condition))\n",
    "    gene_all_fits_pat_cond_unadj <- paste('Unable to Perform Differential Expression on ', \n",
    "                                         celltypes6[p], ' Due to Lack of Condition Variance', sep = '')\n",
    "    if((num_pats > 1) & (num_conds > 1)) {\n",
    "        gene_all_fits_pat_cond_unadj = fit_models(partn_cds, cores = 4,\n",
    "                                model_formula_str = \"~patient + condition\")\n",
    "        }\n",
    "    if((num_pats == 1) & (num_conds > 1)) {\n",
    "        gene_all_fits_pat_cond_unadj = fit_models(partn_cds, cores = 4,\n",
    "                                model_formula_str = \"~condition\")\n",
    "        }\n",
    "    saveRDS(gene_all_fits_pat_cond_unadj, 'Gene.Model.Fits.rds')    \n",
    "    }\n"
   ]
  },
  {
   "cell_type": "code",
   "execution_count": 16,
   "metadata": {},
   "outputs": [],
   "source": [
    "## This is a special case of DE for VSMC only, CD3+/-\n",
    "## Loop through the partitions and perform partition level analysis\n",
    "p <- 3\n",
    "\n",
    "setwd(paste(datdir, '/', ps$outdir, celltypes6[p], sep = ''))\n",
    "## Extract partition subset for par\n",
    "partn_cds <- down_stdycds[,colData(down_stdycds)$assigned_cell_type == celltypes6[p]]\n",
    "## Set the dimensionality reduction to the min of 100 or the the number of cells in the partition\n",
    "num_parts <- 100 # min(dim(partn_cds)[2] / 1, 100)\n",
    "## Check to see if partition only has one patient. If no, regress out the patient ID\n",
    "num_pats <- length(unique(partn_cds@colData$patient))\n",
    "if(num_pats > 1) {\n",
    "    partn_cds <- preprocess_cds(partn_cds, num_dim = num_parts,\n",
    "                             residual_model_formula_str = '~patient') \n",
    "} else {\n",
    "    partn_cds <- preprocess_cds(partn_cds, num_dim = num_parts)\n",
    "}\n",
    "partn_cds <- reduce_dimension(partn_cds, reduction_method = \"UMAP\")\n",
    "partn_cds <- cluster_cells(partn_cds, reduction_method = 'UMAP')\n",
    "# partn_cds <- learn_graph(partn_cds)    \n",
    "\n",
    "## saveRDS(partn_cds, 'Partition.Cell.Set.rds')"
   ]
  },
  {
   "cell_type": "code",
   "execution_count": 26,
   "metadata": {},
   "outputs": [
    {
     "data": {
      "text/plain": [
       "\n",
       "FALSE  TRUE \n",
       " 2703   969 "
      ]
     },
     "metadata": {},
     "output_type": "display_data"
    }
   ],
   "source": [
    "## Tag the cells that are C3\n",
    "c3pos_bool <- exprs(partn_cds)[short2geneid['C3'], ] > 0\n",
    "colData(partn_cds)$C3plus <- cpos_bool\n",
    "table(colData(partn_cds)$C3plus)\n",
    "## Fit a model to the C3pos\n",
    "gene_all_fits_pat_cond_unadj = fit_models(partn_cds, cores = 4,\n",
    "                            model_formula_str = \"~patient + C3plus\")\n"
   ]
  },
  {
   "cell_type": "code",
   "execution_count": 31,
   "metadata": {},
   "outputs": [],
   "source": [
    "## Extract the coefficient data from the models\n",
    "all_coef3 <- coefficient_table(gene_all_fits_pat_cond_unadj)"
   ]
  },
  {
   "cell_type": "code",
   "execution_count": 34,
   "metadata": {},
   "outputs": [
    {
     "data": {
      "text/html": [
       "<table>\n",
       "<caption>A tibble: 4 × 10</caption>\n",
       "<thead>\n",
       "\t<tr><th scope=col>gene_short_name</th><th scope=col>status</th><th scope=col>term</th><th scope=col>estimate</th><th scope=col>std_err</th><th scope=col>test_val</th><th scope=col>p_value</th><th scope=col>normalized_effect</th><th scope=col>model_component</th><th scope=col>q_value</th></tr>\n",
       "\t<tr><th scope=col>&lt;fct&gt;</th><th scope=col>&lt;chr&gt;</th><th scope=col>&lt;chr&gt;</th><th scope=col>&lt;dbl&gt;</th><th scope=col>&lt;dbl&gt;</th><th scope=col>&lt;dbl&gt;</th><th scope=col>&lt;dbl&gt;</th><th scope=col>&lt;dbl&gt;</th><th scope=col>&lt;chr&gt;</th><th scope=col>&lt;dbl&gt;</th></tr>\n",
       "</thead>\n",
       "<tbody>\n",
       "\t<tr><td>AL627309.1</td><td>OK</td><td>(Intercept)       </td><td> -7.1684960</td><td>   0.9219573</td><td>-7.7753</td><td>9.71e-15</td><td> 0.00000000</td><td>count</td><td>4.20443e-11</td></tr>\n",
       "\t<tr><td>AL627309.1</td><td>OK</td><td>patientID Number 2</td><td>-16.1545806</td><td>2148.3291467</td><td>-0.0075</td><td>9.94e-01</td><td>-0.10708262</td><td>count</td><td>1.00000e+00</td></tr>\n",
       "\t<tr><td>AL627309.1</td><td>OK</td><td>patientID Number 3</td><td>  0.4458419</td><td>   1.0921626</td><td> 0.4082</td><td>6.83e-01</td><td> 0.05684629</td><td>count</td><td>1.00000e+00</td></tr>\n",
       "\t<tr><td>AL627309.1</td><td>OK</td><td>C3plusTRUE        </td><td>  0.1214251</td><td>   1.0921626</td><td> 0.1112</td><td>9.11e-01</td><td> 0.01326312</td><td>count</td><td>1.00000e+00</td></tr>\n",
       "</tbody>\n",
       "</table>\n"
      ],
      "text/latex": [
       "A tibble: 4 × 10\n",
       "\\begin{tabular}{llllllllll}\n",
       " gene\\_short\\_name & status & term & estimate & std\\_err & test\\_val & p\\_value & normalized\\_effect & model\\_component & q\\_value\\\\\n",
       " <fct> & <chr> & <chr> & <dbl> & <dbl> & <dbl> & <dbl> & <dbl> & <chr> & <dbl>\\\\\n",
       "\\hline\n",
       "\t AL627309.1 & OK & (Intercept)        &  -7.1684960 &    0.9219573 & -7.7753 & 9.71e-15 &  0.00000000 & count & 4.20443e-11\\\\\n",
       "\t AL627309.1 & OK & patientID Number 2 & -16.1545806 & 2148.3291467 & -0.0075 & 9.94e-01 & -0.10708262 & count & 1.00000e+00\\\\\n",
       "\t AL627309.1 & OK & patientID Number 3 &   0.4458419 &    1.0921626 &  0.4082 & 6.83e-01 &  0.05684629 & count & 1.00000e+00\\\\\n",
       "\t AL627309.1 & OK & C3plusTRUE         &   0.1214251 &    1.0921626 &  0.1112 & 9.11e-01 &  0.01326312 & count & 1.00000e+00\\\\\n",
       "\\end{tabular}\n"
      ],
      "text/markdown": [
       "\n",
       "A tibble: 4 × 10\n",
       "\n",
       "| gene_short_name &lt;fct&gt; | status &lt;chr&gt; | term &lt;chr&gt; | estimate &lt;dbl&gt; | std_err &lt;dbl&gt; | test_val &lt;dbl&gt; | p_value &lt;dbl&gt; | normalized_effect &lt;dbl&gt; | model_component &lt;chr&gt; | q_value &lt;dbl&gt; |\n",
       "|---|---|---|---|---|---|---|---|---|---|\n",
       "| AL627309.1 | OK | (Intercept)        |  -7.1684960 |    0.9219573 | -7.7753 | 9.71e-15 |  0.00000000 | count | 4.20443e-11 |\n",
       "| AL627309.1 | OK | patientID Number 2 | -16.1545806 | 2148.3291467 | -0.0075 | 9.94e-01 | -0.10708262 | count | 1.00000e+00 |\n",
       "| AL627309.1 | OK | patientID Number 3 |   0.4458419 |    1.0921626 |  0.4082 | 6.83e-01 |  0.05684629 | count | 1.00000e+00 |\n",
       "| AL627309.1 | OK | C3plusTRUE         |   0.1214251 |    1.0921626 |  0.1112 | 9.11e-01 |  0.01326312 | count | 1.00000e+00 |\n",
       "\n"
      ],
      "text/plain": [
       "  gene_short_name status term               estimate    std_err      test_val\n",
       "1 AL627309.1      OK     (Intercept)         -7.1684960    0.9219573 -7.7753 \n",
       "2 AL627309.1      OK     patientID Number 2 -16.1545806 2148.3291467 -0.0075 \n",
       "3 AL627309.1      OK     patientID Number 3   0.4458419    1.0921626  0.4082 \n",
       "4 AL627309.1      OK     C3plusTRUE           0.1214251    1.0921626  0.1112 \n",
       "  p_value  normalized_effect model_component q_value    \n",
       "1 9.71e-15  0.00000000       count           4.20443e-11\n",
       "2 9.94e-01 -0.10708262       count           1.00000e+00\n",
       "3 6.83e-01  0.05684629       count           1.00000e+00\n",
       "4 9.11e-01  0.01326312       count           1.00000e+00"
      ]
     },
     "metadata": {},
     "output_type": "display_data"
    }
   ],
   "source": [
    "all_coef3[1:4, c(1, 4:12)]"
   ]
  },
  {
   "cell_type": "code",
   "execution_count": 41,
   "metadata": {},
   "outputs": [],
   "source": [
    "# Extract the relavent data from the DE tables, remove genes that failed DE, write a file\n",
    "C3plus_terms3 <- all_coef3 %>% filter(term == \"C3plusTRUE\") %>% filter(status == 'OK')\n",
    "write.table(C3plus_terms3[,c(1, 4:12)],\n",
    "            'Diff.C3plus.Coeff.RemoveFail.NoModels.txt', col.names = TRUE, row.names = FALSE)"
   ]
  },
  {
   "cell_type": "code",
   "execution_count": 40,
   "metadata": {},
   "outputs": [
    {
     "data": {
      "text/html": [
       "<table>\n",
       "<caption>A tibble: 5 × 10</caption>\n",
       "<thead>\n",
       "\t<tr><th scope=col>gene_short_name</th><th scope=col>status</th><th scope=col>term</th><th scope=col>estimate</th><th scope=col>std_err</th><th scope=col>test_val</th><th scope=col>p_value</th><th scope=col>normalized_effect</th><th scope=col>model_component</th><th scope=col>q_value</th></tr>\n",
       "\t<tr><th scope=col>&lt;fct&gt;</th><th scope=col>&lt;chr&gt;</th><th scope=col>&lt;chr&gt;</th><th scope=col>&lt;dbl&gt;</th><th scope=col>&lt;dbl&gt;</th><th scope=col>&lt;dbl&gt;</th><th scope=col>&lt;dbl&gt;</th><th scope=col>&lt;dbl&gt;</th><th scope=col>&lt;chr&gt;</th><th scope=col>&lt;dbl&gt;</th></tr>\n",
       "</thead>\n",
       "<tbody>\n",
       "\t<tr><td>AL627309.1</td><td>OK</td><td>C3plusTRUE</td><td> 0.1214251</td><td>1.0921626</td><td> 0.1112</td><td>0.9110</td><td> 0.01326312</td><td>count</td><td>1</td></tr>\n",
       "\t<tr><td>AL669831.5</td><td>OK</td><td>C3plusTRUE</td><td>-0.7770789</td><td>0.3443259</td><td>-2.2568</td><td>0.0241</td><td>-0.80382900</td><td>count</td><td>1</td></tr>\n",
       "\t<tr><td>FAM87B    </td><td>OK</td><td>C3plusTRUE</td><td> 0.2422225</td><td>0.5306329</td><td> 0.4565</td><td>0.6480</td><td> 0.14083818</td><td>count</td><td>1</td></tr>\n",
       "\t<tr><td>LINC00115 </td><td>OK</td><td>C3plusTRUE</td><td> 0.2060703</td><td>0.4220268</td><td> 0.4883</td><td>0.6250</td><td> 0.14244887</td><td>count</td><td>1</td></tr>\n",
       "\t<tr><td>FAM41C    </td><td>OK</td><td>C3plusTRUE</td><td>-0.4294373</td><td>0.4673052</td><td>-0.9190</td><td>0.3580</td><td>-0.33490497</td><td>count</td><td>1</td></tr>\n",
       "</tbody>\n",
       "</table>\n"
      ],
      "text/latex": [
       "A tibble: 5 × 10\n",
       "\\begin{tabular}{llllllllll}\n",
       " gene\\_short\\_name & status & term & estimate & std\\_err & test\\_val & p\\_value & normalized\\_effect & model\\_component & q\\_value\\\\\n",
       " <fct> & <chr> & <chr> & <dbl> & <dbl> & <dbl> & <dbl> & <dbl> & <chr> & <dbl>\\\\\n",
       "\\hline\n",
       "\t AL627309.1 & OK & C3plusTRUE &  0.1214251 & 1.0921626 &  0.1112 & 0.9110 &  0.01326312 & count & 1\\\\\n",
       "\t AL669831.5 & OK & C3plusTRUE & -0.7770789 & 0.3443259 & -2.2568 & 0.0241 & -0.80382900 & count & 1\\\\\n",
       "\t FAM87B     & OK & C3plusTRUE &  0.2422225 & 0.5306329 &  0.4565 & 0.6480 &  0.14083818 & count & 1\\\\\n",
       "\t LINC00115  & OK & C3plusTRUE &  0.2060703 & 0.4220268 &  0.4883 & 0.6250 &  0.14244887 & count & 1\\\\\n",
       "\t FAM41C     & OK & C3plusTRUE & -0.4294373 & 0.4673052 & -0.9190 & 0.3580 & -0.33490497 & count & 1\\\\\n",
       "\\end{tabular}\n"
      ],
      "text/markdown": [
       "\n",
       "A tibble: 5 × 10\n",
       "\n",
       "| gene_short_name &lt;fct&gt; | status &lt;chr&gt; | term &lt;chr&gt; | estimate &lt;dbl&gt; | std_err &lt;dbl&gt; | test_val &lt;dbl&gt; | p_value &lt;dbl&gt; | normalized_effect &lt;dbl&gt; | model_component &lt;chr&gt; | q_value &lt;dbl&gt; |\n",
       "|---|---|---|---|---|---|---|---|---|---|\n",
       "| AL627309.1 | OK | C3plusTRUE |  0.1214251 | 1.0921626 |  0.1112 | 0.9110 |  0.01326312 | count | 1 |\n",
       "| AL669831.5 | OK | C3plusTRUE | -0.7770789 | 0.3443259 | -2.2568 | 0.0241 | -0.80382900 | count | 1 |\n",
       "| FAM87B     | OK | C3plusTRUE |  0.2422225 | 0.5306329 |  0.4565 | 0.6480 |  0.14083818 | count | 1 |\n",
       "| LINC00115  | OK | C3plusTRUE |  0.2060703 | 0.4220268 |  0.4883 | 0.6250 |  0.14244887 | count | 1 |\n",
       "| FAM41C     | OK | C3plusTRUE | -0.4294373 | 0.4673052 | -0.9190 | 0.3580 | -0.33490497 | count | 1 |\n",
       "\n"
      ],
      "text/plain": [
       "  gene_short_name status term       estimate   std_err   test_val p_value\n",
       "1 AL627309.1      OK     C3plusTRUE  0.1214251 1.0921626  0.1112  0.9110 \n",
       "2 AL669831.5      OK     C3plusTRUE -0.7770789 0.3443259 -2.2568  0.0241 \n",
       "3 FAM87B          OK     C3plusTRUE  0.2422225 0.5306329  0.4565  0.6480 \n",
       "4 LINC00115       OK     C3plusTRUE  0.2060703 0.4220268  0.4883  0.6250 \n",
       "5 FAM41C          OK     C3plusTRUE -0.4294373 0.4673052 -0.9190  0.3580 \n",
       "  normalized_effect model_component q_value\n",
       "1  0.01326312       count           1      \n",
       "2 -0.80382900       count           1      \n",
       "3  0.14083818       count           1      \n",
       "4  0.14244887       count           1      \n",
       "5 -0.33490497       count           1      "
      ]
     },
     "metadata": {},
     "output_type": "display_data"
    },
    {
     "data": {
      "text/html": [
       "<style>\n",
       ".list-inline {list-style: none; margin:0; padding: 0}\n",
       ".list-inline>li {display: inline-block}\n",
       ".list-inline>li:not(:last-child)::after {content: \"\\00b7\"; padding: 0 .5ex}\n",
       "</style>\n",
       "<ol class=list-inline><li>19702</li><li>12</li></ol>\n"
      ],
      "text/latex": [
       "\\begin{enumerate*}\n",
       "\\item 19702\n",
       "\\item 12\n",
       "\\end{enumerate*}\n"
      ],
      "text/markdown": [
       "1. 19702\n",
       "2. 12\n",
       "\n",
       "\n"
      ],
      "text/plain": [
       "[1] 19702    12"
      ]
     },
     "metadata": {},
     "output_type": "display_data"
    }
   ],
   "source": [
    "C3plus_terms3[1:5, c(1, 4:12)]\n",
    "dim(C3plus_terms3)"
   ]
  },
  {
   "cell_type": "code",
   "execution_count": null,
   "metadata": {},
   "outputs": [],
   "source": []
  }
 ],
 "metadata": {
  "kernelspec": {
   "display_name": "R",
   "language": "R",
   "name": "ir"
  },
  "language_info": {
   "codemirror_mode": "r",
   "file_extension": ".r",
   "mimetype": "text/x-r-source",
   "name": "R",
   "pygments_lexer": "r",
   "version": "3.5.1"
  }
 },
 "nbformat": 4,
 "nbformat_minor": 2
}
