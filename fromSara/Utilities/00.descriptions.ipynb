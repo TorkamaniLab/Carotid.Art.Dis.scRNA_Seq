{
 "cells": [
  {
   "cell_type": "code",
   "execution_count": null,
   "metadata": {},
   "outputs": [],
   "source": [
    "# This notebook contains details of the the Utilities folder"
   ]
  },
  {
   "cell_type": "code",
   "execution_count": null,
   "metadata": {},
   "outputs": [],
   "source": [
    "# Notebooks in this folder are loaded into notebooks in the \n",
    "# main analysis pathway with the source command after being\n",
    "# converted into an R script. They contain useful functions"
   ]
  },
  {
   "cell_type": "code",
   "execution_count": null,
   "metadata": {},
   "outputs": [],
   "source": [
    "### setup_igraph ######################################################################\n",
    "\n",
    "# This is a library of functions that can be used\n",
    "# to support network related activities, especially\n",
    "# related to plotting and tabulations\n",
    "\n",
    "# The functions defined in this notebook are:\n",
    "## stat_parm <-  apply expression stats and strength to network\n",
    "## annot_parm <-  apply biomaRt annotations to a network\n",
    "## v19_parm <-  apply GENCODE v19 chromosomal information to a network\n",
    "## plot_parm <-  apply standard plotting parameters to a network\n",
    "## make_v19chrom <-  Create a file with just gene info from GENCODE 19 input file\n",
    "\n",
    "### cluster_score #####################################################################\n",
    "\n",
    "# The functions defined in this notebook are:\n",
    "## cluster_score <-  returns modularity-type scoring for individual clusters in a graph\n",
    "## cluster_score.help <-  prints help\n",
    "\n",
    "### cluster_overlap ###################################################################\n",
    "\n",
    "# The functions defined in this notebook are:\n",
    "## cluster_overlap <-  scores the matchup between two groups of clusters\n",
    "## cluster_overlap.help <-  prints help\n",
    "\n",
    "### recursive_louvain #################################################################\n",
    "\n",
    "# The functions defined in this notebook are:\n",
    "## recursive_louvain <-  This function recursively generates louvain clusters.\n",
    "## recursive_louvain.help <-  prints help\n",
    "\n",
    "### plot_by_cluster ###################################################################\n",
    "\n",
    "# The functions defined in this notebook are:\n",
    "## plot_by_cluster <-  plots only a subset of clusters from a larger igraph object\n",
    "## plot_by_cluster.help <-  prints help"
   ]
  }
 ],
 "metadata": {
  "kernelspec": {
   "display_name": "R",
   "language": "R",
   "name": "ir"
  },
  "language_info": {
   "codemirror_mode": "r",
   "file_extension": ".r",
   "mimetype": "text/x-r-source",
   "name": "R",
   "pygments_lexer": "r",
   "version": "3.5.1"
  }
 },
 "nbformat": 4,
 "nbformat_minor": 2
}
