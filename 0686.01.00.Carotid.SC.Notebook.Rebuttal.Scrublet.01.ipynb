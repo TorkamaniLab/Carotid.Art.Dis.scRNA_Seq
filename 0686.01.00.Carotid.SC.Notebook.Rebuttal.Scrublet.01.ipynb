{
 "cells": [
  {
   "cell_type": "code",
   "execution_count": 1,
   "metadata": {},
   "outputs": [],
   "source": [
    "## ---- Global Cell Set Doublet Testing with Scrublet ---- 0686.01.00\n",
    "## This code is new from 0686.00.00 in that is uses the downsampled\n",
    "## and remixed cell set\n",
    "## Load aggregated data set (previously unprocessed 10x data)\n",
    "## Filter to the downsampled and remixed set (remove QC Failed cells too)\n",
    "## Perform Scrublet analysis\n",
    "## Save doublet scores, predicted doublets, and cell barcodes"
   ]
  },
  {
   "cell_type": "code",
   "execution_count": 2,
   "metadata": {},
   "outputs": [],
   "source": [
    "import scrublet as scr"
   ]
  },
  {
   "cell_type": "code",
   "execution_count": 3,
   "metadata": {},
   "outputs": [],
   "source": [
    "%matplotlib inline\n",
    "import scipy.io\n",
    "import matplotlib.pyplot as plt\n",
    "import numpy as np\n",
    "import os\n",
    "import pandas as pd\n",
    "import os\n",
    "import asciitable\n",
    "import scipy.sparse as scp"
   ]
  },
  {
   "cell_type": "code",
   "execution_count": 4,
   "metadata": {},
   "outputs": [],
   "source": [
    "## May need to run command line:\n",
    "## pip install scikit-image\n",
    "## May also need to run command line:\n",
    "## pip install asciitable"
   ]
  },
  {
   "cell_type": "code",
   "execution_count": 5,
   "metadata": {},
   "outputs": [],
   "source": [
    "plt.rcParams['font.family'] = 'sans-serif'\n",
    "plt.rcParams['font.sans-serif'] = 'Arial'\n",
    "plt.rc('font', size=14)\n",
    "plt.rcParams['pdf.fonttype'] = 42"
   ]
  },
  {
   "cell_type": "code",
   "execution_count": 6,
   "metadata": {},
   "outputs": [
    {
     "data": {
      "text/plain": [
       "'/gpfs/home/devans/code/CSC.Run2'"
      ]
     },
     "execution_count": 6,
     "metadata": {},
     "output_type": "execute_result"
    }
   ],
   "source": [
    "os.getcwd()"
   ]
  },
  {
   "cell_type": "code",
   "execution_count": 7,
   "metadata": {},
   "outputs": [
    {
     "name": "stdout",
     "output_type": "stream",
     "text": [
      "Counts matrix shape: 51981 rows, 33538 columns\n",
      "Number of genes in gene list: 33538\n"
     ]
    }
   ],
   "source": [
    "input_dir = '/gpfs/group/torkamani/devans/CDC2/inputdat/outs/filtered_feature_bc_matrix/unzipped'\n",
    "counts_matrix = scipy.io.mmread(input_dir + '/matrix.mtx').T.tocsc()\n",
    "genes = np.array(scr.load_genes(input_dir + '/features.tsv', delimiter = '\\t', column = 1))\n",
    "\n",
    "print('Counts matrix shape: {} rows, {} columns'.format(counts_matrix.shape[0], counts_matrix.shape[1]))\n",
    "print('Number of genes in gene list: {}'.format(len(genes)))"
   ]
  },
  {
   "cell_type": "code",
   "execution_count": 8,
   "metadata": {},
   "outputs": [
    {
     "name": "stdout",
     "output_type": "stream",
     "text": [
      "Number of cells in cell list: 51981\n"
     ]
    }
   ],
   "source": [
    "## Read the downsampled and remixed cell barcodes and partition names\n",
    "remix_file = \"/gpfs/group/torkamani/devans/CDC2/outputdat/Remix_Codes.Noquotes.Rev1.txt\"\n",
    "remix_codes = np.loadtxt(remix_file, dtype={'names': ('pos', 'barcode', 'group'),'formats': ('S5', 'S20', 'S20')})\n",
    "barcodes = remix_codes['barcode']\n",
    "parts = remix_codes['group']\n",
    "\n",
    "## Read the full cells set barcodes (needed for subsett)\n",
    "with open(input_dir + '/barcodes.tsv') as data:\n",
    "    cells = np.array(data.read().split())\n",
    "print('Number of cells in cell list: {}'.format(len(cells)))"
   ]
  },
  {
   "cell_type": "code",
   "execution_count": 9,
   "metadata": {},
   "outputs": [],
   "source": [
    "## Get the remixed cell barcodes (for the downsampled set), but remove the qc failed cells\n",
    "qcpass = np.in1d(parts, np.unique(parts, return_counts=True)[0][[0, 1, 2, 4, 5, 6]])\n",
    "keepers = barcodes[np.where(qcpass)]"
   ]
  },
  {
   "cell_type": "code",
   "execution_count": 10,
   "metadata": {},
   "outputs": [],
   "source": [
    "## Get the index numbers of the remixed cells into the expression matrix\n",
    "qcpass_down = np.in1d(cells, keepers)\n",
    "keepers_ind = np.where(qcpass_down)[0]"
   ]
  },
  {
   "cell_type": "code",
   "execution_count": 11,
   "metadata": {},
   "outputs": [
    {
     "name": "stdout",
     "output_type": "stream",
     "text": [
      "Counts matrix shape: 16287 rows, 33538 columns\n"
     ]
    }
   ],
   "source": [
    "## Filter the expression set to just the valid remixed downsampled cells\n",
    "counts_matrix_down = counts_matrix[keepers_ind, :]\n",
    "print('Counts matrix shape: {} rows, {} columns'.format(counts_matrix_down.shape[0], counts_matrix_down.shape[1]))"
   ]
  },
  {
   "cell_type": "code",
   "execution_count": 17,
   "metadata": {},
   "outputs": [],
   "source": [
    "## Scrublet case 2, expected rate = 10%\n",
    "scrub = scr.Scrublet(counts_matrix_down, expected_doublet_rate = .10, n_neighbors = 100)"
   ]
  },
  {
   "cell_type": "code",
   "execution_count": 18,
   "metadata": {},
   "outputs": [
    {
     "name": "stdout",
     "output_type": "stream",
     "text": [
      "Preprocessing...\n",
      "Simulating doublets...\n",
      "Embedding transcriptomes using PCA...\n",
      "Calculating doublet scores...\n",
      "Automatically set threshold at doublet score = 0.49\n",
      "Detected doublet rate = 1.3%\n",
      "Estimated detectable doublet fraction = 33.1%\n",
      "Overall doublet rate:\n",
      "\tExpected   = 10.0%\n",
      "\tEstimated  = 3.8%\n",
      "Elapsed time: 29.9 seconds\n"
     ]
    }
   ],
   "source": [
    "doublet_scores, predicted_doublets = scrub.scrub_doublets(min_counts=2, \n",
    "                                                          min_cells=3, \n",
    "                                                          min_gene_variability_pctl=85, \n",
    "                                                          n_prin_comps=30)"
   ]
  },
  {
   "cell_type": "code",
   "execution_count": 19,
   "metadata": {},
   "outputs": [
    {
     "data": {
      "image/png": "[encoded data removed]",
      "text/plain": [
       "<Figure size 576x216 with 2 Axes>"
      ]
     },
     "metadata": {
      "needs_background": "light"
     },
     "output_type": "display_data"
    }
   ],
   "source": [
    "scrub.plot_histogram();"
   ]
  },
  {
   "cell_type": "code",
   "execution_count": 20,
   "metadata": {},
   "outputs": [
    {
     "name": "stdout",
     "output_type": "stream",
     "text": [
      "Running UMAP...\n",
      "Done.\n"
     ]
    }
   ],
   "source": [
    "print('Running UMAP...')\n",
    "scrub.set_embedding('UMAP', scr.get_umap(scrub.manifold_obs_, 10, min_dist=0.3))\n",
    "\n",
    "# # Uncomment to run tSNE - slow\n",
    "# print('Running tSNE...')\n",
    "# scrub.set_embedding('tSNE', scr.get_tsne(scrub.manifold_obs_, angle=0.9))\n",
    "\n",
    "# # Uncomment to run force layout - slow\n",
    "# print('Running ForceAtlas2...')\n",
    "# scrub.set_embedding('FA', scr.get_force_layout(scrub.manifold_obs_, n_neighbors=5. n_iter=1000))\n",
    "    \n",
    "print('Done.')"
   ]
  },
  {
   "cell_type": "code",
   "execution_count": 16,
   "metadata": {},
   "outputs": [
    {
     "data": {
      "image/png": "[encoded data removed]",
      "text/plain": [
       "<Figure size 576x288 with 3 Axes>"
      ]
     },
     "metadata": {
      "needs_background": "light"
     },
     "output_type": "display_data"
    }
   ],
   "source": [
    "scrub.plot_embedding('UMAP', order_points='TRUE');\n",
    "\n",
    "# scrub.plot_embedding('tSNE', order_points=True);\n",
    "# scrub.plot_embedding('FA', order_points=True);"
   ]
  },
  {
   "cell_type": "code",
   "execution_count": 375,
   "metadata": {},
   "outputs": [],
   "source": [
    "## Write the results from Scrublet\n",
    "output_dir = '/gpfs/group/torkamani/devans/CDC2/outputdat/Scrublet/Rev2'\n",
    "np.savetxt(output_dir + '/doublet_scores.10pct.Rev2.txt', doublet_scores)\n",
    "np.savetxt(output_dir + '/predicted_doublets.10pct.Rev2.txt', predicted_doublets)"
   ]
  },
  {
   "cell_type": "code",
   "execution_count": 139,
   "metadata": {},
   "outputs": [],
   "source": [
    "## Save the remixed barcodes (with and without qc failed cells)\n",
    "np.savetxt(output_dir + '/remix.barcodes.10pct.Rev2.txt', barcodes, fmt='%s', delimiter = ',')\n",
    "np.savetxt(output_dir + '/remix.keepers.10pct.Rev2.txt', keepers, fmt='%s', delimiter = ',')\n",
    "np.savetxt(output_dir + '/remix.keepers2.10pct.Rev2.txt', cells[keepers_ind], fmt='%s', delimiter = ',')"
   ]
  },
  {
   "cell_type": "code",
   "execution_count": 142,
   "metadata": {},
   "outputs": [
    {
     "name": "stdout",
     "output_type": "stream",
     "text": [
      "['AAACGAAAGATCCCAT-1' 'AAACGAACAGGCTACC-1' 'AAACGAAGTACAAGCG-1'\n",
      " 'AAACGAATCCTGCTAC-1' 'AAACGAATCTCTAAGG-1' 'AAACGCTCAACCCGCA-1'\n",
      " 'AAACGCTGTCACTCTC-1' 'AAACGCTTCTACCAGA-1' 'AAAGAACAGCTTTGTG-1'\n",
      " 'AAAGAACTCGGAAACG-1']\n",
      "[b'AAACCCAAGTGCACCC-2' b'AAACCCACAAGTTTGC-2' b'AAACCCACATTCTCCG-2'\n",
      " b'AAACCCAGTGTGTGTT-2' b'AAACGAAAGAAGTGTT-2' b'AAACGAATCGATTCCC-2'\n",
      " b'AAACGCTAGGTTCCAT-2' b'AAACGCTGTAGCTTGT-2' b'AAACGCTGTAGTTACC-2'\n",
      " b'AAACGCTGTATAGCTC-2']\n"
     ]
    }
   ],
   "source": [
    "print(cells[keepers_ind][0:10])\n",
    "print(keepers[0:10])"
   ]
  },
  {
   "cell_type": "code",
   "execution_count": 42,
   "metadata": {},
   "outputs": [],
   "source": [
    "## Save the UMAP enbedding (x and y coordinates)\n",
    "output_dir = '/gpfs/group/torkamani/devans/CDC2/outputdat/Scrublet/Rev2'\n",
    "np.savetxt(output_dir + '/remix.umap.10pct.Rev2.txt', scrub._embeddings['UMAP'], fmt='%s', delimiter = ',')"
   ]
  },
  {
   "cell_type": "code",
   "execution_count": 44,
   "metadata": {},
   "outputs": [
    {
     "data": {
      "text/plain": [
       "{'_E_obs': <16287x2893 sparse matrix of type '<class 'numpy.int64'>'\n",
       " \twith 4864420 stored elements in Compressed Sparse Column format>,\n",
       " '_E_sim': <32574x2893 sparse matrix of type '<class 'numpy.int64'>'\n",
       " \twith 15883933 stored elements in Compressed Sparse Column format>,\n",
       " '_E_obs_norm': array([[-0.01647114, -0.11829385, -0.26121341, ...,  0.05084269,\n",
       "         -0.51602702, -0.17973356],\n",
       "        [-0.01647114, -0.11829385,  6.86939282, ..., -1.09006179,\n",
       "          0.12057021, -0.02083409],\n",
       "        [-0.01647114, -0.11829385, -0.26121341, ...,  2.32186284,\n",
       "          1.34491776,  2.10130177],\n",
       "        ...,\n",
       "        [-0.01647114, -0.11829385, -0.26121341, ...,  0.65586604,\n",
       "          1.39720718,  0.86904072],\n",
       "        [-0.01647114, -0.11829385, -0.26121341, ..., -0.31750232,\n",
       "         -0.82659201,  0.4440957 ],\n",
       "        [-0.01647114, -0.11829385, -0.26121341, ..., -1.25567764,\n",
       "         -1.26156184, -1.46570661]]),\n",
       " '_E_sim_norm': array([[-0.01647114, -0.11829385, -0.26121341, ...,  0.69474349,\n",
       "         -0.08206457,  0.0139406 ],\n",
       "        [-0.01647114, -0.11829385,  3.30529792, ...,  0.13596697,\n",
       "         -0.52417494, -0.02034445],\n",
       "        [-0.01647114, -0.11829385,  1.00098032, ..., -0.72799358,\n",
       "         -0.93535892, -0.44267492],\n",
       "        ...,\n",
       "        [-0.01647114, -0.11829385,  0.14753808, ..., -0.45820812,\n",
       "          0.27019271,  0.19079716],\n",
       "        [-0.01647114, -0.11829385, -0.26121341, ..., -0.76579433,\n",
       "         -0.09348281, -0.65163809],\n",
       "        [-0.01647114, -0.11829385,  0.19049877, ..., -0.12259651,\n",
       "          0.48955401, -0.03783396]]),\n",
       " '_total_counts_obs': array([7783, 4723, 3061, ..., 4092, 3335,  548], dtype=int64),\n",
       " '_gene_filter': array([   17,    20,    26, ..., 33496, 33497, 33501]),\n",
       " '_embeddings': {'UMAP': array([[  5.700299 , -11.620175 ],\n",
       "         [  6.2276897,  -1.9180988],\n",
       "         [  1.4773146, -10.364441 ],\n",
       "         ...,\n",
       "         [  2.639505 ,  -3.55978  ],\n",
       "         [ -4.7395177,  -2.266995 ],\n",
       "         [  2.7289047,   7.9106297]], dtype=float32)},\n",
       " 'sim_doublet_ratio': 2.0,\n",
       " 'n_neighbors': 100,\n",
       " 'expected_doublet_rate': 0.1,\n",
       " 'stdev_doublet_rate': 0.02,\n",
       " 'random_state': 0,\n",
       " '_total_counts_sim': array([ 9224,  7869,  4447, ..., 13732, 11177, 12426], dtype=int64),\n",
       " 'doublet_parents_': array([[ 2732, 10799],\n",
       "        [ 9845,  3264],\n",
       "        [13123,  4859],\n",
       "        ...,\n",
       "        [15669,  2708],\n",
       "        [ 4031,  9270],\n",
       "        [10658,  1229]]),\n",
       " 'manifold_obs_': array([[ 5.84479706,  0.85070713, 14.34941325, ..., -2.74086368,\n",
       "         -2.49964493,  0.89281249],\n",
       "        [13.955582  , -3.2106855 , -5.68559145, ..., -0.24472804,\n",
       "         -0.1117102 , -3.41781948],\n",
       "        [ 7.19485655, -0.35132179, 16.14181078, ...,  0.3760881 ,\n",
       "          0.53421729,  2.65188666],\n",
       "        ...,\n",
       "        [10.73862827, -2.95824236, -4.00702277, ...,  0.11245424,\n",
       "          0.33054267,  2.57488695],\n",
       "        [-6.230941  , -5.5680909 , -1.03901732, ..., -1.04275096,\n",
       "          2.08707908,  1.75839096],\n",
       "        [-4.81909109, 12.73333426, -2.94383094, ...,  1.38220773,\n",
       "          0.33407651,  0.41297693]]),\n",
       " 'manifold_sim_': array([[ 1.41906873, -2.56605799,  9.07340398, ..., -0.10259203,\n",
       "          0.13982735, -0.63924162],\n",
       "        [ 6.19388527,  1.08729078, -0.56806412, ...,  1.81299738,\n",
       "          1.4802153 ,  0.0424379 ],\n",
       "        [ 3.26893679, -4.58329795, -2.92954839, ...,  3.19533621,\n",
       "          1.81900321,  0.62319447],\n",
       "        ...,\n",
       "        [12.58395703, -3.5786065 , -6.55786749, ..., -1.87648165,\n",
       "         -1.89627686, -4.38256292],\n",
       "        [ 3.19352512, -1.96537801,  4.44143778, ...,  2.46621557,\n",
       "          1.01859629,  1.51828502],\n",
       "        [12.72192394, -3.31393192, -2.98416358, ..., -0.90932212,\n",
       "         -3.44783402, -3.00808   ]]),\n",
       " 'doublet_scores_obs_': array([0.01618578, 0.03171008, 0.02339933, ..., 0.04029758, 0.01678884,\n",
       "        0.1439442 ]),\n",
       " 'doublet_scores_sim_': array([0.61864407, 0.08839779, 0.76744186, ..., 0.03725962, 0.22719141,\n",
       "        0.11254019]),\n",
       " 'doublet_errors_obs_': array([0.00415563, 0.00773898, 0.00582874, ..., 0.00969502, 0.00429611,\n",
       "        0.03191075]),\n",
       " 'doublet_errors_sim_': array([0.09212085, 0.02032797, 0.08960763, ..., 0.00900507, 0.0477847 ,\n",
       "        0.02545588]),\n",
       " 'predicted_doublets_': array([False, False, False, ..., False, False, False]),\n",
       " 'z_scores_': array([-113.50436513,  -58.94292407,  -79.68602939, ...,  -46.16501191,\n",
       "        -109.65257388,  -10.77769205]),\n",
       " 'threshold_': 0.48786846932135297,\n",
       " 'detected_doublet_rate_': 0.012709522932400073,\n",
       " 'detectable_doublet_fraction_': 0.3310922821882483,\n",
       " 'overall_doublet_rate_': 0.0383866481223922}"
      ]
     },
     "execution_count": 44,
     "metadata": {},
     "output_type": "execute_result"
    }
   ],
   "source": [
    "vars(scrub)"
   ]
  },
  {
   "cell_type": "code",
   "execution_count": 19,
   "metadata": {},
   "outputs": [
    {
     "data": {
      "text/plain": [
       "['__class__',\n",
       " '__contains__',\n",
       " '__delattr__',\n",
       " '__delitem__',\n",
       " '__dir__',\n",
       " '__doc__',\n",
       " '__eq__',\n",
       " '__format__',\n",
       " '__ge__',\n",
       " '__getattribute__',\n",
       " '__getitem__',\n",
       " '__gt__',\n",
       " '__hash__',\n",
       " '__init__',\n",
       " '__init_subclass__',\n",
       " '__iter__',\n",
       " '__le__',\n",
       " '__len__',\n",
       " '__lt__',\n",
       " '__ne__',\n",
       " '__new__',\n",
       " '__reduce__',\n",
       " '__reduce_ex__',\n",
       " '__repr__',\n",
       " '__setattr__',\n",
       " '__setitem__',\n",
       " '__sizeof__',\n",
       " '__str__',\n",
       " '__subclasshook__',\n",
       " 'clear',\n",
       " 'copy',\n",
       " 'fromkeys',\n",
       " 'get',\n",
       " 'items',\n",
       " 'keys',\n",
       " 'pop',\n",
       " 'popitem',\n",
       " 'setdefault',\n",
       " 'update',\n",
       " 'values']"
      ]
     },
     "execution_count": 19,
     "metadata": {},
     "output_type": "execute_result"
    }
   ],
   "source": [
    "dir(scrub._embeddings)"
   ]
  },
  {
   "cell_type": "code",
   "execution_count": 20,
   "metadata": {},
   "outputs": [
    {
     "data": {
      "text/plain": [
       "dict_values([array([[  5.700299 , -11.620175 ],\n",
       "       [  6.2276897,  -1.9180988],\n",
       "       [  1.4773146, -10.364441 ],\n",
       "       ...,\n",
       "       [  2.639505 ,  -3.55978  ],\n",
       "       [ -4.7395177,  -2.266995 ],\n",
       "       [  2.7289047,   7.9106297]], dtype=float32)])"
      ]
     },
     "execution_count": 20,
     "metadata": {},
     "output_type": "execute_result"
    }
   ],
   "source": [
    "scrub._embeddings.values()"
   ]
  },
  {
   "cell_type": "code",
   "execution_count": 21,
   "metadata": {},
   "outputs": [
    {
     "data": {
      "text/plain": [
       "dict_keys(['UMAP'])"
      ]
     },
     "execution_count": 21,
     "metadata": {},
     "output_type": "execute_result"
    }
   ],
   "source": [
    "scrub._embeddings.keys()"
   ]
  },
  {
   "cell_type": "code",
   "execution_count": 22,
   "metadata": {},
   "outputs": [],
   "source": [
    "umapdata = scrub._embeddings['UMAP']"
   ]
  },
  {
   "cell_type": "code",
   "execution_count": 40,
   "metadata": {},
   "outputs": [
    {
     "data": {
      "text/plain": [
       "[<matplotlib.lines.Line2D at 0x7f6ca3c8d3c8>]"
      ]
     },
     "execution_count": 40,
     "metadata": {},
     "output_type": "execute_result"
    },
    {
     "data": {
      "image/png": "[encoded data removed]",
      "text/plain": [
       "<Figure size 432x288 with 1 Axes>"
      ]
     },
     "metadata": {
      "needs_background": "light"
     },
     "output_type": "display_data"
    }
   ],
   "source": [
    "plt.plot(umapdata[:,0], umapdata[:,1], 'o', color = 'red')"
   ]
  },
  {
   "cell_type": "code",
   "execution_count": 47,
   "metadata": {},
   "outputs": [],
   "source": [
    "Eobs = scrub._E_obs"
   ]
  },
  {
   "cell_type": "code",
   "execution_count": 96,
   "metadata": {},
   "outputs": [
    {
     "data": {
      "text/plain": [
       "matrix([[<16287x2893 sparse matrix of type '<class 'numpy.int64'>'\n",
       "\twith 4864420 stored elements in Compressed Sparse Column format>]],\n",
       "       dtype=object)"
      ]
     },
     "execution_count": 96,
     "metadata": {},
     "output_type": "execute_result"
    }
   ],
   "source": [
    "np.asmatrix(Eobs)"
   ]
  },
  {
   "cell_type": "code",
   "execution_count": null,
   "metadata": {},
   "outputs": [],
   "source": []
  },
  {
   "cell_type": "code",
   "execution_count": null,
   "metadata": {},
   "outputs": [],
   "source": []
  },
  {
   "cell_type": "code",
   "execution_count": null,
   "metadata": {},
   "outputs": [],
   "source": []
  }
 ],
 "metadata": {
  "kernelspec": {
   "display_name": "Python 3",
   "language": "python",
   "name": "python3"
  },
  "language_info": {
   "codemirror_mode": {
    "name": "ipython",
    "version": 3
   },
   "file_extension": ".py",
   "mimetype": "text/x-python",
   "name": "python",
   "nbconvert_exporter": "python",
   "pygments_lexer": "ipython3",
   "version": "3.6.3"
  }
 },
 "nbformat": 4,
 "nbformat_minor": 2
}
