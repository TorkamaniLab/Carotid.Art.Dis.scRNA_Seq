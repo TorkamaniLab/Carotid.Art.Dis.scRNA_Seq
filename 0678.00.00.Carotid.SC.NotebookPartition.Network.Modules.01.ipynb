{
 "cells": [
  {
   "cell_type": "code",
   "execution_count": 1,
   "metadata": {},
   "outputs": [],
   "source": [
    "## ---- Partition Cell Set Network Module Analysis ---- 0678.00.00\n",
    "## Load Analysis Parameters (Parm1)\n",
    "## Load Network Utilities\n",
    "## Loop Through Each Partition and Perform Analysis as Follows:\n",
    "## Load Partition Cell Set\n",
    "## Load 20K Data Sets Created in 0670.00.00.Carotid.SC.NotebookPartition.Network.Modules.01\n",
    "## Create Special Network/Module Plots for VSMC and EC Partitions (Using Degree Connectivity and selected genes)\n",
    "## Plot Modules Using Plot Results from tkplot Run From R-Studio"
   ]
  },
  {
   "cell_type": "code",
   "execution_count": 2,
   "metadata": {},
   "outputs": [],
   "source": [
    "## Create a Working Input and Output Data Directory, If Id Does Not Exist\n",
    "parentdir <- '/gpfs/group/torkamani/devans/'\n",
    "datdir <- paste(parentdir, 'CDC2', sep = '')\n",
    "if (!file.exists(datdir)) {\n",
    "    dir.create(datdir)\n",
    "}\n",
    "setwd(datdir)"
   ]
  },
  {
   "cell_type": "code",
   "execution_count": 3,
   "metadata": {},
   "outputs": [],
   "source": [
    "## Read the parameters file\n",
    "ps <- read.table(file = 'parms.txt', stringsAsFactors = FALSE, header = TRUE)"
   ]
  },
  {
   "cell_type": "code",
   "execution_count": 4,
   "metadata": {},
   "outputs": [],
   "source": [
    "## Read the GENCODE v27 Data\n",
    "v27_gen <- read.table(paste(ps$indir, 'v27_Embl_Hugo.txt', sep = ''), header = F)\n",
    "v27_gen[,1] <- substr(v27_gen[,1] ,1, 15)\n",
    "v27 <- read.table(paste(ps$indir, 'v27_Embl_Hugo_Type.txt', sep =''))"
   ]
  },
  {
   "cell_type": "code",
   "execution_count": 6,
   "metadata": {},
   "outputs": [],
   "source": [
    "## Load Monocle3 and Seurat Libraries\n",
    "library(monocle3)\n",
    "library(Seurat)\n",
    "library(dplyr)\n",
    "library(magrittr)\n",
    "library(ggplot2)\n",
    "library(gridExtra)\n",
    "library(Matrix)\n",
    "library(rhdf5)\n",
    "library(grid)\n",
    "library(igraph)\n",
    "library(corpcor)\n",
    "library(fdrtool)\n",
    "\n",
    "## Get the igraph utilities\n",
    "source('/gpfs/home/devans/code/Utilities/fromSara/setup_igraph.r')\n",
    "source('/gpfs/home/devans/code/Utilities/fromSara/recursive_louvain.r')\n",
    "source('/gpfs/home/devans/code/Utilities/fromSara/cluster_score.r')\n",
    "source('/gpfs/home/devans/code/Utilities/fromSara/cluster_overlap.r')\n",
    "source('/gpfs/home/devans/code/Utilities/fromSara/plot_by_cluster.r')\n",
    "\n",
    "## Alternate to stat_parm utility in igraph utilities (does not assume log10 data)\n",
    "stat_parm2 <- function(gf, expdata){\n",
    "    \n",
    "    ## Remove expression values not in the network, get antilog\n",
    "    # expdata_filt <- 10 ^ log10expdata[,V(gf)$name]\n",
    "    expdata_filt <- expdata[,V(gf)$name]\n",
    "    \n",
    "    ## Compute the node expression stats, including coeff of variation, add to network\n",
    "    V(gf)$mean <- apply(expdata_filt, 2, mean)\n",
    "    V(gf)$sd <- apply(expdata_filt, 2, sd)\n",
    "    V(gf)$cv <- V(gf)$sd/V(gf)$mean\n",
    "    V(gf)$med <- apply(expdata_filt, 2, median)\n",
    "\n",
    "    ## Compute the strength\n",
    "    V(gf)$strength <- strength(gf, weights = abs(E(gf)$pcor))\n",
    "    return(gf)\n",
    "    }\n",
    "## Alternate to plot function in utility\n",
    "\n",
    "plot_parm2 <- function (gf) {\n",
    "\n",
    "    V(gf)$color <- 'red'\n",
    "    \n",
    "    E(gf)$color[E(gf)$pcor > 0] <- 'green'\n",
    "    E(gf)$color[E(gf)$pcor < 0] <- 'orange'\n",
    "    fedthick <- 100 * abs(E(gf)$pcor)\n",
    "    V(gf)$label.cex = .1\n",
    "    E(gf)$label.cex = .1\n",
    "    V(gf)$label <- paste(substr(V(gf)$v27,1,10),\n",
    "                                   round(V(gf)$strength,3), sep = '\\n')\n",
    "    E(gf)$width <- fedthick\n",
    "    E(gf)$label <- round(E(gf)$pcor, 4)\n",
    "    V(gf)$size <- 1\n",
    "\n",
    "    return(gf)\n",
    "    }"
   ]
  },
  {
   "cell_type": "code",
   "execution_count": 7,
   "metadata": {},
   "outputs": [],
   "source": [
    "## This is a modified version of Sara's plot_by_cluster function\n",
    "plot_module <- function(graph_temp, filename = 'nofile', xdim = 6, ydim = 6,\n",
    "                        scale = 1, layout = list('layout_with_kk', layout_with_kk)){\n",
    "    layout_text <- unlist(layout)[[1]]\n",
    "    layout_funct <- unlist(layout)[[2]]\n",
    "    \n",
    "    # print(layout_text)\n",
    "    # print(layout_funct)\n",
    "    \n",
    "    # Set up node color based on strength (partially transluscent)\n",
    "    mxscale <- max(V(graph_temp)$strength) ##\n",
    "    cl <- V(graph_temp)$strength / mxscale\n",
    "    # V(subgraph)$color <- rgb(1-cl, 1-cl, 1, alpha = .75)\n",
    "    # V(graph_temp)$color <- rgb(1-cl, 1-cl, 1, alpha = .75)\n",
    "\n",
    "    # Set up more plotting parameters\n",
    "    # Node border color \n",
    "    pcnodes <- which(V(graph_temp)$v27type == 'protein_coding')\n",
    "    npcnodes <- which(V(graph_temp)$v27type != 'protein_coding')\n",
    "    pccol <- rgb(1, 0, 0, alpha = .75)\n",
    "    npccol <- rgb(0, 1, 0, alpha = .75)\n",
    "    node_frames_cols <- vector(mode = \"character\", length = length(pcnodes))\n",
    "    node_frames_cols[pcnodes] <- pccol\n",
    "    node_frames_cols[npcnodes] <- npccol\n",
    "   \n",
    "    ## a fix for label size\n",
    "    V(graph_temp)$label.cex = .1 * scale\n",
    "    E(graph_temp)$label.cex = .1 * scale\n",
    "    \n",
    "    # Set up plot file\n",
    "    # Plot module to a file if a file name is specified\n",
    "    if (filename != 'nofile') pdf(filename, width = xdim, height = ydim)\n",
    "    plot(graph_temp, vertex.frame.color = node_frames_cols, vertex.shape = 'circle',\n",
    "        edge.width = 20 * abs(E(graph_temp)$pcor) * scale, vertex.size = .7 * scale,\n",
    "        main = paste(\"Module Network Plotted Using\", layout_text, sep = ' '),\n",
    "        layout = layout_funct)\n",
    "    if (filename != 'nofile') dev.off()\n",
    "}"
   ]
  },
  {
   "cell_type": "code",
   "execution_count": 328,
   "metadata": {},
   "outputs": [],
   "source": [
    "## This is a modified version of Sara's plot_by_cluster function\n",
    "plot_module_lo <- function(graph_temp, filename = 'nofile', xdim = 6, ydim = 6,\n",
    "                        scale = 1, layout = NULL, genes = NULL, suppress_edges = FALSE){\n",
    "    \n",
    "    # Set up node color based on strength (partially transluscent)\n",
    "    mxscale <- max(V(graph_temp)$strength) ##\n",
    "    cl <- V(graph_temp)$strength / mxscale\n",
    "    # V(subgraph)$color <- rgb(1-cl, 1-cl, 1, alpha = .75)\n",
    "    # V(graph_temp)$color <- rgb(1-cl, 1-cl, 1, alpha = .75)\n",
    "\n",
    "    # Set up more plotting parameters\n",
    "    # Node border color \n",
    "    if (identical(genes, NULL)) {\n",
    "        pcnodes <<- which(V(graph_temp)$v27type == 'protein_coding')\n",
    "        npcnodes <<- which(V(graph_temp)$v27type != 'protein_coding')\n",
    "        pccol <- rgb(1, 0, 0, alpha = .75)\n",
    "        npccol <- rgb(0, 1, 0, alpha = .75)\n",
    "        node_frames_cols <<- vector(mode = \"character\", length = length(V(graph_temp)$v27))\n",
    "        node_frames_cols[pcnodes] <<- pccol\n",
    "        node_frames_cols[npcnodes] <<- npccol\n",
    "    } else {\n",
    "        specialnodes <<- which(V(graph_temp)$v27 %in% genes)\n",
    "        normalnodes <<- which(!(V(graph_temp)$v27 %in% genes))\n",
    "        scol <- rgb(.1, .1, .1, alpha = .7)\n",
    "        ncol <- rgb(1, 1, 0, alpha = .8)\n",
    "        node_frames_cols <<- vector(mode = \"character\", length = length(V(graph_temp)$v27))\n",
    "        node_frames_cols[specialnodes] <<- scol\n",
    "        node_frames_cols[normalnodes] <<- ncol    \n",
    "    }\n",
    "   \n",
    "    ## Fix label sizes\n",
    "    V(graph_temp)$label.cex <- .125\n",
    "    if (suppress_edges) E(graph_temp)$label.cex = .01 else E(graph_temp)$label.cex = .125\n",
    "    \n",
    "    \n",
    "    # Set up plot file\n",
    "    # Plot module to a file if a file name is specified\n",
    "    if (filename != 'nofile') pdf(filename, width = xdim, height = ydim)\n",
    "    plot(graph_temp, vertex.frame.color = node_frames_cols, vertex.shape = 'circle',\n",
    "        edge.width = 40 * abs(E(graph_temp)$pcor), vertex.size = .7 * scale,\n",
    "        main = 'Custom Module Plot', layout = layout)\n",
    "    if (filename != 'nofile') dev.off()\n",
    "}"
   ]
  },
  {
   "cell_type": "code",
   "execution_count": 259,
   "metadata": {},
   "outputs": [],
   "source": [
    "## Read the previously preprocessed downsampled cell set data object\n",
    "setwd(datdir)\n",
    "down_stdycds <- readRDS(file = paste(ps$outdir,\n",
    "            'Aggregated.downsampled.QC.NoDoublets.Repartitioned.rds', sep = ''))"
   ]
  },
  {
   "cell_type": "code",
   "execution_count": 260,
   "metadata": {},
   "outputs": [],
   "source": [
    "## Build a gene short name to gene id (Ensembl) lookup\n",
    "short2geneid <- fData(down_stdycds)@rownames\n",
    "names(short2geneid) <- fData(down_stdycds)@listData$gene_short_name"
   ]
  },
  {
   "cell_type": "code",
   "execution_count": 261,
   "metadata": {},
   "outputs": [],
   "source": [
    "## Build a gene id (Ensembl) to gene short name lookup\n",
    "geneid2short <- fData(down_stdycds)@listData$gene_short_name\n",
    "names(geneid2short) <- fData(down_stdycds)@rownames"
   ]
  },
  {
   "cell_type": "code",
   "execution_count": 262,
   "metadata": {},
   "outputs": [],
   "source": [
    "## Create variables for how cells sets are organized\n",
    "cellgrps <- c('healthy', 'diseased', 'healthy', 'diseased', 'healthy', 'diseased')\n",
    "cellpats <- c('ID Number 1', 'ID Number 1', 'ID Number 2', 'ID Number 2', 'ID Number 3', 'ID Number 3')"
   ]
  },
  {
   "cell_type": "code",
   "execution_count": 263,
   "metadata": {},
   "outputs": [],
   "source": [
    "## Define and Assign Cell Types\n",
    "celltypes6 <- c('1-Macrophages',\n",
    "                '2-Endothelial Cells',\n",
    "                '3-VSMCs',\n",
    "                '4-Natural Killer Cells',\n",
    "                '5-Cytotoxic T Lymphocytes',\n",
    "                '6-B Lymphocytes')"
   ]
  },
  {
   "cell_type": "code",
   "execution_count": 264,
   "metadata": {},
   "outputs": [],
   "source": [
    "## Declare Tom's best genes for definiting cell types\n",
    "toms_markers5 <- c('NRXN1', 'CLU', 'ICAM2',\n",
    "                 'CD14', 'CD68', 'AIF1',\n",
    "                 'VWF', 'EDN1', 'ECSCR',\n",
    "                 'MKI67', 'UBE2C', 'TOP2A',\n",
    "                 'ACTA2', 'TAGLN', 'MYL9',\n",
    "                 'ACKR1', 'SPARCL1', 'PECAM1',\n",
    "                 'CALD1', 'MGP', 'DCN',\n",
    "                 'NKG7', 'XCL1', 'CTSW',\n",
    "                 'CD8A', 'TRAC', 'CD2',\n",
    "                 'MS4A1', 'CD79A', 'BANK1',\n",
    "                 'CD69', 'CXCR4', 'IL7R',\n",
    "                 'LILRA4', 'IRF7', 'CLEC4C',\n",
    "                 'MZB1', 'JCHAIN', 'TNFRSF17',\n",
    "                 'LST1', 'FCGR3B', 'S100A8',\n",
    "                 'TPSAB1', 'CPA3', 'MS4A2')\n",
    "toms_gene_ids5 <- short2geneid[toms_markers5]\n",
    "\n",
    "\n",
    "doug_markers1 <- c('AIF1', 'LYZ', 'FCER1G',  'CD68',\n",
    "                'RNASE1', 'PECAM1', 'IGFBP4', 'ADIRF', \n",
    "                'SOD3', 'MYL9', 'CALD1', 'GSN',\n",
    "                'TYROBP', 'NKG7', 'CTSW', 'CD69',\n",
    "                'CD3D', 'CD2', 'TRBC2', 'TRAC',\n",
    "                'MS4A1', 'CD79A', 'HLA-DQA1', 'CD37')\n",
    "dougs_gene_ids1 <- short2geneid[doug_markers1]\n",
    "\n",
    "ec_mod1_genes <- c('ITLN1', 'FN1', 'OMD', 'S100A4', 'SCX', 'PRELP', 'GDF7', 'TPM2', 'SERPINE2')\n",
    "ec_mod36_genes <- c('IER2', 'FOS')\n",
    "vsmc_mod13_genes <- c('SPP1', 'IBSP', 'POSTN', 'MMP11', 'COL15A1', 'FN1', 'COL4A1', 'SMOC1', 'TIMP1')\n",
    "vsmc_mod31_genes <- c('APOLD1', 'MT1A', 'ZFP36', 'EGR1', 'JUNB', 'FOSB', 'JUN', 'FOS', 'RERGL')\n",
    "ec_mod1_geneids <- short2geneid[ec_mod1_genes]\n",
    "ec_mod36_geneids <- short2geneid[ec_mod36_genes]\n",
    "vsmc_mod13_geneids <- short2geneid[vsmc_mod13_genes]\n",
    "vsmc_mod31_geneids <- short2geneid[vsmc_mod31_genes]\n",
    "# ec_mod1_geneids\n",
    "# ec_mod36_geneids\n",
    "# vsmc_mod13_geneids\n",
    "# vsmc_mod31_geneids"
   ]
  },
  {
   "cell_type": "code",
   "execution_count": 265,
   "metadata": {},
   "outputs": [],
   "source": [
    "## This was a set of constants for testing various network plotting algorithms\n",
    "lon <- c('component_wise', 'layout_as_bipartite', 'layout_as_star',\n",
    "    'layout_as_tree', 'layout_in_circle', 'layout_nicely', 'layout_on_grid',\n",
    "    'layout_on_sphere', 'layout_randomly', 'layout_with_dh', 'layout_with_fr',\n",
    "    'layout_with_gem', 'layout_with_graphopt', 'layout_with_kk', 'layout_with_lgl',\n",
    "    'layout_with_mds', 'layout_with_sugiyama')\n",
    "\n",
    "lo <- c(component_wise, layout_as_bipartite, layout_as_star,\n",
    "    layout_as_tree, layout_in_circle, layout_nicely, layout_on_grid,\n",
    "    layout_on_sphere, layout_randomly, layout_with_dh, layout_with_fr,\n",
    "    layout_with_gem, layout_with_graphopt, layout_with_kk, layout_with_lgl,\n",
    "    layout_with_mds, layout_with_sugiyama)\n",
    "        \n",
    "names(lo) <- c('cw', 'lab', 'las', 'lat', 'lac', 'ln', 'log',\n",
    "                'los', 'lr', 'ldh', 'lfr', 'lgm', 'lgr', 'lkk', 'lgl', 'lwm', 'lws')"
   ]
  },
  {
   "cell_type": "code",
   "execution_count": 266,
   "metadata": {},
   "outputs": [],
   "source": [
    "## The following 3 cells were used to perform custom curated module plots.\n",
    "## Each module plot has to be code to work. Start with p in this cell\n",
    "## which picks the partition. 2 is ECs and 3 is VSMCs. Networks of interest\n",
    "## Are coded into the two vectors vsmc_mods and ec_mods"
   ]
  },
  {
   "cell_type": "code",
   "execution_count": 346,
   "metadata": {},
   "outputs": [
    {
     "name": "stdout",
     "output_type": "stream",
     "text": [
      "[1] \"APOLD1\" \"MT1A\"   \"ZFP36\"  \"EGR1\"   \"JUNB\"   \"FOSB\"   \"JUN\"    \"FOS\"   \n",
      "[9] \"RERGL\" \n"
     ]
    }
   ],
   "source": [
    "## Loop through the EC partition and create module specific network plots\n",
    "## Determine the number of partitions\n",
    "np <- length(celltypes6)\n",
    "diff_exp_qval_cut <- 0.05\n",
    "vsmc_mods <- c(13, 31, 9)\n",
    "ec_mods <- c(1, 36)\n",
    "mod <- 2\n",
    "\n",
    "for (p in 3:3) {\n",
    "    if (p == 2) mods <- ec_mods else mods <- vsmc_mods\n",
    "    if ((p == 2) & (mod == 1)) genes_oi <- ec_mod1_genes\n",
    "    if ((p == 2) & (mod == 2)) genes_oi <- ec_mod36_genes\n",
    "    if ((p == 3) & (mod == 1)) genes_oi <- vsmc_mod13_genes\n",
    "    if ((p == 3) & (mod == 2)) genes_oi <- vsmc_mod31_genes\n",
    "    print(genes_oi)\n",
    "    \n",
    "    setwd(paste(datdir, '/', ps$outdir, celltypes6[p], sep = ''))\n",
    "    \n",
    "    ## Read partition cell data set, expression data, and diff expression data\n",
    "    partn_cds <- readRDS('Partition.Cell.Set.rds')\n",
    "    partn_exp <- t(exprs(partn_cds))\n",
    "    if (file.exists('Diff.AllHealthCoeff.RemoveFail.NoModels.txt'))  {   \n",
    "        de_tab <- read.table('Diff.AllHealthCoeff.RemoveFail.NoModels.txt', header = TRUE,\n",
    "                             stringsAsFactors = FALSE)    \n",
    "        }    \n",
    "    \n",
    "    ## Save everything before plotting    \n",
    "    net2 <- readRDS('Network.20k.rds')\n",
    "    net2_clust <- readRDS('Louvain.Clust.20k.rds')\n",
    "    clust_sc <- readRDS('Louvain.Clust.Score.20k.rds')\n",
    "    \n",
    "    ## Remove DE genes that are duplicates and add vertex attribute with the DE q values\n",
    "    net_genes <- V(net2)$v27\n",
    "    dups <- duplicated(de_tab$gene_short_name)\n",
    "    de_tab_dups <- de_tab$gene_short_name[dups]\n",
    "    dup_idxs <- which(de_tab$gene_short_name %in% de_tab_dups)\n",
    "    idx_2_rmv <- vector(mode = 'integer', length = length(de_tab_dups))\n",
    "    j <- 1\n",
    "    for (i in 1:length(de_tab_dups)) {\n",
    "        if (de_tab$q_value[j] <= de_tab$q_value[j + 1]) idx_2_rmv[i] <- dup_idxs[j + 1]\n",
    "        else idx_2_rmv[i] <- dup_idxs[j]\n",
    "        j <- j + 2\n",
    "    }\n",
    "    de_tab_rmdups <- de_tab[-idx_2_rmv,]\n",
    "    rownames(de_tab_rmdups) <- de_tab_rmdups$gene_short_name\n",
    "    V(net2)$de_qval <- de_tab_rmdups[V(net2)$v27,10]\n",
    "    V(net2)[is.na(V(net2)$de_qval)]$de_qval <- 1\n",
    "    de_tab <- de_tab_rmdups\n",
    "    \n",
    "    ## Get the significant differential expressed terms\n",
    "    qsig <- de_tab %>% filter(q_value < diff_exp_qval_cut) %>% \n",
    "        dplyr::select(gene_short_name, normalized_effect, q_value)\n",
    "    \n",
    "    ## Recolor significant DE genes, inverting red and green from what's in net2\n",
    "    V(net2)$color <- rgb(.5, .5, .5, alpha = .5)  # Gray\n",
    "    valid_de <- dim(qsig)[1]\n",
    "    if (valid_de >= 1) {\n",
    "        gene2ne <- qsig$normalized_effect\n",
    "        names(gene2ne) <- qsig$gene_short_name\n",
    "        gene2ne <- gene2ne/max(abs(gene2ne))\n",
    "        gene2ne_p <- 1 - round(gene2ne[gene2ne > 0], 3)\n",
    "        gene2ne_m <- 1 - round(-gene2ne[gene2ne < 0], 3)\n",
    "\n",
    "        ## These were the original colors used to identify nodes as differentially expressed\n",
    "        #  V(net2)$color[V(net2)$v27 %in% names(gene2ne_p)] <- \n",
    "        #       rgb(1, gene2ne_p[names(gene2ne_p) %in% V(net2)$v27], \n",
    "        #       gene2ne_p[names(gene2ne_p) %in% V(net2)$v27], alpha = .5)\n",
    "        #  V(net2)$color[V(net2)$v27 %in% names(gene2ne_m)] <- \n",
    "        #       rgb(gene2ne_m[names(gene2ne_m) %in% V(net2)$v27], 1,\n",
    "        #       gene2ne_m[names(gene2ne_m) %in% V(net2)$v27], alpha = .5)\n",
    "\n",
    "        V(net2)$color[V(net2)$v27 %in% names(gene2ne_p)] <- \n",
    "            rgb(gene2ne_p[names(gene2ne_p) %in% V(net2)$v27], 1, 1, alpha = .5) # Cyan \n",
    "        \n",
    "        V(net2)$color[V(net2)$v27 %in% names(gene2ne_m)] <-                     # Red\n",
    "            rgb(1, gene2ne_m[names(gene2ne_m) %in% V(net2)$v27],\n",
    "                gene2ne_m[names(gene2ne_m) %in% V(net2)$v27], alpha = .5)\n",
    "        }\n",
    "    \n",
    "\n",
    "    # V(net2)$vertex.frame.size <- 5 # V(net)$size * 2\n",
    "    \n",
    "    ## Scale the expression data for computing Eigengenes (first extract only relavent genes)\n",
    "    scalen_exp <- partn_exp[, V(net2)$name]\n",
    "    scalen_exp <- scale(scalen_exp)\n",
    "    \n",
    "    ## Populate the partition nodes (genes) with their Diff Exp Status\n",
    "    ## +1 is healthy, -1 is diseased, 0 is not significantly differentially expressed\n",
    "    rownames(qsig) <- short2geneid[qsig[,1]]\n",
    "    V(net2)$diffexp <- 0\n",
    "    genes <- V(net2)$name\n",
    "    for (gene in 1:length(genes)) {\n",
    "        de <- qsig[genes[gene],]\n",
    "    if (!is.na(de[1])) {\n",
    "        V(net2)$diffexp[gene] <- (de$normalized_effect > 0) * 2 - 1\n",
    "        }\n",
    "    }\n",
    "\n",
    "    ## Get the module sizes\n",
    "    mod_mems <- membership(net2_clust)\n",
    "    mod_ids <- table(mod_mems)\n",
    "    no_mods <- length(mod_ids)\n",
    "    de_genes <- V(net2)$diffexp\n",
    "    total_degenes <- sum(V(net2)$diffexp != 0)\n",
    "\n",
    "    ## Read the Tabulated Files\n",
    "    mod_de_file <- 'Dense.20k.Network.Module.DE.Analysis.Rev1.txt'\n",
    "    modtypes <- c('integer', 'integer', 'double', 'double', 'double', 'double', 'double',\n",
    "             'integer', 'integer', 'integer', 'integer')\n",
    "    mod_stats2 <- read.table(mod_de_file, row.names = NULL, header = TRUE, sep = '\\t',\n",
    "                             stringsAsFactors = FALSE, colClasses = modtypes)\n",
    "    mod_genes_file <- 'Dense.20k.Network.Module.Genes.Rev1.txt'\n",
    "    part_mod_stats2 <- read.table(mod_genes_file, row.names = NULL, header = TRUE, sep = '\\t',\n",
    "                                   stringsAsFactors = FALSE, quote = '')\n",
    "    \n",
    "}"
   ]
  },
  {
   "cell_type": "code",
   "execution_count": 347,
   "metadata": {},
   "outputs": [
    {
     "data": {
      "text/plain": [
       "\n",
       "  1   2   3   4   5   6   7   8   9  10  11  12  13  14  15  16  17  18  19  20 \n",
       "167 166 183 323 209 245  86 407 348 522 250 160 401  23 287 226 213 422 206 308 \n",
       " 21  22  23  24  25  26  27  28  29  30  31 \n",
       "214 477 257 177 298 160 276  15 108 142 284 "
      ]
     },
     "metadata": {},
     "output_type": "display_data"
    }
   ],
   "source": [
    "## This is the code used to select which module will be plotted. First\n",
    "## the index into the module vector must be selected (1, 2, ... 3), and\n",
    "## then the comparison needs to point to the correct module vector (ec_mods or vsmc_mods)\n",
    "## Get the module to plot\n",
    "# mod <- 3\n",
    "# gm1 <-  induced_subgraph(net2, V(net2)$name[membership(net2_clust) == ec_mods[mod]])\n",
    "gm1 <-  induced_subgraph(net2, V(net2)$name[membership(net2_clust) == mods[mod]])\n",
    "table(membership(net2_clust))"
   ]
  },
  {
   "cell_type": "code",
   "execution_count": 348,
   "metadata": {},
   "outputs": [
    {
     "data": {
      "text/plain": [
       "IGRAPH 1ff391d UNW- 284 378 -- \n",
       "+ attr: name (v/c), v27 (v/c), v27type (v/c), strength (v/n), degree\n",
       "| (v/n), mean (v/n), sd (v/n), cv (v/n), med (v/n), gene (v/c), sdesc\n",
       "| (v/c), ename (v/c), biotype (v/c), chr (v/c), strtpos (v/n), endpos\n",
       "| (v/n), color (v/c), label.cex (v/n), label (v/c), size (v/n), de_qval\n",
       "| (v/n), diffexp (v/n), pcor (e/n), pval (e/n), qval (e/n), lfdr (e/n),\n",
       "| ord (e/n), row (e/n), col (e/n), idx (e/n), arank (e/n), weight\n",
       "| (e/n), color (e/c), label.cex (e/n), width (e/n), label (e/n)\n",
       "+ edges from 1ff391d (vertex names):\n",
       "[1] ENSG00000097021--ENSG00000117632 ENSG00000187513--ENSG00000163909\n",
       "[3] ENSG00000143420--ENSG00000075391 ENSG00000177606--ENSG00000162772\n",
       "+ ... omitted several edges"
      ]
     },
     "metadata": {},
     "output_type": "display_data"
    }
   ],
   "source": [
    "gm1"
   ]
  },
  {
   "cell_type": "code",
   "execution_count": 349,
   "metadata": {},
   "outputs": [
    {
     "name": "stdout",
     "output_type": "stream",
     "text": [
      "[1] 9\n",
      "[1] 47\n",
      "[1] 56\n"
     ]
    }
   ],
   "source": [
    "## This code paramterizes the plot, but also must aligned with the module and partition above\n",
    "## x_pct sets the number nodes (in percentage of genes) to include in the network subset\n",
    "## The ploting algorithm is the variable lt and is usually set to 12.\n",
    "## Two plots are produced, and the plot statmens need to be customized to matach the module\n",
    "## and partition (reference ec_mods or vsmc_mods in the plot statement)\n",
    "## Fix the file names to match x_pct\n",
    "x_pct <- 15\n",
    "st_ord <- order(V(gm1)$strength, decreasing = TRUE)\n",
    "top_x_pct <- V(gm1)$strength[st_ord[as.integer(x_pct/100 * length(V(gm1)$strength))]]\n",
    "con_verts <- V(gm1)$name[V(gm1)$strength >= top_x_pct]\n",
    "diff_verts <- V(gm1)$name[V(gm1)$diffexp != 0]\n",
    "con_diff_verts <- unique(union(con_verts, diff_verts))\n",
    "# print(length(con_verts))\n",
    "# print(length(diff_verts))\n",
    "# print(length(con_diff_verts))\n",
    "\n",
    "adj_verts <- adjacent_vertices(gm1, v = short2geneid[genes_oi])\n",
    "adj_verts <- V(gm1)$name[unique(unlist(adj_verts))]\n",
    "print(length(genes_oi))\n",
    "print(length(adj_verts))\n",
    "print(length(unique(c(genes_oi, adj_verts))))\n",
    "sub_verts2 <- unique(union(short2geneid[genes_oi], adj_verts))\n",
    "\n",
    "gm2 <-  induced_subgraph(gm1, v = sub_verts2)\n",
    "# gm2 <-  induced_subgraph(gm1, v = con_diff_verts)\n",
    "\n",
    "## Version with Fragments (If they Exist)\n",
    "Isolated = which(degree(gm2)==0)\n",
    "gm2 = delete.vertices(gm2, Isolated)\n",
    "lt <- 12\n",
    "loc <- list(lon[lt], lo[lt])\n",
    "\n",
    "## Version with Fragments Removed (If they Existed)\n",
    "# comps <- table(components(gm2)$membership)\n",
    "# biggestcomp <- which(comps == max(comps))[1]\n",
    "# biggestcompverts <- names(components(gm2)$membership[components(gm2)$membership == biggestcomp])\n",
    "# gm3 <- induced_subgraph(gm2, v = biggestcompverts)\n",
    "# plot_module(gm3, paste('Module', mods[mod],\n",
    "#                        '.Test.Plot.Inverted.Rescaled.DEcolors.Trimmed.genes.degree1.wofrags.withoutadj.',\n",
    "#                        unlist(loc)[[1]], '.rev3.pdf', sep = ''),\n",
    "#                         xdim = 30, ydim = 30, scale = 8, layout = loc)"
   ]
  },
  {
   "cell_type": "code",
   "execution_count": 350,
   "metadata": {},
   "outputs": [
    {
     "data": {
      "text/html": [
       "<strong>png:</strong> 2"
      ],
      "text/latex": [
       "\\textbf{png:} 2"
      ],
      "text/markdown": [
       "**png:** 2"
      ],
      "text/plain": [
       "png \n",
       "  2 "
      ]
     },
     "metadata": {},
     "output_type": "display_data"
    }
   ],
   "source": [
    "lo <- as.matrix(read.table('Module.VSMC31.LO1.degree1.coords.rev1.txt', header = FALSE))\n",
    "plotfile <- paste('Module', mods[mod], '.genes.degree1.AutoLayout01.rev1.pdf', sep = '')\n",
    "# plot_module_lo(gm2, layout = lo, genes = genes_oi)\n",
    "plot_module_lo(gm2, file = plotfile, xdim = 9, ydim = 9, scale = 8,\n",
    "               layout = lo, genes = genes_oi, suppress_edges = TRUE)"
   ]
  },
  {
   "cell_type": "code",
   "execution_count": 351,
   "metadata": {},
   "outputs": [
    {
     "data": {
      "text/html": [
       "<strong>png:</strong> 2"
      ],
      "text/latex": [
       "\\textbf{png:} 2"
      ],
      "text/markdown": [
       "**png:** 2"
      ],
      "text/plain": [
       "png \n",
       "  2 "
      ]
     },
     "metadata": {},
     "output_type": "display_data"
    }
   ],
   "source": [
    "lo <- as.matrix(read.table('Module.VSMC31.LO2.degree1.coords.rev1.txt', header = FALSE))\n",
    "plotfile <- paste('Module', mods[mod], '.genes.degree1.AutoLayout02.rev1.pdf', sep = '')\n",
    "# plot_module_lo(gm2, layout = lo, genes = genes_oi)\n",
    "plot_module_lo(gm2, file = plotfile, xdim = 9, ydim = 9, scale = 8,\n",
    "               layout = lo, genes = genes_oi, suppress_edges = FALSE)"
   ]
  },
  {
   "cell_type": "code",
   "execution_count": null,
   "metadata": {},
   "outputs": [],
   "source": []
  }
 ],
 "metadata": {
  "kernelspec": {
   "display_name": "R",
   "language": "R",
   "name": "ir"
  },
  "language_info": {
   "codemirror_mode": "r",
   "file_extension": ".r",
   "mimetype": "text/x-r-source",
   "name": "R",
   "pygments_lexer": "r",
   "version": "3.5.1"
  }
 },
 "nbformat": 4,
 "nbformat_minor": 2
}
