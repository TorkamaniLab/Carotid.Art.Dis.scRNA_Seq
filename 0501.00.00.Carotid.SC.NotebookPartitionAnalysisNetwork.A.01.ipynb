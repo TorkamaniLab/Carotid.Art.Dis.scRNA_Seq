{
 "cells": [
  {
   "cell_type": "code",
   "execution_count": 1,
   "metadata": {},
   "outputs": [],
   "source": [
    "## ---- Partition Cell Set Analysis with Diff Expression Notebooks A ---- 0501.00.00\n",
    "## Load Analysis Parameters (Parm1)\n",
    "## Loop Through Each Partition and Perform Analysis as Follows:\n",
    "## Load Partition Cell Set\n",
    "## Load Partition Differential Expresssion Gene Set Model\n",
    "## Plot Cell Sets as Needed, Like in 0500.00.00, but using original UMAP layout"
   ]
  },
  {
   "cell_type": "code",
   "execution_count": 2,
   "metadata": {},
   "outputs": [],
   "source": [
    "## Create a Working Input and Output Data Directory, If Id Does Not Exist\n",
    "parentdir <- '/gpfs/group/torkamani/devans/'\n",
    "datdir <- paste(parentdir, 'CDC2', sep = '')\n",
    "if (!file.exists(datdir)) {\n",
    "    dir.create(datdir)\n",
    "}\n",
    "setwd(datdir)"
   ]
  },
  {
   "cell_type": "code",
   "execution_count": 3,
   "metadata": {},
   "outputs": [],
   "source": [
    "## Read the parameters file\n",
    "ps <- read.table(file = 'parms.txt', stringsAsFactors = FALSE, header = TRUE)"
   ]
  },
  {
   "cell_type": "code",
   "execution_count": 5,
   "metadata": {},
   "outputs": [],
   "source": [
    "## Load Monocle3 and Seurat Libraries\n",
    "library(monocle3)\n",
    "library(Seurat)\n",
    "library(dplyr)\n",
    "library(magrittr)\n",
    "library(ggplot2)\n",
    "library(gridExtra)\n",
    "library(Matrix)\n",
    "library(rhdf5)\n",
    "library(grid)"
   ]
  },
  {
   "cell_type": "code",
   "execution_count": 6,
   "metadata": {},
   "outputs": [],
   "source": [
    "## Read the previously preprocessed downsampled cell set data object\n",
    "down_stdycds <- readRDS(file = paste(ps$outdir,\n",
    "                    'Aggregated.downsampled.QC.NoDoublets.Repartitioned.rds', sep = ''))"
   ]
  },
  {
   "cell_type": "code",
   "execution_count": 7,
   "metadata": {},
   "outputs": [],
   "source": [
    "## Build a gene short name to gene id (Ensembl) lookup\n",
    "short2geneid <- fData(down_stdycds)@rownames\n",
    "names(short2geneid) <- fData(down_stdycds)@listData$gene_short_name"
   ]
  },
  {
   "cell_type": "code",
   "execution_count": 8,
   "metadata": {},
   "outputs": [],
   "source": [
    "## Build a gene id (Ensembl) to gene short name lookup\n",
    "geneid2short <- fData(down_stdycds)@listData$gene_short_name\n",
    "names(geneid2short) <- fData(down_stdycds)@rownames"
   ]
  },
  {
   "cell_type": "code",
   "execution_count": 9,
   "metadata": {},
   "outputs": [],
   "source": [
    "## Create variables for how cells sets are organized\n",
    "cellgrps <- c('healthy', 'diseased', 'healthy', 'diseased', 'healthy', 'diseased')\n",
    "cellpats <- c('ID Number 1', 'ID Number 1', 'ID Number 2', 'ID Number 2', 'ID Number 3', 'ID Number 3')"
   ]
  },
  {
   "cell_type": "code",
   "execution_count": 10,
   "metadata": {},
   "outputs": [],
   "source": [
    "## Define and Assign Cell Types\n",
    "celltypes6 <- c('1-Macrophages',\n",
    "                '2-Endothelial Cells',\n",
    "                '3-VSMCs',\n",
    "                '4-Natural Killer Cells',\n",
    "                '5-Cytotoxic T Lymphocytes',\n",
    "                '6-B Lymphocytes')"
   ]
  },
  {
   "cell_type": "code",
   "execution_count": 11,
   "metadata": {},
   "outputs": [],
   "source": [
    "## Declare Tom's best genes for definiting cell types\n",
    "toms_markers5 <- c('NRXN1', 'CLU', 'ICAM2',\n",
    "                 'CD14', 'CD68', 'AIF1',\n",
    "                 'VWF', 'EDN1', 'ECSCR',\n",
    "                 'MKI67', 'UBE2C', 'TOP2A',\n",
    "                 'ACTA2', 'TAGLN', 'MYL9',\n",
    "                 'ACKR1', 'SPARCL1', 'PECAM1',\n",
    "                 'CALD1', 'MGP', 'DCN',\n",
    "                 'NKG7', 'XCL1', 'CTSW',\n",
    "                 'CD8A', 'TRAC', 'CD2',\n",
    "                 'MS4A1', 'CD79A', 'BANK1',\n",
    "                 'CD69', 'CXCR4', 'IL7R',\n",
    "                 'LILRA4', 'IRF7', 'CLEC4C',\n",
    "                 'MZB1', 'JCHAIN', 'TNFRSF17',\n",
    "                 'LST1', 'FCGR3B', 'S100A8',\n",
    "                 'TPSAB1', 'CPA3', 'MS4A2')\n",
    "toms_gene_ids5 <- short2geneid[toms_markers5]\n",
    "\n",
    "\n",
    "doug_markers1 <- c('AIF1', 'LYZ', 'FCER1G',  'CD68',\n",
    "                'RNASE1', 'PECAM1', 'IGFBP4', 'ADIRF', \n",
    "                'SOD3', 'MYL9', 'CALD1', 'GSN',\n",
    "                'TYROBP', 'NKG7', 'CTSW', 'CD69',\n",
    "                'CD3D', 'CD2', 'TRBC2', 'TRAC',\n",
    "                'MS4A1', 'CD79A', 'HLA-DQA1', 'CD37')\n",
    "dougs_gene_ids1 <- short2geneid[doug_markers1]"
   ]
  },
  {
   "cell_type": "code",
   "execution_count": 47,
   "metadata": {},
   "outputs": [],
   "source": [
    "## Loop through the partitions and perform analysis, plotting graphs.\n",
    "## and completing differential expression analysis\n",
    "np <- length(celltypes6)\n",
    "gout <- TRUE\n",
    "de <- TRUE\n",
    "pnames <- c('macro', 'ec', 'vsmc', 'nkcells', 'tcells', 'bcells')\n",
    "cellscale <- c(10, 5, 6, 30, 10, 30)\n",
    "for (p in 1:6) {\n",
    "    setwd(paste(datdir, '/', ps$outdir, 'partplots2', sep = ''))\n",
    "    ## Extract partition subset for par\n",
    "    partn_cds <- down_stdycds[, colData(down_stdycds)$assigned_cell_type == celltypes6[p]] \n",
    "    \n",
    "    if (gout) {\n",
    "#         ## Plot the cell set and trajectory of this partition\n",
    "#         g1 <- plot_cells(partn_cds,  group_cells_by=\"partition\",\n",
    "#                show_trajectory_graph = TRUE, reduction_method = \"UMAP\",\n",
    "#                cell_size = 0.1 * cellscale[p], alpha = .4,\n",
    "#                color_cells_by = \"assigned_cell_type\",\n",
    "#                label_cell_groups = TRUE,\n",
    "#                label_leaves=TRUE,\n",
    "#                label_branch_points=TRUE,\n",
    "#                graph_label_size=1.5)\n",
    "#         scf <- c(1, 1, 1, 1, 1, 1)\n",
    "#         aspr <- c(1, 1, 1, 1, 1, 1)        \n",
    "#         pdf('AssignedCellType.With.Trajectory.Rev2.pdf', width = 8 * scf[p] * aspr[p], height = 6 * scf[p])\n",
    "#         print(g1)\n",
    "#         dev.off()\n",
    "    \n",
    "#         ## Plot the new partitions of this partition, colorized by partition\n",
    "#         g2 <- plot_cells(partn_cds,\n",
    "#                color_cells_by=\"partition\", group_cells_by=\"partition\",\n",
    "#                show_trajectory_graph = FALSE, reduction_method = \"UMAP\",\n",
    "#                cell_size = 0.1 * cellscale[p], alpha = .4)\n",
    "    \n",
    "#         scf <- c(1, 1, 1, 1, 1, 1)\n",
    "#         aspr <- c(1, 1, 1, 1, 1, 1)        \n",
    "#         pdf('ColoredbyPartition.Numbered.Rev2.pdf', width = 8 * scf[p] * aspr[p], height = 6 * scf[p])\n",
    "#         print(g2)\n",
    "#         dev.off()\n",
    "        \n",
    "#         ## Plot the new partitions of this partition, colorized by partition, smaller with Legend\n",
    "#         g2l <- plot_cells(partn_cds,\n",
    "#                color_cells_by=\"partition\", group_cells_by=\"partition\",\n",
    "#                show_trajectory_graph = FALSE, reduction_method = \"UMAP\",\n",
    "#                label_cell_groups = FALSE,\n",
    "#                cell_size = 0.1 * cellscale[p], alpha = .4)    \n",
    "#         scf <- c(1, 1, 1, 1, 1, 1)\n",
    "#         aspr <- c(1, 1, 1, 1, 1, 1)   \n",
    "#         pdf('ColoredbyPartition.Numbered.WithLegned.Rev2.pdf', width = 8 * scf[p] * aspr[p], height = 6 * scf[p])\n",
    "#         print(g2l)\n",
    "#         dev.off()\n",
    "    \n",
    "        ## Plot the partitions of this partition, colorized by condition\n",
    "        g3 <- plot_cells(partn_cds, color_cells_by=\"condition\", group_cells_by=\"partition\",\n",
    "               show_trajectory_graph = FALSE, reduction_method = \"UMAP\",\n",
    "               cell_size = 0.1 * cellscale[p], alpha = .4)\n",
    "        scf <- c(1, 1, 1, 1, 1, 1)\n",
    "        aspr <- c(1.2, .5, .55, .85, .9, .85)\n",
    "        file1 <- paste(pnames[p], '.ColoredbyCondition.Numbered.Rev2.pdf', sep = '')\n",
    "        pdf(file1, width = 8 * scf[p] * aspr[p], height = 6 * scf[p])\n",
    "        print(g3)\n",
    "        dev.off()\n",
    "    \n",
    "        ## Plot the partitions of this partition, colorized by condition, smaller with Legend\n",
    "        g3l <- plot_cells(partn_cds, color_cells_by=\"condition\", group_cells_by=\"partition\",\n",
    "               show_trajectory_graph = FALSE, reduction_method = \"UMAP\",\n",
    "               label_cell_groups = FALSE,\n",
    "               cell_size = 0.1 * cellscale[p], alpha = .4)\n",
    "        scf <- c(1, 1, 1, 1, 1, 1)\n",
    "        aspr <- c(1.3, .6, .67, 1, 1, 1) \n",
    "        file2 <- paste(pnames[p], '.ColoredbyCondition.Numbered.WithLegend.Rev2.pdf', sep = '')\n",
    "        pdf(file2, width = 8 * scf[p] * aspr[p], height = 6 * scf[p])\n",
    "        print(g3l)\n",
    "        dev.off()\n",
    "        \n",
    "\n",
    "#         ## Plot the clusters of this partition, colorized by cluster\n",
    "#         g4 <- plot_cells(partn_cds, color_cells_by=\"cluster\", group_cells_by=\"cluster\",\n",
    "#                 show_trajectory_graph = FALSE, reduction_method = \"UMAP\",\n",
    "#                 cell_size = 0.1 * cellscale[p], alpha = .4)\n",
    "#         pdf('ColoredbyCluster.Numbered.Rev2.pdf', width = 8 * scf[p] * aspr[p], height = 6 * scf[p])\n",
    "#         print(g4)\n",
    "#         dev.off()\n",
    "    }\n",
    "}"
   ]
  },
  {
   "cell_type": "code",
   "execution_count": null,
   "metadata": {},
   "outputs": [],
   "source": []
  },
  {
   "cell_type": "code",
   "execution_count": null,
   "metadata": {},
   "outputs": [],
   "source": []
  },
  {
   "cell_type": "code",
   "execution_count": null,
   "metadata": {},
   "outputs": [],
   "source": []
  },
  {
   "cell_type": "code",
   "execution_count": null,
   "metadata": {},
   "outputs": [],
   "source": []
  },
  {
   "cell_type": "code",
   "execution_count": null,
   "metadata": {},
   "outputs": [],
   "source": []
  },
  {
   "cell_type": "code",
   "execution_count": null,
   "metadata": {},
   "outputs": [],
   "source": []
  },
  {
   "cell_type": "code",
   "execution_count": null,
   "metadata": {},
   "outputs": [],
   "source": []
  }
 ],
 "metadata": {
  "kernelspec": {
   "display_name": "R",
   "language": "R",
   "name": "ir"
  },
  "language_info": {
   "codemirror_mode": "r",
   "file_extension": ".r",
   "mimetype": "text/x-r-source",
   "name": "R",
   "pygments_lexer": "r",
   "version": "3.5.1"
  }
 },
 "nbformat": 4,
 "nbformat_minor": 2
}
